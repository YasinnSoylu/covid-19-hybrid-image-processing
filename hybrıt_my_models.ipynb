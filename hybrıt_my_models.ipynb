{
  "metadata": {
    "kernelspec": {
      "language": "python",
      "display_name": "Python 3",
      "name": "python3"
    },
    "language_info": {
      "name": "python",
      "version": "3.7.12",
      "mimetype": "text/x-python",
      "codemirror_mode": {
        "name": "ipython",
        "version": 3
      },
      "pygments_lexer": "ipython3",
      "nbconvert_exporter": "python",
      "file_extension": ".py"
    },
    "colab": {
      "name": "hybrıt-models.ipynb",
      "provenance": [],
      "collapsed_sections": [],
      "include_colab_link": true
    },
    "accelerator": "GPU"
  },
  "nbformat_minor": 0,
  "nbformat": 4,
  "cells": [
    {
      "cell_type": "markdown",
      "metadata": {
        "id": "view-in-github",
        "colab_type": "text"
      },
      "source": [
        "<a href=\"https://colab.research.google.com/github/yasinsoylu1997/TEZZ2/blob/main/hybr%C4%B1t_my_models.ipynb\" target=\"_parent\"><img src=\"https://colab.research.google.com/assets/colab-badge.svg\" alt=\"Open In Colab\"/></a>"
      ]
    },
    {
      "cell_type": "code",
      "source": [
        ""
      ],
      "metadata": {
        "id": "CdooosZISXmr"
      },
      "execution_count": 21,
      "outputs": []
    },
    {
      "cell_type": "code",
      "source": [
        "from google.colab import drive\n",
        "drive.mount('/content/drive')"
      ],
      "metadata": {
        "colab": {
          "base_uri": "https://localhost:8080/"
        },
        "id": "C83NibL1SZ6T",
        "outputId": "0a623644-b1c0-4ef0-fca6-5755697680e0"
      },
      "execution_count": 22,
      "outputs": [
        {
          "output_type": "stream",
          "name": "stdout",
          "text": [
            "Drive already mounted at /content/drive; to attempt to forcibly remount, call drive.mount(\"/content/drive\", force_remount=True).\n"
          ]
        }
      ]
    },
    {
      "cell_type": "code",
      "source": [
        "import seaborn as sns\n",
        "import cv2\n",
        "import numpy as np\n",
        "import matplotlib.pyplot as plt\n",
        "from sklearn.utils import shuffle\n",
        "from sklearn.model_selection import train_test_split\n",
        "import tensorflow as tf\n",
        "from tensorflow.keras import layers\n",
        "import pandas as pd\n",
        "from tensorflow.keras.applications import EfficientNetB0\n",
        "from tensorflow.keras.callbacks import EarlyStopping, ReduceLROnPlateau, TensorBoard, ModelCheckpoint\n",
        "from tensorflow.keras.models import Model, Sequential\n",
        "from tensorflow.keras.layers import Conv2D, MaxPooling2D, AveragePooling2D\n",
        "from tensorflow.keras.layers import Input, Dense, Dropout, Flatten, Activation,Concatenate\n",
        "from tensorflow.keras.layers import BatchNormalization\n",
        "from keras.preprocessing.image import load_img,img_to_array,ImageDataGenerator\n",
        "from tensorflow.keras.applications import VGG16\n",
        "from tqdm import tqdm\n",
        "import os\n",
        "from sklearn.utils import shuffle\n",
        "from sklearn.metrics import classification_report,confusion_matrix\n",
        "import keras\n",
        "import keras.utils\n",
        "from keras import utils as np_utils\n",
        "import ipywidgets as widgets\n",
        "import io\n",
        "from PIL import Image\n",
        "from IPython.display import display,clear_output\n",
        "from warnings import filterwarnings\n",
        "#!pip install visualkeras\n",
        "import numpy as np \n",
        "import matplotlib.pyplot as plt\n",
        "import glob\n",
        "import cv2\n",
        "\n",
        "from keras.models import Model, Sequential\n",
        "from keras.layers import Dense, Flatten, Conv2D, MaxPooling2D\n",
        "import os\n",
        "!pip install visualkeras\n"
      ],
      "metadata": {
        "_uuid": "8f2839f25d086af736a60e9eeb907d3b93b6e0e5",
        "_cell_guid": "b1076dfc-b9ad-4769-8c92-a6c4dae69d19",
        "execution": {
          "iopub.status.busy": "2022-05-15T14:55:26.574352Z",
          "iopub.execute_input": "2022-05-15T14:55:26.574702Z",
          "iopub.status.idle": "2022-05-15T14:55:39.474943Z",
          "shell.execute_reply.started": "2022-05-15T14:55:26.574608Z",
          "shell.execute_reply": "2022-05-15T14:55:39.473961Z"
        },
        "trusted": true,
        "colab": {
          "base_uri": "https://localhost:8080/"
        },
        "id": "LDF7VxtNSU--",
        "outputId": "c1109151-d848-4aef-c5a5-5e288cc31cff"
      },
      "execution_count": 23,
      "outputs": [
        {
          "output_type": "stream",
          "name": "stdout",
          "text": [
            "Requirement already satisfied: visualkeras in /usr/local/lib/python3.7/dist-packages (0.0.2)\n",
            "Requirement already satisfied: numpy>=1.18.1 in /usr/local/lib/python3.7/dist-packages (from visualkeras) (1.21.6)\n",
            "Requirement already satisfied: pillow>=6.2.0 in /usr/local/lib/python3.7/dist-packages (from visualkeras) (7.1.2)\n",
            "Requirement already satisfied: aggdraw>=1.3.11 in /usr/local/lib/python3.7/dist-packages (from visualkeras) (1.3.14)\n"
          ]
        }
      ]
    },
    {
      "cell_type": "code",
      "source": [
        "labels = ['Lung_Opacity','COVID','Normal','Viral Pneumonia']"
      ],
      "metadata": {
        "execution": {
          "iopub.status.busy": "2022-05-15T14:55:39.477244Z",
          "iopub.execute_input": "2022-05-15T14:55:39.477558Z",
          "iopub.status.idle": "2022-05-15T14:55:39.483688Z",
          "shell.execute_reply.started": "2022-05-15T14:55:39.477516Z",
          "shell.execute_reply": "2022-05-15T14:55:39.482854Z"
        },
        "trusted": true,
        "id": "xXiwnYF4SU_A"
      },
      "execution_count": 24,
      "outputs": []
    },
    {
      "cell_type": "code",
      "source": [
        "X = []\n",
        "y = []\n",
        "image_size = 32\n",
        "for i in labels:\n",
        "    folderPath = os.path.join('/content/drive/MyDrive/tezz3/COVID-19_Radiography_Dataset_masked',i)\n",
        "    for j in tqdm(os.listdir(folderPath)):\n",
        "        img = cv2.imread(os.path.join(folderPath,j))\n",
        "        img = cv2.resize(img,(image_size, image_size))\n",
        "        X.append(img)\n",
        "        y.append(i)\n",
        "\n",
        "        \n",
        "X = np.array(X)\n",
        "y = np.array(y)"
      ],
      "metadata": {
        "execution": {
          "iopub.status.busy": "2022-05-15T14:55:39.485622Z",
          "iopub.execute_input": "2022-05-15T14:55:39.486216Z",
          "iopub.status.idle": "2022-05-15T14:56:16.727637Z",
          "shell.execute_reply.started": "2022-05-15T14:55:39.486176Z",
          "shell.execute_reply": "2022-05-15T14:56:16.726824Z"
        },
        "trusted": true,
        "colab": {
          "base_uri": "https://localhost:8080/"
        },
        "id": "qfSmmsE2SU_B",
        "outputId": "839aa1a8-1a43-46c6-b36a-cbf85ec67158"
      },
      "execution_count": 25,
      "outputs": [
        {
          "output_type": "stream",
          "name": "stderr",
          "text": [
            "100%|██████████| 6012/6012 [00:42<00:00, 142.64it/s]\n",
            "100%|██████████| 3616/3616 [00:19<00:00, 181.70it/s]\n",
            "100%|██████████| 10192/10192 [00:51<00:00, 199.19it/s]\n",
            "100%|██████████| 1345/1345 [00:06<00:00, 193.69it/s]\n"
          ]
        }
      ]
    },
    {
      "cell_type": "code",
      "source": [
        "from imblearn.over_sampling import RandomOverSampler\n",
        "reshaped_X = X.reshape(X.shape[0],-1)\n",
        "\n",
        "#oversampling\n",
        "oversample = RandomOverSampler()\n",
        "oversampled_X, oversampled_y  = oversample.fit_resample(reshaped_X , y)\n",
        "\n",
        "# reshaping X back to the first dims\n",
        "new_X = oversampled_X.reshape(-1,32,32,3)\n",
        "oversampled_y\n"
      ],
      "metadata": {
        "execution": {
          "iopub.status.busy": "2022-05-15T14:57:57.433919Z",
          "iopub.execute_input": "2022-05-15T14:57:57.434394Z",
          "iopub.status.idle": "2022-05-15T14:57:57.549170Z",
          "shell.execute_reply.started": "2022-05-15T14:57:57.434355Z",
          "shell.execute_reply": "2022-05-15T14:57:57.548089Z"
        },
        "trusted": true,
        "colab": {
          "base_uri": "https://localhost:8080/"
        },
        "id": "3Eq7H0kZSU_B",
        "outputId": "f1fd9275-e238-4e26-a28c-e66382464daf"
      },
      "execution_count": 26,
      "outputs": [
        {
          "output_type": "execute_result",
          "data": {
            "text/plain": [
              "array(['Lung_Opacity', 'Lung_Opacity', 'Lung_Opacity', ...,\n",
              "       'Viral Pneumonia', 'Viral Pneumonia', 'Viral Pneumonia'],\n",
              "      dtype='<U15')"
            ]
          },
          "metadata": {},
          "execution_count": 26
        }
      ]
    },
    {
      "cell_type": "code",
      "source": [
        ""
      ],
      "metadata": {
        "id": "pIv9v8rVq6k_"
      },
      "execution_count": 26,
      "outputs": []
    },
    {
      "cell_type": "code",
      "source": [
        "train_images, test_images,train_labels, test_labels = train_test_split(new_X , oversampled_y , test_size=0.25, random_state=42,shuffle=True)"
      ],
      "metadata": {
        "execution": {
          "iopub.status.busy": "2022-05-15T14:57:59.446665Z",
          "iopub.execute_input": "2022-05-15T14:57:59.446952Z",
          "iopub.status.idle": "2022-05-15T14:57:59.495898Z",
          "shell.execute_reply.started": "2022-05-15T14:57:59.446917Z",
          "shell.execute_reply": "2022-05-15T14:57:59.495109Z"
        },
        "trusted": true,
        "id": "PZoGcaKZSU_C"
      },
      "execution_count": 27,
      "outputs": []
    },
    {
      "cell_type": "code",
      "source": [
        "train_images=train_images[:1500]\n",
        "test_images=test_images[:1500]\n",
        "train_labels=train_labels[:1500]\n",
        "test_labels=test_labels[:1500]\n"
      ],
      "metadata": {
        "execution": {
          "iopub.status.busy": "2022-05-15T14:58:02.975261Z",
          "iopub.execute_input": "2022-05-15T14:58:02.975548Z",
          "iopub.status.idle": "2022-05-15T14:58:02.978633Z",
          "shell.execute_reply.started": "2022-05-15T14:58:02.975517Z",
          "shell.execute_reply": "2022-05-15T14:58:02.977953Z"
        },
        "trusted": true,
        "id": "bSP_bGgRSU_C"
      },
      "execution_count": 28,
      "outputs": []
    },
    {
      "cell_type": "code",
      "source": [
        "plt.figure(figsize = (17,8));\n",
        "lis = ['Train', 'Test']\n",
        "for i,j in enumerate([train_labels, test_labels]):\n",
        "    plt.subplot(1,2, i+1);\n",
        "    sns.countplot(x = j);\n",
        "    plt.xlabel(lis[i])"
      ],
      "metadata": {
        "execution": {
          "iopub.status.busy": "2022-05-15T14:58:03.449200Z",
          "iopub.execute_input": "2022-05-15T14:58:03.449798Z",
          "iopub.status.idle": "2022-05-15T14:58:03.734615Z",
          "shell.execute_reply.started": "2022-05-15T14:58:03.449761Z",
          "shell.execute_reply": "2022-05-15T14:58:03.733927Z"
        },
        "trusted": true,
        "colab": {
          "base_uri": "https://localhost:8080/",
          "height": 498
        },
        "id": "sxUlJbnpSU_C",
        "outputId": "bd5d77f8-61a1-4fcf-8b73-1f6e4245b6eb"
      },
      "execution_count": 29,
      "outputs": [
        {
          "output_type": "display_data",
          "data": {
            "text/plain": [
              "<Figure size 1224x576 with 2 Axes>"
            ],
            "image/png": "[encoded data removed]"
          },
          "metadata": {
            "needs_background": "light"
          }
        }
      ]
    },
    {
      "cell_type": "code",
      "source": [
        "train_images = train_images / 255.0\n",
        "test_images = test_images / 255.0"
      ],
      "metadata": {
        "execution": {
          "iopub.status.busy": "2022-05-15T14:58:27.875837Z",
          "iopub.execute_input": "2022-05-15T14:58:27.876488Z",
          "iopub.status.idle": "2022-05-15T14:58:28.217242Z",
          "shell.execute_reply.started": "2022-05-15T14:58:27.876444Z",
          "shell.execute_reply": "2022-05-15T14:58:28.216381Z"
        },
        "trusted": true,
        "id": "PQjY6y6XSU_D"
      },
      "execution_count": 30,
      "outputs": []
    },
    {
      "cell_type": "code",
      "source": [
        "from sklearn import preprocessing\n",
        "le = preprocessing.LabelEncoder()\n",
        "le.fit(test_labels)\n",
        "test_labels_encoded = le.transform(test_labels)\n",
        "le.fit(train_labels)\n",
        "train_labels_encoded = le.transform(train_labels)"
      ],
      "metadata": {
        "execution": {
          "iopub.status.busy": "2022-05-15T14:58:28.417512Z",
          "iopub.execute_input": "2022-05-15T14:58:28.417800Z",
          "iopub.status.idle": "2022-05-15T14:58:28.466996Z",
          "shell.execute_reply.started": "2022-05-15T14:58:28.417768Z",
          "shell.execute_reply": "2022-05-15T14:58:28.466188Z"
        },
        "trusted": true,
        "id": "1BaiF8S_SU_E"
      },
      "execution_count": 31,
      "outputs": []
    },
    {
      "cell_type": "code",
      "source": [
        "#Split data into test and train datasets (already split but assigning to meaningful convention)\n",
        "x_train, y_train, x_test, y_test = train_images, train_labels_encoded, test_images, test_labels_encoded"
      ],
      "metadata": {
        "execution": {
          "iopub.status.busy": "2022-05-15T14:58:30.769535Z",
          "iopub.execute_input": "2022-05-15T14:58:30.770331Z",
          "iopub.status.idle": "2022-05-15T14:58:30.774483Z",
          "shell.execute_reply.started": "2022-05-15T14:58:30.770282Z",
          "shell.execute_reply": "2022-05-15T14:58:30.773713Z"
        },
        "trusted": true,
        "id": "2cX2vDAwSU_F"
      },
      "execution_count": 32,
      "outputs": []
    },
    {
      "cell_type": "code",
      "source": [
        "#One hot encode y values for neural network. \n",
        "from tensorflow.keras.utils import to_categorical\n",
        "y_train_one_hot = to_categorical(y_train)\n",
        "y_test_one_hot = to_categorical(y_test)"
      ],
      "metadata": {
        "execution": {
          "iopub.status.busy": "2022-05-15T14:58:31.432485Z",
          "iopub.execute_input": "2022-05-15T14:58:31.433407Z",
          "iopub.status.idle": "2022-05-15T14:58:31.440353Z",
          "shell.execute_reply.started": "2022-05-15T14:58:31.433352Z",
          "shell.execute_reply": "2022-05-15T14:58:31.439471Z"
        },
        "trusted": true,
        "id": "YNxPMT_HSU_F"
      },
      "execution_count": 33,
      "outputs": []
    },
    {
      "cell_type": "code",
      "source": [
        "y_test_one_hot"
      ],
      "metadata": {
        "execution": {
          "iopub.status.busy": "2022-05-15T14:58:33.033561Z",
          "iopub.execute_input": "2022-05-15T14:58:33.034076Z",
          "iopub.status.idle": "2022-05-15T14:58:33.041346Z",
          "shell.execute_reply.started": "2022-05-15T14:58:33.034036Z",
          "shell.execute_reply": "2022-05-15T14:58:33.040447Z"
        },
        "trusted": true,
        "colab": {
          "base_uri": "https://localhost:8080/"
        },
        "id": "kNr8A_TiSU_G",
        "outputId": "46c1bf21-a18e-4dd6-b7f3-83a699233f83"
      },
      "execution_count": 34,
      "outputs": [
        {
          "output_type": "execute_result",
          "data": {
            "text/plain": [
              "array([[1., 0., 0., 0.],\n",
              "       [0., 1., 0., 0.],\n",
              "       [0., 1., 0., 0.],\n",
              "       ...,\n",
              "       [0., 0., 1., 0.],\n",
              "       [0., 0., 0., 1.],\n",
              "       [0., 0., 0., 1.]], dtype=float32)"
            ]
          },
          "metadata": {},
          "execution_count": 34
        }
      ]
    },
    {
      "cell_type": "code",
      "source": [
        "activation = 'relu'\n",
        "\n",
        "feature_extractor = Sequential()\n",
        "feature_extractor.add(Conv2D(32, 3, activation = activation, padding = 'same', input_shape = (32, 32, 3)))\n",
        "feature_extractor.add(BatchNormalization())\n",
        "\n",
        "feature_extractor.add(Conv2D(32, 3, activation = activation, padding = 'same', kernel_initializer = 'he_uniform'))\n",
        "feature_extractor.add(BatchNormalization())\n",
        "feature_extractor.add(MaxPooling2D())\n",
        "\n",
        "feature_extractor.add(Conv2D(64, 3, activation = activation, padding = 'same', kernel_initializer = 'he_uniform'))\n",
        "feature_extractor.add(BatchNormalization())\n",
        "\n",
        "feature_extractor.add(Conv2D(64, 3, activation = activation, padding = 'same', kernel_initializer = 'he_uniform'))\n",
        "feature_extractor.add(BatchNormalization())\n",
        "feature_extractor.add(MaxPooling2D())\n",
        "\n",
        "feature_extractor.add(Flatten())"
      ],
      "metadata": {
        "execution": {
          "iopub.status.busy": "2022-05-15T14:58:33.843456Z",
          "iopub.execute_input": "2022-05-15T14:58:33.844114Z",
          "iopub.status.idle": "2022-05-15T14:58:35.053601Z",
          "shell.execute_reply.started": "2022-05-15T14:58:33.844072Z",
          "shell.execute_reply": "2022-05-15T14:58:35.052714Z"
        },
        "trusted": true,
        "id": "kiIVltCkSU_G"
      },
      "execution_count": 35,
      "outputs": []
    },
    {
      "cell_type": "code",
      "source": [
        "#Add layers for deep learning prediction\n",
        "x = feature_extractor.output  \n",
        "x = Dense(128, activation = activation, kernel_initializer = 'he_uniform')(x)\n",
        "prediction_layer = Dense(4, activation = 'softmax')(x)"
      ],
      "metadata": {
        "execution": {
          "iopub.status.busy": "2022-05-15T14:58:35.057978Z",
          "iopub.execute_input": "2022-05-15T14:58:35.058831Z",
          "iopub.status.idle": "2022-05-15T14:58:35.082652Z",
          "shell.execute_reply.started": "2022-05-15T14:58:35.058775Z",
          "shell.execute_reply": "2022-05-15T14:58:35.081952Z"
        },
        "trusted": true,
        "id": "1SRNtB9ISU_H"
      },
      "execution_count": 36,
      "outputs": []
    },
    {
      "cell_type": "code",
      "source": [
        "# Make a new model combining both feature extractor and x\n",
        "cnn_model = Model(inputs=feature_extractor.input, outputs=prediction_layer)\n",
        "cnn_model.compile(optimizer='adam',loss = 'categorical_crossentropy', metrics = ['accuracy'])\n",
        "print(cnn_model.summary())"
      ],
      "metadata": {
        "execution": {
          "iopub.status.busy": "2022-05-15T14:58:35.266333Z",
          "iopub.execute_input": "2022-05-15T14:58:35.266600Z",
          "iopub.status.idle": "2022-05-15T14:58:35.295146Z",
          "shell.execute_reply.started": "2022-05-15T14:58:35.266569Z",
          "shell.execute_reply": "2022-05-15T14:58:35.294341Z"
        },
        "trusted": true,
        "colab": {
          "base_uri": "https://localhost:8080/"
        },
        "id": "Hcm1zJ4bSU_H",
        "outputId": "4ba3bbe4-bd24-434c-eaee-18a1e46d552f"
      },
      "execution_count": 37,
      "outputs": [
        {
          "output_type": "stream",
          "name": "stdout",
          "text": [
            "Model: \"model_1\"\n",
            "_________________________________________________________________\n",
            " Layer (type)                Output Shape              Param #   \n",
            "=================================================================\n",
            " conv2d_4_input (InputLayer)  [(None, 32, 32, 3)]      0         \n",
            "                                                                 \n",
            " conv2d_4 (Conv2D)           (None, 32, 32, 32)        896       \n",
            "                                                                 \n",
            " batch_normalization_4 (Batc  (None, 32, 32, 32)       128       \n",
            " hNormalization)                                                 \n",
            "                                                                 \n",
            " conv2d_5 (Conv2D)           (None, 32, 32, 32)        9248      \n",
            "                                                                 \n",
            " batch_normalization_5 (Batc  (None, 32, 32, 32)       128       \n",
            " hNormalization)                                                 \n",
            "                                                                 \n",
            " max_pooling2d_2 (MaxPooling  (None, 16, 16, 32)       0         \n",
            " 2D)                                                             \n",
            "                                                                 \n",
            " conv2d_6 (Conv2D)           (None, 16, 16, 64)        18496     \n",
            "                                                                 \n",
            " batch_normalization_6 (Batc  (None, 16, 16, 64)       256       \n",
            " hNormalization)                                                 \n",
            "                                                                 \n",
            " conv2d_7 (Conv2D)           (None, 16, 16, 64)        36928     \n",
            "                                                                 \n",
            " batch_normalization_7 (Batc  (None, 16, 16, 64)       256       \n",
            " hNormalization)                                                 \n",
            "                                                                 \n",
            " max_pooling2d_3 (MaxPooling  (None, 8, 8, 64)         0         \n",
            " 2D)                                                             \n",
            "                                                                 \n",
            " flatten_1 (Flatten)         (None, 4096)              0         \n",
            "                                                                 \n",
            " dense_2 (Dense)             (None, 128)               524416    \n",
            "                                                                 \n",
            " dense_3 (Dense)             (None, 4)                 516       \n",
            "                                                                 \n",
            "=================================================================\n",
            "Total params: 591,268\n",
            "Trainable params: 590,884\n",
            "Non-trainable params: 384\n",
            "_________________________________________________________________\n",
            "None\n"
          ]
        }
      ]
    },
    {
      "cell_type": "code",
      "source": [
        "from keras.utils.vis_utils import plot_model\n",
        "\n",
        "plot_model(cnn_model, to_file='model_plot.png', show_shapes=True, show_layer_names=True,dpi=50)"
      ],
      "metadata": {
        "execution": {
          "iopub.status.busy": "2022-05-15T14:58:36.806036Z",
          "iopub.execute_input": "2022-05-15T14:58:36.806734Z",
          "iopub.status.idle": "2022-05-15T14:58:36.967714Z",
          "shell.execute_reply.started": "2022-05-15T14:58:36.806693Z",
          "shell.execute_reply": "2022-05-15T14:58:36.966822Z"
        },
        "trusted": true,
        "colab": {
          "base_uri": "https://localhost:8080/",
          "height": 805
        },
        "id": "-DQB9cTuSU_I",
        "outputId": "f3725390-6813-46a4-ce34-ccb2d28758b8"
      },
      "execution_count": 38,
      "outputs": [
        {
          "output_type": "execute_result",
          "data": {
            "text/plain": [
              "<IPython.core.display.Image object>"
            ],
            "image/png": "[encoded data removed]"
          },
          "metadata": {},
          "execution_count": 38
        }
      ]
    },
    {
      "cell_type": "code",
      "source": [
        "import visualkeras\n",
        "from PIL import ImageFont\n",
        "plt.figure(figsize=(2, 2))\n",
        "visualkeras.layered_view(cnn_model, legend=True,spacing=15,scale_xy = 10 , scale_z = 10, max_z = 50) "
      ],
      "metadata": {
        "execution": {
          "iopub.status.busy": "2022-05-15T15:05:39.497363Z",
          "iopub.execute_input": "2022-05-15T15:05:39.497654Z",
          "iopub.status.idle": "2022-05-15T15:05:39.548621Z",
          "shell.execute_reply.started": "2022-05-15T15:05:39.497624Z",
          "shell.execute_reply": "2022-05-15T15:05:39.547455Z"
        },
        "trusted": true,
        "colab": {
          "base_uri": "https://localhost:8080/",
          "height": 497
        },
        "id": "DJbNwzvySU_I",
        "outputId": "bc98cb8e-81eb-4836-f9bc-70c2a3e44eca"
      },
      "execution_count": 39,
      "outputs": [
        {
          "output_type": "execute_result",
          "data": {
            "text/plain": [
              "<PIL.Image.Image image mode=RGBA size=942x463 at 0x7EFD906C02D0>"
            ],
            "image/png": "[encoded data removed]"
          },
          "metadata": {},
          "execution_count": 39
        },
        {
          "output_type": "display_data",
          "data": {
            "text/plain": [
              "<Figure size 144x144 with 0 Axes>"
            ]
          },
          "metadata": {}
        }
      ]
    },
    {
      "cell_type": "code",
      "source": [
        "checkpoint = ModelCheckpoint(\"cnn.h5\",monitor=\"val_accuracy\",save_best_only=True,mode=\"auto\",verbose=1)\n",
        "reduce_lr = ReduceLROnPlateau(monitor = 'val_accuracy', factor = 0.3, patience = 4, min_delta = 0.001,mode='auto',verbose=1)\n",
        "early_stop=tf.keras.callbacks.EarlyStopping( monitor=\"val_accuracy\",patience=4,verbose=1,mode=\"auto\",)"
      ],
      "metadata": {
        "execution": {
          "iopub.status.busy": "2022-05-15T15:05:57.679122Z",
          "iopub.execute_input": "2022-05-15T15:05:57.679862Z",
          "iopub.status.idle": "2022-05-15T15:05:57.686334Z",
          "shell.execute_reply.started": "2022-05-15T15:05:57.679826Z",
          "shell.execute_reply": "2022-05-15T15:05:57.685585Z"
        },
        "trusted": true,
        "id": "DcJxGxu4SU_J"
      },
      "execution_count": 40,
      "outputs": []
    },
    {
      "cell_type": "code",
      "source": [
        "#Train the CNN model\n",
        "history = cnn_model.fit(x_train, y_train_one_hot, epochs=100, validation_data = (x_test, y_test_one_hot),batch_size=8,callbacks=[checkpoint,reduce_lr,early_stop])"
      ],
      "metadata": {
        "execution": {
          "iopub.status.busy": "2022-05-15T15:05:58.574465Z",
          "iopub.execute_input": "2022-05-15T15:05:58.574731Z"
        },
        "trusted": true,
        "colab": {
          "base_uri": "https://localhost:8080/"
        },
        "id": "Dl9xaPPcSU_J",
        "outputId": "de252ef8-55ba-46a0-d0f3-b39dbf96cc8f"
      },
      "execution_count": 41,
      "outputs": [
        {
          "output_type": "stream",
          "name": "stdout",
          "text": [
            "Epoch 1/100\n",
            "188/188 [==============================] - ETA: 0s - loss: 1.2112 - accuracy: 0.5567\n",
            "Epoch 1: val_accuracy improved from -inf to 0.25600, saving model to cnn.h5\n",
            "188/188 [==============================] - 24s 124ms/step - loss: 1.2112 - accuracy: 0.5567 - val_loss: 2.8039 - val_accuracy: 0.2560 - lr: 0.0010\n",
            "Epoch 2/100\n",
            "188/188 [==============================] - ETA: 0s - loss: 0.7433 - accuracy: 0.6933\n",
            "Epoch 2: val_accuracy improved from 0.25600 to 0.46067, saving model to cnn.h5\n",
            "188/188 [==============================] - 25s 136ms/step - loss: 0.7433 - accuracy: 0.6933 - val_loss: 1.3103 - val_accuracy: 0.4607 - lr: 0.0010\n",
            "Epoch 3/100\n",
            "187/188 [============================>.] - ETA: 0s - loss: 0.6268 - accuracy: 0.7333\n",
            "Epoch 3: val_accuracy improved from 0.46067 to 0.67133, saving model to cnn.h5\n",
            "188/188 [==============================] - 16s 84ms/step - loss: 0.6277 - accuracy: 0.7333 - val_loss: 0.7716 - val_accuracy: 0.6713 - lr: 0.0010\n",
            "Epoch 4/100\n",
            "187/188 [============================>.] - ETA: 0s - loss: 0.5253 - accuracy: 0.7814\n",
            "Epoch 4: val_accuracy improved from 0.67133 to 0.67267, saving model to cnn.h5\n",
            "188/188 [==============================] - 14s 74ms/step - loss: 0.5268 - accuracy: 0.7800 - val_loss: 0.8126 - val_accuracy: 0.6727 - lr: 0.0010\n",
            "Epoch 5/100\n",
            "187/188 [============================>.] - ETA: 0s - loss: 0.4602 - accuracy: 0.8115\n",
            "Epoch 5: val_accuracy improved from 0.67267 to 0.69267, saving model to cnn.h5\n",
            "188/188 [==============================] - 14s 74ms/step - loss: 0.4599 - accuracy: 0.8120 - val_loss: 0.7381 - val_accuracy: 0.6927 - lr: 0.0010\n",
            "Epoch 6/100\n",
            "187/188 [============================>.] - ETA: 0s - loss: 0.4246 - accuracy: 0.8262\n",
            "Epoch 6: val_accuracy improved from 0.69267 to 0.70333, saving model to cnn.h5\n",
            "188/188 [==============================] - 14s 74ms/step - loss: 0.4245 - accuracy: 0.8260 - val_loss: 0.8424 - val_accuracy: 0.7033 - lr: 0.0010\n",
            "Epoch 7/100\n",
            "187/188 [============================>.] - ETA: 0s - loss: 0.3671 - accuracy: 0.8543\n",
            "Epoch 7: val_accuracy did not improve from 0.70333\n",
            "188/188 [==============================] - 14s 74ms/step - loss: 0.3676 - accuracy: 0.8540 - val_loss: 0.8933 - val_accuracy: 0.6913 - lr: 0.0010\n",
            "Epoch 8/100\n",
            "187/188 [============================>.] - ETA: 0s - loss: 0.2923 - accuracy: 0.8957\n",
            "Epoch 8: val_accuracy did not improve from 0.70333\n",
            "188/188 [==============================] - 14s 74ms/step - loss: 0.2919 - accuracy: 0.8960 - val_loss: 0.9796 - val_accuracy: 0.7000 - lr: 0.0010\n",
            "Epoch 9/100\n",
            "187/188 [============================>.] - ETA: 0s - loss: 0.1897 - accuracy: 0.9305\n",
            "Epoch 9: val_accuracy did not improve from 0.70333\n",
            "188/188 [==============================] - 15s 80ms/step - loss: 0.1909 - accuracy: 0.9300 - val_loss: 0.9759 - val_accuracy: 0.6913 - lr: 0.0010\n",
            "Epoch 10/100\n",
            "187/188 [============================>.] - ETA: 0s - loss: 0.1895 - accuracy: 0.9205\n",
            "Epoch 10: val_accuracy did not improve from 0.70333\n",
            "\n",
            "Epoch 10: ReduceLROnPlateau reducing learning rate to 0.0003000000142492354.\n",
            "188/188 [==============================] - 14s 75ms/step - loss: 0.1923 - accuracy: 0.9193 - val_loss: 1.1818 - val_accuracy: 0.6673 - lr: 0.0010\n",
            "Epoch 10: early stopping\n"
          ]
        }
      ]
    },
    {
      "cell_type": "code",
      "source": [
        "#plot the training and validation accuracy and loss at each epoch\n",
        "loss = history.history['loss']\n",
        "val_loss = history.history['val_loss']\n",
        "epochs = range(1, len(loss) + 1)\n",
        "plt.plot(epochs, loss, 'y', label='Training loss')\n",
        "plt.plot(epochs, val_loss, 'r', label='Validation loss')\n",
        "plt.title('Training and validation loss')\n",
        "plt.xlabel('Epochs')\n",
        "plt.ylabel('Loss')\n",
        "plt.legend()\n",
        "plt.show()\n",
        "\n",
        "\n",
        "#plot the training and validation accuracy and loss at each epoch\n",
        "loss = history.history['accuracy']\n",
        "val_loss = history.history['val_accuracy']\n",
        "epochs = range(1, len(loss) + 1)\n",
        "plt.plot(epochs, loss, 'y', label='Training accuracy')\n",
        "plt.plot(epochs, val_loss, 'r', label='Validation accuracy')\n",
        "plt.title('Training and validation accuracy')\n",
        "plt.xlabel('Epochs')\n",
        "plt.ylabel('Loss')\n",
        "plt.legend()\n",
        "plt.show()"
      ],
      "metadata": {
        "trusted": true,
        "colab": {
          "base_uri": "https://localhost:8080/",
          "height": 573
        },
        "id": "pHpEnXdISU_J",
        "outputId": "bbcd30f2-56a1-4af1-bc50-c5867bfe19df"
      },
      "execution_count": 42,
      "outputs": [
        {
          "output_type": "display_data",
          "data": {
            "text/plain": [
              "<Figure size 432x288 with 1 Axes>"
            ],
            "image/png": "[encoded data removed]"
          },
          "metadata": {
            "needs_background": "light"
          }
        },
        {
          "output_type": "display_data",
          "data": {
            "text/plain": [
              "<Figure size 432x288 with 1 Axes>"
            ],
            "image/png": "[encoded data removed]"
          },
          "metadata": {
            "needs_background": "light"
          }
        }
      ]
    },
    {
      "cell_type": "code",
      "source": [
        "from keras.models import load_model\n",
        "\n",
        "cnn_model = load_model('cnn.h5')"
      ],
      "metadata": {
        "trusted": true,
        "id": "-rxqmvNwSU_K"
      },
      "execution_count": 43,
      "outputs": []
    },
    {
      "cell_type": "code",
      "source": [
        "prediction_NN = cnn_model.predict(x_test)\n",
        "prediction_NN = np.argmax(prediction_NN, axis=-1)\n",
        "prediction_NN = le.inverse_transform(prediction_NN)"
      ],
      "metadata": {
        "trusted": true,
        "id": "WrkM3pyOSU_K"
      },
      "execution_count": 44,
      "outputs": []
    },
    {
      "cell_type": "code",
      "source": [
        "#Confusion Matrix - verify accuracy of each class\n",
        "from sklearn.metrics import confusion_matrix\n",
        "cm = confusion_matrix(test_labels, prediction_NN)\n",
        "print(cm)\n",
        "sns.heatmap(cm, annot=True,fmt=\"d\")"
      ],
      "metadata": {
        "trusted": true,
        "colab": {
          "base_uri": "https://localhost:8080/",
          "height": 352
        },
        "id": "SZ1C129BSU_K",
        "outputId": "7da1f091-f631-48b2-9d97-cce68f5e7c8f"
      },
      "execution_count": 45,
      "outputs": [
        {
          "output_type": "stream",
          "name": "stdout",
          "text": [
            "[[123 109 114   2]\n",
            " [ 32 285  61   3]\n",
            " [ 37  55 261  19]\n",
            " [  2   9   2 386]]\n"
          ]
        },
        {
          "output_type": "execute_result",
          "data": {
            "text/plain": [
              "<matplotlib.axes._subplots.AxesSubplot at 0x7efd901adbd0>"
            ]
          },
          "metadata": {},
          "execution_count": 45
        },
        {
          "output_type": "display_data",
          "data": {
            "text/plain": [
              "<Figure size 432x288 with 2 Axes>"
            ],
            "image/png": "[encoded data removed]"
          },
          "metadata": {
            "needs_background": "light"
          }
        }
      ]
    },
    {
      "cell_type": "code",
      "source": [
        "#Now, let us use features from convolutional network for ML\n",
        "X_for_model = feature_extractor.predict(x_train) "
      ],
      "metadata": {
        "trusted": true,
        "id": "v6M3xUm0SU_L"
      },
      "execution_count": 46,
      "outputs": []
    },
    {
      "cell_type": "code",
      "source": [
        "from sklearn import metrics\n",
        "from sklearn.model_selection import cross_val_score\n",
        "\n",
        "def cross_val(model):\n",
        "    pred = cross_val_score(model, X_for_model, y_train)\n",
        "    return pred.mean()\n",
        "\n",
        "def print_evaluate(true, predicted):  \n",
        "    mae = metrics.mean_absolute_error(y_test, predicted)\n",
        "    mse = metrics.mean_squared_error(y_test, predicted)\n",
        "    rmse = np.sqrt(metrics.mean_squared_error(y_test, predicted))\n",
        "    r2_square = metrics.r2_score(y_test, predicted)\n",
        "    Accuracy= metrics.accuracy_score(y_test,predicted)\n",
        "\n",
        "    print('MAE:', mae)\n",
        "    print('MSE:', mse)\n",
        "    print('RMSE:', rmse)\n",
        "    print('R2 Square', r2_square)\n",
        "    print('Accuracy_mymodel', Accuracy)\n",
        "\n",
        "\n",
        "\n",
        "    print('__________________________________')\n",
        "    \n",
        "def evaluate(true, predicted):\n",
        "    mae = metrics.mean_absolute_error(y_test, predicted)\n",
        "    mse = metrics.mean_squared_error(y_test, predicted)\n",
        "    rmse = np.sqrt(metrics.mean_squared_error(y_test, predicted))\n",
        "    r2_square = metrics.r2_score(y_test, predicted)\n",
        "    Accuracy= metrics.accuracy_score(y_test,predicted)\n",
        "\n",
        "    return mae, mse, rmse, r2_square, Accuracy"
      ],
      "metadata": {
        "trusted": true,
        "id": "7IwGJuliSU_L"
      },
      "execution_count": 47,
      "outputs": []
    },
    {
      "cell_type": "markdown",
      "source": [
        "#  KNeighborsClassifier"
      ],
      "metadata": {
        "id": "0x-OjHniSU_M"
      }
    },
    {
      "cell_type": "code",
      "source": [
        "from sklearn.neighbors import KNeighborsClassifier\n",
        "knn = KNeighborsClassifier()\n",
        "knn_model = knn.fit(X_for_model, y_train)\n",
        "knn_model"
      ],
      "metadata": {
        "trusted": true,
        "colab": {
          "base_uri": "https://localhost:8080/"
        },
        "id": "C7Mzix0mSU_N",
        "outputId": "0e10de6d-dc56-4b6c-cc35-35ac2bf33b54"
      },
      "execution_count": 48,
      "outputs": [
        {
          "output_type": "execute_result",
          "data": {
            "text/plain": [
              "KNeighborsClassifier()"
            ]
          },
          "metadata": {},
          "execution_count": 48
        }
      ]
    },
    {
      "cell_type": "code",
      "source": [
        "X_test_feature = feature_extractor.predict(x_test)\n",
        "#Now predict using the trained RF model. \n",
        "predicted = knn_model.predict(X_test_feature)"
      ],
      "metadata": {
        "trusted": true,
        "id": "mTgRWuD7SU_N"
      },
      "execution_count": 49,
      "outputs": []
    },
    {
      "cell_type": "code",
      "source": [
        "print('Test set evaluation:\\n_____________________________________')\n",
        "print_evaluate(y_test, predicted)"
      ],
      "metadata": {
        "trusted": true,
        "colab": {
          "base_uri": "https://localhost:8080/"
        },
        "id": "gJuornw2SU_N",
        "outputId": "85430efe-c29f-47f2-d3e9-e21f1e073bef"
      },
      "execution_count": 50,
      "outputs": [
        {
          "output_type": "stream",
          "name": "stdout",
          "text": [
            "Test set evaluation:\n",
            "_____________________________________\n",
            "MAE: 0.508\n",
            "MSE: 0.8266666666666667\n",
            "RMSE: 0.9092121131323904\n",
            "R2 Square 0.3353145248785342\n",
            "Accuracy_mymodel 0.642\n",
            "__________________________________\n"
          ]
        }
      ]
    },
    {
      "cell_type": "code",
      "source": [
        "results_df = pd.DataFrame(data=[[\"KNeighborsClassifier\", *evaluate(y_test, predicted) ]], \n",
        "                          columns=['Model', 'MAE', 'MSE', 'RMSE', 'R2 Square','Accuracy_mymodel'])\n",
        "results_df"
      ],
      "metadata": {
        "trusted": true,
        "colab": {
          "base_uri": "https://localhost:8080/",
          "height": 81
        },
        "id": "daFKyqc7SU_O",
        "outputId": "78ba8169-7c75-409e-d19a-2578594a5f20"
      },
      "execution_count": 51,
      "outputs": [
        {
          "output_type": "execute_result",
          "data": {
            "text/plain": [
              "                  Model    MAE       MSE      RMSE  R2 Square  \\\n",
              "0  KNeighborsClassifier  0.508  0.826667  0.909212   0.335315   \n",
              "\n",
              "   Accuracy_mymodel  \n",
              "0             0.642  "
            ],
            "text/html": [
              "\n",
              "  <div id=\"df-ca67d8e2-6074-4169-a282-2197e496f59f\">\n",
              "    <div class=\"colab-df-container\">\n",
              "      <div>\n",
              "<style scoped>\n",
              "    .dataframe tbody tr th:only-of-type {\n",
              "        vertical-align: middle;\n",
              "    }\n",
              "\n",
              "    .dataframe tbody tr th {\n",
              "        vertical-align: top;\n",
              "    }\n",
              "\n",
              "    .dataframe thead th {\n",
              "        text-align: right;\n",
              "    }\n",
              "</style>\n",
              "<table border=\"1\" class=\"dataframe\">\n",
              "  <thead>\n",
              "    <tr style=\"text-align: right;\">\n",
              "      <th></th>\n",
              "      <th>Model</th>\n",
              "      <th>MAE</th>\n",
              "      <th>MSE</th>\n",
              "      <th>RMSE</th>\n",
              "      <th>R2 Square</th>\n",
              "      <th>Accuracy_mymodel</th>\n",
              "    </tr>\n",
              "  </thead>\n",
              "  <tbody>\n",
              "    <tr>\n",
              "      <th>0</th>\n",
              "      <td>KNeighborsClassifier</td>\n",
              "      <td>0.508</td>\n",
              "      <td>0.826667</td>\n",
              "      <td>0.909212</td>\n",
              "      <td>0.335315</td>\n",
              "      <td>0.642</td>\n",
              "    </tr>\n",
              "  </tbody>\n",
              "</table>\n",
              "</div>\n",
              "      <button class=\"colab-df-convert\" onclick=\"convertToInteractive('df-ca67d8e2-6074-4169-a282-2197e496f59f')\"\n",
              "              title=\"Convert this dataframe to an interactive table.\"\n",
              "              style=\"display:none;\">\n",
              "        \n",
              "  <svg xmlns=\"http://www.w3.org/2000/svg\" height=\"24px\"viewBox=\"0 0 24 24\"\n",
              "       width=\"24px\">\n",
              "    <path d=\"M0 0h24v24H0V0z\" fill=\"none\"/>\n",
              "    <path d=\"M18.56 5.44l.94 2.06.94-2.06 2.06-.94-2.06-.94-.94-2.06-.94 2.06-2.06.94zm-11 1L8.5 8.5l.94-2.06 2.06-.94-2.06-.94L8.5 2.5l-.94 2.06-2.06.94zm10 10l.94 2.06.94-2.06 2.06-.94-2.06-.94-.94-2.06-.94 2.06-2.06.94z\"/><path d=\"M17.41 7.96l-1.37-1.37c-.4-.4-.92-.59-1.43-.59-.52 0-1.04.2-1.43.59L10.3 9.45l-7.72 7.72c-.78.78-.78 2.05 0 2.83L4 21.41c.39.39.9.59 1.41.59.51 0 1.02-.2 1.41-.59l7.78-7.78 2.81-2.81c.8-.78.8-2.07 0-2.86zM5.41 20L4 18.59l7.72-7.72 1.47 1.35L5.41 20z\"/>\n",
              "  </svg>\n",
              "      </button>\n",
              "      \n",
              "  <style>\n",
              "    .colab-df-container {\n",
              "      display:flex;\n",
              "      flex-wrap:wrap;\n",
              "      gap: 12px;\n",
              "    }\n",
              "\n",
              "    .colab-df-convert {\n",
              "      background-color: #E8F0FE;\n",
              "      border: none;\n",
              "      border-radius: 50%;\n",
              "      cursor: pointer;\n",
              "      display: none;\n",
              "      fill: #1967D2;\n",
              "      height: 32px;\n",
              "      padding: 0 0 0 0;\n",
              "      width: 32px;\n",
              "    }\n",
              "\n",
              "    .colab-df-convert:hover {\n",
              "      background-color: #E2EBFA;\n",
              "      box-shadow: 0px 1px 2px rgba(60, 64, 67, 0.3), 0px 1px 3px 1px rgba(60, 64, 67, 0.15);\n",
              "      fill: #174EA6;\n",
              "    }\n",
              "\n",
              "    [theme=dark] .colab-df-convert {\n",
              "      background-color: #3B4455;\n",
              "      fill: #D2E3FC;\n",
              "    }\n",
              "\n",
              "    [theme=dark] .colab-df-convert:hover {\n",
              "      background-color: #434B5C;\n",
              "      box-shadow: 0px 1px 3px 1px rgba(0, 0, 0, 0.15);\n",
              "      filter: drop-shadow(0px 1px 2px rgba(0, 0, 0, 0.3));\n",
              "      fill: #FFFFFF;\n",
              "    }\n",
              "  </style>\n",
              "\n",
              "      <script>\n",
              "        const buttonEl =\n",
              "          document.querySelector('#df-ca67d8e2-6074-4169-a282-2197e496f59f button.colab-df-convert');\n",
              "        buttonEl.style.display =\n",
              "          google.colab.kernel.accessAllowed ? 'block' : 'none';\n",
              "\n",
              "        async function convertToInteractive(key) {\n",
              "          const element = document.querySelector('#df-ca67d8e2-6074-4169-a282-2197e496f59f');\n",
              "          const dataTable =\n",
              "            await google.colab.kernel.invokeFunction('convertToInteractive',\n",
              "                                                     [key], {});\n",
              "          if (!dataTable) return;\n",
              "\n",
              "          const docLinkHtml = 'Like what you see? Visit the ' +\n",
              "            '<a target=\"_blank\" href=https://colab.research.google.com/notebooks/data_table.ipynb>data table notebook</a>'\n",
              "            + ' to learn more about interactive tables.';\n",
              "          element.innerHTML = '';\n",
              "          dataTable['output_type'] = 'display_data';\n",
              "          await google.colab.output.renderOutput(dataTable, element);\n",
              "          const docLink = document.createElement('div');\n",
              "          docLink.innerHTML = docLinkHtml;\n",
              "          element.appendChild(docLink);\n",
              "        }\n",
              "      </script>\n",
              "    </div>\n",
              "  </div>\n",
              "  "
            ]
          },
          "metadata": {},
          "execution_count": 51
        }
      ]
    },
    {
      "cell_type": "code",
      "source": [
        "print(classification_report(y_test,predicted))"
      ],
      "metadata": {
        "trusted": true,
        "colab": {
          "base_uri": "https://localhost:8080/"
        },
        "id": "Ov4XB0cXSU_O",
        "outputId": "a72b2803-a7a1-4def-db19-d1a9052488f6"
      },
      "execution_count": 52,
      "outputs": [
        {
          "output_type": "stream",
          "name": "stdout",
          "text": [
            "              precision    recall  f1-score   support\n",
            "\n",
            "           0       0.45      0.57      0.51       348\n",
            "           1       0.61      0.54      0.58       381\n",
            "           2       0.61      0.51      0.55       372\n",
            "           3       0.90      0.92      0.91       399\n",
            "\n",
            "    accuracy                           0.64      1500\n",
            "   macro avg       0.64      0.64      0.64      1500\n",
            "weighted avg       0.65      0.64      0.64      1500\n",
            "\n"
          ]
        }
      ]
    },
    {
      "cell_type": "code",
      "source": [
        "from sklearn.metrics import confusion_matrix\n",
        "from matplotlib.pyplot import figure\n",
        "figure(figsize=(5, 4), dpi=80)\n",
        "cm = confusion_matrix(y_test,predicted)\n",
        "\n",
        "sns.heatmap(cm, annot=True,fmt=\"d\",cmap=\"YlGnBu\")"
      ],
      "metadata": {
        "trusted": true,
        "colab": {
          "base_uri": "https://localhost:8080/",
          "height": 309
        },
        "id": "tTM7VGI5SU_O",
        "outputId": "d2b9ddcb-f8de-494f-83f0-d6e247b0c744"
      },
      "execution_count": 53,
      "outputs": [
        {
          "output_type": "execute_result",
          "data": {
            "text/plain": [
              "<matplotlib.axes._subplots.AxesSubplot at 0x7efd88f86b50>"
            ]
          },
          "metadata": {},
          "execution_count": 53
        },
        {
          "output_type": "display_data",
          "data": {
            "text/plain": [
              "<Figure size 400x320 with 2 Axes>"
            ],
            "image/png": "[encoded data removed]"
          },
          "metadata": {
            "needs_background": "light"
          }
        }
      ]
    },
    {
      "cell_type": "markdown",
      "source": [
        "# svc"
      ],
      "metadata": {
        "id": "QTkvnYXySU_O"
      }
    },
    {
      "cell_type": "code",
      "source": [
        "from sklearn.svm import SVC\n",
        "svm_model = SVC(kernel = \"linear\")\n",
        "svm_model = svm_model.fit(X_for_model, y_train)\n",
        "svm_model"
      ],
      "metadata": {
        "trusted": true,
        "colab": {
          "base_uri": "https://localhost:8080/"
        },
        "id": "fnYML6n5SU_O",
        "outputId": "8f332891-7f12-46a1-9268-38ecfa52320f"
      },
      "execution_count": 54,
      "outputs": [
        {
          "output_type": "execute_result",
          "data": {
            "text/plain": [
              "SVC(kernel='linear')"
            ]
          },
          "metadata": {},
          "execution_count": 54
        }
      ]
    },
    {
      "cell_type": "code",
      "source": [
        "X_test_feature = feature_extractor.predict(x_test)\n",
        "#Now predict using the trained RF model. \n",
        "predicted = svm_model.predict(X_test_feature)\n",
        "#Inverse le transform to get original label back. \n",
        "\n",
        "\n",
        "print('Test set evaluation:\\n_____________________________________')\n",
        "print_evaluate(y_test, predicted)"
      ],
      "metadata": {
        "trusted": true,
        "colab": {
          "base_uri": "https://localhost:8080/"
        },
        "id": "w7BlrTL_SU_P",
        "outputId": "e0da8a39-64a7-46a9-e8a6-0a1cf62cd742"
      },
      "execution_count": 55,
      "outputs": [
        {
          "output_type": "stream",
          "name": "stdout",
          "text": [
            "Test set evaluation:\n",
            "_____________________________________\n",
            "MAE: 0.4093333333333333\n",
            "MSE: 0.6653333333333333\n",
            "RMSE: 0.8156796756897485\n",
            "R2 Square 0.465035399861917\n",
            "Accuracy_mymodel 0.7133333333333334\n",
            "__________________________________\n"
          ]
        }
      ]
    },
    {
      "cell_type": "code",
      "source": [
        "results_df_2 = pd.DataFrame(data=[[\"SVC\", *evaluate(y_test, predicted)]], \n",
        "                          columns=['Model', 'MAE', 'MSE', 'RMSE', 'R2 Square','Accuracy_mymodel' ])\n",
        "results_df = results_df.append(results_df_2, ignore_index=True)\n",
        "results_df"
      ],
      "metadata": {
        "trusted": true,
        "colab": {
          "base_uri": "https://localhost:8080/",
          "height": 112
        },
        "id": "lwNc87kQSU_P",
        "outputId": "68fb2a4c-4321-44d6-f658-cc19a7051da3"
      },
      "execution_count": 56,
      "outputs": [
        {
          "output_type": "execute_result",
          "data": {
            "text/plain": [
              "                  Model       MAE       MSE      RMSE  R2 Square  \\\n",
              "0  KNeighborsClassifier  0.508000  0.826667  0.909212   0.335315   \n",
              "1                   SVC  0.409333  0.665333  0.815680   0.465035   \n",
              "\n",
              "   Accuracy_mymodel  \n",
              "0          0.642000  \n",
              "1          0.713333  "
            ],
            "text/html": [
              "\n",
              "  <div id=\"df-c6d120f6-98d2-4add-aff5-edf4d4c13d66\">\n",
              "    <div class=\"colab-df-container\">\n",
              "      <div>\n",
              "<style scoped>\n",
              "    .dataframe tbody tr th:only-of-type {\n",
              "        vertical-align: middle;\n",
              "    }\n",
              "\n",
              "    .dataframe tbody tr th {\n",
              "        vertical-align: top;\n",
              "    }\n",
              "\n",
              "    .dataframe thead th {\n",
              "        text-align: right;\n",
              "    }\n",
              "</style>\n",
              "<table border=\"1\" class=\"dataframe\">\n",
              "  <thead>\n",
              "    <tr style=\"text-align: right;\">\n",
              "      <th></th>\n",
              "      <th>Model</th>\n",
              "      <th>MAE</th>\n",
              "      <th>MSE</th>\n",
              "      <th>RMSE</th>\n",
              "      <th>R2 Square</th>\n",
              "      <th>Accuracy_mymodel</th>\n",
              "    </tr>\n",
              "  </thead>\n",
              "  <tbody>\n",
              "    <tr>\n",
              "      <th>0</th>\n",
              "      <td>KNeighborsClassifier</td>\n",
              "      <td>0.508000</td>\n",
              "      <td>0.826667</td>\n",
              "      <td>0.909212</td>\n",
              "      <td>0.335315</td>\n",
              "      <td>0.642000</td>\n",
              "    </tr>\n",
              "    <tr>\n",
              "      <th>1</th>\n",
              "      <td>SVC</td>\n",
              "      <td>0.409333</td>\n",
              "      <td>0.665333</td>\n",
              "      <td>0.815680</td>\n",
              "      <td>0.465035</td>\n",
              "      <td>0.713333</td>\n",
              "    </tr>\n",
              "  </tbody>\n",
              "</table>\n",
              "</div>\n",
              "      <button class=\"colab-df-convert\" onclick=\"convertToInteractive('df-c6d120f6-98d2-4add-aff5-edf4d4c13d66')\"\n",
              "              title=\"Convert this dataframe to an interactive table.\"\n",
              "              style=\"display:none;\">\n",
              "        \n",
              "  <svg xmlns=\"http://www.w3.org/2000/svg\" height=\"24px\"viewBox=\"0 0 24 24\"\n",
              "       width=\"24px\">\n",
              "    <path d=\"M0 0h24v24H0V0z\" fill=\"none\"/>\n",
              "    <path d=\"M18.56 5.44l.94 2.06.94-2.06 2.06-.94-2.06-.94-.94-2.06-.94 2.06-2.06.94zm-11 1L8.5 8.5l.94-2.06 2.06-.94-2.06-.94L8.5 2.5l-.94 2.06-2.06.94zm10 10l.94 2.06.94-2.06 2.06-.94-2.06-.94-.94-2.06-.94 2.06-2.06.94z\"/><path d=\"M17.41 7.96l-1.37-1.37c-.4-.4-.92-.59-1.43-.59-.52 0-1.04.2-1.43.59L10.3 9.45l-7.72 7.72c-.78.78-.78 2.05 0 2.83L4 21.41c.39.39.9.59 1.41.59.51 0 1.02-.2 1.41-.59l7.78-7.78 2.81-2.81c.8-.78.8-2.07 0-2.86zM5.41 20L4 18.59l7.72-7.72 1.47 1.35L5.41 20z\"/>\n",
              "  </svg>\n",
              "      </button>\n",
              "      \n",
              "  <style>\n",
              "    .colab-df-container {\n",
              "      display:flex;\n",
              "      flex-wrap:wrap;\n",
              "      gap: 12px;\n",
              "    }\n",
              "\n",
              "    .colab-df-convert {\n",
              "      background-color: #E8F0FE;\n",
              "      border: none;\n",
              "      border-radius: 50%;\n",
              "      cursor: pointer;\n",
              "      display: none;\n",
              "      fill: #1967D2;\n",
              "      height: 32px;\n",
              "      padding: 0 0 0 0;\n",
              "      width: 32px;\n",
              "    }\n",
              "\n",
              "    .colab-df-convert:hover {\n",
              "      background-color: #E2EBFA;\n",
              "      box-shadow: 0px 1px 2px rgba(60, 64, 67, 0.3), 0px 1px 3px 1px rgba(60, 64, 67, 0.15);\n",
              "      fill: #174EA6;\n",
              "    }\n",
              "\n",
              "    [theme=dark] .colab-df-convert {\n",
              "      background-color: #3B4455;\n",
              "      fill: #D2E3FC;\n",
              "    }\n",
              "\n",
              "    [theme=dark] .colab-df-convert:hover {\n",
              "      background-color: #434B5C;\n",
              "      box-shadow: 0px 1px 3px 1px rgba(0, 0, 0, 0.15);\n",
              "      filter: drop-shadow(0px 1px 2px rgba(0, 0, 0, 0.3));\n",
              "      fill: #FFFFFF;\n",
              "    }\n",
              "  </style>\n",
              "\n",
              "      <script>\n",
              "        const buttonEl =\n",
              "          document.querySelector('#df-c6d120f6-98d2-4add-aff5-edf4d4c13d66 button.colab-df-convert');\n",
              "        buttonEl.style.display =\n",
              "          google.colab.kernel.accessAllowed ? 'block' : 'none';\n",
              "\n",
              "        async function convertToInteractive(key) {\n",
              "          const element = document.querySelector('#df-c6d120f6-98d2-4add-aff5-edf4d4c13d66');\n",
              "          const dataTable =\n",
              "            await google.colab.kernel.invokeFunction('convertToInteractive',\n",
              "                                                     [key], {});\n",
              "          if (!dataTable) return;\n",
              "\n",
              "          const docLinkHtml = 'Like what you see? Visit the ' +\n",
              "            '<a target=\"_blank\" href=https://colab.research.google.com/notebooks/data_table.ipynb>data table notebook</a>'\n",
              "            + ' to learn more about interactive tables.';\n",
              "          element.innerHTML = '';\n",
              "          dataTable['output_type'] = 'display_data';\n",
              "          await google.colab.output.renderOutput(dataTable, element);\n",
              "          const docLink = document.createElement('div');\n",
              "          docLink.innerHTML = docLinkHtml;\n",
              "          element.appendChild(docLink);\n",
              "        }\n",
              "      </script>\n",
              "    </div>\n",
              "  </div>\n",
              "  "
            ]
          },
          "metadata": {},
          "execution_count": 56
        }
      ]
    },
    {
      "cell_type": "code",
      "source": [
        "print(classification_report(y_test,predicted))"
      ],
      "metadata": {
        "trusted": true,
        "colab": {
          "base_uri": "https://localhost:8080/"
        },
        "id": "53caTnYmSU_P",
        "outputId": "aa44d3a9-fa45-497c-c5c5-dbaed06205f1"
      },
      "execution_count": 57,
      "outputs": [
        {
          "output_type": "stream",
          "name": "stdout",
          "text": [
            "              precision    recall  f1-score   support\n",
            "\n",
            "           0       0.54      0.60      0.57       348\n",
            "           1       0.70      0.66      0.68       381\n",
            "           2       0.68      0.61      0.64       372\n",
            "           3       0.92      0.96      0.94       399\n",
            "\n",
            "    accuracy                           0.71      1500\n",
            "   macro avg       0.71      0.71      0.71      1500\n",
            "weighted avg       0.71      0.71      0.71      1500\n",
            "\n"
          ]
        }
      ]
    },
    {
      "cell_type": "code",
      "source": [
        "from sklearn.metrics import confusion_matrix\n",
        "from matplotlib.pyplot import figure\n",
        "figure(figsize=(9, 8), dpi=80)\n",
        "cm = confusion_matrix(y_test,predicted)\n",
        "\n",
        "sns.heatmap(cm, annot=True,fmt=\"d\",cmap=\"YlGnBu\")"
      ],
      "metadata": {
        "trusted": true,
        "colab": {
          "base_uri": "https://localhost:8080/",
          "height": 550
        },
        "id": "mHt8dbL1SU_Q",
        "outputId": "9c0e9da9-0554-4e1d-e124-ecb6633e03c7"
      },
      "execution_count": 58,
      "outputs": [
        {
          "output_type": "execute_result",
          "data": {
            "text/plain": [
              "<matplotlib.axes._subplots.AxesSubplot at 0x7efd90604590>"
            ]
          },
          "metadata": {},
          "execution_count": 58
        },
        {
          "output_type": "display_data",
          "data": {
            "text/plain": [
              "<Figure size 720x640 with 2 Axes>"
            ],
            "image/png": "[encoded data removed]"
          },
          "metadata": {
            "needs_background": "light"
          }
        }
      ]
    },
    {
      "cell_type": "markdown",
      "source": [
        "# RBF SVC\n"
      ],
      "metadata": {
        "id": "CzZlXLsESU_Q"
      }
    },
    {
      "cell_type": "code",
      "source": [
        "from sklearn.svm import SVC\n",
        "\n",
        "svc_model = SVC(kernel = \"rbf\").fit(X_for_model, y_train)\n",
        "svc_model = svc_model.fit(X_for_model, y_train)\n",
        "svc_model"
      ],
      "metadata": {
        "trusted": true,
        "colab": {
          "base_uri": "https://localhost:8080/"
        },
        "id": "hKE0iU3rSU_Q",
        "outputId": "87f35f08-0231-465b-a67e-19677168f26e"
      },
      "execution_count": 59,
      "outputs": [
        {
          "output_type": "execute_result",
          "data": {
            "text/plain": [
              "SVC()"
            ]
          },
          "metadata": {},
          "execution_count": 59
        }
      ]
    },
    {
      "cell_type": "code",
      "source": [
        "X_test_feature = feature_extractor.predict(x_test)\n",
        "#Now predict using the trained RF model. \n",
        "predicted = svc_model.predict(X_test_feature)\n",
        "print('Test set evaluation:\\n_____________________________________')\n",
        "print_evaluate(y_test, predicted)"
      ],
      "metadata": {
        "trusted": true,
        "colab": {
          "base_uri": "https://localhost:8080/"
        },
        "id": "R6fQ_dePSU_Q",
        "outputId": "42d713de-3e78-4536-ba80-74247523555d"
      },
      "execution_count": 60,
      "outputs": [
        {
          "output_type": "stream",
          "name": "stdout",
          "text": [
            "Test set evaluation:\n",
            "_____________________________________\n",
            "MAE: 0.39066666666666666\n",
            "MSE: 0.6346666666666667\n",
            "RMSE: 0.7966596931354484\n",
            "R2 Square 0.48969308684222945\n",
            "Accuracy_mymodel 0.7273333333333334\n",
            "__________________________________\n"
          ]
        }
      ]
    },
    {
      "cell_type": "code",
      "source": [
        "results_df_2 = pd.DataFrame(data=[[\"RBF SVC\", *evaluate(y_test, predicted) ]], \n",
        "                          columns=['Model', 'MAE', 'MSE', 'RMSE', 'R2 Square','Accuracy_mymodel'])\n",
        "results_df = results_df.append(results_df_2, ignore_index=True)\n",
        "results_df"
      ],
      "metadata": {
        "trusted": true,
        "colab": {
          "base_uri": "https://localhost:8080/",
          "height": 144
        },
        "id": "0AsPi0yNSU_R",
        "outputId": "fee6288a-d2fd-4823-dacf-d5b893c4ba8d"
      },
      "execution_count": 61,
      "outputs": [
        {
          "output_type": "execute_result",
          "data": {
            "text/plain": [
              "                  Model       MAE       MSE      RMSE  R2 Square  \\\n",
              "0  KNeighborsClassifier  0.508000  0.826667  0.909212   0.335315   \n",
              "1                   SVC  0.409333  0.665333  0.815680   0.465035   \n",
              "2               RBF SVC  0.390667  0.634667  0.796660   0.489693   \n",
              "\n",
              "   Accuracy_mymodel  \n",
              "0          0.642000  \n",
              "1          0.713333  \n",
              "2          0.727333  "
            ],
            "text/html": [
              "\n",
              "  <div id=\"df-d3cfade8-026d-4f29-9c32-c4f415d1743e\">\n",
              "    <div class=\"colab-df-container\">\n",
              "      <div>\n",
              "<style scoped>\n",
              "    .dataframe tbody tr th:only-of-type {\n",
              "        vertical-align: middle;\n",
              "    }\n",
              "\n",
              "    .dataframe tbody tr th {\n",
              "        vertical-align: top;\n",
              "    }\n",
              "\n",
              "    .dataframe thead th {\n",
              "        text-align: right;\n",
              "    }\n",
              "</style>\n",
              "<table border=\"1\" class=\"dataframe\">\n",
              "  <thead>\n",
              "    <tr style=\"text-align: right;\">\n",
              "      <th></th>\n",
              "      <th>Model</th>\n",
              "      <th>MAE</th>\n",
              "      <th>MSE</th>\n",
              "      <th>RMSE</th>\n",
              "      <th>R2 Square</th>\n",
              "      <th>Accuracy_mymodel</th>\n",
              "    </tr>\n",
              "  </thead>\n",
              "  <tbody>\n",
              "    <tr>\n",
              "      <th>0</th>\n",
              "      <td>KNeighborsClassifier</td>\n",
              "      <td>0.508000</td>\n",
              "      <td>0.826667</td>\n",
              "      <td>0.909212</td>\n",
              "      <td>0.335315</td>\n",
              "      <td>0.642000</td>\n",
              "    </tr>\n",
              "    <tr>\n",
              "      <th>1</th>\n",
              "      <td>SVC</td>\n",
              "      <td>0.409333</td>\n",
              "      <td>0.665333</td>\n",
              "      <td>0.815680</td>\n",
              "      <td>0.465035</td>\n",
              "      <td>0.713333</td>\n",
              "    </tr>\n",
              "    <tr>\n",
              "      <th>2</th>\n",
              "      <td>RBF SVC</td>\n",
              "      <td>0.390667</td>\n",
              "      <td>0.634667</td>\n",
              "      <td>0.796660</td>\n",
              "      <td>0.489693</td>\n",
              "      <td>0.727333</td>\n",
              "    </tr>\n",
              "  </tbody>\n",
              "</table>\n",
              "</div>\n",
              "      <button class=\"colab-df-convert\" onclick=\"convertToInteractive('df-d3cfade8-026d-4f29-9c32-c4f415d1743e')\"\n",
              "              title=\"Convert this dataframe to an interactive table.\"\n",
              "              style=\"display:none;\">\n",
              "        \n",
              "  <svg xmlns=\"http://www.w3.org/2000/svg\" height=\"24px\"viewBox=\"0 0 24 24\"\n",
              "       width=\"24px\">\n",
              "    <path d=\"M0 0h24v24H0V0z\" fill=\"none\"/>\n",
              "    <path d=\"M18.56 5.44l.94 2.06.94-2.06 2.06-.94-2.06-.94-.94-2.06-.94 2.06-2.06.94zm-11 1L8.5 8.5l.94-2.06 2.06-.94-2.06-.94L8.5 2.5l-.94 2.06-2.06.94zm10 10l.94 2.06.94-2.06 2.06-.94-2.06-.94-.94-2.06-.94 2.06-2.06.94z\"/><path d=\"M17.41 7.96l-1.37-1.37c-.4-.4-.92-.59-1.43-.59-.52 0-1.04.2-1.43.59L10.3 9.45l-7.72 7.72c-.78.78-.78 2.05 0 2.83L4 21.41c.39.39.9.59 1.41.59.51 0 1.02-.2 1.41-.59l7.78-7.78 2.81-2.81c.8-.78.8-2.07 0-2.86zM5.41 20L4 18.59l7.72-7.72 1.47 1.35L5.41 20z\"/>\n",
              "  </svg>\n",
              "      </button>\n",
              "      \n",
              "  <style>\n",
              "    .colab-df-container {\n",
              "      display:flex;\n",
              "      flex-wrap:wrap;\n",
              "      gap: 12px;\n",
              "    }\n",
              "\n",
              "    .colab-df-convert {\n",
              "      background-color: #E8F0FE;\n",
              "      border: none;\n",
              "      border-radius: 50%;\n",
              "      cursor: pointer;\n",
              "      display: none;\n",
              "      fill: #1967D2;\n",
              "      height: 32px;\n",
              "      padding: 0 0 0 0;\n",
              "      width: 32px;\n",
              "    }\n",
              "\n",
              "    .colab-df-convert:hover {\n",
              "      background-color: #E2EBFA;\n",
              "      box-shadow: 0px 1px 2px rgba(60, 64, 67, 0.3), 0px 1px 3px 1px rgba(60, 64, 67, 0.15);\n",
              "      fill: #174EA6;\n",
              "    }\n",
              "\n",
              "    [theme=dark] .colab-df-convert {\n",
              "      background-color: #3B4455;\n",
              "      fill: #D2E3FC;\n",
              "    }\n",
              "\n",
              "    [theme=dark] .colab-df-convert:hover {\n",
              "      background-color: #434B5C;\n",
              "      box-shadow: 0px 1px 3px 1px rgba(0, 0, 0, 0.15);\n",
              "      filter: drop-shadow(0px 1px 2px rgba(0, 0, 0, 0.3));\n",
              "      fill: #FFFFFF;\n",
              "    }\n",
              "  </style>\n",
              "\n",
              "      <script>\n",
              "        const buttonEl =\n",
              "          document.querySelector('#df-d3cfade8-026d-4f29-9c32-c4f415d1743e button.colab-df-convert');\n",
              "        buttonEl.style.display =\n",
              "          google.colab.kernel.accessAllowed ? 'block' : 'none';\n",
              "\n",
              "        async function convertToInteractive(key) {\n",
              "          const element = document.querySelector('#df-d3cfade8-026d-4f29-9c32-c4f415d1743e');\n",
              "          const dataTable =\n",
              "            await google.colab.kernel.invokeFunction('convertToInteractive',\n",
              "                                                     [key], {});\n",
              "          if (!dataTable) return;\n",
              "\n",
              "          const docLinkHtml = 'Like what you see? Visit the ' +\n",
              "            '<a target=\"_blank\" href=https://colab.research.google.com/notebooks/data_table.ipynb>data table notebook</a>'\n",
              "            + ' to learn more about interactive tables.';\n",
              "          element.innerHTML = '';\n",
              "          dataTable['output_type'] = 'display_data';\n",
              "          await google.colab.output.renderOutput(dataTable, element);\n",
              "          const docLink = document.createElement('div');\n",
              "          docLink.innerHTML = docLinkHtml;\n",
              "          element.appendChild(docLink);\n",
              "        }\n",
              "      </script>\n",
              "    </div>\n",
              "  </div>\n",
              "  "
            ]
          },
          "metadata": {},
          "execution_count": 61
        }
      ]
    },
    {
      "cell_type": "code",
      "source": [
        "print(classification_report(y_test,predicted))"
      ],
      "metadata": {
        "trusted": true,
        "colab": {
          "base_uri": "https://localhost:8080/"
        },
        "id": "W_IISQzeSU_R",
        "outputId": "037d6ad9-02ba-4726-873f-f0d0e4713f5c"
      },
      "execution_count": 62,
      "outputs": [
        {
          "output_type": "stream",
          "name": "stdout",
          "text": [
            "              precision    recall  f1-score   support\n",
            "\n",
            "           0       0.56      0.60      0.58       348\n",
            "           1       0.71      0.68      0.70       381\n",
            "           2       0.69      0.65      0.67       372\n",
            "           3       0.92      0.96      0.94       399\n",
            "\n",
            "    accuracy                           0.73      1500\n",
            "   macro avg       0.72      0.72      0.72      1500\n",
            "weighted avg       0.73      0.73      0.73      1500\n",
            "\n"
          ]
        }
      ]
    },
    {
      "cell_type": "code",
      "source": [
        "from sklearn.metrics import confusion_matrix\n",
        "from matplotlib.pyplot import figure\n",
        "figure(figsize=(9, 8), dpi=80)\n",
        "cm = confusion_matrix(y_test,predicted)\n",
        "\n",
        "sns.heatmap(cm, annot=True,fmt=\"d\",cmap=\"YlGnBu\")"
      ],
      "metadata": {
        "trusted": true,
        "colab": {
          "base_uri": "https://localhost:8080/",
          "height": 550
        },
        "id": "7UqmEumgSU_R",
        "outputId": "5f286d32-9d74-4544-826a-b5d8252f9827"
      },
      "execution_count": 63,
      "outputs": [
        {
          "output_type": "execute_result",
          "data": {
            "text/plain": [
              "<matplotlib.axes._subplots.AxesSubplot at 0x7efd9000e150>"
            ]
          },
          "metadata": {},
          "execution_count": 63
        },
        {
          "output_type": "display_data",
          "data": {
            "text/plain": [
              "<Figure size 720x640 with 2 Axes>"
            ],
            "image/png": "[encoded data removed]"
          },
          "metadata": {
            "needs_background": "light"
          }
        }
      ]
    },
    {
      "cell_type": "markdown",
      "source": [
        "# DecisionTreeClassifier"
      ],
      "metadata": {
        "id": "jhiPlTc-SU_R"
      }
    },
    {
      "cell_type": "code",
      "source": [
        "from sklearn.tree import DecisionTreeClassifier\n",
        "cart_model = DecisionTreeClassifier()\n",
        "cart_model = cart_model.fit(X_for_model, y_train)\n",
        "cart_model"
      ],
      "metadata": {
        "trusted": true,
        "colab": {
          "base_uri": "https://localhost:8080/"
        },
        "id": "GkBxF0_USU_R",
        "outputId": "44bafb76-3c2f-4c17-e11d-06116cce4526"
      },
      "execution_count": 64,
      "outputs": [
        {
          "output_type": "execute_result",
          "data": {
            "text/plain": [
              "DecisionTreeClassifier()"
            ]
          },
          "metadata": {},
          "execution_count": 64
        }
      ]
    },
    {
      "cell_type": "code",
      "source": [
        "X_test_feature = feature_extractor.predict(x_test)\n",
        "#Now predict using the trained RF model. \n",
        "predicted = cart_model.predict(X_test_feature)\n",
        "\n",
        "\n",
        "\n",
        "print('Test set evaluation:\\n_____________________________________')\n",
        "print_evaluate(y_test, predicted)"
      ],
      "metadata": {
        "trusted": true,
        "colab": {
          "base_uri": "https://localhost:8080/"
        },
        "id": "0Y2WJbVISU_S",
        "outputId": "be3abc9e-8d2b-44d9-9159-22d8149f58fd"
      },
      "execution_count": 65,
      "outputs": [
        {
          "output_type": "stream",
          "name": "stdout",
          "text": [
            "Test set evaluation:\n",
            "_____________________________________\n",
            "MAE: 0.65\n",
            "MSE: 1.1433333333333333\n",
            "RMSE: 1.0692676621563626\n",
            "R2 Square 0.08069710497313398\n",
            "Accuracy_mymodel 0.5653333333333334\n",
            "__________________________________\n"
          ]
        }
      ]
    },
    {
      "cell_type": "code",
      "source": [
        "results_df_2 = pd.DataFrame(data=[[\"DecisionTreeClassifier\", *evaluate(y_test, predicted)]], \n",
        "                          columns=['Model', 'MAE', 'MSE', 'RMSE', 'R2 Square','Accuracy_mymodel' ])\n",
        "results_df = results_df.append(results_df_2, ignore_index=True)\n",
        "results_df"
      ],
      "metadata": {
        "trusted": true,
        "colab": {
          "base_uri": "https://localhost:8080/",
          "height": 175
        },
        "id": "09iZwRVwSU_S",
        "outputId": "7f5d334f-6fc4-48ec-b437-e0b46086f995"
      },
      "execution_count": 66,
      "outputs": [
        {
          "output_type": "execute_result",
          "data": {
            "text/plain": [
              "                    Model       MAE       MSE      RMSE  R2 Square  \\\n",
              "0    KNeighborsClassifier  0.508000  0.826667  0.909212   0.335315   \n",
              "1                     SVC  0.409333  0.665333  0.815680   0.465035   \n",
              "2                 RBF SVC  0.390667  0.634667  0.796660   0.489693   \n",
              "3  DecisionTreeClassifier  0.650000  1.143333  1.069268   0.080697   \n",
              "\n",
              "   Accuracy_mymodel  \n",
              "0          0.642000  \n",
              "1          0.713333  \n",
              "2          0.727333  \n",
              "3          0.565333  "
            ],
            "text/html": [
              "\n",
              "  <div id=\"df-b8394c0e-0f09-4700-ba2d-dfecfc1163dc\">\n",
              "    <div class=\"colab-df-container\">\n",
              "      <div>\n",
              "<style scoped>\n",
              "    .dataframe tbody tr th:only-of-type {\n",
              "        vertical-align: middle;\n",
              "    }\n",
              "\n",
              "    .dataframe tbody tr th {\n",
              "        vertical-align: top;\n",
              "    }\n",
              "\n",
              "    .dataframe thead th {\n",
              "        text-align: right;\n",
              "    }\n",
              "</style>\n",
              "<table border=\"1\" class=\"dataframe\">\n",
              "  <thead>\n",
              "    <tr style=\"text-align: right;\">\n",
              "      <th></th>\n",
              "      <th>Model</th>\n",
              "      <th>MAE</th>\n",
              "      <th>MSE</th>\n",
              "      <th>RMSE</th>\n",
              "      <th>R2 Square</th>\n",
              "      <th>Accuracy_mymodel</th>\n",
              "    </tr>\n",
              "  </thead>\n",
              "  <tbody>\n",
              "    <tr>\n",
              "      <th>0</th>\n",
              "      <td>KNeighborsClassifier</td>\n",
              "      <td>0.508000</td>\n",
              "      <td>0.826667</td>\n",
              "      <td>0.909212</td>\n",
              "      <td>0.335315</td>\n",
              "      <td>0.642000</td>\n",
              "    </tr>\n",
              "    <tr>\n",
              "      <th>1</th>\n",
              "      <td>SVC</td>\n",
              "      <td>0.409333</td>\n",
              "      <td>0.665333</td>\n",
              "      <td>0.815680</td>\n",
              "      <td>0.465035</td>\n",
              "      <td>0.713333</td>\n",
              "    </tr>\n",
              "    <tr>\n",
              "      <th>2</th>\n",
              "      <td>RBF SVC</td>\n",
              "      <td>0.390667</td>\n",
              "      <td>0.634667</td>\n",
              "      <td>0.796660</td>\n",
              "      <td>0.489693</td>\n",
              "      <td>0.727333</td>\n",
              "    </tr>\n",
              "    <tr>\n",
              "      <th>3</th>\n",
              "      <td>DecisionTreeClassifier</td>\n",
              "      <td>0.650000</td>\n",
              "      <td>1.143333</td>\n",
              "      <td>1.069268</td>\n",
              "      <td>0.080697</td>\n",
              "      <td>0.565333</td>\n",
              "    </tr>\n",
              "  </tbody>\n",
              "</table>\n",
              "</div>\n",
              "      <button class=\"colab-df-convert\" onclick=\"convertToInteractive('df-b8394c0e-0f09-4700-ba2d-dfecfc1163dc')\"\n",
              "              title=\"Convert this dataframe to an interactive table.\"\n",
              "              style=\"display:none;\">\n",
              "        \n",
              "  <svg xmlns=\"http://www.w3.org/2000/svg\" height=\"24px\"viewBox=\"0 0 24 24\"\n",
              "       width=\"24px\">\n",
              "    <path d=\"M0 0h24v24H0V0z\" fill=\"none\"/>\n",
              "    <path d=\"M18.56 5.44l.94 2.06.94-2.06 2.06-.94-2.06-.94-.94-2.06-.94 2.06-2.06.94zm-11 1L8.5 8.5l.94-2.06 2.06-.94-2.06-.94L8.5 2.5l-.94 2.06-2.06.94zm10 10l.94 2.06.94-2.06 2.06-.94-2.06-.94-.94-2.06-.94 2.06-2.06.94z\"/><path d=\"M17.41 7.96l-1.37-1.37c-.4-.4-.92-.59-1.43-.59-.52 0-1.04.2-1.43.59L10.3 9.45l-7.72 7.72c-.78.78-.78 2.05 0 2.83L4 21.41c.39.39.9.59 1.41.59.51 0 1.02-.2 1.41-.59l7.78-7.78 2.81-2.81c.8-.78.8-2.07 0-2.86zM5.41 20L4 18.59l7.72-7.72 1.47 1.35L5.41 20z\"/>\n",
              "  </svg>\n",
              "      </button>\n",
              "      \n",
              "  <style>\n",
              "    .colab-df-container {\n",
              "      display:flex;\n",
              "      flex-wrap:wrap;\n",
              "      gap: 12px;\n",
              "    }\n",
              "\n",
              "    .colab-df-convert {\n",
              "      background-color: #E8F0FE;\n",
              "      border: none;\n",
              "      border-radius: 50%;\n",
              "      cursor: pointer;\n",
              "      display: none;\n",
              "      fill: #1967D2;\n",
              "      height: 32px;\n",
              "      padding: 0 0 0 0;\n",
              "      width: 32px;\n",
              "    }\n",
              "\n",
              "    .colab-df-convert:hover {\n",
              "      background-color: #E2EBFA;\n",
              "      box-shadow: 0px 1px 2px rgba(60, 64, 67, 0.3), 0px 1px 3px 1px rgba(60, 64, 67, 0.15);\n",
              "      fill: #174EA6;\n",
              "    }\n",
              "\n",
              "    [theme=dark] .colab-df-convert {\n",
              "      background-color: #3B4455;\n",
              "      fill: #D2E3FC;\n",
              "    }\n",
              "\n",
              "    [theme=dark] .colab-df-convert:hover {\n",
              "      background-color: #434B5C;\n",
              "      box-shadow: 0px 1px 3px 1px rgba(0, 0, 0, 0.15);\n",
              "      filter: drop-shadow(0px 1px 2px rgba(0, 0, 0, 0.3));\n",
              "      fill: #FFFFFF;\n",
              "    }\n",
              "  </style>\n",
              "\n",
              "      <script>\n",
              "        const buttonEl =\n",
              "          document.querySelector('#df-b8394c0e-0f09-4700-ba2d-dfecfc1163dc button.colab-df-convert');\n",
              "        buttonEl.style.display =\n",
              "          google.colab.kernel.accessAllowed ? 'block' : 'none';\n",
              "\n",
              "        async function convertToInteractive(key) {\n",
              "          const element = document.querySelector('#df-b8394c0e-0f09-4700-ba2d-dfecfc1163dc');\n",
              "          const dataTable =\n",
              "            await google.colab.kernel.invokeFunction('convertToInteractive',\n",
              "                                                     [key], {});\n",
              "          if (!dataTable) return;\n",
              "\n",
              "          const docLinkHtml = 'Like what you see? Visit the ' +\n",
              "            '<a target=\"_blank\" href=https://colab.research.google.com/notebooks/data_table.ipynb>data table notebook</a>'\n",
              "            + ' to learn more about interactive tables.';\n",
              "          element.innerHTML = '';\n",
              "          dataTable['output_type'] = 'display_data';\n",
              "          await google.colab.output.renderOutput(dataTable, element);\n",
              "          const docLink = document.createElement('div');\n",
              "          docLink.innerHTML = docLinkHtml;\n",
              "          element.appendChild(docLink);\n",
              "        }\n",
              "      </script>\n",
              "    </div>\n",
              "  </div>\n",
              "  "
            ]
          },
          "metadata": {},
          "execution_count": 66
        }
      ]
    },
    {
      "cell_type": "code",
      "source": [
        "print(classification_report(y_test,predicted))"
      ],
      "metadata": {
        "trusted": true,
        "colab": {
          "base_uri": "https://localhost:8080/"
        },
        "id": "lWMTnPhXSU_S",
        "outputId": "8efbdac2-7ee1-4584-aa6a-2002b0e13792"
      },
      "execution_count": 67,
      "outputs": [
        {
          "output_type": "stream",
          "name": "stdout",
          "text": [
            "              precision    recall  f1-score   support\n",
            "\n",
            "           0       0.41      0.48      0.44       348\n",
            "           1       0.51      0.47      0.49       381\n",
            "           2       0.51      0.46      0.48       372\n",
            "           3       0.81      0.83      0.82       399\n",
            "\n",
            "    accuracy                           0.57      1500\n",
            "   macro avg       0.56      0.56      0.56      1500\n",
            "weighted avg       0.57      0.57      0.57      1500\n",
            "\n"
          ]
        }
      ]
    },
    {
      "cell_type": "code",
      "source": [
        "from sklearn.metrics import confusion_matrix\n",
        "from matplotlib.pyplot import figure\n",
        "figure(figsize=(9, 8), dpi=80)\n",
        "cm = confusion_matrix(y_test,predicted)\n",
        "\n",
        "sns.heatmap(cm, annot=True,fmt=\"d\",cmap=\"YlGnBu\")"
      ],
      "metadata": {
        "trusted": true,
        "colab": {
          "base_uri": "https://localhost:8080/",
          "height": 550
        },
        "id": "o1bfg0JISU_S",
        "outputId": "b24d3c80-b030-40ca-edfd-ea041fc55f25"
      },
      "execution_count": 68,
      "outputs": [
        {
          "output_type": "execute_result",
          "data": {
            "text/plain": [
              "<matplotlib.axes._subplots.AxesSubplot at 0x7efd8d628ed0>"
            ]
          },
          "metadata": {},
          "execution_count": 68
        },
        {
          "output_type": "display_data",
          "data": {
            "text/plain": [
              "<Figure size 720x640 with 2 Axes>"
            ],
            "image/png": "[encoded data removed]"
          },
          "metadata": {
            "needs_background": "light"
          }
        }
      ]
    },
    {
      "cell_type": "markdown",
      "source": [
        "# Lojistik regresyon"
      ],
      "metadata": {
        "id": "0JL72An8cLoe"
      }
    },
    {
      "cell_type": "code",
      "source": [
        "from sklearn.linear_model import LogisticRegression\n",
        "lr_model = LogisticRegression()\n",
        "lr_model = lr_model.fit(X_for_model, y_train)\n",
        "lr_model"
      ],
      "metadata": {
        "colab": {
          "base_uri": "https://localhost:8080/"
        },
        "id": "Lx7YZeWHSU_S",
        "outputId": "3beae66a-2aa0-4fc6-8bff-9503403b18f3"
      },
      "execution_count": 69,
      "outputs": [
        {
          "output_type": "stream",
          "name": "stderr",
          "text": [
            "/usr/local/lib/python3.7/dist-packages/sklearn/linear_model/_logistic.py:818: ConvergenceWarning: lbfgs failed to converge (status=1):\n",
            "STOP: TOTAL NO. of ITERATIONS REACHED LIMIT.\n",
            "\n",
            "Increase the number of iterations (max_iter) or scale the data as shown in:\n",
            "    https://scikit-learn.org/stable/modules/preprocessing.html\n",
            "Please also refer to the documentation for alternative solver options:\n",
            "    https://scikit-learn.org/stable/modules/linear_model.html#logistic-regression\n",
            "  extra_warning_msg=_LOGISTIC_SOLVER_CONVERGENCE_MSG,\n"
          ]
        },
        {
          "output_type": "execute_result",
          "data": {
            "text/plain": [
              "LogisticRegression()"
            ]
          },
          "metadata": {},
          "execution_count": 69
        }
      ]
    },
    {
      "cell_type": "code",
      "source": [
        "X_test_feature = feature_extractor.predict(x_test)\n",
        "#Now predict using the trained RF model. \n",
        "predicted = lr_model.predict(X_test_feature)\n",
        "\n",
        "\n",
        "\n",
        "print('Test set evaluation:\\n_____________________________________')\n",
        "print_evaluate(y_test, predicted)"
      ],
      "metadata": {
        "colab": {
          "base_uri": "https://localhost:8080/"
        },
        "id": "hngVPnHOSU_S",
        "outputId": "743a9294-adc0-4bfa-c47a-e2371d9f3011"
      },
      "execution_count": 70,
      "outputs": [
        {
          "output_type": "stream",
          "name": "stdout",
          "text": [
            "Test set evaluation:\n",
            "_____________________________________\n",
            "MAE: 0.3993333333333333\n",
            "MSE: 0.646\n",
            "RMSE: 0.8037412518964048\n",
            "R2 Square 0.48058046339298355\n",
            "Accuracy_mymodel 0.718\n",
            "__________________________________\n"
          ]
        }
      ]
    },
    {
      "cell_type": "code",
      "source": [
        "results_df_2 = pd.DataFrame(data=[[\"LogisticRegression\", *evaluate(y_test, predicted)]], \n",
        "                          columns=['Model', 'MAE', 'MSE', 'RMSE', 'R2 Square','Accuracy_mymodel' ])\n",
        "results_df = results_df.append(results_df_2, ignore_index=True)\n",
        "results_df"
      ],
      "metadata": {
        "colab": {
          "base_uri": "https://localhost:8080/",
          "height": 206
        },
        "id": "43wJO47nSU_S",
        "outputId": "bf1bdb73-e4cb-4aa9-decf-5c22aa235fda"
      },
      "execution_count": 71,
      "outputs": [
        {
          "output_type": "execute_result",
          "data": {
            "text/plain": [
              "                    Model       MAE       MSE      RMSE  R2 Square  \\\n",
              "0    KNeighborsClassifier  0.508000  0.826667  0.909212   0.335315   \n",
              "1                     SVC  0.409333  0.665333  0.815680   0.465035   \n",
              "2                 RBF SVC  0.390667  0.634667  0.796660   0.489693   \n",
              "3  DecisionTreeClassifier  0.650000  1.143333  1.069268   0.080697   \n",
              "4      LogisticRegression  0.399333  0.646000  0.803741   0.480580   \n",
              "\n",
              "   Accuracy_mymodel  \n",
              "0          0.642000  \n",
              "1          0.713333  \n",
              "2          0.727333  \n",
              "3          0.565333  \n",
              "4          0.718000  "
            ],
            "text/html": [
              "\n",
              "  <div id=\"df-5194154d-aaec-4f34-a53e-b05981e69a59\">\n",
              "    <div class=\"colab-df-container\">\n",
              "      <div>\n",
              "<style scoped>\n",
              "    .dataframe tbody tr th:only-of-type {\n",
              "        vertical-align: middle;\n",
              "    }\n",
              "\n",
              "    .dataframe tbody tr th {\n",
              "        vertical-align: top;\n",
              "    }\n",
              "\n",
              "    .dataframe thead th {\n",
              "        text-align: right;\n",
              "    }\n",
              "</style>\n",
              "<table border=\"1\" class=\"dataframe\">\n",
              "  <thead>\n",
              "    <tr style=\"text-align: right;\">\n",
              "      <th></th>\n",
              "      <th>Model</th>\n",
              "      <th>MAE</th>\n",
              "      <th>MSE</th>\n",
              "      <th>RMSE</th>\n",
              "      <th>R2 Square</th>\n",
              "      <th>Accuracy_mymodel</th>\n",
              "    </tr>\n",
              "  </thead>\n",
              "  <tbody>\n",
              "    <tr>\n",
              "      <th>0</th>\n",
              "      <td>KNeighborsClassifier</td>\n",
              "      <td>0.508000</td>\n",
              "      <td>0.826667</td>\n",
              "      <td>0.909212</td>\n",
              "      <td>0.335315</td>\n",
              "      <td>0.642000</td>\n",
              "    </tr>\n",
              "    <tr>\n",
              "      <th>1</th>\n",
              "      <td>SVC</td>\n",
              "      <td>0.409333</td>\n",
              "      <td>0.665333</td>\n",
              "      <td>0.815680</td>\n",
              "      <td>0.465035</td>\n",
              "      <td>0.713333</td>\n",
              "    </tr>\n",
              "    <tr>\n",
              "      <th>2</th>\n",
              "      <td>RBF SVC</td>\n",
              "      <td>0.390667</td>\n",
              "      <td>0.634667</td>\n",
              "      <td>0.796660</td>\n",
              "      <td>0.489693</td>\n",
              "      <td>0.727333</td>\n",
              "    </tr>\n",
              "    <tr>\n",
              "      <th>3</th>\n",
              "      <td>DecisionTreeClassifier</td>\n",
              "      <td>0.650000</td>\n",
              "      <td>1.143333</td>\n",
              "      <td>1.069268</td>\n",
              "      <td>0.080697</td>\n",
              "      <td>0.565333</td>\n",
              "    </tr>\n",
              "    <tr>\n",
              "      <th>4</th>\n",
              "      <td>LogisticRegression</td>\n",
              "      <td>0.399333</td>\n",
              "      <td>0.646000</td>\n",
              "      <td>0.803741</td>\n",
              "      <td>0.480580</td>\n",
              "      <td>0.718000</td>\n",
              "    </tr>\n",
              "  </tbody>\n",
              "</table>\n",
              "</div>\n",
              "      <button class=\"colab-df-convert\" onclick=\"convertToInteractive('df-5194154d-aaec-4f34-a53e-b05981e69a59')\"\n",
              "              title=\"Convert this dataframe to an interactive table.\"\n",
              "              style=\"display:none;\">\n",
              "        \n",
              "  <svg xmlns=\"http://www.w3.org/2000/svg\" height=\"24px\"viewBox=\"0 0 24 24\"\n",
              "       width=\"24px\">\n",
              "    <path d=\"M0 0h24v24H0V0z\" fill=\"none\"/>\n",
              "    <path d=\"M18.56 5.44l.94 2.06.94-2.06 2.06-.94-2.06-.94-.94-2.06-.94 2.06-2.06.94zm-11 1L8.5 8.5l.94-2.06 2.06-.94-2.06-.94L8.5 2.5l-.94 2.06-2.06.94zm10 10l.94 2.06.94-2.06 2.06-.94-2.06-.94-.94-2.06-.94 2.06-2.06.94z\"/><path d=\"M17.41 7.96l-1.37-1.37c-.4-.4-.92-.59-1.43-.59-.52 0-1.04.2-1.43.59L10.3 9.45l-7.72 7.72c-.78.78-.78 2.05 0 2.83L4 21.41c.39.39.9.59 1.41.59.51 0 1.02-.2 1.41-.59l7.78-7.78 2.81-2.81c.8-.78.8-2.07 0-2.86zM5.41 20L4 18.59l7.72-7.72 1.47 1.35L5.41 20z\"/>\n",
              "  </svg>\n",
              "      </button>\n",
              "      \n",
              "  <style>\n",
              "    .colab-df-container {\n",
              "      display:flex;\n",
              "      flex-wrap:wrap;\n",
              "      gap: 12px;\n",
              "    }\n",
              "\n",
              "    .colab-df-convert {\n",
              "      background-color: #E8F0FE;\n",
              "      border: none;\n",
              "      border-radius: 50%;\n",
              "      cursor: pointer;\n",
              "      display: none;\n",
              "      fill: #1967D2;\n",
              "      height: 32px;\n",
              "      padding: 0 0 0 0;\n",
              "      width: 32px;\n",
              "    }\n",
              "\n",
              "    .colab-df-convert:hover {\n",
              "      background-color: #E2EBFA;\n",
              "      box-shadow: 0px 1px 2px rgba(60, 64, 67, 0.3), 0px 1px 3px 1px rgba(60, 64, 67, 0.15);\n",
              "      fill: #174EA6;\n",
              "    }\n",
              "\n",
              "    [theme=dark] .colab-df-convert {\n",
              "      background-color: #3B4455;\n",
              "      fill: #D2E3FC;\n",
              "    }\n",
              "\n",
              "    [theme=dark] .colab-df-convert:hover {\n",
              "      background-color: #434B5C;\n",
              "      box-shadow: 0px 1px 3px 1px rgba(0, 0, 0, 0.15);\n",
              "      filter: drop-shadow(0px 1px 2px rgba(0, 0, 0, 0.3));\n",
              "      fill: #FFFFFF;\n",
              "    }\n",
              "  </style>\n",
              "\n",
              "      <script>\n",
              "        const buttonEl =\n",
              "          document.querySelector('#df-5194154d-aaec-4f34-a53e-b05981e69a59 button.colab-df-convert');\n",
              "        buttonEl.style.display =\n",
              "          google.colab.kernel.accessAllowed ? 'block' : 'none';\n",
              "\n",
              "        async function convertToInteractive(key) {\n",
              "          const element = document.querySelector('#df-5194154d-aaec-4f34-a53e-b05981e69a59');\n",
              "          const dataTable =\n",
              "            await google.colab.kernel.invokeFunction('convertToInteractive',\n",
              "                                                     [key], {});\n",
              "          if (!dataTable) return;\n",
              "\n",
              "          const docLinkHtml = 'Like what you see? Visit the ' +\n",
              "            '<a target=\"_blank\" href=https://colab.research.google.com/notebooks/data_table.ipynb>data table notebook</a>'\n",
              "            + ' to learn more about interactive tables.';\n",
              "          element.innerHTML = '';\n",
              "          dataTable['output_type'] = 'display_data';\n",
              "          await google.colab.output.renderOutput(dataTable, element);\n",
              "          const docLink = document.createElement('div');\n",
              "          docLink.innerHTML = docLinkHtml;\n",
              "          element.appendChild(docLink);\n",
              "        }\n",
              "      </script>\n",
              "    </div>\n",
              "  </div>\n",
              "  "
            ]
          },
          "metadata": {},
          "execution_count": 71
        }
      ]
    },
    {
      "cell_type": "code",
      "source": [
        "print(classification_report(y_test,predicted))"
      ],
      "metadata": {
        "colab": {
          "base_uri": "https://localhost:8080/"
        },
        "id": "eFS6xKeop_ay",
        "outputId": "60338084-9a51-4ba6-823f-f5e87e4ad777"
      },
      "execution_count": 72,
      "outputs": [
        {
          "output_type": "stream",
          "name": "stdout",
          "text": [
            "              precision    recall  f1-score   support\n",
            "\n",
            "           0       0.56      0.59      0.57       348\n",
            "           1       0.69      0.67      0.68       381\n",
            "           2       0.67      0.62      0.64       372\n",
            "           3       0.92      0.97      0.94       399\n",
            "\n",
            "    accuracy                           0.72      1500\n",
            "   macro avg       0.71      0.71      0.71      1500\n",
            "weighted avg       0.72      0.72      0.72      1500\n",
            "\n"
          ]
        }
      ]
    },
    {
      "cell_type": "code",
      "source": [
        "from sklearn.metrics import confusion_matrix\n",
        "from matplotlib.pyplot import figure\n",
        "figure(figsize=(9, 8), dpi=80)\n",
        "cm = confusion_matrix(y_test,predicted)\n",
        "\n",
        "sns.heatmap(cm, annot=True,fmt=\"d\",cmap=\"YlGnBu\")"
      ],
      "metadata": {
        "colab": {
          "base_uri": "https://localhost:8080/",
          "height": 550
        },
        "id": "nrUjeNAWqBBS",
        "outputId": "570bb787-bf4b-48fd-e370-5da0baf706b6"
      },
      "execution_count": 73,
      "outputs": [
        {
          "output_type": "execute_result",
          "data": {
            "text/plain": [
              "<matplotlib.axes._subplots.AxesSubplot at 0x7efd8d522f10>"
            ]
          },
          "metadata": {},
          "execution_count": 73
        },
        {
          "output_type": "display_data",
          "data": {
            "text/plain": [
              "<Figure size 720x640 with 2 Axes>"
            ],
            "image/png": "[encoded data removed]"
          },
          "metadata": {
            "needs_background": "light"
          }
        }
      ]
    },
    {
      "cell_type": "markdown",
      "source": [
        "# SGDClassifier"
      ],
      "metadata": {
        "id": "zehYtzS0qYSR"
      }
    },
    {
      "cell_type": "code",
      "source": [
        "from sklearn.linear_model import SGDClassifier\n",
        "\n",
        "SGD_model = SGDClassifier()\n",
        "SGD_model = SGD_model.fit(X_for_model, y_train)\n",
        "SGD_model"
      ],
      "metadata": {
        "colab": {
          "base_uri": "https://localhost:8080/"
        },
        "id": "cWBnVFKQqDVC",
        "outputId": "aaa3a4fb-4c6a-4481-ea4a-0600ecd2728a"
      },
      "execution_count": 74,
      "outputs": [
        {
          "output_type": "execute_result",
          "data": {
            "text/plain": [
              "SGDClassifier()"
            ]
          },
          "metadata": {},
          "execution_count": 74
        }
      ]
    },
    {
      "cell_type": "code",
      "source": [
        "X_test_feature = feature_extractor.predict(x_test)\n",
        "#Now predict using the trained RF model. \n",
        "predicted = SGD_model.predict(X_test_feature)\n",
        "\n",
        "\n",
        "\n",
        "print('Test set evaluation:\\n_____________________________________')\n",
        "print_evaluate(y_test, predicted)"
      ],
      "metadata": {
        "colab": {
          "base_uri": "https://localhost:8080/"
        },
        "id": "y4GeZEBTqbES",
        "outputId": "519fbc19-5ef2-4af2-bdcf-36a1c3c29329"
      },
      "execution_count": 75,
      "outputs": [
        {
          "output_type": "stream",
          "name": "stdout",
          "text": [
            "Test set evaluation:\n",
            "_____________________________________\n",
            "MAE: 0.414\n",
            "MSE: 0.6713333333333333\n",
            "RMSE: 0.8193493353468552\n",
            "R2 Square 0.4602110698005516\n",
            "Accuracy_mymodel 0.7073333333333334\n",
            "__________________________________\n"
          ]
        }
      ]
    },
    {
      "cell_type": "code",
      "source": [
        "results_df_2 = pd.DataFrame(data=[[\"SGDClassifier\", *evaluate(y_test, predicted)]], \n",
        "                          columns=['Model', 'MAE', 'MSE', 'RMSE', 'R2 Square','Accuracy_mymodel' ])\n",
        "results_df = results_df.append(results_df_2, ignore_index=True)\n",
        "results_df"
      ],
      "metadata": {
        "colab": {
          "base_uri": "https://localhost:8080/",
          "height": 238
        },
        "id": "nET7Sn3lrdsp",
        "outputId": "93205d4f-ff41-4338-a6a2-73f999d73de1"
      },
      "execution_count": 76,
      "outputs": [
        {
          "output_type": "execute_result",
          "data": {
            "text/plain": [
              "                    Model       MAE       MSE      RMSE  R2 Square  \\\n",
              "0    KNeighborsClassifier  0.508000  0.826667  0.909212   0.335315   \n",
              "1                     SVC  0.409333  0.665333  0.815680   0.465035   \n",
              "2                 RBF SVC  0.390667  0.634667  0.796660   0.489693   \n",
              "3  DecisionTreeClassifier  0.650000  1.143333  1.069268   0.080697   \n",
              "4      LogisticRegression  0.399333  0.646000  0.803741   0.480580   \n",
              "5           SGDClassifier  0.414000  0.671333  0.819349   0.460211   \n",
              "\n",
              "   Accuracy_mymodel  \n",
              "0          0.642000  \n",
              "1          0.713333  \n",
              "2          0.727333  \n",
              "3          0.565333  \n",
              "4          0.718000  \n",
              "5          0.707333  "
            ],
            "text/html": [
              "\n",
              "  <div id=\"df-4087fae0-4cea-466d-b137-dbb7fa7c79ad\">\n",
              "    <div class=\"colab-df-container\">\n",
              "      <div>\n",
              "<style scoped>\n",
              "    .dataframe tbody tr th:only-of-type {\n",
              "        vertical-align: middle;\n",
              "    }\n",
              "\n",
              "    .dataframe tbody tr th {\n",
              "        vertical-align: top;\n",
              "    }\n",
              "\n",
              "    .dataframe thead th {\n",
              "        text-align: right;\n",
              "    }\n",
              "</style>\n",
              "<table border=\"1\" class=\"dataframe\">\n",
              "  <thead>\n",
              "    <tr style=\"text-align: right;\">\n",
              "      <th></th>\n",
              "      <th>Model</th>\n",
              "      <th>MAE</th>\n",
              "      <th>MSE</th>\n",
              "      <th>RMSE</th>\n",
              "      <th>R2 Square</th>\n",
              "      <th>Accuracy_mymodel</th>\n",
              "    </tr>\n",
              "  </thead>\n",
              "  <tbody>\n",
              "    <tr>\n",
              "      <th>0</th>\n",
              "      <td>KNeighborsClassifier</td>\n",
              "      <td>0.508000</td>\n",
              "      <td>0.826667</td>\n",
              "      <td>0.909212</td>\n",
              "      <td>0.335315</td>\n",
              "      <td>0.642000</td>\n",
              "    </tr>\n",
              "    <tr>\n",
              "      <th>1</th>\n",
              "      <td>SVC</td>\n",
              "      <td>0.409333</td>\n",
              "      <td>0.665333</td>\n",
              "      <td>0.815680</td>\n",
              "      <td>0.465035</td>\n",
              "      <td>0.713333</td>\n",
              "    </tr>\n",
              "    <tr>\n",
              "      <th>2</th>\n",
              "      <td>RBF SVC</td>\n",
              "      <td>0.390667</td>\n",
              "      <td>0.634667</td>\n",
              "      <td>0.796660</td>\n",
              "      <td>0.489693</td>\n",
              "      <td>0.727333</td>\n",
              "    </tr>\n",
              "    <tr>\n",
              "      <th>3</th>\n",
              "      <td>DecisionTreeClassifier</td>\n",
              "      <td>0.650000</td>\n",
              "      <td>1.143333</td>\n",
              "      <td>1.069268</td>\n",
              "      <td>0.080697</td>\n",
              "      <td>0.565333</td>\n",
              "    </tr>\n",
              "    <tr>\n",
              "      <th>4</th>\n",
              "      <td>LogisticRegression</td>\n",
              "      <td>0.399333</td>\n",
              "      <td>0.646000</td>\n",
              "      <td>0.803741</td>\n",
              "      <td>0.480580</td>\n",
              "      <td>0.718000</td>\n",
              "    </tr>\n",
              "    <tr>\n",
              "      <th>5</th>\n",
              "      <td>SGDClassifier</td>\n",
              "      <td>0.414000</td>\n",
              "      <td>0.671333</td>\n",
              "      <td>0.819349</td>\n",
              "      <td>0.460211</td>\n",
              "      <td>0.707333</td>\n",
              "    </tr>\n",
              "  </tbody>\n",
              "</table>\n",
              "</div>\n",
              "      <button class=\"colab-df-convert\" onclick=\"convertToInteractive('df-4087fae0-4cea-466d-b137-dbb7fa7c79ad')\"\n",
              "              title=\"Convert this dataframe to an interactive table.\"\n",
              "              style=\"display:none;\">\n",
              "        \n",
              "  <svg xmlns=\"http://www.w3.org/2000/svg\" height=\"24px\"viewBox=\"0 0 24 24\"\n",
              "       width=\"24px\">\n",
              "    <path d=\"M0 0h24v24H0V0z\" fill=\"none\"/>\n",
              "    <path d=\"M18.56 5.44l.94 2.06.94-2.06 2.06-.94-2.06-.94-.94-2.06-.94 2.06-2.06.94zm-11 1L8.5 8.5l.94-2.06 2.06-.94-2.06-.94L8.5 2.5l-.94 2.06-2.06.94zm10 10l.94 2.06.94-2.06 2.06-.94-2.06-.94-.94-2.06-.94 2.06-2.06.94z\"/><path d=\"M17.41 7.96l-1.37-1.37c-.4-.4-.92-.59-1.43-.59-.52 0-1.04.2-1.43.59L10.3 9.45l-7.72 7.72c-.78.78-.78 2.05 0 2.83L4 21.41c.39.39.9.59 1.41.59.51 0 1.02-.2 1.41-.59l7.78-7.78 2.81-2.81c.8-.78.8-2.07 0-2.86zM5.41 20L4 18.59l7.72-7.72 1.47 1.35L5.41 20z\"/>\n",
              "  </svg>\n",
              "      </button>\n",
              "      \n",
              "  <style>\n",
              "    .colab-df-container {\n",
              "      display:flex;\n",
              "      flex-wrap:wrap;\n",
              "      gap: 12px;\n",
              "    }\n",
              "\n",
              "    .colab-df-convert {\n",
              "      background-color: #E8F0FE;\n",
              "      border: none;\n",
              "      border-radius: 50%;\n",
              "      cursor: pointer;\n",
              "      display: none;\n",
              "      fill: #1967D2;\n",
              "      height: 32px;\n",
              "      padding: 0 0 0 0;\n",
              "      width: 32px;\n",
              "    }\n",
              "\n",
              "    .colab-df-convert:hover {\n",
              "      background-color: #E2EBFA;\n",
              "      box-shadow: 0px 1px 2px rgba(60, 64, 67, 0.3), 0px 1px 3px 1px rgba(60, 64, 67, 0.15);\n",
              "      fill: #174EA6;\n",
              "    }\n",
              "\n",
              "    [theme=dark] .colab-df-convert {\n",
              "      background-color: #3B4455;\n",
              "      fill: #D2E3FC;\n",
              "    }\n",
              "\n",
              "    [theme=dark] .colab-df-convert:hover {\n",
              "      background-color: #434B5C;\n",
              "      box-shadow: 0px 1px 3px 1px rgba(0, 0, 0, 0.15);\n",
              "      filter: drop-shadow(0px 1px 2px rgba(0, 0, 0, 0.3));\n",
              "      fill: #FFFFFF;\n",
              "    }\n",
              "  </style>\n",
              "\n",
              "      <script>\n",
              "        const buttonEl =\n",
              "          document.querySelector('#df-4087fae0-4cea-466d-b137-dbb7fa7c79ad button.colab-df-convert');\n",
              "        buttonEl.style.display =\n",
              "          google.colab.kernel.accessAllowed ? 'block' : 'none';\n",
              "\n",
              "        async function convertToInteractive(key) {\n",
              "          const element = document.querySelector('#df-4087fae0-4cea-466d-b137-dbb7fa7c79ad');\n",
              "          const dataTable =\n",
              "            await google.colab.kernel.invokeFunction('convertToInteractive',\n",
              "                                                     [key], {});\n",
              "          if (!dataTable) return;\n",
              "\n",
              "          const docLinkHtml = 'Like what you see? Visit the ' +\n",
              "            '<a target=\"_blank\" href=https://colab.research.google.com/notebooks/data_table.ipynb>data table notebook</a>'\n",
              "            + ' to learn more about interactive tables.';\n",
              "          element.innerHTML = '';\n",
              "          dataTable['output_type'] = 'display_data';\n",
              "          await google.colab.output.renderOutput(dataTable, element);\n",
              "          const docLink = document.createElement('div');\n",
              "          docLink.innerHTML = docLinkHtml;\n",
              "          element.appendChild(docLink);\n",
              "        }\n",
              "      </script>\n",
              "    </div>\n",
              "  </div>\n",
              "  "
            ]
          },
          "metadata": {},
          "execution_count": 76
        }
      ]
    },
    {
      "cell_type": "code",
      "source": [
        "print(classification_report(y_test,predicted))"
      ],
      "metadata": {
        "colab": {
          "base_uri": "https://localhost:8080/"
        },
        "id": "WhNvJ0CxrpPa",
        "outputId": "9111f229-63b6-4d11-f7c8-e1d11c6c8d60"
      },
      "execution_count": 77,
      "outputs": [
        {
          "output_type": "stream",
          "name": "stdout",
          "text": [
            "              precision    recall  f1-score   support\n",
            "\n",
            "           0       0.56      0.55      0.56       348\n",
            "           1       0.66      0.69      0.67       381\n",
            "           2       0.65      0.59      0.62       372\n",
            "           3       0.91      0.97      0.94       399\n",
            "\n",
            "    accuracy                           0.71      1500\n",
            "   macro avg       0.70      0.70      0.70      1500\n",
            "weighted avg       0.70      0.71      0.70      1500\n",
            "\n"
          ]
        }
      ]
    },
    {
      "cell_type": "code",
      "source": [
        "from sklearn.metrics import confusion_matrix\n",
        "from matplotlib.pyplot import figure\n",
        "figure(figsize=(9, 8), dpi=80)\n",
        "cm = confusion_matrix(y_test,predicted)\n",
        "\n",
        "sns.heatmap(cm, annot=True,fmt=\"d\",cmap=\"YlGnBu\")"
      ],
      "metadata": {
        "colab": {
          "base_uri": "https://localhost:8080/",
          "height": 550
        },
        "id": "hlvLHFh2sS5N",
        "outputId": "c83eb06c-91da-424f-ae0b-3b986a8fd5fb"
      },
      "execution_count": 78,
      "outputs": [
        {
          "output_type": "execute_result",
          "data": {
            "text/plain": [
              "<matplotlib.axes._subplots.AxesSubplot at 0x7efd8d473b90>"
            ]
          },
          "metadata": {},
          "execution_count": 78
        },
        {
          "output_type": "display_data",
          "data": {
            "text/plain": [
              "<Figure size 720x640 with 2 Axes>"
            ],
            "image/png": "[encoded data removed]"
          },
          "metadata": {
            "needs_background": "light"
          }
        }
      ]
    },
    {
      "cell_type": "markdown",
      "source": [
        "# GradientBoostingClassifier"
      ],
      "metadata": {
        "id": "Rz3BunxVr1WG"
      }
    },
    {
      "cell_type": "code",
      "source": [
        "from sklearn.ensemble import GradientBoostingClassifier\n",
        "\n",
        "GBC_model = GradientBoostingClassifier()\n",
        "GBC_model = GBC_model.fit(X_for_model, y_train)\n",
        "GBC_model"
      ],
      "metadata": {
        "colab": {
          "base_uri": "https://localhost:8080/"
        },
        "id": "NRoP-X0ar3DA",
        "outputId": "395cd706-d741-4930-8441-d7620dd05d0c"
      },
      "execution_count": 79,
      "outputs": [
        {
          "output_type": "execute_result",
          "data": {
            "text/plain": [
              "GradientBoostingClassifier()"
            ]
          },
          "metadata": {},
          "execution_count": 79
        }
      ]
    },
    {
      "cell_type": "code",
      "source": [
        "X_test_feature = feature_extractor.predict(x_test)\n",
        "#Now predict using the trained RF model. \n",
        "predicted = GBC_model.predict(X_test_feature)\n",
        "\n",
        "\n",
        "\n",
        "print('Test set evaluation:\\n_____________________________________')\n",
        "print_evaluate(y_test, predicted)"
      ],
      "metadata": {
        "id": "XZumfQ1Tr5PD"
      },
      "execution_count": 79,
      "outputs": []
    },
    {
      "cell_type": "code",
      "source": [
        "results_df_2 = pd.DataFrame(data=[[\"GradientBoostingClassifier\", *evaluate(y_test, predicted)]], \n",
        "                          columns=['Model', 'MAE', 'MSE', 'RMSE', 'R2 Square','Accuracy_mymodel' ])\n",
        "results_df = results_df.append(results_df_2, ignore_index=True)\n",
        "results_df"
      ],
      "metadata": {
        "colab": {
          "base_uri": "https://localhost:8080/",
          "height": 269
        },
        "id": "96maTZKUTpOD",
        "outputId": "25d40743-231b-4c42-c4f3-1a6beaba7b83"
      },
      "execution_count": 80,
      "outputs": [
        {
          "output_type": "execute_result",
          "data": {
            "text/plain": [
              "                        Model       MAE       MSE      RMSE  R2 Square  \\\n",
              "0        KNeighborsClassifier  0.508000  0.826667  0.909212   0.335315   \n",
              "1                         SVC  0.409333  0.665333  0.815680   0.465035   \n",
              "2                     RBF SVC  0.390667  0.634667  0.796660   0.489693   \n",
              "3      DecisionTreeClassifier  0.650000  1.143333  1.069268   0.080697   \n",
              "4          LogisticRegression  0.399333  0.646000  0.803741   0.480580   \n",
              "5               SGDClassifier  0.414000  0.671333  0.819349   0.460211   \n",
              "6  GradientBoostingClassifier  0.414000  0.671333  0.819349   0.460211   \n",
              "\n",
              "   Accuracy_mymodel  \n",
              "0          0.642000  \n",
              "1          0.713333  \n",
              "2          0.727333  \n",
              "3          0.565333  \n",
              "4          0.718000  \n",
              "5          0.707333  \n",
              "6          0.707333  "
            ],
            "text/html": [
              "\n",
              "  <div id=\"df-d41e6212-cdff-4924-8d20-21529f362336\">\n",
              "    <div class=\"colab-df-container\">\n",
              "      <div>\n",
              "<style scoped>\n",
              "    .dataframe tbody tr th:only-of-type {\n",
              "        vertical-align: middle;\n",
              "    }\n",
              "\n",
              "    .dataframe tbody tr th {\n",
              "        vertical-align: top;\n",
              "    }\n",
              "\n",
              "    .dataframe thead th {\n",
              "        text-align: right;\n",
              "    }\n",
              "</style>\n",
              "<table border=\"1\" class=\"dataframe\">\n",
              "  <thead>\n",
              "    <tr style=\"text-align: right;\">\n",
              "      <th></th>\n",
              "      <th>Model</th>\n",
              "      <th>MAE</th>\n",
              "      <th>MSE</th>\n",
              "      <th>RMSE</th>\n",
              "      <th>R2 Square</th>\n",
              "      <th>Accuracy_mymodel</th>\n",
              "    </tr>\n",
              "  </thead>\n",
              "  <tbody>\n",
              "    <tr>\n",
              "      <th>0</th>\n",
              "      <td>KNeighborsClassifier</td>\n",
              "      <td>0.508000</td>\n",
              "      <td>0.826667</td>\n",
              "      <td>0.909212</td>\n",
              "      <td>0.335315</td>\n",
              "      <td>0.642000</td>\n",
              "    </tr>\n",
              "    <tr>\n",
              "      <th>1</th>\n",
              "      <td>SVC</td>\n",
              "      <td>0.409333</td>\n",
              "      <td>0.665333</td>\n",
              "      <td>0.815680</td>\n",
              "      <td>0.465035</td>\n",
              "      <td>0.713333</td>\n",
              "    </tr>\n",
              "    <tr>\n",
              "      <th>2</th>\n",
              "      <td>RBF SVC</td>\n",
              "      <td>0.390667</td>\n",
              "      <td>0.634667</td>\n",
              "      <td>0.796660</td>\n",
              "      <td>0.489693</td>\n",
              "      <td>0.727333</td>\n",
              "    </tr>\n",
              "    <tr>\n",
              "      <th>3</th>\n",
              "      <td>DecisionTreeClassifier</td>\n",
              "      <td>0.650000</td>\n",
              "      <td>1.143333</td>\n",
              "      <td>1.069268</td>\n",
              "      <td>0.080697</td>\n",
              "      <td>0.565333</td>\n",
              "    </tr>\n",
              "    <tr>\n",
              "      <th>4</th>\n",
              "      <td>LogisticRegression</td>\n",
              "      <td>0.399333</td>\n",
              "      <td>0.646000</td>\n",
              "      <td>0.803741</td>\n",
              "      <td>0.480580</td>\n",
              "      <td>0.718000</td>\n",
              "    </tr>\n",
              "    <tr>\n",
              "      <th>5</th>\n",
              "      <td>SGDClassifier</td>\n",
              "      <td>0.414000</td>\n",
              "      <td>0.671333</td>\n",
              "      <td>0.819349</td>\n",
              "      <td>0.460211</td>\n",
              "      <td>0.707333</td>\n",
              "    </tr>\n",
              "    <tr>\n",
              "      <th>6</th>\n",
              "      <td>GradientBoostingClassifier</td>\n",
              "      <td>0.414000</td>\n",
              "      <td>0.671333</td>\n",
              "      <td>0.819349</td>\n",
              "      <td>0.460211</td>\n",
              "      <td>0.707333</td>\n",
              "    </tr>\n",
              "  </tbody>\n",
              "</table>\n",
              "</div>\n",
              "      <button class=\"colab-df-convert\" onclick=\"convertToInteractive('df-d41e6212-cdff-4924-8d20-21529f362336')\"\n",
              "              title=\"Convert this dataframe to an interactive table.\"\n",
              "              style=\"display:none;\">\n",
              "        \n",
              "  <svg xmlns=\"http://www.w3.org/2000/svg\" height=\"24px\"viewBox=\"0 0 24 24\"\n",
              "       width=\"24px\">\n",
              "    <path d=\"M0 0h24v24H0V0z\" fill=\"none\"/>\n",
              "    <path d=\"M18.56 5.44l.94 2.06.94-2.06 2.06-.94-2.06-.94-.94-2.06-.94 2.06-2.06.94zm-11 1L8.5 8.5l.94-2.06 2.06-.94-2.06-.94L8.5 2.5l-.94 2.06-2.06.94zm10 10l.94 2.06.94-2.06 2.06-.94-2.06-.94-.94-2.06-.94 2.06-2.06.94z\"/><path d=\"M17.41 7.96l-1.37-1.37c-.4-.4-.92-.59-1.43-.59-.52 0-1.04.2-1.43.59L10.3 9.45l-7.72 7.72c-.78.78-.78 2.05 0 2.83L4 21.41c.39.39.9.59 1.41.59.51 0 1.02-.2 1.41-.59l7.78-7.78 2.81-2.81c.8-.78.8-2.07 0-2.86zM5.41 20L4 18.59l7.72-7.72 1.47 1.35L5.41 20z\"/>\n",
              "  </svg>\n",
              "      </button>\n",
              "      \n",
              "  <style>\n",
              "    .colab-df-container {\n",
              "      display:flex;\n",
              "      flex-wrap:wrap;\n",
              "      gap: 12px;\n",
              "    }\n",
              "\n",
              "    .colab-df-convert {\n",
              "      background-color: #E8F0FE;\n",
              "      border: none;\n",
              "      border-radius: 50%;\n",
              "      cursor: pointer;\n",
              "      display: none;\n",
              "      fill: #1967D2;\n",
              "      height: 32px;\n",
              "      padding: 0 0 0 0;\n",
              "      width: 32px;\n",
              "    }\n",
              "\n",
              "    .colab-df-convert:hover {\n",
              "      background-color: #E2EBFA;\n",
              "      box-shadow: 0px 1px 2px rgba(60, 64, 67, 0.3), 0px 1px 3px 1px rgba(60, 64, 67, 0.15);\n",
              "      fill: #174EA6;\n",
              "    }\n",
              "\n",
              "    [theme=dark] .colab-df-convert {\n",
              "      background-color: #3B4455;\n",
              "      fill: #D2E3FC;\n",
              "    }\n",
              "\n",
              "    [theme=dark] .colab-df-convert:hover {\n",
              "      background-color: #434B5C;\n",
              "      box-shadow: 0px 1px 3px 1px rgba(0, 0, 0, 0.15);\n",
              "      filter: drop-shadow(0px 1px 2px rgba(0, 0, 0, 0.3));\n",
              "      fill: #FFFFFF;\n",
              "    }\n",
              "  </style>\n",
              "\n",
              "      <script>\n",
              "        const buttonEl =\n",
              "          document.querySelector('#df-d41e6212-cdff-4924-8d20-21529f362336 button.colab-df-convert');\n",
              "        buttonEl.style.display =\n",
              "          google.colab.kernel.accessAllowed ? 'block' : 'none';\n",
              "\n",
              "        async function convertToInteractive(key) {\n",
              "          const element = document.querySelector('#df-d41e6212-cdff-4924-8d20-21529f362336');\n",
              "          const dataTable =\n",
              "            await google.colab.kernel.invokeFunction('convertToInteractive',\n",
              "                                                     [key], {});\n",
              "          if (!dataTable) return;\n",
              "\n",
              "          const docLinkHtml = 'Like what you see? Visit the ' +\n",
              "            '<a target=\"_blank\" href=https://colab.research.google.com/notebooks/data_table.ipynb>data table notebook</a>'\n",
              "            + ' to learn more about interactive tables.';\n",
              "          element.innerHTML = '';\n",
              "          dataTable['output_type'] = 'display_data';\n",
              "          await google.colab.output.renderOutput(dataTable, element);\n",
              "          const docLink = document.createElement('div');\n",
              "          docLink.innerHTML = docLinkHtml;\n",
              "          element.appendChild(docLink);\n",
              "        }\n",
              "      </script>\n",
              "    </div>\n",
              "  </div>\n",
              "  "
            ]
          },
          "metadata": {},
          "execution_count": 80
        }
      ]
    },
    {
      "cell_type": "code",
      "source": [
        "print(classification_report(y_test,predicted))"
      ],
      "metadata": {
        "colab": {
          "base_uri": "https://localhost:8080/"
        },
        "id": "KtPBBl3gTwoY",
        "outputId": "6526648b-93e7-4405-f6d5-169469695f7b"
      },
      "execution_count": 81,
      "outputs": [
        {
          "output_type": "stream",
          "name": "stdout",
          "text": [
            "              precision    recall  f1-score   support\n",
            "\n",
            "           0       0.56      0.55      0.56       348\n",
            "           1       0.66      0.69      0.67       381\n",
            "           2       0.65      0.59      0.62       372\n",
            "           3       0.91      0.97      0.94       399\n",
            "\n",
            "    accuracy                           0.71      1500\n",
            "   macro avg       0.70      0.70      0.70      1500\n",
            "weighted avg       0.70      0.71      0.70      1500\n",
            "\n"
          ]
        }
      ]
    },
    {
      "cell_type": "code",
      "source": [
        "from sklearn.metrics import confusion_matrix\n",
        "from matplotlib.pyplot import figure\n",
        "figure(figsize=(9, 8), dpi=80)\n",
        "cm = confusion_matrix(y_test,predicted)\n",
        "\n",
        "sns.heatmap(cm, annot=True,fmt=\"d\",cmap=\"YlGnBu\")"
      ],
      "metadata": {
        "colab": {
          "base_uri": "https://localhost:8080/",
          "height": 550
        },
        "id": "q44uIb7RTzQT",
        "outputId": "ee622efc-b511-4fd0-95f7-e2829a66aaf8"
      },
      "execution_count": 82,
      "outputs": [
        {
          "output_type": "execute_result",
          "data": {
            "text/plain": [
              "<matplotlib.axes._subplots.AxesSubplot at 0x7efd8d61d950>"
            ]
          },
          "metadata": {},
          "execution_count": 82
        },
        {
          "output_type": "display_data",
          "data": {
            "text/plain": [
              "<Figure size 720x640 with 2 Axes>"
            ],
            "image/png": "[encoded data removed]"
          },
          "metadata": {
            "needs_background": "light"
          }
        }
      ]
    },
    {
      "cell_type": "markdown",
      "source": [
        "# SGDClassifier"
      ],
      "metadata": {
        "id": "5K8n4UD9ZS7M"
      }
    },
    {
      "cell_type": "code",
      "source": [
        "from sklearn.linear_model import SGDClassifier\n",
        "\n",
        "SGD_model = SGDClassifier()\n",
        "SGD_model = SGD_model.fit(X_for_model, y_train)\n",
        "SGD_model"
      ],
      "metadata": {
        "colab": {
          "base_uri": "https://localhost:8080/"
        },
        "id": "k7tcrJ9UT1NK",
        "outputId": "40ce4099-4cc9-4863-ebd4-43089dc9839d"
      },
      "execution_count": 83,
      "outputs": [
        {
          "output_type": "execute_result",
          "data": {
            "text/plain": [
              "SGDClassifier()"
            ]
          },
          "metadata": {},
          "execution_count": 83
        }
      ]
    },
    {
      "cell_type": "code",
      "source": [
        "X_test_feature = feature_extractor.predict(x_test)\n",
        "#Now predict using the trained RF model. \n",
        "predicted = SGD_model.predict(X_test_feature)\n",
        "\n",
        "\n",
        "\n",
        "print('Test set evaluation:\\n_____________________________________')\n",
        "print_evaluate(y_test, predicted)"
      ],
      "metadata": {
        "colab": {
          "base_uri": "https://localhost:8080/"
        },
        "id": "kYBWVXx6ZYa2",
        "outputId": "172057bc-0495-4697-95b6-df09c0ae5ac1"
      },
      "execution_count": 84,
      "outputs": [
        {
          "output_type": "stream",
          "name": "stdout",
          "text": [
            "Test set evaluation:\n",
            "_____________________________________\n",
            "MAE: 0.4246666666666667\n",
            "MSE: 0.6953333333333334\n",
            "RMSE: 0.8338664961091394\n",
            "R2 Square 0.44091374955508966\n",
            "Accuracy_mymodel 0.7046666666666667\n",
            "__________________________________\n"
          ]
        }
      ]
    },
    {
      "cell_type": "code",
      "source": [
        "results_df_2 = pd.DataFrame(data=[[\"SGDClassifier\", *evaluate(y_test, predicted)]], \n",
        "                          columns=['Model', 'MAE', 'MSE', 'RMSE', 'R2 Square','Accuracy_mymodel' ])\n",
        "results_df = results_df.append(results_df_2, ignore_index=True)\n",
        "results_df"
      ],
      "metadata": {
        "colab": {
          "base_uri": "https://localhost:8080/",
          "height": 300
        },
        "id": "YkHmfOgoZcqo",
        "outputId": "5d6dcf67-d20b-4fd3-94f0-9ff11591d2cb"
      },
      "execution_count": 85,
      "outputs": [
        {
          "output_type": "execute_result",
          "data": {
            "text/plain": [
              "                        Model       MAE       MSE      RMSE  R2 Square  \\\n",
              "0        KNeighborsClassifier  0.508000  0.826667  0.909212   0.335315   \n",
              "1                         SVC  0.409333  0.665333  0.815680   0.465035   \n",
              "2                     RBF SVC  0.390667  0.634667  0.796660   0.489693   \n",
              "3      DecisionTreeClassifier  0.650000  1.143333  1.069268   0.080697   \n",
              "4          LogisticRegression  0.399333  0.646000  0.803741   0.480580   \n",
              "5               SGDClassifier  0.414000  0.671333  0.819349   0.460211   \n",
              "6  GradientBoostingClassifier  0.414000  0.671333  0.819349   0.460211   \n",
              "7               SGDClassifier  0.424667  0.695333  0.833866   0.440914   \n",
              "\n",
              "   Accuracy_mymodel  \n",
              "0          0.642000  \n",
              "1          0.713333  \n",
              "2          0.727333  \n",
              "3          0.565333  \n",
              "4          0.718000  \n",
              "5          0.707333  \n",
              "6          0.707333  \n",
              "7          0.704667  "
            ],
            "text/html": [
              "\n",
              "  <div id=\"df-b065a3dc-1ce0-483a-bfd3-d26bc5a67a88\">\n",
              "    <div class=\"colab-df-container\">\n",
              "      <div>\n",
              "<style scoped>\n",
              "    .dataframe tbody tr th:only-of-type {\n",
              "        vertical-align: middle;\n",
              "    }\n",
              "\n",
              "    .dataframe tbody tr th {\n",
              "        vertical-align: top;\n",
              "    }\n",
              "\n",
              "    .dataframe thead th {\n",
              "        text-align: right;\n",
              "    }\n",
              "</style>\n",
              "<table border=\"1\" class=\"dataframe\">\n",
              "  <thead>\n",
              "    <tr style=\"text-align: right;\">\n",
              "      <th></th>\n",
              "      <th>Model</th>\n",
              "      <th>MAE</th>\n",
              "      <th>MSE</th>\n",
              "      <th>RMSE</th>\n",
              "      <th>R2 Square</th>\n",
              "      <th>Accuracy_mymodel</th>\n",
              "    </tr>\n",
              "  </thead>\n",
              "  <tbody>\n",
              "    <tr>\n",
              "      <th>0</th>\n",
              "      <td>KNeighborsClassifier</td>\n",
              "      <td>0.508000</td>\n",
              "      <td>0.826667</td>\n",
              "      <td>0.909212</td>\n",
              "      <td>0.335315</td>\n",
              "      <td>0.642000</td>\n",
              "    </tr>\n",
              "    <tr>\n",
              "      <th>1</th>\n",
              "      <td>SVC</td>\n",
              "      <td>0.409333</td>\n",
              "      <td>0.665333</td>\n",
              "      <td>0.815680</td>\n",
              "      <td>0.465035</td>\n",
              "      <td>0.713333</td>\n",
              "    </tr>\n",
              "    <tr>\n",
              "      <th>2</th>\n",
              "      <td>RBF SVC</td>\n",
              "      <td>0.390667</td>\n",
              "      <td>0.634667</td>\n",
              "      <td>0.796660</td>\n",
              "      <td>0.489693</td>\n",
              "      <td>0.727333</td>\n",
              "    </tr>\n",
              "    <tr>\n",
              "      <th>3</th>\n",
              "      <td>DecisionTreeClassifier</td>\n",
              "      <td>0.650000</td>\n",
              "      <td>1.143333</td>\n",
              "      <td>1.069268</td>\n",
              "      <td>0.080697</td>\n",
              "      <td>0.565333</td>\n",
              "    </tr>\n",
              "    <tr>\n",
              "      <th>4</th>\n",
              "      <td>LogisticRegression</td>\n",
              "      <td>0.399333</td>\n",
              "      <td>0.646000</td>\n",
              "      <td>0.803741</td>\n",
              "      <td>0.480580</td>\n",
              "      <td>0.718000</td>\n",
              "    </tr>\n",
              "    <tr>\n",
              "      <th>5</th>\n",
              "      <td>SGDClassifier</td>\n",
              "      <td>0.414000</td>\n",
              "      <td>0.671333</td>\n",
              "      <td>0.819349</td>\n",
              "      <td>0.460211</td>\n",
              "      <td>0.707333</td>\n",
              "    </tr>\n",
              "    <tr>\n",
              "      <th>6</th>\n",
              "      <td>GradientBoostingClassifier</td>\n",
              "      <td>0.414000</td>\n",
              "      <td>0.671333</td>\n",
              "      <td>0.819349</td>\n",
              "      <td>0.460211</td>\n",
              "      <td>0.707333</td>\n",
              "    </tr>\n",
              "    <tr>\n",
              "      <th>7</th>\n",
              "      <td>SGDClassifier</td>\n",
              "      <td>0.424667</td>\n",
              "      <td>0.695333</td>\n",
              "      <td>0.833866</td>\n",
              "      <td>0.440914</td>\n",
              "      <td>0.704667</td>\n",
              "    </tr>\n",
              "  </tbody>\n",
              "</table>\n",
              "</div>\n",
              "      <button class=\"colab-df-convert\" onclick=\"convertToInteractive('df-b065a3dc-1ce0-483a-bfd3-d26bc5a67a88')\"\n",
              "              title=\"Convert this dataframe to an interactive table.\"\n",
              "              style=\"display:none;\">\n",
              "        \n",
              "  <svg xmlns=\"http://www.w3.org/2000/svg\" height=\"24px\"viewBox=\"0 0 24 24\"\n",
              "       width=\"24px\">\n",
              "    <path d=\"M0 0h24v24H0V0z\" fill=\"none\"/>\n",
              "    <path d=\"M18.56 5.44l.94 2.06.94-2.06 2.06-.94-2.06-.94-.94-2.06-.94 2.06-2.06.94zm-11 1L8.5 8.5l.94-2.06 2.06-.94-2.06-.94L8.5 2.5l-.94 2.06-2.06.94zm10 10l.94 2.06.94-2.06 2.06-.94-2.06-.94-.94-2.06-.94 2.06-2.06.94z\"/><path d=\"M17.41 7.96l-1.37-1.37c-.4-.4-.92-.59-1.43-.59-.52 0-1.04.2-1.43.59L10.3 9.45l-7.72 7.72c-.78.78-.78 2.05 0 2.83L4 21.41c.39.39.9.59 1.41.59.51 0 1.02-.2 1.41-.59l7.78-7.78 2.81-2.81c.8-.78.8-2.07 0-2.86zM5.41 20L4 18.59l7.72-7.72 1.47 1.35L5.41 20z\"/>\n",
              "  </svg>\n",
              "      </button>\n",
              "      \n",
              "  <style>\n",
              "    .colab-df-container {\n",
              "      display:flex;\n",
              "      flex-wrap:wrap;\n",
              "      gap: 12px;\n",
              "    }\n",
              "\n",
              "    .colab-df-convert {\n",
              "      background-color: #E8F0FE;\n",
              "      border: none;\n",
              "      border-radius: 50%;\n",
              "      cursor: pointer;\n",
              "      display: none;\n",
              "      fill: #1967D2;\n",
              "      height: 32px;\n",
              "      padding: 0 0 0 0;\n",
              "      width: 32px;\n",
              "    }\n",
              "\n",
              "    .colab-df-convert:hover {\n",
              "      background-color: #E2EBFA;\n",
              "      box-shadow: 0px 1px 2px rgba(60, 64, 67, 0.3), 0px 1px 3px 1px rgba(60, 64, 67, 0.15);\n",
              "      fill: #174EA6;\n",
              "    }\n",
              "\n",
              "    [theme=dark] .colab-df-convert {\n",
              "      background-color: #3B4455;\n",
              "      fill: #D2E3FC;\n",
              "    }\n",
              "\n",
              "    [theme=dark] .colab-df-convert:hover {\n",
              "      background-color: #434B5C;\n",
              "      box-shadow: 0px 1px 3px 1px rgba(0, 0, 0, 0.15);\n",
              "      filter: drop-shadow(0px 1px 2px rgba(0, 0, 0, 0.3));\n",
              "      fill: #FFFFFF;\n",
              "    }\n",
              "  </style>\n",
              "\n",
              "      <script>\n",
              "        const buttonEl =\n",
              "          document.querySelector('#df-b065a3dc-1ce0-483a-bfd3-d26bc5a67a88 button.colab-df-convert');\n",
              "        buttonEl.style.display =\n",
              "          google.colab.kernel.accessAllowed ? 'block' : 'none';\n",
              "\n",
              "        async function convertToInteractive(key) {\n",
              "          const element = document.querySelector('#df-b065a3dc-1ce0-483a-bfd3-d26bc5a67a88');\n",
              "          const dataTable =\n",
              "            await google.colab.kernel.invokeFunction('convertToInteractive',\n",
              "                                                     [key], {});\n",
              "          if (!dataTable) return;\n",
              "\n",
              "          const docLinkHtml = 'Like what you see? Visit the ' +\n",
              "            '<a target=\"_blank\" href=https://colab.research.google.com/notebooks/data_table.ipynb>data table notebook</a>'\n",
              "            + ' to learn more about interactive tables.';\n",
              "          element.innerHTML = '';\n",
              "          dataTable['output_type'] = 'display_data';\n",
              "          await google.colab.output.renderOutput(dataTable, element);\n",
              "          const docLink = document.createElement('div');\n",
              "          docLink.innerHTML = docLinkHtml;\n",
              "          element.appendChild(docLink);\n",
              "        }\n",
              "      </script>\n",
              "    </div>\n",
              "  </div>\n",
              "  "
            ]
          },
          "metadata": {},
          "execution_count": 85
        }
      ]
    },
    {
      "cell_type": "code",
      "source": [
        "print(classification_report(y_test,predicted))"
      ],
      "metadata": {
        "colab": {
          "base_uri": "https://localhost:8080/"
        },
        "id": "rHbQVJzvZh1g",
        "outputId": "73a73636-5bfd-4ffa-9e5c-97545abc5b8e"
      },
      "execution_count": 86,
      "outputs": [
        {
          "output_type": "stream",
          "name": "stdout",
          "text": [
            "              precision    recall  f1-score   support\n",
            "\n",
            "           0       0.56      0.58      0.57       348\n",
            "           1       0.70      0.64      0.66       381\n",
            "           2       0.61      0.63      0.62       372\n",
            "           3       0.93      0.95      0.94       399\n",
            "\n",
            "    accuracy                           0.70      1500\n",
            "   macro avg       0.70      0.70      0.70      1500\n",
            "weighted avg       0.70      0.70      0.70      1500\n",
            "\n"
          ]
        }
      ]
    },
    {
      "cell_type": "code",
      "source": [
        "from sklearn.metrics import confusion_matrix\n",
        "from matplotlib.pyplot import figure\n",
        "figure(figsize=(9, 8), dpi=80)\n",
        "cm = confusion_matrix(y_test,predicted)\n",
        "\n",
        "sns.heatmap(cm, annot=True,fmt=\"d\",cmap=\"YlGnBu\")"
      ],
      "metadata": {
        "colab": {
          "base_uri": "https://localhost:8080/",
          "height": 550
        },
        "id": "h92UlezAZlXS",
        "outputId": "a60b2e25-40ea-45f5-e6bf-fb5ee6b1d52d"
      },
      "execution_count": 87,
      "outputs": [
        {
          "output_type": "execute_result",
          "data": {
            "text/plain": [
              "<matplotlib.axes._subplots.AxesSubplot at 0x7efd8d1f2190>"
            ]
          },
          "metadata": {},
          "execution_count": 87
        },
        {
          "output_type": "display_data",
          "data": {
            "text/plain": [
              "<Figure size 720x640 with 2 Axes>"
            ],
            "image/png": "[encoded data removed]"
          },
          "metadata": {
            "needs_background": "light"
          }
        }
      ]
    },
    {
      "cell_type": "markdown",
      "source": [
        "# LGBMClassifier"
      ],
      "metadata": {
        "id": "Rpz8UHaIZq59"
      }
    },
    {
      "cell_type": "code",
      "source": [
        "from lightgbm import LGBMClassifier\n",
        "\n",
        "LGBM_model = LGBMClassifier()\n",
        "LGBM_model = LGBM_model.fit(X_for_model, y_train)\n",
        "LGBM_model"
      ],
      "metadata": {
        "colab": {
          "base_uri": "https://localhost:8080/"
        },
        "id": "uIZsgG_zZoKY",
        "outputId": "0a53977c-b3ad-493a-f772-13e8ae4fb159"
      },
      "execution_count": 88,
      "outputs": [
        {
          "output_type": "execute_result",
          "data": {
            "text/plain": [
              "LGBMClassifier()"
            ]
          },
          "metadata": {},
          "execution_count": 88
        }
      ]
    },
    {
      "cell_type": "code",
      "source": [
        "X_test_feature = feature_extractor.predict(x_test)\n",
        "#Now predict using the trained RF model. \n",
        "predicted = LGBM_model.predict(X_test_feature)\n",
        "\n",
        "\n",
        "\n",
        "print('Test set evaluation:\\n_____________________________________')\n",
        "print_evaluate(y_test, predicted)"
      ],
      "metadata": {
        "colab": {
          "base_uri": "https://localhost:8080/"
        },
        "id": "i2w8h1KPZtfR",
        "outputId": "af3c0f6b-4ed7-4a6c-90b2-e2a2cf8cf06d"
      },
      "execution_count": 89,
      "outputs": [
        {
          "output_type": "stream",
          "name": "stdout",
          "text": [
            "Test set evaluation:\n",
            "_____________________________________\n",
            "MAE: 0.386\n",
            "MSE: 0.626\n",
            "RMSE: 0.7912016177940993\n",
            "R2 Square 0.4966615635975352\n",
            "Accuracy_mymodel 0.7293333333333333\n",
            "__________________________________\n"
          ]
        }
      ]
    },
    {
      "cell_type": "code",
      "source": [
        "results_df_2 = pd.DataFrame(data=[[\"LGBMClassifier\", *evaluate(y_test, predicted)]], \n",
        "                          columns=['Model', 'MAE', 'MSE', 'RMSE', 'R2 Square','Accuracy_mymodel' ])\n",
        "results_df = results_df.append(results_df_2, ignore_index=True)\n",
        "results_df"
      ],
      "metadata": {
        "colab": {
          "base_uri": "https://localhost:8080/",
          "height": 332
        },
        "id": "NvDz77ELZxP3",
        "outputId": "c403345e-5048-4bee-9cd8-f7eabb3d5d5b"
      },
      "execution_count": 90,
      "outputs": [
        {
          "output_type": "execute_result",
          "data": {
            "text/plain": [
              "                        Model       MAE       MSE      RMSE  R2 Square  \\\n",
              "0        KNeighborsClassifier  0.508000  0.826667  0.909212   0.335315   \n",
              "1                         SVC  0.409333  0.665333  0.815680   0.465035   \n",
              "2                     RBF SVC  0.390667  0.634667  0.796660   0.489693   \n",
              "3      DecisionTreeClassifier  0.650000  1.143333  1.069268   0.080697   \n",
              "4          LogisticRegression  0.399333  0.646000  0.803741   0.480580   \n",
              "5               SGDClassifier  0.414000  0.671333  0.819349   0.460211   \n",
              "6  GradientBoostingClassifier  0.414000  0.671333  0.819349   0.460211   \n",
              "7               SGDClassifier  0.424667  0.695333  0.833866   0.440914   \n",
              "8              LGBMClassifier  0.386000  0.626000  0.791202   0.496662   \n",
              "\n",
              "   Accuracy_mymodel  \n",
              "0          0.642000  \n",
              "1          0.713333  \n",
              "2          0.727333  \n",
              "3          0.565333  \n",
              "4          0.718000  \n",
              "5          0.707333  \n",
              "6          0.707333  \n",
              "7          0.704667  \n",
              "8          0.729333  "
            ],
            "text/html": [
              "\n",
              "  <div id=\"df-92688cfa-38cb-482c-a7dd-f4fc6ed79eef\">\n",
              "    <div class=\"colab-df-container\">\n",
              "      <div>\n",
              "<style scoped>\n",
              "    .dataframe tbody tr th:only-of-type {\n",
              "        vertical-align: middle;\n",
              "    }\n",
              "\n",
              "    .dataframe tbody tr th {\n",
              "        vertical-align: top;\n",
              "    }\n",
              "\n",
              "    .dataframe thead th {\n",
              "        text-align: right;\n",
              "    }\n",
              "</style>\n",
              "<table border=\"1\" class=\"dataframe\">\n",
              "  <thead>\n",
              "    <tr style=\"text-align: right;\">\n",
              "      <th></th>\n",
              "      <th>Model</th>\n",
              "      <th>MAE</th>\n",
              "      <th>MSE</th>\n",
              "      <th>RMSE</th>\n",
              "      <th>R2 Square</th>\n",
              "      <th>Accuracy_mymodel</th>\n",
              "    </tr>\n",
              "  </thead>\n",
              "  <tbody>\n",
              "    <tr>\n",
              "      <th>0</th>\n",
              "      <td>KNeighborsClassifier</td>\n",
              "      <td>0.508000</td>\n",
              "      <td>0.826667</td>\n",
              "      <td>0.909212</td>\n",
              "      <td>0.335315</td>\n",
              "      <td>0.642000</td>\n",
              "    </tr>\n",
              "    <tr>\n",
              "      <th>1</th>\n",
              "      <td>SVC</td>\n",
              "      <td>0.409333</td>\n",
              "      <td>0.665333</td>\n",
              "      <td>0.815680</td>\n",
              "      <td>0.465035</td>\n",
              "      <td>0.713333</td>\n",
              "    </tr>\n",
              "    <tr>\n",
              "      <th>2</th>\n",
              "      <td>RBF SVC</td>\n",
              "      <td>0.390667</td>\n",
              "      <td>0.634667</td>\n",
              "      <td>0.796660</td>\n",
              "      <td>0.489693</td>\n",
              "      <td>0.727333</td>\n",
              "    </tr>\n",
              "    <tr>\n",
              "      <th>3</th>\n",
              "      <td>DecisionTreeClassifier</td>\n",
              "      <td>0.650000</td>\n",
              "      <td>1.143333</td>\n",
              "      <td>1.069268</td>\n",
              "      <td>0.080697</td>\n",
              "      <td>0.565333</td>\n",
              "    </tr>\n",
              "    <tr>\n",
              "      <th>4</th>\n",
              "      <td>LogisticRegression</td>\n",
              "      <td>0.399333</td>\n",
              "      <td>0.646000</td>\n",
              "      <td>0.803741</td>\n",
              "      <td>0.480580</td>\n",
              "      <td>0.718000</td>\n",
              "    </tr>\n",
              "    <tr>\n",
              "      <th>5</th>\n",
              "      <td>SGDClassifier</td>\n",
              "      <td>0.414000</td>\n",
              "      <td>0.671333</td>\n",
              "      <td>0.819349</td>\n",
              "      <td>0.460211</td>\n",
              "      <td>0.707333</td>\n",
              "    </tr>\n",
              "    <tr>\n",
              "      <th>6</th>\n",
              "      <td>GradientBoostingClassifier</td>\n",
              "      <td>0.414000</td>\n",
              "      <td>0.671333</td>\n",
              "      <td>0.819349</td>\n",
              "      <td>0.460211</td>\n",
              "      <td>0.707333</td>\n",
              "    </tr>\n",
              "    <tr>\n",
              "      <th>7</th>\n",
              "      <td>SGDClassifier</td>\n",
              "      <td>0.424667</td>\n",
              "      <td>0.695333</td>\n",
              "      <td>0.833866</td>\n",
              "      <td>0.440914</td>\n",
              "      <td>0.704667</td>\n",
              "    </tr>\n",
              "    <tr>\n",
              "      <th>8</th>\n",
              "      <td>LGBMClassifier</td>\n",
              "      <td>0.386000</td>\n",
              "      <td>0.626000</td>\n",
              "      <td>0.791202</td>\n",
              "      <td>0.496662</td>\n",
              "      <td>0.729333</td>\n",
              "    </tr>\n",
              "  </tbody>\n",
              "</table>\n",
              "</div>\n",
              "      <button class=\"colab-df-convert\" onclick=\"convertToInteractive('df-92688cfa-38cb-482c-a7dd-f4fc6ed79eef')\"\n",
              "              title=\"Convert this dataframe to an interactive table.\"\n",
              "              style=\"display:none;\">\n",
              "        \n",
              "  <svg xmlns=\"http://www.w3.org/2000/svg\" height=\"24px\"viewBox=\"0 0 24 24\"\n",
              "       width=\"24px\">\n",
              "    <path d=\"M0 0h24v24H0V0z\" fill=\"none\"/>\n",
              "    <path d=\"M18.56 5.44l.94 2.06.94-2.06 2.06-.94-2.06-.94-.94-2.06-.94 2.06-2.06.94zm-11 1L8.5 8.5l.94-2.06 2.06-.94-2.06-.94L8.5 2.5l-.94 2.06-2.06.94zm10 10l.94 2.06.94-2.06 2.06-.94-2.06-.94-.94-2.06-.94 2.06-2.06.94z\"/><path d=\"M17.41 7.96l-1.37-1.37c-.4-.4-.92-.59-1.43-.59-.52 0-1.04.2-1.43.59L10.3 9.45l-7.72 7.72c-.78.78-.78 2.05 0 2.83L4 21.41c.39.39.9.59 1.41.59.51 0 1.02-.2 1.41-.59l7.78-7.78 2.81-2.81c.8-.78.8-2.07 0-2.86zM5.41 20L4 18.59l7.72-7.72 1.47 1.35L5.41 20z\"/>\n",
              "  </svg>\n",
              "      </button>\n",
              "      \n",
              "  <style>\n",
              "    .colab-df-container {\n",
              "      display:flex;\n",
              "      flex-wrap:wrap;\n",
              "      gap: 12px;\n",
              "    }\n",
              "\n",
              "    .colab-df-convert {\n",
              "      background-color: #E8F0FE;\n",
              "      border: none;\n",
              "      border-radius: 50%;\n",
              "      cursor: pointer;\n",
              "      display: none;\n",
              "      fill: #1967D2;\n",
              "      height: 32px;\n",
              "      padding: 0 0 0 0;\n",
              "      width: 32px;\n",
              "    }\n",
              "\n",
              "    .colab-df-convert:hover {\n",
              "      background-color: #E2EBFA;\n",
              "      box-shadow: 0px 1px 2px rgba(60, 64, 67, 0.3), 0px 1px 3px 1px rgba(60, 64, 67, 0.15);\n",
              "      fill: #174EA6;\n",
              "    }\n",
              "\n",
              "    [theme=dark] .colab-df-convert {\n",
              "      background-color: #3B4455;\n",
              "      fill: #D2E3FC;\n",
              "    }\n",
              "\n",
              "    [theme=dark] .colab-df-convert:hover {\n",
              "      background-color: #434B5C;\n",
              "      box-shadow: 0px 1px 3px 1px rgba(0, 0, 0, 0.15);\n",
              "      filter: drop-shadow(0px 1px 2px rgba(0, 0, 0, 0.3));\n",
              "      fill: #FFFFFF;\n",
              "    }\n",
              "  </style>\n",
              "\n",
              "      <script>\n",
              "        const buttonEl =\n",
              "          document.querySelector('#df-92688cfa-38cb-482c-a7dd-f4fc6ed79eef button.colab-df-convert');\n",
              "        buttonEl.style.display =\n",
              "          google.colab.kernel.accessAllowed ? 'block' : 'none';\n",
              "\n",
              "        async function convertToInteractive(key) {\n",
              "          const element = document.querySelector('#df-92688cfa-38cb-482c-a7dd-f4fc6ed79eef');\n",
              "          const dataTable =\n",
              "            await google.colab.kernel.invokeFunction('convertToInteractive',\n",
              "                                                     [key], {});\n",
              "          if (!dataTable) return;\n",
              "\n",
              "          const docLinkHtml = 'Like what you see? Visit the ' +\n",
              "            '<a target=\"_blank\" href=https://colab.research.google.com/notebooks/data_table.ipynb>data table notebook</a>'\n",
              "            + ' to learn more about interactive tables.';\n",
              "          element.innerHTML = '';\n",
              "          dataTable['output_type'] = 'display_data';\n",
              "          await google.colab.output.renderOutput(dataTable, element);\n",
              "          const docLink = document.createElement('div');\n",
              "          docLink.innerHTML = docLinkHtml;\n",
              "          element.appendChild(docLink);\n",
              "        }\n",
              "      </script>\n",
              "    </div>\n",
              "  </div>\n",
              "  "
            ]
          },
          "metadata": {},
          "execution_count": 90
        }
      ]
    },
    {
      "cell_type": "code",
      "source": [
        "print(classification_report(y_test,predicted))"
      ],
      "metadata": {
        "colab": {
          "base_uri": "https://localhost:8080/"
        },
        "id": "1DTnnoE7Z0cA",
        "outputId": "751f385a-42c2-49c1-c749-b5dfb9ff5601"
      },
      "execution_count": 91,
      "outputs": [
        {
          "output_type": "stream",
          "name": "stdout",
          "text": [
            "              precision    recall  f1-score   support\n",
            "\n",
            "           0       0.59      0.57      0.58       348\n",
            "           1       0.69      0.70      0.70       381\n",
            "           2       0.69      0.64      0.67       372\n",
            "           3       0.90      0.98      0.94       399\n",
            "\n",
            "    accuracy                           0.73      1500\n",
            "   macro avg       0.72      0.72      0.72      1500\n",
            "weighted avg       0.72      0.73      0.73      1500\n",
            "\n"
          ]
        }
      ]
    },
    {
      "cell_type": "code",
      "source": [
        "from sklearn.metrics import confusion_matrix\n",
        "from matplotlib.pyplot import figure\n",
        "figure(figsize=(9, 8), dpi=80)\n",
        "cm = confusion_matrix(y_test,predicted)\n",
        "\n",
        "sns.heatmap(cm, annot=True,fmt=\"d\",cmap=\"YlGnBu\")"
      ],
      "metadata": {
        "colab": {
          "base_uri": "https://localhost:8080/",
          "height": 550
        },
        "id": "6BFrpYhcZ2GY",
        "outputId": "c3babe3d-e4a9-4d73-ab90-a63d39958721"
      },
      "execution_count": 92,
      "outputs": [
        {
          "output_type": "execute_result",
          "data": {
            "text/plain": [
              "<matplotlib.axes._subplots.AxesSubplot at 0x7efd8d034fd0>"
            ]
          },
          "metadata": {},
          "execution_count": 92
        },
        {
          "output_type": "display_data",
          "data": {
            "text/plain": [
              "<Figure size 720x640 with 2 Axes>"
            ],
            "image/png": "[encoded data removed]"
          },
          "metadata": {
            "needs_background": "light"
          }
        }
      ]
    },
    {
      "cell_type": "markdown",
      "source": [
        "# XGBClassifier"
      ],
      "metadata": {
        "id": "xCGwGKlydtf0"
      }
    },
    {
      "cell_type": "code",
      "source": [
        "from xgboost.sklearn import XGBClassifier\n",
        "\n",
        "XGBC_model = XGBClassifier()\n",
        "XGBC_model = XGBC_model.fit(X_for_model, y_train)\n",
        "XGBC_model"
      ],
      "metadata": {
        "colab": {
          "base_uri": "https://localhost:8080/"
        },
        "id": "bZ0JDIUMZ3un",
        "outputId": "c1f5288b-faf1-4196-b241-6e2f26154749"
      },
      "execution_count": 93,
      "outputs": [
        {
          "output_type": "execute_result",
          "data": {
            "text/plain": [
              "XGBClassifier(objective='multi:softprob')"
            ]
          },
          "metadata": {},
          "execution_count": 93
        }
      ]
    },
    {
      "cell_type": "code",
      "source": [
        "X_test_feature = feature_extractor.predict(x_test)\n",
        "#Now predict using the trained RF model. \n",
        "predicted = XGBC_model.predict(X_test_feature)\n",
        "\n",
        "\n",
        "\n",
        "print('Test set evaluation:\\n_____________________________________')\n",
        "print_evaluate(y_test, predicted)"
      ],
      "metadata": {
        "colab": {
          "base_uri": "https://localhost:8080/"
        },
        "id": "8UnIGcjSdwK3",
        "outputId": "791ff0d1-e3b7-4ba7-f183-8f14657e8357"
      },
      "execution_count": 94,
      "outputs": [
        {
          "output_type": "stream",
          "name": "stdout",
          "text": [
            "Test set evaluation:\n",
            "_____________________________________\n",
            "MAE: 0.406\n",
            "MSE: 0.6566666666666666\n",
            "RMSE: 0.8103497187428812\n",
            "R2 Square 0.47200387661722276\n",
            "Accuracy_mymodel 0.714\n",
            "__________________________________\n"
          ]
        }
      ]
    },
    {
      "cell_type": "code",
      "source": [
        "results_df_2 = pd.DataFrame(data=[[\"XGBClassifier\", *evaluate(y_test, predicted)]], \n",
        "                          columns=['Model', 'MAE', 'MSE', 'RMSE', 'R2 Square','Accuracy_mymodel' ])\n",
        "results_df = results_df.append(results_df_2, ignore_index=True)\n",
        "results_df"
      ],
      "metadata": {
        "colab": {
          "base_uri": "https://localhost:8080/",
          "height": 363
        },
        "id": "pjp2qAZYd0Qv",
        "outputId": "9c606acc-eab5-4951-fcf4-3060cd7dcddd"
      },
      "execution_count": 95,
      "outputs": [
        {
          "output_type": "execute_result",
          "data": {
            "text/plain": [
              "                        Model       MAE       MSE      RMSE  R2 Square  \\\n",
              "0        KNeighborsClassifier  0.508000  0.826667  0.909212   0.335315   \n",
              "1                         SVC  0.409333  0.665333  0.815680   0.465035   \n",
              "2                     RBF SVC  0.390667  0.634667  0.796660   0.489693   \n",
              "3      DecisionTreeClassifier  0.650000  1.143333  1.069268   0.080697   \n",
              "4          LogisticRegression  0.399333  0.646000  0.803741   0.480580   \n",
              "5               SGDClassifier  0.414000  0.671333  0.819349   0.460211   \n",
              "6  GradientBoostingClassifier  0.414000  0.671333  0.819349   0.460211   \n",
              "7               SGDClassifier  0.424667  0.695333  0.833866   0.440914   \n",
              "8              LGBMClassifier  0.386000  0.626000  0.791202   0.496662   \n",
              "9               XGBClassifier  0.406000  0.656667  0.810350   0.472004   \n",
              "\n",
              "   Accuracy_mymodel  \n",
              "0          0.642000  \n",
              "1          0.713333  \n",
              "2          0.727333  \n",
              "3          0.565333  \n",
              "4          0.718000  \n",
              "5          0.707333  \n",
              "6          0.707333  \n",
              "7          0.704667  \n",
              "8          0.729333  \n",
              "9          0.714000  "
            ],
            "text/html": [
              "\n",
              "  <div id=\"df-3e6390c3-88ce-47de-85d8-976b252ff27f\">\n",
              "    <div class=\"colab-df-container\">\n",
              "      <div>\n",
              "<style scoped>\n",
              "    .dataframe tbody tr th:only-of-type {\n",
              "        vertical-align: middle;\n",
              "    }\n",
              "\n",
              "    .dataframe tbody tr th {\n",
              "        vertical-align: top;\n",
              "    }\n",
              "\n",
              "    .dataframe thead th {\n",
              "        text-align: right;\n",
              "    }\n",
              "</style>\n",
              "<table border=\"1\" class=\"dataframe\">\n",
              "  <thead>\n",
              "    <tr style=\"text-align: right;\">\n",
              "      <th></th>\n",
              "      <th>Model</th>\n",
              "      <th>MAE</th>\n",
              "      <th>MSE</th>\n",
              "      <th>RMSE</th>\n",
              "      <th>R2 Square</th>\n",
              "      <th>Accuracy_mymodel</th>\n",
              "    </tr>\n",
              "  </thead>\n",
              "  <tbody>\n",
              "    <tr>\n",
              "      <th>0</th>\n",
              "      <td>KNeighborsClassifier</td>\n",
              "      <td>0.508000</td>\n",
              "      <td>0.826667</td>\n",
              "      <td>0.909212</td>\n",
              "      <td>0.335315</td>\n",
              "      <td>0.642000</td>\n",
              "    </tr>\n",
              "    <tr>\n",
              "      <th>1</th>\n",
              "      <td>SVC</td>\n",
              "      <td>0.409333</td>\n",
              "      <td>0.665333</td>\n",
              "      <td>0.815680</td>\n",
              "      <td>0.465035</td>\n",
              "      <td>0.713333</td>\n",
              "    </tr>\n",
              "    <tr>\n",
              "      <th>2</th>\n",
              "      <td>RBF SVC</td>\n",
              "      <td>0.390667</td>\n",
              "      <td>0.634667</td>\n",
              "      <td>0.796660</td>\n",
              "      <td>0.489693</td>\n",
              "      <td>0.727333</td>\n",
              "    </tr>\n",
              "    <tr>\n",
              "      <th>3</th>\n",
              "      <td>DecisionTreeClassifier</td>\n",
              "      <td>0.650000</td>\n",
              "      <td>1.143333</td>\n",
              "      <td>1.069268</td>\n",
              "      <td>0.080697</td>\n",
              "      <td>0.565333</td>\n",
              "    </tr>\n",
              "    <tr>\n",
              "      <th>4</th>\n",
              "      <td>LogisticRegression</td>\n",
              "      <td>0.399333</td>\n",
              "      <td>0.646000</td>\n",
              "      <td>0.803741</td>\n",
              "      <td>0.480580</td>\n",
              "      <td>0.718000</td>\n",
              "    </tr>\n",
              "    <tr>\n",
              "      <th>5</th>\n",
              "      <td>SGDClassifier</td>\n",
              "      <td>0.414000</td>\n",
              "      <td>0.671333</td>\n",
              "      <td>0.819349</td>\n",
              "      <td>0.460211</td>\n",
              "      <td>0.707333</td>\n",
              "    </tr>\n",
              "    <tr>\n",
              "      <th>6</th>\n",
              "      <td>GradientBoostingClassifier</td>\n",
              "      <td>0.414000</td>\n",
              "      <td>0.671333</td>\n",
              "      <td>0.819349</td>\n",
              "      <td>0.460211</td>\n",
              "      <td>0.707333</td>\n",
              "    </tr>\n",
              "    <tr>\n",
              "      <th>7</th>\n",
              "      <td>SGDClassifier</td>\n",
              "      <td>0.424667</td>\n",
              "      <td>0.695333</td>\n",
              "      <td>0.833866</td>\n",
              "      <td>0.440914</td>\n",
              "      <td>0.704667</td>\n",
              "    </tr>\n",
              "    <tr>\n",
              "      <th>8</th>\n",
              "      <td>LGBMClassifier</td>\n",
              "      <td>0.386000</td>\n",
              "      <td>0.626000</td>\n",
              "      <td>0.791202</td>\n",
              "      <td>0.496662</td>\n",
              "      <td>0.729333</td>\n",
              "    </tr>\n",
              "    <tr>\n",
              "      <th>9</th>\n",
              "      <td>XGBClassifier</td>\n",
              "      <td>0.406000</td>\n",
              "      <td>0.656667</td>\n",
              "      <td>0.810350</td>\n",
              "      <td>0.472004</td>\n",
              "      <td>0.714000</td>\n",
              "    </tr>\n",
              "  </tbody>\n",
              "</table>\n",
              "</div>\n",
              "      <button class=\"colab-df-convert\" onclick=\"convertToInteractive('df-3e6390c3-88ce-47de-85d8-976b252ff27f')\"\n",
              "              title=\"Convert this dataframe to an interactive table.\"\n",
              "              style=\"display:none;\">\n",
              "        \n",
              "  <svg xmlns=\"http://www.w3.org/2000/svg\" height=\"24px\"viewBox=\"0 0 24 24\"\n",
              "       width=\"24px\">\n",
              "    <path d=\"M0 0h24v24H0V0z\" fill=\"none\"/>\n",
              "    <path d=\"M18.56 5.44l.94 2.06.94-2.06 2.06-.94-2.06-.94-.94-2.06-.94 2.06-2.06.94zm-11 1L8.5 8.5l.94-2.06 2.06-.94-2.06-.94L8.5 2.5l-.94 2.06-2.06.94zm10 10l.94 2.06.94-2.06 2.06-.94-2.06-.94-.94-2.06-.94 2.06-2.06.94z\"/><path d=\"M17.41 7.96l-1.37-1.37c-.4-.4-.92-.59-1.43-.59-.52 0-1.04.2-1.43.59L10.3 9.45l-7.72 7.72c-.78.78-.78 2.05 0 2.83L4 21.41c.39.39.9.59 1.41.59.51 0 1.02-.2 1.41-.59l7.78-7.78 2.81-2.81c.8-.78.8-2.07 0-2.86zM5.41 20L4 18.59l7.72-7.72 1.47 1.35L5.41 20z\"/>\n",
              "  </svg>\n",
              "      </button>\n",
              "      \n",
              "  <style>\n",
              "    .colab-df-container {\n",
              "      display:flex;\n",
              "      flex-wrap:wrap;\n",
              "      gap: 12px;\n",
              "    }\n",
              "\n",
              "    .colab-df-convert {\n",
              "      background-color: #E8F0FE;\n",
              "      border: none;\n",
              "      border-radius: 50%;\n",
              "      cursor: pointer;\n",
              "      display: none;\n",
              "      fill: #1967D2;\n",
              "      height: 32px;\n",
              "      padding: 0 0 0 0;\n",
              "      width: 32px;\n",
              "    }\n",
              "\n",
              "    .colab-df-convert:hover {\n",
              "      background-color: #E2EBFA;\n",
              "      box-shadow: 0px 1px 2px rgba(60, 64, 67, 0.3), 0px 1px 3px 1px rgba(60, 64, 67, 0.15);\n",
              "      fill: #174EA6;\n",
              "    }\n",
              "\n",
              "    [theme=dark] .colab-df-convert {\n",
              "      background-color: #3B4455;\n",
              "      fill: #D2E3FC;\n",
              "    }\n",
              "\n",
              "    [theme=dark] .colab-df-convert:hover {\n",
              "      background-color: #434B5C;\n",
              "      box-shadow: 0px 1px 3px 1px rgba(0, 0, 0, 0.15);\n",
              "      filter: drop-shadow(0px 1px 2px rgba(0, 0, 0, 0.3));\n",
              "      fill: #FFFFFF;\n",
              "    }\n",
              "  </style>\n",
              "\n",
              "      <script>\n",
              "        const buttonEl =\n",
              "          document.querySelector('#df-3e6390c3-88ce-47de-85d8-976b252ff27f button.colab-df-convert');\n",
              "        buttonEl.style.display =\n",
              "          google.colab.kernel.accessAllowed ? 'block' : 'none';\n",
              "\n",
              "        async function convertToInteractive(key) {\n",
              "          const element = document.querySelector('#df-3e6390c3-88ce-47de-85d8-976b252ff27f');\n",
              "          const dataTable =\n",
              "            await google.colab.kernel.invokeFunction('convertToInteractive',\n",
              "                                                     [key], {});\n",
              "          if (!dataTable) return;\n",
              "\n",
              "          const docLinkHtml = 'Like what you see? Visit the ' +\n",
              "            '<a target=\"_blank\" href=https://colab.research.google.com/notebooks/data_table.ipynb>data table notebook</a>'\n",
              "            + ' to learn more about interactive tables.';\n",
              "          element.innerHTML = '';\n",
              "          dataTable['output_type'] = 'display_data';\n",
              "          await google.colab.output.renderOutput(dataTable, element);\n",
              "          const docLink = document.createElement('div');\n",
              "          docLink.innerHTML = docLinkHtml;\n",
              "          element.appendChild(docLink);\n",
              "        }\n",
              "      </script>\n",
              "    </div>\n",
              "  </div>\n",
              "  "
            ]
          },
          "metadata": {},
          "execution_count": 95
        }
      ]
    },
    {
      "cell_type": "code",
      "source": [
        "print(classification_report(y_test,predicted))"
      ],
      "metadata": {
        "colab": {
          "base_uri": "https://localhost:8080/"
        },
        "id": "WwzykeD0d37v",
        "outputId": "f3a7b019-0cf8-442e-e1c1-3ab69706c43e"
      },
      "execution_count": 96,
      "outputs": [
        {
          "output_type": "stream",
          "name": "stdout",
          "text": [
            "              precision    recall  f1-score   support\n",
            "\n",
            "           0       0.55      0.56      0.56       348\n",
            "           1       0.68      0.68      0.68       381\n",
            "           2       0.67      0.63      0.65       372\n",
            "           3       0.91      0.96      0.94       399\n",
            "\n",
            "    accuracy                           0.71      1500\n",
            "   macro avg       0.70      0.71      0.71      1500\n",
            "weighted avg       0.71      0.71      0.71      1500\n",
            "\n"
          ]
        }
      ]
    },
    {
      "cell_type": "code",
      "source": [
        "from sklearn.metrics import confusion_matrix\n",
        "from matplotlib.pyplot import figure\n",
        "figure(figsize=(9, 8), dpi=80)\n",
        "cm = confusion_matrix(y_test,predicted)\n",
        "\n",
        "sns.heatmap(cm, annot=True,fmt=\"d\",cmap=\"YlGnBu\")"
      ],
      "metadata": {
        "colab": {
          "base_uri": "https://localhost:8080/",
          "height": 550
        },
        "id": "feuz6kKtd6L-",
        "outputId": "e7f0c5f3-74aa-485b-a3c3-fa45f86337fe"
      },
      "execution_count": 97,
      "outputs": [
        {
          "output_type": "execute_result",
          "data": {
            "text/plain": [
              "<matplotlib.axes._subplots.AxesSubplot at 0x7efe267a2e10>"
            ]
          },
          "metadata": {},
          "execution_count": 97
        },
        {
          "output_type": "display_data",
          "data": {
            "text/plain": [
              "<Figure size 720x640 with 2 Axes>"
            ],
            "image/png": "[encoded data removed]"
          },
          "metadata": {
            "needs_background": "light"
          }
        }
      ]
    },
    {
      "cell_type": "markdown",
      "source": [
        "# RandomForestClassifier"
      ],
      "metadata": {
        "id": "MFwl0JpXeAr1"
      }
    },
    {
      "cell_type": "code",
      "source": [
        "from sklearn.ensemble import RandomForestClassifier\n",
        "\n",
        "rf_model = RandomForestClassifier()\n",
        "rf_model = rf_model.fit(X_for_model, y_train)\n",
        "rf_model"
      ],
      "metadata": {
        "colab": {
          "base_uri": "https://localhost:8080/"
        },
        "id": "gYVN3s7Vd76P",
        "outputId": "ffaa0896-9d31-4216-95cf-a7b06146886b"
      },
      "execution_count": 98,
      "outputs": [
        {
          "output_type": "execute_result",
          "data": {
            "text/plain": [
              "RandomForestClassifier()"
            ]
          },
          "metadata": {},
          "execution_count": 98
        }
      ]
    },
    {
      "cell_type": "code",
      "source": [
        "X_test_feature = feature_extractor.predict(x_test)\n",
        "#Now predict using the trained RF model. \n",
        "predicted = rf_model.predict(X_test_feature)"
      ],
      "metadata": {
        "id": "E_THiyu3eBc3"
      },
      "execution_count": 99,
      "outputs": []
    },
    {
      "cell_type": "code",
      "source": [
        "print('Test set evaluation:\\n_____________________________________')\n",
        "print_evaluate(y_test, predicted)"
      ],
      "metadata": {
        "colab": {
          "base_uri": "https://localhost:8080/"
        },
        "id": "Wqg7x1r4eIKX",
        "outputId": "25c6d71c-2e5e-4972-9d08-33aa6a2f7559"
      },
      "execution_count": 100,
      "outputs": [
        {
          "output_type": "stream",
          "name": "stdout",
          "text": [
            "Test set evaluation:\n",
            "_____________________________________\n",
            "MAE: 0.4206666666666667\n",
            "MSE: 0.6926666666666667\n",
            "RMSE: 0.8322659831247861\n",
            "R2 Square 0.4430578962490299\n",
            "Accuracy_mymodel 0.7073333333333334\n",
            "__________________________________\n"
          ]
        }
      ]
    },
    {
      "cell_type": "code",
      "source": [
        "results_df_2 = pd.DataFrame(data=[[\"RandomForestClassifier\", *evaluate(y_test, predicted)]], \n",
        "                          columns=['Model', 'MAE', 'MSE', 'RMSE', 'R2 Square','Accuracy_mymodel' ])\n",
        "results_df = results_df.append(results_df_2, ignore_index=True)\n",
        "results_df"
      ],
      "metadata": {
        "colab": {
          "base_uri": "https://localhost:8080/",
          "height": 394
        },
        "id": "jLuscTJheMMv",
        "outputId": "f9399561-78ac-4595-841d-ab2df9211dd5"
      },
      "execution_count": 101,
      "outputs": [
        {
          "output_type": "execute_result",
          "data": {
            "text/plain": [
              "                         Model       MAE       MSE      RMSE  R2 Square  \\\n",
              "0         KNeighborsClassifier  0.508000  0.826667  0.909212   0.335315   \n",
              "1                          SVC  0.409333  0.665333  0.815680   0.465035   \n",
              "2                      RBF SVC  0.390667  0.634667  0.796660   0.489693   \n",
              "3       DecisionTreeClassifier  0.650000  1.143333  1.069268   0.080697   \n",
              "4           LogisticRegression  0.399333  0.646000  0.803741   0.480580   \n",
              "5                SGDClassifier  0.414000  0.671333  0.819349   0.460211   \n",
              "6   GradientBoostingClassifier  0.414000  0.671333  0.819349   0.460211   \n",
              "7                SGDClassifier  0.424667  0.695333  0.833866   0.440914   \n",
              "8               LGBMClassifier  0.386000  0.626000  0.791202   0.496662   \n",
              "9                XGBClassifier  0.406000  0.656667  0.810350   0.472004   \n",
              "10      RandomForestClassifier  0.420667  0.692667  0.832266   0.443058   \n",
              "\n",
              "    Accuracy_mymodel  \n",
              "0           0.642000  \n",
              "1           0.713333  \n",
              "2           0.727333  \n",
              "3           0.565333  \n",
              "4           0.718000  \n",
              "5           0.707333  \n",
              "6           0.707333  \n",
              "7           0.704667  \n",
              "8           0.729333  \n",
              "9           0.714000  \n",
              "10          0.707333  "
            ],
            "text/html": [
              "\n",
              "  <div id=\"df-7c5dfabe-ad9b-4b9d-a84c-df45b366f73e\">\n",
              "    <div class=\"colab-df-container\">\n",
              "      <div>\n",
              "<style scoped>\n",
              "    .dataframe tbody tr th:only-of-type {\n",
              "        vertical-align: middle;\n",
              "    }\n",
              "\n",
              "    .dataframe tbody tr th {\n",
              "        vertical-align: top;\n",
              "    }\n",
              "\n",
              "    .dataframe thead th {\n",
              "        text-align: right;\n",
              "    }\n",
              "</style>\n",
              "<table border=\"1\" class=\"dataframe\">\n",
              "  <thead>\n",
              "    <tr style=\"text-align: right;\">\n",
              "      <th></th>\n",
              "      <th>Model</th>\n",
              "      <th>MAE</th>\n",
              "      <th>MSE</th>\n",
              "      <th>RMSE</th>\n",
              "      <th>R2 Square</th>\n",
              "      <th>Accuracy_mymodel</th>\n",
              "    </tr>\n",
              "  </thead>\n",
              "  <tbody>\n",
              "    <tr>\n",
              "      <th>0</th>\n",
              "      <td>KNeighborsClassifier</td>\n",
              "      <td>0.508000</td>\n",
              "      <td>0.826667</td>\n",
              "      <td>0.909212</td>\n",
              "      <td>0.335315</td>\n",
              "      <td>0.642000</td>\n",
              "    </tr>\n",
              "    <tr>\n",
              "      <th>1</th>\n",
              "      <td>SVC</td>\n",
              "      <td>0.409333</td>\n",
              "      <td>0.665333</td>\n",
              "      <td>0.815680</td>\n",
              "      <td>0.465035</td>\n",
              "      <td>0.713333</td>\n",
              "    </tr>\n",
              "    <tr>\n",
              "      <th>2</th>\n",
              "      <td>RBF SVC</td>\n",
              "      <td>0.390667</td>\n",
              "      <td>0.634667</td>\n",
              "      <td>0.796660</td>\n",
              "      <td>0.489693</td>\n",
              "      <td>0.727333</td>\n",
              "    </tr>\n",
              "    <tr>\n",
              "      <th>3</th>\n",
              "      <td>DecisionTreeClassifier</td>\n",
              "      <td>0.650000</td>\n",
              "      <td>1.143333</td>\n",
              "      <td>1.069268</td>\n",
              "      <td>0.080697</td>\n",
              "      <td>0.565333</td>\n",
              "    </tr>\n",
              "    <tr>\n",
              "      <th>4</th>\n",
              "      <td>LogisticRegression</td>\n",
              "      <td>0.399333</td>\n",
              "      <td>0.646000</td>\n",
              "      <td>0.803741</td>\n",
              "      <td>0.480580</td>\n",
              "      <td>0.718000</td>\n",
              "    </tr>\n",
              "    <tr>\n",
              "      <th>5</th>\n",
              "      <td>SGDClassifier</td>\n",
              "      <td>0.414000</td>\n",
              "      <td>0.671333</td>\n",
              "      <td>0.819349</td>\n",
              "      <td>0.460211</td>\n",
              "      <td>0.707333</td>\n",
              "    </tr>\n",
              "    <tr>\n",
              "      <th>6</th>\n",
              "      <td>GradientBoostingClassifier</td>\n",
              "      <td>0.414000</td>\n",
              "      <td>0.671333</td>\n",
              "      <td>0.819349</td>\n",
              "      <td>0.460211</td>\n",
              "      <td>0.707333</td>\n",
              "    </tr>\n",
              "    <tr>\n",
              "      <th>7</th>\n",
              "      <td>SGDClassifier</td>\n",
              "      <td>0.424667</td>\n",
              "      <td>0.695333</td>\n",
              "      <td>0.833866</td>\n",
              "      <td>0.440914</td>\n",
              "      <td>0.704667</td>\n",
              "    </tr>\n",
              "    <tr>\n",
              "      <th>8</th>\n",
              "      <td>LGBMClassifier</td>\n",
              "      <td>0.386000</td>\n",
              "      <td>0.626000</td>\n",
              "      <td>0.791202</td>\n",
              "      <td>0.496662</td>\n",
              "      <td>0.729333</td>\n",
              "    </tr>\n",
              "    <tr>\n",
              "      <th>9</th>\n",
              "      <td>XGBClassifier</td>\n",
              "      <td>0.406000</td>\n",
              "      <td>0.656667</td>\n",
              "      <td>0.810350</td>\n",
              "      <td>0.472004</td>\n",
              "      <td>0.714000</td>\n",
              "    </tr>\n",
              "    <tr>\n",
              "      <th>10</th>\n",
              "      <td>RandomForestClassifier</td>\n",
              "      <td>0.420667</td>\n",
              "      <td>0.692667</td>\n",
              "      <td>0.832266</td>\n",
              "      <td>0.443058</td>\n",
              "      <td>0.707333</td>\n",
              "    </tr>\n",
              "  </tbody>\n",
              "</table>\n",
              "</div>\n",
              "      <button class=\"colab-df-convert\" onclick=\"convertToInteractive('df-7c5dfabe-ad9b-4b9d-a84c-df45b366f73e')\"\n",
              "              title=\"Convert this dataframe to an interactive table.\"\n",
              "              style=\"display:none;\">\n",
              "        \n",
              "  <svg xmlns=\"http://www.w3.org/2000/svg\" height=\"24px\"viewBox=\"0 0 24 24\"\n",
              "       width=\"24px\">\n",
              "    <path d=\"M0 0h24v24H0V0z\" fill=\"none\"/>\n",
              "    <path d=\"M18.56 5.44l.94 2.06.94-2.06 2.06-.94-2.06-.94-.94-2.06-.94 2.06-2.06.94zm-11 1L8.5 8.5l.94-2.06 2.06-.94-2.06-.94L8.5 2.5l-.94 2.06-2.06.94zm10 10l.94 2.06.94-2.06 2.06-.94-2.06-.94-.94-2.06-.94 2.06-2.06.94z\"/><path d=\"M17.41 7.96l-1.37-1.37c-.4-.4-.92-.59-1.43-.59-.52 0-1.04.2-1.43.59L10.3 9.45l-7.72 7.72c-.78.78-.78 2.05 0 2.83L4 21.41c.39.39.9.59 1.41.59.51 0 1.02-.2 1.41-.59l7.78-7.78 2.81-2.81c.8-.78.8-2.07 0-2.86zM5.41 20L4 18.59l7.72-7.72 1.47 1.35L5.41 20z\"/>\n",
              "  </svg>\n",
              "      </button>\n",
              "      \n",
              "  <style>\n",
              "    .colab-df-container {\n",
              "      display:flex;\n",
              "      flex-wrap:wrap;\n",
              "      gap: 12px;\n",
              "    }\n",
              "\n",
              "    .colab-df-convert {\n",
              "      background-color: #E8F0FE;\n",
              "      border: none;\n",
              "      border-radius: 50%;\n",
              "      cursor: pointer;\n",
              "      display: none;\n",
              "      fill: #1967D2;\n",
              "      height: 32px;\n",
              "      padding: 0 0 0 0;\n",
              "      width: 32px;\n",
              "    }\n",
              "\n",
              "    .colab-df-convert:hover {\n",
              "      background-color: #E2EBFA;\n",
              "      box-shadow: 0px 1px 2px rgba(60, 64, 67, 0.3), 0px 1px 3px 1px rgba(60, 64, 67, 0.15);\n",
              "      fill: #174EA6;\n",
              "    }\n",
              "\n",
              "    [theme=dark] .colab-df-convert {\n",
              "      background-color: #3B4455;\n",
              "      fill: #D2E3FC;\n",
              "    }\n",
              "\n",
              "    [theme=dark] .colab-df-convert:hover {\n",
              "      background-color: #434B5C;\n",
              "      box-shadow: 0px 1px 3px 1px rgba(0, 0, 0, 0.15);\n",
              "      filter: drop-shadow(0px 1px 2px rgba(0, 0, 0, 0.3));\n",
              "      fill: #FFFFFF;\n",
              "    }\n",
              "  </style>\n",
              "\n",
              "      <script>\n",
              "        const buttonEl =\n",
              "          document.querySelector('#df-7c5dfabe-ad9b-4b9d-a84c-df45b366f73e button.colab-df-convert');\n",
              "        buttonEl.style.display =\n",
              "          google.colab.kernel.accessAllowed ? 'block' : 'none';\n",
              "\n",
              "        async function convertToInteractive(key) {\n",
              "          const element = document.querySelector('#df-7c5dfabe-ad9b-4b9d-a84c-df45b366f73e');\n",
              "          const dataTable =\n",
              "            await google.colab.kernel.invokeFunction('convertToInteractive',\n",
              "                                                     [key], {});\n",
              "          if (!dataTable) return;\n",
              "\n",
              "          const docLinkHtml = 'Like what you see? Visit the ' +\n",
              "            '<a target=\"_blank\" href=https://colab.research.google.com/notebooks/data_table.ipynb>data table notebook</a>'\n",
              "            + ' to learn more about interactive tables.';\n",
              "          element.innerHTML = '';\n",
              "          dataTable['output_type'] = 'display_data';\n",
              "          await google.colab.output.renderOutput(dataTable, element);\n",
              "          const docLink = document.createElement('div');\n",
              "          docLink.innerHTML = docLinkHtml;\n",
              "          element.appendChild(docLink);\n",
              "        }\n",
              "      </script>\n",
              "    </div>\n",
              "  </div>\n",
              "  "
            ]
          },
          "metadata": {},
          "execution_count": 101
        }
      ]
    },
    {
      "cell_type": "code",
      "source": [
        "print(classification_report(y_test,predicted))"
      ],
      "metadata": {
        "colab": {
          "base_uri": "https://localhost:8080/"
        },
        "id": "gS7sqyUseOap",
        "outputId": "7490290a-9efe-47f9-ee88-1aed7510dd2b"
      },
      "execution_count": 102,
      "outputs": [
        {
          "output_type": "stream",
          "name": "stdout",
          "text": [
            "              precision    recall  f1-score   support\n",
            "\n",
            "           0       0.55      0.61      0.58       348\n",
            "           1       0.69      0.66      0.67       381\n",
            "           2       0.68      0.57      0.62       372\n",
            "           3       0.88      0.96      0.92       399\n",
            "\n",
            "    accuracy                           0.71      1500\n",
            "   macro avg       0.70      0.70      0.70      1500\n",
            "weighted avg       0.71      0.71      0.70      1500\n",
            "\n"
          ]
        }
      ]
    },
    {
      "cell_type": "code",
      "source": [
        "from sklearn.metrics import confusion_matrix\n",
        "from matplotlib.pyplot import figure\n",
        "figure(figsize=(9, 8), dpi=80)\n",
        "cm = confusion_matrix(y_test,predicted)\n",
        "\n",
        "sns.heatmap(cm, annot=True,fmt=\"d\",cmap=\"YlGnBu\")"
      ],
      "metadata": {
        "colab": {
          "base_uri": "https://localhost:8080/",
          "height": 550
        },
        "id": "eJV9xVoweRS_",
        "outputId": "68727998-fb73-4433-cdb1-3968a60be5f1"
      },
      "execution_count": 103,
      "outputs": [
        {
          "output_type": "execute_result",
          "data": {
            "text/plain": [
              "<matplotlib.axes._subplots.AxesSubplot at 0x7efd9053c1d0>"
            ]
          },
          "metadata": {},
          "execution_count": 103
        },
        {
          "output_type": "display_data",
          "data": {
            "text/plain": [
              "<Figure size 720x640 with 2 Axes>"
            ],
            "image/png": "[encoded data removed]"
          },
          "metadata": {
            "needs_background": "light"
          }
        }
      ]
    },
    {
      "cell_type": "code",
      "source": [
        ""
      ],
      "metadata": {
        "id": "wZ7NZ5xreSog"
      },
      "execution_count": null,
      "outputs": []
    }
  ]
}