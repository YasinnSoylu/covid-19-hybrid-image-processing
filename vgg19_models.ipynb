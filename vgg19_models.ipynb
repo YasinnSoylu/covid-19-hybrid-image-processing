{
  "metadata": {
    "kernelspec": {
      "language": "python",
      "display_name": "Python 3",
      "name": "python3"
    },
    "language_info": {
      "name": "python",
      "version": "3.7.12",
      "mimetype": "text/x-python",
      "codemirror_mode": {
        "name": "ipython",
        "version": 3
      },
      "pygments_lexer": "ipython3",
      "nbconvert_exporter": "python",
      "file_extension": ".py"
    },
    "colab": {
      "name": "vgg19-models.ipynb",
      "provenance": [],
      "include_colab_link": true
    }
  },
  "nbformat_minor": 0,
  "nbformat": 4,
  "cells": [
    {
      "cell_type": "markdown",
      "metadata": {
        "id": "view-in-github",
        "colab_type": "text"
      },
      "source": [
        "<a href=\"https://colab.research.google.com/github/yasinsoylu1997/TEZZ2/blob/main/vgg19_models.ipynb\" target=\"_parent\"><img src=\"https://colab.research.google.com/assets/colab-badge.svg\" alt=\"Open In Colab\"/></a>"
      ]
    },
    {
      "cell_type": "code",
      "source": [
        "from google.colab import drive\n",
        "drive.mount('/content/drive')"
      ],
      "metadata": {
        "colab": {
          "base_uri": "https://localhost:8080/"
        },
        "id": "4LTqPz_P76Ov",
        "outputId": "1f522135-f5d0-452e-e2dd-8fb0ace370ed"
      },
      "execution_count": 1,
      "outputs": [
        {
          "output_type": "stream",
          "name": "stdout",
          "text": [
            "Mounted at /content/drive\n"
          ]
        }
      ]
    },
    {
      "cell_type": "code",
      "source": [
        "import seaborn as sns\n",
        "import cv2\n",
        "import numpy as np\n",
        "import matplotlib.pyplot as plt\n",
        "from sklearn.utils import shuffle\n",
        "from sklearn.model_selection import train_test_split\n",
        "import tensorflow as tf\n",
        "from tensorflow.keras import layers\n",
        "import pandas as pd\n",
        "from tensorflow.keras.applications import EfficientNetB0\n",
        "from tensorflow.keras.callbacks import EarlyStopping, ReduceLROnPlateau, TensorBoard, ModelCheckpoint\n",
        "from tensorflow.keras.models import Model, Sequential\n",
        "from tensorflow.keras.layers import Conv2D, MaxPooling2D, AveragePooling2D\n",
        "from tensorflow.keras.layers import Input, Dense, Dropout, Flatten, Activation,Concatenate\n",
        "from tensorflow.keras.layers import BatchNormalization\n",
        "from keras.preprocessing.image import load_img,img_to_array,ImageDataGenerator\n",
        "from tensorflow.keras.applications import VGG16\n",
        "from tqdm import tqdm\n",
        "import os\n",
        "from sklearn.utils import shuffle\n",
        "from sklearn.metrics import classification_report,confusion_matrix\n",
        "import keras\n",
        "import keras.utils\n",
        "from keras import utils as np_utils\n",
        "import ipywidgets as widgets\n",
        "import io\n",
        "from PIL import Image\n",
        "from IPython.display import display,clear_output\n",
        "from warnings import filterwarnings\n",
        "#!pip install visualkeras\n",
        "import numpy as np \n",
        "import matplotlib.pyplot as plt\n",
        "import glob\n",
        "import cv2\n",
        "\n",
        "from keras.models import Model, Sequential\n",
        "from keras.layers import Dense, Flatten, Conv2D, MaxPooling2D\n",
        "import os\n",
        "!pip install visualkeras\n",
        "!pip install catboost"
      ],
      "metadata": {
        "_uuid": "8f2839f25d086af736a60e9eeb907d3b93b6e0e5",
        "_cell_guid": "b1076dfc-b9ad-4769-8c92-a6c4dae69d19",
        "execution": {
          "iopub.status.busy": "2022-05-16T00:06:02.361516Z",
          "iopub.execute_input": "2022-05-16T00:06:02.361853Z",
          "iopub.status.idle": "2022-05-16T00:06:18.994492Z",
          "shell.execute_reply.started": "2022-05-16T00:06:02.361822Z",
          "shell.execute_reply": "2022-05-16T00:06:18.992886Z"
        },
        "trusted": true,
        "colab": {
          "base_uri": "https://localhost:8080/"
        },
        "id": "i_pfrqAmf2BG",
        "outputId": "5b3b13af-c299-4499-d53c-72c85871ed86"
      },
      "execution_count": 2,
      "outputs": [
        {
          "output_type": "stream",
          "name": "stdout",
          "text": [
            "Collecting visualkeras\n",
            "  Downloading visualkeras-0.0.2-py3-none-any.whl (12 kB)\n",
            "Requirement already satisfied: pillow>=6.2.0 in /usr/local/lib/python3.7/dist-packages (from visualkeras) (7.1.2)\n",
            "Requirement already satisfied: numpy>=1.18.1 in /usr/local/lib/python3.7/dist-packages (from visualkeras) (1.21.6)\n",
            "Collecting aggdraw>=1.3.11\n",
            "  Downloading aggdraw-1.3.14-cp37-cp37m-manylinux_2_17_x86_64.manylinux2014_x86_64.whl (992 kB)\n",
            "\u001b[K     |████████████████████████████████| 992 kB 5.3 MB/s \n",
            "\u001b[?25hInstalling collected packages: aggdraw, visualkeras\n",
            "Successfully installed aggdraw-1.3.14 visualkeras-0.0.2\n",
            "Collecting catboost\n",
            "  Downloading catboost-1.0.5-cp37-none-manylinux1_x86_64.whl (76.6 MB)\n",
            "\u001b[K     |████████████████████████████████| 76.6 MB 38 kB/s \n",
            "\u001b[?25hRequirement already satisfied: matplotlib in /usr/local/lib/python3.7/dist-packages (from catboost) (3.2.2)\n",
            "Requirement already satisfied: numpy>=1.16.0 in /usr/local/lib/python3.7/dist-packages (from catboost) (1.21.6)\n",
            "Requirement already satisfied: plotly in /usr/local/lib/python3.7/dist-packages (from catboost) (5.5.0)\n",
            "Requirement already satisfied: pandas>=0.24.0 in /usr/local/lib/python3.7/dist-packages (from catboost) (1.3.5)\n",
            "Requirement already satisfied: six in /usr/local/lib/python3.7/dist-packages (from catboost) (1.15.0)\n",
            "Requirement already satisfied: graphviz in /usr/local/lib/python3.7/dist-packages (from catboost) (0.10.1)\n",
            "Requirement already satisfied: scipy in /usr/local/lib/python3.7/dist-packages (from catboost) (1.4.1)\n",
            "Requirement already satisfied: python-dateutil>=2.7.3 in /usr/local/lib/python3.7/dist-packages (from pandas>=0.24.0->catboost) (2.8.2)\n",
            "Requirement already satisfied: pytz>=2017.3 in /usr/local/lib/python3.7/dist-packages (from pandas>=0.24.0->catboost) (2022.1)\n",
            "Requirement already satisfied: cycler>=0.10 in /usr/local/lib/python3.7/dist-packages (from matplotlib->catboost) (0.11.0)\n",
            "Requirement already satisfied: pyparsing!=2.0.4,!=2.1.2,!=2.1.6,>=2.0.1 in /usr/local/lib/python3.7/dist-packages (from matplotlib->catboost) (3.0.8)\n",
            "Requirement already satisfied: kiwisolver>=1.0.1 in /usr/local/lib/python3.7/dist-packages (from matplotlib->catboost) (1.4.2)\n",
            "Requirement already satisfied: typing-extensions in /usr/local/lib/python3.7/dist-packages (from kiwisolver>=1.0.1->matplotlib->catboost) (4.2.0)\n",
            "Requirement already satisfied: tenacity>=6.2.0 in /usr/local/lib/python3.7/dist-packages (from plotly->catboost) (8.0.1)\n",
            "Installing collected packages: catboost\n",
            "Successfully installed catboost-1.0.5\n"
          ]
        }
      ]
    },
    {
      "cell_type": "code",
      "source": [
        "labels = ['Lung_Opacity','COVID','Normal','Viral Pneumonia']"
      ],
      "metadata": {
        "execution": {
          "iopub.status.busy": "2022-05-15T23:35:28.503324Z",
          "iopub.execute_input": "2022-05-15T23:35:28.503733Z",
          "iopub.status.idle": "2022-05-15T23:35:28.508486Z",
          "shell.execute_reply.started": "2022-05-15T23:35:28.503687Z",
          "shell.execute_reply": "2022-05-15T23:35:28.507824Z"
        },
        "trusted": true,
        "id": "JTm63c8Tf2BI"
      },
      "execution_count": 3,
      "outputs": []
    },
    {
      "cell_type": "code",
      "source": [
        "X = []\n",
        "y = []\n",
        "image_size = 32\n",
        "for i in labels:\n",
        "    folderPath = os.path.join('/content/drive/MyDrive/tezz3/COVID-19_Radiography_Dataset_masked',i)\n",
        "    for j in tqdm(os.listdir(folderPath)):\n",
        "        img = cv2.imread(os.path.join(folderPath,j))\n",
        "        img = cv2.resize(img,(image_size, image_size))\n",
        "        X.append(img)\n",
        "        y.append(i)\n",
        "\n",
        "        \n",
        "X = np.array(X)\n",
        "y = np.array(y)"
      ],
      "metadata": {
        "execution": {
          "iopub.status.busy": "2022-05-15T23:35:28.509631Z",
          "iopub.execute_input": "2022-05-15T23:35:28.510262Z",
          "iopub.status.idle": "2022-05-15T23:38:46.667539Z",
          "shell.execute_reply.started": "2022-05-15T23:35:28.510228Z",
          "shell.execute_reply": "2022-05-15T23:38:46.666484Z"
        },
        "trusted": true,
        "colab": {
          "base_uri": "https://localhost:8080/"
        },
        "id": "tdYLEsDQf2BJ",
        "outputId": "98f8b0d5-3958-429b-88fa-5189c2328c14"
      },
      "execution_count": 4,
      "outputs": [
        {
          "output_type": "stream",
          "name": "stderr",
          "text": [
            "100%|██████████| 6012/6012 [02:04<00:00, 48.12it/s] \n",
            "100%|██████████| 3616/3616 [01:21<00:00, 44.54it/s] \n",
            "100%|██████████| 10192/10192 [03:34<00:00, 47.48it/s] \n",
            "100%|██████████| 1345/1345 [00:20<00:00, 66.83it/s] \n"
          ]
        }
      ]
    },
    {
      "cell_type": "code",
      "source": [
        "from imblearn.over_sampling import RandomOverSampler\n",
        "reshaped_X = X.reshape(X.shape[0],-1)\n",
        "\n",
        "#oversampling\n",
        "oversample = RandomOverSampler()\n",
        "oversampled_X, oversampled_y  = oversample.fit_resample(reshaped_X , y)\n",
        "\n",
        "# reshaping X back to the first dims\n",
        "new_X = oversampled_X.reshape(-1,32,32,3)\n",
        "oversampled_y"
      ],
      "metadata": {
        "execution": {
          "iopub.status.busy": "2022-05-15T23:38:46.670136Z",
          "iopub.execute_input": "2022-05-15T23:38:46.670445Z",
          "iopub.status.idle": "2022-05-15T23:38:47.312704Z",
          "shell.execute_reply.started": "2022-05-15T23:38:46.670410Z",
          "shell.execute_reply": "2022-05-15T23:38:47.311471Z"
        },
        "trusted": true,
        "colab": {
          "base_uri": "https://localhost:8080/"
        },
        "id": "EapMamQRf2BJ",
        "outputId": "0eb21e73-6a95-45d5-c46c-b5ca8e14dd77"
      },
      "execution_count": 5,
      "outputs": [
        {
          "output_type": "execute_result",
          "data": {
            "text/plain": [
              "array(['Lung_Opacity', 'Lung_Opacity', 'Lung_Opacity', ...,\n",
              "       'Viral Pneumonia', 'Viral Pneumonia', 'Viral Pneumonia'],\n",
              "      dtype='<U15')"
            ]
          },
          "metadata": {},
          "execution_count": 5
        }
      ]
    },
    {
      "cell_type": "code",
      "source": [
        "train_images, test_images,train_labels, test_labels = train_test_split(new_X , oversampled_y , test_size=0.25, random_state=42,shuffle=True)"
      ],
      "metadata": {
        "execution": {
          "iopub.status.busy": "2022-05-15T23:38:47.314239Z",
          "iopub.execute_input": "2022-05-15T23:38:47.314589Z",
          "iopub.status.idle": "2022-05-15T23:38:47.400506Z",
          "shell.execute_reply.started": "2022-05-15T23:38:47.314540Z",
          "shell.execute_reply": "2022-05-15T23:38:47.399418Z"
        },
        "trusted": true,
        "id": "a3bGVYtjf2BK"
      },
      "execution_count": 6,
      "outputs": []
    },
    {
      "cell_type": "code",
      "source": [
        "plt.figure(figsize = (17,8));\n",
        "lis = ['Train', 'Test']\n",
        "for i,j in enumerate([train_labels, test_labels]):\n",
        "    plt.subplot(1,2, i+1);\n",
        "    sns.countplot(x = j);\n",
        "    plt.xlabel(lis[i])"
      ],
      "metadata": {
        "execution": {
          "iopub.status.busy": "2022-05-15T23:38:47.410442Z",
          "iopub.execute_input": "2022-05-15T23:38:47.410853Z",
          "iopub.status.idle": "2022-05-15T23:38:47.788826Z",
          "shell.execute_reply.started": "2022-05-15T23:38:47.410806Z",
          "shell.execute_reply": "2022-05-15T23:38:47.787749Z"
        },
        "trusted": true,
        "colab": {
          "base_uri": "https://localhost:8080/",
          "height": 498
        },
        "id": "lqAt7sJlf2BK",
        "outputId": "8e396cec-e3ec-481a-fbbf-0698dc0413f5"
      },
      "execution_count": 7,
      "outputs": [
        {
          "output_type": "display_data",
          "data": {
            "text/plain": [
              "<Figure size 1224x576 with 2 Axes>"
            ],
            "image/png": "[encoded data removed]"
          },
          "metadata": {
            "needs_background": "light"
          }
        }
      ]
    },
    {
      "cell_type": "code",
      "source": [
        "train_images = train_images / 255.0\n",
        "test_images = test_images / 255.0"
      ],
      "metadata": {
        "execution": {
          "iopub.status.busy": "2022-05-15T23:38:47.790207Z",
          "iopub.execute_input": "2022-05-15T23:38:47.790481Z",
          "iopub.status.idle": "2022-05-15T23:38:47.826761Z",
          "shell.execute_reply.started": "2022-05-15T23:38:47.790447Z",
          "shell.execute_reply": "2022-05-15T23:38:47.825794Z"
        },
        "trusted": true,
        "id": "LvNGzS3If2BL"
      },
      "execution_count": 8,
      "outputs": []
    },
    {
      "cell_type": "code",
      "source": [
        "from sklearn import preprocessing\n",
        "le = preprocessing.LabelEncoder()\n",
        "le.fit(test_labels)\n",
        "test_labels_encoded = le.transform(test_labels)\n",
        "le.fit(train_labels)\n",
        "train_labels_encoded = le.transform(train_labels)"
      ],
      "metadata": {
        "execution": {
          "iopub.status.busy": "2022-05-15T23:38:47.828234Z",
          "iopub.execute_input": "2022-05-15T23:38:47.828608Z",
          "iopub.status.idle": "2022-05-15T23:38:47.837797Z",
          "shell.execute_reply.started": "2022-05-15T23:38:47.828571Z",
          "shell.execute_reply": "2022-05-15T23:38:47.836664Z"
        },
        "trusted": true,
        "id": "3pWqp5fYf2BL"
      },
      "execution_count": 9,
      "outputs": []
    },
    {
      "cell_type": "code",
      "source": [
        "#Split data into test and train datasets (already split but assigning to meaningful convention)\n",
        "x_train, y_train, x_test, y_test = train_images, train_labels_encoded, test_images, test_labels_encoded"
      ],
      "metadata": {
        "execution": {
          "iopub.status.busy": "2022-05-15T23:38:47.842939Z",
          "iopub.execute_input": "2022-05-15T23:38:47.844104Z",
          "iopub.status.idle": "2022-05-15T23:38:47.852435Z",
          "shell.execute_reply.started": "2022-05-15T23:38:47.844043Z",
          "shell.execute_reply": "2022-05-15T23:38:47.851608Z"
        },
        "trusted": true,
        "id": "7bLugAY5f2BM"
      },
      "execution_count": 10,
      "outputs": []
    },
    {
      "cell_type": "code",
      "source": [
        "#One hot encode y values for neural network. \n",
        "from tensorflow.keras.utils import to_categorical\n",
        "y_train_one_hot = to_categorical(y_train)\n",
        "y_test_one_hot = to_categorical(y_test)"
      ],
      "metadata": {
        "execution": {
          "iopub.status.busy": "2022-05-15T23:38:47.853579Z",
          "iopub.execute_input": "2022-05-15T23:38:47.854198Z",
          "iopub.status.idle": "2022-05-15T23:38:47.869799Z",
          "shell.execute_reply.started": "2022-05-15T23:38:47.854159Z",
          "shell.execute_reply": "2022-05-15T23:38:47.868614Z"
        },
        "trusted": true,
        "id": "AdO_28c3f2BM"
      },
      "execution_count": 11,
      "outputs": []
    },
    {
      "cell_type": "code",
      "source": [
        "y_test_one_hot"
      ],
      "metadata": {
        "execution": {
          "iopub.status.busy": "2022-05-15T23:38:47.871658Z",
          "iopub.execute_input": "2022-05-15T23:38:47.871933Z",
          "iopub.status.idle": "2022-05-15T23:38:47.886293Z",
          "shell.execute_reply.started": "2022-05-15T23:38:47.871901Z",
          "shell.execute_reply": "2022-05-15T23:38:47.885283Z"
        },
        "trusted": true,
        "colab": {
          "base_uri": "https://localhost:8080/"
        },
        "id": "MIURECsaf2BN",
        "outputId": "ed118457-f00f-4209-c909-2933a857bbd1"
      },
      "execution_count": 12,
      "outputs": [
        {
          "output_type": "execute_result",
          "data": {
            "text/plain": [
              "array([[1., 0., 0., 0.],\n",
              "       [0., 1., 0., 0.],\n",
              "       [0., 1., 0., 0.],\n",
              "       ...,\n",
              "       [0., 0., 0., 1.],\n",
              "       [0., 0., 1., 0.],\n",
              "       [0., 1., 0., 0.]], dtype=float32)"
            ]
          },
          "metadata": {},
          "execution_count": 12
        }
      ]
    },
    {
      "cell_type": "code",
      "source": [
        "#Load model wothout classifier/fully connected layers\n",
        "VGG_model = VGG16(weights='imagenet', include_top=False, input_shape=(32, 32, 3))\n",
        "\n",
        "#Make loaded layers as non-trainable. This is important as we want to work with pre-trained weights\n",
        "for layer in VGG_model.layers:\n",
        "\tlayer.trainable = False\n",
        "    \n",
        "VGG_model.summary()  #Trainable parameters will be 0"
      ],
      "metadata": {
        "execution": {
          "iopub.status.busy": "2022-05-15T23:38:47.887770Z",
          "iopub.execute_input": "2022-05-15T23:38:47.888691Z",
          "iopub.status.idle": "2022-05-15T23:38:50.158014Z",
          "shell.execute_reply.started": "2022-05-15T23:38:47.888650Z",
          "shell.execute_reply": "2022-05-15T23:38:50.155852Z"
        },
        "trusted": true,
        "colab": {
          "base_uri": "https://localhost:8080/"
        },
        "id": "PwSKUrXgf2BN",
        "outputId": "e423371f-df21-490a-eeec-77dd6fa3e2c4"
      },
      "execution_count": 13,
      "outputs": [
        {
          "output_type": "stream",
          "name": "stdout",
          "text": [
            "Downloading data from https://storage.googleapis.com/tensorflow/keras-applications/vgg16/vgg16_weights_tf_dim_ordering_tf_kernels_notop.h5\n",
            "58892288/58889256 [==============================] - 1s 0us/step\n",
            "58900480/58889256 [==============================] - 1s 0us/step\n",
            "Model: \"vgg16\"\n",
            "_________________________________________________________________\n",
            " Layer (type)                Output Shape              Param #   \n",
            "=================================================================\n",
            " input_1 (InputLayer)        [(None, 32, 32, 3)]       0         \n",
            "                                                                 \n",
            " block1_conv1 (Conv2D)       (None, 32, 32, 64)        1792      \n",
            "                                                                 \n",
            " block1_conv2 (Conv2D)       (None, 32, 32, 64)        36928     \n",
            "                                                                 \n",
            " block1_pool (MaxPooling2D)  (None, 16, 16, 64)        0         \n",
            "                                                                 \n",
            " block2_conv1 (Conv2D)       (None, 16, 16, 128)       73856     \n",
            "                                                                 \n",
            " block2_conv2 (Conv2D)       (None, 16, 16, 128)       147584    \n",
            "                                                                 \n",
            " block2_pool (MaxPooling2D)  (None, 8, 8, 128)         0         \n",
            "                                                                 \n",
            " block3_conv1 (Conv2D)       (None, 8, 8, 256)         295168    \n",
            "                                                                 \n",
            " block3_conv2 (Conv2D)       (None, 8, 8, 256)         590080    \n",
            "                                                                 \n",
            " block3_conv3 (Conv2D)       (None, 8, 8, 256)         590080    \n",
            "                                                                 \n",
            " block3_pool (MaxPooling2D)  (None, 4, 4, 256)         0         \n",
            "                                                                 \n",
            " block4_conv1 (Conv2D)       (None, 4, 4, 512)         1180160   \n",
            "                                                                 \n",
            " block4_conv2 (Conv2D)       (None, 4, 4, 512)         2359808   \n",
            "                                                                 \n",
            " block4_conv3 (Conv2D)       (None, 4, 4, 512)         2359808   \n",
            "                                                                 \n",
            " block4_pool (MaxPooling2D)  (None, 2, 2, 512)         0         \n",
            "                                                                 \n",
            " block5_conv1 (Conv2D)       (None, 2, 2, 512)         2359808   \n",
            "                                                                 \n",
            " block5_conv2 (Conv2D)       (None, 2, 2, 512)         2359808   \n",
            "                                                                 \n",
            " block5_conv3 (Conv2D)       (None, 2, 2, 512)         2359808   \n",
            "                                                                 \n",
            " block5_pool (MaxPooling2D)  (None, 1, 1, 512)         0         \n",
            "                                                                 \n",
            "=================================================================\n",
            "Total params: 14,714,688\n",
            "Trainable params: 0\n",
            "Non-trainable params: 14,714,688\n",
            "_________________________________________________________________\n"
          ]
        }
      ]
    },
    {
      "cell_type": "code",
      "source": [
        "#Now, let us use features from convolutional network for RF\n",
        "feature_extractor=VGG_model.predict(x_train)\n",
        "\n",
        "features = feature_extractor.reshape(feature_extractor.shape[0], -1)\n",
        "\n",
        "X_for_model= features #This is our X input for model"
      ],
      "metadata": {
        "execution": {
          "iopub.status.busy": "2022-05-15T23:38:50.159671Z",
          "iopub.execute_input": "2022-05-15T23:38:50.159987Z",
          "iopub.status.idle": "2022-05-15T23:39:00.360965Z",
          "shell.execute_reply.started": "2022-05-15T23:38:50.159953Z",
          "shell.execute_reply": "2022-05-15T23:39:00.359930Z"
        },
        "trusted": true,
        "id": "-xgzw45sf2BN"
      },
      "execution_count": 14,
      "outputs": []
    },
    {
      "cell_type": "code",
      "source": [
        "from keras.utils.vis_utils import plot_model\n",
        "\n",
        "plot_model(VGG_model, to_file='model_plot.png', show_shapes=True, show_layer_names=True,dpi=50)"
      ],
      "metadata": {
        "execution": {
          "iopub.status.busy": "2022-05-15T23:39:00.362537Z",
          "iopub.execute_input": "2022-05-15T23:39:00.363071Z",
          "iopub.status.idle": "2022-05-15T23:39:01.708679Z",
          "shell.execute_reply.started": "2022-05-15T23:39:00.363023Z",
          "shell.execute_reply": "2022-05-15T23:39:01.707317Z"
        },
        "trusted": true,
        "colab": {
          "base_uri": "https://localhost:8080/",
          "height": 1000
        },
        "id": "q1r8Q1K7f2BO",
        "outputId": "56b500c9-bb17-4244-d147-716eae79370a"
      },
      "execution_count": 15,
      "outputs": [
        {
          "output_type": "execute_result",
          "data": {
            "text/plain": [
              "<IPython.core.display.Image object>"
            ],
            "image/png": "[encoded data removed]"
          },
          "metadata": {},
          "execution_count": 15
        }
      ]
    },
    {
      "cell_type": "code",
      "source": [
        "import visualkeras\n",
        "from PIL import ImageFont\n",
        "plt.figure(figsize=(2, 2))\n",
        "visualkeras.layered_view(VGG_model, legend=True,spacing=15,scale_xy = 10 , scale_z = 10, max_z = 50) "
      ],
      "metadata": {
        "execution": {
          "iopub.status.busy": "2022-05-16T00:06:32.946437Z",
          "iopub.execute_input": "2022-05-16T00:06:32.946789Z",
          "iopub.status.idle": "2022-05-16T00:06:33.030522Z",
          "shell.execute_reply.started": "2022-05-16T00:06:32.946752Z",
          "shell.execute_reply": "2022-05-16T00:06:33.029817Z"
        },
        "trusted": true,
        "colab": {
          "base_uri": "https://localhost:8080/",
          "height": 497
        },
        "id": "StzAfjLNf2BO",
        "outputId": "ae07aa40-da5d-4bd8-ad59-f5e13a355349"
      },
      "execution_count": 16,
      "outputs": [
        {
          "output_type": "execute_result",
          "data": {
            "text/plain": [
              "<PIL.Image.Image image mode=RGBA size=1277x463 at 0x7F290E546690>"
            ],
            "image/png": "[encoded data removed]"
          },
          "metadata": {},
          "execution_count": 16
        },
        {
          "output_type": "display_data",
          "data": {
            "text/plain": [
              "<Figure size 144x144 with 0 Axes>"
            ]
          },
          "metadata": {}
        }
      ]
    },
    {
      "cell_type": "code",
      "source": [
        "from sklearn import metrics\n",
        "from sklearn.model_selection import cross_val_score\n",
        "\n",
        "def cross_val(model):\n",
        "    pred = cross_val_score(model, X_for_model, y_train)\n",
        "    return pred.mean()\n",
        "\n",
        "def print_evaluate(true, predicted):  \n",
        "    mae = metrics.mean_absolute_error(y_test, predicted)\n",
        "    mse = metrics.mean_squared_error(y_test, predicted)\n",
        "    rmse = np.sqrt(metrics.mean_squared_error(y_test, predicted))\n",
        "    r2_square = metrics.r2_score(y_test, predicted)\n",
        "    Accuracy= metrics.accuracy_score(y_test,predicted)\n",
        "\n",
        "    print('MAE:', mae)\n",
        "    print('MSE:', mse)\n",
        "    print('RMSE:', rmse)\n",
        "    print('R2 Square', r2_square)\n",
        "    print('Accuracy', Accuracy)\n",
        "\n",
        "\n",
        "\n",
        "    print('__________________________________')\n",
        "    \n",
        "def evaluate(true, predicted):\n",
        "    mae = metrics.mean_absolute_error(y_test, predicted)\n",
        "    mse = metrics.mean_squared_error(y_test, predicted)\n",
        "    rmse = np.sqrt(metrics.mean_squared_error(y_test, predicted))\n",
        "    r2_square = metrics.r2_score(y_test, predicted)\n",
        "    Accuracy= metrics.accuracy_score(y_test,predicted)\n",
        "\n",
        "    return mae, mse, rmse, r2_square, Accuracy"
      ],
      "metadata": {
        "execution": {
          "iopub.status.busy": "2022-05-15T23:39:01.710695Z",
          "iopub.execute_input": "2022-05-15T23:39:01.712114Z",
          "iopub.status.idle": "2022-05-15T23:39:01.726322Z",
          "shell.execute_reply.started": "2022-05-15T23:39:01.712045Z",
          "shell.execute_reply": "2022-05-15T23:39:01.724919Z"
        },
        "trusted": true,
        "id": "gyvNB_CAf2BO"
      },
      "execution_count": 17,
      "outputs": []
    },
    {
      "cell_type": "markdown",
      "source": [
        "# knn"
      ],
      "metadata": {
        "id": "b20WbWmjf2BP"
      }
    },
    {
      "cell_type": "code",
      "source": [
        "from sklearn.neighbors import KNeighborsClassifier\n",
        "knn = KNeighborsClassifier()\n",
        "knn_model = knn.fit(X_for_model, y_train)\n",
        "knn_model"
      ],
      "metadata": {
        "execution": {
          "iopub.status.busy": "2022-05-15T23:39:01.727969Z",
          "iopub.execute_input": "2022-05-15T23:39:01.728909Z",
          "iopub.status.idle": "2022-05-15T23:39:01.750069Z",
          "shell.execute_reply.started": "2022-05-15T23:39:01.728846Z",
          "shell.execute_reply": "2022-05-15T23:39:01.749350Z"
        },
        "trusted": true,
        "colab": {
          "base_uri": "https://localhost:8080/"
        },
        "id": "JUNRldMAf2BQ",
        "outputId": "eae9a45f-e7f1-44ee-ac86-1792a85f7387"
      },
      "execution_count": 18,
      "outputs": [
        {
          "output_type": "execute_result",
          "data": {
            "text/plain": [
              "KNeighborsClassifier()"
            ]
          },
          "metadata": {},
          "execution_count": 18
        }
      ]
    },
    {
      "cell_type": "code",
      "source": [
        "X_test_feature = VGG_model.predict(x_test)\n",
        "X_test_features = X_test_feature.reshape(X_test_feature.shape[0], -1)\n",
        "#Now predict using the trained RF model. \n",
        "prediction = knn_model.predict(X_test_features)"
      ],
      "metadata": {
        "execution": {
          "iopub.status.busy": "2022-05-15T23:39:01.751904Z",
          "iopub.execute_input": "2022-05-15T23:39:01.752270Z",
          "iopub.status.idle": "2022-05-15T23:39:12.297894Z",
          "shell.execute_reply.started": "2022-05-15T23:39:01.752222Z",
          "shell.execute_reply": "2022-05-15T23:39:12.296940Z"
        },
        "trusted": true,
        "id": "eyH-B71Ef2BQ"
      },
      "execution_count": 19,
      "outputs": []
    },
    {
      "cell_type": "code",
      "source": [
        "print('Test set evaluation:\\n_____________________________________')\n",
        "print_evaluate(y_test, prediction)"
      ],
      "metadata": {
        "execution": {
          "iopub.status.busy": "2022-05-15T23:39:12.299265Z",
          "iopub.execute_input": "2022-05-15T23:39:12.299760Z",
          "iopub.status.idle": "2022-05-15T23:39:12.310433Z",
          "shell.execute_reply.started": "2022-05-15T23:39:12.299719Z",
          "shell.execute_reply": "2022-05-15T23:39:12.309457Z"
        },
        "trusted": true,
        "colab": {
          "base_uri": "https://localhost:8080/"
        },
        "id": "GrHP4Cflf2BQ",
        "outputId": "90392c19-9104-4f80-80a6-64d6779c7bcf"
      },
      "execution_count": 20,
      "outputs": [
        {
          "output_type": "stream",
          "name": "stdout",
          "text": [
            "Test set evaluation:\n",
            "_____________________________________\n",
            "MAE: 0.2889521193092622\n",
            "MSE: 0.43239795918367346\n",
            "RMSE: 0.6575697371257846\n",
            "R2 Square 0.6558104705236476\n",
            "Accuracy 0.7810047095761381\n",
            "__________________________________\n"
          ]
        }
      ]
    },
    {
      "cell_type": "code",
      "source": [
        "results_df = pd.DataFrame(data=[[\"KNeighborsClassifier\", *evaluate(y_test, prediction) ]], \n",
        "                          columns=['Model', 'MAE', 'MSE', 'RMSE', 'R2 Square','Accuracy_vgg19'])\n",
        "results_df"
      ],
      "metadata": {
        "execution": {
          "iopub.status.busy": "2022-05-15T23:39:12.311703Z",
          "iopub.execute_input": "2022-05-15T23:39:12.312627Z",
          "iopub.status.idle": "2022-05-15T23:39:12.343783Z",
          "shell.execute_reply.started": "2022-05-15T23:39:12.312587Z",
          "shell.execute_reply": "2022-05-15T23:39:12.342873Z"
        },
        "trusted": true,
        "colab": {
          "base_uri": "https://localhost:8080/",
          "height": 81
        },
        "id": "BvLKZg2Nf2BQ",
        "outputId": "1dcb657d-b5a5-483e-a96a-8dcefcb2c494"
      },
      "execution_count": 21,
      "outputs": [
        {
          "output_type": "execute_result",
          "data": {
            "text/plain": [
              "                  Model       MAE       MSE     RMSE  R2 Square  \\\n",
              "0  KNeighborsClassifier  0.288952  0.432398  0.65757    0.65581   \n",
              "\n",
              "   Accuracy_vgg19  \n",
              "0        0.781005  "
            ],
            "text/html": [
              "\n",
              "  <div id=\"df-63763af7-7ed0-4357-862a-f1975ac79e36\">\n",
              "    <div class=\"colab-df-container\">\n",
              "      <div>\n",
              "<style scoped>\n",
              "    .dataframe tbody tr th:only-of-type {\n",
              "        vertical-align: middle;\n",
              "    }\n",
              "\n",
              "    .dataframe tbody tr th {\n",
              "        vertical-align: top;\n",
              "    }\n",
              "\n",
              "    .dataframe thead th {\n",
              "        text-align: right;\n",
              "    }\n",
              "</style>\n",
              "<table border=\"1\" class=\"dataframe\">\n",
              "  <thead>\n",
              "    <tr style=\"text-align: right;\">\n",
              "      <th></th>\n",
              "      <th>Model</th>\n",
              "      <th>MAE</th>\n",
              "      <th>MSE</th>\n",
              "      <th>RMSE</th>\n",
              "      <th>R2 Square</th>\n",
              "      <th>Accuracy_vgg19</th>\n",
              "    </tr>\n",
              "  </thead>\n",
              "  <tbody>\n",
              "    <tr>\n",
              "      <th>0</th>\n",
              "      <td>KNeighborsClassifier</td>\n",
              "      <td>0.288952</td>\n",
              "      <td>0.432398</td>\n",
              "      <td>0.65757</td>\n",
              "      <td>0.65581</td>\n",
              "      <td>0.781005</td>\n",
              "    </tr>\n",
              "  </tbody>\n",
              "</table>\n",
              "</div>\n",
              "      <button class=\"colab-df-convert\" onclick=\"convertToInteractive('df-63763af7-7ed0-4357-862a-f1975ac79e36')\"\n",
              "              title=\"Convert this dataframe to an interactive table.\"\n",
              "              style=\"display:none;\">\n",
              "        \n",
              "  <svg xmlns=\"http://www.w3.org/2000/svg\" height=\"24px\"viewBox=\"0 0 24 24\"\n",
              "       width=\"24px\">\n",
              "    <path d=\"M0 0h24v24H0V0z\" fill=\"none\"/>\n",
              "    <path d=\"M18.56 5.44l.94 2.06.94-2.06 2.06-.94-2.06-.94-.94-2.06-.94 2.06-2.06.94zm-11 1L8.5 8.5l.94-2.06 2.06-.94-2.06-.94L8.5 2.5l-.94 2.06-2.06.94zm10 10l.94 2.06.94-2.06 2.06-.94-2.06-.94-.94-2.06-.94 2.06-2.06.94z\"/><path d=\"M17.41 7.96l-1.37-1.37c-.4-.4-.92-.59-1.43-.59-.52 0-1.04.2-1.43.59L10.3 9.45l-7.72 7.72c-.78.78-.78 2.05 0 2.83L4 21.41c.39.39.9.59 1.41.59.51 0 1.02-.2 1.41-.59l7.78-7.78 2.81-2.81c.8-.78.8-2.07 0-2.86zM5.41 20L4 18.59l7.72-7.72 1.47 1.35L5.41 20z\"/>\n",
              "  </svg>\n",
              "      </button>\n",
              "      \n",
              "  <style>\n",
              "    .colab-df-container {\n",
              "      display:flex;\n",
              "      flex-wrap:wrap;\n",
              "      gap: 12px;\n",
              "    }\n",
              "\n",
              "    .colab-df-convert {\n",
              "      background-color: #E8F0FE;\n",
              "      border: none;\n",
              "      border-radius: 50%;\n",
              "      cursor: pointer;\n",
              "      display: none;\n",
              "      fill: #1967D2;\n",
              "      height: 32px;\n",
              "      padding: 0 0 0 0;\n",
              "      width: 32px;\n",
              "    }\n",
              "\n",
              "    .colab-df-convert:hover {\n",
              "      background-color: #E2EBFA;\n",
              "      box-shadow: 0px 1px 2px rgba(60, 64, 67, 0.3), 0px 1px 3px 1px rgba(60, 64, 67, 0.15);\n",
              "      fill: #174EA6;\n",
              "    }\n",
              "\n",
              "    [theme=dark] .colab-df-convert {\n",
              "      background-color: #3B4455;\n",
              "      fill: #D2E3FC;\n",
              "    }\n",
              "\n",
              "    [theme=dark] .colab-df-convert:hover {\n",
              "      background-color: #434B5C;\n",
              "      box-shadow: 0px 1px 3px 1px rgba(0, 0, 0, 0.15);\n",
              "      filter: drop-shadow(0px 1px 2px rgba(0, 0, 0, 0.3));\n",
              "      fill: #FFFFFF;\n",
              "    }\n",
              "  </style>\n",
              "\n",
              "      <script>\n",
              "        const buttonEl =\n",
              "          document.querySelector('#df-63763af7-7ed0-4357-862a-f1975ac79e36 button.colab-df-convert');\n",
              "        buttonEl.style.display =\n",
              "          google.colab.kernel.accessAllowed ? 'block' : 'none';\n",
              "\n",
              "        async function convertToInteractive(key) {\n",
              "          const element = document.querySelector('#df-63763af7-7ed0-4357-862a-f1975ac79e36');\n",
              "          const dataTable =\n",
              "            await google.colab.kernel.invokeFunction('convertToInteractive',\n",
              "                                                     [key], {});\n",
              "          if (!dataTable) return;\n",
              "\n",
              "          const docLinkHtml = 'Like what you see? Visit the ' +\n",
              "            '<a target=\"_blank\" href=https://colab.research.google.com/notebooks/data_table.ipynb>data table notebook</a>'\n",
              "            + ' to learn more about interactive tables.';\n",
              "          element.innerHTML = '';\n",
              "          dataTable['output_type'] = 'display_data';\n",
              "          await google.colab.output.renderOutput(dataTable, element);\n",
              "          const docLink = document.createElement('div');\n",
              "          docLink.innerHTML = docLinkHtml;\n",
              "          element.appendChild(docLink);\n",
              "        }\n",
              "      </script>\n",
              "    </div>\n",
              "  </div>\n",
              "  "
            ]
          },
          "metadata": {},
          "execution_count": 21
        }
      ]
    },
    {
      "cell_type": "code",
      "source": [
        "print(classification_report(y_test,prediction))"
      ],
      "metadata": {
        "execution": {
          "iopub.status.busy": "2022-05-15T23:39:12.345252Z",
          "iopub.execute_input": "2022-05-15T23:39:12.345610Z",
          "iopub.status.idle": "2022-05-15T23:39:12.361061Z",
          "shell.execute_reply.started": "2022-05-15T23:39:12.345569Z",
          "shell.execute_reply": "2022-05-15T23:39:12.359973Z"
        },
        "trusted": true,
        "colab": {
          "base_uri": "https://localhost:8080/"
        },
        "id": "z-5hsaEsf2BR",
        "outputId": "e3bbd6c6-9ec7-49a5-dc90-ba47dc28ab82"
      },
      "execution_count": 22,
      "outputs": [
        {
          "output_type": "stream",
          "name": "stdout",
          "text": [
            "              precision    recall  f1-score   support\n",
            "\n",
            "           0       0.69      0.78      0.73      2550\n",
            "           1       0.74      0.66      0.70      2583\n",
            "           2       0.74      0.69      0.72      2481\n",
            "           3       0.95      0.99      0.97      2578\n",
            "\n",
            "    accuracy                           0.78     10192\n",
            "   macro avg       0.78      0.78      0.78     10192\n",
            "weighted avg       0.78      0.78      0.78     10192\n",
            "\n"
          ]
        }
      ]
    },
    {
      "cell_type": "code",
      "source": [
        "from sklearn.metrics import confusion_matrix\n",
        "from matplotlib.pyplot import figure\n",
        "figure(figsize=(5, 4), dpi=80)\n",
        "cm = confusion_matrix(y_test,prediction)\n",
        "\n",
        "sns.heatmap(cm, annot=True,fmt=\"d\",cmap=\"YlGnBu\")"
      ],
      "metadata": {
        "execution": {
          "iopub.status.busy": "2022-05-15T23:39:12.362840Z",
          "iopub.execute_input": "2022-05-15T23:39:12.363371Z",
          "iopub.status.idle": "2022-05-15T23:39:12.666036Z",
          "shell.execute_reply.started": "2022-05-15T23:39:12.363324Z",
          "shell.execute_reply": "2022-05-15T23:39:12.664868Z"
        },
        "trusted": true,
        "colab": {
          "base_uri": "https://localhost:8080/",
          "height": 309
        },
        "id": "_IDgBGaef2BR",
        "outputId": "84ba6eb6-c307-4bd4-fec2-cba5d84edcae"
      },
      "execution_count": 23,
      "outputs": [
        {
          "output_type": "execute_result",
          "data": {
            "text/plain": [
              "<matplotlib.axes._subplots.AxesSubplot at 0x7f2909be1290>"
            ]
          },
          "metadata": {},
          "execution_count": 23
        },
        {
          "output_type": "display_data",
          "data": {
            "text/plain": [
              "<Figure size 400x320 with 2 Axes>"
            ],
            "image/png": "[encoded data removed]"
          },
          "metadata": {
            "needs_background": "light"
          }
        }
      ]
    },
    {
      "cell_type": "markdown",
      "source": [
        "# SVC"
      ],
      "metadata": {
        "id": "4GsvaRKdf2BR"
      }
    },
    {
      "cell_type": "code",
      "source": [
        "from sklearn.svm import SVC\n",
        "svm_model = SVC(kernel = \"linear\")\n",
        "svm_model = svm_model.fit(X_for_model, y_train)\n",
        "svm_model"
      ],
      "metadata": {
        "execution": {
          "iopub.status.busy": "2022-05-15T23:40:42.020252Z",
          "iopub.execute_input": "2022-05-15T23:40:42.021003Z",
          "iopub.status.idle": "2022-05-15T23:40:42.381042Z",
          "shell.execute_reply.started": "2022-05-15T23:40:42.020963Z",
          "shell.execute_reply": "2022-05-15T23:40:42.379638Z"
        },
        "trusted": true,
        "colab": {
          "base_uri": "https://localhost:8080/"
        },
        "id": "akaWOnrFf2BS",
        "outputId": "83f9bb4e-1290-401e-af41-fe8482f657b0"
      },
      "execution_count": 24,
      "outputs": [
        {
          "output_type": "execute_result",
          "data": {
            "text/plain": [
              "SVC(kernel='linear')"
            ]
          },
          "metadata": {},
          "execution_count": 24
        }
      ]
    },
    {
      "cell_type": "code",
      "source": [
        "X_test_feature = VGG_model.predict(x_test)\n",
        "X_test_features = X_test_feature.reshape(X_test_feature.shape[0], -1)\n",
        "#Now predict using the trained RF model. \n",
        "prediction = svm_model.predict(X_test_features)"
      ],
      "metadata": {
        "execution": {
          "iopub.status.busy": "2022-05-15T23:41:03.714889Z",
          "iopub.execute_input": "2022-05-15T23:41:03.715212Z",
          "iopub.status.idle": "2022-05-15T23:41:14.285474Z",
          "shell.execute_reply.started": "2022-05-15T23:41:03.715180Z",
          "shell.execute_reply": "2022-05-15T23:41:14.284486Z"
        },
        "trusted": true,
        "id": "GinVbETPf2BS"
      },
      "execution_count": 25,
      "outputs": []
    },
    {
      "cell_type": "code",
      "source": [
        "print('Test set evaluation:\\n_____________________________________')\n",
        "print_evaluate(y_test, prediction)"
      ],
      "metadata": {
        "execution": {
          "iopub.status.busy": "2022-05-15T23:41:20.005839Z",
          "iopub.execute_input": "2022-05-15T23:41:20.006793Z",
          "iopub.status.idle": "2022-05-15T23:41:20.018825Z",
          "shell.execute_reply.started": "2022-05-15T23:41:20.006739Z",
          "shell.execute_reply": "2022-05-15T23:41:20.017254Z"
        },
        "trusted": true,
        "colab": {
          "base_uri": "https://localhost:8080/"
        },
        "id": "VDFTIY7Rf2BS",
        "outputId": "9a8966aa-00d5-4abb-9445-8109b199a220"
      },
      "execution_count": 26,
      "outputs": [
        {
          "output_type": "stream",
          "name": "stdout",
          "text": [
            "Test set evaluation:\n",
            "_____________________________________\n",
            "MAE: 0.3017072213500785\n",
            "MSE: 0.4632064364207221\n",
            "RMSE: 0.6805927096441176\n",
            "R2 Square 0.6312868689226548\n",
            "Accuracy 0.7773744113029827\n",
            "__________________________________\n"
          ]
        }
      ]
    },
    {
      "cell_type": "code",
      "source": [
        "results_df_2 = pd.DataFrame(data=[[\"SVC\", *evaluate(y_test, prediction)]], \n",
        "                          columns=['Model', 'MAE', 'MSE', 'RMSE', 'R2 Square','Accuracy_vgg19' ])\n",
        "results_df = results_df.append(results_df_2, ignore_index=True)\n",
        "results_df"
      ],
      "metadata": {
        "execution": {
          "iopub.status.busy": "2022-05-15T23:41:44.326015Z",
          "iopub.execute_input": "2022-05-15T23:41:44.326743Z",
          "iopub.status.idle": "2022-05-15T23:41:44.347306Z",
          "shell.execute_reply.started": "2022-05-15T23:41:44.326688Z",
          "shell.execute_reply": "2022-05-15T23:41:44.346315Z"
        },
        "trusted": true,
        "colab": {
          "base_uri": "https://localhost:8080/",
          "height": 112
        },
        "id": "CGUyuw3Nf2BS",
        "outputId": "6165dbbf-eea3-4591-99d1-9200542ca837"
      },
      "execution_count": 27,
      "outputs": [
        {
          "output_type": "execute_result",
          "data": {
            "text/plain": [
              "                  Model       MAE       MSE      RMSE  R2 Square  \\\n",
              "0  KNeighborsClassifier  0.288952  0.432398  0.657570   0.655810   \n",
              "1                   SVC  0.301707  0.463206  0.680593   0.631287   \n",
              "\n",
              "   Accuracy_vgg19  \n",
              "0        0.781005  \n",
              "1        0.777374  "
            ],
            "text/html": [
              "\n",
              "  <div id=\"df-15ebd196-8e56-41b5-afcb-9941d84f1c91\">\n",
              "    <div class=\"colab-df-container\">\n",
              "      <div>\n",
              "<style scoped>\n",
              "    .dataframe tbody tr th:only-of-type {\n",
              "        vertical-align: middle;\n",
              "    }\n",
              "\n",
              "    .dataframe tbody tr th {\n",
              "        vertical-align: top;\n",
              "    }\n",
              "\n",
              "    .dataframe thead th {\n",
              "        text-align: right;\n",
              "    }\n",
              "</style>\n",
              "<table border=\"1\" class=\"dataframe\">\n",
              "  <thead>\n",
              "    <tr style=\"text-align: right;\">\n",
              "      <th></th>\n",
              "      <th>Model</th>\n",
              "      <th>MAE</th>\n",
              "      <th>MSE</th>\n",
              "      <th>RMSE</th>\n",
              "      <th>R2 Square</th>\n",
              "      <th>Accuracy_vgg19</th>\n",
              "    </tr>\n",
              "  </thead>\n",
              "  <tbody>\n",
              "    <tr>\n",
              "      <th>0</th>\n",
              "      <td>KNeighborsClassifier</td>\n",
              "      <td>0.288952</td>\n",
              "      <td>0.432398</td>\n",
              "      <td>0.657570</td>\n",
              "      <td>0.655810</td>\n",
              "      <td>0.781005</td>\n",
              "    </tr>\n",
              "    <tr>\n",
              "      <th>1</th>\n",
              "      <td>SVC</td>\n",
              "      <td>0.301707</td>\n",
              "      <td>0.463206</td>\n",
              "      <td>0.680593</td>\n",
              "      <td>0.631287</td>\n",
              "      <td>0.777374</td>\n",
              "    </tr>\n",
              "  </tbody>\n",
              "</table>\n",
              "</div>\n",
              "      <button class=\"colab-df-convert\" onclick=\"convertToInteractive('df-15ebd196-8e56-41b5-afcb-9941d84f1c91')\"\n",
              "              title=\"Convert this dataframe to an interactive table.\"\n",
              "              style=\"display:none;\">\n",
              "        \n",
              "  <svg xmlns=\"http://www.w3.org/2000/svg\" height=\"24px\"viewBox=\"0 0 24 24\"\n",
              "       width=\"24px\">\n",
              "    <path d=\"M0 0h24v24H0V0z\" fill=\"none\"/>\n",
              "    <path d=\"M18.56 5.44l.94 2.06.94-2.06 2.06-.94-2.06-.94-.94-2.06-.94 2.06-2.06.94zm-11 1L8.5 8.5l.94-2.06 2.06-.94-2.06-.94L8.5 2.5l-.94 2.06-2.06.94zm10 10l.94 2.06.94-2.06 2.06-.94-2.06-.94-.94-2.06-.94 2.06-2.06.94z\"/><path d=\"M17.41 7.96l-1.37-1.37c-.4-.4-.92-.59-1.43-.59-.52 0-1.04.2-1.43.59L10.3 9.45l-7.72 7.72c-.78.78-.78 2.05 0 2.83L4 21.41c.39.39.9.59 1.41.59.51 0 1.02-.2 1.41-.59l7.78-7.78 2.81-2.81c.8-.78.8-2.07 0-2.86zM5.41 20L4 18.59l7.72-7.72 1.47 1.35L5.41 20z\"/>\n",
              "  </svg>\n",
              "      </button>\n",
              "      \n",
              "  <style>\n",
              "    .colab-df-container {\n",
              "      display:flex;\n",
              "      flex-wrap:wrap;\n",
              "      gap: 12px;\n",
              "    }\n",
              "\n",
              "    .colab-df-convert {\n",
              "      background-color: #E8F0FE;\n",
              "      border: none;\n",
              "      border-radius: 50%;\n",
              "      cursor: pointer;\n",
              "      display: none;\n",
              "      fill: #1967D2;\n",
              "      height: 32px;\n",
              "      padding: 0 0 0 0;\n",
              "      width: 32px;\n",
              "    }\n",
              "\n",
              "    .colab-df-convert:hover {\n",
              "      background-color: #E2EBFA;\n",
              "      box-shadow: 0px 1px 2px rgba(60, 64, 67, 0.3), 0px 1px 3px 1px rgba(60, 64, 67, 0.15);\n",
              "      fill: #174EA6;\n",
              "    }\n",
              "\n",
              "    [theme=dark] .colab-df-convert {\n",
              "      background-color: #3B4455;\n",
              "      fill: #D2E3FC;\n",
              "    }\n",
              "\n",
              "    [theme=dark] .colab-df-convert:hover {\n",
              "      background-color: #434B5C;\n",
              "      box-shadow: 0px 1px 3px 1px rgba(0, 0, 0, 0.15);\n",
              "      filter: drop-shadow(0px 1px 2px rgba(0, 0, 0, 0.3));\n",
              "      fill: #FFFFFF;\n",
              "    }\n",
              "  </style>\n",
              "\n",
              "      <script>\n",
              "        const buttonEl =\n",
              "          document.querySelector('#df-15ebd196-8e56-41b5-afcb-9941d84f1c91 button.colab-df-convert');\n",
              "        buttonEl.style.display =\n",
              "          google.colab.kernel.accessAllowed ? 'block' : 'none';\n",
              "\n",
              "        async function convertToInteractive(key) {\n",
              "          const element = document.querySelector('#df-15ebd196-8e56-41b5-afcb-9941d84f1c91');\n",
              "          const dataTable =\n",
              "            await google.colab.kernel.invokeFunction('convertToInteractive',\n",
              "                                                     [key], {});\n",
              "          if (!dataTable) return;\n",
              "\n",
              "          const docLinkHtml = 'Like what you see? Visit the ' +\n",
              "            '<a target=\"_blank\" href=https://colab.research.google.com/notebooks/data_table.ipynb>data table notebook</a>'\n",
              "            + ' to learn more about interactive tables.';\n",
              "          element.innerHTML = '';\n",
              "          dataTable['output_type'] = 'display_data';\n",
              "          await google.colab.output.renderOutput(dataTable, element);\n",
              "          const docLink = document.createElement('div');\n",
              "          docLink.innerHTML = docLinkHtml;\n",
              "          element.appendChild(docLink);\n",
              "        }\n",
              "      </script>\n",
              "    </div>\n",
              "  </div>\n",
              "  "
            ]
          },
          "metadata": {},
          "execution_count": 27
        }
      ]
    },
    {
      "cell_type": "code",
      "source": [
        "print(classification_report(y_test,prediction))"
      ],
      "metadata": {
        "execution": {
          "iopub.status.busy": "2022-05-15T23:42:05.523577Z",
          "iopub.execute_input": "2022-05-15T23:42:05.524261Z",
          "iopub.status.idle": "2022-05-15T23:42:05.538599Z",
          "shell.execute_reply.started": "2022-05-15T23:42:05.524205Z",
          "shell.execute_reply": "2022-05-15T23:42:05.537469Z"
        },
        "trusted": true,
        "colab": {
          "base_uri": "https://localhost:8080/"
        },
        "id": "lUL48_owf2BS",
        "outputId": "acad60bc-f9e7-4cae-9573-eb5c7b727826"
      },
      "execution_count": 28,
      "outputs": [
        {
          "output_type": "stream",
          "name": "stdout",
          "text": [
            "              precision    recall  f1-score   support\n",
            "\n",
            "           0       0.69      0.66      0.68      2550\n",
            "           1       0.74      0.72      0.73      2583\n",
            "           2       0.71      0.75      0.73      2481\n",
            "           3       0.96      0.97      0.97      2578\n",
            "\n",
            "    accuracy                           0.78     10192\n",
            "   macro avg       0.78      0.78      0.78     10192\n",
            "weighted avg       0.78      0.78      0.78     10192\n",
            "\n"
          ]
        }
      ]
    },
    {
      "cell_type": "code",
      "source": [
        "from sklearn.metrics import confusion_matrix\n",
        "from matplotlib.pyplot import figure\n",
        "figure(figsize=(5, 4), dpi=80)\n",
        "cm = confusion_matrix(y_test,prediction)\n",
        "\n",
        "sns.heatmap(cm, annot=True,fmt=\"d\",cmap=\"YlGnBu\")"
      ],
      "metadata": {
        "execution": {
          "iopub.status.busy": "2022-05-15T23:42:14.180825Z",
          "iopub.execute_input": "2022-05-15T23:42:14.181152Z",
          "iopub.status.idle": "2022-05-15T23:42:14.761190Z",
          "shell.execute_reply.started": "2022-05-15T23:42:14.181121Z",
          "shell.execute_reply": "2022-05-15T23:42:14.760291Z"
        },
        "trusted": true,
        "colab": {
          "base_uri": "https://localhost:8080/",
          "height": 312
        },
        "id": "pOEQpHmvf2BT",
        "outputId": "6c8a84a8-add6-4a17-d73f-806c2a49ef45"
      },
      "execution_count": 29,
      "outputs": [
        {
          "output_type": "execute_result",
          "data": {
            "text/plain": [
              "<matplotlib.axes._subplots.AxesSubplot at 0x7f2909479950>"
            ]
          },
          "metadata": {},
          "execution_count": 29
        },
        {
          "output_type": "display_data",
          "data": {
            "text/plain": [
              "<Figure size 400x320 with 2 Axes>"
            ],
            "image/png": "[encoded data removed]"
          },
          "metadata": {
            "needs_background": "light"
          }
        }
      ]
    },
    {
      "cell_type": "markdown",
      "source": [
        "# RBF SVC"
      ],
      "metadata": {
        "id": "iVczXOaPf2BT"
      }
    },
    {
      "cell_type": "code",
      "source": [
        "from sklearn.svm import SVC\n",
        "\n",
        "svc_model = SVC(kernel = \"rbf\").fit(X_for_model, y_train)\n",
        "svc_model = svc_model.fit(X_for_model, y_train)\n",
        "svc_model"
      ],
      "metadata": {
        "execution": {
          "iopub.status.busy": "2022-05-15T23:43:15.338763Z",
          "iopub.execute_input": "2022-05-15T23:43:15.339089Z",
          "iopub.status.idle": "2022-05-15T23:43:16.241154Z",
          "shell.execute_reply.started": "2022-05-15T23:43:15.339056Z",
          "shell.execute_reply": "2022-05-15T23:43:16.240288Z"
        },
        "trusted": true,
        "colab": {
          "base_uri": "https://localhost:8080/"
        },
        "id": "xVn0Nb3Yf2BT",
        "outputId": "dd3d89e9-9e8b-4f04-869c-058d78535a68"
      },
      "execution_count": 30,
      "outputs": [
        {
          "output_type": "execute_result",
          "data": {
            "text/plain": [
              "SVC()"
            ]
          },
          "metadata": {},
          "execution_count": 30
        }
      ]
    },
    {
      "cell_type": "code",
      "source": [
        "X_test_feature = VGG_model.predict(x_test)\n",
        "X_test_features = X_test_feature.reshape(X_test_feature.shape[0], -1)\n",
        "#Now predict using the trained RF model. \n",
        "prediction = svc_model.predict(X_test_features)"
      ],
      "metadata": {
        "execution": {
          "iopub.status.busy": "2022-05-15T23:43:33.172114Z",
          "iopub.execute_input": "2022-05-15T23:43:33.172457Z",
          "iopub.status.idle": "2022-05-15T23:43:44.740572Z",
          "shell.execute_reply.started": "2022-05-15T23:43:33.172422Z",
          "shell.execute_reply": "2022-05-15T23:43:44.739457Z"
        },
        "trusted": true,
        "id": "h3LSdnuCf2BT"
      },
      "execution_count": 31,
      "outputs": []
    },
    {
      "cell_type": "code",
      "source": [
        "print('Test set evaluation:\\n_____________________________________')\n",
        "print_evaluate(y_test, prediction)"
      ],
      "metadata": {
        "execution": {
          "iopub.status.busy": "2022-05-15T23:43:44.742519Z",
          "iopub.execute_input": "2022-05-15T23:43:44.742761Z",
          "iopub.status.idle": "2022-05-15T23:43:44.751229Z",
          "shell.execute_reply.started": "2022-05-15T23:43:44.742733Z",
          "shell.execute_reply": "2022-05-15T23:43:44.750288Z"
        },
        "trusted": true,
        "colab": {
          "base_uri": "https://localhost:8080/"
        },
        "id": "e3k63z-uf2BT",
        "outputId": "78f1eebf-53f0-4f98-ebb0-8ef8a989980a"
      },
      "execution_count": 32,
      "outputs": [
        {
          "output_type": "stream",
          "name": "stdout",
          "text": [
            "Test set evaluation:\n",
            "_____________________________________\n",
            "MAE: 0.36813186813186816\n",
            "MSE: 0.5875196232339089\n",
            "RMSE: 0.7664982865172687\n",
            "R2 Square 0.5323333554562291\n",
            "Accuracy 0.7351844583987441\n",
            "__________________________________\n"
          ]
        }
      ]
    },
    {
      "cell_type": "code",
      "source": [
        "results_df_2 = pd.DataFrame(data=[[\"RBF SVC\", *evaluate(y_test, prediction)]], \n",
        "                          columns=['Model', 'MAE', 'MSE', 'RMSE', 'R2 Square','Accuracy_vgg19' ])\n",
        "results_df = results_df.append(results_df_2, ignore_index=True)\n",
        "results_df"
      ],
      "metadata": {
        "execution": {
          "iopub.status.busy": "2022-05-15T23:43:58.399656Z",
          "iopub.execute_input": "2022-05-15T23:43:58.400087Z",
          "iopub.status.idle": "2022-05-15T23:43:58.420877Z",
          "shell.execute_reply.started": "2022-05-15T23:43:58.400055Z",
          "shell.execute_reply": "2022-05-15T23:43:58.419964Z"
        },
        "trusted": true,
        "colab": {
          "base_uri": "https://localhost:8080/",
          "height": 144
        },
        "id": "5SOcLh7-f2BT",
        "outputId": "9440b6f6-adbc-485b-c445-58895f968ae3"
      },
      "execution_count": 33,
      "outputs": [
        {
          "output_type": "execute_result",
          "data": {
            "text/plain": [
              "                  Model       MAE       MSE      RMSE  R2 Square  \\\n",
              "0  KNeighborsClassifier  0.288952  0.432398  0.657570   0.655810   \n",
              "1                   SVC  0.301707  0.463206  0.680593   0.631287   \n",
              "2               RBF SVC  0.368132  0.587520  0.766498   0.532333   \n",
              "\n",
              "   Accuracy_vgg19  \n",
              "0        0.781005  \n",
              "1        0.777374  \n",
              "2        0.735184  "
            ],
            "text/html": [
              "\n",
              "  <div id=\"df-da8adf15-91e9-4482-bbec-1a239732f338\">\n",
              "    <div class=\"colab-df-container\">\n",
              "      <div>\n",
              "<style scoped>\n",
              "    .dataframe tbody tr th:only-of-type {\n",
              "        vertical-align: middle;\n",
              "    }\n",
              "\n",
              "    .dataframe tbody tr th {\n",
              "        vertical-align: top;\n",
              "    }\n",
              "\n",
              "    .dataframe thead th {\n",
              "        text-align: right;\n",
              "    }\n",
              "</style>\n",
              "<table border=\"1\" class=\"dataframe\">\n",
              "  <thead>\n",
              "    <tr style=\"text-align: right;\">\n",
              "      <th></th>\n",
              "      <th>Model</th>\n",
              "      <th>MAE</th>\n",
              "      <th>MSE</th>\n",
              "      <th>RMSE</th>\n",
              "      <th>R2 Square</th>\n",
              "      <th>Accuracy_vgg19</th>\n",
              "    </tr>\n",
              "  </thead>\n",
              "  <tbody>\n",
              "    <tr>\n",
              "      <th>0</th>\n",
              "      <td>KNeighborsClassifier</td>\n",
              "      <td>0.288952</td>\n",
              "      <td>0.432398</td>\n",
              "      <td>0.657570</td>\n",
              "      <td>0.655810</td>\n",
              "      <td>0.781005</td>\n",
              "    </tr>\n",
              "    <tr>\n",
              "      <th>1</th>\n",
              "      <td>SVC</td>\n",
              "      <td>0.301707</td>\n",
              "      <td>0.463206</td>\n",
              "      <td>0.680593</td>\n",
              "      <td>0.631287</td>\n",
              "      <td>0.777374</td>\n",
              "    </tr>\n",
              "    <tr>\n",
              "      <th>2</th>\n",
              "      <td>RBF SVC</td>\n",
              "      <td>0.368132</td>\n",
              "      <td>0.587520</td>\n",
              "      <td>0.766498</td>\n",
              "      <td>0.532333</td>\n",
              "      <td>0.735184</td>\n",
              "    </tr>\n",
              "  </tbody>\n",
              "</table>\n",
              "</div>\n",
              "      <button class=\"colab-df-convert\" onclick=\"convertToInteractive('df-da8adf15-91e9-4482-bbec-1a239732f338')\"\n",
              "              title=\"Convert this dataframe to an interactive table.\"\n",
              "              style=\"display:none;\">\n",
              "        \n",
              "  <svg xmlns=\"http://www.w3.org/2000/svg\" height=\"24px\"viewBox=\"0 0 24 24\"\n",
              "       width=\"24px\">\n",
              "    <path d=\"M0 0h24v24H0V0z\" fill=\"none\"/>\n",
              "    <path d=\"M18.56 5.44l.94 2.06.94-2.06 2.06-.94-2.06-.94-.94-2.06-.94 2.06-2.06.94zm-11 1L8.5 8.5l.94-2.06 2.06-.94-2.06-.94L8.5 2.5l-.94 2.06-2.06.94zm10 10l.94 2.06.94-2.06 2.06-.94-2.06-.94-.94-2.06-.94 2.06-2.06.94z\"/><path d=\"M17.41 7.96l-1.37-1.37c-.4-.4-.92-.59-1.43-.59-.52 0-1.04.2-1.43.59L10.3 9.45l-7.72 7.72c-.78.78-.78 2.05 0 2.83L4 21.41c.39.39.9.59 1.41.59.51 0 1.02-.2 1.41-.59l7.78-7.78 2.81-2.81c.8-.78.8-2.07 0-2.86zM5.41 20L4 18.59l7.72-7.72 1.47 1.35L5.41 20z\"/>\n",
              "  </svg>\n",
              "      </button>\n",
              "      \n",
              "  <style>\n",
              "    .colab-df-container {\n",
              "      display:flex;\n",
              "      flex-wrap:wrap;\n",
              "      gap: 12px;\n",
              "    }\n",
              "\n",
              "    .colab-df-convert {\n",
              "      background-color: #E8F0FE;\n",
              "      border: none;\n",
              "      border-radius: 50%;\n",
              "      cursor: pointer;\n",
              "      display: none;\n",
              "      fill: #1967D2;\n",
              "      height: 32px;\n",
              "      padding: 0 0 0 0;\n",
              "      width: 32px;\n",
              "    }\n",
              "\n",
              "    .colab-df-convert:hover {\n",
              "      background-color: #E2EBFA;\n",
              "      box-shadow: 0px 1px 2px rgba(60, 64, 67, 0.3), 0px 1px 3px 1px rgba(60, 64, 67, 0.15);\n",
              "      fill: #174EA6;\n",
              "    }\n",
              "\n",
              "    [theme=dark] .colab-df-convert {\n",
              "      background-color: #3B4455;\n",
              "      fill: #D2E3FC;\n",
              "    }\n",
              "\n",
              "    [theme=dark] .colab-df-convert:hover {\n",
              "      background-color: #434B5C;\n",
              "      box-shadow: 0px 1px 3px 1px rgba(0, 0, 0, 0.15);\n",
              "      filter: drop-shadow(0px 1px 2px rgba(0, 0, 0, 0.3));\n",
              "      fill: #FFFFFF;\n",
              "    }\n",
              "  </style>\n",
              "\n",
              "      <script>\n",
              "        const buttonEl =\n",
              "          document.querySelector('#df-da8adf15-91e9-4482-bbec-1a239732f338 button.colab-df-convert');\n",
              "        buttonEl.style.display =\n",
              "          google.colab.kernel.accessAllowed ? 'block' : 'none';\n",
              "\n",
              "        async function convertToInteractive(key) {\n",
              "          const element = document.querySelector('#df-da8adf15-91e9-4482-bbec-1a239732f338');\n",
              "          const dataTable =\n",
              "            await google.colab.kernel.invokeFunction('convertToInteractive',\n",
              "                                                     [key], {});\n",
              "          if (!dataTable) return;\n",
              "\n",
              "          const docLinkHtml = 'Like what you see? Visit the ' +\n",
              "            '<a target=\"_blank\" href=https://colab.research.google.com/notebooks/data_table.ipynb>data table notebook</a>'\n",
              "            + ' to learn more about interactive tables.';\n",
              "          element.innerHTML = '';\n",
              "          dataTable['output_type'] = 'display_data';\n",
              "          await google.colab.output.renderOutput(dataTable, element);\n",
              "          const docLink = document.createElement('div');\n",
              "          docLink.innerHTML = docLinkHtml;\n",
              "          element.appendChild(docLink);\n",
              "        }\n",
              "      </script>\n",
              "    </div>\n",
              "  </div>\n",
              "  "
            ]
          },
          "metadata": {},
          "execution_count": 33
        }
      ]
    },
    {
      "cell_type": "code",
      "source": [
        "print(classification_report(y_test,prediction))"
      ],
      "metadata": {
        "execution": {
          "iopub.status.busy": "2022-05-15T23:44:12.308832Z",
          "iopub.execute_input": "2022-05-15T23:44:12.309405Z",
          "iopub.status.idle": "2022-05-15T23:44:12.321349Z",
          "shell.execute_reply.started": "2022-05-15T23:44:12.309353Z",
          "shell.execute_reply": "2022-05-15T23:44:12.320695Z"
        },
        "trusted": true,
        "colab": {
          "base_uri": "https://localhost:8080/"
        },
        "id": "Y9ENwcQYf2BU",
        "outputId": "b7e7b271-f5ca-44d5-87f0-2542e7f1e7f9"
      },
      "execution_count": 34,
      "outputs": [
        {
          "output_type": "stream",
          "name": "stdout",
          "text": [
            "              precision    recall  f1-score   support\n",
            "\n",
            "           0       0.65      0.59      0.61      2550\n",
            "           1       0.69      0.69      0.69      2583\n",
            "           2       0.66      0.72      0.69      2481\n",
            "           3       0.93      0.94      0.94      2578\n",
            "\n",
            "    accuracy                           0.74     10192\n",
            "   macro avg       0.73      0.73      0.73     10192\n",
            "weighted avg       0.73      0.74      0.73     10192\n",
            "\n"
          ]
        }
      ]
    },
    {
      "cell_type": "code",
      "source": [
        "from sklearn.metrics import confusion_matrix\n",
        "from matplotlib.pyplot import figure\n",
        "figure(figsize=(5, 4), dpi=80)\n",
        "cm = confusion_matrix(y_test,prediction)\n",
        "\n",
        "sns.heatmap(cm, annot=True,fmt=\"d\",cmap=\"YlGnBu\")"
      ],
      "metadata": {
        "execution": {
          "iopub.status.busy": "2022-05-15T23:44:21.382759Z",
          "iopub.execute_input": "2022-05-15T23:44:21.383364Z",
          "iopub.status.idle": "2022-05-15T23:44:21.656261Z",
          "shell.execute_reply.started": "2022-05-15T23:44:21.383330Z",
          "shell.execute_reply": "2022-05-15T23:44:21.655349Z"
        },
        "trusted": true,
        "colab": {
          "base_uri": "https://localhost:8080/",
          "height": 309
        },
        "id": "rhCyOXS2f2BU",
        "outputId": "b7347f94-efb9-4142-985f-fc4391b89759"
      },
      "execution_count": 35,
      "outputs": [
        {
          "output_type": "execute_result",
          "data": {
            "text/plain": [
              "<matplotlib.axes._subplots.AxesSubplot at 0x7f29095887d0>"
            ]
          },
          "metadata": {},
          "execution_count": 35
        },
        {
          "output_type": "display_data",
          "data": {
            "text/plain": [
              "<Figure size 400x320 with 2 Axes>"
            ],
            "image/png": "[encoded data removed]"
          },
          "metadata": {
            "needs_background": "light"
          }
        }
      ]
    },
    {
      "cell_type": "markdown",
      "source": [
        "# DecisionTreeClassifier"
      ],
      "metadata": {
        "id": "nGaVLl7-f2BU"
      }
    },
    {
      "cell_type": "code",
      "source": [
        "from sklearn.tree import DecisionTreeClassifier\n",
        "cart_model = DecisionTreeClassifier()\n",
        "cart_model = cart_model.fit(X_for_model, y_train)\n",
        "cart_model"
      ],
      "metadata": {
        "execution": {
          "iopub.status.busy": "2022-05-15T23:44:47.509229Z",
          "iopub.execute_input": "2022-05-15T23:44:47.509560Z",
          "iopub.status.idle": "2022-05-15T23:44:47.801680Z",
          "shell.execute_reply.started": "2022-05-15T23:44:47.509528Z",
          "shell.execute_reply": "2022-05-15T23:44:47.800754Z"
        },
        "trusted": true,
        "colab": {
          "base_uri": "https://localhost:8080/"
        },
        "id": "HmFQbakzf2BU",
        "outputId": "a8d596c9-45d2-41e7-e212-1918fe52cd56"
      },
      "execution_count": 36,
      "outputs": [
        {
          "output_type": "execute_result",
          "data": {
            "text/plain": [
              "DecisionTreeClassifier()"
            ]
          },
          "metadata": {},
          "execution_count": 36
        }
      ]
    },
    {
      "cell_type": "code",
      "source": [
        "X_test_feature = VGG_model.predict(x_test)\n",
        "X_test_features = X_test_feature.reshape(X_test_feature.shape[0], -1)\n",
        "#Now predict using the trained RF model. \n",
        "prediction = cart_model.predict(X_test_features)"
      ],
      "metadata": {
        "execution": {
          "iopub.status.busy": "2022-05-15T23:44:58.702994Z",
          "iopub.execute_input": "2022-05-15T23:44:58.703496Z",
          "iopub.status.idle": "2022-05-15T23:45:08.759712Z",
          "shell.execute_reply.started": "2022-05-15T23:44:58.703449Z",
          "shell.execute_reply": "2022-05-15T23:45:08.758522Z"
        },
        "trusted": true,
        "id": "MQkJ4Li2f2BU"
      },
      "execution_count": 37,
      "outputs": []
    },
    {
      "cell_type": "code",
      "source": [
        "print('Test set evaluation:\\n_____________________________________')\n",
        "print_evaluate(y_test, prediction)"
      ],
      "metadata": {
        "execution": {
          "iopub.status.busy": "2022-05-15T23:45:08.761481Z",
          "iopub.execute_input": "2022-05-15T23:45:08.761759Z",
          "iopub.status.idle": "2022-05-15T23:45:08.772303Z",
          "shell.execute_reply.started": "2022-05-15T23:45:08.761728Z",
          "shell.execute_reply": "2022-05-15T23:45:08.771400Z"
        },
        "trusted": true,
        "colab": {
          "base_uri": "https://localhost:8080/"
        },
        "id": "aKuYWeT5f2BU",
        "outputId": "66e247c8-cd0a-4ce7-cee4-a36757420762"
      },
      "execution_count": 38,
      "outputs": [
        {
          "output_type": "stream",
          "name": "stdout",
          "text": [
            "Test set evaluation:\n",
            "_____________________________________\n",
            "MAE: 0.19142464678178964\n",
            "MSE: 0.2828689167974882\n",
            "RMSE: 0.5318542251383251\n",
            "R2 Square 0.7748358489947075\n",
            "Accuracy 0.8540031397174255\n",
            "__________________________________\n"
          ]
        }
      ]
    },
    {
      "cell_type": "code",
      "source": [
        "results_df_2 = pd.DataFrame(data=[[\"DecisionTreeClassifier\", *evaluate(y_test, prediction)]], \n",
        "                          columns=['Model', 'MAE', 'MSE', 'RMSE', 'R2 Square','Accuracy_vgg19' ])\n",
        "results_df = results_df.append(results_df_2, ignore_index=True)\n",
        "results_df"
      ],
      "metadata": {
        "execution": {
          "iopub.status.busy": "2022-05-15T23:45:27.014808Z",
          "iopub.execute_input": "2022-05-15T23:45:27.015154Z",
          "iopub.status.idle": "2022-05-15T23:45:27.038911Z",
          "shell.execute_reply.started": "2022-05-15T23:45:27.015121Z",
          "shell.execute_reply": "2022-05-15T23:45:27.037665Z"
        },
        "trusted": true,
        "colab": {
          "base_uri": "https://localhost:8080/",
          "height": 175
        },
        "id": "DNyNwj3Ef2BU",
        "outputId": "8ea26e3e-3675-4aab-e0d9-010ca4bf3360"
      },
      "execution_count": 39,
      "outputs": [
        {
          "output_type": "execute_result",
          "data": {
            "text/plain": [
              "                    Model       MAE       MSE      RMSE  R2 Square  \\\n",
              "0    KNeighborsClassifier  0.288952  0.432398  0.657570   0.655810   \n",
              "1                     SVC  0.301707  0.463206  0.680593   0.631287   \n",
              "2                 RBF SVC  0.368132  0.587520  0.766498   0.532333   \n",
              "3  DecisionTreeClassifier  0.191425  0.282869  0.531854   0.774836   \n",
              "\n",
              "   Accuracy_vgg19  \n",
              "0        0.781005  \n",
              "1        0.777374  \n",
              "2        0.735184  \n",
              "3        0.854003  "
            ],
            "text/html": [
              "\n",
              "  <div id=\"df-953a0f7d-6d24-47d6-bb1c-d5cb18c6d467\">\n",
              "    <div class=\"colab-df-container\">\n",
              "      <div>\n",
              "<style scoped>\n",
              "    .dataframe tbody tr th:only-of-type {\n",
              "        vertical-align: middle;\n",
              "    }\n",
              "\n",
              "    .dataframe tbody tr th {\n",
              "        vertical-align: top;\n",
              "    }\n",
              "\n",
              "    .dataframe thead th {\n",
              "        text-align: right;\n",
              "    }\n",
              "</style>\n",
              "<table border=\"1\" class=\"dataframe\">\n",
              "  <thead>\n",
              "    <tr style=\"text-align: right;\">\n",
              "      <th></th>\n",
              "      <th>Model</th>\n",
              "      <th>MAE</th>\n",
              "      <th>MSE</th>\n",
              "      <th>RMSE</th>\n",
              "      <th>R2 Square</th>\n",
              "      <th>Accuracy_vgg19</th>\n",
              "    </tr>\n",
              "  </thead>\n",
              "  <tbody>\n",
              "    <tr>\n",
              "      <th>0</th>\n",
              "      <td>KNeighborsClassifier</td>\n",
              "      <td>0.288952</td>\n",
              "      <td>0.432398</td>\n",
              "      <td>0.657570</td>\n",
              "      <td>0.655810</td>\n",
              "      <td>0.781005</td>\n",
              "    </tr>\n",
              "    <tr>\n",
              "      <th>1</th>\n",
              "      <td>SVC</td>\n",
              "      <td>0.301707</td>\n",
              "      <td>0.463206</td>\n",
              "      <td>0.680593</td>\n",
              "      <td>0.631287</td>\n",
              "      <td>0.777374</td>\n",
              "    </tr>\n",
              "    <tr>\n",
              "      <th>2</th>\n",
              "      <td>RBF SVC</td>\n",
              "      <td>0.368132</td>\n",
              "      <td>0.587520</td>\n",
              "      <td>0.766498</td>\n",
              "      <td>0.532333</td>\n",
              "      <td>0.735184</td>\n",
              "    </tr>\n",
              "    <tr>\n",
              "      <th>3</th>\n",
              "      <td>DecisionTreeClassifier</td>\n",
              "      <td>0.191425</td>\n",
              "      <td>0.282869</td>\n",
              "      <td>0.531854</td>\n",
              "      <td>0.774836</td>\n",
              "      <td>0.854003</td>\n",
              "    </tr>\n",
              "  </tbody>\n",
              "</table>\n",
              "</div>\n",
              "      <button class=\"colab-df-convert\" onclick=\"convertToInteractive('df-953a0f7d-6d24-47d6-bb1c-d5cb18c6d467')\"\n",
              "              title=\"Convert this dataframe to an interactive table.\"\n",
              "              style=\"display:none;\">\n",
              "        \n",
              "  <svg xmlns=\"http://www.w3.org/2000/svg\" height=\"24px\"viewBox=\"0 0 24 24\"\n",
              "       width=\"24px\">\n",
              "    <path d=\"M0 0h24v24H0V0z\" fill=\"none\"/>\n",
              "    <path d=\"M18.56 5.44l.94 2.06.94-2.06 2.06-.94-2.06-.94-.94-2.06-.94 2.06-2.06.94zm-11 1L8.5 8.5l.94-2.06 2.06-.94-2.06-.94L8.5 2.5l-.94 2.06-2.06.94zm10 10l.94 2.06.94-2.06 2.06-.94-2.06-.94-.94-2.06-.94 2.06-2.06.94z\"/><path d=\"M17.41 7.96l-1.37-1.37c-.4-.4-.92-.59-1.43-.59-.52 0-1.04.2-1.43.59L10.3 9.45l-7.72 7.72c-.78.78-.78 2.05 0 2.83L4 21.41c.39.39.9.59 1.41.59.51 0 1.02-.2 1.41-.59l7.78-7.78 2.81-2.81c.8-.78.8-2.07 0-2.86zM5.41 20L4 18.59l7.72-7.72 1.47 1.35L5.41 20z\"/>\n",
              "  </svg>\n",
              "      </button>\n",
              "      \n",
              "  <style>\n",
              "    .colab-df-container {\n",
              "      display:flex;\n",
              "      flex-wrap:wrap;\n",
              "      gap: 12px;\n",
              "    }\n",
              "\n",
              "    .colab-df-convert {\n",
              "      background-color: #E8F0FE;\n",
              "      border: none;\n",
              "      border-radius: 50%;\n",
              "      cursor: pointer;\n",
              "      display: none;\n",
              "      fill: #1967D2;\n",
              "      height: 32px;\n",
              "      padding: 0 0 0 0;\n",
              "      width: 32px;\n",
              "    }\n",
              "\n",
              "    .colab-df-convert:hover {\n",
              "      background-color: #E2EBFA;\n",
              "      box-shadow: 0px 1px 2px rgba(60, 64, 67, 0.3), 0px 1px 3px 1px rgba(60, 64, 67, 0.15);\n",
              "      fill: #174EA6;\n",
              "    }\n",
              "\n",
              "    [theme=dark] .colab-df-convert {\n",
              "      background-color: #3B4455;\n",
              "      fill: #D2E3FC;\n",
              "    }\n",
              "\n",
              "    [theme=dark] .colab-df-convert:hover {\n",
              "      background-color: #434B5C;\n",
              "      box-shadow: 0px 1px 3px 1px rgba(0, 0, 0, 0.15);\n",
              "      filter: drop-shadow(0px 1px 2px rgba(0, 0, 0, 0.3));\n",
              "      fill: #FFFFFF;\n",
              "    }\n",
              "  </style>\n",
              "\n",
              "      <script>\n",
              "        const buttonEl =\n",
              "          document.querySelector('#df-953a0f7d-6d24-47d6-bb1c-d5cb18c6d467 button.colab-df-convert');\n",
              "        buttonEl.style.display =\n",
              "          google.colab.kernel.accessAllowed ? 'block' : 'none';\n",
              "\n",
              "        async function convertToInteractive(key) {\n",
              "          const element = document.querySelector('#df-953a0f7d-6d24-47d6-bb1c-d5cb18c6d467');\n",
              "          const dataTable =\n",
              "            await google.colab.kernel.invokeFunction('convertToInteractive',\n",
              "                                                     [key], {});\n",
              "          if (!dataTable) return;\n",
              "\n",
              "          const docLinkHtml = 'Like what you see? Visit the ' +\n",
              "            '<a target=\"_blank\" href=https://colab.research.google.com/notebooks/data_table.ipynb>data table notebook</a>'\n",
              "            + ' to learn more about interactive tables.';\n",
              "          element.innerHTML = '';\n",
              "          dataTable['output_type'] = 'display_data';\n",
              "          await google.colab.output.renderOutput(dataTable, element);\n",
              "          const docLink = document.createElement('div');\n",
              "          docLink.innerHTML = docLinkHtml;\n",
              "          element.appendChild(docLink);\n",
              "        }\n",
              "      </script>\n",
              "    </div>\n",
              "  </div>\n",
              "  "
            ]
          },
          "metadata": {},
          "execution_count": 39
        }
      ]
    },
    {
      "cell_type": "code",
      "source": [
        "print(classification_report(y_test,prediction))"
      ],
      "metadata": {
        "execution": {
          "iopub.status.busy": "2022-05-15T23:45:37.574283Z",
          "iopub.execute_input": "2022-05-15T23:45:37.575131Z",
          "iopub.status.idle": "2022-05-15T23:45:37.588467Z",
          "shell.execute_reply.started": "2022-05-15T23:45:37.575084Z",
          "shell.execute_reply": "2022-05-15T23:45:37.587159Z"
        },
        "trusted": true,
        "colab": {
          "base_uri": "https://localhost:8080/"
        },
        "id": "LTrsSdrJf2BV",
        "outputId": "6fc1ca7c-6599-46a8-9d0e-a6f139b2e17c"
      },
      "execution_count": 40,
      "outputs": [
        {
          "output_type": "stream",
          "name": "stdout",
          "text": [
            "              precision    recall  f1-score   support\n",
            "\n",
            "           0       0.81      0.92      0.86      2550\n",
            "           1       0.81      0.81      0.81      2583\n",
            "           2       0.81      0.69      0.75      2481\n",
            "           3       0.97      1.00      0.98      2578\n",
            "\n",
            "    accuracy                           0.85     10192\n",
            "   macro avg       0.85      0.85      0.85     10192\n",
            "weighted avg       0.85      0.85      0.85     10192\n",
            "\n"
          ]
        }
      ]
    },
    {
      "cell_type": "code",
      "source": [
        "from sklearn.metrics import confusion_matrix\n",
        "from matplotlib.pyplot import figure\n",
        "figure(figsize=(5, 4), dpi=80)\n",
        "cm = confusion_matrix(y_test,prediction)\n",
        "\n",
        "sns.heatmap(cm, annot=True,fmt=\"d\",cmap=\"YlGnBu\")"
      ],
      "metadata": {
        "execution": {
          "iopub.status.busy": "2022-05-15T23:46:08.737676Z",
          "iopub.execute_input": "2022-05-15T23:46:08.738651Z",
          "iopub.status.idle": "2022-05-15T23:46:09.030955Z",
          "shell.execute_reply.started": "2022-05-15T23:46:08.738609Z",
          "shell.execute_reply": "2022-05-15T23:46:09.029872Z"
        },
        "trusted": true,
        "colab": {
          "base_uri": "https://localhost:8080/",
          "height": 309
        },
        "id": "1UZQHwLef2BV",
        "outputId": "c7c4c454-cab9-427f-f3ff-4eb08ed34fef"
      },
      "execution_count": 41,
      "outputs": [
        {
          "output_type": "execute_result",
          "data": {
            "text/plain": [
              "<matplotlib.axes._subplots.AxesSubplot at 0x7f2909bf1610>"
            ]
          },
          "metadata": {},
          "execution_count": 41
        },
        {
          "output_type": "display_data",
          "data": {
            "text/plain": [
              "<Figure size 400x320 with 2 Axes>"
            ],
            "image/png": "[encoded data removed]"
          },
          "metadata": {
            "needs_background": "light"
          }
        }
      ]
    },
    {
      "cell_type": "markdown",
      "source": [
        "# Lojistik regresyon"
      ],
      "metadata": {
        "id": "52FuwRakf2BV"
      }
    },
    {
      "cell_type": "code",
      "source": [
        "from sklearn.linear_model import LogisticRegression\n",
        "lr_model = LogisticRegression()\n",
        "lr_model = lr_model.fit(X_for_model, y_train)\n",
        "lr_model"
      ],
      "metadata": {
        "execution": {
          "iopub.status.busy": "2022-05-15T23:48:22.538883Z",
          "iopub.execute_input": "2022-05-15T23:48:22.539248Z",
          "iopub.status.idle": "2022-05-15T23:48:23.075126Z",
          "shell.execute_reply.started": "2022-05-15T23:48:22.539197Z",
          "shell.execute_reply": "2022-05-15T23:48:23.074057Z"
        },
        "trusted": true,
        "colab": {
          "base_uri": "https://localhost:8080/"
        },
        "id": "AweR31Hhf2BV",
        "outputId": "d6c3f5dd-6a53-4ab6-c0ee-703d1a0f30b2"
      },
      "execution_count": 42,
      "outputs": [
        {
          "output_type": "stream",
          "name": "stderr",
          "text": [
            "/usr/local/lib/python3.7/dist-packages/sklearn/linear_model/_logistic.py:818: ConvergenceWarning: lbfgs failed to converge (status=1):\n",
            "STOP: TOTAL NO. of ITERATIONS REACHED LIMIT.\n",
            "\n",
            "Increase the number of iterations (max_iter) or scale the data as shown in:\n",
            "    https://scikit-learn.org/stable/modules/preprocessing.html\n",
            "Please also refer to the documentation for alternative solver options:\n",
            "    https://scikit-learn.org/stable/modules/linear_model.html#logistic-regression\n",
            "  extra_warning_msg=_LOGISTIC_SOLVER_CONVERGENCE_MSG,\n"
          ]
        },
        {
          "output_type": "execute_result",
          "data": {
            "text/plain": [
              "LogisticRegression()"
            ]
          },
          "metadata": {},
          "execution_count": 42
        }
      ]
    },
    {
      "cell_type": "code",
      "source": [
        "X_test_feature = VGG_model.predict(x_test)\n",
        "X_test_features = X_test_feature.reshape(X_test_feature.shape[0], -1)\n",
        "#Now predict using the trained RF model. \n",
        "prediction = lr_model.predict(X_test_features)"
      ],
      "metadata": {
        "execution": {
          "iopub.status.busy": "2022-05-15T23:48:46.104416Z",
          "iopub.execute_input": "2022-05-15T23:48:46.104738Z",
          "iopub.status.idle": "2022-05-15T23:48:55.936444Z",
          "shell.execute_reply.started": "2022-05-15T23:48:46.104708Z",
          "shell.execute_reply": "2022-05-15T23:48:55.935170Z"
        },
        "trusted": true,
        "id": "HRHBCVr7f2BV"
      },
      "execution_count": 43,
      "outputs": []
    },
    {
      "cell_type": "code",
      "source": [
        "print('Test set evaluation:\\n_____________________________________')\n",
        "print_evaluate(y_test, prediction)"
      ],
      "metadata": {
        "execution": {
          "iopub.status.busy": "2022-05-15T23:48:56.256955Z",
          "iopub.execute_input": "2022-05-15T23:48:56.257290Z",
          "iopub.status.idle": "2022-05-15T23:48:56.266436Z",
          "shell.execute_reply.started": "2022-05-15T23:48:56.257259Z",
          "shell.execute_reply": "2022-05-15T23:48:56.265437Z"
        },
        "trusted": true,
        "colab": {
          "base_uri": "https://localhost:8080/"
        },
        "id": "wa2O6IDnf2BV",
        "outputId": "aae88f7f-972d-440c-e796-30559883134f"
      },
      "execution_count": 44,
      "outputs": [
        {
          "output_type": "stream",
          "name": "stdout",
          "text": [
            "Test set evaluation:\n",
            "_____________________________________\n",
            "MAE: 0.3764717425431711\n",
            "MSE: 0.6009615384615384\n",
            "RMSE: 0.7752170911825529\n",
            "R2 Square 0.5216335674965602\n",
            "Accuracy 0.728414442700157\n",
            "__________________________________\n"
          ]
        }
      ]
    },
    {
      "cell_type": "code",
      "source": [
        "results_df_2 = pd.DataFrame(data=[[\"LogisticRegression\", *evaluate(y_test, prediction)]], \n",
        "                          columns=['Model', 'MAE', 'MSE', 'RMSE', 'R2 Square','Accuracy_vgg19' ])\n",
        "results_df = results_df.append(results_df_2, ignore_index=True)\n",
        "results_df"
      ],
      "metadata": {
        "execution": {
          "iopub.status.busy": "2022-05-15T23:49:11.936315Z",
          "iopub.execute_input": "2022-05-15T23:49:11.937583Z",
          "iopub.status.idle": "2022-05-15T23:49:11.959922Z",
          "shell.execute_reply.started": "2022-05-15T23:49:11.937527Z",
          "shell.execute_reply": "2022-05-15T23:49:11.958928Z"
        },
        "trusted": true,
        "colab": {
          "base_uri": "https://localhost:8080/",
          "height": 206
        },
        "id": "Azw8HUF9f2BV",
        "outputId": "a53242bc-3d19-461b-f467-7fac1b3a39c2"
      },
      "execution_count": 45,
      "outputs": [
        {
          "output_type": "execute_result",
          "data": {
            "text/plain": [
              "                    Model       MAE       MSE      RMSE  R2 Square  \\\n",
              "0    KNeighborsClassifier  0.288952  0.432398  0.657570   0.655810   \n",
              "1                     SVC  0.301707  0.463206  0.680593   0.631287   \n",
              "2                 RBF SVC  0.368132  0.587520  0.766498   0.532333   \n",
              "3  DecisionTreeClassifier  0.191425  0.282869  0.531854   0.774836   \n",
              "4      LogisticRegression  0.376472  0.600962  0.775217   0.521634   \n",
              "\n",
              "   Accuracy_vgg19  \n",
              "0        0.781005  \n",
              "1        0.777374  \n",
              "2        0.735184  \n",
              "3        0.854003  \n",
              "4        0.728414  "
            ],
            "text/html": [
              "\n",
              "  <div id=\"df-e812dff3-1f96-4430-98c6-5857a0fe27ce\">\n",
              "    <div class=\"colab-df-container\">\n",
              "      <div>\n",
              "<style scoped>\n",
              "    .dataframe tbody tr th:only-of-type {\n",
              "        vertical-align: middle;\n",
              "    }\n",
              "\n",
              "    .dataframe tbody tr th {\n",
              "        vertical-align: top;\n",
              "    }\n",
              "\n",
              "    .dataframe thead th {\n",
              "        text-align: right;\n",
              "    }\n",
              "</style>\n",
              "<table border=\"1\" class=\"dataframe\">\n",
              "  <thead>\n",
              "    <tr style=\"text-align: right;\">\n",
              "      <th></th>\n",
              "      <th>Model</th>\n",
              "      <th>MAE</th>\n",
              "      <th>MSE</th>\n",
              "      <th>RMSE</th>\n",
              "      <th>R2 Square</th>\n",
              "      <th>Accuracy_vgg19</th>\n",
              "    </tr>\n",
              "  </thead>\n",
              "  <tbody>\n",
              "    <tr>\n",
              "      <th>0</th>\n",
              "      <td>KNeighborsClassifier</td>\n",
              "      <td>0.288952</td>\n",
              "      <td>0.432398</td>\n",
              "      <td>0.657570</td>\n",
              "      <td>0.655810</td>\n",
              "      <td>0.781005</td>\n",
              "    </tr>\n",
              "    <tr>\n",
              "      <th>1</th>\n",
              "      <td>SVC</td>\n",
              "      <td>0.301707</td>\n",
              "      <td>0.463206</td>\n",
              "      <td>0.680593</td>\n",
              "      <td>0.631287</td>\n",
              "      <td>0.777374</td>\n",
              "    </tr>\n",
              "    <tr>\n",
              "      <th>2</th>\n",
              "      <td>RBF SVC</td>\n",
              "      <td>0.368132</td>\n",
              "      <td>0.587520</td>\n",
              "      <td>0.766498</td>\n",
              "      <td>0.532333</td>\n",
              "      <td>0.735184</td>\n",
              "    </tr>\n",
              "    <tr>\n",
              "      <th>3</th>\n",
              "      <td>DecisionTreeClassifier</td>\n",
              "      <td>0.191425</td>\n",
              "      <td>0.282869</td>\n",
              "      <td>0.531854</td>\n",
              "      <td>0.774836</td>\n",
              "      <td>0.854003</td>\n",
              "    </tr>\n",
              "    <tr>\n",
              "      <th>4</th>\n",
              "      <td>LogisticRegression</td>\n",
              "      <td>0.376472</td>\n",
              "      <td>0.600962</td>\n",
              "      <td>0.775217</td>\n",
              "      <td>0.521634</td>\n",
              "      <td>0.728414</td>\n",
              "    </tr>\n",
              "  </tbody>\n",
              "</table>\n",
              "</div>\n",
              "      <button class=\"colab-df-convert\" onclick=\"convertToInteractive('df-e812dff3-1f96-4430-98c6-5857a0fe27ce')\"\n",
              "              title=\"Convert this dataframe to an interactive table.\"\n",
              "              style=\"display:none;\">\n",
              "        \n",
              "  <svg xmlns=\"http://www.w3.org/2000/svg\" height=\"24px\"viewBox=\"0 0 24 24\"\n",
              "       width=\"24px\">\n",
              "    <path d=\"M0 0h24v24H0V0z\" fill=\"none\"/>\n",
              "    <path d=\"M18.56 5.44l.94 2.06.94-2.06 2.06-.94-2.06-.94-.94-2.06-.94 2.06-2.06.94zm-11 1L8.5 8.5l.94-2.06 2.06-.94-2.06-.94L8.5 2.5l-.94 2.06-2.06.94zm10 10l.94 2.06.94-2.06 2.06-.94-2.06-.94-.94-2.06-.94 2.06-2.06.94z\"/><path d=\"M17.41 7.96l-1.37-1.37c-.4-.4-.92-.59-1.43-.59-.52 0-1.04.2-1.43.59L10.3 9.45l-7.72 7.72c-.78.78-.78 2.05 0 2.83L4 21.41c.39.39.9.59 1.41.59.51 0 1.02-.2 1.41-.59l7.78-7.78 2.81-2.81c.8-.78.8-2.07 0-2.86zM5.41 20L4 18.59l7.72-7.72 1.47 1.35L5.41 20z\"/>\n",
              "  </svg>\n",
              "      </button>\n",
              "      \n",
              "  <style>\n",
              "    .colab-df-container {\n",
              "      display:flex;\n",
              "      flex-wrap:wrap;\n",
              "      gap: 12px;\n",
              "    }\n",
              "\n",
              "    .colab-df-convert {\n",
              "      background-color: #E8F0FE;\n",
              "      border: none;\n",
              "      border-radius: 50%;\n",
              "      cursor: pointer;\n",
              "      display: none;\n",
              "      fill: #1967D2;\n",
              "      height: 32px;\n",
              "      padding: 0 0 0 0;\n",
              "      width: 32px;\n",
              "    }\n",
              "\n",
              "    .colab-df-convert:hover {\n",
              "      background-color: #E2EBFA;\n",
              "      box-shadow: 0px 1px 2px rgba(60, 64, 67, 0.3), 0px 1px 3px 1px rgba(60, 64, 67, 0.15);\n",
              "      fill: #174EA6;\n",
              "    }\n",
              "\n",
              "    [theme=dark] .colab-df-convert {\n",
              "      background-color: #3B4455;\n",
              "      fill: #D2E3FC;\n",
              "    }\n",
              "\n",
              "    [theme=dark] .colab-df-convert:hover {\n",
              "      background-color: #434B5C;\n",
              "      box-shadow: 0px 1px 3px 1px rgba(0, 0, 0, 0.15);\n",
              "      filter: drop-shadow(0px 1px 2px rgba(0, 0, 0, 0.3));\n",
              "      fill: #FFFFFF;\n",
              "    }\n",
              "  </style>\n",
              "\n",
              "      <script>\n",
              "        const buttonEl =\n",
              "          document.querySelector('#df-e812dff3-1f96-4430-98c6-5857a0fe27ce button.colab-df-convert');\n",
              "        buttonEl.style.display =\n",
              "          google.colab.kernel.accessAllowed ? 'block' : 'none';\n",
              "\n",
              "        async function convertToInteractive(key) {\n",
              "          const element = document.querySelector('#df-e812dff3-1f96-4430-98c6-5857a0fe27ce');\n",
              "          const dataTable =\n",
              "            await google.colab.kernel.invokeFunction('convertToInteractive',\n",
              "                                                     [key], {});\n",
              "          if (!dataTable) return;\n",
              "\n",
              "          const docLinkHtml = 'Like what you see? Visit the ' +\n",
              "            '<a target=\"_blank\" href=https://colab.research.google.com/notebooks/data_table.ipynb>data table notebook</a>'\n",
              "            + ' to learn more about interactive tables.';\n",
              "          element.innerHTML = '';\n",
              "          dataTable['output_type'] = 'display_data';\n",
              "          await google.colab.output.renderOutput(dataTable, element);\n",
              "          const docLink = document.createElement('div');\n",
              "          docLink.innerHTML = docLinkHtml;\n",
              "          element.appendChild(docLink);\n",
              "        }\n",
              "      </script>\n",
              "    </div>\n",
              "  </div>\n",
              "  "
            ]
          },
          "metadata": {},
          "execution_count": 45
        }
      ]
    },
    {
      "cell_type": "code",
      "source": [
        "print(classification_report(y_test,prediction))"
      ],
      "metadata": {
        "execution": {
          "iopub.status.busy": "2022-05-15T23:49:26.389801Z",
          "iopub.execute_input": "2022-05-15T23:49:26.390225Z",
          "iopub.status.idle": "2022-05-15T23:49:26.405577Z",
          "shell.execute_reply.started": "2022-05-15T23:49:26.390188Z",
          "shell.execute_reply": "2022-05-15T23:49:26.404136Z"
        },
        "trusted": true,
        "colab": {
          "base_uri": "https://localhost:8080/"
        },
        "id": "NVRJ5YAmf2BV",
        "outputId": "a8019d7a-ce74-44dd-e270-33444f4c7d87"
      },
      "execution_count": 46,
      "outputs": [
        {
          "output_type": "stream",
          "name": "stdout",
          "text": [
            "              precision    recall  f1-score   support\n",
            "\n",
            "           0       0.64      0.58      0.61      2550\n",
            "           1       0.68      0.69      0.69      2583\n",
            "           2       0.66      0.70      0.68      2481\n",
            "           3       0.92      0.94      0.93      2578\n",
            "\n",
            "    accuracy                           0.73     10192\n",
            "   macro avg       0.73      0.73      0.73     10192\n",
            "weighted avg       0.73      0.73      0.73     10192\n",
            "\n"
          ]
        }
      ]
    },
    {
      "cell_type": "code",
      "source": [
        "from sklearn.metrics import confusion_matrix\n",
        "from matplotlib.pyplot import figure\n",
        "figure(figsize=(5, 4), dpi=80)\n",
        "cm = confusion_matrix(y_test,prediction)\n",
        "\n",
        "sns.heatmap(cm, annot=True,fmt=\"d\",cmap=\"YlGnBu\")"
      ],
      "metadata": {
        "execution": {
          "iopub.status.busy": "2022-05-15T23:49:34.934410Z",
          "iopub.execute_input": "2022-05-15T23:49:34.934746Z",
          "iopub.status.idle": "2022-05-15T23:49:35.226542Z",
          "shell.execute_reply.started": "2022-05-15T23:49:34.934713Z",
          "shell.execute_reply": "2022-05-15T23:49:35.225613Z"
        },
        "trusted": true,
        "colab": {
          "base_uri": "https://localhost:8080/",
          "height": 309
        },
        "id": "qQq_qzfAf2BV",
        "outputId": "4dba040a-6c66-46a6-88a6-c35e3c96d8f6"
      },
      "execution_count": 47,
      "outputs": [
        {
          "output_type": "execute_result",
          "data": {
            "text/plain": [
              "<matplotlib.axes._subplots.AxesSubplot at 0x7f290f966450>"
            ]
          },
          "metadata": {},
          "execution_count": 47
        },
        {
          "output_type": "display_data",
          "data": {
            "text/plain": [
              "<Figure size 400x320 with 2 Axes>"
            ],
            "image/png": "[encoded data removed]"
          },
          "metadata": {
            "needs_background": "light"
          }
        }
      ]
    },
    {
      "cell_type": "markdown",
      "source": [
        "# SGDClassifier"
      ],
      "metadata": {
        "id": "uYTYzJn9f2BW"
      }
    },
    {
      "cell_type": "code",
      "source": [
        "from sklearn.linear_model import SGDClassifier\n",
        "\n",
        "SGD_model = SGDClassifier()\n",
        "SGD_model = SGD_model.fit(X_for_model, y_train)\n",
        "SGD_model"
      ],
      "metadata": {
        "execution": {
          "iopub.status.busy": "2022-05-15T23:53:33.928150Z",
          "iopub.execute_input": "2022-05-15T23:53:33.928508Z",
          "iopub.status.idle": "2022-05-15T23:53:34.457340Z",
          "shell.execute_reply.started": "2022-05-15T23:53:33.928472Z",
          "shell.execute_reply": "2022-05-15T23:53:34.456207Z"
        },
        "trusted": true,
        "colab": {
          "base_uri": "https://localhost:8080/"
        },
        "id": "6dRDZDASf2BW",
        "outputId": "1ecc886e-095c-4215-bbed-6ca2de3ca651"
      },
      "execution_count": 48,
      "outputs": [
        {
          "output_type": "execute_result",
          "data": {
            "text/plain": [
              "SGDClassifier()"
            ]
          },
          "metadata": {},
          "execution_count": 48
        }
      ]
    },
    {
      "cell_type": "code",
      "source": [
        "X_test_feature = VGG_model.predict(x_test)\n",
        "X_test_features = X_test_feature.reshape(X_test_feature.shape[0], -1)\n",
        "#Now predict using the trained RF model. \n",
        "prediction = SGD_model.predict(X_test_features)"
      ],
      "metadata": {
        "execution": {
          "iopub.status.busy": "2022-05-15T23:53:47.337581Z",
          "iopub.execute_input": "2022-05-15T23:53:47.337865Z",
          "iopub.status.idle": "2022-05-15T23:53:57.972765Z",
          "shell.execute_reply.started": "2022-05-15T23:53:47.337837Z",
          "shell.execute_reply": "2022-05-15T23:53:57.971362Z"
        },
        "trusted": true,
        "id": "Lu6Hhiglf2BW"
      },
      "execution_count": 49,
      "outputs": []
    },
    {
      "cell_type": "code",
      "source": [
        "print('Test set evaluation:\\n_____________________________________')\n",
        "print_evaluate(y_test, prediction)"
      ],
      "metadata": {
        "execution": {
          "iopub.status.busy": "2022-05-15T23:54:10.296137Z",
          "iopub.execute_input": "2022-05-15T23:54:10.297103Z",
          "iopub.status.idle": "2022-05-15T23:54:10.307837Z",
          "shell.execute_reply.started": "2022-05-15T23:54:10.297043Z",
          "shell.execute_reply": "2022-05-15T23:54:10.306887Z"
        },
        "trusted": true,
        "colab": {
          "base_uri": "https://localhost:8080/"
        },
        "id": "cgzkFBjRf2BW",
        "outputId": "dfa06ec8-36ff-410b-b334-aef49fa9f442"
      },
      "execution_count": 50,
      "outputs": [
        {
          "output_type": "stream",
          "name": "stdout",
          "text": [
            "Test set evaluation:\n",
            "_____________________________________\n",
            "MAE: 0.35066718995290425\n",
            "MSE: 0.5688775510204082\n",
            "RMSE: 0.7542397172122456\n",
            "R2 Square 0.5471724774440909\n",
            "Accuracy 0.7531397174254317\n",
            "__________________________________\n"
          ]
        }
      ]
    },
    {
      "cell_type": "code",
      "source": [
        "results_df_2 = pd.DataFrame(data=[[\"SGDClassifier\", *evaluate(y_test, prediction)]], \n",
        "                          columns=['Model', 'MAE', 'MSE', 'RMSE', 'R2 Square','Accuracy_vgg19' ])\n",
        "results_df = results_df.append(results_df_2, ignore_index=True)\n",
        "results_df"
      ],
      "metadata": {
        "execution": {
          "iopub.status.busy": "2022-05-15T23:54:30.843588Z",
          "iopub.execute_input": "2022-05-15T23:54:30.843951Z",
          "iopub.status.idle": "2022-05-15T23:54:30.866237Z",
          "shell.execute_reply.started": "2022-05-15T23:54:30.843914Z",
          "shell.execute_reply": "2022-05-15T23:54:30.865474Z"
        },
        "trusted": true,
        "colab": {
          "base_uri": "https://localhost:8080/",
          "height": 238
        },
        "id": "zRTMyQG2f2BW",
        "outputId": "f353b77a-894b-41d9-f02b-f75778edb77f"
      },
      "execution_count": 51,
      "outputs": [
        {
          "output_type": "execute_result",
          "data": {
            "text/plain": [
              "                    Model       MAE       MSE      RMSE  R2 Square  \\\n",
              "0    KNeighborsClassifier  0.288952  0.432398  0.657570   0.655810   \n",
              "1                     SVC  0.301707  0.463206  0.680593   0.631287   \n",
              "2                 RBF SVC  0.368132  0.587520  0.766498   0.532333   \n",
              "3  DecisionTreeClassifier  0.191425  0.282869  0.531854   0.774836   \n",
              "4      LogisticRegression  0.376472  0.600962  0.775217   0.521634   \n",
              "5           SGDClassifier  0.350667  0.568878  0.754240   0.547172   \n",
              "\n",
              "   Accuracy_vgg19  \n",
              "0        0.781005  \n",
              "1        0.777374  \n",
              "2        0.735184  \n",
              "3        0.854003  \n",
              "4        0.728414  \n",
              "5        0.753140  "
            ],
            "text/html": [
              "\n",
              "  <div id=\"df-85d93c14-d9b4-453c-9ff5-51026e79cb46\">\n",
              "    <div class=\"colab-df-container\">\n",
              "      <div>\n",
              "<style scoped>\n",
              "    .dataframe tbody tr th:only-of-type {\n",
              "        vertical-align: middle;\n",
              "    }\n",
              "\n",
              "    .dataframe tbody tr th {\n",
              "        vertical-align: top;\n",
              "    }\n",
              "\n",
              "    .dataframe thead th {\n",
              "        text-align: right;\n",
              "    }\n",
              "</style>\n",
              "<table border=\"1\" class=\"dataframe\">\n",
              "  <thead>\n",
              "    <tr style=\"text-align: right;\">\n",
              "      <th></th>\n",
              "      <th>Model</th>\n",
              "      <th>MAE</th>\n",
              "      <th>MSE</th>\n",
              "      <th>RMSE</th>\n",
              "      <th>R2 Square</th>\n",
              "      <th>Accuracy_vgg19</th>\n",
              "    </tr>\n",
              "  </thead>\n",
              "  <tbody>\n",
              "    <tr>\n",
              "      <th>0</th>\n",
              "      <td>KNeighborsClassifier</td>\n",
              "      <td>0.288952</td>\n",
              "      <td>0.432398</td>\n",
              "      <td>0.657570</td>\n",
              "      <td>0.655810</td>\n",
              "      <td>0.781005</td>\n",
              "    </tr>\n",
              "    <tr>\n",
              "      <th>1</th>\n",
              "      <td>SVC</td>\n",
              "      <td>0.301707</td>\n",
              "      <td>0.463206</td>\n",
              "      <td>0.680593</td>\n",
              "      <td>0.631287</td>\n",
              "      <td>0.777374</td>\n",
              "    </tr>\n",
              "    <tr>\n",
              "      <th>2</th>\n",
              "      <td>RBF SVC</td>\n",
              "      <td>0.368132</td>\n",
              "      <td>0.587520</td>\n",
              "      <td>0.766498</td>\n",
              "      <td>0.532333</td>\n",
              "      <td>0.735184</td>\n",
              "    </tr>\n",
              "    <tr>\n",
              "      <th>3</th>\n",
              "      <td>DecisionTreeClassifier</td>\n",
              "      <td>0.191425</td>\n",
              "      <td>0.282869</td>\n",
              "      <td>0.531854</td>\n",
              "      <td>0.774836</td>\n",
              "      <td>0.854003</td>\n",
              "    </tr>\n",
              "    <tr>\n",
              "      <th>4</th>\n",
              "      <td>LogisticRegression</td>\n",
              "      <td>0.376472</td>\n",
              "      <td>0.600962</td>\n",
              "      <td>0.775217</td>\n",
              "      <td>0.521634</td>\n",
              "      <td>0.728414</td>\n",
              "    </tr>\n",
              "    <tr>\n",
              "      <th>5</th>\n",
              "      <td>SGDClassifier</td>\n",
              "      <td>0.350667</td>\n",
              "      <td>0.568878</td>\n",
              "      <td>0.754240</td>\n",
              "      <td>0.547172</td>\n",
              "      <td>0.753140</td>\n",
              "    </tr>\n",
              "  </tbody>\n",
              "</table>\n",
              "</div>\n",
              "      <button class=\"colab-df-convert\" onclick=\"convertToInteractive('df-85d93c14-d9b4-453c-9ff5-51026e79cb46')\"\n",
              "              title=\"Convert this dataframe to an interactive table.\"\n",
              "              style=\"display:none;\">\n",
              "        \n",
              "  <svg xmlns=\"http://www.w3.org/2000/svg\" height=\"24px\"viewBox=\"0 0 24 24\"\n",
              "       width=\"24px\">\n",
              "    <path d=\"M0 0h24v24H0V0z\" fill=\"none\"/>\n",
              "    <path d=\"M18.56 5.44l.94 2.06.94-2.06 2.06-.94-2.06-.94-.94-2.06-.94 2.06-2.06.94zm-11 1L8.5 8.5l.94-2.06 2.06-.94-2.06-.94L8.5 2.5l-.94 2.06-2.06.94zm10 10l.94 2.06.94-2.06 2.06-.94-2.06-.94-.94-2.06-.94 2.06-2.06.94z\"/><path d=\"M17.41 7.96l-1.37-1.37c-.4-.4-.92-.59-1.43-.59-.52 0-1.04.2-1.43.59L10.3 9.45l-7.72 7.72c-.78.78-.78 2.05 0 2.83L4 21.41c.39.39.9.59 1.41.59.51 0 1.02-.2 1.41-.59l7.78-7.78 2.81-2.81c.8-.78.8-2.07 0-2.86zM5.41 20L4 18.59l7.72-7.72 1.47 1.35L5.41 20z\"/>\n",
              "  </svg>\n",
              "      </button>\n",
              "      \n",
              "  <style>\n",
              "    .colab-df-container {\n",
              "      display:flex;\n",
              "      flex-wrap:wrap;\n",
              "      gap: 12px;\n",
              "    }\n",
              "\n",
              "    .colab-df-convert {\n",
              "      background-color: #E8F0FE;\n",
              "      border: none;\n",
              "      border-radius: 50%;\n",
              "      cursor: pointer;\n",
              "      display: none;\n",
              "      fill: #1967D2;\n",
              "      height: 32px;\n",
              "      padding: 0 0 0 0;\n",
              "      width: 32px;\n",
              "    }\n",
              "\n",
              "    .colab-df-convert:hover {\n",
              "      background-color: #E2EBFA;\n",
              "      box-shadow: 0px 1px 2px rgba(60, 64, 67, 0.3), 0px 1px 3px 1px rgba(60, 64, 67, 0.15);\n",
              "      fill: #174EA6;\n",
              "    }\n",
              "\n",
              "    [theme=dark] .colab-df-convert {\n",
              "      background-color: #3B4455;\n",
              "      fill: #D2E3FC;\n",
              "    }\n",
              "\n",
              "    [theme=dark] .colab-df-convert:hover {\n",
              "      background-color: #434B5C;\n",
              "      box-shadow: 0px 1px 3px 1px rgba(0, 0, 0, 0.15);\n",
              "      filter: drop-shadow(0px 1px 2px rgba(0, 0, 0, 0.3));\n",
              "      fill: #FFFFFF;\n",
              "    }\n",
              "  </style>\n",
              "\n",
              "      <script>\n",
              "        const buttonEl =\n",
              "          document.querySelector('#df-85d93c14-d9b4-453c-9ff5-51026e79cb46 button.colab-df-convert');\n",
              "        buttonEl.style.display =\n",
              "          google.colab.kernel.accessAllowed ? 'block' : 'none';\n",
              "\n",
              "        async function convertToInteractive(key) {\n",
              "          const element = document.querySelector('#df-85d93c14-d9b4-453c-9ff5-51026e79cb46');\n",
              "          const dataTable =\n",
              "            await google.colab.kernel.invokeFunction('convertToInteractive',\n",
              "                                                     [key], {});\n",
              "          if (!dataTable) return;\n",
              "\n",
              "          const docLinkHtml = 'Like what you see? Visit the ' +\n",
              "            '<a target=\"_blank\" href=https://colab.research.google.com/notebooks/data_table.ipynb>data table notebook</a>'\n",
              "            + ' to learn more about interactive tables.';\n",
              "          element.innerHTML = '';\n",
              "          dataTable['output_type'] = 'display_data';\n",
              "          await google.colab.output.renderOutput(dataTable, element);\n",
              "          const docLink = document.createElement('div');\n",
              "          docLink.innerHTML = docLinkHtml;\n",
              "          element.appendChild(docLink);\n",
              "        }\n",
              "      </script>\n",
              "    </div>\n",
              "  </div>\n",
              "  "
            ]
          },
          "metadata": {},
          "execution_count": 51
        }
      ]
    },
    {
      "cell_type": "code",
      "source": [
        "print(classification_report(y_test,prediction))"
      ],
      "metadata": {
        "execution": {
          "iopub.status.busy": "2022-05-15T23:54:38.489342Z",
          "iopub.execute_input": "2022-05-15T23:54:38.490220Z",
          "iopub.status.idle": "2022-05-15T23:54:38.506176Z",
          "shell.execute_reply.started": "2022-05-15T23:54:38.490180Z",
          "shell.execute_reply": "2022-05-15T23:54:38.504725Z"
        },
        "trusted": true,
        "colab": {
          "base_uri": "https://localhost:8080/"
        },
        "id": "IoQXQQU9f2BW",
        "outputId": "720218a5-0d63-475b-b8c0-f10d316c921f"
      },
      "execution_count": 52,
      "outputs": [
        {
          "output_type": "stream",
          "name": "stdout",
          "text": [
            "              precision    recall  f1-score   support\n",
            "\n",
            "           0       0.68      0.63      0.65      2550\n",
            "           1       0.79      0.62      0.69      2583\n",
            "           2       0.63      0.80      0.71      2481\n",
            "           3       0.93      0.97      0.95      2578\n",
            "\n",
            "    accuracy                           0.75     10192\n",
            "   macro avg       0.76      0.75      0.75     10192\n",
            "weighted avg       0.76      0.75      0.75     10192\n",
            "\n"
          ]
        }
      ]
    },
    {
      "cell_type": "code",
      "source": [
        "from sklearn.metrics import confusion_matrix\n",
        "from matplotlib.pyplot import figure\n",
        "figure(figsize=(5, 4), dpi=80)\n",
        "cm = confusion_matrix(y_test,prediction)\n",
        "\n",
        "sns.heatmap(cm, annot=True,fmt=\"d\",cmap=\"YlGnBu\")"
      ],
      "metadata": {
        "execution": {
          "iopub.status.busy": "2022-05-15T23:54:44.057142Z",
          "iopub.execute_input": "2022-05-15T23:54:44.057974Z",
          "iopub.status.idle": "2022-05-15T23:54:44.323926Z",
          "shell.execute_reply.started": "2022-05-15T23:54:44.057927Z",
          "shell.execute_reply": "2022-05-15T23:54:44.322952Z"
        },
        "trusted": true,
        "colab": {
          "base_uri": "https://localhost:8080/",
          "height": 309
        },
        "id": "PFCscHelf2BX",
        "outputId": "90231656-9075-47a6-f995-8cf89d17cb88"
      },
      "execution_count": 53,
      "outputs": [
        {
          "output_type": "execute_result",
          "data": {
            "text/plain": [
              "<matplotlib.axes._subplots.AxesSubplot at 0x7f2904b911d0>"
            ]
          },
          "metadata": {},
          "execution_count": 53
        },
        {
          "output_type": "display_data",
          "data": {
            "text/plain": [
              "<Figure size 400x320 with 2 Axes>"
            ],
            "image/png": "[encoded data removed]"
          },
          "metadata": {
            "needs_background": "light"
          }
        }
      ]
    },
    {
      "cell_type": "markdown",
      "source": [
        "# GradientBoostingClassifier"
      ],
      "metadata": {
        "id": "q_HPbkJIf2BX"
      }
    },
    {
      "cell_type": "code",
      "source": [
        "from sklearn.ensemble import GradientBoostingClassifier\n",
        "\n",
        "GBC_model = GradientBoostingClassifier()\n",
        "GBC_model = GBC_model.fit(X_for_model, y_train)\n",
        "GBC_model"
      ],
      "metadata": {
        "execution": {
          "iopub.status.busy": "2022-05-15T23:55:47.683781Z",
          "iopub.execute_input": "2022-05-15T23:55:47.684186Z",
          "iopub.status.idle": "2022-05-15T23:56:20.728211Z",
          "shell.execute_reply.started": "2022-05-15T23:55:47.684142Z",
          "shell.execute_reply": "2022-05-15T23:56:20.727306Z"
        },
        "trusted": true,
        "colab": {
          "base_uri": "https://localhost:8080/"
        },
        "id": "3PeBLY2gf2BX",
        "outputId": "740c12a9-4dae-4c0a-9850-1f4e02561364"
      },
      "execution_count": 54,
      "outputs": [
        {
          "output_type": "execute_result",
          "data": {
            "text/plain": [
              "GradientBoostingClassifier()"
            ]
          },
          "metadata": {},
          "execution_count": 54
        }
      ]
    },
    {
      "cell_type": "code",
      "source": [
        "X_test_feature = VGG_model.predict(x_test)\n",
        "X_test_features = X_test_feature.reshape(X_test_feature.shape[0], -1)\n",
        "#Now predict using the trained RF model. \n",
        "prediction = GBC_model.predict(X_test_features)"
      ],
      "metadata": {
        "execution": {
          "iopub.status.busy": "2022-05-15T23:56:20.729862Z",
          "iopub.execute_input": "2022-05-15T23:56:20.730097Z",
          "iopub.status.idle": "2022-05-15T23:56:30.464857Z",
          "shell.execute_reply.started": "2022-05-15T23:56:20.730069Z",
          "shell.execute_reply": "2022-05-15T23:56:30.463876Z"
        },
        "trusted": true,
        "id": "yaEfsM-Qf2BX"
      },
      "execution_count": 55,
      "outputs": []
    },
    {
      "cell_type": "code",
      "source": [
        "print('Test set evaluation:\\n_____________________________________')\n",
        "print_evaluate(y_test, prediction)"
      ],
      "metadata": {
        "execution": {
          "iopub.status.busy": "2022-05-15T23:56:30.466361Z",
          "iopub.execute_input": "2022-05-15T23:56:30.466856Z",
          "iopub.status.idle": "2022-05-15T23:56:30.477967Z",
          "shell.execute_reply.started": "2022-05-15T23:56:30.466814Z",
          "shell.execute_reply": "2022-05-15T23:56:30.477063Z"
        },
        "trusted": true,
        "colab": {
          "base_uri": "https://localhost:8080/"
        },
        "id": "YMUush7pf2BX",
        "outputId": "3596f549-0194-4f98-a5e6-30740fc92989"
      },
      "execution_count": 56,
      "outputs": [
        {
          "output_type": "stream",
          "name": "stdout",
          "text": [
            "Test set evaluation:\n",
            "_____________________________________\n",
            "MAE: 0.31475667189952905\n",
            "MSE: 0.49038461538461536\n",
            "RMSE: 0.7002746713858894\n",
            "R2 Square 0.6096529910771932\n",
            "Accuracy 0.7699175824175825\n",
            "__________________________________\n"
          ]
        }
      ]
    },
    {
      "cell_type": "code",
      "source": [
        "results_df_2 = pd.DataFrame(data=[[\"GradientBoostingClassifier\", *evaluate(y_test, prediction)]], \n",
        "                          columns=['Model', 'MAE', 'MSE', 'RMSE', 'R2 Square','Accuracy_vgg19' ])\n",
        "results_df = results_df.append(results_df_2, ignore_index=True)\n",
        "results_df"
      ],
      "metadata": {
        "execution": {
          "iopub.status.busy": "2022-05-15T23:56:30.479727Z",
          "iopub.execute_input": "2022-05-15T23:56:30.480312Z",
          "iopub.status.idle": "2022-05-15T23:56:30.501153Z",
          "shell.execute_reply.started": "2022-05-15T23:56:30.480272Z",
          "shell.execute_reply": "2022-05-15T23:56:30.500458Z"
        },
        "trusted": true,
        "colab": {
          "base_uri": "https://localhost:8080/",
          "height": 269
        },
        "id": "XJfEc21Xf2BX",
        "outputId": "7f19d09a-ba17-4455-a144-af800cebf662"
      },
      "execution_count": 57,
      "outputs": [
        {
          "output_type": "execute_result",
          "data": {
            "text/plain": [
              "                        Model       MAE       MSE      RMSE  R2 Square  \\\n",
              "0        KNeighborsClassifier  0.288952  0.432398  0.657570   0.655810   \n",
              "1                         SVC  0.301707  0.463206  0.680593   0.631287   \n",
              "2                     RBF SVC  0.368132  0.587520  0.766498   0.532333   \n",
              "3      DecisionTreeClassifier  0.191425  0.282869  0.531854   0.774836   \n",
              "4          LogisticRegression  0.376472  0.600962  0.775217   0.521634   \n",
              "5               SGDClassifier  0.350667  0.568878  0.754240   0.547172   \n",
              "6  GradientBoostingClassifier  0.314757  0.490385  0.700275   0.609653   \n",
              "\n",
              "   Accuracy_vgg19  \n",
              "0        0.781005  \n",
              "1        0.777374  \n",
              "2        0.735184  \n",
              "3        0.854003  \n",
              "4        0.728414  \n",
              "5        0.753140  \n",
              "6        0.769918  "
            ],
            "text/html": [
              "\n",
              "  <div id=\"df-e9adc3c8-171c-4a81-9ad8-82dbd57eae4e\">\n",
              "    <div class=\"colab-df-container\">\n",
              "      <div>\n",
              "<style scoped>\n",
              "    .dataframe tbody tr th:only-of-type {\n",
              "        vertical-align: middle;\n",
              "    }\n",
              "\n",
              "    .dataframe tbody tr th {\n",
              "        vertical-align: top;\n",
              "    }\n",
              "\n",
              "    .dataframe thead th {\n",
              "        text-align: right;\n",
              "    }\n",
              "</style>\n",
              "<table border=\"1\" class=\"dataframe\">\n",
              "  <thead>\n",
              "    <tr style=\"text-align: right;\">\n",
              "      <th></th>\n",
              "      <th>Model</th>\n",
              "      <th>MAE</th>\n",
              "      <th>MSE</th>\n",
              "      <th>RMSE</th>\n",
              "      <th>R2 Square</th>\n",
              "      <th>Accuracy_vgg19</th>\n",
              "    </tr>\n",
              "  </thead>\n",
              "  <tbody>\n",
              "    <tr>\n",
              "      <th>0</th>\n",
              "      <td>KNeighborsClassifier</td>\n",
              "      <td>0.288952</td>\n",
              "      <td>0.432398</td>\n",
              "      <td>0.657570</td>\n",
              "      <td>0.655810</td>\n",
              "      <td>0.781005</td>\n",
              "    </tr>\n",
              "    <tr>\n",
              "      <th>1</th>\n",
              "      <td>SVC</td>\n",
              "      <td>0.301707</td>\n",
              "      <td>0.463206</td>\n",
              "      <td>0.680593</td>\n",
              "      <td>0.631287</td>\n",
              "      <td>0.777374</td>\n",
              "    </tr>\n",
              "    <tr>\n",
              "      <th>2</th>\n",
              "      <td>RBF SVC</td>\n",
              "      <td>0.368132</td>\n",
              "      <td>0.587520</td>\n",
              "      <td>0.766498</td>\n",
              "      <td>0.532333</td>\n",
              "      <td>0.735184</td>\n",
              "    </tr>\n",
              "    <tr>\n",
              "      <th>3</th>\n",
              "      <td>DecisionTreeClassifier</td>\n",
              "      <td>0.191425</td>\n",
              "      <td>0.282869</td>\n",
              "      <td>0.531854</td>\n",
              "      <td>0.774836</td>\n",
              "      <td>0.854003</td>\n",
              "    </tr>\n",
              "    <tr>\n",
              "      <th>4</th>\n",
              "      <td>LogisticRegression</td>\n",
              "      <td>0.376472</td>\n",
              "      <td>0.600962</td>\n",
              "      <td>0.775217</td>\n",
              "      <td>0.521634</td>\n",
              "      <td>0.728414</td>\n",
              "    </tr>\n",
              "    <tr>\n",
              "      <th>5</th>\n",
              "      <td>SGDClassifier</td>\n",
              "      <td>0.350667</td>\n",
              "      <td>0.568878</td>\n",
              "      <td>0.754240</td>\n",
              "      <td>0.547172</td>\n",
              "      <td>0.753140</td>\n",
              "    </tr>\n",
              "    <tr>\n",
              "      <th>6</th>\n",
              "      <td>GradientBoostingClassifier</td>\n",
              "      <td>0.314757</td>\n",
              "      <td>0.490385</td>\n",
              "      <td>0.700275</td>\n",
              "      <td>0.609653</td>\n",
              "      <td>0.769918</td>\n",
              "    </tr>\n",
              "  </tbody>\n",
              "</table>\n",
              "</div>\n",
              "      <button class=\"colab-df-convert\" onclick=\"convertToInteractive('df-e9adc3c8-171c-4a81-9ad8-82dbd57eae4e')\"\n",
              "              title=\"Convert this dataframe to an interactive table.\"\n",
              "              style=\"display:none;\">\n",
              "        \n",
              "  <svg xmlns=\"http://www.w3.org/2000/svg\" height=\"24px\"viewBox=\"0 0 24 24\"\n",
              "       width=\"24px\">\n",
              "    <path d=\"M0 0h24v24H0V0z\" fill=\"none\"/>\n",
              "    <path d=\"M18.56 5.44l.94 2.06.94-2.06 2.06-.94-2.06-.94-.94-2.06-.94 2.06-2.06.94zm-11 1L8.5 8.5l.94-2.06 2.06-.94-2.06-.94L8.5 2.5l-.94 2.06-2.06.94zm10 10l.94 2.06.94-2.06 2.06-.94-2.06-.94-.94-2.06-.94 2.06-2.06.94z\"/><path d=\"M17.41 7.96l-1.37-1.37c-.4-.4-.92-.59-1.43-.59-.52 0-1.04.2-1.43.59L10.3 9.45l-7.72 7.72c-.78.78-.78 2.05 0 2.83L4 21.41c.39.39.9.59 1.41.59.51 0 1.02-.2 1.41-.59l7.78-7.78 2.81-2.81c.8-.78.8-2.07 0-2.86zM5.41 20L4 18.59l7.72-7.72 1.47 1.35L5.41 20z\"/>\n",
              "  </svg>\n",
              "      </button>\n",
              "      \n",
              "  <style>\n",
              "    .colab-df-container {\n",
              "      display:flex;\n",
              "      flex-wrap:wrap;\n",
              "      gap: 12px;\n",
              "    }\n",
              "\n",
              "    .colab-df-convert {\n",
              "      background-color: #E8F0FE;\n",
              "      border: none;\n",
              "      border-radius: 50%;\n",
              "      cursor: pointer;\n",
              "      display: none;\n",
              "      fill: #1967D2;\n",
              "      height: 32px;\n",
              "      padding: 0 0 0 0;\n",
              "      width: 32px;\n",
              "    }\n",
              "\n",
              "    .colab-df-convert:hover {\n",
              "      background-color: #E2EBFA;\n",
              "      box-shadow: 0px 1px 2px rgba(60, 64, 67, 0.3), 0px 1px 3px 1px rgba(60, 64, 67, 0.15);\n",
              "      fill: #174EA6;\n",
              "    }\n",
              "\n",
              "    [theme=dark] .colab-df-convert {\n",
              "      background-color: #3B4455;\n",
              "      fill: #D2E3FC;\n",
              "    }\n",
              "\n",
              "    [theme=dark] .colab-df-convert:hover {\n",
              "      background-color: #434B5C;\n",
              "      box-shadow: 0px 1px 3px 1px rgba(0, 0, 0, 0.15);\n",
              "      filter: drop-shadow(0px 1px 2px rgba(0, 0, 0, 0.3));\n",
              "      fill: #FFFFFF;\n",
              "    }\n",
              "  </style>\n",
              "\n",
              "      <script>\n",
              "        const buttonEl =\n",
              "          document.querySelector('#df-e9adc3c8-171c-4a81-9ad8-82dbd57eae4e button.colab-df-convert');\n",
              "        buttonEl.style.display =\n",
              "          google.colab.kernel.accessAllowed ? 'block' : 'none';\n",
              "\n",
              "        async function convertToInteractive(key) {\n",
              "          const element = document.querySelector('#df-e9adc3c8-171c-4a81-9ad8-82dbd57eae4e');\n",
              "          const dataTable =\n",
              "            await google.colab.kernel.invokeFunction('convertToInteractive',\n",
              "                                                     [key], {});\n",
              "          if (!dataTable) return;\n",
              "\n",
              "          const docLinkHtml = 'Like what you see? Visit the ' +\n",
              "            '<a target=\"_blank\" href=https://colab.research.google.com/notebooks/data_table.ipynb>data table notebook</a>'\n",
              "            + ' to learn more about interactive tables.';\n",
              "          element.innerHTML = '';\n",
              "          dataTable['output_type'] = 'display_data';\n",
              "          await google.colab.output.renderOutput(dataTable, element);\n",
              "          const docLink = document.createElement('div');\n",
              "          docLink.innerHTML = docLinkHtml;\n",
              "          element.appendChild(docLink);\n",
              "        }\n",
              "      </script>\n",
              "    </div>\n",
              "  </div>\n",
              "  "
            ]
          },
          "metadata": {},
          "execution_count": 57
        }
      ]
    },
    {
      "cell_type": "code",
      "source": [
        "print(classification_report(y_test,prediction))"
      ],
      "metadata": {
        "execution": {
          "iopub.status.busy": "2022-05-15T23:56:36.843688Z",
          "iopub.execute_input": "2022-05-15T23:56:36.844507Z",
          "iopub.status.idle": "2022-05-15T23:56:36.861702Z",
          "shell.execute_reply.started": "2022-05-15T23:56:36.844468Z",
          "shell.execute_reply": "2022-05-15T23:56:36.860170Z"
        },
        "trusted": true,
        "colab": {
          "base_uri": "https://localhost:8080/"
        },
        "id": "RWJni8T1f2BY",
        "outputId": "08eeee5c-18cd-4b4c-b6d5-c37e4226b37a"
      },
      "execution_count": 58,
      "outputs": [
        {
          "output_type": "stream",
          "name": "stdout",
          "text": [
            "              precision    recall  f1-score   support\n",
            "\n",
            "           0       0.70      0.65      0.67      2550\n",
            "           1       0.73      0.72      0.72      2583\n",
            "           2       0.70      0.73      0.71      2481\n",
            "           3       0.95      0.98      0.96      2578\n",
            "\n",
            "    accuracy                           0.77     10192\n",
            "   macro avg       0.77      0.77      0.77     10192\n",
            "weighted avg       0.77      0.77      0.77     10192\n",
            "\n"
          ]
        }
      ]
    },
    {
      "cell_type": "code",
      "source": [
        "from sklearn.metrics import confusion_matrix\n",
        "from matplotlib.pyplot import figure\n",
        "figure(figsize=(5, 4), dpi=80)\n",
        "cm = confusion_matrix(y_test,prediction)\n",
        "\n",
        "sns.heatmap(cm, annot=True,fmt=\"d\",cmap=\"YlGnBu\")"
      ],
      "metadata": {
        "execution": {
          "iopub.status.busy": "2022-05-15T23:56:49.856228Z",
          "iopub.execute_input": "2022-05-15T23:56:49.857285Z",
          "iopub.status.idle": "2022-05-15T23:56:50.144955Z",
          "shell.execute_reply.started": "2022-05-15T23:56:49.857234Z",
          "shell.execute_reply": "2022-05-15T23:56:50.143743Z"
        },
        "trusted": true,
        "colab": {
          "base_uri": "https://localhost:8080/",
          "height": 310
        },
        "id": "X1_vz-_bf2BY",
        "outputId": "0aaba153-aaad-474e-d719-b351ff53e6b1"
      },
      "execution_count": 59,
      "outputs": [
        {
          "output_type": "execute_result",
          "data": {
            "text/plain": [
              "<matplotlib.axes._subplots.AxesSubplot at 0x7f2904a99690>"
            ]
          },
          "metadata": {},
          "execution_count": 59
        },
        {
          "output_type": "display_data",
          "data": {
            "text/plain": [
              "<Figure size 400x320 with 2 Axes>"
            ],
            "image/png": "[encoded data removed]"
          },
          "metadata": {
            "needs_background": "light"
          }
        }
      ]
    },
    {
      "cell_type": "markdown",
      "source": [
        "# LGBMClassifier"
      ],
      "metadata": {
        "id": "qBaK8vAFf2BY"
      }
    },
    {
      "cell_type": "code",
      "source": [
        "from lightgbm import LGBMClassifier\n",
        "\n",
        "LGBM_model = LGBMClassifier()\n",
        "LGBM_model = LGBM_model.fit(X_for_model, y_train)\n",
        "LGBM_model"
      ],
      "metadata": {
        "execution": {
          "iopub.status.busy": "2022-05-15T23:57:47.057632Z",
          "iopub.execute_input": "2022-05-15T23:57:47.058076Z",
          "iopub.status.idle": "2022-05-15T23:57:59.011069Z",
          "shell.execute_reply.started": "2022-05-15T23:57:47.058040Z",
          "shell.execute_reply": "2022-05-15T23:57:59.009652Z"
        },
        "trusted": true,
        "colab": {
          "base_uri": "https://localhost:8080/"
        },
        "id": "-wA-SoO3f2BY",
        "outputId": "e37052e4-d6f1-4f8f-adcf-013b9ccda693"
      },
      "execution_count": 60,
      "outputs": [
        {
          "output_type": "execute_result",
          "data": {
            "text/plain": [
              "LGBMClassifier()"
            ]
          },
          "metadata": {},
          "execution_count": 60
        }
      ]
    },
    {
      "cell_type": "code",
      "source": [
        "X_test_feature = VGG_model.predict(x_test)\n",
        "X_test_features = X_test_feature.reshape(X_test_feature.shape[0], -1)\n",
        "#Now predict using the trained RF model. \n",
        "prediction = LGBM_model.predict(X_test_features)"
      ],
      "metadata": {
        "execution": {
          "iopub.status.busy": "2022-05-15T23:58:10.084546Z",
          "iopub.execute_input": "2022-05-15T23:58:10.085569Z",
          "iopub.status.idle": "2022-05-15T23:58:20.632144Z",
          "shell.execute_reply.started": "2022-05-15T23:58:10.085516Z",
          "shell.execute_reply": "2022-05-15T23:58:20.631041Z"
        },
        "trusted": true,
        "id": "nj5AJ4eOf2BY"
      },
      "execution_count": 61,
      "outputs": []
    },
    {
      "cell_type": "code",
      "source": [
        "print('Test set evaluation:\\n_____________________________________')\n",
        "print_evaluate(y_test, prediction)"
      ],
      "metadata": {
        "execution": {
          "iopub.status.busy": "2022-05-15T23:58:20.633987Z",
          "iopub.execute_input": "2022-05-15T23:58:20.634283Z",
          "iopub.status.idle": "2022-05-15T23:58:20.644992Z",
          "shell.execute_reply.started": "2022-05-15T23:58:20.634249Z",
          "shell.execute_reply": "2022-05-15T23:58:20.644021Z"
        },
        "trusted": true,
        "colab": {
          "base_uri": "https://localhost:8080/"
        },
        "id": "-4bAXDEFf2BY",
        "outputId": "df5eed0e-8cee-49a8-db09-562ef22c1195"
      },
      "execution_count": 62,
      "outputs": [
        {
          "output_type": "stream",
          "name": "stdout",
          "text": [
            "Test set evaluation:\n",
            "_____________________________________\n",
            "MAE: 0.20839874411302983\n",
            "MSE: 0.309458398744113\n",
            "RMSE: 0.5562898513761626\n",
            "R2 Square 0.753670575001494\n",
            "Accuracy 0.8417386185243328\n",
            "__________________________________\n"
          ]
        }
      ]
    },
    {
      "cell_type": "code",
      "source": [
        "results_df_2 = pd.DataFrame(data=[[\"LGBMClassifier\", *evaluate(y_test, prediction)]], \n",
        "                          columns=['Model', 'MAE', 'MSE', 'RMSE', 'R2 Square','Accuracy_vgg19' ])\n",
        "results_df = results_df.append(results_df_2, ignore_index=True)\n",
        "results_df"
      ],
      "metadata": {
        "execution": {
          "iopub.status.busy": "2022-05-15T23:58:33.933032Z",
          "iopub.execute_input": "2022-05-15T23:58:33.933912Z",
          "iopub.status.idle": "2022-05-15T23:58:33.955870Z",
          "shell.execute_reply.started": "2022-05-15T23:58:33.933866Z",
          "shell.execute_reply": "2022-05-15T23:58:33.954797Z"
        },
        "trusted": true,
        "colab": {
          "base_uri": "https://localhost:8080/",
          "height": 301
        },
        "id": "prWdkBqYf2BY",
        "outputId": "8beb62ee-f1fc-490f-db09-832dbc72737f"
      },
      "execution_count": 63,
      "outputs": [
        {
          "output_type": "execute_result",
          "data": {
            "text/plain": [
              "                        Model       MAE       MSE      RMSE  R2 Square  \\\n",
              "0        KNeighborsClassifier  0.288952  0.432398  0.657570   0.655810   \n",
              "1                         SVC  0.301707  0.463206  0.680593   0.631287   \n",
              "2                     RBF SVC  0.368132  0.587520  0.766498   0.532333   \n",
              "3      DecisionTreeClassifier  0.191425  0.282869  0.531854   0.774836   \n",
              "4          LogisticRegression  0.376472  0.600962  0.775217   0.521634   \n",
              "5               SGDClassifier  0.350667  0.568878  0.754240   0.547172   \n",
              "6  GradientBoostingClassifier  0.314757  0.490385  0.700275   0.609653   \n",
              "7              LGBMClassifier  0.208399  0.309458  0.556290   0.753671   \n",
              "\n",
              "   Accuracy_vgg19  \n",
              "0        0.781005  \n",
              "1        0.777374  \n",
              "2        0.735184  \n",
              "3        0.854003  \n",
              "4        0.728414  \n",
              "5        0.753140  \n",
              "6        0.769918  \n",
              "7        0.841739  "
            ],
            "text/html": [
              "\n",
              "  <div id=\"df-abc22652-a331-40dd-ad9a-4eac3dc91ab0\">\n",
              "    <div class=\"colab-df-container\">\n",
              "      <div>\n",
              "<style scoped>\n",
              "    .dataframe tbody tr th:only-of-type {\n",
              "        vertical-align: middle;\n",
              "    }\n",
              "\n",
              "    .dataframe tbody tr th {\n",
              "        vertical-align: top;\n",
              "    }\n",
              "\n",
              "    .dataframe thead th {\n",
              "        text-align: right;\n",
              "    }\n",
              "</style>\n",
              "<table border=\"1\" class=\"dataframe\">\n",
              "  <thead>\n",
              "    <tr style=\"text-align: right;\">\n",
              "      <th></th>\n",
              "      <th>Model</th>\n",
              "      <th>MAE</th>\n",
              "      <th>MSE</th>\n",
              "      <th>RMSE</th>\n",
              "      <th>R2 Square</th>\n",
              "      <th>Accuracy_vgg19</th>\n",
              "    </tr>\n",
              "  </thead>\n",
              "  <tbody>\n",
              "    <tr>\n",
              "      <th>0</th>\n",
              "      <td>KNeighborsClassifier</td>\n",
              "      <td>0.288952</td>\n",
              "      <td>0.432398</td>\n",
              "      <td>0.657570</td>\n",
              "      <td>0.655810</td>\n",
              "      <td>0.781005</td>\n",
              "    </tr>\n",
              "    <tr>\n",
              "      <th>1</th>\n",
              "      <td>SVC</td>\n",
              "      <td>0.301707</td>\n",
              "      <td>0.463206</td>\n",
              "      <td>0.680593</td>\n",
              "      <td>0.631287</td>\n",
              "      <td>0.777374</td>\n",
              "    </tr>\n",
              "    <tr>\n",
              "      <th>2</th>\n",
              "      <td>RBF SVC</td>\n",
              "      <td>0.368132</td>\n",
              "      <td>0.587520</td>\n",
              "      <td>0.766498</td>\n",
              "      <td>0.532333</td>\n",
              "      <td>0.735184</td>\n",
              "    </tr>\n",
              "    <tr>\n",
              "      <th>3</th>\n",
              "      <td>DecisionTreeClassifier</td>\n",
              "      <td>0.191425</td>\n",
              "      <td>0.282869</td>\n",
              "      <td>0.531854</td>\n",
              "      <td>0.774836</td>\n",
              "      <td>0.854003</td>\n",
              "    </tr>\n",
              "    <tr>\n",
              "      <th>4</th>\n",
              "      <td>LogisticRegression</td>\n",
              "      <td>0.376472</td>\n",
              "      <td>0.600962</td>\n",
              "      <td>0.775217</td>\n",
              "      <td>0.521634</td>\n",
              "      <td>0.728414</td>\n",
              "    </tr>\n",
              "    <tr>\n",
              "      <th>5</th>\n",
              "      <td>SGDClassifier</td>\n",
              "      <td>0.350667</td>\n",
              "      <td>0.568878</td>\n",
              "      <td>0.754240</td>\n",
              "      <td>0.547172</td>\n",
              "      <td>0.753140</td>\n",
              "    </tr>\n",
              "    <tr>\n",
              "      <th>6</th>\n",
              "      <td>GradientBoostingClassifier</td>\n",
              "      <td>0.314757</td>\n",
              "      <td>0.490385</td>\n",
              "      <td>0.700275</td>\n",
              "      <td>0.609653</td>\n",
              "      <td>0.769918</td>\n",
              "    </tr>\n",
              "    <tr>\n",
              "      <th>7</th>\n",
              "      <td>LGBMClassifier</td>\n",
              "      <td>0.208399</td>\n",
              "      <td>0.309458</td>\n",
              "      <td>0.556290</td>\n",
              "      <td>0.753671</td>\n",
              "      <td>0.841739</td>\n",
              "    </tr>\n",
              "  </tbody>\n",
              "</table>\n",
              "</div>\n",
              "      <button class=\"colab-df-convert\" onclick=\"convertToInteractive('df-abc22652-a331-40dd-ad9a-4eac3dc91ab0')\"\n",
              "              title=\"Convert this dataframe to an interactive table.\"\n",
              "              style=\"display:none;\">\n",
              "        \n",
              "  <svg xmlns=\"http://www.w3.org/2000/svg\" height=\"24px\"viewBox=\"0 0 24 24\"\n",
              "       width=\"24px\">\n",
              "    <path d=\"M0 0h24v24H0V0z\" fill=\"none\"/>\n",
              "    <path d=\"M18.56 5.44l.94 2.06.94-2.06 2.06-.94-2.06-.94-.94-2.06-.94 2.06-2.06.94zm-11 1L8.5 8.5l.94-2.06 2.06-.94-2.06-.94L8.5 2.5l-.94 2.06-2.06.94zm10 10l.94 2.06.94-2.06 2.06-.94-2.06-.94-.94-2.06-.94 2.06-2.06.94z\"/><path d=\"M17.41 7.96l-1.37-1.37c-.4-.4-.92-.59-1.43-.59-.52 0-1.04.2-1.43.59L10.3 9.45l-7.72 7.72c-.78.78-.78 2.05 0 2.83L4 21.41c.39.39.9.59 1.41.59.51 0 1.02-.2 1.41-.59l7.78-7.78 2.81-2.81c.8-.78.8-2.07 0-2.86zM5.41 20L4 18.59l7.72-7.72 1.47 1.35L5.41 20z\"/>\n",
              "  </svg>\n",
              "      </button>\n",
              "      \n",
              "  <style>\n",
              "    .colab-df-container {\n",
              "      display:flex;\n",
              "      flex-wrap:wrap;\n",
              "      gap: 12px;\n",
              "    }\n",
              "\n",
              "    .colab-df-convert {\n",
              "      background-color: #E8F0FE;\n",
              "      border: none;\n",
              "      border-radius: 50%;\n",
              "      cursor: pointer;\n",
              "      display: none;\n",
              "      fill: #1967D2;\n",
              "      height: 32px;\n",
              "      padding: 0 0 0 0;\n",
              "      width: 32px;\n",
              "    }\n",
              "\n",
              "    .colab-df-convert:hover {\n",
              "      background-color: #E2EBFA;\n",
              "      box-shadow: 0px 1px 2px rgba(60, 64, 67, 0.3), 0px 1px 3px 1px rgba(60, 64, 67, 0.15);\n",
              "      fill: #174EA6;\n",
              "    }\n",
              "\n",
              "    [theme=dark] .colab-df-convert {\n",
              "      background-color: #3B4455;\n",
              "      fill: #D2E3FC;\n",
              "    }\n",
              "\n",
              "    [theme=dark] .colab-df-convert:hover {\n",
              "      background-color: #434B5C;\n",
              "      box-shadow: 0px 1px 3px 1px rgba(0, 0, 0, 0.15);\n",
              "      filter: drop-shadow(0px 1px 2px rgba(0, 0, 0, 0.3));\n",
              "      fill: #FFFFFF;\n",
              "    }\n",
              "  </style>\n",
              "\n",
              "      <script>\n",
              "        const buttonEl =\n",
              "          document.querySelector('#df-abc22652-a331-40dd-ad9a-4eac3dc91ab0 button.colab-df-convert');\n",
              "        buttonEl.style.display =\n",
              "          google.colab.kernel.accessAllowed ? 'block' : 'none';\n",
              "\n",
              "        async function convertToInteractive(key) {\n",
              "          const element = document.querySelector('#df-abc22652-a331-40dd-ad9a-4eac3dc91ab0');\n",
              "          const dataTable =\n",
              "            await google.colab.kernel.invokeFunction('convertToInteractive',\n",
              "                                                     [key], {});\n",
              "          if (!dataTable) return;\n",
              "\n",
              "          const docLinkHtml = 'Like what you see? Visit the ' +\n",
              "            '<a target=\"_blank\" href=https://colab.research.google.com/notebooks/data_table.ipynb>data table notebook</a>'\n",
              "            + ' to learn more about interactive tables.';\n",
              "          element.innerHTML = '';\n",
              "          dataTable['output_type'] = 'display_data';\n",
              "          await google.colab.output.renderOutput(dataTable, element);\n",
              "          const docLink = document.createElement('div');\n",
              "          docLink.innerHTML = docLinkHtml;\n",
              "          element.appendChild(docLink);\n",
              "        }\n",
              "      </script>\n",
              "    </div>\n",
              "  </div>\n",
              "  "
            ]
          },
          "metadata": {},
          "execution_count": 63
        }
      ]
    },
    {
      "cell_type": "code",
      "source": [
        "print(classification_report(y_test,prediction))"
      ],
      "metadata": {
        "execution": {
          "iopub.status.busy": "2022-05-16T00:05:01.797807Z",
          "iopub.execute_input": "2022-05-16T00:05:01.798525Z",
          "iopub.status.idle": "2022-05-16T00:05:01.811468Z",
          "shell.execute_reply.started": "2022-05-16T00:05:01.798477Z",
          "shell.execute_reply": "2022-05-16T00:05:01.810541Z"
        },
        "trusted": true,
        "colab": {
          "base_uri": "https://localhost:8080/"
        },
        "id": "uxl_MhNAf2BY",
        "outputId": "46f2eb33-31f8-4c17-bd19-7b1cd19cffe1"
      },
      "execution_count": 64,
      "outputs": [
        {
          "output_type": "stream",
          "name": "stdout",
          "text": [
            "              precision    recall  f1-score   support\n",
            "\n",
            "           0       0.80      0.79      0.80      2550\n",
            "           1       0.80      0.79      0.80      2583\n",
            "           2       0.79      0.78      0.78      2481\n",
            "           3       0.97      1.00      0.98      2578\n",
            "\n",
            "    accuracy                           0.84     10192\n",
            "   macro avg       0.84      0.84      0.84     10192\n",
            "weighted avg       0.84      0.84      0.84     10192\n",
            "\n"
          ]
        }
      ]
    },
    {
      "cell_type": "code",
      "source": [
        "from sklearn.metrics import confusion_matrix\n",
        "from matplotlib.pyplot import figure\n",
        "figure(figsize=(5, 4), dpi=80)\n",
        "cm = confusion_matrix(y_test,prediction)\n",
        "\n",
        "sns.heatmap(cm, annot=True,fmt=\"d\",cmap=\"YlGnBu\")"
      ],
      "metadata": {
        "id": "xUitggW3f2BZ",
        "outputId": "45ce8a28-b7eb-49bb-ab36-899b565de083",
        "colab": {
          "base_uri": "https://localhost:8080/",
          "height": 309
        }
      },
      "execution_count": 65,
      "outputs": [
        {
          "output_type": "execute_result",
          "data": {
            "text/plain": [
              "<matplotlib.axes._subplots.AxesSubplot at 0x7f2904d22d90>"
            ]
          },
          "metadata": {},
          "execution_count": 65
        },
        {
          "output_type": "display_data",
          "data": {
            "text/plain": [
              "<Figure size 400x320 with 2 Axes>"
            ],
            "image/png": "[encoded data removed]"
          },
          "metadata": {
            "needs_background": "light"
          }
        }
      ]
    },
    {
      "cell_type": "markdown",
      "source": [
        "# XGBClassifier"
      ],
      "metadata": {
        "id": "mYc8ZWgof2BZ"
      }
    },
    {
      "cell_type": "code",
      "source": [
        "from xgboost.sklearn import XGBClassifier\n",
        "\n",
        "XGBC_model = XGBClassifier()\n",
        "XGBC_model = XGBC_model.fit(X_for_model, y_train)\n",
        "XGBC_model"
      ],
      "metadata": {
        "execution": {
          "iopub.status.busy": "2022-05-16T00:01:26.052695Z",
          "iopub.execute_input": "2022-05-16T00:01:26.053810Z",
          "iopub.status.idle": "2022-05-16T00:01:49.451584Z",
          "shell.execute_reply.started": "2022-05-16T00:01:26.053760Z",
          "shell.execute_reply": "2022-05-16T00:01:49.450227Z"
        },
        "trusted": true,
        "colab": {
          "base_uri": "https://localhost:8080/"
        },
        "id": "PVm5CPlbf2BZ",
        "outputId": "5b32d3ee-0d6f-4749-ec17-d1371f904fa9"
      },
      "execution_count": 66,
      "outputs": [
        {
          "output_type": "execute_result",
          "data": {
            "text/plain": [
              "XGBClassifier(objective='multi:softprob')"
            ]
          },
          "metadata": {},
          "execution_count": 66
        }
      ]
    },
    {
      "cell_type": "code",
      "source": [
        "X_test_feature = VGG_model.predict(x_test)\n",
        "X_test_features = X_test_feature.reshape(X_test_feature.shape[0], -1)\n",
        "#Now predict using the trained RF model. \n",
        "prediction = XGBC_model.predict(X_test_features)"
      ],
      "metadata": {
        "execution": {
          "iopub.status.busy": "2022-05-16T00:02:16.220962Z",
          "iopub.execute_input": "2022-05-16T00:02:16.221288Z",
          "iopub.status.idle": "2022-05-16T00:02:26.300411Z",
          "shell.execute_reply.started": "2022-05-16T00:02:16.221254Z",
          "shell.execute_reply": "2022-05-16T00:02:26.299255Z"
        },
        "trusted": true,
        "id": "QMPueXNGf2BZ"
      },
      "execution_count": 67,
      "outputs": []
    },
    {
      "cell_type": "code",
      "source": [
        "print('Test set evaluation:\\n_____________________________________')\n",
        "print_evaluate(y_test, prediction)"
      ],
      "metadata": {
        "execution": {
          "iopub.status.busy": "2022-05-16T00:04:26.957239Z",
          "iopub.execute_input": "2022-05-16T00:04:26.957624Z",
          "iopub.status.idle": "2022-05-16T00:04:26.970422Z",
          "shell.execute_reply.started": "2022-05-16T00:04:26.957589Z",
          "shell.execute_reply": "2022-05-16T00:04:26.968954Z"
        },
        "trusted": true,
        "colab": {
          "base_uri": "https://localhost:8080/"
        },
        "id": "WMWO_Ok7f2BZ",
        "outputId": "e7676c69-0d4a-4bbc-c497-2da843cb8b7e"
      },
      "execution_count": 68,
      "outputs": [
        {
          "output_type": "stream",
          "name": "stdout",
          "text": [
            "Test set evaluation:\n",
            "_____________________________________\n",
            "MAE: 0.34664442700156983\n",
            "MSE: 0.5505298273155416\n",
            "RMSE: 0.7419769722272663\n",
            "R2 Square 0.5617772975058285\n",
            "Accuracy 0.7500981161695447\n",
            "__________________________________\n"
          ]
        }
      ]
    },
    {
      "cell_type": "code",
      "source": [
        "results_df_2 = pd.DataFrame(data=[[\"XGBClassifier\", *evaluate(y_test, prediction)]], \n",
        "                          columns=['Model', 'MAE', 'MSE', 'RMSE', 'R2 Square','Accuracy_vgg19' ])\n",
        "results_df = results_df.append(results_df_2, ignore_index=True)\n",
        "results_df"
      ],
      "metadata": {
        "execution": {
          "iopub.status.busy": "2022-05-16T00:04:44.674959Z",
          "iopub.execute_input": "2022-05-16T00:04:44.675634Z",
          "iopub.status.idle": "2022-05-16T00:04:44.698194Z",
          "shell.execute_reply.started": "2022-05-16T00:04:44.675594Z",
          "shell.execute_reply": "2022-05-16T00:04:44.697400Z"
        },
        "trusted": true,
        "colab": {
          "base_uri": "https://localhost:8080/",
          "height": 332
        },
        "id": "MvaPype8f2BZ",
        "outputId": "357f0bd7-096a-466b-bbd1-bb23e765a52e"
      },
      "execution_count": 69,
      "outputs": [
        {
          "output_type": "execute_result",
          "data": {
            "text/plain": [
              "                        Model       MAE       MSE      RMSE  R2 Square  \\\n",
              "0        KNeighborsClassifier  0.288952  0.432398  0.657570   0.655810   \n",
              "1                         SVC  0.301707  0.463206  0.680593   0.631287   \n",
              "2                     RBF SVC  0.368132  0.587520  0.766498   0.532333   \n",
              "3      DecisionTreeClassifier  0.191425  0.282869  0.531854   0.774836   \n",
              "4          LogisticRegression  0.376472  0.600962  0.775217   0.521634   \n",
              "5               SGDClassifier  0.350667  0.568878  0.754240   0.547172   \n",
              "6  GradientBoostingClassifier  0.314757  0.490385  0.700275   0.609653   \n",
              "7              LGBMClassifier  0.208399  0.309458  0.556290   0.753671   \n",
              "8               XGBClassifier  0.346644  0.550530  0.741977   0.561777   \n",
              "\n",
              "   Accuracy_vgg19  \n",
              "0        0.781005  \n",
              "1        0.777374  \n",
              "2        0.735184  \n",
              "3        0.854003  \n",
              "4        0.728414  \n",
              "5        0.753140  \n",
              "6        0.769918  \n",
              "7        0.841739  \n",
              "8        0.750098  "
            ],
            "text/html": [
              "\n",
              "  <div id=\"df-0d28f03d-00d3-4377-8f2c-eefe998c86b1\">\n",
              "    <div class=\"colab-df-container\">\n",
              "      <div>\n",
              "<style scoped>\n",
              "    .dataframe tbody tr th:only-of-type {\n",
              "        vertical-align: middle;\n",
              "    }\n",
              "\n",
              "    .dataframe tbody tr th {\n",
              "        vertical-align: top;\n",
              "    }\n",
              "\n",
              "    .dataframe thead th {\n",
              "        text-align: right;\n",
              "    }\n",
              "</style>\n",
              "<table border=\"1\" class=\"dataframe\">\n",
              "  <thead>\n",
              "    <tr style=\"text-align: right;\">\n",
              "      <th></th>\n",
              "      <th>Model</th>\n",
              "      <th>MAE</th>\n",
              "      <th>MSE</th>\n",
              "      <th>RMSE</th>\n",
              "      <th>R2 Square</th>\n",
              "      <th>Accuracy_vgg19</th>\n",
              "    </tr>\n",
              "  </thead>\n",
              "  <tbody>\n",
              "    <tr>\n",
              "      <th>0</th>\n",
              "      <td>KNeighborsClassifier</td>\n",
              "      <td>0.288952</td>\n",
              "      <td>0.432398</td>\n",
              "      <td>0.657570</td>\n",
              "      <td>0.655810</td>\n",
              "      <td>0.781005</td>\n",
              "    </tr>\n",
              "    <tr>\n",
              "      <th>1</th>\n",
              "      <td>SVC</td>\n",
              "      <td>0.301707</td>\n",
              "      <td>0.463206</td>\n",
              "      <td>0.680593</td>\n",
              "      <td>0.631287</td>\n",
              "      <td>0.777374</td>\n",
              "    </tr>\n",
              "    <tr>\n",
              "      <th>2</th>\n",
              "      <td>RBF SVC</td>\n",
              "      <td>0.368132</td>\n",
              "      <td>0.587520</td>\n",
              "      <td>0.766498</td>\n",
              "      <td>0.532333</td>\n",
              "      <td>0.735184</td>\n",
              "    </tr>\n",
              "    <tr>\n",
              "      <th>3</th>\n",
              "      <td>DecisionTreeClassifier</td>\n",
              "      <td>0.191425</td>\n",
              "      <td>0.282869</td>\n",
              "      <td>0.531854</td>\n",
              "      <td>0.774836</td>\n",
              "      <td>0.854003</td>\n",
              "    </tr>\n",
              "    <tr>\n",
              "      <th>4</th>\n",
              "      <td>LogisticRegression</td>\n",
              "      <td>0.376472</td>\n",
              "      <td>0.600962</td>\n",
              "      <td>0.775217</td>\n",
              "      <td>0.521634</td>\n",
              "      <td>0.728414</td>\n",
              "    </tr>\n",
              "    <tr>\n",
              "      <th>5</th>\n",
              "      <td>SGDClassifier</td>\n",
              "      <td>0.350667</td>\n",
              "      <td>0.568878</td>\n",
              "      <td>0.754240</td>\n",
              "      <td>0.547172</td>\n",
              "      <td>0.753140</td>\n",
              "    </tr>\n",
              "    <tr>\n",
              "      <th>6</th>\n",
              "      <td>GradientBoostingClassifier</td>\n",
              "      <td>0.314757</td>\n",
              "      <td>0.490385</td>\n",
              "      <td>0.700275</td>\n",
              "      <td>0.609653</td>\n",
              "      <td>0.769918</td>\n",
              "    </tr>\n",
              "    <tr>\n",
              "      <th>7</th>\n",
              "      <td>LGBMClassifier</td>\n",
              "      <td>0.208399</td>\n",
              "      <td>0.309458</td>\n",
              "      <td>0.556290</td>\n",
              "      <td>0.753671</td>\n",
              "      <td>0.841739</td>\n",
              "    </tr>\n",
              "    <tr>\n",
              "      <th>8</th>\n",
              "      <td>XGBClassifier</td>\n",
              "      <td>0.346644</td>\n",
              "      <td>0.550530</td>\n",
              "      <td>0.741977</td>\n",
              "      <td>0.561777</td>\n",
              "      <td>0.750098</td>\n",
              "    </tr>\n",
              "  </tbody>\n",
              "</table>\n",
              "</div>\n",
              "      <button class=\"colab-df-convert\" onclick=\"convertToInteractive('df-0d28f03d-00d3-4377-8f2c-eefe998c86b1')\"\n",
              "              title=\"Convert this dataframe to an interactive table.\"\n",
              "              style=\"display:none;\">\n",
              "        \n",
              "  <svg xmlns=\"http://www.w3.org/2000/svg\" height=\"24px\"viewBox=\"0 0 24 24\"\n",
              "       width=\"24px\">\n",
              "    <path d=\"M0 0h24v24H0V0z\" fill=\"none\"/>\n",
              "    <path d=\"M18.56 5.44l.94 2.06.94-2.06 2.06-.94-2.06-.94-.94-2.06-.94 2.06-2.06.94zm-11 1L8.5 8.5l.94-2.06 2.06-.94-2.06-.94L8.5 2.5l-.94 2.06-2.06.94zm10 10l.94 2.06.94-2.06 2.06-.94-2.06-.94-.94-2.06-.94 2.06-2.06.94z\"/><path d=\"M17.41 7.96l-1.37-1.37c-.4-.4-.92-.59-1.43-.59-.52 0-1.04.2-1.43.59L10.3 9.45l-7.72 7.72c-.78.78-.78 2.05 0 2.83L4 21.41c.39.39.9.59 1.41.59.51 0 1.02-.2 1.41-.59l7.78-7.78 2.81-2.81c.8-.78.8-2.07 0-2.86zM5.41 20L4 18.59l7.72-7.72 1.47 1.35L5.41 20z\"/>\n",
              "  </svg>\n",
              "      </button>\n",
              "      \n",
              "  <style>\n",
              "    .colab-df-container {\n",
              "      display:flex;\n",
              "      flex-wrap:wrap;\n",
              "      gap: 12px;\n",
              "    }\n",
              "\n",
              "    .colab-df-convert {\n",
              "      background-color: #E8F0FE;\n",
              "      border: none;\n",
              "      border-radius: 50%;\n",
              "      cursor: pointer;\n",
              "      display: none;\n",
              "      fill: #1967D2;\n",
              "      height: 32px;\n",
              "      padding: 0 0 0 0;\n",
              "      width: 32px;\n",
              "    }\n",
              "\n",
              "    .colab-df-convert:hover {\n",
              "      background-color: #E2EBFA;\n",
              "      box-shadow: 0px 1px 2px rgba(60, 64, 67, 0.3), 0px 1px 3px 1px rgba(60, 64, 67, 0.15);\n",
              "      fill: #174EA6;\n",
              "    }\n",
              "\n",
              "    [theme=dark] .colab-df-convert {\n",
              "      background-color: #3B4455;\n",
              "      fill: #D2E3FC;\n",
              "    }\n",
              "\n",
              "    [theme=dark] .colab-df-convert:hover {\n",
              "      background-color: #434B5C;\n",
              "      box-shadow: 0px 1px 3px 1px rgba(0, 0, 0, 0.15);\n",
              "      filter: drop-shadow(0px 1px 2px rgba(0, 0, 0, 0.3));\n",
              "      fill: #FFFFFF;\n",
              "    }\n",
              "  </style>\n",
              "\n",
              "      <script>\n",
              "        const buttonEl =\n",
              "          document.querySelector('#df-0d28f03d-00d3-4377-8f2c-eefe998c86b1 button.colab-df-convert');\n",
              "        buttonEl.style.display =\n",
              "          google.colab.kernel.accessAllowed ? 'block' : 'none';\n",
              "\n",
              "        async function convertToInteractive(key) {\n",
              "          const element = document.querySelector('#df-0d28f03d-00d3-4377-8f2c-eefe998c86b1');\n",
              "          const dataTable =\n",
              "            await google.colab.kernel.invokeFunction('convertToInteractive',\n",
              "                                                     [key], {});\n",
              "          if (!dataTable) return;\n",
              "\n",
              "          const docLinkHtml = 'Like what you see? Visit the ' +\n",
              "            '<a target=\"_blank\" href=https://colab.research.google.com/notebooks/data_table.ipynb>data table notebook</a>'\n",
              "            + ' to learn more about interactive tables.';\n",
              "          element.innerHTML = '';\n",
              "          dataTable['output_type'] = 'display_data';\n",
              "          await google.colab.output.renderOutput(dataTable, element);\n",
              "          const docLink = document.createElement('div');\n",
              "          docLink.innerHTML = docLinkHtml;\n",
              "          element.appendChild(docLink);\n",
              "        }\n",
              "      </script>\n",
              "    </div>\n",
              "  </div>\n",
              "  "
            ]
          },
          "metadata": {},
          "execution_count": 69
        }
      ]
    },
    {
      "cell_type": "code",
      "source": [
        "print(classification_report(y_test,prediction))"
      ],
      "metadata": {
        "execution": {
          "iopub.status.busy": "2022-05-16T00:05:09.553750Z",
          "iopub.execute_input": "2022-05-16T00:05:09.554244Z",
          "iopub.status.idle": "2022-05-16T00:05:09.565675Z",
          "shell.execute_reply.started": "2022-05-16T00:05:09.554209Z",
          "shell.execute_reply": "2022-05-16T00:05:09.564792Z"
        },
        "trusted": true,
        "colab": {
          "base_uri": "https://localhost:8080/"
        },
        "id": "eqmMd-qGf2Ba",
        "outputId": "0bba232b-290a-4993-c0e9-b43a196408d0"
      },
      "execution_count": 70,
      "outputs": [
        {
          "output_type": "stream",
          "name": "stdout",
          "text": [
            "              precision    recall  f1-score   support\n",
            "\n",
            "           0       0.68      0.61      0.65      2550\n",
            "           1       0.71      0.70      0.70      2583\n",
            "           2       0.66      0.72      0.69      2481\n",
            "           3       0.94      0.97      0.95      2578\n",
            "\n",
            "    accuracy                           0.75     10192\n",
            "   macro avg       0.75      0.75      0.75     10192\n",
            "weighted avg       0.75      0.75      0.75     10192\n",
            "\n"
          ]
        }
      ]
    },
    {
      "cell_type": "code",
      "source": [
        "from sklearn.metrics import confusion_matrix\n",
        "from matplotlib.pyplot import figure\n",
        "figure(figsize=(5, 4), dpi=80)\n",
        "cm = confusion_matrix(y_test,prediction)\n",
        "\n",
        "sns.heatmap(cm, annot=True,fmt=\"d\",cmap=\"YlGnBu\")"
      ],
      "metadata": {
        "execution": {
          "iopub.status.busy": "2022-05-16T00:05:18.390988Z",
          "iopub.execute_input": "2022-05-16T00:05:18.391365Z",
          "iopub.status.idle": "2022-05-16T00:05:18.702917Z",
          "shell.execute_reply.started": "2022-05-16T00:05:18.391324Z",
          "shell.execute_reply": "2022-05-16T00:05:18.701476Z"
        },
        "trusted": true,
        "colab": {
          "base_uri": "https://localhost:8080/",
          "height": 309
        },
        "id": "Tqb5HNeaf2Ba",
        "outputId": "e02b383c-1959-49e8-9431-e65a12a94c2c"
      },
      "execution_count": 71,
      "outputs": [
        {
          "output_type": "execute_result",
          "data": {
            "text/plain": [
              "<matplotlib.axes._subplots.AxesSubplot at 0x7f2905424dd0>"
            ]
          },
          "metadata": {},
          "execution_count": 71
        },
        {
          "output_type": "display_data",
          "data": {
            "text/plain": [
              "<Figure size 400x320 with 2 Axes>"
            ],
            "image/png": "[encoded data removed]"
          },
          "metadata": {
            "needs_background": "light"
          }
        }
      ]
    },
    {
      "cell_type": "markdown",
      "source": [
        "# RandomForestClassifier"
      ],
      "metadata": {
        "id": "LAcka-gsf2Ba"
      }
    },
    {
      "cell_type": "code",
      "source": [
        "from sklearn.ensemble import RandomForestClassifier\n",
        "\n",
        "rf_model = RandomForestClassifier()\n",
        "rf_model = rf_model.fit(X_for_model, y_train)\n",
        "rf_model"
      ],
      "metadata": {
        "execution": {
          "iopub.status.busy": "2022-05-16T00:08:35.776625Z",
          "iopub.execute_input": "2022-05-16T00:08:35.777097Z",
          "iopub.status.idle": "2022-05-16T00:08:36.866387Z",
          "shell.execute_reply.started": "2022-05-16T00:08:35.777056Z",
          "shell.execute_reply": "2022-05-16T00:08:36.865341Z"
        },
        "trusted": true,
        "colab": {
          "base_uri": "https://localhost:8080/"
        },
        "id": "V_wdDusnf2Ba",
        "outputId": "9b52f2ff-c0f0-4471-d671-93bfe85080f4"
      },
      "execution_count": 72,
      "outputs": [
        {
          "output_type": "execute_result",
          "data": {
            "text/plain": [
              "RandomForestClassifier()"
            ]
          },
          "metadata": {},
          "execution_count": 72
        }
      ]
    },
    {
      "cell_type": "code",
      "source": [
        "X_test_feature = VGG_model.predict(x_test)\n",
        "X_test_features = X_test_feature.reshape(X_test_feature.shape[0], -1)\n",
        "#Now predict using the trained RF model. \n",
        "prediction = rf_model.predict(X_test_features)"
      ],
      "metadata": {
        "execution": {
          "iopub.status.busy": "2022-05-16T00:08:50.815994Z",
          "iopub.execute_input": "2022-05-16T00:08:50.816342Z",
          "iopub.status.idle": "2022-05-16T00:09:01.001331Z",
          "shell.execute_reply.started": "2022-05-16T00:08:50.816303Z",
          "shell.execute_reply": "2022-05-16T00:09:01.000235Z"
        },
        "trusted": true,
        "id": "suvfEC20f2Ba"
      },
      "execution_count": 73,
      "outputs": []
    },
    {
      "cell_type": "code",
      "source": [
        "print('Test set evaluation:\\n_____________________________________')\n",
        "print_evaluate(y_test, prediction)"
      ],
      "metadata": {
        "execution": {
          "iopub.status.busy": "2022-05-16T00:09:01.003866Z",
          "iopub.execute_input": "2022-05-16T00:09:01.004254Z",
          "iopub.status.idle": "2022-05-16T00:09:01.015202Z",
          "shell.execute_reply.started": "2022-05-16T00:09:01.004206Z",
          "shell.execute_reply": "2022-05-16T00:09:01.014181Z"
        },
        "trusted": true,
        "colab": {
          "base_uri": "https://localhost:8080/"
        },
        "id": "NPUiqafff2Ba",
        "outputId": "e11661f5-bd38-45b2-ae6a-c958c1776bcb"
      },
      "execution_count": 74,
      "outputs": [
        {
          "output_type": "stream",
          "name": "stdout",
          "text": [
            "Test set evaluation:\n",
            "_____________________________________\n",
            "MAE: 0.11145996860282574\n",
            "MSE: 0.1534536891679749\n",
            "RMSE: 0.39173165453914355\n",
            "R2 Square 0.877850595847285\n",
            "Accuracy 0.9093406593406593\n",
            "__________________________________\n"
          ]
        }
      ]
    },
    {
      "cell_type": "code",
      "source": [
        "results_df_2 = pd.DataFrame(data=[[\"RandomForestClassifier\", *evaluate(y_test, prediction)]], \n",
        "                          columns=['Model', 'MAE', 'MSE', 'RMSE', 'R2 Square','Accuracy_vgg19' ])\n",
        "results_df = results_df.append(results_df_2, ignore_index=True)\n",
        "results_df"
      ],
      "metadata": {
        "execution": {
          "iopub.status.busy": "2022-05-16T00:09:35.405506Z",
          "iopub.execute_input": "2022-05-16T00:09:35.405836Z",
          "iopub.status.idle": "2022-05-16T00:09:35.432067Z",
          "shell.execute_reply.started": "2022-05-16T00:09:35.405806Z",
          "shell.execute_reply": "2022-05-16T00:09:35.430863Z"
        },
        "trusted": true,
        "colab": {
          "base_uri": "https://localhost:8080/",
          "height": 363
        },
        "id": "3M-lhAFwf2Ba",
        "outputId": "f9947422-bac2-4169-955f-a70966bbb859"
      },
      "execution_count": 75,
      "outputs": [
        {
          "output_type": "execute_result",
          "data": {
            "text/plain": [
              "                        Model       MAE       MSE      RMSE  R2 Square  \\\n",
              "0        KNeighborsClassifier  0.288952  0.432398  0.657570   0.655810   \n",
              "1                         SVC  0.301707  0.463206  0.680593   0.631287   \n",
              "2                     RBF SVC  0.368132  0.587520  0.766498   0.532333   \n",
              "3      DecisionTreeClassifier  0.191425  0.282869  0.531854   0.774836   \n",
              "4          LogisticRegression  0.376472  0.600962  0.775217   0.521634   \n",
              "5               SGDClassifier  0.350667  0.568878  0.754240   0.547172   \n",
              "6  GradientBoostingClassifier  0.314757  0.490385  0.700275   0.609653   \n",
              "7              LGBMClassifier  0.208399  0.309458  0.556290   0.753671   \n",
              "8               XGBClassifier  0.346644  0.550530  0.741977   0.561777   \n",
              "9      RandomForestClassifier  0.111460  0.153454  0.391732   0.877851   \n",
              "\n",
              "   Accuracy_vgg19  \n",
              "0        0.781005  \n",
              "1        0.777374  \n",
              "2        0.735184  \n",
              "3        0.854003  \n",
              "4        0.728414  \n",
              "5        0.753140  \n",
              "6        0.769918  \n",
              "7        0.841739  \n",
              "8        0.750098  \n",
              "9        0.909341  "
            ],
            "text/html": [
              "\n",
              "  <div id=\"df-f425518e-82dd-49cd-838f-b1479dd6e10a\">\n",
              "    <div class=\"colab-df-container\">\n",
              "      <div>\n",
              "<style scoped>\n",
              "    .dataframe tbody tr th:only-of-type {\n",
              "        vertical-align: middle;\n",
              "    }\n",
              "\n",
              "    .dataframe tbody tr th {\n",
              "        vertical-align: top;\n",
              "    }\n",
              "\n",
              "    .dataframe thead th {\n",
              "        text-align: right;\n",
              "    }\n",
              "</style>\n",
              "<table border=\"1\" class=\"dataframe\">\n",
              "  <thead>\n",
              "    <tr style=\"text-align: right;\">\n",
              "      <th></th>\n",
              "      <th>Model</th>\n",
              "      <th>MAE</th>\n",
              "      <th>MSE</th>\n",
              "      <th>RMSE</th>\n",
              "      <th>R2 Square</th>\n",
              "      <th>Accuracy_vgg19</th>\n",
              "    </tr>\n",
              "  </thead>\n",
              "  <tbody>\n",
              "    <tr>\n",
              "      <th>0</th>\n",
              "      <td>KNeighborsClassifier</td>\n",
              "      <td>0.288952</td>\n",
              "      <td>0.432398</td>\n",
              "      <td>0.657570</td>\n",
              "      <td>0.655810</td>\n",
              "      <td>0.781005</td>\n",
              "    </tr>\n",
              "    <tr>\n",
              "      <th>1</th>\n",
              "      <td>SVC</td>\n",
              "      <td>0.301707</td>\n",
              "      <td>0.463206</td>\n",
              "      <td>0.680593</td>\n",
              "      <td>0.631287</td>\n",
              "      <td>0.777374</td>\n",
              "    </tr>\n",
              "    <tr>\n",
              "      <th>2</th>\n",
              "      <td>RBF SVC</td>\n",
              "      <td>0.368132</td>\n",
              "      <td>0.587520</td>\n",
              "      <td>0.766498</td>\n",
              "      <td>0.532333</td>\n",
              "      <td>0.735184</td>\n",
              "    </tr>\n",
              "    <tr>\n",
              "      <th>3</th>\n",
              "      <td>DecisionTreeClassifier</td>\n",
              "      <td>0.191425</td>\n",
              "      <td>0.282869</td>\n",
              "      <td>0.531854</td>\n",
              "      <td>0.774836</td>\n",
              "      <td>0.854003</td>\n",
              "    </tr>\n",
              "    <tr>\n",
              "      <th>4</th>\n",
              "      <td>LogisticRegression</td>\n",
              "      <td>0.376472</td>\n",
              "      <td>0.600962</td>\n",
              "      <td>0.775217</td>\n",
              "      <td>0.521634</td>\n",
              "      <td>0.728414</td>\n",
              "    </tr>\n",
              "    <tr>\n",
              "      <th>5</th>\n",
              "      <td>SGDClassifier</td>\n",
              "      <td>0.350667</td>\n",
              "      <td>0.568878</td>\n",
              "      <td>0.754240</td>\n",
              "      <td>0.547172</td>\n",
              "      <td>0.753140</td>\n",
              "    </tr>\n",
              "    <tr>\n",
              "      <th>6</th>\n",
              "      <td>GradientBoostingClassifier</td>\n",
              "      <td>0.314757</td>\n",
              "      <td>0.490385</td>\n",
              "      <td>0.700275</td>\n",
              "      <td>0.609653</td>\n",
              "      <td>0.769918</td>\n",
              "    </tr>\n",
              "    <tr>\n",
              "      <th>7</th>\n",
              "      <td>LGBMClassifier</td>\n",
              "      <td>0.208399</td>\n",
              "      <td>0.309458</td>\n",
              "      <td>0.556290</td>\n",
              "      <td>0.753671</td>\n",
              "      <td>0.841739</td>\n",
              "    </tr>\n",
              "    <tr>\n",
              "      <th>8</th>\n",
              "      <td>XGBClassifier</td>\n",
              "      <td>0.346644</td>\n",
              "      <td>0.550530</td>\n",
              "      <td>0.741977</td>\n",
              "      <td>0.561777</td>\n",
              "      <td>0.750098</td>\n",
              "    </tr>\n",
              "    <tr>\n",
              "      <th>9</th>\n",
              "      <td>RandomForestClassifier</td>\n",
              "      <td>0.111460</td>\n",
              "      <td>0.153454</td>\n",
              "      <td>0.391732</td>\n",
              "      <td>0.877851</td>\n",
              "      <td>0.909341</td>\n",
              "    </tr>\n",
              "  </tbody>\n",
              "</table>\n",
              "</div>\n",
              "      <button class=\"colab-df-convert\" onclick=\"convertToInteractive('df-f425518e-82dd-49cd-838f-b1479dd6e10a')\"\n",
              "              title=\"Convert this dataframe to an interactive table.\"\n",
              "              style=\"display:none;\">\n",
              "        \n",
              "  <svg xmlns=\"http://www.w3.org/2000/svg\" height=\"24px\"viewBox=\"0 0 24 24\"\n",
              "       width=\"24px\">\n",
              "    <path d=\"M0 0h24v24H0V0z\" fill=\"none\"/>\n",
              "    <path d=\"M18.56 5.44l.94 2.06.94-2.06 2.06-.94-2.06-.94-.94-2.06-.94 2.06-2.06.94zm-11 1L8.5 8.5l.94-2.06 2.06-.94-2.06-.94L8.5 2.5l-.94 2.06-2.06.94zm10 10l.94 2.06.94-2.06 2.06-.94-2.06-.94-.94-2.06-.94 2.06-2.06.94z\"/><path d=\"M17.41 7.96l-1.37-1.37c-.4-.4-.92-.59-1.43-.59-.52 0-1.04.2-1.43.59L10.3 9.45l-7.72 7.72c-.78.78-.78 2.05 0 2.83L4 21.41c.39.39.9.59 1.41.59.51 0 1.02-.2 1.41-.59l7.78-7.78 2.81-2.81c.8-.78.8-2.07 0-2.86zM5.41 20L4 18.59l7.72-7.72 1.47 1.35L5.41 20z\"/>\n",
              "  </svg>\n",
              "      </button>\n",
              "      \n",
              "  <style>\n",
              "    .colab-df-container {\n",
              "      display:flex;\n",
              "      flex-wrap:wrap;\n",
              "      gap: 12px;\n",
              "    }\n",
              "\n",
              "    .colab-df-convert {\n",
              "      background-color: #E8F0FE;\n",
              "      border: none;\n",
              "      border-radius: 50%;\n",
              "      cursor: pointer;\n",
              "      display: none;\n",
              "      fill: #1967D2;\n",
              "      height: 32px;\n",
              "      padding: 0 0 0 0;\n",
              "      width: 32px;\n",
              "    }\n",
              "\n",
              "    .colab-df-convert:hover {\n",
              "      background-color: #E2EBFA;\n",
              "      box-shadow: 0px 1px 2px rgba(60, 64, 67, 0.3), 0px 1px 3px 1px rgba(60, 64, 67, 0.15);\n",
              "      fill: #174EA6;\n",
              "    }\n",
              "\n",
              "    [theme=dark] .colab-df-convert {\n",
              "      background-color: #3B4455;\n",
              "      fill: #D2E3FC;\n",
              "    }\n",
              "\n",
              "    [theme=dark] .colab-df-convert:hover {\n",
              "      background-color: #434B5C;\n",
              "      box-shadow: 0px 1px 3px 1px rgba(0, 0, 0, 0.15);\n",
              "      filter: drop-shadow(0px 1px 2px rgba(0, 0, 0, 0.3));\n",
              "      fill: #FFFFFF;\n",
              "    }\n",
              "  </style>\n",
              "\n",
              "      <script>\n",
              "        const buttonEl =\n",
              "          document.querySelector('#df-f425518e-82dd-49cd-838f-b1479dd6e10a button.colab-df-convert');\n",
              "        buttonEl.style.display =\n",
              "          google.colab.kernel.accessAllowed ? 'block' : 'none';\n",
              "\n",
              "        async function convertToInteractive(key) {\n",
              "          const element = document.querySelector('#df-f425518e-82dd-49cd-838f-b1479dd6e10a');\n",
              "          const dataTable =\n",
              "            await google.colab.kernel.invokeFunction('convertToInteractive',\n",
              "                                                     [key], {});\n",
              "          if (!dataTable) return;\n",
              "\n",
              "          const docLinkHtml = 'Like what you see? Visit the ' +\n",
              "            '<a target=\"_blank\" href=https://colab.research.google.com/notebooks/data_table.ipynb>data table notebook</a>'\n",
              "            + ' to learn more about interactive tables.';\n",
              "          element.innerHTML = '';\n",
              "          dataTable['output_type'] = 'display_data';\n",
              "          await google.colab.output.renderOutput(dataTable, element);\n",
              "          const docLink = document.createElement('div');\n",
              "          docLink.innerHTML = docLinkHtml;\n",
              "          element.appendChild(docLink);\n",
              "        }\n",
              "      </script>\n",
              "    </div>\n",
              "  </div>\n",
              "  "
            ]
          },
          "metadata": {},
          "execution_count": 75
        }
      ]
    },
    {
      "cell_type": "code",
      "source": [
        "print(classification_report(y_test,prediction))"
      ],
      "metadata": {
        "execution": {
          "iopub.status.busy": "2022-05-16T00:09:47.943713Z",
          "iopub.execute_input": "2022-05-16T00:09:47.944255Z",
          "iopub.status.idle": "2022-05-16T00:09:47.958055Z",
          "shell.execute_reply.started": "2022-05-16T00:09:47.944219Z",
          "shell.execute_reply": "2022-05-16T00:09:47.957037Z"
        },
        "trusted": true,
        "colab": {
          "base_uri": "https://localhost:8080/"
        },
        "id": "YEtkigmBf2Bb",
        "outputId": "e12c3dea-ebc7-409c-bb72-8568377df6c0"
      },
      "execution_count": 76,
      "outputs": [
        {
          "output_type": "stream",
          "name": "stdout",
          "text": [
            "              precision    recall  f1-score   support\n",
            "\n",
            "           0       0.92      0.93      0.93      2550\n",
            "           1       0.87      0.88      0.87      2583\n",
            "           2       0.86      0.83      0.85      2481\n",
            "           3       0.98      1.00      0.99      2578\n",
            "\n",
            "    accuracy                           0.91     10192\n",
            "   macro avg       0.91      0.91      0.91     10192\n",
            "weighted avg       0.91      0.91      0.91     10192\n",
            "\n"
          ]
        }
      ]
    },
    {
      "cell_type": "code",
      "source": [
        "from sklearn.metrics import confusion_matrix\n",
        "from matplotlib.pyplot import figure\n",
        "figure(figsize=(5, 4), dpi=80)\n",
        "cm = confusion_matrix(y_test,prediction)\n",
        "\n",
        "sns.heatmap(cm, annot=True,fmt=\"d\",cmap=\"YlGnBu\")"
      ],
      "metadata": {
        "execution": {
          "iopub.status.busy": "2022-05-16T00:09:56.324111Z",
          "iopub.execute_input": "2022-05-16T00:09:56.324446Z",
          "iopub.status.idle": "2022-05-16T00:09:56.672858Z",
          "shell.execute_reply.started": "2022-05-16T00:09:56.324414Z",
          "shell.execute_reply": "2022-05-16T00:09:56.671616Z"
        },
        "trusted": true,
        "colab": {
          "base_uri": "https://localhost:8080/",
          "height": 309
        },
        "id": "xSO19ab5f2Bb",
        "outputId": "9d994ddc-366f-4b0e-f313-ea9c39011e3f"
      },
      "execution_count": 77,
      "outputs": [
        {
          "output_type": "execute_result",
          "data": {
            "text/plain": [
              "<matplotlib.axes._subplots.AxesSubplot at 0x7f290536cad0>"
            ]
          },
          "metadata": {},
          "execution_count": 77
        },
        {
          "output_type": "display_data",
          "data": {
            "text/plain": [
              "<Figure size 400x320 with 2 Axes>"
            ],
            "image/png": "[encoded data removed]"
          },
          "metadata": {
            "needs_background": "light"
          }
        }
      ]
    },
    {
      "cell_type": "markdown",
      "source": [
        "# GaussianNB"
      ],
      "metadata": {
        "id": "K9DwGfY77S5U"
      }
    },
    {
      "cell_type": "code",
      "source": [
        "from sklearn.naive_bayes import GaussianNB\n",
        "\n",
        "\n",
        "GB_model = GaussianNB()\n",
        "GB_model = GB_model.fit(X_for_model, y_train)\n",
        "GB_model"
      ],
      "metadata": {
        "colab": {
          "base_uri": "https://localhost:8080/"
        },
        "id": "AKiD1c3hf2Bb",
        "outputId": "5523c654-cc5f-4c6c-e803-f5925780dc45"
      },
      "execution_count": 78,
      "outputs": [
        {
          "output_type": "execute_result",
          "data": {
            "text/plain": [
              "GaussianNB()"
            ]
          },
          "metadata": {},
          "execution_count": 78
        }
      ]
    },
    {
      "cell_type": "code",
      "source": [
        "X_test_feature = VGG_model.predict(x_test)\n",
        "X_test_features = X_test_feature.reshape(X_test_feature.shape[0], -1)\n",
        "#Now predict using the trained RF model. \n",
        "prediction = GB_model.predict(X_test_features)"
      ],
      "metadata": {
        "id": "QUlW48xx7YBq"
      },
      "execution_count": 79,
      "outputs": []
    },
    {
      "cell_type": "code",
      "source": [
        "print('Test set evaluation:\\n_____________________________________')\n",
        "print_evaluate(y_test, prediction)"
      ],
      "metadata": {
        "colab": {
          "base_uri": "https://localhost:8080/"
        },
        "id": "38NU1y-d7YEC",
        "outputId": "11efb869-e5e1-40de-cce5-55036d60b546"
      },
      "execution_count": 80,
      "outputs": [
        {
          "output_type": "stream",
          "name": "stdout",
          "text": [
            "Test set evaluation:\n",
            "_____________________________________\n",
            "MAE: 0.6019427001569859\n",
            "MSE: 0.9021781789638933\n",
            "RMSE: 0.9498306054049287\n",
            "R2 Square 0.2818645964295301\n",
            "Accuracy 0.5188383045525903\n",
            "__________________________________\n"
          ]
        }
      ]
    },
    {
      "cell_type": "code",
      "source": [
        "results_df_2 = pd.DataFrame(data=[[\"GaussianNB\", *evaluate(y_test, prediction)]], \n",
        "                          columns=['Model', 'MAE', 'MSE', 'RMSE', 'R2 Square','Accuracy_vgg19' ])\n",
        "results_df = results_df.append(results_df_2, ignore_index=True)\n",
        "results_df"
      ],
      "metadata": {
        "colab": {
          "base_uri": "https://localhost:8080/",
          "height": 395
        },
        "id": "sM439anp7YGj",
        "outputId": "d690e2b1-6190-4f1a-c47c-c813ace6fef8"
      },
      "execution_count": 81,
      "outputs": [
        {
          "output_type": "execute_result",
          "data": {
            "text/plain": [
              "                         Model       MAE       MSE      RMSE  R2 Square  \\\n",
              "0         KNeighborsClassifier  0.288952  0.432398  0.657570   0.655810   \n",
              "1                          SVC  0.301707  0.463206  0.680593   0.631287   \n",
              "2                      RBF SVC  0.368132  0.587520  0.766498   0.532333   \n",
              "3       DecisionTreeClassifier  0.191425  0.282869  0.531854   0.774836   \n",
              "4           LogisticRegression  0.376472  0.600962  0.775217   0.521634   \n",
              "5                SGDClassifier  0.350667  0.568878  0.754240   0.547172   \n",
              "6   GradientBoostingClassifier  0.314757  0.490385  0.700275   0.609653   \n",
              "7               LGBMClassifier  0.208399  0.309458  0.556290   0.753671   \n",
              "8                XGBClassifier  0.346644  0.550530  0.741977   0.561777   \n",
              "9       RandomForestClassifier  0.111460  0.153454  0.391732   0.877851   \n",
              "10                  GaussianNB  0.601943  0.902178  0.949831   0.281865   \n",
              "\n",
              "    Accuracy_vgg19  \n",
              "0         0.781005  \n",
              "1         0.777374  \n",
              "2         0.735184  \n",
              "3         0.854003  \n",
              "4         0.728414  \n",
              "5         0.753140  \n",
              "6         0.769918  \n",
              "7         0.841739  \n",
              "8         0.750098  \n",
              "9         0.909341  \n",
              "10        0.518838  "
            ],
            "text/html": [
              "\n",
              "  <div id=\"df-2b1d5b81-fc0f-45b4-97d3-d35a5b107c7c\">\n",
              "    <div class=\"colab-df-container\">\n",
              "      <div>\n",
              "<style scoped>\n",
              "    .dataframe tbody tr th:only-of-type {\n",
              "        vertical-align: middle;\n",
              "    }\n",
              "\n",
              "    .dataframe tbody tr th {\n",
              "        vertical-align: top;\n",
              "    }\n",
              "\n",
              "    .dataframe thead th {\n",
              "        text-align: right;\n",
              "    }\n",
              "</style>\n",
              "<table border=\"1\" class=\"dataframe\">\n",
              "  <thead>\n",
              "    <tr style=\"text-align: right;\">\n",
              "      <th></th>\n",
              "      <th>Model</th>\n",
              "      <th>MAE</th>\n",
              "      <th>MSE</th>\n",
              "      <th>RMSE</th>\n",
              "      <th>R2 Square</th>\n",
              "      <th>Accuracy_vgg19</th>\n",
              "    </tr>\n",
              "  </thead>\n",
              "  <tbody>\n",
              "    <tr>\n",
              "      <th>0</th>\n",
              "      <td>KNeighborsClassifier</td>\n",
              "      <td>0.288952</td>\n",
              "      <td>0.432398</td>\n",
              "      <td>0.657570</td>\n",
              "      <td>0.655810</td>\n",
              "      <td>0.781005</td>\n",
              "    </tr>\n",
              "    <tr>\n",
              "      <th>1</th>\n",
              "      <td>SVC</td>\n",
              "      <td>0.301707</td>\n",
              "      <td>0.463206</td>\n",
              "      <td>0.680593</td>\n",
              "      <td>0.631287</td>\n",
              "      <td>0.777374</td>\n",
              "    </tr>\n",
              "    <tr>\n",
              "      <th>2</th>\n",
              "      <td>RBF SVC</td>\n",
              "      <td>0.368132</td>\n",
              "      <td>0.587520</td>\n",
              "      <td>0.766498</td>\n",
              "      <td>0.532333</td>\n",
              "      <td>0.735184</td>\n",
              "    </tr>\n",
              "    <tr>\n",
              "      <th>3</th>\n",
              "      <td>DecisionTreeClassifier</td>\n",
              "      <td>0.191425</td>\n",
              "      <td>0.282869</td>\n",
              "      <td>0.531854</td>\n",
              "      <td>0.774836</td>\n",
              "      <td>0.854003</td>\n",
              "    </tr>\n",
              "    <tr>\n",
              "      <th>4</th>\n",
              "      <td>LogisticRegression</td>\n",
              "      <td>0.376472</td>\n",
              "      <td>0.600962</td>\n",
              "      <td>0.775217</td>\n",
              "      <td>0.521634</td>\n",
              "      <td>0.728414</td>\n",
              "    </tr>\n",
              "    <tr>\n",
              "      <th>5</th>\n",
              "      <td>SGDClassifier</td>\n",
              "      <td>0.350667</td>\n",
              "      <td>0.568878</td>\n",
              "      <td>0.754240</td>\n",
              "      <td>0.547172</td>\n",
              "      <td>0.753140</td>\n",
              "    </tr>\n",
              "    <tr>\n",
              "      <th>6</th>\n",
              "      <td>GradientBoostingClassifier</td>\n",
              "      <td>0.314757</td>\n",
              "      <td>0.490385</td>\n",
              "      <td>0.700275</td>\n",
              "      <td>0.609653</td>\n",
              "      <td>0.769918</td>\n",
              "    </tr>\n",
              "    <tr>\n",
              "      <th>7</th>\n",
              "      <td>LGBMClassifier</td>\n",
              "      <td>0.208399</td>\n",
              "      <td>0.309458</td>\n",
              "      <td>0.556290</td>\n",
              "      <td>0.753671</td>\n",
              "      <td>0.841739</td>\n",
              "    </tr>\n",
              "    <tr>\n",
              "      <th>8</th>\n",
              "      <td>XGBClassifier</td>\n",
              "      <td>0.346644</td>\n",
              "      <td>0.550530</td>\n",
              "      <td>0.741977</td>\n",
              "      <td>0.561777</td>\n",
              "      <td>0.750098</td>\n",
              "    </tr>\n",
              "    <tr>\n",
              "      <th>9</th>\n",
              "      <td>RandomForestClassifier</td>\n",
              "      <td>0.111460</td>\n",
              "      <td>0.153454</td>\n",
              "      <td>0.391732</td>\n",
              "      <td>0.877851</td>\n",
              "      <td>0.909341</td>\n",
              "    </tr>\n",
              "    <tr>\n",
              "      <th>10</th>\n",
              "      <td>GaussianNB</td>\n",
              "      <td>0.601943</td>\n",
              "      <td>0.902178</td>\n",
              "      <td>0.949831</td>\n",
              "      <td>0.281865</td>\n",
              "      <td>0.518838</td>\n",
              "    </tr>\n",
              "  </tbody>\n",
              "</table>\n",
              "</div>\n",
              "      <button class=\"colab-df-convert\" onclick=\"convertToInteractive('df-2b1d5b81-fc0f-45b4-97d3-d35a5b107c7c')\"\n",
              "              title=\"Convert this dataframe to an interactive table.\"\n",
              "              style=\"display:none;\">\n",
              "        \n",
              "  <svg xmlns=\"http://www.w3.org/2000/svg\" height=\"24px\"viewBox=\"0 0 24 24\"\n",
              "       width=\"24px\">\n",
              "    <path d=\"M0 0h24v24H0V0z\" fill=\"none\"/>\n",
              "    <path d=\"M18.56 5.44l.94 2.06.94-2.06 2.06-.94-2.06-.94-.94-2.06-.94 2.06-2.06.94zm-11 1L8.5 8.5l.94-2.06 2.06-.94-2.06-.94L8.5 2.5l-.94 2.06-2.06.94zm10 10l.94 2.06.94-2.06 2.06-.94-2.06-.94-.94-2.06-.94 2.06-2.06.94z\"/><path d=\"M17.41 7.96l-1.37-1.37c-.4-.4-.92-.59-1.43-.59-.52 0-1.04.2-1.43.59L10.3 9.45l-7.72 7.72c-.78.78-.78 2.05 0 2.83L4 21.41c.39.39.9.59 1.41.59.51 0 1.02-.2 1.41-.59l7.78-7.78 2.81-2.81c.8-.78.8-2.07 0-2.86zM5.41 20L4 18.59l7.72-7.72 1.47 1.35L5.41 20z\"/>\n",
              "  </svg>\n",
              "      </button>\n",
              "      \n",
              "  <style>\n",
              "    .colab-df-container {\n",
              "      display:flex;\n",
              "      flex-wrap:wrap;\n",
              "      gap: 12px;\n",
              "    }\n",
              "\n",
              "    .colab-df-convert {\n",
              "      background-color: #E8F0FE;\n",
              "      border: none;\n",
              "      border-radius: 50%;\n",
              "      cursor: pointer;\n",
              "      display: none;\n",
              "      fill: #1967D2;\n",
              "      height: 32px;\n",
              "      padding: 0 0 0 0;\n",
              "      width: 32px;\n",
              "    }\n",
              "\n",
              "    .colab-df-convert:hover {\n",
              "      background-color: #E2EBFA;\n",
              "      box-shadow: 0px 1px 2px rgba(60, 64, 67, 0.3), 0px 1px 3px 1px rgba(60, 64, 67, 0.15);\n",
              "      fill: #174EA6;\n",
              "    }\n",
              "\n",
              "    [theme=dark] .colab-df-convert {\n",
              "      background-color: #3B4455;\n",
              "      fill: #D2E3FC;\n",
              "    }\n",
              "\n",
              "    [theme=dark] .colab-df-convert:hover {\n",
              "      background-color: #434B5C;\n",
              "      box-shadow: 0px 1px 3px 1px rgba(0, 0, 0, 0.15);\n",
              "      filter: drop-shadow(0px 1px 2px rgba(0, 0, 0, 0.3));\n",
              "      fill: #FFFFFF;\n",
              "    }\n",
              "  </style>\n",
              "\n",
              "      <script>\n",
              "        const buttonEl =\n",
              "          document.querySelector('#df-2b1d5b81-fc0f-45b4-97d3-d35a5b107c7c button.colab-df-convert');\n",
              "        buttonEl.style.display =\n",
              "          google.colab.kernel.accessAllowed ? 'block' : 'none';\n",
              "\n",
              "        async function convertToInteractive(key) {\n",
              "          const element = document.querySelector('#df-2b1d5b81-fc0f-45b4-97d3-d35a5b107c7c');\n",
              "          const dataTable =\n",
              "            await google.colab.kernel.invokeFunction('convertToInteractive',\n",
              "                                                     [key], {});\n",
              "          if (!dataTable) return;\n",
              "\n",
              "          const docLinkHtml = 'Like what you see? Visit the ' +\n",
              "            '<a target=\"_blank\" href=https://colab.research.google.com/notebooks/data_table.ipynb>data table notebook</a>'\n",
              "            + ' to learn more about interactive tables.';\n",
              "          element.innerHTML = '';\n",
              "          dataTable['output_type'] = 'display_data';\n",
              "          await google.colab.output.renderOutput(dataTable, element);\n",
              "          const docLink = document.createElement('div');\n",
              "          docLink.innerHTML = docLinkHtml;\n",
              "          element.appendChild(docLink);\n",
              "        }\n",
              "      </script>\n",
              "    </div>\n",
              "  </div>\n",
              "  "
            ]
          },
          "metadata": {},
          "execution_count": 81
        }
      ]
    },
    {
      "cell_type": "code",
      "source": [
        "print(classification_report(y_test,prediction))"
      ],
      "metadata": {
        "colab": {
          "base_uri": "https://localhost:8080/"
        },
        "id": "c5MuUylm7YI3",
        "outputId": "ab044a4d-da18-4423-edd3-c12c95f90879"
      },
      "execution_count": 82,
      "outputs": [
        {
          "output_type": "stream",
          "name": "stdout",
          "text": [
            "              precision    recall  f1-score   support\n",
            "\n",
            "           0       0.70      0.09      0.16      2550\n",
            "           1       0.38      0.90      0.54      2583\n",
            "           2       0.64      0.19      0.29      2481\n",
            "           3       0.74      0.88      0.80      2578\n",
            "\n",
            "    accuracy                           0.52     10192\n",
            "   macro avg       0.62      0.51      0.45     10192\n",
            "weighted avg       0.62      0.52      0.45     10192\n",
            "\n"
          ]
        }
      ]
    },
    {
      "cell_type": "code",
      "source": [
        "from sklearn.metrics import confusion_matrix\n",
        "from matplotlib.pyplot import figure\n",
        "figure(figsize=(5, 4), dpi=80)\n",
        "cm = confusion_matrix(y_test,prediction)\n",
        "\n",
        "sns.heatmap(cm, annot=True,fmt=\"d\",cmap=\"YlGnBu\")"
      ],
      "metadata": {
        "colab": {
          "base_uri": "https://localhost:8080/",
          "height": 309
        },
        "id": "930jUCQP7YLL",
        "outputId": "3a7612de-dbb8-4c53-b5dd-97b3ef50b7ad"
      },
      "execution_count": 83,
      "outputs": [
        {
          "output_type": "execute_result",
          "data": {
            "text/plain": [
              "<matplotlib.axes._subplots.AxesSubplot at 0x7f290549bfd0>"
            ]
          },
          "metadata": {},
          "execution_count": 83
        },
        {
          "output_type": "display_data",
          "data": {
            "text/plain": [
              "<Figure size 400x320 with 2 Axes>"
            ],
            "image/png": "[encoded data removed]"
          },
          "metadata": {
            "needs_background": "light"
          }
        }
      ]
    },
    {
      "cell_type": "code",
      "source": [
        "modeller = [rf_model,GB_model,XGBC_model,LGBM_model,GBC_model,SGD_model,lr_model,cart_model,svc_model,svm_model,knn_model]"
      ],
      "metadata": {
        "id": "Y9ed3-HU_zJl"
      },
      "execution_count": 84,
      "outputs": []
    },
    {
      "cell_type": "code",
      "source": [
        "sonuc = []\n",
        "from sklearn.metrics import accuracy_score\n",
        "\n",
        "sonuclar = pd.DataFrame(columns= [\"Modeller\",\"Accuracy\"])\n",
        "\n",
        "for model in modeller:\n",
        "    isimler = model.__class__.__name__\n",
        "    y_pred = model.predict(X_test_features)\n",
        "    dogruluk = accuracy_score(y_test, y_pred)    \n",
        "    sonuc = pd.DataFrame([[isimler, dogruluk*100]], columns= [\"Modeller\",\"Accuracy\"])\n",
        "    sonuclar = sonuclar.append(sonuc)\n",
        "    \n",
        "sns.set(rc={'figure.figsize':(20,15)})\n",
        "sns.barplot(x= 'Accuracy', y = 'Modeller', data=sonuclar, color=\"r\")\n",
        "plt.xlabel('Modellerin Doğruluk Oranları ')\n",
        "plt.title('Accuracy ½'); "
      ],
      "metadata": {
        "colab": {
          "base_uri": "https://localhost:8080/",
          "height": 899
        },
        "id": "wgpJLQg5_zWa",
        "outputId": "4dcc359c-e329-4167-e883-43bfc07cea95"
      },
      "execution_count": 85,
      "outputs": [
        {
          "output_type": "display_data",
          "data": {
            "text/plain": [
              "<Figure size 1440x1080 with 1 Axes>"
            ],
            "image/png": "[encoded data removed]"
          },
          "metadata": {}
        }
      ]
    },
    {
      "cell_type": "code",
      "source": [
        "results_df\n"
      ],
      "metadata": {
        "colab": {
          "base_uri": "https://localhost:8080/",
          "height": 395
        },
        "id": "RxV8Mw7H_zY8",
        "outputId": "36130f13-f5a0-4577-d73b-311e701c0461"
      },
      "execution_count": 86,
      "outputs": [
        {
          "output_type": "execute_result",
          "data": {
            "text/plain": [
              "                         Model       MAE       MSE      RMSE  R2 Square  \\\n",
              "0         KNeighborsClassifier  0.288952  0.432398  0.657570   0.655810   \n",
              "1                          SVC  0.301707  0.463206  0.680593   0.631287   \n",
              "2                      RBF SVC  0.368132  0.587520  0.766498   0.532333   \n",
              "3       DecisionTreeClassifier  0.191425  0.282869  0.531854   0.774836   \n",
              "4           LogisticRegression  0.376472  0.600962  0.775217   0.521634   \n",
              "5                SGDClassifier  0.350667  0.568878  0.754240   0.547172   \n",
              "6   GradientBoostingClassifier  0.314757  0.490385  0.700275   0.609653   \n",
              "7               LGBMClassifier  0.208399  0.309458  0.556290   0.753671   \n",
              "8                XGBClassifier  0.346644  0.550530  0.741977   0.561777   \n",
              "9       RandomForestClassifier  0.111460  0.153454  0.391732   0.877851   \n",
              "10                  GaussianNB  0.601943  0.902178  0.949831   0.281865   \n",
              "\n",
              "    Accuracy_vgg19  \n",
              "0         0.781005  \n",
              "1         0.777374  \n",
              "2         0.735184  \n",
              "3         0.854003  \n",
              "4         0.728414  \n",
              "5         0.753140  \n",
              "6         0.769918  \n",
              "7         0.841739  \n",
              "8         0.750098  \n",
              "9         0.909341  \n",
              "10        0.518838  "
            ],
            "text/html": [
              "\n",
              "  <div id=\"df-39dedd0e-c72b-4711-b53b-9436320823e7\">\n",
              "    <div class=\"colab-df-container\">\n",
              "      <div>\n",
              "<style scoped>\n",
              "    .dataframe tbody tr th:only-of-type {\n",
              "        vertical-align: middle;\n",
              "    }\n",
              "\n",
              "    .dataframe tbody tr th {\n",
              "        vertical-align: top;\n",
              "    }\n",
              "\n",
              "    .dataframe thead th {\n",
              "        text-align: right;\n",
              "    }\n",
              "</style>\n",
              "<table border=\"1\" class=\"dataframe\">\n",
              "  <thead>\n",
              "    <tr style=\"text-align: right;\">\n",
              "      <th></th>\n",
              "      <th>Model</th>\n",
              "      <th>MAE</th>\n",
              "      <th>MSE</th>\n",
              "      <th>RMSE</th>\n",
              "      <th>R2 Square</th>\n",
              "      <th>Accuracy_vgg19</th>\n",
              "    </tr>\n",
              "  </thead>\n",
              "  <tbody>\n",
              "    <tr>\n",
              "      <th>0</th>\n",
              "      <td>KNeighborsClassifier</td>\n",
              "      <td>0.288952</td>\n",
              "      <td>0.432398</td>\n",
              "      <td>0.657570</td>\n",
              "      <td>0.655810</td>\n",
              "      <td>0.781005</td>\n",
              "    </tr>\n",
              "    <tr>\n",
              "      <th>1</th>\n",
              "      <td>SVC</td>\n",
              "      <td>0.301707</td>\n",
              "      <td>0.463206</td>\n",
              "      <td>0.680593</td>\n",
              "      <td>0.631287</td>\n",
              "      <td>0.777374</td>\n",
              "    </tr>\n",
              "    <tr>\n",
              "      <th>2</th>\n",
              "      <td>RBF SVC</td>\n",
              "      <td>0.368132</td>\n",
              "      <td>0.587520</td>\n",
              "      <td>0.766498</td>\n",
              "      <td>0.532333</td>\n",
              "      <td>0.735184</td>\n",
              "    </tr>\n",
              "    <tr>\n",
              "      <th>3</th>\n",
              "      <td>DecisionTreeClassifier</td>\n",
              "      <td>0.191425</td>\n",
              "      <td>0.282869</td>\n",
              "      <td>0.531854</td>\n",
              "      <td>0.774836</td>\n",
              "      <td>0.854003</td>\n",
              "    </tr>\n",
              "    <tr>\n",
              "      <th>4</th>\n",
              "      <td>LogisticRegression</td>\n",
              "      <td>0.376472</td>\n",
              "      <td>0.600962</td>\n",
              "      <td>0.775217</td>\n",
              "      <td>0.521634</td>\n",
              "      <td>0.728414</td>\n",
              "    </tr>\n",
              "    <tr>\n",
              "      <th>5</th>\n",
              "      <td>SGDClassifier</td>\n",
              "      <td>0.350667</td>\n",
              "      <td>0.568878</td>\n",
              "      <td>0.754240</td>\n",
              "      <td>0.547172</td>\n",
              "      <td>0.753140</td>\n",
              "    </tr>\n",
              "    <tr>\n",
              "      <th>6</th>\n",
              "      <td>GradientBoostingClassifier</td>\n",
              "      <td>0.314757</td>\n",
              "      <td>0.490385</td>\n",
              "      <td>0.700275</td>\n",
              "      <td>0.609653</td>\n",
              "      <td>0.769918</td>\n",
              "    </tr>\n",
              "    <tr>\n",
              "      <th>7</th>\n",
              "      <td>LGBMClassifier</td>\n",
              "      <td>0.208399</td>\n",
              "      <td>0.309458</td>\n",
              "      <td>0.556290</td>\n",
              "      <td>0.753671</td>\n",
              "      <td>0.841739</td>\n",
              "    </tr>\n",
              "    <tr>\n",
              "      <th>8</th>\n",
              "      <td>XGBClassifier</td>\n",
              "      <td>0.346644</td>\n",
              "      <td>0.550530</td>\n",
              "      <td>0.741977</td>\n",
              "      <td>0.561777</td>\n",
              "      <td>0.750098</td>\n",
              "    </tr>\n",
              "    <tr>\n",
              "      <th>9</th>\n",
              "      <td>RandomForestClassifier</td>\n",
              "      <td>0.111460</td>\n",
              "      <td>0.153454</td>\n",
              "      <td>0.391732</td>\n",
              "      <td>0.877851</td>\n",
              "      <td>0.909341</td>\n",
              "    </tr>\n",
              "    <tr>\n",
              "      <th>10</th>\n",
              "      <td>GaussianNB</td>\n",
              "      <td>0.601943</td>\n",
              "      <td>0.902178</td>\n",
              "      <td>0.949831</td>\n",
              "      <td>0.281865</td>\n",
              "      <td>0.518838</td>\n",
              "    </tr>\n",
              "  </tbody>\n",
              "</table>\n",
              "</div>\n",
              "      <button class=\"colab-df-convert\" onclick=\"convertToInteractive('df-39dedd0e-c72b-4711-b53b-9436320823e7')\"\n",
              "              title=\"Convert this dataframe to an interactive table.\"\n",
              "              style=\"display:none;\">\n",
              "        \n",
              "  <svg xmlns=\"http://www.w3.org/2000/svg\" height=\"24px\"viewBox=\"0 0 24 24\"\n",
              "       width=\"24px\">\n",
              "    <path d=\"M0 0h24v24H0V0z\" fill=\"none\"/>\n",
              "    <path d=\"M18.56 5.44l.94 2.06.94-2.06 2.06-.94-2.06-.94-.94-2.06-.94 2.06-2.06.94zm-11 1L8.5 8.5l.94-2.06 2.06-.94-2.06-.94L8.5 2.5l-.94 2.06-2.06.94zm10 10l.94 2.06.94-2.06 2.06-.94-2.06-.94-.94-2.06-.94 2.06-2.06.94z\"/><path d=\"M17.41 7.96l-1.37-1.37c-.4-.4-.92-.59-1.43-.59-.52 0-1.04.2-1.43.59L10.3 9.45l-7.72 7.72c-.78.78-.78 2.05 0 2.83L4 21.41c.39.39.9.59 1.41.59.51 0 1.02-.2 1.41-.59l7.78-7.78 2.81-2.81c.8-.78.8-2.07 0-2.86zM5.41 20L4 18.59l7.72-7.72 1.47 1.35L5.41 20z\"/>\n",
              "  </svg>\n",
              "      </button>\n",
              "      \n",
              "  <style>\n",
              "    .colab-df-container {\n",
              "      display:flex;\n",
              "      flex-wrap:wrap;\n",
              "      gap: 12px;\n",
              "    }\n",
              "\n",
              "    .colab-df-convert {\n",
              "      background-color: #E8F0FE;\n",
              "      border: none;\n",
              "      border-radius: 50%;\n",
              "      cursor: pointer;\n",
              "      display: none;\n",
              "      fill: #1967D2;\n",
              "      height: 32px;\n",
              "      padding: 0 0 0 0;\n",
              "      width: 32px;\n",
              "    }\n",
              "\n",
              "    .colab-df-convert:hover {\n",
              "      background-color: #E2EBFA;\n",
              "      box-shadow: 0px 1px 2px rgba(60, 64, 67, 0.3), 0px 1px 3px 1px rgba(60, 64, 67, 0.15);\n",
              "      fill: #174EA6;\n",
              "    }\n",
              "\n",
              "    [theme=dark] .colab-df-convert {\n",
              "      background-color: #3B4455;\n",
              "      fill: #D2E3FC;\n",
              "    }\n",
              "\n",
              "    [theme=dark] .colab-df-convert:hover {\n",
              "      background-color: #434B5C;\n",
              "      box-shadow: 0px 1px 3px 1px rgba(0, 0, 0, 0.15);\n",
              "      filter: drop-shadow(0px 1px 2px rgba(0, 0, 0, 0.3));\n",
              "      fill: #FFFFFF;\n",
              "    }\n",
              "  </style>\n",
              "\n",
              "      <script>\n",
              "        const buttonEl =\n",
              "          document.querySelector('#df-39dedd0e-c72b-4711-b53b-9436320823e7 button.colab-df-convert');\n",
              "        buttonEl.style.display =\n",
              "          google.colab.kernel.accessAllowed ? 'block' : 'none';\n",
              "\n",
              "        async function convertToInteractive(key) {\n",
              "          const element = document.querySelector('#df-39dedd0e-c72b-4711-b53b-9436320823e7');\n",
              "          const dataTable =\n",
              "            await google.colab.kernel.invokeFunction('convertToInteractive',\n",
              "                                                     [key], {});\n",
              "          if (!dataTable) return;\n",
              "\n",
              "          const docLinkHtml = 'Like what you see? Visit the ' +\n",
              "            '<a target=\"_blank\" href=https://colab.research.google.com/notebooks/data_table.ipynb>data table notebook</a>'\n",
              "            + ' to learn more about interactive tables.';\n",
              "          element.innerHTML = '';\n",
              "          dataTable['output_type'] = 'display_data';\n",
              "          await google.colab.output.renderOutput(dataTable, element);\n",
              "          const docLink = document.createElement('div');\n",
              "          docLink.innerHTML = docLinkHtml;\n",
              "          element.appendChild(docLink);\n",
              "        }\n",
              "      </script>\n",
              "    </div>\n",
              "  </div>\n",
              "  "
            ]
          },
          "metadata": {},
          "execution_count": 86
        }
      ]
    },
    {
      "cell_type": "code",
      "source": [
        "from google.colab import files\n",
        "\n",
        "results_df.to_csv('output_vgg19.csv', encoding = 'utf-8-sig') \n",
        "files.download('output_vgg19.csv')"
      ],
      "metadata": {
        "colab": {
          "base_uri": "https://localhost:8080/",
          "height": 17
        },
        "id": "3Ynca6Pw_zbb",
        "outputId": "a9ad3b24-b752-4a99-b5df-136f0c21f2b1"
      },
      "execution_count": 89,
      "outputs": [
        {
          "output_type": "display_data",
          "data": {
            "text/plain": [
              "<IPython.core.display.Javascript object>"
            ],
            "application/javascript": [
              "\n",
              "    async function download(id, filename, size) {\n",
              "      if (!google.colab.kernel.accessAllowed) {\n",
              "        return;\n",
              "      }\n",
              "      const div = document.createElement('div');\n",
              "      const label = document.createElement('label');\n",
              "      label.textContent = `Downloading \"${filename}\": `;\n",
              "      div.appendChild(label);\n",
              "      const progress = document.createElement('progress');\n",
              "      progress.max = size;\n",
              "      div.appendChild(progress);\n",
              "      document.body.appendChild(div);\n",
              "\n",
              "      const buffers = [];\n",
              "      let downloaded = 0;\n",
              "\n",
              "      const channel = await google.colab.kernel.comms.open(id);\n",
              "      // Send a message to notify the kernel that we're ready.\n",
              "      channel.send({})\n",
              "\n",
              "      for await (const message of channel.messages) {\n",
              "        // Send a message to notify the kernel that we're ready.\n",
              "        channel.send({})\n",
              "        if (message.buffers) {\n",
              "          for (const buffer of message.buffers) {\n",
              "            buffers.push(buffer);\n",
              "            downloaded += buffer.byteLength;\n",
              "            progress.value = downloaded;\n",
              "          }\n",
              "        }\n",
              "      }\n",
              "      const blob = new Blob(buffers, {type: 'application/binary'});\n",
              "      const a = document.createElement('a');\n",
              "      a.href = window.URL.createObjectURL(blob);\n",
              "      a.download = filename;\n",
              "      div.appendChild(a);\n",
              "      a.click();\n",
              "      div.remove();\n",
              "    }\n",
              "  "
            ]
          },
          "metadata": {}
        },
        {
          "output_type": "display_data",
          "data": {
            "text/plain": [
              "<IPython.core.display.Javascript object>"
            ],
            "application/javascript": [
              "download(\"download_dd0c9b4a-440a-4bee-86a2-95931d1ac605\", \"output_vgg19.csv\", 1301)"
            ]
          },
          "metadata": {}
        }
      ]
    },
    {
      "cell_type": "code",
      "source": [
        ""
      ],
      "metadata": {
        "id": "H1kddFEuAWam"
      },
      "execution_count": 87,
      "outputs": []
    }
  ]
}