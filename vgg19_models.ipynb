{
  "metadata": {
    "kernelspec": {
      "language": "python",
      "display_name": "Python 3",
      "name": "python3"
    },
    "language_info": {
      "name": "python",
      "version": "3.7.12",
      "mimetype": "text/x-python",
      "codemirror_mode": {
        "name": "ipython",
        "version": 3
      },
      "pygments_lexer": "ipython3",
      "nbconvert_exporter": "python",
      "file_extension": ".py"
    },
    "colab": {
      "name": "vgg19-models.ipynb",
      "provenance": [],
      "include_colab_link": true
    }
  },
  "nbformat_minor": 0,
  "nbformat": 4,
  "cells": [
    {
      "cell_type": "markdown",
      "metadata": {
        "id": "view-in-github",
        "colab_type": "text"
      },
      "source": [
        "<a href=\"https://colab.research.google.com/github/yasinsoylu1997/TEZZ2/blob/main/vgg19_models.ipynb\" target=\"_parent\"><img src=\"https://colab.research.google.com/assets/colab-badge.svg\" alt=\"Open In Colab\"/></a>"
      ]
    },
    {
      "cell_type": "code",
      "source": [
        "from google.colab import drive\n",
        "drive.mount('/content/drive')"
      ],
      "metadata": {
        "colab": {
          "base_uri": "https://localhost:8080/"
        },
        "id": "4LTqPz_P76Ov",
        "outputId": "16b73293-5df2-47f9-e89e-89dc0c6bfd41"
      },
      "execution_count": 3,
      "outputs": [
        {
          "output_type": "stream",
          "name": "stdout",
          "text": [
            "Drive already mounted at /content/drive; to attempt to forcibly remount, call drive.mount(\"/content/drive\", force_remount=True).\n"
          ]
        }
      ]
    },
    {
      "cell_type": "code",
      "source": [
        "import seaborn as sns\n",
        "import cv2\n",
        "import numpy as np\n",
        "import matplotlib.pyplot as plt\n",
        "from sklearn.utils import shuffle\n",
        "from sklearn.model_selection import train_test_split\n",
        "import tensorflow as tf\n",
        "from tensorflow.keras import layers\n",
        "import pandas as pd\n",
        "from tensorflow.keras.applications import EfficientNetB0\n",
        "from tensorflow.keras.callbacks import EarlyStopping, ReduceLROnPlateau, TensorBoard, ModelCheckpoint\n",
        "from tensorflow.keras.models import Model, Sequential\n",
        "from tensorflow.keras.layers import Conv2D, MaxPooling2D, AveragePooling2D\n",
        "from tensorflow.keras.layers import Input, Dense, Dropout, Flatten, Activation,Concatenate\n",
        "from tensorflow.keras.layers import BatchNormalization\n",
        "from keras.preprocessing.image import load_img,img_to_array,ImageDataGenerator\n",
        "from tensorflow.keras.applications import VGG16\n",
        "from tqdm import tqdm\n",
        "import os\n",
        "from sklearn.utils import shuffle\n",
        "from sklearn.metrics import classification_report,confusion_matrix\n",
        "import keras\n",
        "import keras.utils\n",
        "from keras import utils as np_utils\n",
        "import ipywidgets as widgets\n",
        "import io\n",
        "from PIL import Image\n",
        "from IPython.display import display,clear_output\n",
        "from warnings import filterwarnings\n",
        "#!pip install visualkeras\n",
        "import numpy as np \n",
        "import matplotlib.pyplot as plt\n",
        "import glob\n",
        "import cv2\n",
        "\n",
        "from keras.models import Model, Sequential\n",
        "from keras.layers import Dense, Flatten, Conv2D, MaxPooling2D\n",
        "import os\n",
        "!pip install visualkeras\n",
        "!pip install catboost"
      ],
      "metadata": {
        "_uuid": "8f2839f25d086af736a60e9eeb907d3b93b6e0e5",
        "_cell_guid": "b1076dfc-b9ad-4769-8c92-a6c4dae69d19",
        "execution": {
          "iopub.status.busy": "2022-05-16T00:06:02.361516Z",
          "iopub.execute_input": "2022-05-16T00:06:02.361853Z",
          "iopub.status.idle": "2022-05-16T00:06:18.994492Z",
          "shell.execute_reply.started": "2022-05-16T00:06:02.361822Z",
          "shell.execute_reply": "2022-05-16T00:06:18.992886Z"
        },
        "trusted": true,
        "colab": {
          "base_uri": "https://localhost:8080/"
        },
        "id": "i_pfrqAmf2BG",
        "outputId": "8a8c1a54-2858-4ef2-c41f-2c3dd45f35e6"
      },
      "execution_count": 4,
      "outputs": [
        {
          "output_type": "stream",
          "name": "stdout",
          "text": [
            "Collecting visualkeras\n",
            "  Downloading visualkeras-0.0.2-py3-none-any.whl (12 kB)\n",
            "Requirement already satisfied: numpy>=1.18.1 in /usr/local/lib/python3.7/dist-packages (from visualkeras) (1.21.6)\n",
            "Requirement already satisfied: pillow>=6.2.0 in /usr/local/lib/python3.7/dist-packages (from visualkeras) (7.1.2)\n",
            "Collecting aggdraw>=1.3.11\n",
            "  Downloading aggdraw-1.3.14-cp37-cp37m-manylinux_2_17_x86_64.manylinux2014_x86_64.whl (992 kB)\n",
            "\u001b[K     |████████████████████████████████| 992 kB 5.3 MB/s \n",
            "\u001b[?25hInstalling collected packages: aggdraw, visualkeras\n",
            "Successfully installed aggdraw-1.3.14 visualkeras-0.0.2\n",
            "Collecting catboost\n",
            "  Downloading catboost-1.0.5-cp37-none-manylinux1_x86_64.whl (76.6 MB)\n",
            "\u001b[K     |████████████████████████████████| 76.6 MB 1.2 MB/s \n",
            "\u001b[?25hRequirement already satisfied: pandas>=0.24.0 in /usr/local/lib/python3.7/dist-packages (from catboost) (1.3.5)\n",
            "Requirement already satisfied: plotly in /usr/local/lib/python3.7/dist-packages (from catboost) (5.5.0)\n",
            "Requirement already satisfied: graphviz in /usr/local/lib/python3.7/dist-packages (from catboost) (0.10.1)\n",
            "Requirement already satisfied: scipy in /usr/local/lib/python3.7/dist-packages (from catboost) (1.4.1)\n",
            "Requirement already satisfied: numpy>=1.16.0 in /usr/local/lib/python3.7/dist-packages (from catboost) (1.21.6)\n",
            "Requirement already satisfied: matplotlib in /usr/local/lib/python3.7/dist-packages (from catboost) (3.2.2)\n",
            "Requirement already satisfied: six in /usr/local/lib/python3.7/dist-packages (from catboost) (1.15.0)\n",
            "Requirement already satisfied: python-dateutil>=2.7.3 in /usr/local/lib/python3.7/dist-packages (from pandas>=0.24.0->catboost) (2.8.2)\n",
            "Requirement already satisfied: pytz>=2017.3 in /usr/local/lib/python3.7/dist-packages (from pandas>=0.24.0->catboost) (2022.1)\n",
            "Requirement already satisfied: pyparsing!=2.0.4,!=2.1.2,!=2.1.6,>=2.0.1 in /usr/local/lib/python3.7/dist-packages (from matplotlib->catboost) (3.0.8)\n",
            "Requirement already satisfied: kiwisolver>=1.0.1 in /usr/local/lib/python3.7/dist-packages (from matplotlib->catboost) (1.4.2)\n",
            "Requirement already satisfied: cycler>=0.10 in /usr/local/lib/python3.7/dist-packages (from matplotlib->catboost) (0.11.0)\n",
            "Requirement already satisfied: typing-extensions in /usr/local/lib/python3.7/dist-packages (from kiwisolver>=1.0.1->matplotlib->catboost) (4.2.0)\n",
            "Requirement already satisfied: tenacity>=6.2.0 in /usr/local/lib/python3.7/dist-packages (from plotly->catboost) (8.0.1)\n",
            "Installing collected packages: catboost\n",
            "Successfully installed catboost-1.0.5\n"
          ]
        }
      ]
    },
    {
      "cell_type": "code",
      "source": [
        "labels = ['Lung_Opacity','COVID','Normal','Viral Pneumonia']"
      ],
      "metadata": {
        "execution": {
          "iopub.status.busy": "2022-05-15T23:35:28.503324Z",
          "iopub.execute_input": "2022-05-15T23:35:28.503733Z",
          "iopub.status.idle": "2022-05-15T23:35:28.508486Z",
          "shell.execute_reply.started": "2022-05-15T23:35:28.503687Z",
          "shell.execute_reply": "2022-05-15T23:35:28.507824Z"
        },
        "trusted": true,
        "id": "JTm63c8Tf2BI"
      },
      "execution_count": 5,
      "outputs": []
    },
    {
      "cell_type": "code",
      "source": [
        "X = []\n",
        "y = []\n",
        "image_size = 32\n",
        "for i in labels:\n",
        "    folderPath = os.path.join('/content/drive/MyDrive/tezz3/COVID-19_Radiography_Dataset_masked',i)\n",
        "    for j in tqdm(os.listdir(folderPath)):\n",
        "        img = cv2.imread(os.path.join(folderPath,j))\n",
        "        img = cv2.resize(img,(image_size, image_size))\n",
        "        X.append(img)\n",
        "        y.append(i)\n",
        "\n",
        "        \n",
        "X = np.array(X)\n",
        "y = np.array(y)"
      ],
      "metadata": {
        "execution": {
          "iopub.status.busy": "2022-05-15T23:35:28.509631Z",
          "iopub.execute_input": "2022-05-15T23:35:28.510262Z",
          "iopub.status.idle": "2022-05-15T23:38:46.667539Z",
          "shell.execute_reply.started": "2022-05-15T23:35:28.510228Z",
          "shell.execute_reply": "2022-05-15T23:38:46.666484Z"
        },
        "trusted": true,
        "colab": {
          "base_uri": "https://localhost:8080/"
        },
        "id": "tdYLEsDQf2BJ",
        "outputId": "ccf03791-834f-4032-b328-79a99b468041"
      },
      "execution_count": 6,
      "outputs": [
        {
          "output_type": "stream",
          "name": "stderr",
          "text": [
            "100%|██████████| 6012/6012 [02:17<00:00, 43.70it/s] \n",
            "100%|██████████| 3616/3616 [01:20<00:00, 45.14it/s] \n",
            "100%|██████████| 10192/10192 [04:04<00:00, 41.60it/s] \n",
            "100%|██████████| 1345/1345 [00:22<00:00, 59.74it/s] \n"
          ]
        }
      ]
    },
    {
      "cell_type": "code",
      "source": [
        "from imblearn.over_sampling import RandomOverSampler\n",
        "reshaped_X = X.reshape(X.shape[0],-1)\n",
        "\n",
        "#oversampling\n",
        "oversample = RandomOverSampler()\n",
        "oversampled_X, oversampled_y  = oversample.fit_resample(reshaped_X , y)\n",
        "\n",
        "# reshaping X back to the first dims\n",
        "new_X = oversampled_X.reshape(-1,32,32,3)\n",
        "oversampled_y"
      ],
      "metadata": {
        "execution": {
          "iopub.status.busy": "2022-05-15T23:38:46.670136Z",
          "iopub.execute_input": "2022-05-15T23:38:46.670445Z",
          "iopub.status.idle": "2022-05-15T23:38:47.312704Z",
          "shell.execute_reply.started": "2022-05-15T23:38:46.670410Z",
          "shell.execute_reply": "2022-05-15T23:38:47.311471Z"
        },
        "trusted": true,
        "colab": {
          "base_uri": "https://localhost:8080/"
        },
        "id": "EapMamQRf2BJ",
        "outputId": "e9dfcce3-dd2c-4f36-c607-91e863ddcca8"
      },
      "execution_count": 7,
      "outputs": [
        {
          "output_type": "execute_result",
          "data": {
            "text/plain": [
              "array(['Lung_Opacity', 'Lung_Opacity', 'Lung_Opacity', ...,\n",
              "       'Viral Pneumonia', 'Viral Pneumonia', 'Viral Pneumonia'],\n",
              "      dtype='<U15')"
            ]
          },
          "metadata": {},
          "execution_count": 7
        }
      ]
    },
    {
      "cell_type": "code",
      "source": [
        "train_images, test_images,train_labels, test_labels = train_test_split(new_X , oversampled_y , test_size=0.25, random_state=42,shuffle=True)"
      ],
      "metadata": {
        "execution": {
          "iopub.status.busy": "2022-05-15T23:38:47.314239Z",
          "iopub.execute_input": "2022-05-15T23:38:47.314589Z",
          "iopub.status.idle": "2022-05-15T23:38:47.400506Z",
          "shell.execute_reply.started": "2022-05-15T23:38:47.314540Z",
          "shell.execute_reply": "2022-05-15T23:38:47.399418Z"
        },
        "trusted": true,
        "id": "a3bGVYtjf2BK"
      },
      "execution_count": 8,
      "outputs": []
    },
    {
      "cell_type": "code",
      "source": [
        "train_images=train_images[:1500]\n",
        "test_images=test_images[:1500]\n",
        "train_labels=train_labels[:1500]\n",
        "test_labels=test_labels[:1500]"
      ],
      "metadata": {
        "execution": {
          "iopub.status.busy": "2022-05-15T23:38:47.401890Z",
          "iopub.execute_input": "2022-05-15T23:38:47.402248Z",
          "iopub.status.idle": "2022-05-15T23:38:47.408519Z",
          "shell.execute_reply.started": "2022-05-15T23:38:47.402204Z",
          "shell.execute_reply": "2022-05-15T23:38:47.407414Z"
        },
        "trusted": true,
        "id": "WHJacAMYf2BK"
      },
      "execution_count": 9,
      "outputs": []
    },
    {
      "cell_type": "code",
      "source": [
        "plt.figure(figsize = (17,8));\n",
        "lis = ['Train', 'Test']\n",
        "for i,j in enumerate([train_labels, test_labels]):\n",
        "    plt.subplot(1,2, i+1);\n",
        "    sns.countplot(x = j);\n",
        "    plt.xlabel(lis[i])"
      ],
      "metadata": {
        "execution": {
          "iopub.status.busy": "2022-05-15T23:38:47.410442Z",
          "iopub.execute_input": "2022-05-15T23:38:47.410853Z",
          "iopub.status.idle": "2022-05-15T23:38:47.788826Z",
          "shell.execute_reply.started": "2022-05-15T23:38:47.410806Z",
          "shell.execute_reply": "2022-05-15T23:38:47.787749Z"
        },
        "trusted": true,
        "colab": {
          "base_uri": "https://localhost:8080/",
          "height": 498
        },
        "id": "lqAt7sJlf2BK",
        "outputId": "ebbd8244-2856-4304-d508-2ff7e0c5c405"
      },
      "execution_count": 10,
      "outputs": [
        {
          "output_type": "display_data",
          "data": {
            "text/plain": [
              "<Figure size 1224x576 with 2 Axes>"
            ],
            "image/png": "[encoded data removed]"
          },
          "metadata": {
            "needs_background": "light"
          }
        }
      ]
    },
    {
      "cell_type": "code",
      "source": [
        "train_images = train_images / 255.0\n",
        "test_images = test_images / 255.0"
      ],
      "metadata": {
        "execution": {
          "iopub.status.busy": "2022-05-15T23:38:47.790207Z",
          "iopub.execute_input": "2022-05-15T23:38:47.790481Z",
          "iopub.status.idle": "2022-05-15T23:38:47.826761Z",
          "shell.execute_reply.started": "2022-05-15T23:38:47.790447Z",
          "shell.execute_reply": "2022-05-15T23:38:47.825794Z"
        },
        "trusted": true,
        "id": "LvNGzS3If2BL"
      },
      "execution_count": 11,
      "outputs": []
    },
    {
      "cell_type": "code",
      "source": [
        "from sklearn import preprocessing\n",
        "le = preprocessing.LabelEncoder()\n",
        "le.fit(test_labels)\n",
        "test_labels_encoded = le.transform(test_labels)\n",
        "le.fit(train_labels)\n",
        "train_labels_encoded = le.transform(train_labels)"
      ],
      "metadata": {
        "execution": {
          "iopub.status.busy": "2022-05-15T23:38:47.828234Z",
          "iopub.execute_input": "2022-05-15T23:38:47.828608Z",
          "iopub.status.idle": "2022-05-15T23:38:47.837797Z",
          "shell.execute_reply.started": "2022-05-15T23:38:47.828571Z",
          "shell.execute_reply": "2022-05-15T23:38:47.836664Z"
        },
        "trusted": true,
        "id": "3pWqp5fYf2BL"
      },
      "execution_count": 12,
      "outputs": []
    },
    {
      "cell_type": "code",
      "source": [
        "#Split data into test and train datasets (already split but assigning to meaningful convention)\n",
        "x_train, y_train, x_test, y_test = train_images, train_labels_encoded, test_images, test_labels_encoded"
      ],
      "metadata": {
        "execution": {
          "iopub.status.busy": "2022-05-15T23:38:47.842939Z",
          "iopub.execute_input": "2022-05-15T23:38:47.844104Z",
          "iopub.status.idle": "2022-05-15T23:38:47.852435Z",
          "shell.execute_reply.started": "2022-05-15T23:38:47.844043Z",
          "shell.execute_reply": "2022-05-15T23:38:47.851608Z"
        },
        "trusted": true,
        "id": "7bLugAY5f2BM"
      },
      "execution_count": 13,
      "outputs": []
    },
    {
      "cell_type": "code",
      "source": [
        "#One hot encode y values for neural network. \n",
        "from tensorflow.keras.utils import to_categorical\n",
        "y_train_one_hot = to_categorical(y_train)\n",
        "y_test_one_hot = to_categorical(y_test)"
      ],
      "metadata": {
        "execution": {
          "iopub.status.busy": "2022-05-15T23:38:47.853579Z",
          "iopub.execute_input": "2022-05-15T23:38:47.854198Z",
          "iopub.status.idle": "2022-05-15T23:38:47.869799Z",
          "shell.execute_reply.started": "2022-05-15T23:38:47.854159Z",
          "shell.execute_reply": "2022-05-15T23:38:47.868614Z"
        },
        "trusted": true,
        "id": "AdO_28c3f2BM"
      },
      "execution_count": 14,
      "outputs": []
    },
    {
      "cell_type": "code",
      "source": [
        "y_test_one_hot"
      ],
      "metadata": {
        "execution": {
          "iopub.status.busy": "2022-05-15T23:38:47.871658Z",
          "iopub.execute_input": "2022-05-15T23:38:47.871933Z",
          "iopub.status.idle": "2022-05-15T23:38:47.886293Z",
          "shell.execute_reply.started": "2022-05-15T23:38:47.871901Z",
          "shell.execute_reply": "2022-05-15T23:38:47.885283Z"
        },
        "trusted": true,
        "colab": {
          "base_uri": "https://localhost:8080/"
        },
        "id": "MIURECsaf2BN",
        "outputId": "ca02d59a-85ad-43f6-c794-6775ace93cde"
      },
      "execution_count": 15,
      "outputs": [
        {
          "output_type": "execute_result",
          "data": {
            "text/plain": [
              "array([[1., 0., 0., 0.],\n",
              "       [0., 1., 0., 0.],\n",
              "       [0., 1., 0., 0.],\n",
              "       ...,\n",
              "       [0., 0., 1., 0.],\n",
              "       [0., 0., 0., 1.],\n",
              "       [0., 0., 0., 1.]], dtype=float32)"
            ]
          },
          "metadata": {},
          "execution_count": 15
        }
      ]
    },
    {
      "cell_type": "code",
      "source": [
        "#Load model wothout classifier/fully connected layers\n",
        "VGG_model = VGG16(weights='imagenet', include_top=False, input_shape=(32, 32, 3))\n",
        "\n",
        "#Make loaded layers as non-trainable. This is important as we want to work with pre-trained weights\n",
        "for layer in VGG_model.layers:\n",
        "\tlayer.trainable = False\n",
        "    \n",
        "VGG_model.summary()  #Trainable parameters will be 0"
      ],
      "metadata": {
        "execution": {
          "iopub.status.busy": "2022-05-15T23:38:47.887770Z",
          "iopub.execute_input": "2022-05-15T23:38:47.888691Z",
          "iopub.status.idle": "2022-05-15T23:38:50.158014Z",
          "shell.execute_reply.started": "2022-05-15T23:38:47.888650Z",
          "shell.execute_reply": "2022-05-15T23:38:50.155852Z"
        },
        "trusted": true,
        "colab": {
          "base_uri": "https://localhost:8080/"
        },
        "id": "PwSKUrXgf2BN",
        "outputId": "f1067837-4412-4439-a93f-057f5e679b99"
      },
      "execution_count": 16,
      "outputs": [
        {
          "output_type": "stream",
          "name": "stdout",
          "text": [
            "Downloading data from https://storage.googleapis.com/tensorflow/keras-applications/vgg16/vgg16_weights_tf_dim_ordering_tf_kernels_notop.h5\n",
            "58892288/58889256 [==============================] - 0s 0us/step\n",
            "58900480/58889256 [==============================] - 0s 0us/step\n",
            "Model: \"vgg16\"\n",
            "_________________________________________________________________\n",
            " Layer (type)                Output Shape              Param #   \n",
            "=================================================================\n",
            " input_1 (InputLayer)        [(None, 32, 32, 3)]       0         \n",
            "                                                                 \n",
            " block1_conv1 (Conv2D)       (None, 32, 32, 64)        1792      \n",
            "                                                                 \n",
            " block1_conv2 (Conv2D)       (None, 32, 32, 64)        36928     \n",
            "                                                                 \n",
            " block1_pool (MaxPooling2D)  (None, 16, 16, 64)        0         \n",
            "                                                                 \n",
            " block2_conv1 (Conv2D)       (None, 16, 16, 128)       73856     \n",
            "                                                                 \n",
            " block2_conv2 (Conv2D)       (None, 16, 16, 128)       147584    \n",
            "                                                                 \n",
            " block2_pool (MaxPooling2D)  (None, 8, 8, 128)         0         \n",
            "                                                                 \n",
            " block3_conv1 (Conv2D)       (None, 8, 8, 256)         295168    \n",
            "                                                                 \n",
            " block3_conv2 (Conv2D)       (None, 8, 8, 256)         590080    \n",
            "                                                                 \n",
            " block3_conv3 (Conv2D)       (None, 8, 8, 256)         590080    \n",
            "                                                                 \n",
            " block3_pool (MaxPooling2D)  (None, 4, 4, 256)         0         \n",
            "                                                                 \n",
            " block4_conv1 (Conv2D)       (None, 4, 4, 512)         1180160   \n",
            "                                                                 \n",
            " block4_conv2 (Conv2D)       (None, 4, 4, 512)         2359808   \n",
            "                                                                 \n",
            " block4_conv3 (Conv2D)       (None, 4, 4, 512)         2359808   \n",
            "                                                                 \n",
            " block4_pool (MaxPooling2D)  (None, 2, 2, 512)         0         \n",
            "                                                                 \n",
            " block5_conv1 (Conv2D)       (None, 2, 2, 512)         2359808   \n",
            "                                                                 \n",
            " block5_conv2 (Conv2D)       (None, 2, 2, 512)         2359808   \n",
            "                                                                 \n",
            " block5_conv3 (Conv2D)       (None, 2, 2, 512)         2359808   \n",
            "                                                                 \n",
            " block5_pool (MaxPooling2D)  (None, 1, 1, 512)         0         \n",
            "                                                                 \n",
            "=================================================================\n",
            "Total params: 14,714,688\n",
            "Trainable params: 0\n",
            "Non-trainable params: 14,714,688\n",
            "_________________________________________________________________\n"
          ]
        }
      ]
    },
    {
      "cell_type": "code",
      "source": [
        "#Now, let us use features from convolutional network for RF\n",
        "feature_extractor=VGG_model.predict(x_train)\n",
        "\n",
        "features = feature_extractor.reshape(feature_extractor.shape[0], -1)\n",
        "\n",
        "X_for_model= features #This is our X input to RF"
      ],
      "metadata": {
        "execution": {
          "iopub.status.busy": "2022-05-15T23:38:50.159671Z",
          "iopub.execute_input": "2022-05-15T23:38:50.159987Z",
          "iopub.status.idle": "2022-05-15T23:39:00.360965Z",
          "shell.execute_reply.started": "2022-05-15T23:38:50.159953Z",
          "shell.execute_reply": "2022-05-15T23:39:00.359930Z"
        },
        "trusted": true,
        "id": "-xgzw45sf2BN"
      },
      "execution_count": 17,
      "outputs": []
    },
    {
      "cell_type": "code",
      "source": [
        "from keras.utils.vis_utils import plot_model\n",
        "\n",
        "plot_model(VGG_model, to_file='model_plot.png', show_shapes=True, show_layer_names=True,dpi=50)"
      ],
      "metadata": {
        "execution": {
          "iopub.status.busy": "2022-05-15T23:39:00.362537Z",
          "iopub.execute_input": "2022-05-15T23:39:00.363071Z",
          "iopub.status.idle": "2022-05-15T23:39:01.708679Z",
          "shell.execute_reply.started": "2022-05-15T23:39:00.363023Z",
          "shell.execute_reply": "2022-05-15T23:39:01.707317Z"
        },
        "trusted": true,
        "colab": {
          "base_uri": "https://localhost:8080/",
          "height": 1000
        },
        "id": "q1r8Q1K7f2BO",
        "outputId": "f02a58ea-408b-48c5-99e6-95afa8fde30b"
      },
      "execution_count": 18,
      "outputs": [
        {
          "output_type": "execute_result",
          "data": {
            "text/plain": [
              "<IPython.core.display.Image object>"
            ],
            "image/png": "[encoded data removed]"
          },
          "metadata": {},
          "execution_count": 18
        }
      ]
    },
    {
      "cell_type": "code",
      "source": [
        "import visualkeras\n",
        "from PIL import ImageFont\n",
        "plt.figure(figsize=(2, 2))\n",
        "visualkeras.layered_view(VGG_model, legend=True,spacing=15,scale_xy = 10 , scale_z = 10, max_z = 50) "
      ],
      "metadata": {
        "execution": {
          "iopub.status.busy": "2022-05-16T00:06:32.946437Z",
          "iopub.execute_input": "2022-05-16T00:06:32.946789Z",
          "iopub.status.idle": "2022-05-16T00:06:33.030522Z",
          "shell.execute_reply.started": "2022-05-16T00:06:32.946752Z",
          "shell.execute_reply": "2022-05-16T00:06:33.029817Z"
        },
        "trusted": true,
        "colab": {
          "base_uri": "https://localhost:8080/",
          "height": 497
        },
        "id": "StzAfjLNf2BO",
        "outputId": "3b245bdf-db08-4a2d-c8b9-8824a6ef115e"
      },
      "execution_count": 19,
      "outputs": [
        {
          "output_type": "execute_result",
          "data": {
            "text/plain": [
              "<PIL.Image.Image image mode=RGBA size=1277x463 at 0x7FA533F27F90>"
            ],
            "image/png": "[encoded data removed]"
          },
          "metadata": {},
          "execution_count": 19
        },
        {
          "output_type": "display_data",
          "data": {
            "text/plain": [
              "<Figure size 144x144 with 0 Axes>"
            ]
          },
          "metadata": {}
        }
      ]
    },
    {
      "cell_type": "code",
      "source": [
        "from sklearn import metrics\n",
        "from sklearn.model_selection import cross_val_score\n",
        "\n",
        "def cross_val(model):\n",
        "    pred = cross_val_score(model, X_for_model, y_train)\n",
        "    return pred.mean()\n",
        "\n",
        "def print_evaluate(true, predicted):  \n",
        "    mae = metrics.mean_absolute_error(y_test, predicted)\n",
        "    mse = metrics.mean_squared_error(y_test, predicted)\n",
        "    rmse = np.sqrt(metrics.mean_squared_error(y_test, predicted))\n",
        "    r2_square = metrics.r2_score(y_test, predicted)\n",
        "    Accuracy= metrics.accuracy_score(y_test,predicted)\n",
        "\n",
        "    print('MAE:', mae)\n",
        "    print('MSE:', mse)\n",
        "    print('RMSE:', rmse)\n",
        "    print('R2 Square', r2_square)\n",
        "    print('Accuracy', Accuracy)\n",
        "\n",
        "\n",
        "\n",
        "    print('__________________________________')\n",
        "    \n",
        "def evaluate(true, predicted):\n",
        "    mae = metrics.mean_absolute_error(y_test, predicted)\n",
        "    mse = metrics.mean_squared_error(y_test, predicted)\n",
        "    rmse = np.sqrt(metrics.mean_squared_error(y_test, predicted))\n",
        "    r2_square = metrics.r2_score(y_test, predicted)\n",
        "    Accuracy= metrics.accuracy_score(y_test,predicted)\n",
        "\n",
        "    return mae, mse, rmse, r2_square, Accuracy"
      ],
      "metadata": {
        "execution": {
          "iopub.status.busy": "2022-05-15T23:39:01.710695Z",
          "iopub.execute_input": "2022-05-15T23:39:01.712114Z",
          "iopub.status.idle": "2022-05-15T23:39:01.726322Z",
          "shell.execute_reply.started": "2022-05-15T23:39:01.712045Z",
          "shell.execute_reply": "2022-05-15T23:39:01.724919Z"
        },
        "trusted": true,
        "id": "gyvNB_CAf2BO"
      },
      "execution_count": 20,
      "outputs": []
    },
    {
      "cell_type": "markdown",
      "source": [
        "# knn"
      ],
      "metadata": {
        "id": "b20WbWmjf2BP"
      }
    },
    {
      "cell_type": "code",
      "source": [
        "from sklearn.neighbors import KNeighborsClassifier\n",
        "knn = KNeighborsClassifier()\n",
        "knn_model = knn.fit(X_for_model, y_train)\n",
        "knn_model"
      ],
      "metadata": {
        "execution": {
          "iopub.status.busy": "2022-05-15T23:39:01.727969Z",
          "iopub.execute_input": "2022-05-15T23:39:01.728909Z",
          "iopub.status.idle": "2022-05-15T23:39:01.750069Z",
          "shell.execute_reply.started": "2022-05-15T23:39:01.728846Z",
          "shell.execute_reply": "2022-05-15T23:39:01.749350Z"
        },
        "trusted": true,
        "colab": {
          "base_uri": "https://localhost:8080/"
        },
        "id": "JUNRldMAf2BQ",
        "outputId": "613fa670-775e-413e-ad87-b844e38aafc0"
      },
      "execution_count": 21,
      "outputs": [
        {
          "output_type": "execute_result",
          "data": {
            "text/plain": [
              "KNeighborsClassifier()"
            ]
          },
          "metadata": {},
          "execution_count": 21
        }
      ]
    },
    {
      "cell_type": "code",
      "source": [
        "X_test_feature = VGG_model.predict(x_test)\n",
        "X_test_features = X_test_feature.reshape(X_test_feature.shape[0], -1)\n",
        "#Now predict using the trained RF model. \n",
        "prediction = knn_model.predict(X_test_features)"
      ],
      "metadata": {
        "execution": {
          "iopub.status.busy": "2022-05-15T23:39:01.751904Z",
          "iopub.execute_input": "2022-05-15T23:39:01.752270Z",
          "iopub.status.idle": "2022-05-15T23:39:12.297894Z",
          "shell.execute_reply.started": "2022-05-15T23:39:01.752222Z",
          "shell.execute_reply": "2022-05-15T23:39:12.296940Z"
        },
        "trusted": true,
        "id": "eyH-B71Ef2BQ"
      },
      "execution_count": 22,
      "outputs": []
    },
    {
      "cell_type": "code",
      "source": [
        "print('Test set evaluation:\\n_____________________________________')\n",
        "print_evaluate(y_test, prediction)"
      ],
      "metadata": {
        "execution": {
          "iopub.status.busy": "2022-05-15T23:39:12.299265Z",
          "iopub.execute_input": "2022-05-15T23:39:12.299760Z",
          "iopub.status.idle": "2022-05-15T23:39:12.310433Z",
          "shell.execute_reply.started": "2022-05-15T23:39:12.299719Z",
          "shell.execute_reply": "2022-05-15T23:39:12.309457Z"
        },
        "trusted": true,
        "colab": {
          "base_uri": "https://localhost:8080/"
        },
        "id": "GrHP4Cflf2BQ",
        "outputId": "f410c01e-9be7-44bc-f5ba-4ec530158dc2"
      },
      "execution_count": 23,
      "outputs": [
        {
          "output_type": "stream",
          "name": "stdout",
          "text": [
            "Test set evaluation:\n",
            "_____________________________________\n",
            "MAE: 0.4713333333333333\n",
            "MSE: 0.7593333333333333\n",
            "RMSE: 0.871397345264107\n",
            "R2 Square 0.3894542289005246\n",
            "Accuracy 0.6633333333333333\n",
            "__________________________________\n"
          ]
        }
      ]
    },
    {
      "cell_type": "code",
      "source": [
        "results_df = pd.DataFrame(data=[[\"KNeighborsClassifier\", *evaluate(y_test, prediction) ]], \n",
        "                          columns=['Model', 'MAE', 'MSE', 'RMSE', 'R2 Square','Accuracy'])\n",
        "results_df"
      ],
      "metadata": {
        "execution": {
          "iopub.status.busy": "2022-05-15T23:39:12.311703Z",
          "iopub.execute_input": "2022-05-15T23:39:12.312627Z",
          "iopub.status.idle": "2022-05-15T23:39:12.343783Z",
          "shell.execute_reply.started": "2022-05-15T23:39:12.312587Z",
          "shell.execute_reply": "2022-05-15T23:39:12.342873Z"
        },
        "trusted": true,
        "colab": {
          "base_uri": "https://localhost:8080/",
          "height": 81
        },
        "id": "BvLKZg2Nf2BQ",
        "outputId": "32fd5169-5001-4a84-fa91-9dc12afacf5f"
      },
      "execution_count": 24,
      "outputs": [
        {
          "output_type": "execute_result",
          "data": {
            "text/plain": [
              "                  Model       MAE       MSE      RMSE  R2 Square  Accuracy\n",
              "0  KNeighborsClassifier  0.471333  0.759333  0.871397   0.389454  0.663333"
            ],
            "text/html": [
              "\n",
              "  <div id=\"df-a3e8bf28-154d-456d-b5f1-4986270f7930\">\n",
              "    <div class=\"colab-df-container\">\n",
              "      <div>\n",
              "<style scoped>\n",
              "    .dataframe tbody tr th:only-of-type {\n",
              "        vertical-align: middle;\n",
              "    }\n",
              "\n",
              "    .dataframe tbody tr th {\n",
              "        vertical-align: top;\n",
              "    }\n",
              "\n",
              "    .dataframe thead th {\n",
              "        text-align: right;\n",
              "    }\n",
              "</style>\n",
              "<table border=\"1\" class=\"dataframe\">\n",
              "  <thead>\n",
              "    <tr style=\"text-align: right;\">\n",
              "      <th></th>\n",
              "      <th>Model</th>\n",
              "      <th>MAE</th>\n",
              "      <th>MSE</th>\n",
              "      <th>RMSE</th>\n",
              "      <th>R2 Square</th>\n",
              "      <th>Accuracy</th>\n",
              "    </tr>\n",
              "  </thead>\n",
              "  <tbody>\n",
              "    <tr>\n",
              "      <th>0</th>\n",
              "      <td>KNeighborsClassifier</td>\n",
              "      <td>0.471333</td>\n",
              "      <td>0.759333</td>\n",
              "      <td>0.871397</td>\n",
              "      <td>0.389454</td>\n",
              "      <td>0.663333</td>\n",
              "    </tr>\n",
              "  </tbody>\n",
              "</table>\n",
              "</div>\n",
              "      <button class=\"colab-df-convert\" onclick=\"convertToInteractive('df-a3e8bf28-154d-456d-b5f1-4986270f7930')\"\n",
              "              title=\"Convert this dataframe to an interactive table.\"\n",
              "              style=\"display:none;\">\n",
              "        \n",
              "  <svg xmlns=\"http://www.w3.org/2000/svg\" height=\"24px\"viewBox=\"0 0 24 24\"\n",
              "       width=\"24px\">\n",
              "    <path d=\"M0 0h24v24H0V0z\" fill=\"none\"/>\n",
              "    <path d=\"M18.56 5.44l.94 2.06.94-2.06 2.06-.94-2.06-.94-.94-2.06-.94 2.06-2.06.94zm-11 1L8.5 8.5l.94-2.06 2.06-.94-2.06-.94L8.5 2.5l-.94 2.06-2.06.94zm10 10l.94 2.06.94-2.06 2.06-.94-2.06-.94-.94-2.06-.94 2.06-2.06.94z\"/><path d=\"M17.41 7.96l-1.37-1.37c-.4-.4-.92-.59-1.43-.59-.52 0-1.04.2-1.43.59L10.3 9.45l-7.72 7.72c-.78.78-.78 2.05 0 2.83L4 21.41c.39.39.9.59 1.41.59.51 0 1.02-.2 1.41-.59l7.78-7.78 2.81-2.81c.8-.78.8-2.07 0-2.86zM5.41 20L4 18.59l7.72-7.72 1.47 1.35L5.41 20z\"/>\n",
              "  </svg>\n",
              "      </button>\n",
              "      \n",
              "  <style>\n",
              "    .colab-df-container {\n",
              "      display:flex;\n",
              "      flex-wrap:wrap;\n",
              "      gap: 12px;\n",
              "    }\n",
              "\n",
              "    .colab-df-convert {\n",
              "      background-color: #E8F0FE;\n",
              "      border: none;\n",
              "      border-radius: 50%;\n",
              "      cursor: pointer;\n",
              "      display: none;\n",
              "      fill: #1967D2;\n",
              "      height: 32px;\n",
              "      padding: 0 0 0 0;\n",
              "      width: 32px;\n",
              "    }\n",
              "\n",
              "    .colab-df-convert:hover {\n",
              "      background-color: #E2EBFA;\n",
              "      box-shadow: 0px 1px 2px rgba(60, 64, 67, 0.3), 0px 1px 3px 1px rgba(60, 64, 67, 0.15);\n",
              "      fill: #174EA6;\n",
              "    }\n",
              "\n",
              "    [theme=dark] .colab-df-convert {\n",
              "      background-color: #3B4455;\n",
              "      fill: #D2E3FC;\n",
              "    }\n",
              "\n",
              "    [theme=dark] .colab-df-convert:hover {\n",
              "      background-color: #434B5C;\n",
              "      box-shadow: 0px 1px 3px 1px rgba(0, 0, 0, 0.15);\n",
              "      filter: drop-shadow(0px 1px 2px rgba(0, 0, 0, 0.3));\n",
              "      fill: #FFFFFF;\n",
              "    }\n",
              "  </style>\n",
              "\n",
              "      <script>\n",
              "        const buttonEl =\n",
              "          document.querySelector('#df-a3e8bf28-154d-456d-b5f1-4986270f7930 button.colab-df-convert');\n",
              "        buttonEl.style.display =\n",
              "          google.colab.kernel.accessAllowed ? 'block' : 'none';\n",
              "\n",
              "        async function convertToInteractive(key) {\n",
              "          const element = document.querySelector('#df-a3e8bf28-154d-456d-b5f1-4986270f7930');\n",
              "          const dataTable =\n",
              "            await google.colab.kernel.invokeFunction('convertToInteractive',\n",
              "                                                     [key], {});\n",
              "          if (!dataTable) return;\n",
              "\n",
              "          const docLinkHtml = 'Like what you see? Visit the ' +\n",
              "            '<a target=\"_blank\" href=https://colab.research.google.com/notebooks/data_table.ipynb>data table notebook</a>'\n",
              "            + ' to learn more about interactive tables.';\n",
              "          element.innerHTML = '';\n",
              "          dataTable['output_type'] = 'display_data';\n",
              "          await google.colab.output.renderOutput(dataTable, element);\n",
              "          const docLink = document.createElement('div');\n",
              "          docLink.innerHTML = docLinkHtml;\n",
              "          element.appendChild(docLink);\n",
              "        }\n",
              "      </script>\n",
              "    </div>\n",
              "  </div>\n",
              "  "
            ]
          },
          "metadata": {},
          "execution_count": 24
        }
      ]
    },
    {
      "cell_type": "code",
      "source": [
        "print(classification_report(y_test,prediction))"
      ],
      "metadata": {
        "execution": {
          "iopub.status.busy": "2022-05-15T23:39:12.345252Z",
          "iopub.execute_input": "2022-05-15T23:39:12.345610Z",
          "iopub.status.idle": "2022-05-15T23:39:12.361061Z",
          "shell.execute_reply.started": "2022-05-15T23:39:12.345569Z",
          "shell.execute_reply": "2022-05-15T23:39:12.359973Z"
        },
        "trusted": true,
        "colab": {
          "base_uri": "https://localhost:8080/"
        },
        "id": "z-5hsaEsf2BR",
        "outputId": "4bed4b28-8a40-45c3-b16c-6a60ca44cad1"
      },
      "execution_count": 25,
      "outputs": [
        {
          "output_type": "stream",
          "name": "stdout",
          "text": [
            "              precision    recall  f1-score   support\n",
            "\n",
            "           0       0.55      0.60      0.58       348\n",
            "           1       0.61      0.61      0.61       381\n",
            "           2       0.56      0.55      0.56       372\n",
            "           3       0.93      0.87      0.90       399\n",
            "\n",
            "    accuracy                           0.66      1500\n",
            "   macro avg       0.66      0.66      0.66      1500\n",
            "weighted avg       0.67      0.66      0.67      1500\n",
            "\n"
          ]
        }
      ]
    },
    {
      "cell_type": "code",
      "source": [
        "from sklearn.metrics import confusion_matrix\n",
        "from matplotlib.pyplot import figure\n",
        "figure(figsize=(5, 4), dpi=80)\n",
        "cm = confusion_matrix(y_test,prediction)\n",
        "\n",
        "sns.heatmap(cm, annot=True,fmt=\"d\",cmap=\"YlGnBu\")"
      ],
      "metadata": {
        "execution": {
          "iopub.status.busy": "2022-05-15T23:39:12.362840Z",
          "iopub.execute_input": "2022-05-15T23:39:12.363371Z",
          "iopub.status.idle": "2022-05-15T23:39:12.666036Z",
          "shell.execute_reply.started": "2022-05-15T23:39:12.363324Z",
          "shell.execute_reply": "2022-05-15T23:39:12.664868Z"
        },
        "trusted": true,
        "colab": {
          "base_uri": "https://localhost:8080/",
          "height": 309
        },
        "id": "_IDgBGaef2BR",
        "outputId": "6d34d869-8334-47bd-a0ec-f9bd85336481"
      },
      "execution_count": 26,
      "outputs": [
        {
          "output_type": "execute_result",
          "data": {
            "text/plain": [
              "<matplotlib.axes._subplots.AxesSubplot at 0x7fa533fa39d0>"
            ]
          },
          "metadata": {},
          "execution_count": 26
        },
        {
          "output_type": "display_data",
          "data": {
            "text/plain": [
              "<Figure size 400x320 with 2 Axes>"
            ],
            "image/png": "[encoded data removed]"
          },
          "metadata": {
            "needs_background": "light"
          }
        }
      ]
    },
    {
      "cell_type": "markdown",
      "source": [
        "# SVC"
      ],
      "metadata": {
        "id": "4GsvaRKdf2BR"
      }
    },
    {
      "cell_type": "code",
      "source": [
        "from sklearn.svm import SVC\n",
        "svm_model = SVC(kernel = \"linear\")\n",
        "svm_model = svm_model.fit(X_for_model, y_train)\n",
        "svm_model"
      ],
      "metadata": {
        "execution": {
          "iopub.status.busy": "2022-05-15T23:40:42.020252Z",
          "iopub.execute_input": "2022-05-15T23:40:42.021003Z",
          "iopub.status.idle": "2022-05-15T23:40:42.381042Z",
          "shell.execute_reply.started": "2022-05-15T23:40:42.020963Z",
          "shell.execute_reply": "2022-05-15T23:40:42.379638Z"
        },
        "trusted": true,
        "colab": {
          "base_uri": "https://localhost:8080/"
        },
        "id": "akaWOnrFf2BS",
        "outputId": "6c2e4300-e47a-40ec-f573-14355b8d770c"
      },
      "execution_count": 27,
      "outputs": [
        {
          "output_type": "execute_result",
          "data": {
            "text/plain": [
              "SVC(kernel='linear')"
            ]
          },
          "metadata": {},
          "execution_count": 27
        }
      ]
    },
    {
      "cell_type": "code",
      "source": [
        "X_test_feature = VGG_model.predict(x_test)\n",
        "X_test_features = X_test_feature.reshape(X_test_feature.shape[0], -1)\n",
        "#Now predict using the trained RF model. \n",
        "prediction = svm_model.predict(X_test_features)"
      ],
      "metadata": {
        "execution": {
          "iopub.status.busy": "2022-05-15T23:41:03.714889Z",
          "iopub.execute_input": "2022-05-15T23:41:03.715212Z",
          "iopub.status.idle": "2022-05-15T23:41:14.285474Z",
          "shell.execute_reply.started": "2022-05-15T23:41:03.715180Z",
          "shell.execute_reply": "2022-05-15T23:41:14.284486Z"
        },
        "trusted": true,
        "id": "GinVbETPf2BS"
      },
      "execution_count": 28,
      "outputs": []
    },
    {
      "cell_type": "code",
      "source": [
        "print('Test set evaluation:\\n_____________________________________')\n",
        "print_evaluate(y_test, prediction)"
      ],
      "metadata": {
        "execution": {
          "iopub.status.busy": "2022-05-15T23:41:20.005839Z",
          "iopub.execute_input": "2022-05-15T23:41:20.006793Z",
          "iopub.status.idle": "2022-05-15T23:41:20.018825Z",
          "shell.execute_reply.started": "2022-05-15T23:41:20.006739Z",
          "shell.execute_reply": "2022-05-15T23:41:20.017254Z"
        },
        "trusted": true,
        "colab": {
          "base_uri": "https://localhost:8080/"
        },
        "id": "VDFTIY7Rf2BS",
        "outputId": "31c27a47-a5b1-49bf-89ce-6cbc3ff42c3c"
      },
      "execution_count": 29,
      "outputs": [
        {
          "output_type": "stream",
          "name": "stdout",
          "text": [
            "Test set evaluation:\n",
            "_____________________________________\n",
            "MAE: 0.37666666666666665\n",
            "MSE: 0.6126666666666667\n",
            "RMSE: 0.7827302643099133\n",
            "R2 Square 0.5073822970672363\n",
            "Accuracy 0.734\n",
            "__________________________________\n"
          ]
        }
      ]
    },
    {
      "cell_type": "code",
      "source": [
        "results_df_2 = pd.DataFrame(data=[[\"SVC\", *evaluate(y_test, prediction)]], \n",
        "                          columns=['Model', 'MAE', 'MSE', 'RMSE', 'R2 Square','Accuracy' ])\n",
        "results_df = results_df.append(results_df_2, ignore_index=True)\n",
        "results_df"
      ],
      "metadata": {
        "execution": {
          "iopub.status.busy": "2022-05-15T23:41:44.326015Z",
          "iopub.execute_input": "2022-05-15T23:41:44.326743Z",
          "iopub.status.idle": "2022-05-15T23:41:44.347306Z",
          "shell.execute_reply.started": "2022-05-15T23:41:44.326688Z",
          "shell.execute_reply": "2022-05-15T23:41:44.346315Z"
        },
        "trusted": true,
        "colab": {
          "base_uri": "https://localhost:8080/",
          "height": 112
        },
        "id": "CGUyuw3Nf2BS",
        "outputId": "da0e743d-f98f-4da0-940f-2e4bd985e9e5"
      },
      "execution_count": 30,
      "outputs": [
        {
          "output_type": "execute_result",
          "data": {
            "text/plain": [
              "                  Model       MAE       MSE      RMSE  R2 Square  Accuracy\n",
              "0  KNeighborsClassifier  0.471333  0.759333  0.871397   0.389454  0.663333\n",
              "1                   SVC  0.376667  0.612667  0.782730   0.507382  0.734000"
            ],
            "text/html": [
              "\n",
              "  <div id=\"df-3c104020-937c-4adc-b580-9d669f7de2fc\">\n",
              "    <div class=\"colab-df-container\">\n",
              "      <div>\n",
              "<style scoped>\n",
              "    .dataframe tbody tr th:only-of-type {\n",
              "        vertical-align: middle;\n",
              "    }\n",
              "\n",
              "    .dataframe tbody tr th {\n",
              "        vertical-align: top;\n",
              "    }\n",
              "\n",
              "    .dataframe thead th {\n",
              "        text-align: right;\n",
              "    }\n",
              "</style>\n",
              "<table border=\"1\" class=\"dataframe\">\n",
              "  <thead>\n",
              "    <tr style=\"text-align: right;\">\n",
              "      <th></th>\n",
              "      <th>Model</th>\n",
              "      <th>MAE</th>\n",
              "      <th>MSE</th>\n",
              "      <th>RMSE</th>\n",
              "      <th>R2 Square</th>\n",
              "      <th>Accuracy</th>\n",
              "    </tr>\n",
              "  </thead>\n",
              "  <tbody>\n",
              "    <tr>\n",
              "      <th>0</th>\n",
              "      <td>KNeighborsClassifier</td>\n",
              "      <td>0.471333</td>\n",
              "      <td>0.759333</td>\n",
              "      <td>0.871397</td>\n",
              "      <td>0.389454</td>\n",
              "      <td>0.663333</td>\n",
              "    </tr>\n",
              "    <tr>\n",
              "      <th>1</th>\n",
              "      <td>SVC</td>\n",
              "      <td>0.376667</td>\n",
              "      <td>0.612667</td>\n",
              "      <td>0.782730</td>\n",
              "      <td>0.507382</td>\n",
              "      <td>0.734000</td>\n",
              "    </tr>\n",
              "  </tbody>\n",
              "</table>\n",
              "</div>\n",
              "      <button class=\"colab-df-convert\" onclick=\"convertToInteractive('df-3c104020-937c-4adc-b580-9d669f7de2fc')\"\n",
              "              title=\"Convert this dataframe to an interactive table.\"\n",
              "              style=\"display:none;\">\n",
              "        \n",
              "  <svg xmlns=\"http://www.w3.org/2000/svg\" height=\"24px\"viewBox=\"0 0 24 24\"\n",
              "       width=\"24px\">\n",
              "    <path d=\"M0 0h24v24H0V0z\" fill=\"none\"/>\n",
              "    <path d=\"M18.56 5.44l.94 2.06.94-2.06 2.06-.94-2.06-.94-.94-2.06-.94 2.06-2.06.94zm-11 1L8.5 8.5l.94-2.06 2.06-.94-2.06-.94L8.5 2.5l-.94 2.06-2.06.94zm10 10l.94 2.06.94-2.06 2.06-.94-2.06-.94-.94-2.06-.94 2.06-2.06.94z\"/><path d=\"M17.41 7.96l-1.37-1.37c-.4-.4-.92-.59-1.43-.59-.52 0-1.04.2-1.43.59L10.3 9.45l-7.72 7.72c-.78.78-.78 2.05 0 2.83L4 21.41c.39.39.9.59 1.41.59.51 0 1.02-.2 1.41-.59l7.78-7.78 2.81-2.81c.8-.78.8-2.07 0-2.86zM5.41 20L4 18.59l7.72-7.72 1.47 1.35L5.41 20z\"/>\n",
              "  </svg>\n",
              "      </button>\n",
              "      \n",
              "  <style>\n",
              "    .colab-df-container {\n",
              "      display:flex;\n",
              "      flex-wrap:wrap;\n",
              "      gap: 12px;\n",
              "    }\n",
              "\n",
              "    .colab-df-convert {\n",
              "      background-color: #E8F0FE;\n",
              "      border: none;\n",
              "      border-radius: 50%;\n",
              "      cursor: pointer;\n",
              "      display: none;\n",
              "      fill: #1967D2;\n",
              "      height: 32px;\n",
              "      padding: 0 0 0 0;\n",
              "      width: 32px;\n",
              "    }\n",
              "\n",
              "    .colab-df-convert:hover {\n",
              "      background-color: #E2EBFA;\n",
              "      box-shadow: 0px 1px 2px rgba(60, 64, 67, 0.3), 0px 1px 3px 1px rgba(60, 64, 67, 0.15);\n",
              "      fill: #174EA6;\n",
              "    }\n",
              "\n",
              "    [theme=dark] .colab-df-convert {\n",
              "      background-color: #3B4455;\n",
              "      fill: #D2E3FC;\n",
              "    }\n",
              "\n",
              "    [theme=dark] .colab-df-convert:hover {\n",
              "      background-color: #434B5C;\n",
              "      box-shadow: 0px 1px 3px 1px rgba(0, 0, 0, 0.15);\n",
              "      filter: drop-shadow(0px 1px 2px rgba(0, 0, 0, 0.3));\n",
              "      fill: #FFFFFF;\n",
              "    }\n",
              "  </style>\n",
              "\n",
              "      <script>\n",
              "        const buttonEl =\n",
              "          document.querySelector('#df-3c104020-937c-4adc-b580-9d669f7de2fc button.colab-df-convert');\n",
              "        buttonEl.style.display =\n",
              "          google.colab.kernel.accessAllowed ? 'block' : 'none';\n",
              "\n",
              "        async function convertToInteractive(key) {\n",
              "          const element = document.querySelector('#df-3c104020-937c-4adc-b580-9d669f7de2fc');\n",
              "          const dataTable =\n",
              "            await google.colab.kernel.invokeFunction('convertToInteractive',\n",
              "                                                     [key], {});\n",
              "          if (!dataTable) return;\n",
              "\n",
              "          const docLinkHtml = 'Like what you see? Visit the ' +\n",
              "            '<a target=\"_blank\" href=https://colab.research.google.com/notebooks/data_table.ipynb>data table notebook</a>'\n",
              "            + ' to learn more about interactive tables.';\n",
              "          element.innerHTML = '';\n",
              "          dataTable['output_type'] = 'display_data';\n",
              "          await google.colab.output.renderOutput(dataTable, element);\n",
              "          const docLink = document.createElement('div');\n",
              "          docLink.innerHTML = docLinkHtml;\n",
              "          element.appendChild(docLink);\n",
              "        }\n",
              "      </script>\n",
              "    </div>\n",
              "  </div>\n",
              "  "
            ]
          },
          "metadata": {},
          "execution_count": 30
        }
      ]
    },
    {
      "cell_type": "code",
      "source": [
        "print(classification_report(y_test,prediction))"
      ],
      "metadata": {
        "execution": {
          "iopub.status.busy": "2022-05-15T23:42:05.523577Z",
          "iopub.execute_input": "2022-05-15T23:42:05.524261Z",
          "iopub.status.idle": "2022-05-15T23:42:05.538599Z",
          "shell.execute_reply.started": "2022-05-15T23:42:05.524205Z",
          "shell.execute_reply": "2022-05-15T23:42:05.537469Z"
        },
        "trusted": true,
        "colab": {
          "base_uri": "https://localhost:8080/"
        },
        "id": "lUL48_owf2BS",
        "outputId": "1c83cd8a-0e13-46b4-9645-798ce717f174"
      },
      "execution_count": 31,
      "outputs": [
        {
          "output_type": "stream",
          "name": "stdout",
          "text": [
            "              precision    recall  f1-score   support\n",
            "\n",
            "           0       0.59      0.64      0.62       348\n",
            "           1       0.71      0.70      0.71       381\n",
            "           2       0.68      0.64      0.66       372\n",
            "           3       0.94      0.93      0.94       399\n",
            "\n",
            "    accuracy                           0.73      1500\n",
            "   macro avg       0.73      0.73      0.73      1500\n",
            "weighted avg       0.74      0.73      0.73      1500\n",
            "\n"
          ]
        }
      ]
    },
    {
      "cell_type": "code",
      "source": [
        "from sklearn.metrics import confusion_matrix\n",
        "from matplotlib.pyplot import figure\n",
        "figure(figsize=(5, 4), dpi=80)\n",
        "cm = confusion_matrix(y_test,prediction)\n",
        "\n",
        "sns.heatmap(cm, annot=True,fmt=\"d\",cmap=\"YlGnBu\")"
      ],
      "metadata": {
        "execution": {
          "iopub.status.busy": "2022-05-15T23:42:14.180825Z",
          "iopub.execute_input": "2022-05-15T23:42:14.181152Z",
          "iopub.status.idle": "2022-05-15T23:42:14.761190Z",
          "shell.execute_reply.started": "2022-05-15T23:42:14.181121Z",
          "shell.execute_reply": "2022-05-15T23:42:14.760291Z"
        },
        "trusted": true,
        "colab": {
          "base_uri": "https://localhost:8080/",
          "height": 309
        },
        "id": "pOEQpHmvf2BT",
        "outputId": "4c84a1fd-7d64-4763-de5f-c677178def51"
      },
      "execution_count": 32,
      "outputs": [
        {
          "output_type": "execute_result",
          "data": {
            "text/plain": [
              "<matplotlib.axes._subplots.AxesSubplot at 0x7fa538ae9150>"
            ]
          },
          "metadata": {},
          "execution_count": 32
        },
        {
          "output_type": "display_data",
          "data": {
            "text/plain": [
              "<Figure size 400x320 with 2 Axes>"
            ],
            "image/png": "[encoded data removed]"
          },
          "metadata": {
            "needs_background": "light"
          }
        }
      ]
    },
    {
      "cell_type": "markdown",
      "source": [
        "# RBF SVC"
      ],
      "metadata": {
        "id": "iVczXOaPf2BT"
      }
    },
    {
      "cell_type": "code",
      "source": [
        "from sklearn.svm import SVC\n",
        "\n",
        "svc_model = SVC(kernel = \"rbf\").fit(X_for_model, y_train)\n",
        "svc_model = svc_model.fit(X_for_model, y_train)\n",
        "svc_model"
      ],
      "metadata": {
        "execution": {
          "iopub.status.busy": "2022-05-15T23:43:15.338763Z",
          "iopub.execute_input": "2022-05-15T23:43:15.339089Z",
          "iopub.status.idle": "2022-05-15T23:43:16.241154Z",
          "shell.execute_reply.started": "2022-05-15T23:43:15.339056Z",
          "shell.execute_reply": "2022-05-15T23:43:16.240288Z"
        },
        "trusted": true,
        "colab": {
          "base_uri": "https://localhost:8080/"
        },
        "id": "xVn0Nb3Yf2BT",
        "outputId": "be0ac4b3-3455-4077-8343-b349b1e98e81"
      },
      "execution_count": 33,
      "outputs": [
        {
          "output_type": "execute_result",
          "data": {
            "text/plain": [
              "SVC()"
            ]
          },
          "metadata": {},
          "execution_count": 33
        }
      ]
    },
    {
      "cell_type": "code",
      "source": [
        "X_test_feature = VGG_model.predict(x_test)\n",
        "X_test_features = X_test_feature.reshape(X_test_feature.shape[0], -1)\n",
        "#Now predict using the trained RF model. \n",
        "prediction = svc_model.predict(X_test_features)"
      ],
      "metadata": {
        "execution": {
          "iopub.status.busy": "2022-05-15T23:43:33.172114Z",
          "iopub.execute_input": "2022-05-15T23:43:33.172457Z",
          "iopub.status.idle": "2022-05-15T23:43:44.740572Z",
          "shell.execute_reply.started": "2022-05-15T23:43:33.172422Z",
          "shell.execute_reply": "2022-05-15T23:43:44.739457Z"
        },
        "trusted": true,
        "id": "h3LSdnuCf2BT"
      },
      "execution_count": 34,
      "outputs": []
    },
    {
      "cell_type": "code",
      "source": [
        "print('Test set evaluation:\\n_____________________________________')\n",
        "print_evaluate(y_test, prediction)"
      ],
      "metadata": {
        "execution": {
          "iopub.status.busy": "2022-05-15T23:43:44.742519Z",
          "iopub.execute_input": "2022-05-15T23:43:44.742761Z",
          "iopub.status.idle": "2022-05-15T23:43:44.751229Z",
          "shell.execute_reply.started": "2022-05-15T23:43:44.742733Z",
          "shell.execute_reply": "2022-05-15T23:43:44.750288Z"
        },
        "trusted": true,
        "colab": {
          "base_uri": "https://localhost:8080/"
        },
        "id": "e3k63z-uf2BT",
        "outputId": "12615d26-b7c4-401f-c5df-bf0290c374e2"
      },
      "execution_count": 35,
      "outputs": [
        {
          "output_type": "stream",
          "name": "stdout",
          "text": [
            "Test set evaluation:\n",
            "_____________________________________\n",
            "MAE: 0.43266666666666664\n",
            "MSE: 0.7086666666666667\n",
            "RMSE: 0.8418234177466595\n",
            "R2 Square 0.4301930160853886\n",
            "Accuracy 0.6946666666666667\n",
            "__________________________________\n"
          ]
        }
      ]
    },
    {
      "cell_type": "code",
      "source": [
        "results_df_2 = pd.DataFrame(data=[[\"RBF SVC\", *evaluate(y_test, prediction)]], \n",
        "                          columns=['Model', 'MAE', 'MSE', 'RMSE', 'R2 Square','Accuracy' ])\n",
        "results_df = results_df.append(results_df_2, ignore_index=True)\n",
        "results_df"
      ],
      "metadata": {
        "execution": {
          "iopub.status.busy": "2022-05-15T23:43:58.399656Z",
          "iopub.execute_input": "2022-05-15T23:43:58.400087Z",
          "iopub.status.idle": "2022-05-15T23:43:58.420877Z",
          "shell.execute_reply.started": "2022-05-15T23:43:58.400055Z",
          "shell.execute_reply": "2022-05-15T23:43:58.419964Z"
        },
        "trusted": true,
        "colab": {
          "base_uri": "https://localhost:8080/",
          "height": 144
        },
        "id": "5SOcLh7-f2BT",
        "outputId": "1d9759dd-8342-485f-de4d-688f3a6716d6"
      },
      "execution_count": 36,
      "outputs": [
        {
          "output_type": "execute_result",
          "data": {
            "text/plain": [
              "                  Model       MAE       MSE      RMSE  R2 Square  Accuracy\n",
              "0  KNeighborsClassifier  0.471333  0.759333  0.871397   0.389454  0.663333\n",
              "1                   SVC  0.376667  0.612667  0.782730   0.507382  0.734000\n",
              "2               RBF SVC  0.432667  0.708667  0.841823   0.430193  0.694667"
            ],
            "text/html": [
              "\n",
              "  <div id=\"df-585acd39-b18f-40a0-aa00-a3d986612d2d\">\n",
              "    <div class=\"colab-df-container\">\n",
              "      <div>\n",
              "<style scoped>\n",
              "    .dataframe tbody tr th:only-of-type {\n",
              "        vertical-align: middle;\n",
              "    }\n",
              "\n",
              "    .dataframe tbody tr th {\n",
              "        vertical-align: top;\n",
              "    }\n",
              "\n",
              "    .dataframe thead th {\n",
              "        text-align: right;\n",
              "    }\n",
              "</style>\n",
              "<table border=\"1\" class=\"dataframe\">\n",
              "  <thead>\n",
              "    <tr style=\"text-align: right;\">\n",
              "      <th></th>\n",
              "      <th>Model</th>\n",
              "      <th>MAE</th>\n",
              "      <th>MSE</th>\n",
              "      <th>RMSE</th>\n",
              "      <th>R2 Square</th>\n",
              "      <th>Accuracy</th>\n",
              "    </tr>\n",
              "  </thead>\n",
              "  <tbody>\n",
              "    <tr>\n",
              "      <th>0</th>\n",
              "      <td>KNeighborsClassifier</td>\n",
              "      <td>0.471333</td>\n",
              "      <td>0.759333</td>\n",
              "      <td>0.871397</td>\n",
              "      <td>0.389454</td>\n",
              "      <td>0.663333</td>\n",
              "    </tr>\n",
              "    <tr>\n",
              "      <th>1</th>\n",
              "      <td>SVC</td>\n",
              "      <td>0.376667</td>\n",
              "      <td>0.612667</td>\n",
              "      <td>0.782730</td>\n",
              "      <td>0.507382</td>\n",
              "      <td>0.734000</td>\n",
              "    </tr>\n",
              "    <tr>\n",
              "      <th>2</th>\n",
              "      <td>RBF SVC</td>\n",
              "      <td>0.432667</td>\n",
              "      <td>0.708667</td>\n",
              "      <td>0.841823</td>\n",
              "      <td>0.430193</td>\n",
              "      <td>0.694667</td>\n",
              "    </tr>\n",
              "  </tbody>\n",
              "</table>\n",
              "</div>\n",
              "      <button class=\"colab-df-convert\" onclick=\"convertToInteractive('df-585acd39-b18f-40a0-aa00-a3d986612d2d')\"\n",
              "              title=\"Convert this dataframe to an interactive table.\"\n",
              "              style=\"display:none;\">\n",
              "        \n",
              "  <svg xmlns=\"http://www.w3.org/2000/svg\" height=\"24px\"viewBox=\"0 0 24 24\"\n",
              "       width=\"24px\">\n",
              "    <path d=\"M0 0h24v24H0V0z\" fill=\"none\"/>\n",
              "    <path d=\"M18.56 5.44l.94 2.06.94-2.06 2.06-.94-2.06-.94-.94-2.06-.94 2.06-2.06.94zm-11 1L8.5 8.5l.94-2.06 2.06-.94-2.06-.94L8.5 2.5l-.94 2.06-2.06.94zm10 10l.94 2.06.94-2.06 2.06-.94-2.06-.94-.94-2.06-.94 2.06-2.06.94z\"/><path d=\"M17.41 7.96l-1.37-1.37c-.4-.4-.92-.59-1.43-.59-.52 0-1.04.2-1.43.59L10.3 9.45l-7.72 7.72c-.78.78-.78 2.05 0 2.83L4 21.41c.39.39.9.59 1.41.59.51 0 1.02-.2 1.41-.59l7.78-7.78 2.81-2.81c.8-.78.8-2.07 0-2.86zM5.41 20L4 18.59l7.72-7.72 1.47 1.35L5.41 20z\"/>\n",
              "  </svg>\n",
              "      </button>\n",
              "      \n",
              "  <style>\n",
              "    .colab-df-container {\n",
              "      display:flex;\n",
              "      flex-wrap:wrap;\n",
              "      gap: 12px;\n",
              "    }\n",
              "\n",
              "    .colab-df-convert {\n",
              "      background-color: #E8F0FE;\n",
              "      border: none;\n",
              "      border-radius: 50%;\n",
              "      cursor: pointer;\n",
              "      display: none;\n",
              "      fill: #1967D2;\n",
              "      height: 32px;\n",
              "      padding: 0 0 0 0;\n",
              "      width: 32px;\n",
              "    }\n",
              "\n",
              "    .colab-df-convert:hover {\n",
              "      background-color: #E2EBFA;\n",
              "      box-shadow: 0px 1px 2px rgba(60, 64, 67, 0.3), 0px 1px 3px 1px rgba(60, 64, 67, 0.15);\n",
              "      fill: #174EA6;\n",
              "    }\n",
              "\n",
              "    [theme=dark] .colab-df-convert {\n",
              "      background-color: #3B4455;\n",
              "      fill: #D2E3FC;\n",
              "    }\n",
              "\n",
              "    [theme=dark] .colab-df-convert:hover {\n",
              "      background-color: #434B5C;\n",
              "      box-shadow: 0px 1px 3px 1px rgba(0, 0, 0, 0.15);\n",
              "      filter: drop-shadow(0px 1px 2px rgba(0, 0, 0, 0.3));\n",
              "      fill: #FFFFFF;\n",
              "    }\n",
              "  </style>\n",
              "\n",
              "      <script>\n",
              "        const buttonEl =\n",
              "          document.querySelector('#df-585acd39-b18f-40a0-aa00-a3d986612d2d button.colab-df-convert');\n",
              "        buttonEl.style.display =\n",
              "          google.colab.kernel.accessAllowed ? 'block' : 'none';\n",
              "\n",
              "        async function convertToInteractive(key) {\n",
              "          const element = document.querySelector('#df-585acd39-b18f-40a0-aa00-a3d986612d2d');\n",
              "          const dataTable =\n",
              "            await google.colab.kernel.invokeFunction('convertToInteractive',\n",
              "                                                     [key], {});\n",
              "          if (!dataTable) return;\n",
              "\n",
              "          const docLinkHtml = 'Like what you see? Visit the ' +\n",
              "            '<a target=\"_blank\" href=https://colab.research.google.com/notebooks/data_table.ipynb>data table notebook</a>'\n",
              "            + ' to learn more about interactive tables.';\n",
              "          element.innerHTML = '';\n",
              "          dataTable['output_type'] = 'display_data';\n",
              "          await google.colab.output.renderOutput(dataTable, element);\n",
              "          const docLink = document.createElement('div');\n",
              "          docLink.innerHTML = docLinkHtml;\n",
              "          element.appendChild(docLink);\n",
              "        }\n",
              "      </script>\n",
              "    </div>\n",
              "  </div>\n",
              "  "
            ]
          },
          "metadata": {},
          "execution_count": 36
        }
      ]
    },
    {
      "cell_type": "code",
      "source": [
        "print(classification_report(y_test,prediction))"
      ],
      "metadata": {
        "execution": {
          "iopub.status.busy": "2022-05-15T23:44:12.308832Z",
          "iopub.execute_input": "2022-05-15T23:44:12.309405Z",
          "iopub.status.idle": "2022-05-15T23:44:12.321349Z",
          "shell.execute_reply.started": "2022-05-15T23:44:12.309353Z",
          "shell.execute_reply": "2022-05-15T23:44:12.320695Z"
        },
        "trusted": true,
        "colab": {
          "base_uri": "https://localhost:8080/"
        },
        "id": "Y9ENwcQYf2BU",
        "outputId": "87009a77-67af-4973-8e22-a69992b06c7b"
      },
      "execution_count": 37,
      "outputs": [
        {
          "output_type": "stream",
          "name": "stdout",
          "text": [
            "              precision    recall  f1-score   support\n",
            "\n",
            "           0       0.56      0.56      0.56       348\n",
            "           1       0.67      0.70      0.68       381\n",
            "           2       0.62      0.58      0.60       372\n",
            "           3       0.90      0.92      0.91       399\n",
            "\n",
            "    accuracy                           0.69      1500\n",
            "   macro avg       0.69      0.69      0.69      1500\n",
            "weighted avg       0.69      0.69      0.69      1500\n",
            "\n"
          ]
        }
      ]
    },
    {
      "cell_type": "code",
      "source": [
        "from sklearn.metrics import confusion_matrix\n",
        "from matplotlib.pyplot import figure\n",
        "figure(figsize=(5, 4), dpi=80)\n",
        "cm = confusion_matrix(y_test,prediction)\n",
        "\n",
        "sns.heatmap(cm, annot=True,fmt=\"d\",cmap=\"YlGnBu\")"
      ],
      "metadata": {
        "execution": {
          "iopub.status.busy": "2022-05-15T23:44:21.382759Z",
          "iopub.execute_input": "2022-05-15T23:44:21.383364Z",
          "iopub.status.idle": "2022-05-15T23:44:21.656261Z",
          "shell.execute_reply.started": "2022-05-15T23:44:21.383330Z",
          "shell.execute_reply": "2022-05-15T23:44:21.655349Z"
        },
        "trusted": true,
        "colab": {
          "base_uri": "https://localhost:8080/",
          "height": 309
        },
        "id": "rhCyOXS2f2BU",
        "outputId": "348fdf82-74da-4fe5-af96-a9a49cf3eb5f"
      },
      "execution_count": 38,
      "outputs": [
        {
          "output_type": "execute_result",
          "data": {
            "text/plain": [
              "<matplotlib.axes._subplots.AxesSubplot at 0x7fa52f019fd0>"
            ]
          },
          "metadata": {},
          "execution_count": 38
        },
        {
          "output_type": "display_data",
          "data": {
            "text/plain": [
              "<Figure size 400x320 with 2 Axes>"
            ],
            "image/png": "[encoded data removed]"
          },
          "metadata": {
            "needs_background": "light"
          }
        }
      ]
    },
    {
      "cell_type": "markdown",
      "source": [
        "# DecisionTreeClassifier"
      ],
      "metadata": {
        "id": "nGaVLl7-f2BU"
      }
    },
    {
      "cell_type": "code",
      "source": [
        "from sklearn.tree import DecisionTreeClassifier\n",
        "cart_model = DecisionTreeClassifier()\n",
        "cart_model = cart_model.fit(X_for_model, y_train)\n",
        "cart_model"
      ],
      "metadata": {
        "execution": {
          "iopub.status.busy": "2022-05-15T23:44:47.509229Z",
          "iopub.execute_input": "2022-05-15T23:44:47.509560Z",
          "iopub.status.idle": "2022-05-15T23:44:47.801680Z",
          "shell.execute_reply.started": "2022-05-15T23:44:47.509528Z",
          "shell.execute_reply": "2022-05-15T23:44:47.800754Z"
        },
        "trusted": true,
        "colab": {
          "base_uri": "https://localhost:8080/"
        },
        "id": "HmFQbakzf2BU",
        "outputId": "b9e589f3-20c7-4a5f-8172-fbe81502dcdc"
      },
      "execution_count": 39,
      "outputs": [
        {
          "output_type": "execute_result",
          "data": {
            "text/plain": [
              "DecisionTreeClassifier()"
            ]
          },
          "metadata": {},
          "execution_count": 39
        }
      ]
    },
    {
      "cell_type": "code",
      "source": [
        "X_test_feature = VGG_model.predict(x_test)\n",
        "X_test_features = X_test_feature.reshape(X_test_feature.shape[0], -1)\n",
        "#Now predict using the trained RF model. \n",
        "prediction = cart_model.predict(X_test_features)"
      ],
      "metadata": {
        "execution": {
          "iopub.status.busy": "2022-05-15T23:44:58.702994Z",
          "iopub.execute_input": "2022-05-15T23:44:58.703496Z",
          "iopub.status.idle": "2022-05-15T23:45:08.759712Z",
          "shell.execute_reply.started": "2022-05-15T23:44:58.703449Z",
          "shell.execute_reply": "2022-05-15T23:45:08.758522Z"
        },
        "trusted": true,
        "id": "MQkJ4Li2f2BU"
      },
      "execution_count": 40,
      "outputs": []
    },
    {
      "cell_type": "code",
      "source": [
        "print('Test set evaluation:\\n_____________________________________')\n",
        "print_evaluate(y_test, prediction)"
      ],
      "metadata": {
        "execution": {
          "iopub.status.busy": "2022-05-15T23:45:08.761481Z",
          "iopub.execute_input": "2022-05-15T23:45:08.761759Z",
          "iopub.status.idle": "2022-05-15T23:45:08.772303Z",
          "shell.execute_reply.started": "2022-05-15T23:45:08.761728Z",
          "shell.execute_reply": "2022-05-15T23:45:08.771400Z"
        },
        "trusted": true,
        "colab": {
          "base_uri": "https://localhost:8080/"
        },
        "id": "aKuYWeT5f2BU",
        "outputId": "4db6b488-a105-4b0d-c89b-9d2d75374808"
      },
      "execution_count": 41,
      "outputs": [
        {
          "output_type": "stream",
          "name": "stdout",
          "text": [
            "Test set evaluation:\n",
            "_____________________________________\n",
            "MAE: 0.626\n",
            "MSE: 1.0913333333333333\n",
            "RMSE: 1.044669006591721\n",
            "R2 Square 0.12250796550496812\n",
            "Accuracy 0.5773333333333334\n",
            "__________________________________\n"
          ]
        }
      ]
    },
    {
      "cell_type": "code",
      "source": [
        "results_df_2 = pd.DataFrame(data=[[\"DecisionTreeClassifier\", *evaluate(y_test, prediction)]], \n",
        "                          columns=['Model', 'MAE', 'MSE', 'RMSE', 'R2 Square','Accuracy' ])\n",
        "results_df = results_df.append(results_df_2, ignore_index=True)\n",
        "results_df"
      ],
      "metadata": {
        "execution": {
          "iopub.status.busy": "2022-05-15T23:45:27.014808Z",
          "iopub.execute_input": "2022-05-15T23:45:27.015154Z",
          "iopub.status.idle": "2022-05-15T23:45:27.038911Z",
          "shell.execute_reply.started": "2022-05-15T23:45:27.015121Z",
          "shell.execute_reply": "2022-05-15T23:45:27.037665Z"
        },
        "trusted": true,
        "colab": {
          "base_uri": "https://localhost:8080/",
          "height": 175
        },
        "id": "DNyNwj3Ef2BU",
        "outputId": "6febb8ba-86a4-403d-db31-9f8966ef36c5"
      },
      "execution_count": 42,
      "outputs": [
        {
          "output_type": "execute_result",
          "data": {
            "text/plain": [
              "                    Model       MAE       MSE      RMSE  R2 Square  Accuracy\n",
              "0    KNeighborsClassifier  0.471333  0.759333  0.871397   0.389454  0.663333\n",
              "1                     SVC  0.376667  0.612667  0.782730   0.507382  0.734000\n",
              "2                 RBF SVC  0.432667  0.708667  0.841823   0.430193  0.694667\n",
              "3  DecisionTreeClassifier  0.626000  1.091333  1.044669   0.122508  0.577333"
            ],
            "text/html": [
              "\n",
              "  <div id=\"df-23936d69-4a86-417c-abbe-ec0bcd751f91\">\n",
              "    <div class=\"colab-df-container\">\n",
              "      <div>\n",
              "<style scoped>\n",
              "    .dataframe tbody tr th:only-of-type {\n",
              "        vertical-align: middle;\n",
              "    }\n",
              "\n",
              "    .dataframe tbody tr th {\n",
              "        vertical-align: top;\n",
              "    }\n",
              "\n",
              "    .dataframe thead th {\n",
              "        text-align: right;\n",
              "    }\n",
              "</style>\n",
              "<table border=\"1\" class=\"dataframe\">\n",
              "  <thead>\n",
              "    <tr style=\"text-align: right;\">\n",
              "      <th></th>\n",
              "      <th>Model</th>\n",
              "      <th>MAE</th>\n",
              "      <th>MSE</th>\n",
              "      <th>RMSE</th>\n",
              "      <th>R2 Square</th>\n",
              "      <th>Accuracy</th>\n",
              "    </tr>\n",
              "  </thead>\n",
              "  <tbody>\n",
              "    <tr>\n",
              "      <th>0</th>\n",
              "      <td>KNeighborsClassifier</td>\n",
              "      <td>0.471333</td>\n",
              "      <td>0.759333</td>\n",
              "      <td>0.871397</td>\n",
              "      <td>0.389454</td>\n",
              "      <td>0.663333</td>\n",
              "    </tr>\n",
              "    <tr>\n",
              "      <th>1</th>\n",
              "      <td>SVC</td>\n",
              "      <td>0.376667</td>\n",
              "      <td>0.612667</td>\n",
              "      <td>0.782730</td>\n",
              "      <td>0.507382</td>\n",
              "      <td>0.734000</td>\n",
              "    </tr>\n",
              "    <tr>\n",
              "      <th>2</th>\n",
              "      <td>RBF SVC</td>\n",
              "      <td>0.432667</td>\n",
              "      <td>0.708667</td>\n",
              "      <td>0.841823</td>\n",
              "      <td>0.430193</td>\n",
              "      <td>0.694667</td>\n",
              "    </tr>\n",
              "    <tr>\n",
              "      <th>3</th>\n",
              "      <td>DecisionTreeClassifier</td>\n",
              "      <td>0.626000</td>\n",
              "      <td>1.091333</td>\n",
              "      <td>1.044669</td>\n",
              "      <td>0.122508</td>\n",
              "      <td>0.577333</td>\n",
              "    </tr>\n",
              "  </tbody>\n",
              "</table>\n",
              "</div>\n",
              "      <button class=\"colab-df-convert\" onclick=\"convertToInteractive('df-23936d69-4a86-417c-abbe-ec0bcd751f91')\"\n",
              "              title=\"Convert this dataframe to an interactive table.\"\n",
              "              style=\"display:none;\">\n",
              "        \n",
              "  <svg xmlns=\"http://www.w3.org/2000/svg\" height=\"24px\"viewBox=\"0 0 24 24\"\n",
              "       width=\"24px\">\n",
              "    <path d=\"M0 0h24v24H0V0z\" fill=\"none\"/>\n",
              "    <path d=\"M18.56 5.44l.94 2.06.94-2.06 2.06-.94-2.06-.94-.94-2.06-.94 2.06-2.06.94zm-11 1L8.5 8.5l.94-2.06 2.06-.94-2.06-.94L8.5 2.5l-.94 2.06-2.06.94zm10 10l.94 2.06.94-2.06 2.06-.94-2.06-.94-.94-2.06-.94 2.06-2.06.94z\"/><path d=\"M17.41 7.96l-1.37-1.37c-.4-.4-.92-.59-1.43-.59-.52 0-1.04.2-1.43.59L10.3 9.45l-7.72 7.72c-.78.78-.78 2.05 0 2.83L4 21.41c.39.39.9.59 1.41.59.51 0 1.02-.2 1.41-.59l7.78-7.78 2.81-2.81c.8-.78.8-2.07 0-2.86zM5.41 20L4 18.59l7.72-7.72 1.47 1.35L5.41 20z\"/>\n",
              "  </svg>\n",
              "      </button>\n",
              "      \n",
              "  <style>\n",
              "    .colab-df-container {\n",
              "      display:flex;\n",
              "      flex-wrap:wrap;\n",
              "      gap: 12px;\n",
              "    }\n",
              "\n",
              "    .colab-df-convert {\n",
              "      background-color: #E8F0FE;\n",
              "      border: none;\n",
              "      border-radius: 50%;\n",
              "      cursor: pointer;\n",
              "      display: none;\n",
              "      fill: #1967D2;\n",
              "      height: 32px;\n",
              "      padding: 0 0 0 0;\n",
              "      width: 32px;\n",
              "    }\n",
              "\n",
              "    .colab-df-convert:hover {\n",
              "      background-color: #E2EBFA;\n",
              "      box-shadow: 0px 1px 2px rgba(60, 64, 67, 0.3), 0px 1px 3px 1px rgba(60, 64, 67, 0.15);\n",
              "      fill: #174EA6;\n",
              "    }\n",
              "\n",
              "    [theme=dark] .colab-df-convert {\n",
              "      background-color: #3B4455;\n",
              "      fill: #D2E3FC;\n",
              "    }\n",
              "\n",
              "    [theme=dark] .colab-df-convert:hover {\n",
              "      background-color: #434B5C;\n",
              "      box-shadow: 0px 1px 3px 1px rgba(0, 0, 0, 0.15);\n",
              "      filter: drop-shadow(0px 1px 2px rgba(0, 0, 0, 0.3));\n",
              "      fill: #FFFFFF;\n",
              "    }\n",
              "  </style>\n",
              "\n",
              "      <script>\n",
              "        const buttonEl =\n",
              "          document.querySelector('#df-23936d69-4a86-417c-abbe-ec0bcd751f91 button.colab-df-convert');\n",
              "        buttonEl.style.display =\n",
              "          google.colab.kernel.accessAllowed ? 'block' : 'none';\n",
              "\n",
              "        async function convertToInteractive(key) {\n",
              "          const element = document.querySelector('#df-23936d69-4a86-417c-abbe-ec0bcd751f91');\n",
              "          const dataTable =\n",
              "            await google.colab.kernel.invokeFunction('convertToInteractive',\n",
              "                                                     [key], {});\n",
              "          if (!dataTable) return;\n",
              "\n",
              "          const docLinkHtml = 'Like what you see? Visit the ' +\n",
              "            '<a target=\"_blank\" href=https://colab.research.google.com/notebooks/data_table.ipynb>data table notebook</a>'\n",
              "            + ' to learn more about interactive tables.';\n",
              "          element.innerHTML = '';\n",
              "          dataTable['output_type'] = 'display_data';\n",
              "          await google.colab.output.renderOutput(dataTable, element);\n",
              "          const docLink = document.createElement('div');\n",
              "          docLink.innerHTML = docLinkHtml;\n",
              "          element.appendChild(docLink);\n",
              "        }\n",
              "      </script>\n",
              "    </div>\n",
              "  </div>\n",
              "  "
            ]
          },
          "metadata": {},
          "execution_count": 42
        }
      ]
    },
    {
      "cell_type": "code",
      "source": [
        "print(classification_report(y_test,prediction))"
      ],
      "metadata": {
        "execution": {
          "iopub.status.busy": "2022-05-15T23:45:37.574283Z",
          "iopub.execute_input": "2022-05-15T23:45:37.575131Z",
          "iopub.status.idle": "2022-05-15T23:45:37.588467Z",
          "shell.execute_reply.started": "2022-05-15T23:45:37.575084Z",
          "shell.execute_reply": "2022-05-15T23:45:37.587159Z"
        },
        "trusted": true,
        "colab": {
          "base_uri": "https://localhost:8080/"
        },
        "id": "LTrsSdrJf2BV",
        "outputId": "f2a4e6d2-e9dd-4a75-c0b9-d8ceffb03c02"
      },
      "execution_count": 43,
      "outputs": [
        {
          "output_type": "stream",
          "name": "stdout",
          "text": [
            "              precision    recall  f1-score   support\n",
            "\n",
            "           0       0.45      0.50      0.48       348\n",
            "           1       0.54      0.50      0.52       381\n",
            "           2       0.49      0.47      0.48       372\n",
            "           3       0.80      0.82      0.81       399\n",
            "\n",
            "    accuracy                           0.58      1500\n",
            "   macro avg       0.57      0.57      0.57      1500\n",
            "weighted avg       0.58      0.58      0.58      1500\n",
            "\n"
          ]
        }
      ]
    },
    {
      "cell_type": "code",
      "source": [
        "from sklearn.metrics import confusion_matrix\n",
        "from matplotlib.pyplot import figure\n",
        "figure(figsize=(5, 4), dpi=80)\n",
        "cm = confusion_matrix(y_test,prediction)\n",
        "\n",
        "sns.heatmap(cm, annot=True,fmt=\"d\",cmap=\"YlGnBu\")"
      ],
      "metadata": {
        "execution": {
          "iopub.status.busy": "2022-05-15T23:46:08.737676Z",
          "iopub.execute_input": "2022-05-15T23:46:08.738651Z",
          "iopub.status.idle": "2022-05-15T23:46:09.030955Z",
          "shell.execute_reply.started": "2022-05-15T23:46:08.738609Z",
          "shell.execute_reply": "2022-05-15T23:46:09.029872Z"
        },
        "trusted": true,
        "colab": {
          "base_uri": "https://localhost:8080/",
          "height": 309
        },
        "id": "1UZQHwLef2BV",
        "outputId": "2eb569db-e8ea-400e-a30e-1291967e243c"
      },
      "execution_count": 44,
      "outputs": [
        {
          "output_type": "execute_result",
          "data": {
            "text/plain": [
              "<matplotlib.axes._subplots.AxesSubplot at 0x7fa533f47610>"
            ]
          },
          "metadata": {},
          "execution_count": 44
        },
        {
          "output_type": "display_data",
          "data": {
            "text/plain": [
              "<Figure size 400x320 with 2 Axes>"
            ],
            "image/png": "[encoded data removed]"
          },
          "metadata": {
            "needs_background": "light"
          }
        }
      ]
    },
    {
      "cell_type": "markdown",
      "source": [
        "# Lojistik regresyon"
      ],
      "metadata": {
        "id": "52FuwRakf2BV"
      }
    },
    {
      "cell_type": "code",
      "source": [
        "from sklearn.linear_model import LogisticRegression\n",
        "lr_model = LogisticRegression()\n",
        "lr_model = lr_model.fit(X_for_model, y_train)\n",
        "lr_model"
      ],
      "metadata": {
        "execution": {
          "iopub.status.busy": "2022-05-15T23:48:22.538883Z",
          "iopub.execute_input": "2022-05-15T23:48:22.539248Z",
          "iopub.status.idle": "2022-05-15T23:48:23.075126Z",
          "shell.execute_reply.started": "2022-05-15T23:48:22.539197Z",
          "shell.execute_reply": "2022-05-15T23:48:23.074057Z"
        },
        "trusted": true,
        "colab": {
          "base_uri": "https://localhost:8080/"
        },
        "id": "AweR31Hhf2BV",
        "outputId": "d89ee4db-df18-47ff-dd67-cb24459cba90"
      },
      "execution_count": 45,
      "outputs": [
        {
          "output_type": "stream",
          "name": "stderr",
          "text": [
            "/usr/local/lib/python3.7/dist-packages/sklearn/linear_model/_logistic.py:818: ConvergenceWarning: lbfgs failed to converge (status=1):\n",
            "STOP: TOTAL NO. of ITERATIONS REACHED LIMIT.\n",
            "\n",
            "Increase the number of iterations (max_iter) or scale the data as shown in:\n",
            "    https://scikit-learn.org/stable/modules/preprocessing.html\n",
            "Please also refer to the documentation for alternative solver options:\n",
            "    https://scikit-learn.org/stable/modules/linear_model.html#logistic-regression\n",
            "  extra_warning_msg=_LOGISTIC_SOLVER_CONVERGENCE_MSG,\n"
          ]
        },
        {
          "output_type": "execute_result",
          "data": {
            "text/plain": [
              "LogisticRegression()"
            ]
          },
          "metadata": {},
          "execution_count": 45
        }
      ]
    },
    {
      "cell_type": "code",
      "source": [
        "X_test_feature = VGG_model.predict(x_test)\n",
        "X_test_features = X_test_feature.reshape(X_test_feature.shape[0], -1)\n",
        "#Now predict using the trained RF model. \n",
        "prediction = lr_model.predict(X_test_features)"
      ],
      "metadata": {
        "execution": {
          "iopub.status.busy": "2022-05-15T23:48:46.104416Z",
          "iopub.execute_input": "2022-05-15T23:48:46.104738Z",
          "iopub.status.idle": "2022-05-15T23:48:55.936444Z",
          "shell.execute_reply.started": "2022-05-15T23:48:46.104708Z",
          "shell.execute_reply": "2022-05-15T23:48:55.935170Z"
        },
        "trusted": true,
        "id": "HRHBCVr7f2BV"
      },
      "execution_count": 46,
      "outputs": []
    },
    {
      "cell_type": "code",
      "source": [
        "print('Test set evaluation:\\n_____________________________________')\n",
        "print_evaluate(y_test, prediction)"
      ],
      "metadata": {
        "execution": {
          "iopub.status.busy": "2022-05-15T23:48:56.256955Z",
          "iopub.execute_input": "2022-05-15T23:48:56.257290Z",
          "iopub.status.idle": "2022-05-15T23:48:56.266436Z",
          "shell.execute_reply.started": "2022-05-15T23:48:56.257259Z",
          "shell.execute_reply": "2022-05-15T23:48:56.265437Z"
        },
        "trusted": true,
        "colab": {
          "base_uri": "https://localhost:8080/"
        },
        "id": "wa2O6IDnf2BV",
        "outputId": "2cb6388c-e2e8-4007-8946-4337cf422a8e"
      },
      "execution_count": 47,
      "outputs": [
        {
          "output_type": "stream",
          "name": "stdout",
          "text": [
            "Test set evaluation:\n",
            "_____________________________________\n",
            "MAE: 0.4013333333333333\n",
            "MSE: 0.6466666666666666\n",
            "RMSE: 0.8041558721209878\n",
            "R2 Square 0.48004442671949854\n",
            "Accuracy 0.7153333333333334\n",
            "__________________________________\n"
          ]
        }
      ]
    },
    {
      "cell_type": "code",
      "source": [
        "results_df_2 = pd.DataFrame(data=[[\"LogisticRegression\", *evaluate(y_test, prediction)]], \n",
        "                          columns=['Model', 'MAE', 'MSE', 'RMSE', 'R2 Square','Accuracy' ])\n",
        "results_df = results_df.append(results_df_2, ignore_index=True)\n",
        "results_df"
      ],
      "metadata": {
        "execution": {
          "iopub.status.busy": "2022-05-15T23:49:11.936315Z",
          "iopub.execute_input": "2022-05-15T23:49:11.937583Z",
          "iopub.status.idle": "2022-05-15T23:49:11.959922Z",
          "shell.execute_reply.started": "2022-05-15T23:49:11.937527Z",
          "shell.execute_reply": "2022-05-15T23:49:11.958928Z"
        },
        "trusted": true,
        "colab": {
          "base_uri": "https://localhost:8080/",
          "height": 206
        },
        "id": "Azw8HUF9f2BV",
        "outputId": "dfa11678-1d52-4891-aec0-b1632fdac5ad"
      },
      "execution_count": 48,
      "outputs": [
        {
          "output_type": "execute_result",
          "data": {
            "text/plain": [
              "                    Model       MAE       MSE      RMSE  R2 Square  Accuracy\n",
              "0    KNeighborsClassifier  0.471333  0.759333  0.871397   0.389454  0.663333\n",
              "1                     SVC  0.376667  0.612667  0.782730   0.507382  0.734000\n",
              "2                 RBF SVC  0.432667  0.708667  0.841823   0.430193  0.694667\n",
              "3  DecisionTreeClassifier  0.626000  1.091333  1.044669   0.122508  0.577333\n",
              "4      LogisticRegression  0.401333  0.646667  0.804156   0.480044  0.715333"
            ],
            "text/html": [
              "\n",
              "  <div id=\"df-c24270ef-e957-46ea-8058-c3369e0d8389\">\n",
              "    <div class=\"colab-df-container\">\n",
              "      <div>\n",
              "<style scoped>\n",
              "    .dataframe tbody tr th:only-of-type {\n",
              "        vertical-align: middle;\n",
              "    }\n",
              "\n",
              "    .dataframe tbody tr th {\n",
              "        vertical-align: top;\n",
              "    }\n",
              "\n",
              "    .dataframe thead th {\n",
              "        text-align: right;\n",
              "    }\n",
              "</style>\n",
              "<table border=\"1\" class=\"dataframe\">\n",
              "  <thead>\n",
              "    <tr style=\"text-align: right;\">\n",
              "      <th></th>\n",
              "      <th>Model</th>\n",
              "      <th>MAE</th>\n",
              "      <th>MSE</th>\n",
              "      <th>RMSE</th>\n",
              "      <th>R2 Square</th>\n",
              "      <th>Accuracy</th>\n",
              "    </tr>\n",
              "  </thead>\n",
              "  <tbody>\n",
              "    <tr>\n",
              "      <th>0</th>\n",
              "      <td>KNeighborsClassifier</td>\n",
              "      <td>0.471333</td>\n",
              "      <td>0.759333</td>\n",
              "      <td>0.871397</td>\n",
              "      <td>0.389454</td>\n",
              "      <td>0.663333</td>\n",
              "    </tr>\n",
              "    <tr>\n",
              "      <th>1</th>\n",
              "      <td>SVC</td>\n",
              "      <td>0.376667</td>\n",
              "      <td>0.612667</td>\n",
              "      <td>0.782730</td>\n",
              "      <td>0.507382</td>\n",
              "      <td>0.734000</td>\n",
              "    </tr>\n",
              "    <tr>\n",
              "      <th>2</th>\n",
              "      <td>RBF SVC</td>\n",
              "      <td>0.432667</td>\n",
              "      <td>0.708667</td>\n",
              "      <td>0.841823</td>\n",
              "      <td>0.430193</td>\n",
              "      <td>0.694667</td>\n",
              "    </tr>\n",
              "    <tr>\n",
              "      <th>3</th>\n",
              "      <td>DecisionTreeClassifier</td>\n",
              "      <td>0.626000</td>\n",
              "      <td>1.091333</td>\n",
              "      <td>1.044669</td>\n",
              "      <td>0.122508</td>\n",
              "      <td>0.577333</td>\n",
              "    </tr>\n",
              "    <tr>\n",
              "      <th>4</th>\n",
              "      <td>LogisticRegression</td>\n",
              "      <td>0.401333</td>\n",
              "      <td>0.646667</td>\n",
              "      <td>0.804156</td>\n",
              "      <td>0.480044</td>\n",
              "      <td>0.715333</td>\n",
              "    </tr>\n",
              "  </tbody>\n",
              "</table>\n",
              "</div>\n",
              "      <button class=\"colab-df-convert\" onclick=\"convertToInteractive('df-c24270ef-e957-46ea-8058-c3369e0d8389')\"\n",
              "              title=\"Convert this dataframe to an interactive table.\"\n",
              "              style=\"display:none;\">\n",
              "        \n",
              "  <svg xmlns=\"http://www.w3.org/2000/svg\" height=\"24px\"viewBox=\"0 0 24 24\"\n",
              "       width=\"24px\">\n",
              "    <path d=\"M0 0h24v24H0V0z\" fill=\"none\"/>\n",
              "    <path d=\"M18.56 5.44l.94 2.06.94-2.06 2.06-.94-2.06-.94-.94-2.06-.94 2.06-2.06.94zm-11 1L8.5 8.5l.94-2.06 2.06-.94-2.06-.94L8.5 2.5l-.94 2.06-2.06.94zm10 10l.94 2.06.94-2.06 2.06-.94-2.06-.94-.94-2.06-.94 2.06-2.06.94z\"/><path d=\"M17.41 7.96l-1.37-1.37c-.4-.4-.92-.59-1.43-.59-.52 0-1.04.2-1.43.59L10.3 9.45l-7.72 7.72c-.78.78-.78 2.05 0 2.83L4 21.41c.39.39.9.59 1.41.59.51 0 1.02-.2 1.41-.59l7.78-7.78 2.81-2.81c.8-.78.8-2.07 0-2.86zM5.41 20L4 18.59l7.72-7.72 1.47 1.35L5.41 20z\"/>\n",
              "  </svg>\n",
              "      </button>\n",
              "      \n",
              "  <style>\n",
              "    .colab-df-container {\n",
              "      display:flex;\n",
              "      flex-wrap:wrap;\n",
              "      gap: 12px;\n",
              "    }\n",
              "\n",
              "    .colab-df-convert {\n",
              "      background-color: #E8F0FE;\n",
              "      border: none;\n",
              "      border-radius: 50%;\n",
              "      cursor: pointer;\n",
              "      display: none;\n",
              "      fill: #1967D2;\n",
              "      height: 32px;\n",
              "      padding: 0 0 0 0;\n",
              "      width: 32px;\n",
              "    }\n",
              "\n",
              "    .colab-df-convert:hover {\n",
              "      background-color: #E2EBFA;\n",
              "      box-shadow: 0px 1px 2px rgba(60, 64, 67, 0.3), 0px 1px 3px 1px rgba(60, 64, 67, 0.15);\n",
              "      fill: #174EA6;\n",
              "    }\n",
              "\n",
              "    [theme=dark] .colab-df-convert {\n",
              "      background-color: #3B4455;\n",
              "      fill: #D2E3FC;\n",
              "    }\n",
              "\n",
              "    [theme=dark] .colab-df-convert:hover {\n",
              "      background-color: #434B5C;\n",
              "      box-shadow: 0px 1px 3px 1px rgba(0, 0, 0, 0.15);\n",
              "      filter: drop-shadow(0px 1px 2px rgba(0, 0, 0, 0.3));\n",
              "      fill: #FFFFFF;\n",
              "    }\n",
              "  </style>\n",
              "\n",
              "      <script>\n",
              "        const buttonEl =\n",
              "          document.querySelector('#df-c24270ef-e957-46ea-8058-c3369e0d8389 button.colab-df-convert');\n",
              "        buttonEl.style.display =\n",
              "          google.colab.kernel.accessAllowed ? 'block' : 'none';\n",
              "\n",
              "        async function convertToInteractive(key) {\n",
              "          const element = document.querySelector('#df-c24270ef-e957-46ea-8058-c3369e0d8389');\n",
              "          const dataTable =\n",
              "            await google.colab.kernel.invokeFunction('convertToInteractive',\n",
              "                                                     [key], {});\n",
              "          if (!dataTable) return;\n",
              "\n",
              "          const docLinkHtml = 'Like what you see? Visit the ' +\n",
              "            '<a target=\"_blank\" href=https://colab.research.google.com/notebooks/data_table.ipynb>data table notebook</a>'\n",
              "            + ' to learn more about interactive tables.';\n",
              "          element.innerHTML = '';\n",
              "          dataTable['output_type'] = 'display_data';\n",
              "          await google.colab.output.renderOutput(dataTable, element);\n",
              "          const docLink = document.createElement('div');\n",
              "          docLink.innerHTML = docLinkHtml;\n",
              "          element.appendChild(docLink);\n",
              "        }\n",
              "      </script>\n",
              "    </div>\n",
              "  </div>\n",
              "  "
            ]
          },
          "metadata": {},
          "execution_count": 48
        }
      ]
    },
    {
      "cell_type": "code",
      "source": [
        "print(classification_report(y_test,prediction))"
      ],
      "metadata": {
        "execution": {
          "iopub.status.busy": "2022-05-15T23:49:26.389801Z",
          "iopub.execute_input": "2022-05-15T23:49:26.390225Z",
          "iopub.status.idle": "2022-05-15T23:49:26.405577Z",
          "shell.execute_reply.started": "2022-05-15T23:49:26.390188Z",
          "shell.execute_reply": "2022-05-15T23:49:26.404136Z"
        },
        "trusted": true,
        "colab": {
          "base_uri": "https://localhost:8080/"
        },
        "id": "NVRJ5YAmf2BV",
        "outputId": "2c651c7f-c581-4d14-fc75-888d3d9d99c0"
      },
      "execution_count": 49,
      "outputs": [
        {
          "output_type": "stream",
          "name": "stdout",
          "text": [
            "              precision    recall  f1-score   support\n",
            "\n",
            "           0       0.61      0.59      0.60       348\n",
            "           1       0.68      0.70      0.69       381\n",
            "           2       0.63      0.61      0.62       372\n",
            "           3       0.91      0.93      0.92       399\n",
            "\n",
            "    accuracy                           0.72      1500\n",
            "   macro avg       0.71      0.71      0.71      1500\n",
            "weighted avg       0.71      0.72      0.71      1500\n",
            "\n"
          ]
        }
      ]
    },
    {
      "cell_type": "code",
      "source": [
        "from sklearn.metrics import confusion_matrix\n",
        "from matplotlib.pyplot import figure\n",
        "figure(figsize=(5, 4), dpi=80)\n",
        "cm = confusion_matrix(y_test,prediction)\n",
        "\n",
        "sns.heatmap(cm, annot=True,fmt=\"d\",cmap=\"YlGnBu\")"
      ],
      "metadata": {
        "execution": {
          "iopub.status.busy": "2022-05-15T23:49:34.934410Z",
          "iopub.execute_input": "2022-05-15T23:49:34.934746Z",
          "iopub.status.idle": "2022-05-15T23:49:35.226542Z",
          "shell.execute_reply.started": "2022-05-15T23:49:34.934713Z",
          "shell.execute_reply": "2022-05-15T23:49:35.225613Z"
        },
        "trusted": true,
        "colab": {
          "base_uri": "https://localhost:8080/",
          "height": 309
        },
        "id": "qQq_qzfAf2BV",
        "outputId": "7d6f9313-bb8a-4087-8280-7b07ce8c1b36"
      },
      "execution_count": 50,
      "outputs": [
        {
          "output_type": "execute_result",
          "data": {
            "text/plain": [
              "<matplotlib.axes._subplots.AxesSubplot at 0x7fa533f0e390>"
            ]
          },
          "metadata": {},
          "execution_count": 50
        },
        {
          "output_type": "display_data",
          "data": {
            "text/plain": [
              "<Figure size 400x320 with 2 Axes>"
            ],
            "image/png": "[encoded data removed]"
          },
          "metadata": {
            "needs_background": "light"
          }
        }
      ]
    },
    {
      "cell_type": "markdown",
      "source": [
        "# SGDClassifier"
      ],
      "metadata": {
        "id": "uYTYzJn9f2BW"
      }
    },
    {
      "cell_type": "code",
      "source": [
        "from sklearn.linear_model import SGDClassifier\n",
        "\n",
        "SGD_model = SGDClassifier()\n",
        "SGD_model = SGD_model.fit(X_for_model, y_train)\n",
        "SGD_model"
      ],
      "metadata": {
        "execution": {
          "iopub.status.busy": "2022-05-15T23:53:33.928150Z",
          "iopub.execute_input": "2022-05-15T23:53:33.928508Z",
          "iopub.status.idle": "2022-05-15T23:53:34.457340Z",
          "shell.execute_reply.started": "2022-05-15T23:53:33.928472Z",
          "shell.execute_reply": "2022-05-15T23:53:34.456207Z"
        },
        "trusted": true,
        "colab": {
          "base_uri": "https://localhost:8080/"
        },
        "id": "6dRDZDASf2BW",
        "outputId": "84536638-7d4e-4fed-f6fe-71d569968f17"
      },
      "execution_count": 51,
      "outputs": [
        {
          "output_type": "execute_result",
          "data": {
            "text/plain": [
              "SGDClassifier()"
            ]
          },
          "metadata": {},
          "execution_count": 51
        }
      ]
    },
    {
      "cell_type": "code",
      "source": [
        "X_test_feature = VGG_model.predict(x_test)\n",
        "X_test_features = X_test_feature.reshape(X_test_feature.shape[0], -1)\n",
        "#Now predict using the trained RF model. \n",
        "prediction = SGD_model.predict(X_test_features)"
      ],
      "metadata": {
        "execution": {
          "iopub.status.busy": "2022-05-15T23:53:47.337581Z",
          "iopub.execute_input": "2022-05-15T23:53:47.337865Z",
          "iopub.status.idle": "2022-05-15T23:53:57.972765Z",
          "shell.execute_reply.started": "2022-05-15T23:53:47.337837Z",
          "shell.execute_reply": "2022-05-15T23:53:57.971362Z"
        },
        "trusted": true,
        "id": "Lu6Hhiglf2BW"
      },
      "execution_count": 52,
      "outputs": []
    },
    {
      "cell_type": "code",
      "source": [
        "print('Test set evaluation:\\n_____________________________________')\n",
        "print_evaluate(y_test, prediction)"
      ],
      "metadata": {
        "execution": {
          "iopub.status.busy": "2022-05-15T23:54:10.296137Z",
          "iopub.execute_input": "2022-05-15T23:54:10.297103Z",
          "iopub.status.idle": "2022-05-15T23:54:10.307837Z",
          "shell.execute_reply.started": "2022-05-15T23:54:10.297043Z",
          "shell.execute_reply": "2022-05-15T23:54:10.306887Z"
        },
        "trusted": true,
        "colab": {
          "base_uri": "https://localhost:8080/"
        },
        "id": "cgzkFBjRf2BW",
        "outputId": "f751dd79-b731-4eb0-f75e-8a7147ee8d89"
      },
      "execution_count": 53,
      "outputs": [
        {
          "output_type": "stream",
          "name": "stdout",
          "text": [
            "Test set evaluation:\n",
            "_____________________________________\n",
            "MAE: 0.424\n",
            "MSE: 0.604\n",
            "RMSE: 0.7771743691090179\n",
            "R2 Square 0.5143507738225419\n",
            "Accuracy 0.6593333333333333\n",
            "__________________________________\n"
          ]
        }
      ]
    },
    {
      "cell_type": "code",
      "source": [
        "results_df_2 = pd.DataFrame(data=[[\"SGDClassifier\", *evaluate(y_test, prediction)]], \n",
        "                          columns=['Model', 'MAE', 'MSE', 'RMSE', 'R2 Square','Accuracy' ])\n",
        "results_df = results_df.append(results_df_2, ignore_index=True)\n",
        "results_df"
      ],
      "metadata": {
        "execution": {
          "iopub.status.busy": "2022-05-15T23:54:30.843588Z",
          "iopub.execute_input": "2022-05-15T23:54:30.843951Z",
          "iopub.status.idle": "2022-05-15T23:54:30.866237Z",
          "shell.execute_reply.started": "2022-05-15T23:54:30.843914Z",
          "shell.execute_reply": "2022-05-15T23:54:30.865474Z"
        },
        "trusted": true,
        "colab": {
          "base_uri": "https://localhost:8080/",
          "height": 238
        },
        "id": "zRTMyQG2f2BW",
        "outputId": "ef68f4a4-2216-4d18-8d98-c22e750d5279"
      },
      "execution_count": 54,
      "outputs": [
        {
          "output_type": "execute_result",
          "data": {
            "text/plain": [
              "                    Model       MAE       MSE      RMSE  R2 Square  Accuracy\n",
              "0    KNeighborsClassifier  0.471333  0.759333  0.871397   0.389454  0.663333\n",
              "1                     SVC  0.376667  0.612667  0.782730   0.507382  0.734000\n",
              "2                 RBF SVC  0.432667  0.708667  0.841823   0.430193  0.694667\n",
              "3  DecisionTreeClassifier  0.626000  1.091333  1.044669   0.122508  0.577333\n",
              "4      LogisticRegression  0.401333  0.646667  0.804156   0.480044  0.715333\n",
              "5           SGDClassifier  0.424000  0.604000  0.777174   0.514351  0.659333"
            ],
            "text/html": [
              "\n",
              "  <div id=\"df-5a1bac79-e547-498c-a655-a2092bc4ffda\">\n",
              "    <div class=\"colab-df-container\">\n",
              "      <div>\n",
              "<style scoped>\n",
              "    .dataframe tbody tr th:only-of-type {\n",
              "        vertical-align: middle;\n",
              "    }\n",
              "\n",
              "    .dataframe tbody tr th {\n",
              "        vertical-align: top;\n",
              "    }\n",
              "\n",
              "    .dataframe thead th {\n",
              "        text-align: right;\n",
              "    }\n",
              "</style>\n",
              "<table border=\"1\" class=\"dataframe\">\n",
              "  <thead>\n",
              "    <tr style=\"text-align: right;\">\n",
              "      <th></th>\n",
              "      <th>Model</th>\n",
              "      <th>MAE</th>\n",
              "      <th>MSE</th>\n",
              "      <th>RMSE</th>\n",
              "      <th>R2 Square</th>\n",
              "      <th>Accuracy</th>\n",
              "    </tr>\n",
              "  </thead>\n",
              "  <tbody>\n",
              "    <tr>\n",
              "      <th>0</th>\n",
              "      <td>KNeighborsClassifier</td>\n",
              "      <td>0.471333</td>\n",
              "      <td>0.759333</td>\n",
              "      <td>0.871397</td>\n",
              "      <td>0.389454</td>\n",
              "      <td>0.663333</td>\n",
              "    </tr>\n",
              "    <tr>\n",
              "      <th>1</th>\n",
              "      <td>SVC</td>\n",
              "      <td>0.376667</td>\n",
              "      <td>0.612667</td>\n",
              "      <td>0.782730</td>\n",
              "      <td>0.507382</td>\n",
              "      <td>0.734000</td>\n",
              "    </tr>\n",
              "    <tr>\n",
              "      <th>2</th>\n",
              "      <td>RBF SVC</td>\n",
              "      <td>0.432667</td>\n",
              "      <td>0.708667</td>\n",
              "      <td>0.841823</td>\n",
              "      <td>0.430193</td>\n",
              "      <td>0.694667</td>\n",
              "    </tr>\n",
              "    <tr>\n",
              "      <th>3</th>\n",
              "      <td>DecisionTreeClassifier</td>\n",
              "      <td>0.626000</td>\n",
              "      <td>1.091333</td>\n",
              "      <td>1.044669</td>\n",
              "      <td>0.122508</td>\n",
              "      <td>0.577333</td>\n",
              "    </tr>\n",
              "    <tr>\n",
              "      <th>4</th>\n",
              "      <td>LogisticRegression</td>\n",
              "      <td>0.401333</td>\n",
              "      <td>0.646667</td>\n",
              "      <td>0.804156</td>\n",
              "      <td>0.480044</td>\n",
              "      <td>0.715333</td>\n",
              "    </tr>\n",
              "    <tr>\n",
              "      <th>5</th>\n",
              "      <td>SGDClassifier</td>\n",
              "      <td>0.424000</td>\n",
              "      <td>0.604000</td>\n",
              "      <td>0.777174</td>\n",
              "      <td>0.514351</td>\n",
              "      <td>0.659333</td>\n",
              "    </tr>\n",
              "  </tbody>\n",
              "</table>\n",
              "</div>\n",
              "      <button class=\"colab-df-convert\" onclick=\"convertToInteractive('df-5a1bac79-e547-498c-a655-a2092bc4ffda')\"\n",
              "              title=\"Convert this dataframe to an interactive table.\"\n",
              "              style=\"display:none;\">\n",
              "        \n",
              "  <svg xmlns=\"http://www.w3.org/2000/svg\" height=\"24px\"viewBox=\"0 0 24 24\"\n",
              "       width=\"24px\">\n",
              "    <path d=\"M0 0h24v24H0V0z\" fill=\"none\"/>\n",
              "    <path d=\"M18.56 5.44l.94 2.06.94-2.06 2.06-.94-2.06-.94-.94-2.06-.94 2.06-2.06.94zm-11 1L8.5 8.5l.94-2.06 2.06-.94-2.06-.94L8.5 2.5l-.94 2.06-2.06.94zm10 10l.94 2.06.94-2.06 2.06-.94-2.06-.94-.94-2.06-.94 2.06-2.06.94z\"/><path d=\"M17.41 7.96l-1.37-1.37c-.4-.4-.92-.59-1.43-.59-.52 0-1.04.2-1.43.59L10.3 9.45l-7.72 7.72c-.78.78-.78 2.05 0 2.83L4 21.41c.39.39.9.59 1.41.59.51 0 1.02-.2 1.41-.59l7.78-7.78 2.81-2.81c.8-.78.8-2.07 0-2.86zM5.41 20L4 18.59l7.72-7.72 1.47 1.35L5.41 20z\"/>\n",
              "  </svg>\n",
              "      </button>\n",
              "      \n",
              "  <style>\n",
              "    .colab-df-container {\n",
              "      display:flex;\n",
              "      flex-wrap:wrap;\n",
              "      gap: 12px;\n",
              "    }\n",
              "\n",
              "    .colab-df-convert {\n",
              "      background-color: #E8F0FE;\n",
              "      border: none;\n",
              "      border-radius: 50%;\n",
              "      cursor: pointer;\n",
              "      display: none;\n",
              "      fill: #1967D2;\n",
              "      height: 32px;\n",
              "      padding: 0 0 0 0;\n",
              "      width: 32px;\n",
              "    }\n",
              "\n",
              "    .colab-df-convert:hover {\n",
              "      background-color: #E2EBFA;\n",
              "      box-shadow: 0px 1px 2px rgba(60, 64, 67, 0.3), 0px 1px 3px 1px rgba(60, 64, 67, 0.15);\n",
              "      fill: #174EA6;\n",
              "    }\n",
              "\n",
              "    [theme=dark] .colab-df-convert {\n",
              "      background-color: #3B4455;\n",
              "      fill: #D2E3FC;\n",
              "    }\n",
              "\n",
              "    [theme=dark] .colab-df-convert:hover {\n",
              "      background-color: #434B5C;\n",
              "      box-shadow: 0px 1px 3px 1px rgba(0, 0, 0, 0.15);\n",
              "      filter: drop-shadow(0px 1px 2px rgba(0, 0, 0, 0.3));\n",
              "      fill: #FFFFFF;\n",
              "    }\n",
              "  </style>\n",
              "\n",
              "      <script>\n",
              "        const buttonEl =\n",
              "          document.querySelector('#df-5a1bac79-e547-498c-a655-a2092bc4ffda button.colab-df-convert');\n",
              "        buttonEl.style.display =\n",
              "          google.colab.kernel.accessAllowed ? 'block' : 'none';\n",
              "\n",
              "        async function convertToInteractive(key) {\n",
              "          const element = document.querySelector('#df-5a1bac79-e547-498c-a655-a2092bc4ffda');\n",
              "          const dataTable =\n",
              "            await google.colab.kernel.invokeFunction('convertToInteractive',\n",
              "                                                     [key], {});\n",
              "          if (!dataTable) return;\n",
              "\n",
              "          const docLinkHtml = 'Like what you see? Visit the ' +\n",
              "            '<a target=\"_blank\" href=https://colab.research.google.com/notebooks/data_table.ipynb>data table notebook</a>'\n",
              "            + ' to learn more about interactive tables.';\n",
              "          element.innerHTML = '';\n",
              "          dataTable['output_type'] = 'display_data';\n",
              "          await google.colab.output.renderOutput(dataTable, element);\n",
              "          const docLink = document.createElement('div');\n",
              "          docLink.innerHTML = docLinkHtml;\n",
              "          element.appendChild(docLink);\n",
              "        }\n",
              "      </script>\n",
              "    </div>\n",
              "  </div>\n",
              "  "
            ]
          },
          "metadata": {},
          "execution_count": 54
        }
      ]
    },
    {
      "cell_type": "code",
      "source": [
        "print(classification_report(y_test,prediction))"
      ],
      "metadata": {
        "execution": {
          "iopub.status.busy": "2022-05-15T23:54:38.489342Z",
          "iopub.execute_input": "2022-05-15T23:54:38.490220Z",
          "iopub.status.idle": "2022-05-15T23:54:38.506176Z",
          "shell.execute_reply.started": "2022-05-15T23:54:38.490180Z",
          "shell.execute_reply": "2022-05-15T23:54:38.504725Z"
        },
        "trusted": true,
        "colab": {
          "base_uri": "https://localhost:8080/"
        },
        "id": "IoQXQQU9f2BW",
        "outputId": "0366e90d-81f6-43b9-8ef2-3b448b310bf2"
      },
      "execution_count": 55,
      "outputs": [
        {
          "output_type": "stream",
          "name": "stdout",
          "text": [
            "              precision    recall  f1-score   support\n",
            "\n",
            "           0       0.63      0.41      0.49       348\n",
            "           1       0.49      0.91      0.64       381\n",
            "           2       0.78      0.34      0.47       372\n",
            "           3       0.91      0.94      0.92       399\n",
            "\n",
            "    accuracy                           0.66      1500\n",
            "   macro avg       0.70      0.65      0.63      1500\n",
            "weighted avg       0.71      0.66      0.64      1500\n",
            "\n"
          ]
        }
      ]
    },
    {
      "cell_type": "code",
      "source": [
        "from sklearn.metrics import confusion_matrix\n",
        "from matplotlib.pyplot import figure\n",
        "figure(figsize=(5, 4), dpi=80)\n",
        "cm = confusion_matrix(y_test,prediction)\n",
        "\n",
        "sns.heatmap(cm, annot=True,fmt=\"d\",cmap=\"YlGnBu\")"
      ],
      "metadata": {
        "execution": {
          "iopub.status.busy": "2022-05-15T23:54:44.057142Z",
          "iopub.execute_input": "2022-05-15T23:54:44.057974Z",
          "iopub.status.idle": "2022-05-15T23:54:44.323926Z",
          "shell.execute_reply.started": "2022-05-15T23:54:44.057927Z",
          "shell.execute_reply": "2022-05-15T23:54:44.322952Z"
        },
        "trusted": true,
        "colab": {
          "base_uri": "https://localhost:8080/",
          "height": 309
        },
        "id": "PFCscHelf2BX",
        "outputId": "77cdac51-2ad8-4db3-efc7-c69ec113ceaa"
      },
      "execution_count": 56,
      "outputs": [
        {
          "output_type": "execute_result",
          "data": {
            "text/plain": [
              "<matplotlib.axes._subplots.AxesSubplot at 0x7fa533f292d0>"
            ]
          },
          "metadata": {},
          "execution_count": 56
        },
        {
          "output_type": "display_data",
          "data": {
            "text/plain": [
              "<Figure size 400x320 with 2 Axes>"
            ],
            "image/png": "[encoded data removed]"
          },
          "metadata": {
            "needs_background": "light"
          }
        }
      ]
    },
    {
      "cell_type": "markdown",
      "source": [
        "# GradientBoostingClassifier"
      ],
      "metadata": {
        "id": "q_HPbkJIf2BX"
      }
    },
    {
      "cell_type": "code",
      "source": [
        "from sklearn.ensemble import GradientBoostingClassifier\n",
        "\n",
        "GBC_model = GradientBoostingClassifier()\n",
        "GBC_model = GBC_model.fit(X_for_model, y_train)\n",
        "GBC_model"
      ],
      "metadata": {
        "execution": {
          "iopub.status.busy": "2022-05-15T23:55:47.683781Z",
          "iopub.execute_input": "2022-05-15T23:55:47.684186Z",
          "iopub.status.idle": "2022-05-15T23:56:20.728211Z",
          "shell.execute_reply.started": "2022-05-15T23:55:47.684142Z",
          "shell.execute_reply": "2022-05-15T23:56:20.727306Z"
        },
        "trusted": true,
        "colab": {
          "base_uri": "https://localhost:8080/"
        },
        "id": "3PeBLY2gf2BX",
        "outputId": "4a69a1dc-0ee2-4acc-add5-d9379a49dbe3"
      },
      "execution_count": 57,
      "outputs": [
        {
          "output_type": "execute_result",
          "data": {
            "text/plain": [
              "GradientBoostingClassifier()"
            ]
          },
          "metadata": {},
          "execution_count": 57
        }
      ]
    },
    {
      "cell_type": "code",
      "source": [
        "X_test_feature = VGG_model.predict(x_test)\n",
        "X_test_features = X_test_feature.reshape(X_test_feature.shape[0], -1)\n",
        "#Now predict using the trained RF model. \n",
        "prediction = GBC_model.predict(X_test_features)"
      ],
      "metadata": {
        "execution": {
          "iopub.status.busy": "2022-05-15T23:56:20.729862Z",
          "iopub.execute_input": "2022-05-15T23:56:20.730097Z",
          "iopub.status.idle": "2022-05-15T23:56:30.464857Z",
          "shell.execute_reply.started": "2022-05-15T23:56:20.730069Z",
          "shell.execute_reply": "2022-05-15T23:56:30.463876Z"
        },
        "trusted": true,
        "id": "yaEfsM-Qf2BX"
      },
      "execution_count": 58,
      "outputs": []
    },
    {
      "cell_type": "code",
      "source": [
        "print('Test set evaluation:\\n_____________________________________')\n",
        "print_evaluate(y_test, prediction)"
      ],
      "metadata": {
        "execution": {
          "iopub.status.busy": "2022-05-15T23:56:30.466361Z",
          "iopub.execute_input": "2022-05-15T23:56:30.466856Z",
          "iopub.status.idle": "2022-05-15T23:56:30.477967Z",
          "shell.execute_reply.started": "2022-05-15T23:56:30.466814Z",
          "shell.execute_reply": "2022-05-15T23:56:30.477063Z"
        },
        "trusted": true,
        "colab": {
          "base_uri": "https://localhost:8080/"
        },
        "id": "YMUush7pf2BX",
        "outputId": "cdfabab4-1924-4f87-b34d-2d7fb99d4f6b"
      },
      "execution_count": 59,
      "outputs": [
        {
          "output_type": "stream",
          "name": "stdout",
          "text": [
            "Test set evaluation:\n",
            "_____________________________________\n",
            "MAE: 0.406\n",
            "MSE: 0.6633333333333333\n",
            "RMSE: 0.8144527815247078\n",
            "R2 Square 0.46664350988237224\n",
            "Accuracy 0.7133333333333334\n",
            "__________________________________\n"
          ]
        }
      ]
    },
    {
      "cell_type": "code",
      "source": [
        "results_df_2 = pd.DataFrame(data=[[\"GradientBoostingClassifier\", *evaluate(y_test, prediction)]], \n",
        "                          columns=['Model', 'MAE', 'MSE', 'RMSE', 'R2 Square','Accuracy' ])\n",
        "results_df = results_df.append(results_df_2, ignore_index=True)\n",
        "results_df"
      ],
      "metadata": {
        "execution": {
          "iopub.status.busy": "2022-05-15T23:56:30.479727Z",
          "iopub.execute_input": "2022-05-15T23:56:30.480312Z",
          "iopub.status.idle": "2022-05-15T23:56:30.501153Z",
          "shell.execute_reply.started": "2022-05-15T23:56:30.480272Z",
          "shell.execute_reply": "2022-05-15T23:56:30.500458Z"
        },
        "trusted": true,
        "colab": {
          "base_uri": "https://localhost:8080/",
          "height": 269
        },
        "id": "XJfEc21Xf2BX",
        "outputId": "b0b01b5e-e0cc-4e40-8c79-b5c0ba21b84b"
      },
      "execution_count": 60,
      "outputs": [
        {
          "output_type": "execute_result",
          "data": {
            "text/plain": [
              "                        Model       MAE       MSE      RMSE  R2 Square  \\\n",
              "0        KNeighborsClassifier  0.471333  0.759333  0.871397   0.389454   \n",
              "1                         SVC  0.376667  0.612667  0.782730   0.507382   \n",
              "2                     RBF SVC  0.432667  0.708667  0.841823   0.430193   \n",
              "3      DecisionTreeClassifier  0.626000  1.091333  1.044669   0.122508   \n",
              "4          LogisticRegression  0.401333  0.646667  0.804156   0.480044   \n",
              "5               SGDClassifier  0.424000  0.604000  0.777174   0.514351   \n",
              "6  GradientBoostingClassifier  0.406000  0.663333  0.814453   0.466644   \n",
              "\n",
              "   Accuracy  \n",
              "0  0.663333  \n",
              "1  0.734000  \n",
              "2  0.694667  \n",
              "3  0.577333  \n",
              "4  0.715333  \n",
              "5  0.659333  \n",
              "6  0.713333  "
            ],
            "text/html": [
              "\n",
              "  <div id=\"df-2323a0b3-c6c7-4c4f-8a82-2b9a1e21714f\">\n",
              "    <div class=\"colab-df-container\">\n",
              "      <div>\n",
              "<style scoped>\n",
              "    .dataframe tbody tr th:only-of-type {\n",
              "        vertical-align: middle;\n",
              "    }\n",
              "\n",
              "    .dataframe tbody tr th {\n",
              "        vertical-align: top;\n",
              "    }\n",
              "\n",
              "    .dataframe thead th {\n",
              "        text-align: right;\n",
              "    }\n",
              "</style>\n",
              "<table border=\"1\" class=\"dataframe\">\n",
              "  <thead>\n",
              "    <tr style=\"text-align: right;\">\n",
              "      <th></th>\n",
              "      <th>Model</th>\n",
              "      <th>MAE</th>\n",
              "      <th>MSE</th>\n",
              "      <th>RMSE</th>\n",
              "      <th>R2 Square</th>\n",
              "      <th>Accuracy</th>\n",
              "    </tr>\n",
              "  </thead>\n",
              "  <tbody>\n",
              "    <tr>\n",
              "      <th>0</th>\n",
              "      <td>KNeighborsClassifier</td>\n",
              "      <td>0.471333</td>\n",
              "      <td>0.759333</td>\n",
              "      <td>0.871397</td>\n",
              "      <td>0.389454</td>\n",
              "      <td>0.663333</td>\n",
              "    </tr>\n",
              "    <tr>\n",
              "      <th>1</th>\n",
              "      <td>SVC</td>\n",
              "      <td>0.376667</td>\n",
              "      <td>0.612667</td>\n",
              "      <td>0.782730</td>\n",
              "      <td>0.507382</td>\n",
              "      <td>0.734000</td>\n",
              "    </tr>\n",
              "    <tr>\n",
              "      <th>2</th>\n",
              "      <td>RBF SVC</td>\n",
              "      <td>0.432667</td>\n",
              "      <td>0.708667</td>\n",
              "      <td>0.841823</td>\n",
              "      <td>0.430193</td>\n",
              "      <td>0.694667</td>\n",
              "    </tr>\n",
              "    <tr>\n",
              "      <th>3</th>\n",
              "      <td>DecisionTreeClassifier</td>\n",
              "      <td>0.626000</td>\n",
              "      <td>1.091333</td>\n",
              "      <td>1.044669</td>\n",
              "      <td>0.122508</td>\n",
              "      <td>0.577333</td>\n",
              "    </tr>\n",
              "    <tr>\n",
              "      <th>4</th>\n",
              "      <td>LogisticRegression</td>\n",
              "      <td>0.401333</td>\n",
              "      <td>0.646667</td>\n",
              "      <td>0.804156</td>\n",
              "      <td>0.480044</td>\n",
              "      <td>0.715333</td>\n",
              "    </tr>\n",
              "    <tr>\n",
              "      <th>5</th>\n",
              "      <td>SGDClassifier</td>\n",
              "      <td>0.424000</td>\n",
              "      <td>0.604000</td>\n",
              "      <td>0.777174</td>\n",
              "      <td>0.514351</td>\n",
              "      <td>0.659333</td>\n",
              "    </tr>\n",
              "    <tr>\n",
              "      <th>6</th>\n",
              "      <td>GradientBoostingClassifier</td>\n",
              "      <td>0.406000</td>\n",
              "      <td>0.663333</td>\n",
              "      <td>0.814453</td>\n",
              "      <td>0.466644</td>\n",
              "      <td>0.713333</td>\n",
              "    </tr>\n",
              "  </tbody>\n",
              "</table>\n",
              "</div>\n",
              "      <button class=\"colab-df-convert\" onclick=\"convertToInteractive('df-2323a0b3-c6c7-4c4f-8a82-2b9a1e21714f')\"\n",
              "              title=\"Convert this dataframe to an interactive table.\"\n",
              "              style=\"display:none;\">\n",
              "        \n",
              "  <svg xmlns=\"http://www.w3.org/2000/svg\" height=\"24px\"viewBox=\"0 0 24 24\"\n",
              "       width=\"24px\">\n",
              "    <path d=\"M0 0h24v24H0V0z\" fill=\"none\"/>\n",
              "    <path d=\"M18.56 5.44l.94 2.06.94-2.06 2.06-.94-2.06-.94-.94-2.06-.94 2.06-2.06.94zm-11 1L8.5 8.5l.94-2.06 2.06-.94-2.06-.94L8.5 2.5l-.94 2.06-2.06.94zm10 10l.94 2.06.94-2.06 2.06-.94-2.06-.94-.94-2.06-.94 2.06-2.06.94z\"/><path d=\"M17.41 7.96l-1.37-1.37c-.4-.4-.92-.59-1.43-.59-.52 0-1.04.2-1.43.59L10.3 9.45l-7.72 7.72c-.78.78-.78 2.05 0 2.83L4 21.41c.39.39.9.59 1.41.59.51 0 1.02-.2 1.41-.59l7.78-7.78 2.81-2.81c.8-.78.8-2.07 0-2.86zM5.41 20L4 18.59l7.72-7.72 1.47 1.35L5.41 20z\"/>\n",
              "  </svg>\n",
              "      </button>\n",
              "      \n",
              "  <style>\n",
              "    .colab-df-container {\n",
              "      display:flex;\n",
              "      flex-wrap:wrap;\n",
              "      gap: 12px;\n",
              "    }\n",
              "\n",
              "    .colab-df-convert {\n",
              "      background-color: #E8F0FE;\n",
              "      border: none;\n",
              "      border-radius: 50%;\n",
              "      cursor: pointer;\n",
              "      display: none;\n",
              "      fill: #1967D2;\n",
              "      height: 32px;\n",
              "      padding: 0 0 0 0;\n",
              "      width: 32px;\n",
              "    }\n",
              "\n",
              "    .colab-df-convert:hover {\n",
              "      background-color: #E2EBFA;\n",
              "      box-shadow: 0px 1px 2px rgba(60, 64, 67, 0.3), 0px 1px 3px 1px rgba(60, 64, 67, 0.15);\n",
              "      fill: #174EA6;\n",
              "    }\n",
              "\n",
              "    [theme=dark] .colab-df-convert {\n",
              "      background-color: #3B4455;\n",
              "      fill: #D2E3FC;\n",
              "    }\n",
              "\n",
              "    [theme=dark] .colab-df-convert:hover {\n",
              "      background-color: #434B5C;\n",
              "      box-shadow: 0px 1px 3px 1px rgba(0, 0, 0, 0.15);\n",
              "      filter: drop-shadow(0px 1px 2px rgba(0, 0, 0, 0.3));\n",
              "      fill: #FFFFFF;\n",
              "    }\n",
              "  </style>\n",
              "\n",
              "      <script>\n",
              "        const buttonEl =\n",
              "          document.querySelector('#df-2323a0b3-c6c7-4c4f-8a82-2b9a1e21714f button.colab-df-convert');\n",
              "        buttonEl.style.display =\n",
              "          google.colab.kernel.accessAllowed ? 'block' : 'none';\n",
              "\n",
              "        async function convertToInteractive(key) {\n",
              "          const element = document.querySelector('#df-2323a0b3-c6c7-4c4f-8a82-2b9a1e21714f');\n",
              "          const dataTable =\n",
              "            await google.colab.kernel.invokeFunction('convertToInteractive',\n",
              "                                                     [key], {});\n",
              "          if (!dataTable) return;\n",
              "\n",
              "          const docLinkHtml = 'Like what you see? Visit the ' +\n",
              "            '<a target=\"_blank\" href=https://colab.research.google.com/notebooks/data_table.ipynb>data table notebook</a>'\n",
              "            + ' to learn more about interactive tables.';\n",
              "          element.innerHTML = '';\n",
              "          dataTable['output_type'] = 'display_data';\n",
              "          await google.colab.output.renderOutput(dataTable, element);\n",
              "          const docLink = document.createElement('div');\n",
              "          docLink.innerHTML = docLinkHtml;\n",
              "          element.appendChild(docLink);\n",
              "        }\n",
              "      </script>\n",
              "    </div>\n",
              "  </div>\n",
              "  "
            ]
          },
          "metadata": {},
          "execution_count": 60
        }
      ]
    },
    {
      "cell_type": "code",
      "source": [
        "print(classification_report(y_test,prediction))"
      ],
      "metadata": {
        "execution": {
          "iopub.status.busy": "2022-05-15T23:56:36.843688Z",
          "iopub.execute_input": "2022-05-15T23:56:36.844507Z",
          "iopub.status.idle": "2022-05-15T23:56:36.861702Z",
          "shell.execute_reply.started": "2022-05-15T23:56:36.844468Z",
          "shell.execute_reply": "2022-05-15T23:56:36.860170Z"
        },
        "trusted": true,
        "colab": {
          "base_uri": "https://localhost:8080/"
        },
        "id": "RWJni8T1f2BY",
        "outputId": "5073bca3-d448-4da4-9ff4-45a4aef31d38"
      },
      "execution_count": 61,
      "outputs": [
        {
          "output_type": "stream",
          "name": "stdout",
          "text": [
            "              precision    recall  f1-score   support\n",
            "\n",
            "           0       0.59      0.65      0.61       348\n",
            "           1       0.68      0.68      0.68       381\n",
            "           2       0.64      0.58      0.61       372\n",
            "           3       0.92      0.92      0.92       399\n",
            "\n",
            "    accuracy                           0.71      1500\n",
            "   macro avg       0.71      0.71      0.71      1500\n",
            "weighted avg       0.71      0.71      0.71      1500\n",
            "\n"
          ]
        }
      ]
    },
    {
      "cell_type": "code",
      "source": [
        "from sklearn.metrics import confusion_matrix\n",
        "from matplotlib.pyplot import figure\n",
        "figure(figsize=(5, 4), dpi=80)\n",
        "cm = confusion_matrix(y_test,prediction)\n",
        "\n",
        "sns.heatmap(cm, annot=True,fmt=\"d\",cmap=\"YlGnBu\")"
      ],
      "metadata": {
        "execution": {
          "iopub.status.busy": "2022-05-15T23:56:49.856228Z",
          "iopub.execute_input": "2022-05-15T23:56:49.857285Z",
          "iopub.status.idle": "2022-05-15T23:56:50.144955Z",
          "shell.execute_reply.started": "2022-05-15T23:56:49.857234Z",
          "shell.execute_reply": "2022-05-15T23:56:50.143743Z"
        },
        "trusted": true,
        "colab": {
          "base_uri": "https://localhost:8080/",
          "height": 309
        },
        "id": "X1_vz-_bf2BY",
        "outputId": "7f5e18dc-9a0d-4f1c-ac1a-29a109b920a8"
      },
      "execution_count": 62,
      "outputs": [
        {
          "output_type": "execute_result",
          "data": {
            "text/plain": [
              "<matplotlib.axes._subplots.AxesSubplot at 0x7fa52ef9d1d0>"
            ]
          },
          "metadata": {},
          "execution_count": 62
        },
        {
          "output_type": "display_data",
          "data": {
            "text/plain": [
              "<Figure size 400x320 with 2 Axes>"
            ],
            "image/png": "[encoded data removed]"
          },
          "metadata": {
            "needs_background": "light"
          }
        }
      ]
    },
    {
      "cell_type": "markdown",
      "source": [
        "# LGBMClassifier"
      ],
      "metadata": {
        "id": "qBaK8vAFf2BY"
      }
    },
    {
      "cell_type": "code",
      "source": [
        "from lightgbm import LGBMClassifier\n",
        "\n",
        "LGBM_model = LGBMClassifier()\n",
        "LGBM_model = LGBM_model.fit(X_for_model, y_train)\n",
        "LGBM_model"
      ],
      "metadata": {
        "execution": {
          "iopub.status.busy": "2022-05-15T23:57:47.057632Z",
          "iopub.execute_input": "2022-05-15T23:57:47.058076Z",
          "iopub.status.idle": "2022-05-15T23:57:59.011069Z",
          "shell.execute_reply.started": "2022-05-15T23:57:47.058040Z",
          "shell.execute_reply": "2022-05-15T23:57:59.009652Z"
        },
        "trusted": true,
        "colab": {
          "base_uri": "https://localhost:8080/"
        },
        "id": "-wA-SoO3f2BY",
        "outputId": "8824214b-acc5-4360-8436-0b9164cdf57e"
      },
      "execution_count": 63,
      "outputs": [
        {
          "output_type": "execute_result",
          "data": {
            "text/plain": [
              "LGBMClassifier()"
            ]
          },
          "metadata": {},
          "execution_count": 63
        }
      ]
    },
    {
      "cell_type": "code",
      "source": [
        "X_test_feature = VGG_model.predict(x_test)\n",
        "X_test_features = X_test_feature.reshape(X_test_feature.shape[0], -1)\n",
        "#Now predict using the trained RF model. \n",
        "prediction = LGBM_model.predict(X_test_features)"
      ],
      "metadata": {
        "execution": {
          "iopub.status.busy": "2022-05-15T23:58:10.084546Z",
          "iopub.execute_input": "2022-05-15T23:58:10.085569Z",
          "iopub.status.idle": "2022-05-15T23:58:20.632144Z",
          "shell.execute_reply.started": "2022-05-15T23:58:10.085516Z",
          "shell.execute_reply": "2022-05-15T23:58:20.631041Z"
        },
        "trusted": true,
        "id": "nj5AJ4eOf2BY"
      },
      "execution_count": 64,
      "outputs": []
    },
    {
      "cell_type": "code",
      "source": [
        "print('Test set evaluation:\\n_____________________________________')\n",
        "print_evaluate(y_test, prediction)"
      ],
      "metadata": {
        "execution": {
          "iopub.status.busy": "2022-05-15T23:58:20.633987Z",
          "iopub.execute_input": "2022-05-15T23:58:20.634283Z",
          "iopub.status.idle": "2022-05-15T23:58:20.644992Z",
          "shell.execute_reply.started": "2022-05-15T23:58:20.634249Z",
          "shell.execute_reply": "2022-05-15T23:58:20.644021Z"
        },
        "trusted": true,
        "colab": {
          "base_uri": "https://localhost:8080/"
        },
        "id": "-4bAXDEFf2BY",
        "outputId": "b40f06d9-6cdc-48da-f34b-7fb5eacca494"
      },
      "execution_count": 65,
      "outputs": [
        {
          "output_type": "stream",
          "name": "stdout",
          "text": [
            "Test set evaluation:\n",
            "_____________________________________\n",
            "MAE: 0.392\n",
            "MSE: 0.664\n",
            "RMSE: 0.8148619514985346\n",
            "R2 Square 0.4661074732088871\n",
            "Accuracy 0.7306666666666667\n",
            "__________________________________\n"
          ]
        }
      ]
    },
    {
      "cell_type": "code",
      "source": [
        "results_df_2 = pd.DataFrame(data=[[\"LGBMClassifier\", *evaluate(y_test, prediction)]], \n",
        "                          columns=['Model', 'MAE', 'MSE', 'RMSE', 'R2 Square','Accuracy' ])\n",
        "results_df = results_df.append(results_df_2, ignore_index=True)\n",
        "results_df"
      ],
      "metadata": {
        "execution": {
          "iopub.status.busy": "2022-05-15T23:58:33.933032Z",
          "iopub.execute_input": "2022-05-15T23:58:33.933912Z",
          "iopub.status.idle": "2022-05-15T23:58:33.955870Z",
          "shell.execute_reply.started": "2022-05-15T23:58:33.933866Z",
          "shell.execute_reply": "2022-05-15T23:58:33.954797Z"
        },
        "trusted": true,
        "colab": {
          "base_uri": "https://localhost:8080/",
          "height": 300
        },
        "id": "prWdkBqYf2BY",
        "outputId": "0f67eab1-78d2-4969-ebba-0243a31b4e5a"
      },
      "execution_count": 66,
      "outputs": [
        {
          "output_type": "execute_result",
          "data": {
            "text/plain": [
              "                        Model       MAE       MSE      RMSE  R2 Square  \\\n",
              "0        KNeighborsClassifier  0.471333  0.759333  0.871397   0.389454   \n",
              "1                         SVC  0.376667  0.612667  0.782730   0.507382   \n",
              "2                     RBF SVC  0.432667  0.708667  0.841823   0.430193   \n",
              "3      DecisionTreeClassifier  0.626000  1.091333  1.044669   0.122508   \n",
              "4          LogisticRegression  0.401333  0.646667  0.804156   0.480044   \n",
              "5               SGDClassifier  0.424000  0.604000  0.777174   0.514351   \n",
              "6  GradientBoostingClassifier  0.406000  0.663333  0.814453   0.466644   \n",
              "7              LGBMClassifier  0.392000  0.664000  0.814862   0.466107   \n",
              "\n",
              "   Accuracy  \n",
              "0  0.663333  \n",
              "1  0.734000  \n",
              "2  0.694667  \n",
              "3  0.577333  \n",
              "4  0.715333  \n",
              "5  0.659333  \n",
              "6  0.713333  \n",
              "7  0.730667  "
            ],
            "text/html": [
              "\n",
              "  <div id=\"df-0e324378-7437-45c2-9257-9b5e91009617\">\n",
              "    <div class=\"colab-df-container\">\n",
              "      <div>\n",
              "<style scoped>\n",
              "    .dataframe tbody tr th:only-of-type {\n",
              "        vertical-align: middle;\n",
              "    }\n",
              "\n",
              "    .dataframe tbody tr th {\n",
              "        vertical-align: top;\n",
              "    }\n",
              "\n",
              "    .dataframe thead th {\n",
              "        text-align: right;\n",
              "    }\n",
              "</style>\n",
              "<table border=\"1\" class=\"dataframe\">\n",
              "  <thead>\n",
              "    <tr style=\"text-align: right;\">\n",
              "      <th></th>\n",
              "      <th>Model</th>\n",
              "      <th>MAE</th>\n",
              "      <th>MSE</th>\n",
              "      <th>RMSE</th>\n",
              "      <th>R2 Square</th>\n",
              "      <th>Accuracy</th>\n",
              "    </tr>\n",
              "  </thead>\n",
              "  <tbody>\n",
              "    <tr>\n",
              "      <th>0</th>\n",
              "      <td>KNeighborsClassifier</td>\n",
              "      <td>0.471333</td>\n",
              "      <td>0.759333</td>\n",
              "      <td>0.871397</td>\n",
              "      <td>0.389454</td>\n",
              "      <td>0.663333</td>\n",
              "    </tr>\n",
              "    <tr>\n",
              "      <th>1</th>\n",
              "      <td>SVC</td>\n",
              "      <td>0.376667</td>\n",
              "      <td>0.612667</td>\n",
              "      <td>0.782730</td>\n",
              "      <td>0.507382</td>\n",
              "      <td>0.734000</td>\n",
              "    </tr>\n",
              "    <tr>\n",
              "      <th>2</th>\n",
              "      <td>RBF SVC</td>\n",
              "      <td>0.432667</td>\n",
              "      <td>0.708667</td>\n",
              "      <td>0.841823</td>\n",
              "      <td>0.430193</td>\n",
              "      <td>0.694667</td>\n",
              "    </tr>\n",
              "    <tr>\n",
              "      <th>3</th>\n",
              "      <td>DecisionTreeClassifier</td>\n",
              "      <td>0.626000</td>\n",
              "      <td>1.091333</td>\n",
              "      <td>1.044669</td>\n",
              "      <td>0.122508</td>\n",
              "      <td>0.577333</td>\n",
              "    </tr>\n",
              "    <tr>\n",
              "      <th>4</th>\n",
              "      <td>LogisticRegression</td>\n",
              "      <td>0.401333</td>\n",
              "      <td>0.646667</td>\n",
              "      <td>0.804156</td>\n",
              "      <td>0.480044</td>\n",
              "      <td>0.715333</td>\n",
              "    </tr>\n",
              "    <tr>\n",
              "      <th>5</th>\n",
              "      <td>SGDClassifier</td>\n",
              "      <td>0.424000</td>\n",
              "      <td>0.604000</td>\n",
              "      <td>0.777174</td>\n",
              "      <td>0.514351</td>\n",
              "      <td>0.659333</td>\n",
              "    </tr>\n",
              "    <tr>\n",
              "      <th>6</th>\n",
              "      <td>GradientBoostingClassifier</td>\n",
              "      <td>0.406000</td>\n",
              "      <td>0.663333</td>\n",
              "      <td>0.814453</td>\n",
              "      <td>0.466644</td>\n",
              "      <td>0.713333</td>\n",
              "    </tr>\n",
              "    <tr>\n",
              "      <th>7</th>\n",
              "      <td>LGBMClassifier</td>\n",
              "      <td>0.392000</td>\n",
              "      <td>0.664000</td>\n",
              "      <td>0.814862</td>\n",
              "      <td>0.466107</td>\n",
              "      <td>0.730667</td>\n",
              "    </tr>\n",
              "  </tbody>\n",
              "</table>\n",
              "</div>\n",
              "      <button class=\"colab-df-convert\" onclick=\"convertToInteractive('df-0e324378-7437-45c2-9257-9b5e91009617')\"\n",
              "              title=\"Convert this dataframe to an interactive table.\"\n",
              "              style=\"display:none;\">\n",
              "        \n",
              "  <svg xmlns=\"http://www.w3.org/2000/svg\" height=\"24px\"viewBox=\"0 0 24 24\"\n",
              "       width=\"24px\">\n",
              "    <path d=\"M0 0h24v24H0V0z\" fill=\"none\"/>\n",
              "    <path d=\"M18.56 5.44l.94 2.06.94-2.06 2.06-.94-2.06-.94-.94-2.06-.94 2.06-2.06.94zm-11 1L8.5 8.5l.94-2.06 2.06-.94-2.06-.94L8.5 2.5l-.94 2.06-2.06.94zm10 10l.94 2.06.94-2.06 2.06-.94-2.06-.94-.94-2.06-.94 2.06-2.06.94z\"/><path d=\"M17.41 7.96l-1.37-1.37c-.4-.4-.92-.59-1.43-.59-.52 0-1.04.2-1.43.59L10.3 9.45l-7.72 7.72c-.78.78-.78 2.05 0 2.83L4 21.41c.39.39.9.59 1.41.59.51 0 1.02-.2 1.41-.59l7.78-7.78 2.81-2.81c.8-.78.8-2.07 0-2.86zM5.41 20L4 18.59l7.72-7.72 1.47 1.35L5.41 20z\"/>\n",
              "  </svg>\n",
              "      </button>\n",
              "      \n",
              "  <style>\n",
              "    .colab-df-container {\n",
              "      display:flex;\n",
              "      flex-wrap:wrap;\n",
              "      gap: 12px;\n",
              "    }\n",
              "\n",
              "    .colab-df-convert {\n",
              "      background-color: #E8F0FE;\n",
              "      border: none;\n",
              "      border-radius: 50%;\n",
              "      cursor: pointer;\n",
              "      display: none;\n",
              "      fill: #1967D2;\n",
              "      height: 32px;\n",
              "      padding: 0 0 0 0;\n",
              "      width: 32px;\n",
              "    }\n",
              "\n",
              "    .colab-df-convert:hover {\n",
              "      background-color: #E2EBFA;\n",
              "      box-shadow: 0px 1px 2px rgba(60, 64, 67, 0.3), 0px 1px 3px 1px rgba(60, 64, 67, 0.15);\n",
              "      fill: #174EA6;\n",
              "    }\n",
              "\n",
              "    [theme=dark] .colab-df-convert {\n",
              "      background-color: #3B4455;\n",
              "      fill: #D2E3FC;\n",
              "    }\n",
              "\n",
              "    [theme=dark] .colab-df-convert:hover {\n",
              "      background-color: #434B5C;\n",
              "      box-shadow: 0px 1px 3px 1px rgba(0, 0, 0, 0.15);\n",
              "      filter: drop-shadow(0px 1px 2px rgba(0, 0, 0, 0.3));\n",
              "      fill: #FFFFFF;\n",
              "    }\n",
              "  </style>\n",
              "\n",
              "      <script>\n",
              "        const buttonEl =\n",
              "          document.querySelector('#df-0e324378-7437-45c2-9257-9b5e91009617 button.colab-df-convert');\n",
              "        buttonEl.style.display =\n",
              "          google.colab.kernel.accessAllowed ? 'block' : 'none';\n",
              "\n",
              "        async function convertToInteractive(key) {\n",
              "          const element = document.querySelector('#df-0e324378-7437-45c2-9257-9b5e91009617');\n",
              "          const dataTable =\n",
              "            await google.colab.kernel.invokeFunction('convertToInteractive',\n",
              "                                                     [key], {});\n",
              "          if (!dataTable) return;\n",
              "\n",
              "          const docLinkHtml = 'Like what you see? Visit the ' +\n",
              "            '<a target=\"_blank\" href=https://colab.research.google.com/notebooks/data_table.ipynb>data table notebook</a>'\n",
              "            + ' to learn more about interactive tables.';\n",
              "          element.innerHTML = '';\n",
              "          dataTable['output_type'] = 'display_data';\n",
              "          await google.colab.output.renderOutput(dataTable, element);\n",
              "          const docLink = document.createElement('div');\n",
              "          docLink.innerHTML = docLinkHtml;\n",
              "          element.appendChild(docLink);\n",
              "        }\n",
              "      </script>\n",
              "    </div>\n",
              "  </div>\n",
              "  "
            ]
          },
          "metadata": {},
          "execution_count": 66
        }
      ]
    },
    {
      "cell_type": "code",
      "source": [
        "print(classification_report(y_test,prediction))"
      ],
      "metadata": {
        "execution": {
          "iopub.status.busy": "2022-05-16T00:05:01.797807Z",
          "iopub.execute_input": "2022-05-16T00:05:01.798525Z",
          "iopub.status.idle": "2022-05-16T00:05:01.811468Z",
          "shell.execute_reply.started": "2022-05-16T00:05:01.798477Z",
          "shell.execute_reply": "2022-05-16T00:05:01.810541Z"
        },
        "trusted": true,
        "colab": {
          "base_uri": "https://localhost:8080/"
        },
        "id": "uxl_MhNAf2BY",
        "outputId": "60ee056f-b928-4dba-b140-5735ac787125"
      },
      "execution_count": 67,
      "outputs": [
        {
          "output_type": "stream",
          "name": "stdout",
          "text": [
            "              precision    recall  f1-score   support\n",
            "\n",
            "           0       0.60      0.64      0.62       348\n",
            "           1       0.71      0.69      0.70       381\n",
            "           2       0.67      0.63      0.65       372\n",
            "           3       0.92      0.94      0.93       399\n",
            "\n",
            "    accuracy                           0.73      1500\n",
            "   macro avg       0.73      0.73      0.73      1500\n",
            "weighted avg       0.73      0.73      0.73      1500\n",
            "\n"
          ]
        }
      ]
    },
    {
      "cell_type": "code",
      "source": [
        ""
      ],
      "metadata": {
        "id": "xUitggW3f2BZ"
      },
      "execution_count": 67,
      "outputs": []
    },
    {
      "cell_type": "markdown",
      "source": [
        "# XGBClassifier"
      ],
      "metadata": {
        "id": "mYc8ZWgof2BZ"
      }
    },
    {
      "cell_type": "code",
      "source": [
        "from xgboost.sklearn import XGBClassifier\n",
        "\n",
        "XGBC_model = XGBClassifier()\n",
        "XGBC_model = XGBC_model.fit(X_for_model, y_train)\n",
        "XGBC_model"
      ],
      "metadata": {
        "execution": {
          "iopub.status.busy": "2022-05-16T00:01:26.052695Z",
          "iopub.execute_input": "2022-05-16T00:01:26.053810Z",
          "iopub.status.idle": "2022-05-16T00:01:49.451584Z",
          "shell.execute_reply.started": "2022-05-16T00:01:26.053760Z",
          "shell.execute_reply": "2022-05-16T00:01:49.450227Z"
        },
        "trusted": true,
        "colab": {
          "base_uri": "https://localhost:8080/"
        },
        "id": "PVm5CPlbf2BZ",
        "outputId": "9438fd71-05c6-4d56-ba59-9d55a286ca47"
      },
      "execution_count": 68,
      "outputs": [
        {
          "output_type": "execute_result",
          "data": {
            "text/plain": [
              "XGBClassifier(objective='multi:softprob')"
            ]
          },
          "metadata": {},
          "execution_count": 68
        }
      ]
    },
    {
      "cell_type": "code",
      "source": [
        "X_test_feature = VGG_model.predict(x_test)\n",
        "X_test_features = X_test_feature.reshape(X_test_feature.shape[0], -1)\n",
        "#Now predict using the trained RF model. \n",
        "prediction = XGBC_model.predict(X_test_features)"
      ],
      "metadata": {
        "execution": {
          "iopub.status.busy": "2022-05-16T00:02:16.220962Z",
          "iopub.execute_input": "2022-05-16T00:02:16.221288Z",
          "iopub.status.idle": "2022-05-16T00:02:26.300411Z",
          "shell.execute_reply.started": "2022-05-16T00:02:16.221254Z",
          "shell.execute_reply": "2022-05-16T00:02:26.299255Z"
        },
        "trusted": true,
        "id": "QMPueXNGf2BZ"
      },
      "execution_count": 69,
      "outputs": []
    },
    {
      "cell_type": "code",
      "source": [
        "print('Test set evaluation:\\n_____________________________________')\n",
        "print_evaluate(y_test, prediction)"
      ],
      "metadata": {
        "execution": {
          "iopub.status.busy": "2022-05-16T00:04:26.957239Z",
          "iopub.execute_input": "2022-05-16T00:04:26.957624Z",
          "iopub.status.idle": "2022-05-16T00:04:26.970422Z",
          "shell.execute_reply.started": "2022-05-16T00:04:26.957589Z",
          "shell.execute_reply": "2022-05-16T00:04:26.968954Z"
        },
        "trusted": true,
        "colab": {
          "base_uri": "https://localhost:8080/"
        },
        "id": "WMWO_Ok7f2BZ",
        "outputId": "6ff9ac8f-c691-4128-b971-261a41eef0e6"
      },
      "execution_count": 70,
      "outputs": [
        {
          "output_type": "stream",
          "name": "stdout",
          "text": [
            "Test set evaluation:\n",
            "_____________________________________\n",
            "MAE: 0.4033333333333333\n",
            "MSE: 0.6646666666666666\n",
            "RMSE: 0.815270916117254\n",
            "R2 Square 0.4655714365354021\n",
            "Accuracy 0.7186666666666667\n",
            "__________________________________\n"
          ]
        }
      ]
    },
    {
      "cell_type": "code",
      "source": [
        "results_df_2 = pd.DataFrame(data=[[\"XGBClassifier\", *evaluate(y_test, prediction)]], \n",
        "                          columns=['Model', 'MAE', 'MSE', 'RMSE', 'R2 Square','Accuracy' ])\n",
        "results_df = results_df.append(results_df_2, ignore_index=True)\n",
        "results_df"
      ],
      "metadata": {
        "execution": {
          "iopub.status.busy": "2022-05-16T00:04:44.674959Z",
          "iopub.execute_input": "2022-05-16T00:04:44.675634Z",
          "iopub.status.idle": "2022-05-16T00:04:44.698194Z",
          "shell.execute_reply.started": "2022-05-16T00:04:44.675594Z",
          "shell.execute_reply": "2022-05-16T00:04:44.697400Z"
        },
        "trusted": true,
        "colab": {
          "base_uri": "https://localhost:8080/",
          "height": 332
        },
        "id": "MvaPype8f2BZ",
        "outputId": "689249f8-580e-4c2b-aff6-3516dcd73ce5"
      },
      "execution_count": 71,
      "outputs": [
        {
          "output_type": "execute_result",
          "data": {
            "text/plain": [
              "                        Model       MAE       MSE      RMSE  R2 Square  \\\n",
              "0        KNeighborsClassifier  0.471333  0.759333  0.871397   0.389454   \n",
              "1                         SVC  0.376667  0.612667  0.782730   0.507382   \n",
              "2                     RBF SVC  0.432667  0.708667  0.841823   0.430193   \n",
              "3      DecisionTreeClassifier  0.626000  1.091333  1.044669   0.122508   \n",
              "4          LogisticRegression  0.401333  0.646667  0.804156   0.480044   \n",
              "5               SGDClassifier  0.424000  0.604000  0.777174   0.514351   \n",
              "6  GradientBoostingClassifier  0.406000  0.663333  0.814453   0.466644   \n",
              "7              LGBMClassifier  0.392000  0.664000  0.814862   0.466107   \n",
              "8               XGBClassifier  0.403333  0.664667  0.815271   0.465571   \n",
              "\n",
              "   Accuracy  \n",
              "0  0.663333  \n",
              "1  0.734000  \n",
              "2  0.694667  \n",
              "3  0.577333  \n",
              "4  0.715333  \n",
              "5  0.659333  \n",
              "6  0.713333  \n",
              "7  0.730667  \n",
              "8  0.718667  "
            ],
            "text/html": [
              "\n",
              "  <div id=\"df-4af5630f-23ed-437e-a3d3-55164681f96b\">\n",
              "    <div class=\"colab-df-container\">\n",
              "      <div>\n",
              "<style scoped>\n",
              "    .dataframe tbody tr th:only-of-type {\n",
              "        vertical-align: middle;\n",
              "    }\n",
              "\n",
              "    .dataframe tbody tr th {\n",
              "        vertical-align: top;\n",
              "    }\n",
              "\n",
              "    .dataframe thead th {\n",
              "        text-align: right;\n",
              "    }\n",
              "</style>\n",
              "<table border=\"1\" class=\"dataframe\">\n",
              "  <thead>\n",
              "    <tr style=\"text-align: right;\">\n",
              "      <th></th>\n",
              "      <th>Model</th>\n",
              "      <th>MAE</th>\n",
              "      <th>MSE</th>\n",
              "      <th>RMSE</th>\n",
              "      <th>R2 Square</th>\n",
              "      <th>Accuracy</th>\n",
              "    </tr>\n",
              "  </thead>\n",
              "  <tbody>\n",
              "    <tr>\n",
              "      <th>0</th>\n",
              "      <td>KNeighborsClassifier</td>\n",
              "      <td>0.471333</td>\n",
              "      <td>0.759333</td>\n",
              "      <td>0.871397</td>\n",
              "      <td>0.389454</td>\n",
              "      <td>0.663333</td>\n",
              "    </tr>\n",
              "    <tr>\n",
              "      <th>1</th>\n",
              "      <td>SVC</td>\n",
              "      <td>0.376667</td>\n",
              "      <td>0.612667</td>\n",
              "      <td>0.782730</td>\n",
              "      <td>0.507382</td>\n",
              "      <td>0.734000</td>\n",
              "    </tr>\n",
              "    <tr>\n",
              "      <th>2</th>\n",
              "      <td>RBF SVC</td>\n",
              "      <td>0.432667</td>\n",
              "      <td>0.708667</td>\n",
              "      <td>0.841823</td>\n",
              "      <td>0.430193</td>\n",
              "      <td>0.694667</td>\n",
              "    </tr>\n",
              "    <tr>\n",
              "      <th>3</th>\n",
              "      <td>DecisionTreeClassifier</td>\n",
              "      <td>0.626000</td>\n",
              "      <td>1.091333</td>\n",
              "      <td>1.044669</td>\n",
              "      <td>0.122508</td>\n",
              "      <td>0.577333</td>\n",
              "    </tr>\n",
              "    <tr>\n",
              "      <th>4</th>\n",
              "      <td>LogisticRegression</td>\n",
              "      <td>0.401333</td>\n",
              "      <td>0.646667</td>\n",
              "      <td>0.804156</td>\n",
              "      <td>0.480044</td>\n",
              "      <td>0.715333</td>\n",
              "    </tr>\n",
              "    <tr>\n",
              "      <th>5</th>\n",
              "      <td>SGDClassifier</td>\n",
              "      <td>0.424000</td>\n",
              "      <td>0.604000</td>\n",
              "      <td>0.777174</td>\n",
              "      <td>0.514351</td>\n",
              "      <td>0.659333</td>\n",
              "    </tr>\n",
              "    <tr>\n",
              "      <th>6</th>\n",
              "      <td>GradientBoostingClassifier</td>\n",
              "      <td>0.406000</td>\n",
              "      <td>0.663333</td>\n",
              "      <td>0.814453</td>\n",
              "      <td>0.466644</td>\n",
              "      <td>0.713333</td>\n",
              "    </tr>\n",
              "    <tr>\n",
              "      <th>7</th>\n",
              "      <td>LGBMClassifier</td>\n",
              "      <td>0.392000</td>\n",
              "      <td>0.664000</td>\n",
              "      <td>0.814862</td>\n",
              "      <td>0.466107</td>\n",
              "      <td>0.730667</td>\n",
              "    </tr>\n",
              "    <tr>\n",
              "      <th>8</th>\n",
              "      <td>XGBClassifier</td>\n",
              "      <td>0.403333</td>\n",
              "      <td>0.664667</td>\n",
              "      <td>0.815271</td>\n",
              "      <td>0.465571</td>\n",
              "      <td>0.718667</td>\n",
              "    </tr>\n",
              "  </tbody>\n",
              "</table>\n",
              "</div>\n",
              "      <button class=\"colab-df-convert\" onclick=\"convertToInteractive('df-4af5630f-23ed-437e-a3d3-55164681f96b')\"\n",
              "              title=\"Convert this dataframe to an interactive table.\"\n",
              "              style=\"display:none;\">\n",
              "        \n",
              "  <svg xmlns=\"http://www.w3.org/2000/svg\" height=\"24px\"viewBox=\"0 0 24 24\"\n",
              "       width=\"24px\">\n",
              "    <path d=\"M0 0h24v24H0V0z\" fill=\"none\"/>\n",
              "    <path d=\"M18.56 5.44l.94 2.06.94-2.06 2.06-.94-2.06-.94-.94-2.06-.94 2.06-2.06.94zm-11 1L8.5 8.5l.94-2.06 2.06-.94-2.06-.94L8.5 2.5l-.94 2.06-2.06.94zm10 10l.94 2.06.94-2.06 2.06-.94-2.06-.94-.94-2.06-.94 2.06-2.06.94z\"/><path d=\"M17.41 7.96l-1.37-1.37c-.4-.4-.92-.59-1.43-.59-.52 0-1.04.2-1.43.59L10.3 9.45l-7.72 7.72c-.78.78-.78 2.05 0 2.83L4 21.41c.39.39.9.59 1.41.59.51 0 1.02-.2 1.41-.59l7.78-7.78 2.81-2.81c.8-.78.8-2.07 0-2.86zM5.41 20L4 18.59l7.72-7.72 1.47 1.35L5.41 20z\"/>\n",
              "  </svg>\n",
              "      </button>\n",
              "      \n",
              "  <style>\n",
              "    .colab-df-container {\n",
              "      display:flex;\n",
              "      flex-wrap:wrap;\n",
              "      gap: 12px;\n",
              "    }\n",
              "\n",
              "    .colab-df-convert {\n",
              "      background-color: #E8F0FE;\n",
              "      border: none;\n",
              "      border-radius: 50%;\n",
              "      cursor: pointer;\n",
              "      display: none;\n",
              "      fill: #1967D2;\n",
              "      height: 32px;\n",
              "      padding: 0 0 0 0;\n",
              "      width: 32px;\n",
              "    }\n",
              "\n",
              "    .colab-df-convert:hover {\n",
              "      background-color: #E2EBFA;\n",
              "      box-shadow: 0px 1px 2px rgba(60, 64, 67, 0.3), 0px 1px 3px 1px rgba(60, 64, 67, 0.15);\n",
              "      fill: #174EA6;\n",
              "    }\n",
              "\n",
              "    [theme=dark] .colab-df-convert {\n",
              "      background-color: #3B4455;\n",
              "      fill: #D2E3FC;\n",
              "    }\n",
              "\n",
              "    [theme=dark] .colab-df-convert:hover {\n",
              "      background-color: #434B5C;\n",
              "      box-shadow: 0px 1px 3px 1px rgba(0, 0, 0, 0.15);\n",
              "      filter: drop-shadow(0px 1px 2px rgba(0, 0, 0, 0.3));\n",
              "      fill: #FFFFFF;\n",
              "    }\n",
              "  </style>\n",
              "\n",
              "      <script>\n",
              "        const buttonEl =\n",
              "          document.querySelector('#df-4af5630f-23ed-437e-a3d3-55164681f96b button.colab-df-convert');\n",
              "        buttonEl.style.display =\n",
              "          google.colab.kernel.accessAllowed ? 'block' : 'none';\n",
              "\n",
              "        async function convertToInteractive(key) {\n",
              "          const element = document.querySelector('#df-4af5630f-23ed-437e-a3d3-55164681f96b');\n",
              "          const dataTable =\n",
              "            await google.colab.kernel.invokeFunction('convertToInteractive',\n",
              "                                                     [key], {});\n",
              "          if (!dataTable) return;\n",
              "\n",
              "          const docLinkHtml = 'Like what you see? Visit the ' +\n",
              "            '<a target=\"_blank\" href=https://colab.research.google.com/notebooks/data_table.ipynb>data table notebook</a>'\n",
              "            + ' to learn more about interactive tables.';\n",
              "          element.innerHTML = '';\n",
              "          dataTable['output_type'] = 'display_data';\n",
              "          await google.colab.output.renderOutput(dataTable, element);\n",
              "          const docLink = document.createElement('div');\n",
              "          docLink.innerHTML = docLinkHtml;\n",
              "          element.appendChild(docLink);\n",
              "        }\n",
              "      </script>\n",
              "    </div>\n",
              "  </div>\n",
              "  "
            ]
          },
          "metadata": {},
          "execution_count": 71
        }
      ]
    },
    {
      "cell_type": "code",
      "source": [
        "print(classification_report(y_test,prediction))"
      ],
      "metadata": {
        "execution": {
          "iopub.status.busy": "2022-05-16T00:05:09.553750Z",
          "iopub.execute_input": "2022-05-16T00:05:09.554244Z",
          "iopub.status.idle": "2022-05-16T00:05:09.565675Z",
          "shell.execute_reply.started": "2022-05-16T00:05:09.554209Z",
          "shell.execute_reply": "2022-05-16T00:05:09.564792Z"
        },
        "trusted": true,
        "colab": {
          "base_uri": "https://localhost:8080/"
        },
        "id": "eqmMd-qGf2Ba",
        "outputId": "34b0a45e-79e4-4773-b691-4d6d3319bc15"
      },
      "execution_count": 72,
      "outputs": [
        {
          "output_type": "stream",
          "name": "stdout",
          "text": [
            "              precision    recall  f1-score   support\n",
            "\n",
            "           0       0.59      0.59      0.59       348\n",
            "           1       0.69      0.70      0.69       381\n",
            "           2       0.64      0.62      0.63       372\n",
            "           3       0.92      0.95      0.93       399\n",
            "\n",
            "    accuracy                           0.72      1500\n",
            "   macro avg       0.71      0.71      0.71      1500\n",
            "weighted avg       0.72      0.72      0.72      1500\n",
            "\n"
          ]
        }
      ]
    },
    {
      "cell_type": "code",
      "source": [
        "from sklearn.metrics import confusion_matrix\n",
        "from matplotlib.pyplot import figure\n",
        "figure(figsize=(5, 4), dpi=80)\n",
        "cm = confusion_matrix(y_test,prediction)\n",
        "\n",
        "sns.heatmap(cm, annot=True,fmt=\"d\",cmap=\"YlGnBu\")"
      ],
      "metadata": {
        "execution": {
          "iopub.status.busy": "2022-05-16T00:05:18.390988Z",
          "iopub.execute_input": "2022-05-16T00:05:18.391365Z",
          "iopub.status.idle": "2022-05-16T00:05:18.702917Z",
          "shell.execute_reply.started": "2022-05-16T00:05:18.391324Z",
          "shell.execute_reply": "2022-05-16T00:05:18.701476Z"
        },
        "trusted": true,
        "colab": {
          "base_uri": "https://localhost:8080/",
          "height": 309
        },
        "id": "Tqb5HNeaf2Ba",
        "outputId": "1c4fb9f0-1d4a-4a3c-e451-a5bd66950358"
      },
      "execution_count": 73,
      "outputs": [
        {
          "output_type": "execute_result",
          "data": {
            "text/plain": [
              "<matplotlib.axes._subplots.AxesSubplot at 0x7fa533f2ee50>"
            ]
          },
          "metadata": {},
          "execution_count": 73
        },
        {
          "output_type": "display_data",
          "data": {
            "text/plain": [
              "<Figure size 400x320 with 2 Axes>"
            ],
            "image/png": "[encoded data removed]"
          },
          "metadata": {
            "needs_background": "light"
          }
        }
      ]
    },
    {
      "cell_type": "markdown",
      "source": [
        "# RandomForestClassifier"
      ],
      "metadata": {
        "id": "LAcka-gsf2Ba"
      }
    },
    {
      "cell_type": "code",
      "source": [
        "from sklearn.ensemble import RandomForestClassifier\n",
        "\n",
        "rf_model = RandomForestClassifier()\n",
        "rf_model = rf_model.fit(X_for_model, y_train)\n",
        "rf_model"
      ],
      "metadata": {
        "execution": {
          "iopub.status.busy": "2022-05-16T00:08:35.776625Z",
          "iopub.execute_input": "2022-05-16T00:08:35.777097Z",
          "iopub.status.idle": "2022-05-16T00:08:36.866387Z",
          "shell.execute_reply.started": "2022-05-16T00:08:35.777056Z",
          "shell.execute_reply": "2022-05-16T00:08:36.865341Z"
        },
        "trusted": true,
        "colab": {
          "base_uri": "https://localhost:8080/"
        },
        "id": "V_wdDusnf2Ba",
        "outputId": "b4a2a0f9-430e-4731-a8b2-6a28b549d7a4"
      },
      "execution_count": 74,
      "outputs": [
        {
          "output_type": "execute_result",
          "data": {
            "text/plain": [
              "RandomForestClassifier()"
            ]
          },
          "metadata": {},
          "execution_count": 74
        }
      ]
    },
    {
      "cell_type": "code",
      "source": [
        "X_test_feature = VGG_model.predict(x_test)\n",
        "X_test_features = X_test_feature.reshape(X_test_feature.shape[0], -1)\n",
        "#Now predict using the trained RF model. \n",
        "prediction = rf_model.predict(X_test_features)"
      ],
      "metadata": {
        "execution": {
          "iopub.status.busy": "2022-05-16T00:08:50.815994Z",
          "iopub.execute_input": "2022-05-16T00:08:50.816342Z",
          "iopub.status.idle": "2022-05-16T00:09:01.001331Z",
          "shell.execute_reply.started": "2022-05-16T00:08:50.816303Z",
          "shell.execute_reply": "2022-05-16T00:09:01.000235Z"
        },
        "trusted": true,
        "id": "suvfEC20f2Ba"
      },
      "execution_count": 75,
      "outputs": []
    },
    {
      "cell_type": "code",
      "source": [
        "print('Test set evaluation:\\n_____________________________________')\n",
        "print_evaluate(y_test, prediction)"
      ],
      "metadata": {
        "execution": {
          "iopub.status.busy": "2022-05-16T00:09:01.003866Z",
          "iopub.execute_input": "2022-05-16T00:09:01.004254Z",
          "iopub.status.idle": "2022-05-16T00:09:01.015202Z",
          "shell.execute_reply.started": "2022-05-16T00:09:01.004206Z",
          "shell.execute_reply": "2022-05-16T00:09:01.014181Z"
        },
        "trusted": true,
        "colab": {
          "base_uri": "https://localhost:8080/"
        },
        "id": "NPUiqafff2Ba",
        "outputId": "30d31823-ce4e-4d53-d9bf-b769524ec7bb"
      },
      "execution_count": 76,
      "outputs": [
        {
          "output_type": "stream",
          "name": "stdout",
          "text": [
            "Test set evaluation:\n",
            "_____________________________________\n",
            "MAE: 0.3893333333333333\n",
            "MSE: 0.6266666666666667\n",
            "RMSE: 0.7916228058025279\n",
            "R2 Square 0.4961255269240501\n",
            "Accuracy 0.722\n",
            "__________________________________\n"
          ]
        }
      ]
    },
    {
      "cell_type": "code",
      "source": [
        "results_df_2 = pd.DataFrame(data=[[\"RandomForestClassifier\", *evaluate(y_test, prediction)]], \n",
        "                          columns=['Model', 'MAE', 'MSE', 'RMSE', 'R2 Square','Accuracy' ])\n",
        "results_df = results_df.append(results_df_2, ignore_index=True)\n",
        "results_df"
      ],
      "metadata": {
        "execution": {
          "iopub.status.busy": "2022-05-16T00:09:35.405506Z",
          "iopub.execute_input": "2022-05-16T00:09:35.405836Z",
          "iopub.status.idle": "2022-05-16T00:09:35.432067Z",
          "shell.execute_reply.started": "2022-05-16T00:09:35.405806Z",
          "shell.execute_reply": "2022-05-16T00:09:35.430863Z"
        },
        "trusted": true,
        "colab": {
          "base_uri": "https://localhost:8080/",
          "height": 363
        },
        "id": "3M-lhAFwf2Ba",
        "outputId": "bb3773b6-9605-4018-cff0-d70ecc25e4fe"
      },
      "execution_count": 77,
      "outputs": [
        {
          "output_type": "execute_result",
          "data": {
            "text/plain": [
              "                        Model       MAE       MSE      RMSE  R2 Square  \\\n",
              "0        KNeighborsClassifier  0.471333  0.759333  0.871397   0.389454   \n",
              "1                         SVC  0.376667  0.612667  0.782730   0.507382   \n",
              "2                     RBF SVC  0.432667  0.708667  0.841823   0.430193   \n",
              "3      DecisionTreeClassifier  0.626000  1.091333  1.044669   0.122508   \n",
              "4          LogisticRegression  0.401333  0.646667  0.804156   0.480044   \n",
              "5               SGDClassifier  0.424000  0.604000  0.777174   0.514351   \n",
              "6  GradientBoostingClassifier  0.406000  0.663333  0.814453   0.466644   \n",
              "7              LGBMClassifier  0.392000  0.664000  0.814862   0.466107   \n",
              "8               XGBClassifier  0.403333  0.664667  0.815271   0.465571   \n",
              "9      RandomForestClassifier  0.389333  0.626667  0.791623   0.496126   \n",
              "\n",
              "   Accuracy  \n",
              "0  0.663333  \n",
              "1  0.734000  \n",
              "2  0.694667  \n",
              "3  0.577333  \n",
              "4  0.715333  \n",
              "5  0.659333  \n",
              "6  0.713333  \n",
              "7  0.730667  \n",
              "8  0.718667  \n",
              "9  0.722000  "
            ],
            "text/html": [
              "\n",
              "  <div id=\"df-fef06eee-7665-4f6a-8f77-ea16eb20ab9f\">\n",
              "    <div class=\"colab-df-container\">\n",
              "      <div>\n",
              "<style scoped>\n",
              "    .dataframe tbody tr th:only-of-type {\n",
              "        vertical-align: middle;\n",
              "    }\n",
              "\n",
              "    .dataframe tbody tr th {\n",
              "        vertical-align: top;\n",
              "    }\n",
              "\n",
              "    .dataframe thead th {\n",
              "        text-align: right;\n",
              "    }\n",
              "</style>\n",
              "<table border=\"1\" class=\"dataframe\">\n",
              "  <thead>\n",
              "    <tr style=\"text-align: right;\">\n",
              "      <th></th>\n",
              "      <th>Model</th>\n",
              "      <th>MAE</th>\n",
              "      <th>MSE</th>\n",
              "      <th>RMSE</th>\n",
              "      <th>R2 Square</th>\n",
              "      <th>Accuracy</th>\n",
              "    </tr>\n",
              "  </thead>\n",
              "  <tbody>\n",
              "    <tr>\n",
              "      <th>0</th>\n",
              "      <td>KNeighborsClassifier</td>\n",
              "      <td>0.471333</td>\n",
              "      <td>0.759333</td>\n",
              "      <td>0.871397</td>\n",
              "      <td>0.389454</td>\n",
              "      <td>0.663333</td>\n",
              "    </tr>\n",
              "    <tr>\n",
              "      <th>1</th>\n",
              "      <td>SVC</td>\n",
              "      <td>0.376667</td>\n",
              "      <td>0.612667</td>\n",
              "      <td>0.782730</td>\n",
              "      <td>0.507382</td>\n",
              "      <td>0.734000</td>\n",
              "    </tr>\n",
              "    <tr>\n",
              "      <th>2</th>\n",
              "      <td>RBF SVC</td>\n",
              "      <td>0.432667</td>\n",
              "      <td>0.708667</td>\n",
              "      <td>0.841823</td>\n",
              "      <td>0.430193</td>\n",
              "      <td>0.694667</td>\n",
              "    </tr>\n",
              "    <tr>\n",
              "      <th>3</th>\n",
              "      <td>DecisionTreeClassifier</td>\n",
              "      <td>0.626000</td>\n",
              "      <td>1.091333</td>\n",
              "      <td>1.044669</td>\n",
              "      <td>0.122508</td>\n",
              "      <td>0.577333</td>\n",
              "    </tr>\n",
              "    <tr>\n",
              "      <th>4</th>\n",
              "      <td>LogisticRegression</td>\n",
              "      <td>0.401333</td>\n",
              "      <td>0.646667</td>\n",
              "      <td>0.804156</td>\n",
              "      <td>0.480044</td>\n",
              "      <td>0.715333</td>\n",
              "    </tr>\n",
              "    <tr>\n",
              "      <th>5</th>\n",
              "      <td>SGDClassifier</td>\n",
              "      <td>0.424000</td>\n",
              "      <td>0.604000</td>\n",
              "      <td>0.777174</td>\n",
              "      <td>0.514351</td>\n",
              "      <td>0.659333</td>\n",
              "    </tr>\n",
              "    <tr>\n",
              "      <th>6</th>\n",
              "      <td>GradientBoostingClassifier</td>\n",
              "      <td>0.406000</td>\n",
              "      <td>0.663333</td>\n",
              "      <td>0.814453</td>\n",
              "      <td>0.466644</td>\n",
              "      <td>0.713333</td>\n",
              "    </tr>\n",
              "    <tr>\n",
              "      <th>7</th>\n",
              "      <td>LGBMClassifier</td>\n",
              "      <td>0.392000</td>\n",
              "      <td>0.664000</td>\n",
              "      <td>0.814862</td>\n",
              "      <td>0.466107</td>\n",
              "      <td>0.730667</td>\n",
              "    </tr>\n",
              "    <tr>\n",
              "      <th>8</th>\n",
              "      <td>XGBClassifier</td>\n",
              "      <td>0.403333</td>\n",
              "      <td>0.664667</td>\n",
              "      <td>0.815271</td>\n",
              "      <td>0.465571</td>\n",
              "      <td>0.718667</td>\n",
              "    </tr>\n",
              "    <tr>\n",
              "      <th>9</th>\n",
              "      <td>RandomForestClassifier</td>\n",
              "      <td>0.389333</td>\n",
              "      <td>0.626667</td>\n",
              "      <td>0.791623</td>\n",
              "      <td>0.496126</td>\n",
              "      <td>0.722000</td>\n",
              "    </tr>\n",
              "  </tbody>\n",
              "</table>\n",
              "</div>\n",
              "      <button class=\"colab-df-convert\" onclick=\"convertToInteractive('df-fef06eee-7665-4f6a-8f77-ea16eb20ab9f')\"\n",
              "              title=\"Convert this dataframe to an interactive table.\"\n",
              "              style=\"display:none;\">\n",
              "        \n",
              "  <svg xmlns=\"http://www.w3.org/2000/svg\" height=\"24px\"viewBox=\"0 0 24 24\"\n",
              "       width=\"24px\">\n",
              "    <path d=\"M0 0h24v24H0V0z\" fill=\"none\"/>\n",
              "    <path d=\"M18.56 5.44l.94 2.06.94-2.06 2.06-.94-2.06-.94-.94-2.06-.94 2.06-2.06.94zm-11 1L8.5 8.5l.94-2.06 2.06-.94-2.06-.94L8.5 2.5l-.94 2.06-2.06.94zm10 10l.94 2.06.94-2.06 2.06-.94-2.06-.94-.94-2.06-.94 2.06-2.06.94z\"/><path d=\"M17.41 7.96l-1.37-1.37c-.4-.4-.92-.59-1.43-.59-.52 0-1.04.2-1.43.59L10.3 9.45l-7.72 7.72c-.78.78-.78 2.05 0 2.83L4 21.41c.39.39.9.59 1.41.59.51 0 1.02-.2 1.41-.59l7.78-7.78 2.81-2.81c.8-.78.8-2.07 0-2.86zM5.41 20L4 18.59l7.72-7.72 1.47 1.35L5.41 20z\"/>\n",
              "  </svg>\n",
              "      </button>\n",
              "      \n",
              "  <style>\n",
              "    .colab-df-container {\n",
              "      display:flex;\n",
              "      flex-wrap:wrap;\n",
              "      gap: 12px;\n",
              "    }\n",
              "\n",
              "    .colab-df-convert {\n",
              "      background-color: #E8F0FE;\n",
              "      border: none;\n",
              "      border-radius: 50%;\n",
              "      cursor: pointer;\n",
              "      display: none;\n",
              "      fill: #1967D2;\n",
              "      height: 32px;\n",
              "      padding: 0 0 0 0;\n",
              "      width: 32px;\n",
              "    }\n",
              "\n",
              "    .colab-df-convert:hover {\n",
              "      background-color: #E2EBFA;\n",
              "      box-shadow: 0px 1px 2px rgba(60, 64, 67, 0.3), 0px 1px 3px 1px rgba(60, 64, 67, 0.15);\n",
              "      fill: #174EA6;\n",
              "    }\n",
              "\n",
              "    [theme=dark] .colab-df-convert {\n",
              "      background-color: #3B4455;\n",
              "      fill: #D2E3FC;\n",
              "    }\n",
              "\n",
              "    [theme=dark] .colab-df-convert:hover {\n",
              "      background-color: #434B5C;\n",
              "      box-shadow: 0px 1px 3px 1px rgba(0, 0, 0, 0.15);\n",
              "      filter: drop-shadow(0px 1px 2px rgba(0, 0, 0, 0.3));\n",
              "      fill: #FFFFFF;\n",
              "    }\n",
              "  </style>\n",
              "\n",
              "      <script>\n",
              "        const buttonEl =\n",
              "          document.querySelector('#df-fef06eee-7665-4f6a-8f77-ea16eb20ab9f button.colab-df-convert');\n",
              "        buttonEl.style.display =\n",
              "          google.colab.kernel.accessAllowed ? 'block' : 'none';\n",
              "\n",
              "        async function convertToInteractive(key) {\n",
              "          const element = document.querySelector('#df-fef06eee-7665-4f6a-8f77-ea16eb20ab9f');\n",
              "          const dataTable =\n",
              "            await google.colab.kernel.invokeFunction('convertToInteractive',\n",
              "                                                     [key], {});\n",
              "          if (!dataTable) return;\n",
              "\n",
              "          const docLinkHtml = 'Like what you see? Visit the ' +\n",
              "            '<a target=\"_blank\" href=https://colab.research.google.com/notebooks/data_table.ipynb>data table notebook</a>'\n",
              "            + ' to learn more about interactive tables.';\n",
              "          element.innerHTML = '';\n",
              "          dataTable['output_type'] = 'display_data';\n",
              "          await google.colab.output.renderOutput(dataTable, element);\n",
              "          const docLink = document.createElement('div');\n",
              "          docLink.innerHTML = docLinkHtml;\n",
              "          element.appendChild(docLink);\n",
              "        }\n",
              "      </script>\n",
              "    </div>\n",
              "  </div>\n",
              "  "
            ]
          },
          "metadata": {},
          "execution_count": 77
        }
      ]
    },
    {
      "cell_type": "code",
      "source": [
        "print(classification_report(y_test,prediction))"
      ],
      "metadata": {
        "execution": {
          "iopub.status.busy": "2022-05-16T00:09:47.943713Z",
          "iopub.execute_input": "2022-05-16T00:09:47.944255Z",
          "iopub.status.idle": "2022-05-16T00:09:47.958055Z",
          "shell.execute_reply.started": "2022-05-16T00:09:47.944219Z",
          "shell.execute_reply": "2022-05-16T00:09:47.957037Z"
        },
        "trusted": true,
        "colab": {
          "base_uri": "https://localhost:8080/"
        },
        "id": "YEtkigmBf2Bb",
        "outputId": "3de9907e-2e04-4687-98f9-3fc80c0b453c"
      },
      "execution_count": 78,
      "outputs": [
        {
          "output_type": "stream",
          "name": "stdout",
          "text": [
            "              precision    recall  f1-score   support\n",
            "\n",
            "           0       0.61      0.62      0.62       348\n",
            "           1       0.67      0.72      0.69       381\n",
            "           2       0.67      0.57      0.62       372\n",
            "           3       0.90      0.95      0.93       399\n",
            "\n",
            "    accuracy                           0.72      1500\n",
            "   macro avg       0.71      0.72      0.71      1500\n",
            "weighted avg       0.72      0.72      0.72      1500\n",
            "\n"
          ]
        }
      ]
    },
    {
      "cell_type": "code",
      "source": [
        "from sklearn.metrics import confusion_matrix\n",
        "from matplotlib.pyplot import figure\n",
        "figure(figsize=(5, 4), dpi=80)\n",
        "cm = confusion_matrix(y_test,prediction)\n",
        "\n",
        "sns.heatmap(cm, annot=True,fmt=\"d\",cmap=\"YlGnBu\")"
      ],
      "metadata": {
        "execution": {
          "iopub.status.busy": "2022-05-16T00:09:56.324111Z",
          "iopub.execute_input": "2022-05-16T00:09:56.324446Z",
          "iopub.status.idle": "2022-05-16T00:09:56.672858Z",
          "shell.execute_reply.started": "2022-05-16T00:09:56.324414Z",
          "shell.execute_reply": "2022-05-16T00:09:56.671616Z"
        },
        "trusted": true,
        "colab": {
          "base_uri": "https://localhost:8080/",
          "height": 309
        },
        "id": "xSO19ab5f2Bb",
        "outputId": "1da7f4b2-326b-4e61-88be-780c2559ea3b"
      },
      "execution_count": 79,
      "outputs": [
        {
          "output_type": "execute_result",
          "data": {
            "text/plain": [
              "<matplotlib.axes._subplots.AxesSubplot at 0x7fa52f767910>"
            ]
          },
          "metadata": {},
          "execution_count": 79
        },
        {
          "output_type": "display_data",
          "data": {
            "text/plain": [
              "<Figure size 400x320 with 2 Axes>"
            ],
            "image/png": "[encoded data removed]"
          },
          "metadata": {
            "needs_background": "light"
          }
        }
      ]
    },
    {
      "cell_type": "markdown",
      "source": [
        "# GaussianNB"
      ],
      "metadata": {
        "id": "K9DwGfY77S5U"
      }
    },
    {
      "cell_type": "code",
      "source": [
        "from sklearn.naive_bayes import GaussianNB\n",
        "\n",
        "\n",
        "GB_model = GaussianNB()\n",
        "GB_model = GB_model.fit(X_for_model, y_train)\n",
        "GB_model"
      ],
      "metadata": {
        "colab": {
          "base_uri": "https://localhost:8080/"
        },
        "id": "AKiD1c3hf2Bb",
        "outputId": "9620fefb-a325-4e21-c4a4-298d0475072a"
      },
      "execution_count": 80,
      "outputs": [
        {
          "output_type": "execute_result",
          "data": {
            "text/plain": [
              "GaussianNB()"
            ]
          },
          "metadata": {},
          "execution_count": 80
        }
      ]
    },
    {
      "cell_type": "code",
      "source": [
        "X_test_feature = VGG_model.predict(x_test)\n",
        "X_test_features = X_test_feature.reshape(X_test_feature.shape[0], -1)\n",
        "#Now predict using the trained RF model. \n",
        "prediction = GB_model.predict(X_test_features)"
      ],
      "metadata": {
        "id": "QUlW48xx7YBq"
      },
      "execution_count": 81,
      "outputs": []
    },
    {
      "cell_type": "code",
      "source": [
        "print('Test set evaluation:\\n_____________________________________')\n",
        "print_evaluate(y_test, prediction)"
      ],
      "metadata": {
        "colab": {
          "base_uri": "https://localhost:8080/"
        },
        "id": "38NU1y-d7YEC",
        "outputId": "44d44bbe-16a5-4916-8de8-faf90f6613d2"
      },
      "execution_count": 82,
      "outputs": [
        {
          "output_type": "stream",
          "name": "stdout",
          "text": [
            "Test set evaluation:\n",
            "_____________________________________\n",
            "MAE: 0.6566666666666666\n",
            "MSE: 1.0633333333333332\n",
            "RMSE: 1.0311805532172014\n",
            "R2 Square 0.14502150579134032\n",
            "Accuracy 0.5313333333333333\n",
            "__________________________________\n"
          ]
        }
      ]
    },
    {
      "cell_type": "code",
      "source": [
        "results_df_2 = pd.DataFrame(data=[[\"GaussianNB\", *evaluate(y_test, prediction)]], \n",
        "                          columns=['Model', 'MAE', 'MSE', 'RMSE', 'R2 Square','Accuracy' ])\n",
        "results_df = results_df.append(results_df_2, ignore_index=True)\n",
        "results_df"
      ],
      "metadata": {
        "colab": {
          "base_uri": "https://localhost:8080/",
          "height": 394
        },
        "id": "sM439anp7YGj",
        "outputId": "456a7383-2bd7-4bfb-8bdc-d9e4411feb2c"
      },
      "execution_count": 83,
      "outputs": [
        {
          "output_type": "execute_result",
          "data": {
            "text/plain": [
              "                         Model       MAE       MSE      RMSE  R2 Square  \\\n",
              "0         KNeighborsClassifier  0.471333  0.759333  0.871397   0.389454   \n",
              "1                          SVC  0.376667  0.612667  0.782730   0.507382   \n",
              "2                      RBF SVC  0.432667  0.708667  0.841823   0.430193   \n",
              "3       DecisionTreeClassifier  0.626000  1.091333  1.044669   0.122508   \n",
              "4           LogisticRegression  0.401333  0.646667  0.804156   0.480044   \n",
              "5                SGDClassifier  0.424000  0.604000  0.777174   0.514351   \n",
              "6   GradientBoostingClassifier  0.406000  0.663333  0.814453   0.466644   \n",
              "7               LGBMClassifier  0.392000  0.664000  0.814862   0.466107   \n",
              "8                XGBClassifier  0.403333  0.664667  0.815271   0.465571   \n",
              "9       RandomForestClassifier  0.389333  0.626667  0.791623   0.496126   \n",
              "10                  GaussianNB  0.656667  1.063333  1.031181   0.145022   \n",
              "\n",
              "    Accuracy  \n",
              "0   0.663333  \n",
              "1   0.734000  \n",
              "2   0.694667  \n",
              "3   0.577333  \n",
              "4   0.715333  \n",
              "5   0.659333  \n",
              "6   0.713333  \n",
              "7   0.730667  \n",
              "8   0.718667  \n",
              "9   0.722000  \n",
              "10  0.531333  "
            ],
            "text/html": [
              "\n",
              "  <div id=\"df-6bab32ae-7a24-4cf9-b56b-dcef24c4fc3b\">\n",
              "    <div class=\"colab-df-container\">\n",
              "      <div>\n",
              "<style scoped>\n",
              "    .dataframe tbody tr th:only-of-type {\n",
              "        vertical-align: middle;\n",
              "    }\n",
              "\n",
              "    .dataframe tbody tr th {\n",
              "        vertical-align: top;\n",
              "    }\n",
              "\n",
              "    .dataframe thead th {\n",
              "        text-align: right;\n",
              "    }\n",
              "</style>\n",
              "<table border=\"1\" class=\"dataframe\">\n",
              "  <thead>\n",
              "    <tr style=\"text-align: right;\">\n",
              "      <th></th>\n",
              "      <th>Model</th>\n",
              "      <th>MAE</th>\n",
              "      <th>MSE</th>\n",
              "      <th>RMSE</th>\n",
              "      <th>R2 Square</th>\n",
              "      <th>Accuracy</th>\n",
              "    </tr>\n",
              "  </thead>\n",
              "  <tbody>\n",
              "    <tr>\n",
              "      <th>0</th>\n",
              "      <td>KNeighborsClassifier</td>\n",
              "      <td>0.471333</td>\n",
              "      <td>0.759333</td>\n",
              "      <td>0.871397</td>\n",
              "      <td>0.389454</td>\n",
              "      <td>0.663333</td>\n",
              "    </tr>\n",
              "    <tr>\n",
              "      <th>1</th>\n",
              "      <td>SVC</td>\n",
              "      <td>0.376667</td>\n",
              "      <td>0.612667</td>\n",
              "      <td>0.782730</td>\n",
              "      <td>0.507382</td>\n",
              "      <td>0.734000</td>\n",
              "    </tr>\n",
              "    <tr>\n",
              "      <th>2</th>\n",
              "      <td>RBF SVC</td>\n",
              "      <td>0.432667</td>\n",
              "      <td>0.708667</td>\n",
              "      <td>0.841823</td>\n",
              "      <td>0.430193</td>\n",
              "      <td>0.694667</td>\n",
              "    </tr>\n",
              "    <tr>\n",
              "      <th>3</th>\n",
              "      <td>DecisionTreeClassifier</td>\n",
              "      <td>0.626000</td>\n",
              "      <td>1.091333</td>\n",
              "      <td>1.044669</td>\n",
              "      <td>0.122508</td>\n",
              "      <td>0.577333</td>\n",
              "    </tr>\n",
              "    <tr>\n",
              "      <th>4</th>\n",
              "      <td>LogisticRegression</td>\n",
              "      <td>0.401333</td>\n",
              "      <td>0.646667</td>\n",
              "      <td>0.804156</td>\n",
              "      <td>0.480044</td>\n",
              "      <td>0.715333</td>\n",
              "    </tr>\n",
              "    <tr>\n",
              "      <th>5</th>\n",
              "      <td>SGDClassifier</td>\n",
              "      <td>0.424000</td>\n",
              "      <td>0.604000</td>\n",
              "      <td>0.777174</td>\n",
              "      <td>0.514351</td>\n",
              "      <td>0.659333</td>\n",
              "    </tr>\n",
              "    <tr>\n",
              "      <th>6</th>\n",
              "      <td>GradientBoostingClassifier</td>\n",
              "      <td>0.406000</td>\n",
              "      <td>0.663333</td>\n",
              "      <td>0.814453</td>\n",
              "      <td>0.466644</td>\n",
              "      <td>0.713333</td>\n",
              "    </tr>\n",
              "    <tr>\n",
              "      <th>7</th>\n",
              "      <td>LGBMClassifier</td>\n",
              "      <td>0.392000</td>\n",
              "      <td>0.664000</td>\n",
              "      <td>0.814862</td>\n",
              "      <td>0.466107</td>\n",
              "      <td>0.730667</td>\n",
              "    </tr>\n",
              "    <tr>\n",
              "      <th>8</th>\n",
              "      <td>XGBClassifier</td>\n",
              "      <td>0.403333</td>\n",
              "      <td>0.664667</td>\n",
              "      <td>0.815271</td>\n",
              "      <td>0.465571</td>\n",
              "      <td>0.718667</td>\n",
              "    </tr>\n",
              "    <tr>\n",
              "      <th>9</th>\n",
              "      <td>RandomForestClassifier</td>\n",
              "      <td>0.389333</td>\n",
              "      <td>0.626667</td>\n",
              "      <td>0.791623</td>\n",
              "      <td>0.496126</td>\n",
              "      <td>0.722000</td>\n",
              "    </tr>\n",
              "    <tr>\n",
              "      <th>10</th>\n",
              "      <td>GaussianNB</td>\n",
              "      <td>0.656667</td>\n",
              "      <td>1.063333</td>\n",
              "      <td>1.031181</td>\n",
              "      <td>0.145022</td>\n",
              "      <td>0.531333</td>\n",
              "    </tr>\n",
              "  </tbody>\n",
              "</table>\n",
              "</div>\n",
              "      <button class=\"colab-df-convert\" onclick=\"convertToInteractive('df-6bab32ae-7a24-4cf9-b56b-dcef24c4fc3b')\"\n",
              "              title=\"Convert this dataframe to an interactive table.\"\n",
              "              style=\"display:none;\">\n",
              "        \n",
              "  <svg xmlns=\"http://www.w3.org/2000/svg\" height=\"24px\"viewBox=\"0 0 24 24\"\n",
              "       width=\"24px\">\n",
              "    <path d=\"M0 0h24v24H0V0z\" fill=\"none\"/>\n",
              "    <path d=\"M18.56 5.44l.94 2.06.94-2.06 2.06-.94-2.06-.94-.94-2.06-.94 2.06-2.06.94zm-11 1L8.5 8.5l.94-2.06 2.06-.94-2.06-.94L8.5 2.5l-.94 2.06-2.06.94zm10 10l.94 2.06.94-2.06 2.06-.94-2.06-.94-.94-2.06-.94 2.06-2.06.94z\"/><path d=\"M17.41 7.96l-1.37-1.37c-.4-.4-.92-.59-1.43-.59-.52 0-1.04.2-1.43.59L10.3 9.45l-7.72 7.72c-.78.78-.78 2.05 0 2.83L4 21.41c.39.39.9.59 1.41.59.51 0 1.02-.2 1.41-.59l7.78-7.78 2.81-2.81c.8-.78.8-2.07 0-2.86zM5.41 20L4 18.59l7.72-7.72 1.47 1.35L5.41 20z\"/>\n",
              "  </svg>\n",
              "      </button>\n",
              "      \n",
              "  <style>\n",
              "    .colab-df-container {\n",
              "      display:flex;\n",
              "      flex-wrap:wrap;\n",
              "      gap: 12px;\n",
              "    }\n",
              "\n",
              "    .colab-df-convert {\n",
              "      background-color: #E8F0FE;\n",
              "      border: none;\n",
              "      border-radius: 50%;\n",
              "      cursor: pointer;\n",
              "      display: none;\n",
              "      fill: #1967D2;\n",
              "      height: 32px;\n",
              "      padding: 0 0 0 0;\n",
              "      width: 32px;\n",
              "    }\n",
              "\n",
              "    .colab-df-convert:hover {\n",
              "      background-color: #E2EBFA;\n",
              "      box-shadow: 0px 1px 2px rgba(60, 64, 67, 0.3), 0px 1px 3px 1px rgba(60, 64, 67, 0.15);\n",
              "      fill: #174EA6;\n",
              "    }\n",
              "\n",
              "    [theme=dark] .colab-df-convert {\n",
              "      background-color: #3B4455;\n",
              "      fill: #D2E3FC;\n",
              "    }\n",
              "\n",
              "    [theme=dark] .colab-df-convert:hover {\n",
              "      background-color: #434B5C;\n",
              "      box-shadow: 0px 1px 3px 1px rgba(0, 0, 0, 0.15);\n",
              "      filter: drop-shadow(0px 1px 2px rgba(0, 0, 0, 0.3));\n",
              "      fill: #FFFFFF;\n",
              "    }\n",
              "  </style>\n",
              "\n",
              "      <script>\n",
              "        const buttonEl =\n",
              "          document.querySelector('#df-6bab32ae-7a24-4cf9-b56b-dcef24c4fc3b button.colab-df-convert');\n",
              "        buttonEl.style.display =\n",
              "          google.colab.kernel.accessAllowed ? 'block' : 'none';\n",
              "\n",
              "        async function convertToInteractive(key) {\n",
              "          const element = document.querySelector('#df-6bab32ae-7a24-4cf9-b56b-dcef24c4fc3b');\n",
              "          const dataTable =\n",
              "            await google.colab.kernel.invokeFunction('convertToInteractive',\n",
              "                                                     [key], {});\n",
              "          if (!dataTable) return;\n",
              "\n",
              "          const docLinkHtml = 'Like what you see? Visit the ' +\n",
              "            '<a target=\"_blank\" href=https://colab.research.google.com/notebooks/data_table.ipynb>data table notebook</a>'\n",
              "            + ' to learn more about interactive tables.';\n",
              "          element.innerHTML = '';\n",
              "          dataTable['output_type'] = 'display_data';\n",
              "          await google.colab.output.renderOutput(dataTable, element);\n",
              "          const docLink = document.createElement('div');\n",
              "          docLink.innerHTML = docLinkHtml;\n",
              "          element.appendChild(docLink);\n",
              "        }\n",
              "      </script>\n",
              "    </div>\n",
              "  </div>\n",
              "  "
            ]
          },
          "metadata": {},
          "execution_count": 83
        }
      ]
    },
    {
      "cell_type": "code",
      "source": [
        "print(classification_report(y_test,prediction))"
      ],
      "metadata": {
        "colab": {
          "base_uri": "https://localhost:8080/"
        },
        "id": "c5MuUylm7YI3",
        "outputId": "f239a48d-e189-47a9-a81f-f8c96e3a18e2"
      },
      "execution_count": 84,
      "outputs": [
        {
          "output_type": "stream",
          "name": "stdout",
          "text": [
            "              precision    recall  f1-score   support\n",
            "\n",
            "           0       0.61      0.16      0.25       348\n",
            "           1       0.58      0.39      0.47       381\n",
            "           2       0.39      0.87      0.53       372\n",
            "           3       0.86      0.67      0.76       399\n",
            "\n",
            "    accuracy                           0.53      1500\n",
            "   macro avg       0.61      0.52      0.50      1500\n",
            "weighted avg       0.61      0.53      0.51      1500\n",
            "\n"
          ]
        }
      ]
    },
    {
      "cell_type": "code",
      "source": [
        "from sklearn.metrics import confusion_matrix\n",
        "from matplotlib.pyplot import figure\n",
        "figure(figsize=(5, 4), dpi=80)\n",
        "cm = confusion_matrix(y_test,prediction)\n",
        "\n",
        "sns.heatmap(cm, annot=True,fmt=\"d\",cmap=\"YlGnBu\")"
      ],
      "metadata": {
        "colab": {
          "base_uri": "https://localhost:8080/",
          "height": 309
        },
        "id": "930jUCQP7YLL",
        "outputId": "e4dc3f5a-670c-4f88-ed73-b0bd84608e5e"
      },
      "execution_count": 85,
      "outputs": [
        {
          "output_type": "execute_result",
          "data": {
            "text/plain": [
              "<matplotlib.axes._subplots.AxesSubplot at 0x7fa52f767b10>"
            ]
          },
          "metadata": {},
          "execution_count": 85
        },
        {
          "output_type": "display_data",
          "data": {
            "text/plain": [
              "<Figure size 400x320 with 2 Axes>"
            ],
            "image/png": "[encoded data removed]"
          },
          "metadata": {
            "needs_background": "light"
          }
        }
      ]
    },
    {
      "cell_type": "code",
      "source": [
        "modeller = [rf_model,GB_model,XGBC_model,LGBM_model,GBC_model,SGD_model,lr_model,cart_model,svc_model,svm_model,knn_model]"
      ],
      "metadata": {
        "id": "Y9ed3-HU_zJl"
      },
      "execution_count": 86,
      "outputs": []
    },
    {
      "cell_type": "code",
      "source": [
        "sonuc = []\n",
        "from sklearn.metrics import accuracy_score\n",
        "\n",
        "sonuclar = pd.DataFrame(columns= [\"Modeller\",\"Accuracy\"])\n",
        "\n",
        "for model in modeller:\n",
        "    isimler = model.__class__.__name__\n",
        "    y_pred = model.predict(X_test_features)\n",
        "    dogruluk = accuracy_score(y_test, y_pred)    \n",
        "    sonuc = pd.DataFrame([[isimler, dogruluk*100]], columns= [\"Modeller\",\"Accuracy\"])\n",
        "    sonuclar = sonuclar.append(sonuc)\n",
        "    \n",
        "sns.set(rc={'figure.figsize':(20,15)})\n",
        "sns.barplot(x= 'Accuracy', y = 'Modeller', data=sonuclar, color=\"r\")\n",
        "plt.xlabel('Modellerin Doğruluk Oranları ')\n",
        "plt.title('Accuracy ½'); "
      ],
      "metadata": {
        "colab": {
          "base_uri": "https://localhost:8080/",
          "height": 899
        },
        "id": "wgpJLQg5_zWa",
        "outputId": "9a292580-d0a7-444d-c796-1b43fe4c11ba"
      },
      "execution_count": 89,
      "outputs": [
        {
          "output_type": "display_data",
          "data": {
            "text/plain": [
              "<Figure size 1440x1080 with 1 Axes>"
            ],
            "image/png": "[encoded data removed]"
          },
          "metadata": {}
        }
      ]
    },
    {
      "cell_type": "code",
      "source": [
        "results_df\n"
      ],
      "metadata": {
        "colab": {
          "base_uri": "https://localhost:8080/",
          "height": 394
        },
        "id": "RxV8Mw7H_zY8",
        "outputId": "6c7fbd19-ac48-4306-dc55-f667ace2f6fb"
      },
      "execution_count": 90,
      "outputs": [
        {
          "output_type": "execute_result",
          "data": {
            "text/plain": [
              "                         Model       MAE       MSE      RMSE  R2 Square  \\\n",
              "0         KNeighborsClassifier  0.471333  0.759333  0.871397   0.389454   \n",
              "1                          SVC  0.376667  0.612667  0.782730   0.507382   \n",
              "2                      RBF SVC  0.432667  0.708667  0.841823   0.430193   \n",
              "3       DecisionTreeClassifier  0.626000  1.091333  1.044669   0.122508   \n",
              "4           LogisticRegression  0.401333  0.646667  0.804156   0.480044   \n",
              "5                SGDClassifier  0.424000  0.604000  0.777174   0.514351   \n",
              "6   GradientBoostingClassifier  0.406000  0.663333  0.814453   0.466644   \n",
              "7               LGBMClassifier  0.392000  0.664000  0.814862   0.466107   \n",
              "8                XGBClassifier  0.403333  0.664667  0.815271   0.465571   \n",
              "9       RandomForestClassifier  0.389333  0.626667  0.791623   0.496126   \n",
              "10                  GaussianNB  0.656667  1.063333  1.031181   0.145022   \n",
              "\n",
              "    Accuracy  \n",
              "0   0.663333  \n",
              "1   0.734000  \n",
              "2   0.694667  \n",
              "3   0.577333  \n",
              "4   0.715333  \n",
              "5   0.659333  \n",
              "6   0.713333  \n",
              "7   0.730667  \n",
              "8   0.718667  \n",
              "9   0.722000  \n",
              "10  0.531333  "
            ],
            "text/html": [
              "\n",
              "  <div id=\"df-71adc461-9765-4509-9c12-a826af571c33\">\n",
              "    <div class=\"colab-df-container\">\n",
              "      <div>\n",
              "<style scoped>\n",
              "    .dataframe tbody tr th:only-of-type {\n",
              "        vertical-align: middle;\n",
              "    }\n",
              "\n",
              "    .dataframe tbody tr th {\n",
              "        vertical-align: top;\n",
              "    }\n",
              "\n",
              "    .dataframe thead th {\n",
              "        text-align: right;\n",
              "    }\n",
              "</style>\n",
              "<table border=\"1\" class=\"dataframe\">\n",
              "  <thead>\n",
              "    <tr style=\"text-align: right;\">\n",
              "      <th></th>\n",
              "      <th>Model</th>\n",
              "      <th>MAE</th>\n",
              "      <th>MSE</th>\n",
              "      <th>RMSE</th>\n",
              "      <th>R2 Square</th>\n",
              "      <th>Accuracy</th>\n",
              "    </tr>\n",
              "  </thead>\n",
              "  <tbody>\n",
              "    <tr>\n",
              "      <th>0</th>\n",
              "      <td>KNeighborsClassifier</td>\n",
              "      <td>0.471333</td>\n",
              "      <td>0.759333</td>\n",
              "      <td>0.871397</td>\n",
              "      <td>0.389454</td>\n",
              "      <td>0.663333</td>\n",
              "    </tr>\n",
              "    <tr>\n",
              "      <th>1</th>\n",
              "      <td>SVC</td>\n",
              "      <td>0.376667</td>\n",
              "      <td>0.612667</td>\n",
              "      <td>0.782730</td>\n",
              "      <td>0.507382</td>\n",
              "      <td>0.734000</td>\n",
              "    </tr>\n",
              "    <tr>\n",
              "      <th>2</th>\n",
              "      <td>RBF SVC</td>\n",
              "      <td>0.432667</td>\n",
              "      <td>0.708667</td>\n",
              "      <td>0.841823</td>\n",
              "      <td>0.430193</td>\n",
              "      <td>0.694667</td>\n",
              "    </tr>\n",
              "    <tr>\n",
              "      <th>3</th>\n",
              "      <td>DecisionTreeClassifier</td>\n",
              "      <td>0.626000</td>\n",
              "      <td>1.091333</td>\n",
              "      <td>1.044669</td>\n",
              "      <td>0.122508</td>\n",
              "      <td>0.577333</td>\n",
              "    </tr>\n",
              "    <tr>\n",
              "      <th>4</th>\n",
              "      <td>LogisticRegression</td>\n",
              "      <td>0.401333</td>\n",
              "      <td>0.646667</td>\n",
              "      <td>0.804156</td>\n",
              "      <td>0.480044</td>\n",
              "      <td>0.715333</td>\n",
              "    </tr>\n",
              "    <tr>\n",
              "      <th>5</th>\n",
              "      <td>SGDClassifier</td>\n",
              "      <td>0.424000</td>\n",
              "      <td>0.604000</td>\n",
              "      <td>0.777174</td>\n",
              "      <td>0.514351</td>\n",
              "      <td>0.659333</td>\n",
              "    </tr>\n",
              "    <tr>\n",
              "      <th>6</th>\n",
              "      <td>GradientBoostingClassifier</td>\n",
              "      <td>0.406000</td>\n",
              "      <td>0.663333</td>\n",
              "      <td>0.814453</td>\n",
              "      <td>0.466644</td>\n",
              "      <td>0.713333</td>\n",
              "    </tr>\n",
              "    <tr>\n",
              "      <th>7</th>\n",
              "      <td>LGBMClassifier</td>\n",
              "      <td>0.392000</td>\n",
              "      <td>0.664000</td>\n",
              "      <td>0.814862</td>\n",
              "      <td>0.466107</td>\n",
              "      <td>0.730667</td>\n",
              "    </tr>\n",
              "    <tr>\n",
              "      <th>8</th>\n",
              "      <td>XGBClassifier</td>\n",
              "      <td>0.403333</td>\n",
              "      <td>0.664667</td>\n",
              "      <td>0.815271</td>\n",
              "      <td>0.465571</td>\n",
              "      <td>0.718667</td>\n",
              "    </tr>\n",
              "    <tr>\n",
              "      <th>9</th>\n",
              "      <td>RandomForestClassifier</td>\n",
              "      <td>0.389333</td>\n",
              "      <td>0.626667</td>\n",
              "      <td>0.791623</td>\n",
              "      <td>0.496126</td>\n",
              "      <td>0.722000</td>\n",
              "    </tr>\n",
              "    <tr>\n",
              "      <th>10</th>\n",
              "      <td>GaussianNB</td>\n",
              "      <td>0.656667</td>\n",
              "      <td>1.063333</td>\n",
              "      <td>1.031181</td>\n",
              "      <td>0.145022</td>\n",
              "      <td>0.531333</td>\n",
              "    </tr>\n",
              "  </tbody>\n",
              "</table>\n",
              "</div>\n",
              "      <button class=\"colab-df-convert\" onclick=\"convertToInteractive('df-71adc461-9765-4509-9c12-a826af571c33')\"\n",
              "              title=\"Convert this dataframe to an interactive table.\"\n",
              "              style=\"display:none;\">\n",
              "        \n",
              "  <svg xmlns=\"http://www.w3.org/2000/svg\" height=\"24px\"viewBox=\"0 0 24 24\"\n",
              "       width=\"24px\">\n",
              "    <path d=\"M0 0h24v24H0V0z\" fill=\"none\"/>\n",
              "    <path d=\"M18.56 5.44l.94 2.06.94-2.06 2.06-.94-2.06-.94-.94-2.06-.94 2.06-2.06.94zm-11 1L8.5 8.5l.94-2.06 2.06-.94-2.06-.94L8.5 2.5l-.94 2.06-2.06.94zm10 10l.94 2.06.94-2.06 2.06-.94-2.06-.94-.94-2.06-.94 2.06-2.06.94z\"/><path d=\"M17.41 7.96l-1.37-1.37c-.4-.4-.92-.59-1.43-.59-.52 0-1.04.2-1.43.59L10.3 9.45l-7.72 7.72c-.78.78-.78 2.05 0 2.83L4 21.41c.39.39.9.59 1.41.59.51 0 1.02-.2 1.41-.59l7.78-7.78 2.81-2.81c.8-.78.8-2.07 0-2.86zM5.41 20L4 18.59l7.72-7.72 1.47 1.35L5.41 20z\"/>\n",
              "  </svg>\n",
              "      </button>\n",
              "      \n",
              "  <style>\n",
              "    .colab-df-container {\n",
              "      display:flex;\n",
              "      flex-wrap:wrap;\n",
              "      gap: 12px;\n",
              "    }\n",
              "\n",
              "    .colab-df-convert {\n",
              "      background-color: #E8F0FE;\n",
              "      border: none;\n",
              "      border-radius: 50%;\n",
              "      cursor: pointer;\n",
              "      display: none;\n",
              "      fill: #1967D2;\n",
              "      height: 32px;\n",
              "      padding: 0 0 0 0;\n",
              "      width: 32px;\n",
              "    }\n",
              "\n",
              "    .colab-df-convert:hover {\n",
              "      background-color: #E2EBFA;\n",
              "      box-shadow: 0px 1px 2px rgba(60, 64, 67, 0.3), 0px 1px 3px 1px rgba(60, 64, 67, 0.15);\n",
              "      fill: #174EA6;\n",
              "    }\n",
              "\n",
              "    [theme=dark] .colab-df-convert {\n",
              "      background-color: #3B4455;\n",
              "      fill: #D2E3FC;\n",
              "    }\n",
              "\n",
              "    [theme=dark] .colab-df-convert:hover {\n",
              "      background-color: #434B5C;\n",
              "      box-shadow: 0px 1px 3px 1px rgba(0, 0, 0, 0.15);\n",
              "      filter: drop-shadow(0px 1px 2px rgba(0, 0, 0, 0.3));\n",
              "      fill: #FFFFFF;\n",
              "    }\n",
              "  </style>\n",
              "\n",
              "      <script>\n",
              "        const buttonEl =\n",
              "          document.querySelector('#df-71adc461-9765-4509-9c12-a826af571c33 button.colab-df-convert');\n",
              "        buttonEl.style.display =\n",
              "          google.colab.kernel.accessAllowed ? 'block' : 'none';\n",
              "\n",
              "        async function convertToInteractive(key) {\n",
              "          const element = document.querySelector('#df-71adc461-9765-4509-9c12-a826af571c33');\n",
              "          const dataTable =\n",
              "            await google.colab.kernel.invokeFunction('convertToInteractive',\n",
              "                                                     [key], {});\n",
              "          if (!dataTable) return;\n",
              "\n",
              "          const docLinkHtml = 'Like what you see? Visit the ' +\n",
              "            '<a target=\"_blank\" href=https://colab.research.google.com/notebooks/data_table.ipynb>data table notebook</a>'\n",
              "            + ' to learn more about interactive tables.';\n",
              "          element.innerHTML = '';\n",
              "          dataTable['output_type'] = 'display_data';\n",
              "          await google.colab.output.renderOutput(dataTable, element);\n",
              "          const docLink = document.createElement('div');\n",
              "          docLink.innerHTML = docLinkHtml;\n",
              "          element.appendChild(docLink);\n",
              "        }\n",
              "      </script>\n",
              "    </div>\n",
              "  </div>\n",
              "  "
            ]
          },
          "metadata": {},
          "execution_count": 90
        }
      ]
    },
    {
      "cell_type": "code",
      "source": [
        "from google.colab import files\n",
        "\n",
        "results_df.to_csv('output.csv', encoding = 'utf-8-sig') \n",
        "files.download('output.csv')"
      ],
      "metadata": {
        "colab": {
          "base_uri": "https://localhost:8080/",
          "height": 17
        },
        "id": "3Ynca6Pw_zbb",
        "outputId": "a76020be-5917-471b-e4d3-49066fffa024"
      },
      "execution_count": 91,
      "outputs": [
        {
          "output_type": "display_data",
          "data": {
            "text/plain": [
              "<IPython.core.display.Javascript object>"
            ],
            "application/javascript": [
              "\n",
              "    async function download(id, filename, size) {\n",
              "      if (!google.colab.kernel.accessAllowed) {\n",
              "        return;\n",
              "      }\n",
              "      const div = document.createElement('div');\n",
              "      const label = document.createElement('label');\n",
              "      label.textContent = `Downloading \"${filename}\": `;\n",
              "      div.appendChild(label);\n",
              "      const progress = document.createElement('progress');\n",
              "      progress.max = size;\n",
              "      div.appendChild(progress);\n",
              "      document.body.appendChild(div);\n",
              "\n",
              "      const buffers = [];\n",
              "      let downloaded = 0;\n",
              "\n",
              "      const channel = await google.colab.kernel.comms.open(id);\n",
              "      // Send a message to notify the kernel that we're ready.\n",
              "      channel.send({})\n",
              "\n",
              "      for await (const message of channel.messages) {\n",
              "        // Send a message to notify the kernel that we're ready.\n",
              "        channel.send({})\n",
              "        if (message.buffers) {\n",
              "          for (const buffer of message.buffers) {\n",
              "            buffers.push(buffer);\n",
              "            downloaded += buffer.byteLength;\n",
              "            progress.value = downloaded;\n",
              "          }\n",
              "        }\n",
              "      }\n",
              "      const blob = new Blob(buffers, {type: 'application/binary'});\n",
              "      const a = document.createElement('a');\n",
              "      a.href = window.URL.createObjectURL(blob);\n",
              "      a.download = filename;\n",
              "      div.appendChild(a);\n",
              "      a.click();\n",
              "      div.remove();\n",
              "    }\n",
              "  "
            ]
          },
          "metadata": {}
        },
        {
          "output_type": "display_data",
          "data": {
            "text/plain": [
              "<IPython.core.display.Javascript object>"
            ],
            "application/javascript": [
              "download(\"download_56f043f5-516b-4cc6-af8d-3c1c142c0b49\", \"output.csv\", 1188)"
            ]
          },
          "metadata": {}
        }
      ]
    },
    {
      "cell_type": "code",
      "source": [
        ""
      ],
      "metadata": {
        "id": "H1kddFEuAWam"
      },
      "execution_count": null,
      "outputs": []
    }
  ]
}