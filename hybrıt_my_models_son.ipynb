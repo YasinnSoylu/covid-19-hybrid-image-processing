{
  "metadata": {
    "kernelspec": {
      "language": "python",
      "display_name": "Python 3",
      "name": "python3"
    },
    "language_info": {
      "name": "python",
      "version": "3.7.12",
      "mimetype": "text/x-python",
      "codemirror_mode": {
        "name": "ipython",
        "version": 3
      },
      "pygments_lexer": "ipython3",
      "nbconvert_exporter": "python",
      "file_extension": ".py"
    },
    "colab": {
      "name": "hybrıt-models.ipynb",
      "provenance": [],
      "collapsed_sections": [],
      "include_colab_link": true
    },
    "accelerator": "GPU"
  },
  "nbformat_minor": 0,
  "nbformat": 4,
  "cells": [
    {
      "cell_type": "markdown",
      "metadata": {
        "id": "view-in-github",
        "colab_type": "text"
      },
      "source": [
        "<a href=\"https://colab.research.google.com/github/yasinsoylu1997/TEZZ2/blob/main/hybr%C4%B1t_my_models_son.ipynb\" target=\"_parent\"><img src=\"https://colab.research.google.com/assets/colab-badge.svg\" alt=\"Open In Colab\"/></a>"
      ]
    },
    {
      "cell_type": "code",
      "source": [
        ""
      ],
      "metadata": {
        "id": "CdooosZISXmr"
      },
      "execution_count": 1,
      "outputs": []
    },
    {
      "cell_type": "code",
      "source": [
        "from google.colab import drive\n",
        "drive.mount('/content/drive')"
      ],
      "metadata": {
        "colab": {
          "base_uri": "https://localhost:8080/"
        },
        "id": "C83NibL1SZ6T",
        "outputId": "43f6b3dd-30e2-48c3-881c-c6cb638707a7"
      },
      "execution_count": 2,
      "outputs": [
        {
          "output_type": "stream",
          "name": "stdout",
          "text": [
            "Drive already mounted at /content/drive; to attempt to forcibly remount, call drive.mount(\"/content/drive\", force_remount=True).\n"
          ]
        }
      ]
    },
    {
      "cell_type": "code",
      "source": [
        "import seaborn as sns\n",
        "import cv2\n",
        "import numpy as np\n",
        "import matplotlib.pyplot as plt\n",
        "from sklearn.utils import shuffle\n",
        "from sklearn.model_selection import train_test_split\n",
        "import tensorflow as tf\n",
        "from tensorflow.keras import layers\n",
        "import pandas as pd\n",
        "from tensorflow.keras.applications import EfficientNetB0\n",
        "from tensorflow.keras.callbacks import EarlyStopping, ReduceLROnPlateau, TensorBoard, ModelCheckpoint\n",
        "from tensorflow.keras.models import Model, Sequential\n",
        "from tensorflow.keras.layers import Conv2D, MaxPooling2D, AveragePooling2D\n",
        "from tensorflow.keras.layers import Input, Dense, Dropout, Flatten, Activation,Concatenate\n",
        "from tensorflow.keras.layers import BatchNormalization\n",
        "from keras.preprocessing.image import load_img,img_to_array,ImageDataGenerator\n",
        "from tensorflow.keras.applications import VGG16\n",
        "from tqdm import tqdm\n",
        "import os\n",
        "from sklearn.utils import shuffle\n",
        "from sklearn.metrics import classification_report,confusion_matrix\n",
        "import keras\n",
        "import keras.utils\n",
        "from keras import utils as np_utils\n",
        "import ipywidgets as widgets\n",
        "import io\n",
        "from PIL import Image\n",
        "from IPython.display import display,clear_output\n",
        "from warnings import filterwarnings\n",
        "#!pip install visualkeras\n",
        "import numpy as np \n",
        "import matplotlib.pyplot as plt\n",
        "import glob\n",
        "import cv2\n",
        "\n",
        "from keras.models import Model, Sequential\n",
        "from keras.layers import Dense, Flatten, Conv2D, MaxPooling2D\n",
        "import os\n",
        "!pip install visualkeras\n",
        "!pip install catboost\n"
      ],
      "metadata": {
        "_uuid": "8f2839f25d086af736a60e9eeb907d3b93b6e0e5",
        "_cell_guid": "b1076dfc-b9ad-4769-8c92-a6c4dae69d19",
        "execution": {
          "iopub.status.busy": "2022-05-15T14:55:26.574352Z",
          "iopub.execute_input": "2022-05-15T14:55:26.574702Z",
          "iopub.status.idle": "2022-05-15T14:55:39.474943Z",
          "shell.execute_reply.started": "2022-05-15T14:55:26.574608Z",
          "shell.execute_reply": "2022-05-15T14:55:39.473961Z"
        },
        "trusted": true,
        "colab": {
          "base_uri": "https://localhost:8080/"
        },
        "id": "LDF7VxtNSU--",
        "outputId": "d3c7298d-d648-4255-e467-81ce54cf9a91"
      },
      "execution_count": 3,
      "outputs": [
        {
          "output_type": "stream",
          "name": "stdout",
          "text": [
            "Requirement already satisfied: visualkeras in /usr/local/lib/python3.7/dist-packages (0.0.2)\n",
            "Requirement already satisfied: numpy>=1.18.1 in /usr/local/lib/python3.7/dist-packages (from visualkeras) (1.21.6)\n",
            "Requirement already satisfied: pillow>=6.2.0 in /usr/local/lib/python3.7/dist-packages (from visualkeras) (7.1.2)\n",
            "Requirement already satisfied: aggdraw>=1.3.11 in /usr/local/lib/python3.7/dist-packages (from visualkeras) (1.3.14)\n",
            "Requirement already satisfied: catboost in /usr/local/lib/python3.7/dist-packages (1.0.5)\n",
            "Requirement already satisfied: pandas>=0.24.0 in /usr/local/lib/python3.7/dist-packages (from catboost) (1.3.5)\n",
            "Requirement already satisfied: six in /usr/local/lib/python3.7/dist-packages (from catboost) (1.15.0)\n",
            "Requirement already satisfied: matplotlib in /usr/local/lib/python3.7/dist-packages (from catboost) (3.2.2)\n",
            "Requirement already satisfied: scipy in /usr/local/lib/python3.7/dist-packages (from catboost) (1.4.1)\n",
            "Requirement already satisfied: graphviz in /usr/local/lib/python3.7/dist-packages (from catboost) (0.10.1)\n",
            "Requirement already satisfied: numpy>=1.16.0 in /usr/local/lib/python3.7/dist-packages (from catboost) (1.21.6)\n",
            "Requirement already satisfied: plotly in /usr/local/lib/python3.7/dist-packages (from catboost) (5.5.0)\n",
            "Requirement already satisfied: python-dateutil>=2.7.3 in /usr/local/lib/python3.7/dist-packages (from pandas>=0.24.0->catboost) (2.8.2)\n",
            "Requirement already satisfied: pytz>=2017.3 in /usr/local/lib/python3.7/dist-packages (from pandas>=0.24.0->catboost) (2022.1)\n",
            "Requirement already satisfied: cycler>=0.10 in /usr/local/lib/python3.7/dist-packages (from matplotlib->catboost) (0.11.0)\n",
            "Requirement already satisfied: kiwisolver>=1.0.1 in /usr/local/lib/python3.7/dist-packages (from matplotlib->catboost) (1.4.2)\n",
            "Requirement already satisfied: pyparsing!=2.0.4,!=2.1.2,!=2.1.6,>=2.0.1 in /usr/local/lib/python3.7/dist-packages (from matplotlib->catboost) (3.0.8)\n",
            "Requirement already satisfied: typing-extensions in /usr/local/lib/python3.7/dist-packages (from kiwisolver>=1.0.1->matplotlib->catboost) (4.2.0)\n",
            "Requirement already satisfied: tenacity>=6.2.0 in /usr/local/lib/python3.7/dist-packages (from plotly->catboost) (8.0.1)\n"
          ]
        }
      ]
    },
    {
      "cell_type": "code",
      "source": [
        "labels = ['Lung_Opacity','COVID','Normal','Viral Pneumonia']"
      ],
      "metadata": {
        "execution": {
          "iopub.status.busy": "2022-05-15T14:55:39.477244Z",
          "iopub.execute_input": "2022-05-15T14:55:39.477558Z",
          "iopub.status.idle": "2022-05-15T14:55:39.483688Z",
          "shell.execute_reply.started": "2022-05-15T14:55:39.477516Z",
          "shell.execute_reply": "2022-05-15T14:55:39.482854Z"
        },
        "trusted": true,
        "id": "xXiwnYF4SU_A"
      },
      "execution_count": 4,
      "outputs": []
    },
    {
      "cell_type": "code",
      "source": [
        "X = []\n",
        "y = []\n",
        "image_size = 32\n",
        "for i in labels:\n",
        "    folderPath = os.path.join('/content/drive/MyDrive/tezz3/COVID-19_Radiography_Dataset_masked',i)\n",
        "    for j in tqdm(os.listdir(folderPath)):\n",
        "        img = cv2.imread(os.path.join(folderPath,j))\n",
        "        img = cv2.resize(img,(image_size, image_size))\n",
        "        X.append(img)\n",
        "        y.append(i)\n",
        "\n",
        "        \n",
        "X = np.array(X)\n",
        "y = np.array(y)"
      ],
      "metadata": {
        "execution": {
          "iopub.status.busy": "2022-05-15T14:55:39.485622Z",
          "iopub.execute_input": "2022-05-15T14:55:39.486216Z",
          "iopub.status.idle": "2022-05-15T14:56:16.727637Z",
          "shell.execute_reply.started": "2022-05-15T14:55:39.486176Z",
          "shell.execute_reply": "2022-05-15T14:56:16.726824Z"
        },
        "trusted": true,
        "colab": {
          "base_uri": "https://localhost:8080/"
        },
        "id": "qfSmmsE2SU_B",
        "outputId": "b89260c0-aa51-4c9f-9d9e-3f01fd266c30"
      },
      "execution_count": 5,
      "outputs": [
        {
          "output_type": "stream",
          "name": "stderr",
          "text": [
            "100%|██████████| 6012/6012 [00:45<00:00, 132.36it/s]\n",
            "100%|██████████| 3616/3616 [00:20<00:00, 176.20it/s]\n",
            "100%|██████████| 10192/10192 [00:51<00:00, 196.07it/s]\n",
            "100%|██████████| 1345/1345 [00:07<00:00, 170.75it/s]\n"
          ]
        }
      ]
    },
    {
      "cell_type": "code",
      "source": [
        "from imblearn.over_sampling import RandomOverSampler\n",
        "reshaped_X = X.reshape(X.shape[0],-1)\n",
        "\n",
        "#oversampling\n",
        "oversample = RandomOverSampler()\n",
        "oversampled_X, oversampled_y  = oversample.fit_resample(reshaped_X , y)\n",
        "\n",
        "# reshaping X back to the first dims\n",
        "new_X = oversampled_X.reshape(-1,32,32,3)\n",
        "oversampled_y\n"
      ],
      "metadata": {
        "execution": {
          "iopub.status.busy": "2022-05-15T14:57:57.433919Z",
          "iopub.execute_input": "2022-05-15T14:57:57.434394Z",
          "iopub.status.idle": "2022-05-15T14:57:57.549170Z",
          "shell.execute_reply.started": "2022-05-15T14:57:57.434355Z",
          "shell.execute_reply": "2022-05-15T14:57:57.548089Z"
        },
        "trusted": true,
        "colab": {
          "base_uri": "https://localhost:8080/"
        },
        "id": "3Eq7H0kZSU_B",
        "outputId": "4a5c7a87-323d-4140-ffc1-ed614dc366ca"
      },
      "execution_count": 6,
      "outputs": [
        {
          "output_type": "execute_result",
          "data": {
            "text/plain": [
              "array(['Lung_Opacity', 'Lung_Opacity', 'Lung_Opacity', ...,\n",
              "       'Viral Pneumonia', 'Viral Pneumonia', 'Viral Pneumonia'],\n",
              "      dtype='<U15')"
            ]
          },
          "metadata": {},
          "execution_count": 6
        }
      ]
    },
    {
      "cell_type": "code",
      "source": [
        ""
      ],
      "metadata": {
        "id": "pIv9v8rVq6k_"
      },
      "execution_count": 6,
      "outputs": []
    },
    {
      "cell_type": "code",
      "source": [
        "train_images, test_images,train_labels, test_labels = train_test_split(new_X , oversampled_y , test_size=0.25, random_state=42,shuffle=True)"
      ],
      "metadata": {
        "execution": {
          "iopub.status.busy": "2022-05-15T14:57:59.446665Z",
          "iopub.execute_input": "2022-05-15T14:57:59.446952Z",
          "iopub.status.idle": "2022-05-15T14:57:59.495898Z",
          "shell.execute_reply.started": "2022-05-15T14:57:59.446917Z",
          "shell.execute_reply": "2022-05-15T14:57:59.495109Z"
        },
        "trusted": true,
        "id": "PZoGcaKZSU_C"
      },
      "execution_count": 7,
      "outputs": []
    },
    {
      "cell_type": "code",
      "source": [
        "train_images=train_images[:1500]\n",
        "test_images=test_images[:1500]\n",
        "train_labels=train_labels[:1500]\n",
        "test_labels=test_labels[:1500]\n"
      ],
      "metadata": {
        "execution": {
          "iopub.status.busy": "2022-05-15T14:58:02.975261Z",
          "iopub.execute_input": "2022-05-15T14:58:02.975548Z",
          "iopub.status.idle": "2022-05-15T14:58:02.978633Z",
          "shell.execute_reply.started": "2022-05-15T14:58:02.975517Z",
          "shell.execute_reply": "2022-05-15T14:58:02.977953Z"
        },
        "trusted": true,
        "id": "bSP_bGgRSU_C"
      },
      "execution_count": 8,
      "outputs": []
    },
    {
      "cell_type": "code",
      "source": [
        "plt.figure(figsize = (17,8));\n",
        "lis = ['Train', 'Test']\n",
        "for i,j in enumerate([train_labels, test_labels]):\n",
        "    plt.subplot(1,2, i+1);\n",
        "    sns.countplot(x = j);\n",
        "    plt.xlabel(lis[i])"
      ],
      "metadata": {
        "execution": {
          "iopub.status.busy": "2022-05-15T14:58:03.449200Z",
          "iopub.execute_input": "2022-05-15T14:58:03.449798Z",
          "iopub.status.idle": "2022-05-15T14:58:03.734615Z",
          "shell.execute_reply.started": "2022-05-15T14:58:03.449761Z",
          "shell.execute_reply": "2022-05-15T14:58:03.733927Z"
        },
        "trusted": true,
        "colab": {
          "base_uri": "https://localhost:8080/",
          "height": 498
        },
        "id": "sxUlJbnpSU_C",
        "outputId": "edd9c78c-82fa-48c9-9459-9c43110e9f8a"
      },
      "execution_count": 9,
      "outputs": [
        {
          "output_type": "display_data",
          "data": {
            "text/plain": [
              "<Figure size 1224x576 with 2 Axes>"
            ],
            "image/png": "[encoded data removed]"
          },
          "metadata": {
            "needs_background": "light"
          }
        }
      ]
    },
    {
      "cell_type": "code",
      "source": [
        "train_images = train_images / 255.0\n",
        "test_images = test_images / 255.0"
      ],
      "metadata": {
        "execution": {
          "iopub.status.busy": "2022-05-15T14:58:27.875837Z",
          "iopub.execute_input": "2022-05-15T14:58:27.876488Z",
          "iopub.status.idle": "2022-05-15T14:58:28.217242Z",
          "shell.execute_reply.started": "2022-05-15T14:58:27.876444Z",
          "shell.execute_reply": "2022-05-15T14:58:28.216381Z"
        },
        "trusted": true,
        "id": "PQjY6y6XSU_D"
      },
      "execution_count": 10,
      "outputs": []
    },
    {
      "cell_type": "code",
      "source": [
        "from sklearn import preprocessing\n",
        "le = preprocessing.LabelEncoder()\n",
        "le.fit(test_labels)\n",
        "test_labels_encoded = le.transform(test_labels)\n",
        "le.fit(train_labels)\n",
        "train_labels_encoded = le.transform(train_labels)"
      ],
      "metadata": {
        "execution": {
          "iopub.status.busy": "2022-05-15T14:58:28.417512Z",
          "iopub.execute_input": "2022-05-15T14:58:28.417800Z",
          "iopub.status.idle": "2022-05-15T14:58:28.466996Z",
          "shell.execute_reply.started": "2022-05-15T14:58:28.417768Z",
          "shell.execute_reply": "2022-05-15T14:58:28.466188Z"
        },
        "trusted": true,
        "id": "1BaiF8S_SU_E"
      },
      "execution_count": 11,
      "outputs": []
    },
    {
      "cell_type": "code",
      "source": [
        "#Split data into test and train datasets (already split but assigning to meaningful convention)\n",
        "x_train, y_train, x_test, y_test = train_images, train_labels_encoded, test_images, test_labels_encoded"
      ],
      "metadata": {
        "execution": {
          "iopub.status.busy": "2022-05-15T14:58:30.769535Z",
          "iopub.execute_input": "2022-05-15T14:58:30.770331Z",
          "iopub.status.idle": "2022-05-15T14:58:30.774483Z",
          "shell.execute_reply.started": "2022-05-15T14:58:30.770282Z",
          "shell.execute_reply": "2022-05-15T14:58:30.773713Z"
        },
        "trusted": true,
        "id": "2cX2vDAwSU_F"
      },
      "execution_count": 12,
      "outputs": []
    },
    {
      "cell_type": "code",
      "source": [
        "#One hot encode y values for neural network. \n",
        "from tensorflow.keras.utils import to_categorical\n",
        "y_train_one_hot = to_categorical(y_train)\n",
        "y_test_one_hot = to_categorical(y_test)"
      ],
      "metadata": {
        "execution": {
          "iopub.status.busy": "2022-05-15T14:58:31.432485Z",
          "iopub.execute_input": "2022-05-15T14:58:31.433407Z",
          "iopub.status.idle": "2022-05-15T14:58:31.440353Z",
          "shell.execute_reply.started": "2022-05-15T14:58:31.433352Z",
          "shell.execute_reply": "2022-05-15T14:58:31.439471Z"
        },
        "trusted": true,
        "id": "YNxPMT_HSU_F"
      },
      "execution_count": 13,
      "outputs": []
    },
    {
      "cell_type": "code",
      "source": [
        "y_test_one_hot"
      ],
      "metadata": {
        "execution": {
          "iopub.status.busy": "2022-05-15T14:58:33.033561Z",
          "iopub.execute_input": "2022-05-15T14:58:33.034076Z",
          "iopub.status.idle": "2022-05-15T14:58:33.041346Z",
          "shell.execute_reply.started": "2022-05-15T14:58:33.034036Z",
          "shell.execute_reply": "2022-05-15T14:58:33.040447Z"
        },
        "trusted": true,
        "colab": {
          "base_uri": "https://localhost:8080/"
        },
        "id": "kNr8A_TiSU_G",
        "outputId": "9a9b220c-b1db-446a-ba96-3121e9d5983d"
      },
      "execution_count": 14,
      "outputs": [
        {
          "output_type": "execute_result",
          "data": {
            "text/plain": [
              "array([[1., 0., 0., 0.],\n",
              "       [0., 1., 0., 0.],\n",
              "       [0., 1., 0., 0.],\n",
              "       ...,\n",
              "       [0., 0., 1., 0.],\n",
              "       [0., 0., 0., 1.],\n",
              "       [0., 0., 0., 1.]], dtype=float32)"
            ]
          },
          "metadata": {},
          "execution_count": 14
        }
      ]
    },
    {
      "cell_type": "code",
      "source": [
        "activation = 'relu'\n",
        "\n",
        "feature_extractor = Sequential()\n",
        "feature_extractor.add(Conv2D(32, 3, activation = activation, padding = 'same', input_shape = (32, 32, 3)))\n",
        "feature_extractor.add(BatchNormalization())\n",
        "\n",
        "feature_extractor.add(Conv2D(32, 3, activation = activation, padding = 'same', kernel_initializer = 'he_uniform'))\n",
        "feature_extractor.add(BatchNormalization())\n",
        "feature_extractor.add(MaxPooling2D())\n",
        "\n",
        "feature_extractor.add(Conv2D(64, 3, activation = activation, padding = 'same', kernel_initializer = 'he_uniform'))\n",
        "feature_extractor.add(BatchNormalization())\n",
        "\n",
        "feature_extractor.add(Conv2D(64, 3, activation = activation, padding = 'same', kernel_initializer = 'he_uniform'))\n",
        "feature_extractor.add(BatchNormalization())\n",
        "feature_extractor.add(MaxPooling2D())\n",
        "\n",
        "feature_extractor.add(Flatten())"
      ],
      "metadata": {
        "execution": {
          "iopub.status.busy": "2022-05-15T14:58:33.843456Z",
          "iopub.execute_input": "2022-05-15T14:58:33.844114Z",
          "iopub.status.idle": "2022-05-15T14:58:35.053601Z",
          "shell.execute_reply.started": "2022-05-15T14:58:33.844072Z",
          "shell.execute_reply": "2022-05-15T14:58:35.052714Z"
        },
        "trusted": true,
        "id": "kiIVltCkSU_G"
      },
      "execution_count": 15,
      "outputs": []
    },
    {
      "cell_type": "code",
      "source": [
        "#Add layers for deep learning prediction\n",
        "x = feature_extractor.output  \n",
        "x = Dense(128, activation = activation, kernel_initializer = 'he_uniform')(x)\n",
        "prediction_layer = Dense(4, activation = 'softmax')(x)"
      ],
      "metadata": {
        "execution": {
          "iopub.status.busy": "2022-05-15T14:58:35.057978Z",
          "iopub.execute_input": "2022-05-15T14:58:35.058831Z",
          "iopub.status.idle": "2022-05-15T14:58:35.082652Z",
          "shell.execute_reply.started": "2022-05-15T14:58:35.058775Z",
          "shell.execute_reply": "2022-05-15T14:58:35.081952Z"
        },
        "trusted": true,
        "id": "1SRNtB9ISU_H"
      },
      "execution_count": 16,
      "outputs": []
    },
    {
      "cell_type": "code",
      "source": [
        "# Make a new model combining both feature extractor and x\n",
        "cnn_model = Model(inputs=feature_extractor.input, outputs=prediction_layer)\n",
        "cnn_model.compile(optimizer='adam',loss = 'categorical_crossentropy', metrics = ['accuracy'])\n",
        "print(cnn_model.summary())"
      ],
      "metadata": {
        "execution": {
          "iopub.status.busy": "2022-05-15T14:58:35.266333Z",
          "iopub.execute_input": "2022-05-15T14:58:35.266600Z",
          "iopub.status.idle": "2022-05-15T14:58:35.295146Z",
          "shell.execute_reply.started": "2022-05-15T14:58:35.266569Z",
          "shell.execute_reply": "2022-05-15T14:58:35.294341Z"
        },
        "trusted": true,
        "colab": {
          "base_uri": "https://localhost:8080/"
        },
        "id": "Hcm1zJ4bSU_H",
        "outputId": "9fd86b43-c04d-4120-9f2f-819064c19e9b"
      },
      "execution_count": 17,
      "outputs": [
        {
          "output_type": "stream",
          "name": "stdout",
          "text": [
            "Model: \"model\"\n",
            "_________________________________________________________________\n",
            " Layer (type)                Output Shape              Param #   \n",
            "=================================================================\n",
            " conv2d_input (InputLayer)   [(None, 32, 32, 3)]       0         \n",
            "                                                                 \n",
            " conv2d (Conv2D)             (None, 32, 32, 32)        896       \n",
            "                                                                 \n",
            " batch_normalization (BatchN  (None, 32, 32, 32)       128       \n",
            " ormalization)                                                   \n",
            "                                                                 \n",
            " conv2d_1 (Conv2D)           (None, 32, 32, 32)        9248      \n",
            "                                                                 \n",
            " batch_normalization_1 (Batc  (None, 32, 32, 32)       128       \n",
            " hNormalization)                                                 \n",
            "                                                                 \n",
            " max_pooling2d (MaxPooling2D  (None, 16, 16, 32)       0         \n",
            " )                                                               \n",
            "                                                                 \n",
            " conv2d_2 (Conv2D)           (None, 16, 16, 64)        18496     \n",
            "                                                                 \n",
            " batch_normalization_2 (Batc  (None, 16, 16, 64)       256       \n",
            " hNormalization)                                                 \n",
            "                                                                 \n",
            " conv2d_3 (Conv2D)           (None, 16, 16, 64)        36928     \n",
            "                                                                 \n",
            " batch_normalization_3 (Batc  (None, 16, 16, 64)       256       \n",
            " hNormalization)                                                 \n",
            "                                                                 \n",
            " max_pooling2d_1 (MaxPooling  (None, 8, 8, 64)         0         \n",
            " 2D)                                                             \n",
            "                                                                 \n",
            " flatten (Flatten)           (None, 4096)              0         \n",
            "                                                                 \n",
            " dense (Dense)               (None, 128)               524416    \n",
            "                                                                 \n",
            " dense_1 (Dense)             (None, 4)                 516       \n",
            "                                                                 \n",
            "=================================================================\n",
            "Total params: 591,268\n",
            "Trainable params: 590,884\n",
            "Non-trainable params: 384\n",
            "_________________________________________________________________\n",
            "None\n"
          ]
        }
      ]
    },
    {
      "cell_type": "code",
      "source": [
        "from keras.utils.vis_utils import plot_model\n",
        "\n",
        "plot_model(cnn_model, to_file='model_plot.png', show_shapes=True, show_layer_names=True,dpi=50)"
      ],
      "metadata": {
        "execution": {
          "iopub.status.busy": "2022-05-15T14:58:36.806036Z",
          "iopub.execute_input": "2022-05-15T14:58:36.806734Z",
          "iopub.status.idle": "2022-05-15T14:58:36.967714Z",
          "shell.execute_reply.started": "2022-05-15T14:58:36.806693Z",
          "shell.execute_reply": "2022-05-15T14:58:36.966822Z"
        },
        "trusted": true,
        "colab": {
          "base_uri": "https://localhost:8080/",
          "height": 805
        },
        "id": "-DQB9cTuSU_I",
        "outputId": "7e8e84a2-10f8-40db-db6b-4176f3b563c2"
      },
      "execution_count": 18,
      "outputs": [
        {
          "output_type": "execute_result",
          "data": {
            "text/plain": [
              "<IPython.core.display.Image object>"
            ],
            "image/png": "[encoded data removed]"
          },
          "metadata": {},
          "execution_count": 18
        }
      ]
    },
    {
      "cell_type": "code",
      "source": [
        "import visualkeras\n",
        "from PIL import ImageFont\n",
        "plt.figure(figsize=(2, 2))\n",
        "visualkeras.layered_view(cnn_model, legend=True,spacing=15,scale_xy = 10 , scale_z = 10, max_z = 50) "
      ],
      "metadata": {
        "execution": {
          "iopub.status.busy": "2022-05-15T15:05:39.497363Z",
          "iopub.execute_input": "2022-05-15T15:05:39.497654Z",
          "iopub.status.idle": "2022-05-15T15:05:39.548621Z",
          "shell.execute_reply.started": "2022-05-15T15:05:39.497624Z",
          "shell.execute_reply": "2022-05-15T15:05:39.547455Z"
        },
        "trusted": true,
        "colab": {
          "base_uri": "https://localhost:8080/",
          "height": 497
        },
        "id": "DJbNwzvySU_I",
        "outputId": "fce28777-e407-4141-9827-77cef78a1887"
      },
      "execution_count": 19,
      "outputs": [
        {
          "output_type": "execute_result",
          "data": {
            "text/plain": [
              "<PIL.Image.Image image mode=RGBA size=942x463 at 0x7F78016ED190>"
            ],
            "image/png": "[encoded data removed]"
          },
          "metadata": {},
          "execution_count": 19
        },
        {
          "output_type": "display_data",
          "data": {
            "text/plain": [
              "<Figure size 144x144 with 0 Axes>"
            ]
          },
          "metadata": {}
        }
      ]
    },
    {
      "cell_type": "code",
      "source": [
        "checkpoint = ModelCheckpoint(\"cnn.h5\",monitor=\"val_accuracy\",save_best_only=True,mode=\"auto\",verbose=1)\n",
        "reduce_lr = ReduceLROnPlateau(monitor = 'val_accuracy', factor = 0.3, patience = 4, min_delta = 0.001,mode='auto',verbose=1)\n",
        "early_stop=tf.keras.callbacks.EarlyStopping( monitor=\"val_accuracy\",patience=4,verbose=1,mode=\"auto\",)"
      ],
      "metadata": {
        "execution": {
          "iopub.status.busy": "2022-05-15T15:05:57.679122Z",
          "iopub.execute_input": "2022-05-15T15:05:57.679862Z",
          "iopub.status.idle": "2022-05-15T15:05:57.686334Z",
          "shell.execute_reply.started": "2022-05-15T15:05:57.679826Z",
          "shell.execute_reply": "2022-05-15T15:05:57.685585Z"
        },
        "trusted": true,
        "id": "DcJxGxu4SU_J"
      },
      "execution_count": 20,
      "outputs": []
    },
    {
      "cell_type": "code",
      "source": [
        "#Train the CNN model\n",
        "history = cnn_model.fit(x_train, y_train_one_hot, epochs=100, validation_data = (x_test, y_test_one_hot),batch_size=8,callbacks=[checkpoint,reduce_lr,early_stop])"
      ],
      "metadata": {
        "execution": {
          "iopub.status.busy": "2022-05-15T15:05:58.574465Z",
          "iopub.execute_input": "2022-05-15T15:05:58.574731Z"
        },
        "trusted": true,
        "colab": {
          "base_uri": "https://localhost:8080/"
        },
        "id": "Dl9xaPPcSU_J",
        "outputId": "091075e3-86a0-421b-a958-21f11c51a8a3"
      },
      "execution_count": 21,
      "outputs": [
        {
          "output_type": "stream",
          "name": "stdout",
          "text": [
            "Epoch 1/100\n",
            "188/188 [==============================] - ETA: 0s - loss: 1.2418 - accuracy: 0.5700\n",
            "Epoch 1: val_accuracy improved from -inf to 0.25400, saving model to cnn.h5\n",
            "188/188 [==============================] - 24s 121ms/step - loss: 1.2418 - accuracy: 0.5700 - val_loss: 3.2338 - val_accuracy: 0.2540 - lr: 0.0010\n",
            "Epoch 2/100\n",
            "187/188 [============================>.] - ETA: 0s - loss: 0.7938 - accuracy: 0.6484\n",
            "Epoch 2: val_accuracy improved from 0.25400 to 0.25800, saving model to cnn.h5\n",
            "188/188 [==============================] - 23s 122ms/step - loss: 0.7931 - accuracy: 0.6487 - val_loss: 3.4873 - val_accuracy: 0.2580 - lr: 0.0010\n",
            "Epoch 3/100\n",
            "187/188 [============================>.] - ETA: 0s - loss: 0.6787 - accuracy: 0.7066\n",
            "Epoch 3: val_accuracy improved from 0.25800 to 0.58733, saving model to cnn.h5\n",
            "188/188 [==============================] - 16s 87ms/step - loss: 0.6783 - accuracy: 0.7067 - val_loss: 1.1473 - val_accuracy: 0.5873 - lr: 0.0010\n",
            "Epoch 4/100\n",
            "187/188 [============================>.] - ETA: 0s - loss: 0.6241 - accuracy: 0.7473\n",
            "Epoch 4: val_accuracy improved from 0.58733 to 0.66933, saving model to cnn.h5\n",
            "188/188 [==============================] - 13s 68ms/step - loss: 0.6256 - accuracy: 0.7467 - val_loss: 0.8187 - val_accuracy: 0.6693 - lr: 0.0010\n",
            "Epoch 5/100\n",
            "187/188 [============================>.] - ETA: 0s - loss: 0.5179 - accuracy: 0.7874\n",
            "Epoch 5: val_accuracy improved from 0.66933 to 0.72200, saving model to cnn.h5\n",
            "188/188 [==============================] - 13s 68ms/step - loss: 0.5169 - accuracy: 0.7880 - val_loss: 0.7131 - val_accuracy: 0.7220 - lr: 0.0010\n",
            "Epoch 6/100\n",
            "187/188 [============================>.] - ETA: 0s - loss: 0.4667 - accuracy: 0.8182\n",
            "Epoch 6: val_accuracy did not improve from 0.72200\n",
            "188/188 [==============================] - 13s 68ms/step - loss: 0.4660 - accuracy: 0.8180 - val_loss: 0.7223 - val_accuracy: 0.7187 - lr: 0.0010\n",
            "Epoch 7/100\n",
            "187/188 [============================>.] - ETA: 0s - loss: 0.3863 - accuracy: 0.8496\n",
            "Epoch 7: val_accuracy did not improve from 0.72200\n",
            "188/188 [==============================] - 13s 68ms/step - loss: 0.3853 - accuracy: 0.8500 - val_loss: 0.9679 - val_accuracy: 0.6680 - lr: 0.0010\n",
            "Epoch 8/100\n",
            "187/188 [============================>.] - ETA: 0s - loss: 0.3530 - accuracy: 0.8576\n",
            "Epoch 8: val_accuracy improved from 0.72200 to 0.72467, saving model to cnn.h5\n",
            "188/188 [==============================] - 13s 68ms/step - loss: 0.3522 - accuracy: 0.8580 - val_loss: 0.8236 - val_accuracy: 0.7247 - lr: 0.0010\n",
            "Epoch 9/100\n",
            "187/188 [============================>.] - ETA: 0s - loss: 0.2634 - accuracy: 0.8944\n",
            "Epoch 9: val_accuracy did not improve from 0.72467\n",
            "188/188 [==============================] - 13s 72ms/step - loss: 0.2629 - accuracy: 0.8947 - val_loss: 0.9150 - val_accuracy: 0.7000 - lr: 0.0010\n",
            "Epoch 10/100\n",
            "187/188 [============================>.] - ETA: 0s - loss: 0.2379 - accuracy: 0.9151\n",
            "Epoch 10: val_accuracy did not improve from 0.72467\n",
            "188/188 [==============================] - 13s 67ms/step - loss: 0.2376 - accuracy: 0.9153 - val_loss: 0.8638 - val_accuracy: 0.7147 - lr: 0.0010\n",
            "Epoch 11/100\n",
            "187/188 [============================>.] - ETA: 0s - loss: 0.1757 - accuracy: 0.9365\n",
            "Epoch 11: val_accuracy did not improve from 0.72467\n",
            "188/188 [==============================] - 13s 68ms/step - loss: 0.1753 - accuracy: 0.9367 - val_loss: 1.0602 - val_accuracy: 0.7133 - lr: 0.0010\n",
            "Epoch 12/100\n",
            "187/188 [============================>.] - ETA: 0s - loss: 0.1500 - accuracy: 0.9425\n",
            "Epoch 12: val_accuracy did not improve from 0.72467\n",
            "\n",
            "Epoch 12: ReduceLROnPlateau reducing learning rate to 0.0003000000142492354.\n",
            "188/188 [==============================] - 14s 76ms/step - loss: 0.1496 - accuracy: 0.9427 - val_loss: 1.0844 - val_accuracy: 0.7033 - lr: 0.0010\n",
            "Epoch 12: early stopping\n"
          ]
        }
      ]
    },
    {
      "cell_type": "code",
      "source": [
        "#plot the training and validation accuracy and loss at each epoch\n",
        "loss = history.history['loss']\n",
        "val_loss = history.history['val_loss']\n",
        "epochs = range(1, len(loss) + 1)\n",
        "plt.plot(epochs, loss, 'y', label='Training loss')\n",
        "plt.plot(epochs, val_loss, 'r', label='Validation loss')\n",
        "plt.title('Training and validation loss')\n",
        "plt.xlabel('Epochs')\n",
        "plt.ylabel('Loss')\n",
        "plt.legend()\n",
        "plt.show()\n",
        "\n",
        "\n",
        "#plot the training and validation accuracy and loss at each epoch\n",
        "loss = history.history['accuracy']\n",
        "val_loss = history.history['val_accuracy']\n",
        "epochs = range(1, len(loss) + 1)\n",
        "plt.plot(epochs, loss, 'y', label='Training accuracy')\n",
        "plt.plot(epochs, val_loss, 'r', label='Validation accuracy')\n",
        "plt.title('Training and validation accuracy')\n",
        "plt.xlabel('Epochs')\n",
        "plt.ylabel('Loss')\n",
        "plt.legend()\n",
        "plt.show()"
      ],
      "metadata": {
        "trusted": true,
        "colab": {
          "base_uri": "https://localhost:8080/",
          "height": 573
        },
        "id": "pHpEnXdISU_J",
        "outputId": "c3b5556d-24e9-4545-d842-8d01ec1c393a"
      },
      "execution_count": 22,
      "outputs": [
        {
          "output_type": "display_data",
          "data": {
            "text/plain": [
              "<Figure size 432x288 with 1 Axes>"
            ],
            "image/png": "[encoded data removed]"
          },
          "metadata": {
            "needs_background": "light"
          }
        },
        {
          "output_type": "display_data",
          "data": {
            "text/plain": [
              "<Figure size 432x288 with 1 Axes>"
            ],
            "image/png": "[encoded data removed]"
          },
          "metadata": {
            "needs_background": "light"
          }
        }
      ]
    },
    {
      "cell_type": "code",
      "source": [
        "from keras.models import load_model\n",
        "\n",
        "cnn_model = load_model('cnn.h5')"
      ],
      "metadata": {
        "trusted": true,
        "id": "-rxqmvNwSU_K"
      },
      "execution_count": 23,
      "outputs": []
    },
    {
      "cell_type": "code",
      "source": [
        "prediction_NN = cnn_model.predict(x_test)\n",
        "prediction_NN = np.argmax(prediction_NN, axis=-1)\n",
        "prediction_NN = le.inverse_transform(prediction_NN)"
      ],
      "metadata": {
        "trusted": true,
        "id": "WrkM3pyOSU_K"
      },
      "execution_count": 24,
      "outputs": []
    },
    {
      "cell_type": "code",
      "source": [
        "#Confusion Matrix - verify accuracy of each class\n",
        "from sklearn.metrics import confusion_matrix\n",
        "cm = confusion_matrix(test_labels, prediction_NN)\n",
        "print(cm)\n",
        "sns.heatmap(cm, annot=True,fmt=\"d\")"
      ],
      "metadata": {
        "trusted": true,
        "colab": {
          "base_uri": "https://localhost:8080/",
          "height": 352
        },
        "id": "SZ1C129BSU_K",
        "outputId": "be41cd35-87b4-45f3-c390-6f237548fe7f"
      },
      "execution_count": 25,
      "outputs": [
        {
          "output_type": "stream",
          "name": "stdout",
          "text": [
            "[[212  66  66   4]\n",
            " [ 66 275  34   6]\n",
            " [ 82  44 230  16]\n",
            " [ 15   3  11 370]]\n"
          ]
        },
        {
          "output_type": "execute_result",
          "data": {
            "text/plain": [
              "<matplotlib.axes._subplots.AxesSubplot at 0x7f78004e1710>"
            ]
          },
          "metadata": {},
          "execution_count": 25
        },
        {
          "output_type": "display_data",
          "data": {
            "text/plain": [
              "<Figure size 432x288 with 2 Axes>"
            ],
            "image/png": "[encoded data removed]"
          },
          "metadata": {
            "needs_background": "light"
          }
        }
      ]
    },
    {
      "cell_type": "code",
      "source": [
        "#Now, let us use features from convolutional network for ML\n",
        "X_for_model = feature_extractor.predict(x_train) "
      ],
      "metadata": {
        "trusted": true,
        "id": "v6M3xUm0SU_L"
      },
      "execution_count": 26,
      "outputs": []
    },
    {
      "cell_type": "code",
      "source": [
        "from sklearn import metrics\n",
        "from sklearn.model_selection import cross_val_score\n",
        "\n",
        "def cross_val(model):\n",
        "    pred = cross_val_score(model, X_for_model, y_train)\n",
        "    return pred.mean()\n",
        "\n",
        "def print_evaluate(true, predicted):  \n",
        "    mae = metrics.mean_absolute_error(y_test, predicted)\n",
        "    mse = metrics.mean_squared_error(y_test, predicted)\n",
        "    rmse = np.sqrt(metrics.mean_squared_error(y_test, predicted))\n",
        "    r2_square = metrics.r2_score(y_test, predicted)\n",
        "    Accuracy= metrics.accuracy_score(y_test,predicted)\n",
        "\n",
        "    print('MAE:', mae)\n",
        "    print('MSE:', mse)\n",
        "    print('RMSE:', rmse)\n",
        "    print('R2 Square', r2_square)\n",
        "    print('Accuracy_mymodel', Accuracy)\n",
        "\n",
        "\n",
        "\n",
        "    print('__________________________________')\n",
        "    \n",
        "def evaluate(true, predicted):\n",
        "    mae = metrics.mean_absolute_error(y_test, predicted)\n",
        "    mse = metrics.mean_squared_error(y_test, predicted)\n",
        "    rmse = np.sqrt(metrics.mean_squared_error(y_test, predicted))\n",
        "    r2_square = metrics.r2_score(y_test, predicted)\n",
        "    Accuracy= metrics.accuracy_score(y_test,predicted)\n",
        "\n",
        "    return mae, mse, rmse, r2_square, Accuracy"
      ],
      "metadata": {
        "trusted": true,
        "id": "7IwGJuliSU_L"
      },
      "execution_count": 27,
      "outputs": []
    },
    {
      "cell_type": "markdown",
      "source": [
        "#  KNeighborsClassifier"
      ],
      "metadata": {
        "id": "0x-OjHniSU_M"
      }
    },
    {
      "cell_type": "code",
      "source": [
        "from sklearn.neighbors import KNeighborsClassifier\n",
        "knn = KNeighborsClassifier()\n",
        "knn_model = knn.fit(X_for_model, y_train)\n",
        "knn_model"
      ],
      "metadata": {
        "trusted": true,
        "colab": {
          "base_uri": "https://localhost:8080/"
        },
        "id": "C7Mzix0mSU_N",
        "outputId": "9714ef51-f858-43de-8812-ce1d3e62e5dc"
      },
      "execution_count": 28,
      "outputs": [
        {
          "output_type": "execute_result",
          "data": {
            "text/plain": [
              "KNeighborsClassifier()"
            ]
          },
          "metadata": {},
          "execution_count": 28
        }
      ]
    },
    {
      "cell_type": "code",
      "source": [
        "X_test_feature = feature_extractor.predict(x_test)\n",
        "#Now predict using the trained RF model. \n",
        "predicted = knn_model.predict(X_test_feature)"
      ],
      "metadata": {
        "trusted": true,
        "id": "mTgRWuD7SU_N"
      },
      "execution_count": 29,
      "outputs": []
    },
    {
      "cell_type": "code",
      "source": [
        "print('Test set evaluation:\\n_____________________________________')\n",
        "print_evaluate(y_test, predicted)"
      ],
      "metadata": {
        "trusted": true,
        "colab": {
          "base_uri": "https://localhost:8080/"
        },
        "id": "gJuornw2SU_N",
        "outputId": "0de68fa8-e0d7-43d4-d9a2-e7c4efb4c7ac"
      },
      "execution_count": 30,
      "outputs": [
        {
          "output_type": "stream",
          "name": "stdout",
          "text": [
            "Test set evaluation:\n",
            "_____________________________________\n",
            "MAE: 0.48133333333333334\n",
            "MSE: 0.76\n",
            "RMSE: 0.8717797887081347\n",
            "R2 Square 0.3889181922270395\n",
            "Accuracy_mymodel 0.6546666666666666\n",
            "__________________________________\n"
          ]
        }
      ]
    },
    {
      "cell_type": "code",
      "source": [
        "results_df = pd.DataFrame(data=[[\"KNeighborsClassifier\", *evaluate(y_test, predicted) ]], \n",
        "                          columns=['Model', 'MAE', 'MSE', 'RMSE', 'R2 Square','Accuracy_mymodel'])\n",
        "results_df"
      ],
      "metadata": {
        "trusted": true,
        "colab": {
          "base_uri": "https://localhost:8080/",
          "height": 81
        },
        "id": "daFKyqc7SU_O",
        "outputId": "e55e4afc-fe3e-46c9-8d21-6a83ff5b1ff4"
      },
      "execution_count": 31,
      "outputs": [
        {
          "output_type": "execute_result",
          "data": {
            "text/plain": [
              "                  Model       MAE   MSE     RMSE  R2 Square  Accuracy_mymodel\n",
              "0  KNeighborsClassifier  0.481333  0.76  0.87178   0.388918          0.654667"
            ],
            "text/html": [
              "\n",
              "  <div id=\"df-e9a3ebbc-3d77-43cd-9fa0-cb4ee7452ff6\">\n",
              "    <div class=\"colab-df-container\">\n",
              "      <div>\n",
              "<style scoped>\n",
              "    .dataframe tbody tr th:only-of-type {\n",
              "        vertical-align: middle;\n",
              "    }\n",
              "\n",
              "    .dataframe tbody tr th {\n",
              "        vertical-align: top;\n",
              "    }\n",
              "\n",
              "    .dataframe thead th {\n",
              "        text-align: right;\n",
              "    }\n",
              "</style>\n",
              "<table border=\"1\" class=\"dataframe\">\n",
              "  <thead>\n",
              "    <tr style=\"text-align: right;\">\n",
              "      <th></th>\n",
              "      <th>Model</th>\n",
              "      <th>MAE</th>\n",
              "      <th>MSE</th>\n",
              "      <th>RMSE</th>\n",
              "      <th>R2 Square</th>\n",
              "      <th>Accuracy_mymodel</th>\n",
              "    </tr>\n",
              "  </thead>\n",
              "  <tbody>\n",
              "    <tr>\n",
              "      <th>0</th>\n",
              "      <td>KNeighborsClassifier</td>\n",
              "      <td>0.481333</td>\n",
              "      <td>0.76</td>\n",
              "      <td>0.87178</td>\n",
              "      <td>0.388918</td>\n",
              "      <td>0.654667</td>\n",
              "    </tr>\n",
              "  </tbody>\n",
              "</table>\n",
              "</div>\n",
              "      <button class=\"colab-df-convert\" onclick=\"convertToInteractive('df-e9a3ebbc-3d77-43cd-9fa0-cb4ee7452ff6')\"\n",
              "              title=\"Convert this dataframe to an interactive table.\"\n",
              "              style=\"display:none;\">\n",
              "        \n",
              "  <svg xmlns=\"http://www.w3.org/2000/svg\" height=\"24px\"viewBox=\"0 0 24 24\"\n",
              "       width=\"24px\">\n",
              "    <path d=\"M0 0h24v24H0V0z\" fill=\"none\"/>\n",
              "    <path d=\"M18.56 5.44l.94 2.06.94-2.06 2.06-.94-2.06-.94-.94-2.06-.94 2.06-2.06.94zm-11 1L8.5 8.5l.94-2.06 2.06-.94-2.06-.94L8.5 2.5l-.94 2.06-2.06.94zm10 10l.94 2.06.94-2.06 2.06-.94-2.06-.94-.94-2.06-.94 2.06-2.06.94z\"/><path d=\"M17.41 7.96l-1.37-1.37c-.4-.4-.92-.59-1.43-.59-.52 0-1.04.2-1.43.59L10.3 9.45l-7.72 7.72c-.78.78-.78 2.05 0 2.83L4 21.41c.39.39.9.59 1.41.59.51 0 1.02-.2 1.41-.59l7.78-7.78 2.81-2.81c.8-.78.8-2.07 0-2.86zM5.41 20L4 18.59l7.72-7.72 1.47 1.35L5.41 20z\"/>\n",
              "  </svg>\n",
              "      </button>\n",
              "      \n",
              "  <style>\n",
              "    .colab-df-container {\n",
              "      display:flex;\n",
              "      flex-wrap:wrap;\n",
              "      gap: 12px;\n",
              "    }\n",
              "\n",
              "    .colab-df-convert {\n",
              "      background-color: #E8F0FE;\n",
              "      border: none;\n",
              "      border-radius: 50%;\n",
              "      cursor: pointer;\n",
              "      display: none;\n",
              "      fill: #1967D2;\n",
              "      height: 32px;\n",
              "      padding: 0 0 0 0;\n",
              "      width: 32px;\n",
              "    }\n",
              "\n",
              "    .colab-df-convert:hover {\n",
              "      background-color: #E2EBFA;\n",
              "      box-shadow: 0px 1px 2px rgba(60, 64, 67, 0.3), 0px 1px 3px 1px rgba(60, 64, 67, 0.15);\n",
              "      fill: #174EA6;\n",
              "    }\n",
              "\n",
              "    [theme=dark] .colab-df-convert {\n",
              "      background-color: #3B4455;\n",
              "      fill: #D2E3FC;\n",
              "    }\n",
              "\n",
              "    [theme=dark] .colab-df-convert:hover {\n",
              "      background-color: #434B5C;\n",
              "      box-shadow: 0px 1px 3px 1px rgba(0, 0, 0, 0.15);\n",
              "      filter: drop-shadow(0px 1px 2px rgba(0, 0, 0, 0.3));\n",
              "      fill: #FFFFFF;\n",
              "    }\n",
              "  </style>\n",
              "\n",
              "      <script>\n",
              "        const buttonEl =\n",
              "          document.querySelector('#df-e9a3ebbc-3d77-43cd-9fa0-cb4ee7452ff6 button.colab-df-convert');\n",
              "        buttonEl.style.display =\n",
              "          google.colab.kernel.accessAllowed ? 'block' : 'none';\n",
              "\n",
              "        async function convertToInteractive(key) {\n",
              "          const element = document.querySelector('#df-e9a3ebbc-3d77-43cd-9fa0-cb4ee7452ff6');\n",
              "          const dataTable =\n",
              "            await google.colab.kernel.invokeFunction('convertToInteractive',\n",
              "                                                     [key], {});\n",
              "          if (!dataTable) return;\n",
              "\n",
              "          const docLinkHtml = 'Like what you see? Visit the ' +\n",
              "            '<a target=\"_blank\" href=https://colab.research.google.com/notebooks/data_table.ipynb>data table notebook</a>'\n",
              "            + ' to learn more about interactive tables.';\n",
              "          element.innerHTML = '';\n",
              "          dataTable['output_type'] = 'display_data';\n",
              "          await google.colab.output.renderOutput(dataTable, element);\n",
              "          const docLink = document.createElement('div');\n",
              "          docLink.innerHTML = docLinkHtml;\n",
              "          element.appendChild(docLink);\n",
              "        }\n",
              "      </script>\n",
              "    </div>\n",
              "  </div>\n",
              "  "
            ]
          },
          "metadata": {},
          "execution_count": 31
        }
      ]
    },
    {
      "cell_type": "code",
      "source": [
        "print(classification_report(y_test,predicted))"
      ],
      "metadata": {
        "trusted": true,
        "colab": {
          "base_uri": "https://localhost:8080/"
        },
        "id": "Ov4XB0cXSU_O",
        "outputId": "a9eb64fc-5b9f-4727-db7d-4c678d0add82"
      },
      "execution_count": 32,
      "outputs": [
        {
          "output_type": "stream",
          "name": "stdout",
          "text": [
            "              precision    recall  f1-score   support\n",
            "\n",
            "           0       0.49      0.56      0.52       348\n",
            "           1       0.60      0.59      0.60       381\n",
            "           2       0.59      0.50      0.54       372\n",
            "           3       0.92      0.93      0.93       399\n",
            "\n",
            "    accuracy                           0.65      1500\n",
            "   macro avg       0.65      0.65      0.65      1500\n",
            "weighted avg       0.66      0.65      0.65      1500\n",
            "\n"
          ]
        }
      ]
    },
    {
      "cell_type": "code",
      "source": [
        "from sklearn.metrics import confusion_matrix\n",
        "from matplotlib.pyplot import figure\n",
        "figure(figsize=(5, 4), dpi=80)\n",
        "cm = confusion_matrix(y_test,predicted)\n",
        "\n",
        "sns.heatmap(cm, annot=True,fmt=\"d\",cmap=\"YlGnBu\")"
      ],
      "metadata": {
        "trusted": true,
        "colab": {
          "base_uri": "https://localhost:8080/",
          "height": 309
        },
        "id": "tTM7VGI5SU_O",
        "outputId": "33407996-4aa7-401e-c61c-21302122bbda"
      },
      "execution_count": 33,
      "outputs": [
        {
          "output_type": "execute_result",
          "data": {
            "text/plain": [
              "<matplotlib.axes._subplots.AxesSubplot at 0x7f78003964d0>"
            ]
          },
          "metadata": {},
          "execution_count": 33
        },
        {
          "output_type": "display_data",
          "data": {
            "text/plain": [
              "<Figure size 400x320 with 2 Axes>"
            ],
            "image/png": "[encoded data removed]"
          },
          "metadata": {
            "needs_background": "light"
          }
        }
      ]
    },
    {
      "cell_type": "markdown",
      "source": [
        "# svc"
      ],
      "metadata": {
        "id": "QTkvnYXySU_O"
      }
    },
    {
      "cell_type": "code",
      "source": [
        "from sklearn.svm import SVC\n",
        "svm_model = SVC(kernel = \"linear\")\n",
        "svm_model = svm_model.fit(X_for_model, y_train)\n",
        "svm_model"
      ],
      "metadata": {
        "trusted": true,
        "colab": {
          "base_uri": "https://localhost:8080/"
        },
        "id": "fnYML6n5SU_O",
        "outputId": "e24e1a6e-7d1a-4904-a65f-fef289162c73"
      },
      "execution_count": 34,
      "outputs": [
        {
          "output_type": "execute_result",
          "data": {
            "text/plain": [
              "SVC(kernel='linear')"
            ]
          },
          "metadata": {},
          "execution_count": 34
        }
      ]
    },
    {
      "cell_type": "code",
      "source": [
        "X_test_feature = feature_extractor.predict(x_test)\n",
        "#Now predict using the trained RF model. \n",
        "predicted = svm_model.predict(X_test_feature)\n",
        "#Inverse le transform to get original label back. \n",
        "\n",
        "\n",
        "print('Test set evaluation:\\n_____________________________________')\n",
        "print_evaluate(y_test, predicted)"
      ],
      "metadata": {
        "trusted": true,
        "colab": {
          "base_uri": "https://localhost:8080/"
        },
        "id": "w7BlrTL_SU_P",
        "outputId": "a2fff7a1-792a-4716-c9cc-b804a98e47c6"
      },
      "execution_count": 35,
      "outputs": [
        {
          "output_type": "stream",
          "name": "stdout",
          "text": [
            "Test set evaluation:\n",
            "_____________________________________\n",
            "MAE: 0.39666666666666667\n",
            "MSE: 0.6313333333333333\n",
            "RMSE: 0.7945648704374825\n",
            "R2 Square 0.4923732702096547\n",
            "Accuracy_mymodel 0.7186666666666667\n",
            "__________________________________\n"
          ]
        }
      ]
    },
    {
      "cell_type": "code",
      "source": [
        "results_df_2 = pd.DataFrame(data=[[\"SVC\", *evaluate(y_test, predicted)]], \n",
        "                          columns=['Model', 'MAE', 'MSE', 'RMSE', 'R2 Square','Accuracy_mymodel' ])\n",
        "results_df = results_df.append(results_df_2, ignore_index=True)\n",
        "results_df"
      ],
      "metadata": {
        "trusted": true,
        "colab": {
          "base_uri": "https://localhost:8080/",
          "height": 112
        },
        "id": "lwNc87kQSU_P",
        "outputId": "f2177f30-ec32-4c31-f79a-cf50583e5e21"
      },
      "execution_count": 36,
      "outputs": [
        {
          "output_type": "execute_result",
          "data": {
            "text/plain": [
              "                  Model       MAE       MSE      RMSE  R2 Square  \\\n",
              "0  KNeighborsClassifier  0.481333  0.760000  0.871780   0.388918   \n",
              "1                   SVC  0.396667  0.631333  0.794565   0.492373   \n",
              "\n",
              "   Accuracy_mymodel  \n",
              "0          0.654667  \n",
              "1          0.718667  "
            ],
            "text/html": [
              "\n",
              "  <div id=\"df-4560c02d-07c8-4a8e-bb69-6bdc8a485b4d\">\n",
              "    <div class=\"colab-df-container\">\n",
              "      <div>\n",
              "<style scoped>\n",
              "    .dataframe tbody tr th:only-of-type {\n",
              "        vertical-align: middle;\n",
              "    }\n",
              "\n",
              "    .dataframe tbody tr th {\n",
              "        vertical-align: top;\n",
              "    }\n",
              "\n",
              "    .dataframe thead th {\n",
              "        text-align: right;\n",
              "    }\n",
              "</style>\n",
              "<table border=\"1\" class=\"dataframe\">\n",
              "  <thead>\n",
              "    <tr style=\"text-align: right;\">\n",
              "      <th></th>\n",
              "      <th>Model</th>\n",
              "      <th>MAE</th>\n",
              "      <th>MSE</th>\n",
              "      <th>RMSE</th>\n",
              "      <th>R2 Square</th>\n",
              "      <th>Accuracy_mymodel</th>\n",
              "    </tr>\n",
              "  </thead>\n",
              "  <tbody>\n",
              "    <tr>\n",
              "      <th>0</th>\n",
              "      <td>KNeighborsClassifier</td>\n",
              "      <td>0.481333</td>\n",
              "      <td>0.760000</td>\n",
              "      <td>0.871780</td>\n",
              "      <td>0.388918</td>\n",
              "      <td>0.654667</td>\n",
              "    </tr>\n",
              "    <tr>\n",
              "      <th>1</th>\n",
              "      <td>SVC</td>\n",
              "      <td>0.396667</td>\n",
              "      <td>0.631333</td>\n",
              "      <td>0.794565</td>\n",
              "      <td>0.492373</td>\n",
              "      <td>0.718667</td>\n",
              "    </tr>\n",
              "  </tbody>\n",
              "</table>\n",
              "</div>\n",
              "      <button class=\"colab-df-convert\" onclick=\"convertToInteractive('df-4560c02d-07c8-4a8e-bb69-6bdc8a485b4d')\"\n",
              "              title=\"Convert this dataframe to an interactive table.\"\n",
              "              style=\"display:none;\">\n",
              "        \n",
              "  <svg xmlns=\"http://www.w3.org/2000/svg\" height=\"24px\"viewBox=\"0 0 24 24\"\n",
              "       width=\"24px\">\n",
              "    <path d=\"M0 0h24v24H0V0z\" fill=\"none\"/>\n",
              "    <path d=\"M18.56 5.44l.94 2.06.94-2.06 2.06-.94-2.06-.94-.94-2.06-.94 2.06-2.06.94zm-11 1L8.5 8.5l.94-2.06 2.06-.94-2.06-.94L8.5 2.5l-.94 2.06-2.06.94zm10 10l.94 2.06.94-2.06 2.06-.94-2.06-.94-.94-2.06-.94 2.06-2.06.94z\"/><path d=\"M17.41 7.96l-1.37-1.37c-.4-.4-.92-.59-1.43-.59-.52 0-1.04.2-1.43.59L10.3 9.45l-7.72 7.72c-.78.78-.78 2.05 0 2.83L4 21.41c.39.39.9.59 1.41.59.51 0 1.02-.2 1.41-.59l7.78-7.78 2.81-2.81c.8-.78.8-2.07 0-2.86zM5.41 20L4 18.59l7.72-7.72 1.47 1.35L5.41 20z\"/>\n",
              "  </svg>\n",
              "      </button>\n",
              "      \n",
              "  <style>\n",
              "    .colab-df-container {\n",
              "      display:flex;\n",
              "      flex-wrap:wrap;\n",
              "      gap: 12px;\n",
              "    }\n",
              "\n",
              "    .colab-df-convert {\n",
              "      background-color: #E8F0FE;\n",
              "      border: none;\n",
              "      border-radius: 50%;\n",
              "      cursor: pointer;\n",
              "      display: none;\n",
              "      fill: #1967D2;\n",
              "      height: 32px;\n",
              "      padding: 0 0 0 0;\n",
              "      width: 32px;\n",
              "    }\n",
              "\n",
              "    .colab-df-convert:hover {\n",
              "      background-color: #E2EBFA;\n",
              "      box-shadow: 0px 1px 2px rgba(60, 64, 67, 0.3), 0px 1px 3px 1px rgba(60, 64, 67, 0.15);\n",
              "      fill: #174EA6;\n",
              "    }\n",
              "\n",
              "    [theme=dark] .colab-df-convert {\n",
              "      background-color: #3B4455;\n",
              "      fill: #D2E3FC;\n",
              "    }\n",
              "\n",
              "    [theme=dark] .colab-df-convert:hover {\n",
              "      background-color: #434B5C;\n",
              "      box-shadow: 0px 1px 3px 1px rgba(0, 0, 0, 0.15);\n",
              "      filter: drop-shadow(0px 1px 2px rgba(0, 0, 0, 0.3));\n",
              "      fill: #FFFFFF;\n",
              "    }\n",
              "  </style>\n",
              "\n",
              "      <script>\n",
              "        const buttonEl =\n",
              "          document.querySelector('#df-4560c02d-07c8-4a8e-bb69-6bdc8a485b4d button.colab-df-convert');\n",
              "        buttonEl.style.display =\n",
              "          google.colab.kernel.accessAllowed ? 'block' : 'none';\n",
              "\n",
              "        async function convertToInteractive(key) {\n",
              "          const element = document.querySelector('#df-4560c02d-07c8-4a8e-bb69-6bdc8a485b4d');\n",
              "          const dataTable =\n",
              "            await google.colab.kernel.invokeFunction('convertToInteractive',\n",
              "                                                     [key], {});\n",
              "          if (!dataTable) return;\n",
              "\n",
              "          const docLinkHtml = 'Like what you see? Visit the ' +\n",
              "            '<a target=\"_blank\" href=https://colab.research.google.com/notebooks/data_table.ipynb>data table notebook</a>'\n",
              "            + ' to learn more about interactive tables.';\n",
              "          element.innerHTML = '';\n",
              "          dataTable['output_type'] = 'display_data';\n",
              "          await google.colab.output.renderOutput(dataTable, element);\n",
              "          const docLink = document.createElement('div');\n",
              "          docLink.innerHTML = docLinkHtml;\n",
              "          element.appendChild(docLink);\n",
              "        }\n",
              "      </script>\n",
              "    </div>\n",
              "  </div>\n",
              "  "
            ]
          },
          "metadata": {},
          "execution_count": 36
        }
      ]
    },
    {
      "cell_type": "code",
      "source": [
        "print(classification_report(y_test,predicted))"
      ],
      "metadata": {
        "trusted": true,
        "colab": {
          "base_uri": "https://localhost:8080/"
        },
        "id": "53caTnYmSU_P",
        "outputId": "d85f2c04-e638-4903-d5eb-613b93462fcc"
      },
      "execution_count": 37,
      "outputs": [
        {
          "output_type": "stream",
          "name": "stdout",
          "text": [
            "              precision    recall  f1-score   support\n",
            "\n",
            "           0       0.55      0.56      0.56       348\n",
            "           1       0.68      0.71      0.70       381\n",
            "           2       0.67      0.64      0.65       372\n",
            "           3       0.95      0.94      0.94       399\n",
            "\n",
            "    accuracy                           0.72      1500\n",
            "   macro avg       0.71      0.71      0.71      1500\n",
            "weighted avg       0.72      0.72      0.72      1500\n",
            "\n"
          ]
        }
      ]
    },
    {
      "cell_type": "code",
      "source": [
        "from sklearn.metrics import confusion_matrix\n",
        "from matplotlib.pyplot import figure\n",
        "figure(figsize=(9, 8), dpi=80)\n",
        "cm = confusion_matrix(y_test,predicted)\n",
        "\n",
        "sns.heatmap(cm, annot=True,fmt=\"d\",cmap=\"YlGnBu\")"
      ],
      "metadata": {
        "trusted": true,
        "colab": {
          "base_uri": "https://localhost:8080/",
          "height": 550
        },
        "id": "mHt8dbL1SU_Q",
        "outputId": "99688ffd-fce9-48cc-9ff7-9d4714aba5b3"
      },
      "execution_count": 38,
      "outputs": [
        {
          "output_type": "execute_result",
          "data": {
            "text/plain": [
              "<matplotlib.axes._subplots.AxesSubplot at 0x7f78016a7ad0>"
            ]
          },
          "metadata": {},
          "execution_count": 38
        },
        {
          "output_type": "display_data",
          "data": {
            "text/plain": [
              "<Figure size 720x640 with 2 Axes>"
            ],
            "image/png": "[encoded data removed]"
          },
          "metadata": {
            "needs_background": "light"
          }
        }
      ]
    },
    {
      "cell_type": "markdown",
      "source": [
        "# RBF SVC\n"
      ],
      "metadata": {
        "id": "CzZlXLsESU_Q"
      }
    },
    {
      "cell_type": "code",
      "source": [
        "from sklearn.svm import SVC\n",
        "\n",
        "svc_model = SVC(kernel = \"rbf\").fit(X_for_model, y_train)\n",
        "svc_model = svc_model.fit(X_for_model, y_train)\n",
        "svc_model"
      ],
      "metadata": {
        "trusted": true,
        "colab": {
          "base_uri": "https://localhost:8080/"
        },
        "id": "hKE0iU3rSU_Q",
        "outputId": "59d381e8-4428-430c-ebc0-c33fe7fb04f2"
      },
      "execution_count": 39,
      "outputs": [
        {
          "output_type": "execute_result",
          "data": {
            "text/plain": [
              "SVC()"
            ]
          },
          "metadata": {},
          "execution_count": 39
        }
      ]
    },
    {
      "cell_type": "code",
      "source": [
        "X_test_feature = feature_extractor.predict(x_test)\n",
        "#Now predict using the trained RF model. \n",
        "predicted = svc_model.predict(X_test_feature)\n",
        "print('Test set evaluation:\\n_____________________________________')\n",
        "print_evaluate(y_test, predicted)"
      ],
      "metadata": {
        "trusted": true,
        "colab": {
          "base_uri": "https://localhost:8080/"
        },
        "id": "R6fQ_dePSU_Q",
        "outputId": "81a87c12-096d-4a56-db42-1dd031a135c4"
      },
      "execution_count": 40,
      "outputs": [
        {
          "output_type": "stream",
          "name": "stdout",
          "text": [
            "Test set evaluation:\n",
            "_____________________________________\n",
            "MAE: 0.3473333333333333\n",
            "MSE: 0.5513333333333333\n",
            "RMSE: 0.7425182377109221\n",
            "R2 Square 0.556697671027861\n",
            "Accuracy_mymodel 0.754\n",
            "__________________________________\n"
          ]
        }
      ]
    },
    {
      "cell_type": "code",
      "source": [
        "results_df_2 = pd.DataFrame(data=[[\"RBF SVC\", *evaluate(y_test, predicted) ]], \n",
        "                          columns=['Model', 'MAE', 'MSE', 'RMSE', 'R2 Square','Accuracy_mymodel'])\n",
        "results_df = results_df.append(results_df_2, ignore_index=True)\n",
        "results_df"
      ],
      "metadata": {
        "trusted": true,
        "colab": {
          "base_uri": "https://localhost:8080/",
          "height": 144
        },
        "id": "0AsPi0yNSU_R",
        "outputId": "4869cf70-a808-40ff-e68a-2bfb2673487a"
      },
      "execution_count": 41,
      "outputs": [
        {
          "output_type": "execute_result",
          "data": {
            "text/plain": [
              "                  Model       MAE       MSE      RMSE  R2 Square  \\\n",
              "0  KNeighborsClassifier  0.481333  0.760000  0.871780   0.388918   \n",
              "1                   SVC  0.396667  0.631333  0.794565   0.492373   \n",
              "2               RBF SVC  0.347333  0.551333  0.742518   0.556698   \n",
              "\n",
              "   Accuracy_mymodel  \n",
              "0          0.654667  \n",
              "1          0.718667  \n",
              "2          0.754000  "
            ],
            "text/html": [
              "\n",
              "  <div id=\"df-e12bee94-add5-4c81-b132-10a7e982b1c2\">\n",
              "    <div class=\"colab-df-container\">\n",
              "      <div>\n",
              "<style scoped>\n",
              "    .dataframe tbody tr th:only-of-type {\n",
              "        vertical-align: middle;\n",
              "    }\n",
              "\n",
              "    .dataframe tbody tr th {\n",
              "        vertical-align: top;\n",
              "    }\n",
              "\n",
              "    .dataframe thead th {\n",
              "        text-align: right;\n",
              "    }\n",
              "</style>\n",
              "<table border=\"1\" class=\"dataframe\">\n",
              "  <thead>\n",
              "    <tr style=\"text-align: right;\">\n",
              "      <th></th>\n",
              "      <th>Model</th>\n",
              "      <th>MAE</th>\n",
              "      <th>MSE</th>\n",
              "      <th>RMSE</th>\n",
              "      <th>R2 Square</th>\n",
              "      <th>Accuracy_mymodel</th>\n",
              "    </tr>\n",
              "  </thead>\n",
              "  <tbody>\n",
              "    <tr>\n",
              "      <th>0</th>\n",
              "      <td>KNeighborsClassifier</td>\n",
              "      <td>0.481333</td>\n",
              "      <td>0.760000</td>\n",
              "      <td>0.871780</td>\n",
              "      <td>0.388918</td>\n",
              "      <td>0.654667</td>\n",
              "    </tr>\n",
              "    <tr>\n",
              "      <th>1</th>\n",
              "      <td>SVC</td>\n",
              "      <td>0.396667</td>\n",
              "      <td>0.631333</td>\n",
              "      <td>0.794565</td>\n",
              "      <td>0.492373</td>\n",
              "      <td>0.718667</td>\n",
              "    </tr>\n",
              "    <tr>\n",
              "      <th>2</th>\n",
              "      <td>RBF SVC</td>\n",
              "      <td>0.347333</td>\n",
              "      <td>0.551333</td>\n",
              "      <td>0.742518</td>\n",
              "      <td>0.556698</td>\n",
              "      <td>0.754000</td>\n",
              "    </tr>\n",
              "  </tbody>\n",
              "</table>\n",
              "</div>\n",
              "      <button class=\"colab-df-convert\" onclick=\"convertToInteractive('df-e12bee94-add5-4c81-b132-10a7e982b1c2')\"\n",
              "              title=\"Convert this dataframe to an interactive table.\"\n",
              "              style=\"display:none;\">\n",
              "        \n",
              "  <svg xmlns=\"http://www.w3.org/2000/svg\" height=\"24px\"viewBox=\"0 0 24 24\"\n",
              "       width=\"24px\">\n",
              "    <path d=\"M0 0h24v24H0V0z\" fill=\"none\"/>\n",
              "    <path d=\"M18.56 5.44l.94 2.06.94-2.06 2.06-.94-2.06-.94-.94-2.06-.94 2.06-2.06.94zm-11 1L8.5 8.5l.94-2.06 2.06-.94-2.06-.94L8.5 2.5l-.94 2.06-2.06.94zm10 10l.94 2.06.94-2.06 2.06-.94-2.06-.94-.94-2.06-.94 2.06-2.06.94z\"/><path d=\"M17.41 7.96l-1.37-1.37c-.4-.4-.92-.59-1.43-.59-.52 0-1.04.2-1.43.59L10.3 9.45l-7.72 7.72c-.78.78-.78 2.05 0 2.83L4 21.41c.39.39.9.59 1.41.59.51 0 1.02-.2 1.41-.59l7.78-7.78 2.81-2.81c.8-.78.8-2.07 0-2.86zM5.41 20L4 18.59l7.72-7.72 1.47 1.35L5.41 20z\"/>\n",
              "  </svg>\n",
              "      </button>\n",
              "      \n",
              "  <style>\n",
              "    .colab-df-container {\n",
              "      display:flex;\n",
              "      flex-wrap:wrap;\n",
              "      gap: 12px;\n",
              "    }\n",
              "\n",
              "    .colab-df-convert {\n",
              "      background-color: #E8F0FE;\n",
              "      border: none;\n",
              "      border-radius: 50%;\n",
              "      cursor: pointer;\n",
              "      display: none;\n",
              "      fill: #1967D2;\n",
              "      height: 32px;\n",
              "      padding: 0 0 0 0;\n",
              "      width: 32px;\n",
              "    }\n",
              "\n",
              "    .colab-df-convert:hover {\n",
              "      background-color: #E2EBFA;\n",
              "      box-shadow: 0px 1px 2px rgba(60, 64, 67, 0.3), 0px 1px 3px 1px rgba(60, 64, 67, 0.15);\n",
              "      fill: #174EA6;\n",
              "    }\n",
              "\n",
              "    [theme=dark] .colab-df-convert {\n",
              "      background-color: #3B4455;\n",
              "      fill: #D2E3FC;\n",
              "    }\n",
              "\n",
              "    [theme=dark] .colab-df-convert:hover {\n",
              "      background-color: #434B5C;\n",
              "      box-shadow: 0px 1px 3px 1px rgba(0, 0, 0, 0.15);\n",
              "      filter: drop-shadow(0px 1px 2px rgba(0, 0, 0, 0.3));\n",
              "      fill: #FFFFFF;\n",
              "    }\n",
              "  </style>\n",
              "\n",
              "      <script>\n",
              "        const buttonEl =\n",
              "          document.querySelector('#df-e12bee94-add5-4c81-b132-10a7e982b1c2 button.colab-df-convert');\n",
              "        buttonEl.style.display =\n",
              "          google.colab.kernel.accessAllowed ? 'block' : 'none';\n",
              "\n",
              "        async function convertToInteractive(key) {\n",
              "          const element = document.querySelector('#df-e12bee94-add5-4c81-b132-10a7e982b1c2');\n",
              "          const dataTable =\n",
              "            await google.colab.kernel.invokeFunction('convertToInteractive',\n",
              "                                                     [key], {});\n",
              "          if (!dataTable) return;\n",
              "\n",
              "          const docLinkHtml = 'Like what you see? Visit the ' +\n",
              "            '<a target=\"_blank\" href=https://colab.research.google.com/notebooks/data_table.ipynb>data table notebook</a>'\n",
              "            + ' to learn more about interactive tables.';\n",
              "          element.innerHTML = '';\n",
              "          dataTable['output_type'] = 'display_data';\n",
              "          await google.colab.output.renderOutput(dataTable, element);\n",
              "          const docLink = document.createElement('div');\n",
              "          docLink.innerHTML = docLinkHtml;\n",
              "          element.appendChild(docLink);\n",
              "        }\n",
              "      </script>\n",
              "    </div>\n",
              "  </div>\n",
              "  "
            ]
          },
          "metadata": {},
          "execution_count": 41
        }
      ]
    },
    {
      "cell_type": "code",
      "source": [
        "print(classification_report(y_test,predicted))"
      ],
      "metadata": {
        "trusted": true,
        "colab": {
          "base_uri": "https://localhost:8080/"
        },
        "id": "W_IISQzeSU_R",
        "outputId": "50ce1275-3717-43b2-c129-437c1556b2aa"
      },
      "execution_count": 42,
      "outputs": [
        {
          "output_type": "stream",
          "name": "stdout",
          "text": [
            "              precision    recall  f1-score   support\n",
            "\n",
            "           0       0.61      0.64      0.62       348\n",
            "           1       0.72      0.73      0.73       381\n",
            "           2       0.71      0.66      0.68       372\n",
            "           3       0.95      0.97      0.96       399\n",
            "\n",
            "    accuracy                           0.75      1500\n",
            "   macro avg       0.75      0.75      0.75      1500\n",
            "weighted avg       0.75      0.75      0.75      1500\n",
            "\n"
          ]
        }
      ]
    },
    {
      "cell_type": "code",
      "source": [
        "from sklearn.metrics import confusion_matrix\n",
        "from matplotlib.pyplot import figure\n",
        "figure(figsize=(9, 8), dpi=80)\n",
        "cm = confusion_matrix(y_test,predicted)\n",
        "\n",
        "sns.heatmap(cm, annot=True,fmt=\"d\",cmap=\"YlGnBu\")"
      ],
      "metadata": {
        "trusted": true,
        "colab": {
          "base_uri": "https://localhost:8080/",
          "height": 550
        },
        "id": "7UqmEumgSU_R",
        "outputId": "9d084da8-7819-4bef-f489-afb05f5ccceb"
      },
      "execution_count": 43,
      "outputs": [
        {
          "output_type": "execute_result",
          "data": {
            "text/plain": [
              "<matplotlib.axes._subplots.AxesSubplot at 0x7f780050abd0>"
            ]
          },
          "metadata": {},
          "execution_count": 43
        },
        {
          "output_type": "display_data",
          "data": {
            "text/plain": [
              "<Figure size 720x640 with 2 Axes>"
            ],
            "image/png": "[encoded data removed]"
          },
          "metadata": {
            "needs_background": "light"
          }
        }
      ]
    },
    {
      "cell_type": "markdown",
      "source": [
        "# DecisionTreeClassifier"
      ],
      "metadata": {
        "id": "jhiPlTc-SU_R"
      }
    },
    {
      "cell_type": "code",
      "source": [
        "from sklearn.tree import DecisionTreeClassifier\n",
        "cart_model = DecisionTreeClassifier()\n",
        "cart_model = cart_model.fit(X_for_model, y_train)\n",
        "cart_model"
      ],
      "metadata": {
        "trusted": true,
        "colab": {
          "base_uri": "https://localhost:8080/"
        },
        "id": "GkBxF0_USU_R",
        "outputId": "b4a2226e-ed23-4a95-9800-ce2cf9d25614"
      },
      "execution_count": 44,
      "outputs": [
        {
          "output_type": "execute_result",
          "data": {
            "text/plain": [
              "DecisionTreeClassifier()"
            ]
          },
          "metadata": {},
          "execution_count": 44
        }
      ]
    },
    {
      "cell_type": "code",
      "source": [
        "X_test_feature = feature_extractor.predict(x_test)\n",
        "#Now predict using the trained RF model. \n",
        "predicted = cart_model.predict(X_test_feature)\n",
        "\n",
        "\n",
        "\n",
        "print('Test set evaluation:\\n_____________________________________')\n",
        "print_evaluate(y_test, predicted)"
      ],
      "metadata": {
        "trusted": true,
        "colab": {
          "base_uri": "https://localhost:8080/"
        },
        "id": "0Y2WJbVISU_S",
        "outputId": "42e67e47-4b48-4b56-d881-3ac932d68fc0"
      },
      "execution_count": 45,
      "outputs": [
        {
          "output_type": "stream",
          "name": "stdout",
          "text": [
            "Test set evaluation:\n",
            "_____________________________________\n",
            "MAE: 0.6153333333333333\n",
            "MSE: 1.0486666666666666\n",
            "RMSE: 1.024044269876389\n",
            "R2 Square 0.15681431260801149\n",
            "Accuracy_mymodel 0.5806666666666667\n",
            "__________________________________\n"
          ]
        }
      ]
    },
    {
      "cell_type": "code",
      "source": [
        "results_df_2 = pd.DataFrame(data=[[\"DecisionTreeClassifier\", *evaluate(y_test, predicted)]], \n",
        "                          columns=['Model', 'MAE', 'MSE', 'RMSE', 'R2 Square','Accuracy_mymodel' ])\n",
        "results_df = results_df.append(results_df_2, ignore_index=True)\n",
        "results_df"
      ],
      "metadata": {
        "trusted": true,
        "colab": {
          "base_uri": "https://localhost:8080/",
          "height": 175
        },
        "id": "09iZwRVwSU_S",
        "outputId": "78ba7147-ab16-4c7a-f313-cd74b3017b46"
      },
      "execution_count": 46,
      "outputs": [
        {
          "output_type": "execute_result",
          "data": {
            "text/plain": [
              "                    Model       MAE       MSE      RMSE  R2 Square  \\\n",
              "0    KNeighborsClassifier  0.481333  0.760000  0.871780   0.388918   \n",
              "1                     SVC  0.396667  0.631333  0.794565   0.492373   \n",
              "2                 RBF SVC  0.347333  0.551333  0.742518   0.556698   \n",
              "3  DecisionTreeClassifier  0.615333  1.048667  1.024044   0.156814   \n",
              "\n",
              "   Accuracy_mymodel  \n",
              "0          0.654667  \n",
              "1          0.718667  \n",
              "2          0.754000  \n",
              "3          0.580667  "
            ],
            "text/html": [
              "\n",
              "  <div id=\"df-a4b5f57c-ed6f-4703-9efd-233f73bd792b\">\n",
              "    <div class=\"colab-df-container\">\n",
              "      <div>\n",
              "<style scoped>\n",
              "    .dataframe tbody tr th:only-of-type {\n",
              "        vertical-align: middle;\n",
              "    }\n",
              "\n",
              "    .dataframe tbody tr th {\n",
              "        vertical-align: top;\n",
              "    }\n",
              "\n",
              "    .dataframe thead th {\n",
              "        text-align: right;\n",
              "    }\n",
              "</style>\n",
              "<table border=\"1\" class=\"dataframe\">\n",
              "  <thead>\n",
              "    <tr style=\"text-align: right;\">\n",
              "      <th></th>\n",
              "      <th>Model</th>\n",
              "      <th>MAE</th>\n",
              "      <th>MSE</th>\n",
              "      <th>RMSE</th>\n",
              "      <th>R2 Square</th>\n",
              "      <th>Accuracy_mymodel</th>\n",
              "    </tr>\n",
              "  </thead>\n",
              "  <tbody>\n",
              "    <tr>\n",
              "      <th>0</th>\n",
              "      <td>KNeighborsClassifier</td>\n",
              "      <td>0.481333</td>\n",
              "      <td>0.760000</td>\n",
              "      <td>0.871780</td>\n",
              "      <td>0.388918</td>\n",
              "      <td>0.654667</td>\n",
              "    </tr>\n",
              "    <tr>\n",
              "      <th>1</th>\n",
              "      <td>SVC</td>\n",
              "      <td>0.396667</td>\n",
              "      <td>0.631333</td>\n",
              "      <td>0.794565</td>\n",
              "      <td>0.492373</td>\n",
              "      <td>0.718667</td>\n",
              "    </tr>\n",
              "    <tr>\n",
              "      <th>2</th>\n",
              "      <td>RBF SVC</td>\n",
              "      <td>0.347333</td>\n",
              "      <td>0.551333</td>\n",
              "      <td>0.742518</td>\n",
              "      <td>0.556698</td>\n",
              "      <td>0.754000</td>\n",
              "    </tr>\n",
              "    <tr>\n",
              "      <th>3</th>\n",
              "      <td>DecisionTreeClassifier</td>\n",
              "      <td>0.615333</td>\n",
              "      <td>1.048667</td>\n",
              "      <td>1.024044</td>\n",
              "      <td>0.156814</td>\n",
              "      <td>0.580667</td>\n",
              "    </tr>\n",
              "  </tbody>\n",
              "</table>\n",
              "</div>\n",
              "      <button class=\"colab-df-convert\" onclick=\"convertToInteractive('df-a4b5f57c-ed6f-4703-9efd-233f73bd792b')\"\n",
              "              title=\"Convert this dataframe to an interactive table.\"\n",
              "              style=\"display:none;\">\n",
              "        \n",
              "  <svg xmlns=\"http://www.w3.org/2000/svg\" height=\"24px\"viewBox=\"0 0 24 24\"\n",
              "       width=\"24px\">\n",
              "    <path d=\"M0 0h24v24H0V0z\" fill=\"none\"/>\n",
              "    <path d=\"M18.56 5.44l.94 2.06.94-2.06 2.06-.94-2.06-.94-.94-2.06-.94 2.06-2.06.94zm-11 1L8.5 8.5l.94-2.06 2.06-.94-2.06-.94L8.5 2.5l-.94 2.06-2.06.94zm10 10l.94 2.06.94-2.06 2.06-.94-2.06-.94-.94-2.06-.94 2.06-2.06.94z\"/><path d=\"M17.41 7.96l-1.37-1.37c-.4-.4-.92-.59-1.43-.59-.52 0-1.04.2-1.43.59L10.3 9.45l-7.72 7.72c-.78.78-.78 2.05 0 2.83L4 21.41c.39.39.9.59 1.41.59.51 0 1.02-.2 1.41-.59l7.78-7.78 2.81-2.81c.8-.78.8-2.07 0-2.86zM5.41 20L4 18.59l7.72-7.72 1.47 1.35L5.41 20z\"/>\n",
              "  </svg>\n",
              "      </button>\n",
              "      \n",
              "  <style>\n",
              "    .colab-df-container {\n",
              "      display:flex;\n",
              "      flex-wrap:wrap;\n",
              "      gap: 12px;\n",
              "    }\n",
              "\n",
              "    .colab-df-convert {\n",
              "      background-color: #E8F0FE;\n",
              "      border: none;\n",
              "      border-radius: 50%;\n",
              "      cursor: pointer;\n",
              "      display: none;\n",
              "      fill: #1967D2;\n",
              "      height: 32px;\n",
              "      padding: 0 0 0 0;\n",
              "      width: 32px;\n",
              "    }\n",
              "\n",
              "    .colab-df-convert:hover {\n",
              "      background-color: #E2EBFA;\n",
              "      box-shadow: 0px 1px 2px rgba(60, 64, 67, 0.3), 0px 1px 3px 1px rgba(60, 64, 67, 0.15);\n",
              "      fill: #174EA6;\n",
              "    }\n",
              "\n",
              "    [theme=dark] .colab-df-convert {\n",
              "      background-color: #3B4455;\n",
              "      fill: #D2E3FC;\n",
              "    }\n",
              "\n",
              "    [theme=dark] .colab-df-convert:hover {\n",
              "      background-color: #434B5C;\n",
              "      box-shadow: 0px 1px 3px 1px rgba(0, 0, 0, 0.15);\n",
              "      filter: drop-shadow(0px 1px 2px rgba(0, 0, 0, 0.3));\n",
              "      fill: #FFFFFF;\n",
              "    }\n",
              "  </style>\n",
              "\n",
              "      <script>\n",
              "        const buttonEl =\n",
              "          document.querySelector('#df-a4b5f57c-ed6f-4703-9efd-233f73bd792b button.colab-df-convert');\n",
              "        buttonEl.style.display =\n",
              "          google.colab.kernel.accessAllowed ? 'block' : 'none';\n",
              "\n",
              "        async function convertToInteractive(key) {\n",
              "          const element = document.querySelector('#df-a4b5f57c-ed6f-4703-9efd-233f73bd792b');\n",
              "          const dataTable =\n",
              "            await google.colab.kernel.invokeFunction('convertToInteractive',\n",
              "                                                     [key], {});\n",
              "          if (!dataTable) return;\n",
              "\n",
              "          const docLinkHtml = 'Like what you see? Visit the ' +\n",
              "            '<a target=\"_blank\" href=https://colab.research.google.com/notebooks/data_table.ipynb>data table notebook</a>'\n",
              "            + ' to learn more about interactive tables.';\n",
              "          element.innerHTML = '';\n",
              "          dataTable['output_type'] = 'display_data';\n",
              "          await google.colab.output.renderOutput(dataTable, element);\n",
              "          const docLink = document.createElement('div');\n",
              "          docLink.innerHTML = docLinkHtml;\n",
              "          element.appendChild(docLink);\n",
              "        }\n",
              "      </script>\n",
              "    </div>\n",
              "  </div>\n",
              "  "
            ]
          },
          "metadata": {},
          "execution_count": 46
        }
      ]
    },
    {
      "cell_type": "code",
      "source": [
        "print(classification_report(y_test,predicted))"
      ],
      "metadata": {
        "trusted": true,
        "colab": {
          "base_uri": "https://localhost:8080/"
        },
        "id": "lWMTnPhXSU_S",
        "outputId": "82e69b6d-c9fd-4e48-cd54-52aea38c7d92"
      },
      "execution_count": 47,
      "outputs": [
        {
          "output_type": "stream",
          "name": "stdout",
          "text": [
            "              precision    recall  f1-score   support\n",
            "\n",
            "           0       0.42      0.49      0.45       348\n",
            "           1       0.53      0.50      0.51       381\n",
            "           2       0.53      0.45      0.48       372\n",
            "           3       0.82      0.86      0.84       399\n",
            "\n",
            "    accuracy                           0.58      1500\n",
            "   macro avg       0.57      0.57      0.57      1500\n",
            "weighted avg       0.58      0.58      0.58      1500\n",
            "\n"
          ]
        }
      ]
    },
    {
      "cell_type": "code",
      "source": [
        "from sklearn.metrics import confusion_matrix\n",
        "from matplotlib.pyplot import figure\n",
        "figure(figsize=(9, 8), dpi=80)\n",
        "cm = confusion_matrix(y_test,predicted)\n",
        "\n",
        "sns.heatmap(cm, annot=True,fmt=\"d\",cmap=\"YlGnBu\")"
      ],
      "metadata": {
        "trusted": true,
        "colab": {
          "base_uri": "https://localhost:8080/",
          "height": 550
        },
        "id": "o1bfg0JISU_S",
        "outputId": "e9a5c457-7600-45df-e557-60e25620bc92"
      },
      "execution_count": 48,
      "outputs": [
        {
          "output_type": "execute_result",
          "data": {
            "text/plain": [
              "<matplotlib.axes._subplots.AxesSubplot at 0x7f78003d0590>"
            ]
          },
          "metadata": {},
          "execution_count": 48
        },
        {
          "output_type": "display_data",
          "data": {
            "text/plain": [
              "<Figure size 720x640 with 2 Axes>"
            ],
            "image/png": "[encoded data removed]"
          },
          "metadata": {
            "needs_background": "light"
          }
        }
      ]
    },
    {
      "cell_type": "markdown",
      "source": [
        "# Lojistik regresyon"
      ],
      "metadata": {
        "id": "0JL72An8cLoe"
      }
    },
    {
      "cell_type": "code",
      "source": [
        "from sklearn.linear_model import LogisticRegression\n",
        "lr_model = LogisticRegression()\n",
        "lr_model = lr_model.fit(X_for_model, y_train)\n",
        "lr_model"
      ],
      "metadata": {
        "colab": {
          "base_uri": "https://localhost:8080/"
        },
        "id": "Lx7YZeWHSU_S",
        "outputId": "0f2e5c48-52ca-44ca-bd1e-d9b113554d04"
      },
      "execution_count": 49,
      "outputs": [
        {
          "output_type": "stream",
          "name": "stderr",
          "text": [
            "/usr/local/lib/python3.7/dist-packages/sklearn/linear_model/_logistic.py:818: ConvergenceWarning: lbfgs failed to converge (status=1):\n",
            "STOP: TOTAL NO. of ITERATIONS REACHED LIMIT.\n",
            "\n",
            "Increase the number of iterations (max_iter) or scale the data as shown in:\n",
            "    https://scikit-learn.org/stable/modules/preprocessing.html\n",
            "Please also refer to the documentation for alternative solver options:\n",
            "    https://scikit-learn.org/stable/modules/linear_model.html#logistic-regression\n",
            "  extra_warning_msg=_LOGISTIC_SOLVER_CONVERGENCE_MSG,\n"
          ]
        },
        {
          "output_type": "execute_result",
          "data": {
            "text/plain": [
              "LogisticRegression()"
            ]
          },
          "metadata": {},
          "execution_count": 49
        }
      ]
    },
    {
      "cell_type": "code",
      "source": [
        "X_test_feature = feature_extractor.predict(x_test)\n",
        "#Now predict using the trained RF model. \n",
        "predicted = lr_model.predict(X_test_feature)\n",
        "\n",
        "\n",
        "\n",
        "print('Test set evaluation:\\n_____________________________________')\n",
        "print_evaluate(y_test, predicted)"
      ],
      "metadata": {
        "colab": {
          "base_uri": "https://localhost:8080/"
        },
        "id": "hngVPnHOSU_S",
        "outputId": "657bcb74-d1d7-48eb-93f3-18c7fe371bb0"
      },
      "execution_count": 50,
      "outputs": [
        {
          "output_type": "stream",
          "name": "stdout",
          "text": [
            "Test set evaluation:\n",
            "_____________________________________\n",
            "MAE: 0.4046666666666667\n",
            "MSE: 0.658\n",
            "RMSE: 0.8111719916269299\n",
            "R2 Square 0.47093180327025264\n",
            "Accuracy_mymodel 0.7173333333333334\n",
            "__________________________________\n"
          ]
        }
      ]
    },
    {
      "cell_type": "code",
      "source": [
        "results_df_2 = pd.DataFrame(data=[[\"LogisticRegression\", *evaluate(y_test, predicted)]], \n",
        "                          columns=['Model', 'MAE', 'MSE', 'RMSE', 'R2 Square','Accuracy_mymodel' ])\n",
        "results_df = results_df.append(results_df_2, ignore_index=True)\n",
        "results_df"
      ],
      "metadata": {
        "colab": {
          "base_uri": "https://localhost:8080/",
          "height": 206
        },
        "id": "43wJO47nSU_S",
        "outputId": "e4c1f4d5-304f-48e5-8edf-6156a7cc436e"
      },
      "execution_count": 51,
      "outputs": [
        {
          "output_type": "execute_result",
          "data": {
            "text/plain": [
              "                    Model       MAE       MSE      RMSE  R2 Square  \\\n",
              "0    KNeighborsClassifier  0.481333  0.760000  0.871780   0.388918   \n",
              "1                     SVC  0.396667  0.631333  0.794565   0.492373   \n",
              "2                 RBF SVC  0.347333  0.551333  0.742518   0.556698   \n",
              "3  DecisionTreeClassifier  0.615333  1.048667  1.024044   0.156814   \n",
              "4      LogisticRegression  0.404667  0.658000  0.811172   0.470932   \n",
              "\n",
              "   Accuracy_mymodel  \n",
              "0          0.654667  \n",
              "1          0.718667  \n",
              "2          0.754000  \n",
              "3          0.580667  \n",
              "4          0.717333  "
            ],
            "text/html": [
              "\n",
              "  <div id=\"df-4dd875e6-2c0c-4da0-b59a-5c1eccf93e7a\">\n",
              "    <div class=\"colab-df-container\">\n",
              "      <div>\n",
              "<style scoped>\n",
              "    .dataframe tbody tr th:only-of-type {\n",
              "        vertical-align: middle;\n",
              "    }\n",
              "\n",
              "    .dataframe tbody tr th {\n",
              "        vertical-align: top;\n",
              "    }\n",
              "\n",
              "    .dataframe thead th {\n",
              "        text-align: right;\n",
              "    }\n",
              "</style>\n",
              "<table border=\"1\" class=\"dataframe\">\n",
              "  <thead>\n",
              "    <tr style=\"text-align: right;\">\n",
              "      <th></th>\n",
              "      <th>Model</th>\n",
              "      <th>MAE</th>\n",
              "      <th>MSE</th>\n",
              "      <th>RMSE</th>\n",
              "      <th>R2 Square</th>\n",
              "      <th>Accuracy_mymodel</th>\n",
              "    </tr>\n",
              "  </thead>\n",
              "  <tbody>\n",
              "    <tr>\n",
              "      <th>0</th>\n",
              "      <td>KNeighborsClassifier</td>\n",
              "      <td>0.481333</td>\n",
              "      <td>0.760000</td>\n",
              "      <td>0.871780</td>\n",
              "      <td>0.388918</td>\n",
              "      <td>0.654667</td>\n",
              "    </tr>\n",
              "    <tr>\n",
              "      <th>1</th>\n",
              "      <td>SVC</td>\n",
              "      <td>0.396667</td>\n",
              "      <td>0.631333</td>\n",
              "      <td>0.794565</td>\n",
              "      <td>0.492373</td>\n",
              "      <td>0.718667</td>\n",
              "    </tr>\n",
              "    <tr>\n",
              "      <th>2</th>\n",
              "      <td>RBF SVC</td>\n",
              "      <td>0.347333</td>\n",
              "      <td>0.551333</td>\n",
              "      <td>0.742518</td>\n",
              "      <td>0.556698</td>\n",
              "      <td>0.754000</td>\n",
              "    </tr>\n",
              "    <tr>\n",
              "      <th>3</th>\n",
              "      <td>DecisionTreeClassifier</td>\n",
              "      <td>0.615333</td>\n",
              "      <td>1.048667</td>\n",
              "      <td>1.024044</td>\n",
              "      <td>0.156814</td>\n",
              "      <td>0.580667</td>\n",
              "    </tr>\n",
              "    <tr>\n",
              "      <th>4</th>\n",
              "      <td>LogisticRegression</td>\n",
              "      <td>0.404667</td>\n",
              "      <td>0.658000</td>\n",
              "      <td>0.811172</td>\n",
              "      <td>0.470932</td>\n",
              "      <td>0.717333</td>\n",
              "    </tr>\n",
              "  </tbody>\n",
              "</table>\n",
              "</div>\n",
              "      <button class=\"colab-df-convert\" onclick=\"convertToInteractive('df-4dd875e6-2c0c-4da0-b59a-5c1eccf93e7a')\"\n",
              "              title=\"Convert this dataframe to an interactive table.\"\n",
              "              style=\"display:none;\">\n",
              "        \n",
              "  <svg xmlns=\"http://www.w3.org/2000/svg\" height=\"24px\"viewBox=\"0 0 24 24\"\n",
              "       width=\"24px\">\n",
              "    <path d=\"M0 0h24v24H0V0z\" fill=\"none\"/>\n",
              "    <path d=\"M18.56 5.44l.94 2.06.94-2.06 2.06-.94-2.06-.94-.94-2.06-.94 2.06-2.06.94zm-11 1L8.5 8.5l.94-2.06 2.06-.94-2.06-.94L8.5 2.5l-.94 2.06-2.06.94zm10 10l.94 2.06.94-2.06 2.06-.94-2.06-.94-.94-2.06-.94 2.06-2.06.94z\"/><path d=\"M17.41 7.96l-1.37-1.37c-.4-.4-.92-.59-1.43-.59-.52 0-1.04.2-1.43.59L10.3 9.45l-7.72 7.72c-.78.78-.78 2.05 0 2.83L4 21.41c.39.39.9.59 1.41.59.51 0 1.02-.2 1.41-.59l7.78-7.78 2.81-2.81c.8-.78.8-2.07 0-2.86zM5.41 20L4 18.59l7.72-7.72 1.47 1.35L5.41 20z\"/>\n",
              "  </svg>\n",
              "      </button>\n",
              "      \n",
              "  <style>\n",
              "    .colab-df-container {\n",
              "      display:flex;\n",
              "      flex-wrap:wrap;\n",
              "      gap: 12px;\n",
              "    }\n",
              "\n",
              "    .colab-df-convert {\n",
              "      background-color: #E8F0FE;\n",
              "      border: none;\n",
              "      border-radius: 50%;\n",
              "      cursor: pointer;\n",
              "      display: none;\n",
              "      fill: #1967D2;\n",
              "      height: 32px;\n",
              "      padding: 0 0 0 0;\n",
              "      width: 32px;\n",
              "    }\n",
              "\n",
              "    .colab-df-convert:hover {\n",
              "      background-color: #E2EBFA;\n",
              "      box-shadow: 0px 1px 2px rgba(60, 64, 67, 0.3), 0px 1px 3px 1px rgba(60, 64, 67, 0.15);\n",
              "      fill: #174EA6;\n",
              "    }\n",
              "\n",
              "    [theme=dark] .colab-df-convert {\n",
              "      background-color: #3B4455;\n",
              "      fill: #D2E3FC;\n",
              "    }\n",
              "\n",
              "    [theme=dark] .colab-df-convert:hover {\n",
              "      background-color: #434B5C;\n",
              "      box-shadow: 0px 1px 3px 1px rgba(0, 0, 0, 0.15);\n",
              "      filter: drop-shadow(0px 1px 2px rgba(0, 0, 0, 0.3));\n",
              "      fill: #FFFFFF;\n",
              "    }\n",
              "  </style>\n",
              "\n",
              "      <script>\n",
              "        const buttonEl =\n",
              "          document.querySelector('#df-4dd875e6-2c0c-4da0-b59a-5c1eccf93e7a button.colab-df-convert');\n",
              "        buttonEl.style.display =\n",
              "          google.colab.kernel.accessAllowed ? 'block' : 'none';\n",
              "\n",
              "        async function convertToInteractive(key) {\n",
              "          const element = document.querySelector('#df-4dd875e6-2c0c-4da0-b59a-5c1eccf93e7a');\n",
              "          const dataTable =\n",
              "            await google.colab.kernel.invokeFunction('convertToInteractive',\n",
              "                                                     [key], {});\n",
              "          if (!dataTable) return;\n",
              "\n",
              "          const docLinkHtml = 'Like what you see? Visit the ' +\n",
              "            '<a target=\"_blank\" href=https://colab.research.google.com/notebooks/data_table.ipynb>data table notebook</a>'\n",
              "            + ' to learn more about interactive tables.';\n",
              "          element.innerHTML = '';\n",
              "          dataTable['output_type'] = 'display_data';\n",
              "          await google.colab.output.renderOutput(dataTable, element);\n",
              "          const docLink = document.createElement('div');\n",
              "          docLink.innerHTML = docLinkHtml;\n",
              "          element.appendChild(docLink);\n",
              "        }\n",
              "      </script>\n",
              "    </div>\n",
              "  </div>\n",
              "  "
            ]
          },
          "metadata": {},
          "execution_count": 51
        }
      ]
    },
    {
      "cell_type": "code",
      "source": [
        "print(classification_report(y_test,predicted))"
      ],
      "metadata": {
        "colab": {
          "base_uri": "https://localhost:8080/"
        },
        "id": "eFS6xKeop_ay",
        "outputId": "a6ce89fe-0a28-4bf5-8d4a-831306f8643d"
      },
      "execution_count": 52,
      "outputs": [
        {
          "output_type": "stream",
          "name": "stdout",
          "text": [
            "              precision    recall  f1-score   support\n",
            "\n",
            "           0       0.56      0.58      0.57       348\n",
            "           1       0.69      0.72      0.70       381\n",
            "           2       0.66      0.60      0.63       372\n",
            "           3       0.93      0.94      0.94       399\n",
            "\n",
            "    accuracy                           0.72      1500\n",
            "   macro avg       0.71      0.71      0.71      1500\n",
            "weighted avg       0.72      0.72      0.72      1500\n",
            "\n"
          ]
        }
      ]
    },
    {
      "cell_type": "code",
      "source": [
        "from sklearn.metrics import confusion_matrix\n",
        "from matplotlib.pyplot import figure\n",
        "figure(figsize=(9, 8), dpi=80)\n",
        "cm = confusion_matrix(y_test,predicted)\n",
        "\n",
        "sns.heatmap(cm, annot=True,fmt=\"d\",cmap=\"YlGnBu\")"
      ],
      "metadata": {
        "colab": {
          "base_uri": "https://localhost:8080/",
          "height": 550
        },
        "id": "nrUjeNAWqBBS",
        "outputId": "b785f857-cd74-4a00-c5f1-904745305838"
      },
      "execution_count": 53,
      "outputs": [
        {
          "output_type": "execute_result",
          "data": {
            "text/plain": [
              "<matplotlib.axes._subplots.AxesSubplot at 0x7f77fff09750>"
            ]
          },
          "metadata": {},
          "execution_count": 53
        },
        {
          "output_type": "display_data",
          "data": {
            "text/plain": [
              "<Figure size 720x640 with 2 Axes>"
            ],
            "image/png": "[encoded data removed]"
          },
          "metadata": {
            "needs_background": "light"
          }
        }
      ]
    },
    {
      "cell_type": "markdown",
      "source": [
        "# SGDClassifier"
      ],
      "metadata": {
        "id": "zehYtzS0qYSR"
      }
    },
    {
      "cell_type": "code",
      "source": [
        "from sklearn.linear_model import SGDClassifier\n",
        "\n",
        "SGD_model = SGDClassifier()\n",
        "SGD_model = SGD_model.fit(X_for_model, y_train)\n",
        "SGD_model"
      ],
      "metadata": {
        "colab": {
          "base_uri": "https://localhost:8080/"
        },
        "id": "cWBnVFKQqDVC",
        "outputId": "d395fffa-7bcb-493f-a5a8-4cbb32c798cd"
      },
      "execution_count": 54,
      "outputs": [
        {
          "output_type": "execute_result",
          "data": {
            "text/plain": [
              "SGDClassifier()"
            ]
          },
          "metadata": {},
          "execution_count": 54
        }
      ]
    },
    {
      "cell_type": "code",
      "source": [
        "X_test_feature = feature_extractor.predict(x_test)\n",
        "#Now predict using the trained RF model. \n",
        "predicted = SGD_model.predict(X_test_feature)\n",
        "\n",
        "\n",
        "\n",
        "print('Test set evaluation:\\n_____________________________________')\n",
        "print_evaluate(y_test, predicted)"
      ],
      "metadata": {
        "colab": {
          "base_uri": "https://localhost:8080/"
        },
        "id": "y4GeZEBTqbES",
        "outputId": "41c37033-aa50-4ca8-e4a7-d5bdad03207d"
      },
      "execution_count": 55,
      "outputs": [
        {
          "output_type": "stream",
          "name": "stdout",
          "text": [
            "Test set evaluation:\n",
            "_____________________________________\n",
            "MAE: 0.40066666666666667\n",
            "MSE: 0.6446666666666667\n",
            "RMSE: 0.8029113691228109\n",
            "R2 Square 0.4816525367399537\n",
            "Accuracy_mymodel 0.718\n",
            "__________________________________\n"
          ]
        }
      ]
    },
    {
      "cell_type": "code",
      "source": [
        "results_df_2 = pd.DataFrame(data=[[\"SGDClassifier\", *evaluate(y_test, predicted)]], \n",
        "                          columns=['Model', 'MAE', 'MSE', 'RMSE', 'R2 Square','Accuracy_mymodel' ])\n",
        "results_df = results_df.append(results_df_2, ignore_index=True)\n",
        "results_df"
      ],
      "metadata": {
        "colab": {
          "base_uri": "https://localhost:8080/",
          "height": 238
        },
        "id": "nET7Sn3lrdsp",
        "outputId": "d4cebad5-dc6b-40b6-ff12-dad87c2b57ca"
      },
      "execution_count": 56,
      "outputs": [
        {
          "output_type": "execute_result",
          "data": {
            "text/plain": [
              "                    Model       MAE       MSE      RMSE  R2 Square  \\\n",
              "0    KNeighborsClassifier  0.481333  0.760000  0.871780   0.388918   \n",
              "1                     SVC  0.396667  0.631333  0.794565   0.492373   \n",
              "2                 RBF SVC  0.347333  0.551333  0.742518   0.556698   \n",
              "3  DecisionTreeClassifier  0.615333  1.048667  1.024044   0.156814   \n",
              "4      LogisticRegression  0.404667  0.658000  0.811172   0.470932   \n",
              "5           SGDClassifier  0.400667  0.644667  0.802911   0.481653   \n",
              "\n",
              "   Accuracy_mymodel  \n",
              "0          0.654667  \n",
              "1          0.718667  \n",
              "2          0.754000  \n",
              "3          0.580667  \n",
              "4          0.717333  \n",
              "5          0.718000  "
            ],
            "text/html": [
              "\n",
              "  <div id=\"df-bece6661-ac61-48d6-a477-e2b22eacae95\">\n",
              "    <div class=\"colab-df-container\">\n",
              "      <div>\n",
              "<style scoped>\n",
              "    .dataframe tbody tr th:only-of-type {\n",
              "        vertical-align: middle;\n",
              "    }\n",
              "\n",
              "    .dataframe tbody tr th {\n",
              "        vertical-align: top;\n",
              "    }\n",
              "\n",
              "    .dataframe thead th {\n",
              "        text-align: right;\n",
              "    }\n",
              "</style>\n",
              "<table border=\"1\" class=\"dataframe\">\n",
              "  <thead>\n",
              "    <tr style=\"text-align: right;\">\n",
              "      <th></th>\n",
              "      <th>Model</th>\n",
              "      <th>MAE</th>\n",
              "      <th>MSE</th>\n",
              "      <th>RMSE</th>\n",
              "      <th>R2 Square</th>\n",
              "      <th>Accuracy_mymodel</th>\n",
              "    </tr>\n",
              "  </thead>\n",
              "  <tbody>\n",
              "    <tr>\n",
              "      <th>0</th>\n",
              "      <td>KNeighborsClassifier</td>\n",
              "      <td>0.481333</td>\n",
              "      <td>0.760000</td>\n",
              "      <td>0.871780</td>\n",
              "      <td>0.388918</td>\n",
              "      <td>0.654667</td>\n",
              "    </tr>\n",
              "    <tr>\n",
              "      <th>1</th>\n",
              "      <td>SVC</td>\n",
              "      <td>0.396667</td>\n",
              "      <td>0.631333</td>\n",
              "      <td>0.794565</td>\n",
              "      <td>0.492373</td>\n",
              "      <td>0.718667</td>\n",
              "    </tr>\n",
              "    <tr>\n",
              "      <th>2</th>\n",
              "      <td>RBF SVC</td>\n",
              "      <td>0.347333</td>\n",
              "      <td>0.551333</td>\n",
              "      <td>0.742518</td>\n",
              "      <td>0.556698</td>\n",
              "      <td>0.754000</td>\n",
              "    </tr>\n",
              "    <tr>\n",
              "      <th>3</th>\n",
              "      <td>DecisionTreeClassifier</td>\n",
              "      <td>0.615333</td>\n",
              "      <td>1.048667</td>\n",
              "      <td>1.024044</td>\n",
              "      <td>0.156814</td>\n",
              "      <td>0.580667</td>\n",
              "    </tr>\n",
              "    <tr>\n",
              "      <th>4</th>\n",
              "      <td>LogisticRegression</td>\n",
              "      <td>0.404667</td>\n",
              "      <td>0.658000</td>\n",
              "      <td>0.811172</td>\n",
              "      <td>0.470932</td>\n",
              "      <td>0.717333</td>\n",
              "    </tr>\n",
              "    <tr>\n",
              "      <th>5</th>\n",
              "      <td>SGDClassifier</td>\n",
              "      <td>0.400667</td>\n",
              "      <td>0.644667</td>\n",
              "      <td>0.802911</td>\n",
              "      <td>0.481653</td>\n",
              "      <td>0.718000</td>\n",
              "    </tr>\n",
              "  </tbody>\n",
              "</table>\n",
              "</div>\n",
              "      <button class=\"colab-df-convert\" onclick=\"convertToInteractive('df-bece6661-ac61-48d6-a477-e2b22eacae95')\"\n",
              "              title=\"Convert this dataframe to an interactive table.\"\n",
              "              style=\"display:none;\">\n",
              "        \n",
              "  <svg xmlns=\"http://www.w3.org/2000/svg\" height=\"24px\"viewBox=\"0 0 24 24\"\n",
              "       width=\"24px\">\n",
              "    <path d=\"M0 0h24v24H0V0z\" fill=\"none\"/>\n",
              "    <path d=\"M18.56 5.44l.94 2.06.94-2.06 2.06-.94-2.06-.94-.94-2.06-.94 2.06-2.06.94zm-11 1L8.5 8.5l.94-2.06 2.06-.94-2.06-.94L8.5 2.5l-.94 2.06-2.06.94zm10 10l.94 2.06.94-2.06 2.06-.94-2.06-.94-.94-2.06-.94 2.06-2.06.94z\"/><path d=\"M17.41 7.96l-1.37-1.37c-.4-.4-.92-.59-1.43-.59-.52 0-1.04.2-1.43.59L10.3 9.45l-7.72 7.72c-.78.78-.78 2.05 0 2.83L4 21.41c.39.39.9.59 1.41.59.51 0 1.02-.2 1.41-.59l7.78-7.78 2.81-2.81c.8-.78.8-2.07 0-2.86zM5.41 20L4 18.59l7.72-7.72 1.47 1.35L5.41 20z\"/>\n",
              "  </svg>\n",
              "      </button>\n",
              "      \n",
              "  <style>\n",
              "    .colab-df-container {\n",
              "      display:flex;\n",
              "      flex-wrap:wrap;\n",
              "      gap: 12px;\n",
              "    }\n",
              "\n",
              "    .colab-df-convert {\n",
              "      background-color: #E8F0FE;\n",
              "      border: none;\n",
              "      border-radius: 50%;\n",
              "      cursor: pointer;\n",
              "      display: none;\n",
              "      fill: #1967D2;\n",
              "      height: 32px;\n",
              "      padding: 0 0 0 0;\n",
              "      width: 32px;\n",
              "    }\n",
              "\n",
              "    .colab-df-convert:hover {\n",
              "      background-color: #E2EBFA;\n",
              "      box-shadow: 0px 1px 2px rgba(60, 64, 67, 0.3), 0px 1px 3px 1px rgba(60, 64, 67, 0.15);\n",
              "      fill: #174EA6;\n",
              "    }\n",
              "\n",
              "    [theme=dark] .colab-df-convert {\n",
              "      background-color: #3B4455;\n",
              "      fill: #D2E3FC;\n",
              "    }\n",
              "\n",
              "    [theme=dark] .colab-df-convert:hover {\n",
              "      background-color: #434B5C;\n",
              "      box-shadow: 0px 1px 3px 1px rgba(0, 0, 0, 0.15);\n",
              "      filter: drop-shadow(0px 1px 2px rgba(0, 0, 0, 0.3));\n",
              "      fill: #FFFFFF;\n",
              "    }\n",
              "  </style>\n",
              "\n",
              "      <script>\n",
              "        const buttonEl =\n",
              "          document.querySelector('#df-bece6661-ac61-48d6-a477-e2b22eacae95 button.colab-df-convert');\n",
              "        buttonEl.style.display =\n",
              "          google.colab.kernel.accessAllowed ? 'block' : 'none';\n",
              "\n",
              "        async function convertToInteractive(key) {\n",
              "          const element = document.querySelector('#df-bece6661-ac61-48d6-a477-e2b22eacae95');\n",
              "          const dataTable =\n",
              "            await google.colab.kernel.invokeFunction('convertToInteractive',\n",
              "                                                     [key], {});\n",
              "          if (!dataTable) return;\n",
              "\n",
              "          const docLinkHtml = 'Like what you see? Visit the ' +\n",
              "            '<a target=\"_blank\" href=https://colab.research.google.com/notebooks/data_table.ipynb>data table notebook</a>'\n",
              "            + ' to learn more about interactive tables.';\n",
              "          element.innerHTML = '';\n",
              "          dataTable['output_type'] = 'display_data';\n",
              "          await google.colab.output.renderOutput(dataTable, element);\n",
              "          const docLink = document.createElement('div');\n",
              "          docLink.innerHTML = docLinkHtml;\n",
              "          element.appendChild(docLink);\n",
              "        }\n",
              "      </script>\n",
              "    </div>\n",
              "  </div>\n",
              "  "
            ]
          },
          "metadata": {},
          "execution_count": 56
        }
      ]
    },
    {
      "cell_type": "code",
      "source": [
        "print(classification_report(y_test,predicted))"
      ],
      "metadata": {
        "colab": {
          "base_uri": "https://localhost:8080/"
        },
        "id": "WhNvJ0CxrpPa",
        "outputId": "e53b4b93-4be5-4333-923b-0965d0d5684b"
      },
      "execution_count": 57,
      "outputs": [
        {
          "output_type": "stream",
          "name": "stdout",
          "text": [
            "              precision    recall  f1-score   support\n",
            "\n",
            "           0       0.57      0.56      0.57       348\n",
            "           1       0.69      0.72      0.70       381\n",
            "           2       0.65      0.62      0.63       372\n",
            "           3       0.93      0.94      0.94       399\n",
            "\n",
            "    accuracy                           0.72      1500\n",
            "   macro avg       0.71      0.71      0.71      1500\n",
            "weighted avg       0.72      0.72      0.72      1500\n",
            "\n"
          ]
        }
      ]
    },
    {
      "cell_type": "code",
      "source": [
        "from sklearn.metrics import confusion_matrix\n",
        "from matplotlib.pyplot import figure\n",
        "figure(figsize=(9, 8), dpi=80)\n",
        "cm = confusion_matrix(y_test,predicted)\n",
        "\n",
        "sns.heatmap(cm, annot=True,fmt=\"d\",cmap=\"YlGnBu\")"
      ],
      "metadata": {
        "colab": {
          "base_uri": "https://localhost:8080/",
          "height": 550
        },
        "id": "hlvLHFh2sS5N",
        "outputId": "d9289215-82f6-4a92-decf-f28fe04f8e5b"
      },
      "execution_count": 58,
      "outputs": [
        {
          "output_type": "execute_result",
          "data": {
            "text/plain": [
              "<matplotlib.axes._subplots.AxesSubplot at 0x7f77fff6be50>"
            ]
          },
          "metadata": {},
          "execution_count": 58
        },
        {
          "output_type": "display_data",
          "data": {
            "text/plain": [
              "<Figure size 720x640 with 2 Axes>"
            ],
            "image/png": "[encoded data removed]"
          },
          "metadata": {
            "needs_background": "light"
          }
        }
      ]
    },
    {
      "cell_type": "markdown",
      "source": [
        "# GradientBoostingClassifier"
      ],
      "metadata": {
        "id": "Rz3BunxVr1WG"
      }
    },
    {
      "cell_type": "code",
      "source": [
        "from sklearn.ensemble import GradientBoostingClassifier\n",
        "\n",
        "GBC_model = GradientBoostingClassifier()\n",
        "GBC_model = GBC_model.fit(X_for_model, y_train)\n",
        "GBC_model"
      ],
      "metadata": {
        "colab": {
          "base_uri": "https://localhost:8080/"
        },
        "id": "NRoP-X0ar3DA",
        "outputId": "41e1b79a-bce4-4649-af61-0f9cfab33f43"
      },
      "execution_count": 59,
      "outputs": [
        {
          "output_type": "execute_result",
          "data": {
            "text/plain": [
              "GradientBoostingClassifier()"
            ]
          },
          "metadata": {},
          "execution_count": 59
        }
      ]
    },
    {
      "cell_type": "code",
      "source": [
        "X_test_feature = feature_extractor.predict(x_test)\n",
        "#Now predict using the trained RF model. \n",
        "predicted = GBC_model.predict(X_test_feature)\n",
        "\n",
        "\n",
        "\n",
        "print('Test set evaluation:\\n_____________________________________')\n",
        "print_evaluate(y_test, predicted)"
      ],
      "metadata": {
        "id": "XZumfQ1Tr5PD",
        "outputId": "35c1cebc-ce2b-4a03-8095-a0adc8eb6060",
        "colab": {
          "base_uri": "https://localhost:8080/"
        }
      },
      "execution_count": 60,
      "outputs": [
        {
          "output_type": "stream",
          "name": "stdout",
          "text": [
            "Test set evaluation:\n",
            "_____________________________________\n",
            "MAE: 0.41333333333333333\n",
            "MSE: 0.676\n",
            "RMSE: 0.8221921916437787\n",
            "R2 Square 0.4564588130861562\n",
            "Accuracy_mymodel 0.7146666666666667\n",
            "__________________________________\n"
          ]
        }
      ]
    },
    {
      "cell_type": "code",
      "source": [
        "results_df_2 = pd.DataFrame(data=[[\"GradientBoostingClassifier\", *evaluate(y_test, predicted)]], \n",
        "                          columns=['Model', 'MAE', 'MSE', 'RMSE', 'R2 Square','Accuracy_mymodel' ])\n",
        "results_df = results_df.append(results_df_2, ignore_index=True)\n",
        "results_df"
      ],
      "metadata": {
        "colab": {
          "base_uri": "https://localhost:8080/",
          "height": 269
        },
        "id": "96maTZKUTpOD",
        "outputId": "b5c0342d-7164-466c-8c34-9be933224a61"
      },
      "execution_count": 61,
      "outputs": [
        {
          "output_type": "execute_result",
          "data": {
            "text/plain": [
              "                        Model       MAE       MSE      RMSE  R2 Square  \\\n",
              "0        KNeighborsClassifier  0.481333  0.760000  0.871780   0.388918   \n",
              "1                         SVC  0.396667  0.631333  0.794565   0.492373   \n",
              "2                     RBF SVC  0.347333  0.551333  0.742518   0.556698   \n",
              "3      DecisionTreeClassifier  0.615333  1.048667  1.024044   0.156814   \n",
              "4          LogisticRegression  0.404667  0.658000  0.811172   0.470932   \n",
              "5               SGDClassifier  0.400667  0.644667  0.802911   0.481653   \n",
              "6  GradientBoostingClassifier  0.413333  0.676000  0.822192   0.456459   \n",
              "\n",
              "   Accuracy_mymodel  \n",
              "0          0.654667  \n",
              "1          0.718667  \n",
              "2          0.754000  \n",
              "3          0.580667  \n",
              "4          0.717333  \n",
              "5          0.718000  \n",
              "6          0.714667  "
            ],
            "text/html": [
              "\n",
              "  <div id=\"df-36828b59-1aeb-41e8-999d-67b75d9ebb5a\">\n",
              "    <div class=\"colab-df-container\">\n",
              "      <div>\n",
              "<style scoped>\n",
              "    .dataframe tbody tr th:only-of-type {\n",
              "        vertical-align: middle;\n",
              "    }\n",
              "\n",
              "    .dataframe tbody tr th {\n",
              "        vertical-align: top;\n",
              "    }\n",
              "\n",
              "    .dataframe thead th {\n",
              "        text-align: right;\n",
              "    }\n",
              "</style>\n",
              "<table border=\"1\" class=\"dataframe\">\n",
              "  <thead>\n",
              "    <tr style=\"text-align: right;\">\n",
              "      <th></th>\n",
              "      <th>Model</th>\n",
              "      <th>MAE</th>\n",
              "      <th>MSE</th>\n",
              "      <th>RMSE</th>\n",
              "      <th>R2 Square</th>\n",
              "      <th>Accuracy_mymodel</th>\n",
              "    </tr>\n",
              "  </thead>\n",
              "  <tbody>\n",
              "    <tr>\n",
              "      <th>0</th>\n",
              "      <td>KNeighborsClassifier</td>\n",
              "      <td>0.481333</td>\n",
              "      <td>0.760000</td>\n",
              "      <td>0.871780</td>\n",
              "      <td>0.388918</td>\n",
              "      <td>0.654667</td>\n",
              "    </tr>\n",
              "    <tr>\n",
              "      <th>1</th>\n",
              "      <td>SVC</td>\n",
              "      <td>0.396667</td>\n",
              "      <td>0.631333</td>\n",
              "      <td>0.794565</td>\n",
              "      <td>0.492373</td>\n",
              "      <td>0.718667</td>\n",
              "    </tr>\n",
              "    <tr>\n",
              "      <th>2</th>\n",
              "      <td>RBF SVC</td>\n",
              "      <td>0.347333</td>\n",
              "      <td>0.551333</td>\n",
              "      <td>0.742518</td>\n",
              "      <td>0.556698</td>\n",
              "      <td>0.754000</td>\n",
              "    </tr>\n",
              "    <tr>\n",
              "      <th>3</th>\n",
              "      <td>DecisionTreeClassifier</td>\n",
              "      <td>0.615333</td>\n",
              "      <td>1.048667</td>\n",
              "      <td>1.024044</td>\n",
              "      <td>0.156814</td>\n",
              "      <td>0.580667</td>\n",
              "    </tr>\n",
              "    <tr>\n",
              "      <th>4</th>\n",
              "      <td>LogisticRegression</td>\n",
              "      <td>0.404667</td>\n",
              "      <td>0.658000</td>\n",
              "      <td>0.811172</td>\n",
              "      <td>0.470932</td>\n",
              "      <td>0.717333</td>\n",
              "    </tr>\n",
              "    <tr>\n",
              "      <th>5</th>\n",
              "      <td>SGDClassifier</td>\n",
              "      <td>0.400667</td>\n",
              "      <td>0.644667</td>\n",
              "      <td>0.802911</td>\n",
              "      <td>0.481653</td>\n",
              "      <td>0.718000</td>\n",
              "    </tr>\n",
              "    <tr>\n",
              "      <th>6</th>\n",
              "      <td>GradientBoostingClassifier</td>\n",
              "      <td>0.413333</td>\n",
              "      <td>0.676000</td>\n",
              "      <td>0.822192</td>\n",
              "      <td>0.456459</td>\n",
              "      <td>0.714667</td>\n",
              "    </tr>\n",
              "  </tbody>\n",
              "</table>\n",
              "</div>\n",
              "      <button class=\"colab-df-convert\" onclick=\"convertToInteractive('df-36828b59-1aeb-41e8-999d-67b75d9ebb5a')\"\n",
              "              title=\"Convert this dataframe to an interactive table.\"\n",
              "              style=\"display:none;\">\n",
              "        \n",
              "  <svg xmlns=\"http://www.w3.org/2000/svg\" height=\"24px\"viewBox=\"0 0 24 24\"\n",
              "       width=\"24px\">\n",
              "    <path d=\"M0 0h24v24H0V0z\" fill=\"none\"/>\n",
              "    <path d=\"M18.56 5.44l.94 2.06.94-2.06 2.06-.94-2.06-.94-.94-2.06-.94 2.06-2.06.94zm-11 1L8.5 8.5l.94-2.06 2.06-.94-2.06-.94L8.5 2.5l-.94 2.06-2.06.94zm10 10l.94 2.06.94-2.06 2.06-.94-2.06-.94-.94-2.06-.94 2.06-2.06.94z\"/><path d=\"M17.41 7.96l-1.37-1.37c-.4-.4-.92-.59-1.43-.59-.52 0-1.04.2-1.43.59L10.3 9.45l-7.72 7.72c-.78.78-.78 2.05 0 2.83L4 21.41c.39.39.9.59 1.41.59.51 0 1.02-.2 1.41-.59l7.78-7.78 2.81-2.81c.8-.78.8-2.07 0-2.86zM5.41 20L4 18.59l7.72-7.72 1.47 1.35L5.41 20z\"/>\n",
              "  </svg>\n",
              "      </button>\n",
              "      \n",
              "  <style>\n",
              "    .colab-df-container {\n",
              "      display:flex;\n",
              "      flex-wrap:wrap;\n",
              "      gap: 12px;\n",
              "    }\n",
              "\n",
              "    .colab-df-convert {\n",
              "      background-color: #E8F0FE;\n",
              "      border: none;\n",
              "      border-radius: 50%;\n",
              "      cursor: pointer;\n",
              "      display: none;\n",
              "      fill: #1967D2;\n",
              "      height: 32px;\n",
              "      padding: 0 0 0 0;\n",
              "      width: 32px;\n",
              "    }\n",
              "\n",
              "    .colab-df-convert:hover {\n",
              "      background-color: #E2EBFA;\n",
              "      box-shadow: 0px 1px 2px rgba(60, 64, 67, 0.3), 0px 1px 3px 1px rgba(60, 64, 67, 0.15);\n",
              "      fill: #174EA6;\n",
              "    }\n",
              "\n",
              "    [theme=dark] .colab-df-convert {\n",
              "      background-color: #3B4455;\n",
              "      fill: #D2E3FC;\n",
              "    }\n",
              "\n",
              "    [theme=dark] .colab-df-convert:hover {\n",
              "      background-color: #434B5C;\n",
              "      box-shadow: 0px 1px 3px 1px rgba(0, 0, 0, 0.15);\n",
              "      filter: drop-shadow(0px 1px 2px rgba(0, 0, 0, 0.3));\n",
              "      fill: #FFFFFF;\n",
              "    }\n",
              "  </style>\n",
              "\n",
              "      <script>\n",
              "        const buttonEl =\n",
              "          document.querySelector('#df-36828b59-1aeb-41e8-999d-67b75d9ebb5a button.colab-df-convert');\n",
              "        buttonEl.style.display =\n",
              "          google.colab.kernel.accessAllowed ? 'block' : 'none';\n",
              "\n",
              "        async function convertToInteractive(key) {\n",
              "          const element = document.querySelector('#df-36828b59-1aeb-41e8-999d-67b75d9ebb5a');\n",
              "          const dataTable =\n",
              "            await google.colab.kernel.invokeFunction('convertToInteractive',\n",
              "                                                     [key], {});\n",
              "          if (!dataTable) return;\n",
              "\n",
              "          const docLinkHtml = 'Like what you see? Visit the ' +\n",
              "            '<a target=\"_blank\" href=https://colab.research.google.com/notebooks/data_table.ipynb>data table notebook</a>'\n",
              "            + ' to learn more about interactive tables.';\n",
              "          element.innerHTML = '';\n",
              "          dataTable['output_type'] = 'display_data';\n",
              "          await google.colab.output.renderOutput(dataTable, element);\n",
              "          const docLink = document.createElement('div');\n",
              "          docLink.innerHTML = docLinkHtml;\n",
              "          element.appendChild(docLink);\n",
              "        }\n",
              "      </script>\n",
              "    </div>\n",
              "  </div>\n",
              "  "
            ]
          },
          "metadata": {},
          "execution_count": 61
        }
      ]
    },
    {
      "cell_type": "code",
      "source": [
        "print(classification_report(y_test,predicted))"
      ],
      "metadata": {
        "colab": {
          "base_uri": "https://localhost:8080/"
        },
        "id": "KtPBBl3gTwoY",
        "outputId": "3d96c2a7-abc3-4336-e7c9-e6432ac319f0"
      },
      "execution_count": 62,
      "outputs": [
        {
          "output_type": "stream",
          "name": "stdout",
          "text": [
            "              precision    recall  f1-score   support\n",
            "\n",
            "           0       0.55      0.58      0.56       348\n",
            "           1       0.70      0.70      0.70       381\n",
            "           2       0.65      0.60      0.63       372\n",
            "           3       0.93      0.94      0.94       399\n",
            "\n",
            "    accuracy                           0.71      1500\n",
            "   macro avg       0.71      0.71      0.71      1500\n",
            "weighted avg       0.72      0.71      0.71      1500\n",
            "\n"
          ]
        }
      ]
    },
    {
      "cell_type": "code",
      "source": [
        "from sklearn.metrics import confusion_matrix\n",
        "from matplotlib.pyplot import figure\n",
        "figure(figsize=(9, 8), dpi=80)\n",
        "cm = confusion_matrix(y_test,predicted)\n",
        "\n",
        "sns.heatmap(cm, annot=True,fmt=\"d\",cmap=\"YlGnBu\")"
      ],
      "metadata": {
        "colab": {
          "base_uri": "https://localhost:8080/",
          "height": 550
        },
        "id": "q44uIb7RTzQT",
        "outputId": "fb0a38f1-9e8f-4bb6-f7cf-a6212aee20aa"
      },
      "execution_count": 63,
      "outputs": [
        {
          "output_type": "execute_result",
          "data": {
            "text/plain": [
              "<matplotlib.axes._subplots.AxesSubplot at 0x7f77f863eed0>"
            ]
          },
          "metadata": {},
          "execution_count": 63
        },
        {
          "output_type": "display_data",
          "data": {
            "text/plain": [
              "<Figure size 720x640 with 2 Axes>"
            ],
            "image/png": "[encoded data removed]"
          },
          "metadata": {
            "needs_background": "light"
          }
        }
      ]
    },
    {
      "cell_type": "markdown",
      "source": [
        "# LGBMClassifier"
      ],
      "metadata": {
        "id": "Rpz8UHaIZq59"
      }
    },
    {
      "cell_type": "code",
      "source": [
        "from lightgbm import LGBMClassifier\n",
        "\n",
        "LGBM_model = LGBMClassifier()\n",
        "LGBM_model = LGBM_model.fit(X_for_model, y_train)\n",
        "LGBM_model"
      ],
      "metadata": {
        "colab": {
          "base_uri": "https://localhost:8080/"
        },
        "id": "uIZsgG_zZoKY",
        "outputId": "023ec9c9-a1b8-464d-ae43-d0ae7649e7d4"
      },
      "execution_count": 64,
      "outputs": [
        {
          "output_type": "execute_result",
          "data": {
            "text/plain": [
              "LGBMClassifier()"
            ]
          },
          "metadata": {},
          "execution_count": 64
        }
      ]
    },
    {
      "cell_type": "code",
      "source": [
        "X_test_feature = feature_extractor.predict(x_test)\n",
        "#Now predict using the trained RF model. \n",
        "predicted = LGBM_model.predict(X_test_feature)\n",
        "\n",
        "\n",
        "\n",
        "print('Test set evaluation:\\n_____________________________________')\n",
        "print_evaluate(y_test, predicted)"
      ],
      "metadata": {
        "colab": {
          "base_uri": "https://localhost:8080/"
        },
        "id": "i2w8h1KPZtfR",
        "outputId": "26d38174-6f01-4a2b-bb62-133300cd7a63"
      },
      "execution_count": 65,
      "outputs": [
        {
          "output_type": "stream",
          "name": "stdout",
          "text": [
            "Test set evaluation:\n",
            "_____________________________________\n",
            "MAE: 0.37066666666666664\n",
            "MSE: 0.5853333333333334\n",
            "RMSE: 0.7650708028237213\n",
            "R2 Square 0.5293598006801234\n",
            "Accuracy_mymodel 0.736\n",
            "__________________________________\n"
          ]
        }
      ]
    },
    {
      "cell_type": "code",
      "source": [
        "results_df_2 = pd.DataFrame(data=[[\"LGBMClassifier\", *evaluate(y_test, predicted)]], \n",
        "                          columns=['Model', 'MAE', 'MSE', 'RMSE', 'R2 Square','Accuracy_mymodel' ])\n",
        "results_df = results_df.append(results_df_2, ignore_index=True)\n",
        "results_df"
      ],
      "metadata": {
        "colab": {
          "base_uri": "https://localhost:8080/",
          "height": 300
        },
        "id": "NvDz77ELZxP3",
        "outputId": "d22f96f8-bb8d-48ce-d7bb-f4819091e91a"
      },
      "execution_count": 66,
      "outputs": [
        {
          "output_type": "execute_result",
          "data": {
            "text/plain": [
              "                        Model       MAE       MSE      RMSE  R2 Square  \\\n",
              "0        KNeighborsClassifier  0.481333  0.760000  0.871780   0.388918   \n",
              "1                         SVC  0.396667  0.631333  0.794565   0.492373   \n",
              "2                     RBF SVC  0.347333  0.551333  0.742518   0.556698   \n",
              "3      DecisionTreeClassifier  0.615333  1.048667  1.024044   0.156814   \n",
              "4          LogisticRegression  0.404667  0.658000  0.811172   0.470932   \n",
              "5               SGDClassifier  0.400667  0.644667  0.802911   0.481653   \n",
              "6  GradientBoostingClassifier  0.413333  0.676000  0.822192   0.456459   \n",
              "7              LGBMClassifier  0.370667  0.585333  0.765071   0.529360   \n",
              "\n",
              "   Accuracy_mymodel  \n",
              "0          0.654667  \n",
              "1          0.718667  \n",
              "2          0.754000  \n",
              "3          0.580667  \n",
              "4          0.717333  \n",
              "5          0.718000  \n",
              "6          0.714667  \n",
              "7          0.736000  "
            ],
            "text/html": [
              "\n",
              "  <div id=\"df-f54ef177-ef5d-450f-81bd-a1919511ec1a\">\n",
              "    <div class=\"colab-df-container\">\n",
              "      <div>\n",
              "<style scoped>\n",
              "    .dataframe tbody tr th:only-of-type {\n",
              "        vertical-align: middle;\n",
              "    }\n",
              "\n",
              "    .dataframe tbody tr th {\n",
              "        vertical-align: top;\n",
              "    }\n",
              "\n",
              "    .dataframe thead th {\n",
              "        text-align: right;\n",
              "    }\n",
              "</style>\n",
              "<table border=\"1\" class=\"dataframe\">\n",
              "  <thead>\n",
              "    <tr style=\"text-align: right;\">\n",
              "      <th></th>\n",
              "      <th>Model</th>\n",
              "      <th>MAE</th>\n",
              "      <th>MSE</th>\n",
              "      <th>RMSE</th>\n",
              "      <th>R2 Square</th>\n",
              "      <th>Accuracy_mymodel</th>\n",
              "    </tr>\n",
              "  </thead>\n",
              "  <tbody>\n",
              "    <tr>\n",
              "      <th>0</th>\n",
              "      <td>KNeighborsClassifier</td>\n",
              "      <td>0.481333</td>\n",
              "      <td>0.760000</td>\n",
              "      <td>0.871780</td>\n",
              "      <td>0.388918</td>\n",
              "      <td>0.654667</td>\n",
              "    </tr>\n",
              "    <tr>\n",
              "      <th>1</th>\n",
              "      <td>SVC</td>\n",
              "      <td>0.396667</td>\n",
              "      <td>0.631333</td>\n",
              "      <td>0.794565</td>\n",
              "      <td>0.492373</td>\n",
              "      <td>0.718667</td>\n",
              "    </tr>\n",
              "    <tr>\n",
              "      <th>2</th>\n",
              "      <td>RBF SVC</td>\n",
              "      <td>0.347333</td>\n",
              "      <td>0.551333</td>\n",
              "      <td>0.742518</td>\n",
              "      <td>0.556698</td>\n",
              "      <td>0.754000</td>\n",
              "    </tr>\n",
              "    <tr>\n",
              "      <th>3</th>\n",
              "      <td>DecisionTreeClassifier</td>\n",
              "      <td>0.615333</td>\n",
              "      <td>1.048667</td>\n",
              "      <td>1.024044</td>\n",
              "      <td>0.156814</td>\n",
              "      <td>0.580667</td>\n",
              "    </tr>\n",
              "    <tr>\n",
              "      <th>4</th>\n",
              "      <td>LogisticRegression</td>\n",
              "      <td>0.404667</td>\n",
              "      <td>0.658000</td>\n",
              "      <td>0.811172</td>\n",
              "      <td>0.470932</td>\n",
              "      <td>0.717333</td>\n",
              "    </tr>\n",
              "    <tr>\n",
              "      <th>5</th>\n",
              "      <td>SGDClassifier</td>\n",
              "      <td>0.400667</td>\n",
              "      <td>0.644667</td>\n",
              "      <td>0.802911</td>\n",
              "      <td>0.481653</td>\n",
              "      <td>0.718000</td>\n",
              "    </tr>\n",
              "    <tr>\n",
              "      <th>6</th>\n",
              "      <td>GradientBoostingClassifier</td>\n",
              "      <td>0.413333</td>\n",
              "      <td>0.676000</td>\n",
              "      <td>0.822192</td>\n",
              "      <td>0.456459</td>\n",
              "      <td>0.714667</td>\n",
              "    </tr>\n",
              "    <tr>\n",
              "      <th>7</th>\n",
              "      <td>LGBMClassifier</td>\n",
              "      <td>0.370667</td>\n",
              "      <td>0.585333</td>\n",
              "      <td>0.765071</td>\n",
              "      <td>0.529360</td>\n",
              "      <td>0.736000</td>\n",
              "    </tr>\n",
              "  </tbody>\n",
              "</table>\n",
              "</div>\n",
              "      <button class=\"colab-df-convert\" onclick=\"convertToInteractive('df-f54ef177-ef5d-450f-81bd-a1919511ec1a')\"\n",
              "              title=\"Convert this dataframe to an interactive table.\"\n",
              "              style=\"display:none;\">\n",
              "        \n",
              "  <svg xmlns=\"http://www.w3.org/2000/svg\" height=\"24px\"viewBox=\"0 0 24 24\"\n",
              "       width=\"24px\">\n",
              "    <path d=\"M0 0h24v24H0V0z\" fill=\"none\"/>\n",
              "    <path d=\"M18.56 5.44l.94 2.06.94-2.06 2.06-.94-2.06-.94-.94-2.06-.94 2.06-2.06.94zm-11 1L8.5 8.5l.94-2.06 2.06-.94-2.06-.94L8.5 2.5l-.94 2.06-2.06.94zm10 10l.94 2.06.94-2.06 2.06-.94-2.06-.94-.94-2.06-.94 2.06-2.06.94z\"/><path d=\"M17.41 7.96l-1.37-1.37c-.4-.4-.92-.59-1.43-.59-.52 0-1.04.2-1.43.59L10.3 9.45l-7.72 7.72c-.78.78-.78 2.05 0 2.83L4 21.41c.39.39.9.59 1.41.59.51 0 1.02-.2 1.41-.59l7.78-7.78 2.81-2.81c.8-.78.8-2.07 0-2.86zM5.41 20L4 18.59l7.72-7.72 1.47 1.35L5.41 20z\"/>\n",
              "  </svg>\n",
              "      </button>\n",
              "      \n",
              "  <style>\n",
              "    .colab-df-container {\n",
              "      display:flex;\n",
              "      flex-wrap:wrap;\n",
              "      gap: 12px;\n",
              "    }\n",
              "\n",
              "    .colab-df-convert {\n",
              "      background-color: #E8F0FE;\n",
              "      border: none;\n",
              "      border-radius: 50%;\n",
              "      cursor: pointer;\n",
              "      display: none;\n",
              "      fill: #1967D2;\n",
              "      height: 32px;\n",
              "      padding: 0 0 0 0;\n",
              "      width: 32px;\n",
              "    }\n",
              "\n",
              "    .colab-df-convert:hover {\n",
              "      background-color: #E2EBFA;\n",
              "      box-shadow: 0px 1px 2px rgba(60, 64, 67, 0.3), 0px 1px 3px 1px rgba(60, 64, 67, 0.15);\n",
              "      fill: #174EA6;\n",
              "    }\n",
              "\n",
              "    [theme=dark] .colab-df-convert {\n",
              "      background-color: #3B4455;\n",
              "      fill: #D2E3FC;\n",
              "    }\n",
              "\n",
              "    [theme=dark] .colab-df-convert:hover {\n",
              "      background-color: #434B5C;\n",
              "      box-shadow: 0px 1px 3px 1px rgba(0, 0, 0, 0.15);\n",
              "      filter: drop-shadow(0px 1px 2px rgba(0, 0, 0, 0.3));\n",
              "      fill: #FFFFFF;\n",
              "    }\n",
              "  </style>\n",
              "\n",
              "      <script>\n",
              "        const buttonEl =\n",
              "          document.querySelector('#df-f54ef177-ef5d-450f-81bd-a1919511ec1a button.colab-df-convert');\n",
              "        buttonEl.style.display =\n",
              "          google.colab.kernel.accessAllowed ? 'block' : 'none';\n",
              "\n",
              "        async function convertToInteractive(key) {\n",
              "          const element = document.querySelector('#df-f54ef177-ef5d-450f-81bd-a1919511ec1a');\n",
              "          const dataTable =\n",
              "            await google.colab.kernel.invokeFunction('convertToInteractive',\n",
              "                                                     [key], {});\n",
              "          if (!dataTable) return;\n",
              "\n",
              "          const docLinkHtml = 'Like what you see? Visit the ' +\n",
              "            '<a target=\"_blank\" href=https://colab.research.google.com/notebooks/data_table.ipynb>data table notebook</a>'\n",
              "            + ' to learn more about interactive tables.';\n",
              "          element.innerHTML = '';\n",
              "          dataTable['output_type'] = 'display_data';\n",
              "          await google.colab.output.renderOutput(dataTable, element);\n",
              "          const docLink = document.createElement('div');\n",
              "          docLink.innerHTML = docLinkHtml;\n",
              "          element.appendChild(docLink);\n",
              "        }\n",
              "      </script>\n",
              "    </div>\n",
              "  </div>\n",
              "  "
            ]
          },
          "metadata": {},
          "execution_count": 66
        }
      ]
    },
    {
      "cell_type": "code",
      "source": [
        "print(classification_report(y_test,predicted))"
      ],
      "metadata": {
        "colab": {
          "base_uri": "https://localhost:8080/"
        },
        "id": "1DTnnoE7Z0cA",
        "outputId": "7fe1fa53-1ab6-4bdd-a9ee-bbb5da7a17b7"
      },
      "execution_count": 67,
      "outputs": [
        {
          "output_type": "stream",
          "name": "stdout",
          "text": [
            "              precision    recall  f1-score   support\n",
            "\n",
            "           0       0.59      0.59      0.59       348\n",
            "           1       0.70      0.72      0.71       381\n",
            "           2       0.69      0.64      0.66       372\n",
            "           3       0.93      0.97      0.95       399\n",
            "\n",
            "    accuracy                           0.74      1500\n",
            "   macro avg       0.73      0.73      0.73      1500\n",
            "weighted avg       0.73      0.74      0.73      1500\n",
            "\n"
          ]
        }
      ]
    },
    {
      "cell_type": "code",
      "source": [
        "from sklearn.metrics import confusion_matrix\n",
        "from matplotlib.pyplot import figure\n",
        "figure(figsize=(9, 8), dpi=80)\n",
        "cm = confusion_matrix(y_test,predicted)\n",
        "\n",
        "sns.heatmap(cm, annot=True,fmt=\"d\",cmap=\"YlGnBu\")"
      ],
      "metadata": {
        "colab": {
          "base_uri": "https://localhost:8080/",
          "height": 550
        },
        "id": "6BFrpYhcZ2GY",
        "outputId": "9f0e49b1-be8e-4827-f8a1-bdfdec4bead1"
      },
      "execution_count": 68,
      "outputs": [
        {
          "output_type": "execute_result",
          "data": {
            "text/plain": [
              "<matplotlib.axes._subplots.AxesSubplot at 0x7f77f96591d0>"
            ]
          },
          "metadata": {},
          "execution_count": 68
        },
        {
          "output_type": "display_data",
          "data": {
            "text/plain": [
              "<Figure size 720x640 with 2 Axes>"
            ],
            "image/png": "[encoded data removed]"
          },
          "metadata": {
            "needs_background": "light"
          }
        }
      ]
    },
    {
      "cell_type": "markdown",
      "source": [
        "# XGBClassifier"
      ],
      "metadata": {
        "id": "xCGwGKlydtf0"
      }
    },
    {
      "cell_type": "code",
      "source": [
        "from xgboost.sklearn import XGBClassifier\n",
        "\n",
        "XGBC_model = XGBClassifier()\n",
        "XGBC_model = XGBC_model.fit(X_for_model, y_train)\n",
        "XGBC_model"
      ],
      "metadata": {
        "colab": {
          "base_uri": "https://localhost:8080/"
        },
        "id": "bZ0JDIUMZ3un",
        "outputId": "4bdc2a64-69c2-464a-9b67-d04f242bdf2d"
      },
      "execution_count": 69,
      "outputs": [
        {
          "output_type": "execute_result",
          "data": {
            "text/plain": [
              "XGBClassifier(objective='multi:softprob')"
            ]
          },
          "metadata": {},
          "execution_count": 69
        }
      ]
    },
    {
      "cell_type": "code",
      "source": [
        "X_test_feature = feature_extractor.predict(x_test)\n",
        "#Now predict using the trained RF model. \n",
        "predicted = XGBC_model.predict(X_test_feature)\n",
        "\n",
        "\n",
        "\n",
        "print('Test set evaluation:\\n_____________________________________')\n",
        "print_evaluate(y_test, predicted)"
      ],
      "metadata": {
        "colab": {
          "base_uri": "https://localhost:8080/"
        },
        "id": "8UnIGcjSdwK3",
        "outputId": "0ac5202a-3feb-4789-9589-c28be6e29bf4"
      },
      "execution_count": 70,
      "outputs": [
        {
          "output_type": "stream",
          "name": "stdout",
          "text": [
            "Test set evaluation:\n",
            "_____________________________________\n",
            "MAE: 0.4066666666666667\n",
            "MSE: 0.6733333333333333\n",
            "RMSE: 0.8205689083394114\n",
            "R2 Square 0.45860295978009646\n",
            "Accuracy_mymodel 0.7213333333333334\n",
            "__________________________________\n"
          ]
        }
      ]
    },
    {
      "cell_type": "code",
      "source": [
        "results_df_2 = pd.DataFrame(data=[[\"XGBClassifier\", *evaluate(y_test, predicted)]], \n",
        "                          columns=['Model', 'MAE', 'MSE', 'RMSE', 'R2 Square','Accuracy_mymodel' ])\n",
        "results_df = results_df.append(results_df_2, ignore_index=True)\n",
        "results_df"
      ],
      "metadata": {
        "colab": {
          "base_uri": "https://localhost:8080/",
          "height": 332
        },
        "id": "pjp2qAZYd0Qv",
        "outputId": "2f517950-6d15-44df-b5ea-a3717afa229c"
      },
      "execution_count": 71,
      "outputs": [
        {
          "output_type": "execute_result",
          "data": {
            "text/plain": [
              "                        Model       MAE       MSE      RMSE  R2 Square  \\\n",
              "0        KNeighborsClassifier  0.481333  0.760000  0.871780   0.388918   \n",
              "1                         SVC  0.396667  0.631333  0.794565   0.492373   \n",
              "2                     RBF SVC  0.347333  0.551333  0.742518   0.556698   \n",
              "3      DecisionTreeClassifier  0.615333  1.048667  1.024044   0.156814   \n",
              "4          LogisticRegression  0.404667  0.658000  0.811172   0.470932   \n",
              "5               SGDClassifier  0.400667  0.644667  0.802911   0.481653   \n",
              "6  GradientBoostingClassifier  0.413333  0.676000  0.822192   0.456459   \n",
              "7              LGBMClassifier  0.370667  0.585333  0.765071   0.529360   \n",
              "8               XGBClassifier  0.406667  0.673333  0.820569   0.458603   \n",
              "\n",
              "   Accuracy_mymodel  \n",
              "0          0.654667  \n",
              "1          0.718667  \n",
              "2          0.754000  \n",
              "3          0.580667  \n",
              "4          0.717333  \n",
              "5          0.718000  \n",
              "6          0.714667  \n",
              "7          0.736000  \n",
              "8          0.721333  "
            ],
            "text/html": [
              "\n",
              "  <div id=\"df-6148d46e-88c4-4690-b502-489e7fc10153\">\n",
              "    <div class=\"colab-df-container\">\n",
              "      <div>\n",
              "<style scoped>\n",
              "    .dataframe tbody tr th:only-of-type {\n",
              "        vertical-align: middle;\n",
              "    }\n",
              "\n",
              "    .dataframe tbody tr th {\n",
              "        vertical-align: top;\n",
              "    }\n",
              "\n",
              "    .dataframe thead th {\n",
              "        text-align: right;\n",
              "    }\n",
              "</style>\n",
              "<table border=\"1\" class=\"dataframe\">\n",
              "  <thead>\n",
              "    <tr style=\"text-align: right;\">\n",
              "      <th></th>\n",
              "      <th>Model</th>\n",
              "      <th>MAE</th>\n",
              "      <th>MSE</th>\n",
              "      <th>RMSE</th>\n",
              "      <th>R2 Square</th>\n",
              "      <th>Accuracy_mymodel</th>\n",
              "    </tr>\n",
              "  </thead>\n",
              "  <tbody>\n",
              "    <tr>\n",
              "      <th>0</th>\n",
              "      <td>KNeighborsClassifier</td>\n",
              "      <td>0.481333</td>\n",
              "      <td>0.760000</td>\n",
              "      <td>0.871780</td>\n",
              "      <td>0.388918</td>\n",
              "      <td>0.654667</td>\n",
              "    </tr>\n",
              "    <tr>\n",
              "      <th>1</th>\n",
              "      <td>SVC</td>\n",
              "      <td>0.396667</td>\n",
              "      <td>0.631333</td>\n",
              "      <td>0.794565</td>\n",
              "      <td>0.492373</td>\n",
              "      <td>0.718667</td>\n",
              "    </tr>\n",
              "    <tr>\n",
              "      <th>2</th>\n",
              "      <td>RBF SVC</td>\n",
              "      <td>0.347333</td>\n",
              "      <td>0.551333</td>\n",
              "      <td>0.742518</td>\n",
              "      <td>0.556698</td>\n",
              "      <td>0.754000</td>\n",
              "    </tr>\n",
              "    <tr>\n",
              "      <th>3</th>\n",
              "      <td>DecisionTreeClassifier</td>\n",
              "      <td>0.615333</td>\n",
              "      <td>1.048667</td>\n",
              "      <td>1.024044</td>\n",
              "      <td>0.156814</td>\n",
              "      <td>0.580667</td>\n",
              "    </tr>\n",
              "    <tr>\n",
              "      <th>4</th>\n",
              "      <td>LogisticRegression</td>\n",
              "      <td>0.404667</td>\n",
              "      <td>0.658000</td>\n",
              "      <td>0.811172</td>\n",
              "      <td>0.470932</td>\n",
              "      <td>0.717333</td>\n",
              "    </tr>\n",
              "    <tr>\n",
              "      <th>5</th>\n",
              "      <td>SGDClassifier</td>\n",
              "      <td>0.400667</td>\n",
              "      <td>0.644667</td>\n",
              "      <td>0.802911</td>\n",
              "      <td>0.481653</td>\n",
              "      <td>0.718000</td>\n",
              "    </tr>\n",
              "    <tr>\n",
              "      <th>6</th>\n",
              "      <td>GradientBoostingClassifier</td>\n",
              "      <td>0.413333</td>\n",
              "      <td>0.676000</td>\n",
              "      <td>0.822192</td>\n",
              "      <td>0.456459</td>\n",
              "      <td>0.714667</td>\n",
              "    </tr>\n",
              "    <tr>\n",
              "      <th>7</th>\n",
              "      <td>LGBMClassifier</td>\n",
              "      <td>0.370667</td>\n",
              "      <td>0.585333</td>\n",
              "      <td>0.765071</td>\n",
              "      <td>0.529360</td>\n",
              "      <td>0.736000</td>\n",
              "    </tr>\n",
              "    <tr>\n",
              "      <th>8</th>\n",
              "      <td>XGBClassifier</td>\n",
              "      <td>0.406667</td>\n",
              "      <td>0.673333</td>\n",
              "      <td>0.820569</td>\n",
              "      <td>0.458603</td>\n",
              "      <td>0.721333</td>\n",
              "    </tr>\n",
              "  </tbody>\n",
              "</table>\n",
              "</div>\n",
              "      <button class=\"colab-df-convert\" onclick=\"convertToInteractive('df-6148d46e-88c4-4690-b502-489e7fc10153')\"\n",
              "              title=\"Convert this dataframe to an interactive table.\"\n",
              "              style=\"display:none;\">\n",
              "        \n",
              "  <svg xmlns=\"http://www.w3.org/2000/svg\" height=\"24px\"viewBox=\"0 0 24 24\"\n",
              "       width=\"24px\">\n",
              "    <path d=\"M0 0h24v24H0V0z\" fill=\"none\"/>\n",
              "    <path d=\"M18.56 5.44l.94 2.06.94-2.06 2.06-.94-2.06-.94-.94-2.06-.94 2.06-2.06.94zm-11 1L8.5 8.5l.94-2.06 2.06-.94-2.06-.94L8.5 2.5l-.94 2.06-2.06.94zm10 10l.94 2.06.94-2.06 2.06-.94-2.06-.94-.94-2.06-.94 2.06-2.06.94z\"/><path d=\"M17.41 7.96l-1.37-1.37c-.4-.4-.92-.59-1.43-.59-.52 0-1.04.2-1.43.59L10.3 9.45l-7.72 7.72c-.78.78-.78 2.05 0 2.83L4 21.41c.39.39.9.59 1.41.59.51 0 1.02-.2 1.41-.59l7.78-7.78 2.81-2.81c.8-.78.8-2.07 0-2.86zM5.41 20L4 18.59l7.72-7.72 1.47 1.35L5.41 20z\"/>\n",
              "  </svg>\n",
              "      </button>\n",
              "      \n",
              "  <style>\n",
              "    .colab-df-container {\n",
              "      display:flex;\n",
              "      flex-wrap:wrap;\n",
              "      gap: 12px;\n",
              "    }\n",
              "\n",
              "    .colab-df-convert {\n",
              "      background-color: #E8F0FE;\n",
              "      border: none;\n",
              "      border-radius: 50%;\n",
              "      cursor: pointer;\n",
              "      display: none;\n",
              "      fill: #1967D2;\n",
              "      height: 32px;\n",
              "      padding: 0 0 0 0;\n",
              "      width: 32px;\n",
              "    }\n",
              "\n",
              "    .colab-df-convert:hover {\n",
              "      background-color: #E2EBFA;\n",
              "      box-shadow: 0px 1px 2px rgba(60, 64, 67, 0.3), 0px 1px 3px 1px rgba(60, 64, 67, 0.15);\n",
              "      fill: #174EA6;\n",
              "    }\n",
              "\n",
              "    [theme=dark] .colab-df-convert {\n",
              "      background-color: #3B4455;\n",
              "      fill: #D2E3FC;\n",
              "    }\n",
              "\n",
              "    [theme=dark] .colab-df-convert:hover {\n",
              "      background-color: #434B5C;\n",
              "      box-shadow: 0px 1px 3px 1px rgba(0, 0, 0, 0.15);\n",
              "      filter: drop-shadow(0px 1px 2px rgba(0, 0, 0, 0.3));\n",
              "      fill: #FFFFFF;\n",
              "    }\n",
              "  </style>\n",
              "\n",
              "      <script>\n",
              "        const buttonEl =\n",
              "          document.querySelector('#df-6148d46e-88c4-4690-b502-489e7fc10153 button.colab-df-convert');\n",
              "        buttonEl.style.display =\n",
              "          google.colab.kernel.accessAllowed ? 'block' : 'none';\n",
              "\n",
              "        async function convertToInteractive(key) {\n",
              "          const element = document.querySelector('#df-6148d46e-88c4-4690-b502-489e7fc10153');\n",
              "          const dataTable =\n",
              "            await google.colab.kernel.invokeFunction('convertToInteractive',\n",
              "                                                     [key], {});\n",
              "          if (!dataTable) return;\n",
              "\n",
              "          const docLinkHtml = 'Like what you see? Visit the ' +\n",
              "            '<a target=\"_blank\" href=https://colab.research.google.com/notebooks/data_table.ipynb>data table notebook</a>'\n",
              "            + ' to learn more about interactive tables.';\n",
              "          element.innerHTML = '';\n",
              "          dataTable['output_type'] = 'display_data';\n",
              "          await google.colab.output.renderOutput(dataTable, element);\n",
              "          const docLink = document.createElement('div');\n",
              "          docLink.innerHTML = docLinkHtml;\n",
              "          element.appendChild(docLink);\n",
              "        }\n",
              "      </script>\n",
              "    </div>\n",
              "  </div>\n",
              "  "
            ]
          },
          "metadata": {},
          "execution_count": 71
        }
      ]
    },
    {
      "cell_type": "code",
      "source": [
        "print(classification_report(y_test,predicted))"
      ],
      "metadata": {
        "colab": {
          "base_uri": "https://localhost:8080/"
        },
        "id": "WwzykeD0d37v",
        "outputId": "59a81a72-5712-42f5-8219-0a2d1e298602"
      },
      "execution_count": 72,
      "outputs": [
        {
          "output_type": "stream",
          "name": "stdout",
          "text": [
            "              precision    recall  f1-score   support\n",
            "\n",
            "           0       0.55      0.58      0.57       348\n",
            "           1       0.71      0.70      0.71       381\n",
            "           2       0.66      0.63      0.65       372\n",
            "           3       0.93      0.94      0.94       399\n",
            "\n",
            "    accuracy                           0.72      1500\n",
            "   macro avg       0.72      0.72      0.72      1500\n",
            "weighted avg       0.72      0.72      0.72      1500\n",
            "\n"
          ]
        }
      ]
    },
    {
      "cell_type": "code",
      "source": [
        "from sklearn.metrics import confusion_matrix\n",
        "from matplotlib.pyplot import figure\n",
        "figure(figsize=(9, 8), dpi=80)\n",
        "cm = confusion_matrix(y_test,predicted)\n",
        "\n",
        "sns.heatmap(cm, annot=True,fmt=\"d\",cmap=\"YlGnBu\")"
      ],
      "metadata": {
        "colab": {
          "base_uri": "https://localhost:8080/",
          "height": 550
        },
        "id": "feuz6kKtd6L-",
        "outputId": "2e926ba7-454c-459b-ce62-ee23c79bdd24"
      },
      "execution_count": 73,
      "outputs": [
        {
          "output_type": "execute_result",
          "data": {
            "text/plain": [
              "<matplotlib.axes._subplots.AxesSubplot at 0x7f77fce0f350>"
            ]
          },
          "metadata": {},
          "execution_count": 73
        },
        {
          "output_type": "display_data",
          "data": {
            "text/plain": [
              "<Figure size 720x640 with 2 Axes>"
            ],
            "image/png": "[encoded data removed]"
          },
          "metadata": {
            "needs_background": "light"
          }
        }
      ]
    },
    {
      "cell_type": "markdown",
      "source": [
        "# RandomForestClassifier"
      ],
      "metadata": {
        "id": "MFwl0JpXeAr1"
      }
    },
    {
      "cell_type": "code",
      "source": [
        "from sklearn.ensemble import RandomForestClassifier\n",
        "\n",
        "rf_model = RandomForestClassifier()\n",
        "rf_model = rf_model.fit(X_for_model, y_train)\n",
        "rf_model"
      ],
      "metadata": {
        "colab": {
          "base_uri": "https://localhost:8080/"
        },
        "id": "gYVN3s7Vd76P",
        "outputId": "80c2e2b7-2720-40a5-daaa-1a5a41fd6368"
      },
      "execution_count": 74,
      "outputs": [
        {
          "output_type": "execute_result",
          "data": {
            "text/plain": [
              "RandomForestClassifier()"
            ]
          },
          "metadata": {},
          "execution_count": 74
        }
      ]
    },
    {
      "cell_type": "code",
      "source": [
        "X_test_feature = feature_extractor.predict(x_test)\n",
        "#Now predict using the trained RF model. \n",
        "predicted = rf_model.predict(X_test_feature)"
      ],
      "metadata": {
        "id": "E_THiyu3eBc3"
      },
      "execution_count": 75,
      "outputs": []
    },
    {
      "cell_type": "code",
      "source": [
        "print('Test set evaluation:\\n_____________________________________')\n",
        "print_evaluate(y_test, predicted)"
      ],
      "metadata": {
        "colab": {
          "base_uri": "https://localhost:8080/"
        },
        "id": "Wqg7x1r4eIKX",
        "outputId": "1d9425db-05b4-42c8-be4b-2541d0d4c102"
      },
      "execution_count": 76,
      "outputs": [
        {
          "output_type": "stream",
          "name": "stdout",
          "text": [
            "Test set evaluation:\n",
            "_____________________________________\n",
            "MAE: 0.4066666666666667\n",
            "MSE: 0.6613333333333333\n",
            "RMSE: 0.8132240363721016\n",
            "R2 Square 0.4682516199028274\n",
            "Accuracy_mymodel 0.7166666666666667\n",
            "__________________________________\n"
          ]
        }
      ]
    },
    {
      "cell_type": "code",
      "source": [
        "results_df_2 = pd.DataFrame(data=[[\"RandomForestClassifier\", *evaluate(y_test, predicted)]], \n",
        "                          columns=['Model', 'MAE', 'MSE', 'RMSE', 'R2 Square','Accuracy_mymodel' ])\n",
        "results_df = results_df.append(results_df_2, ignore_index=True)\n",
        "results_df"
      ],
      "metadata": {
        "colab": {
          "base_uri": "https://localhost:8080/",
          "height": 363
        },
        "id": "jLuscTJheMMv",
        "outputId": "3dd3c3b8-1acd-43d3-8d74-74653d3d33ea"
      },
      "execution_count": 77,
      "outputs": [
        {
          "output_type": "execute_result",
          "data": {
            "text/plain": [
              "                        Model       MAE       MSE      RMSE  R2 Square  \\\n",
              "0        KNeighborsClassifier  0.481333  0.760000  0.871780   0.388918   \n",
              "1                         SVC  0.396667  0.631333  0.794565   0.492373   \n",
              "2                     RBF SVC  0.347333  0.551333  0.742518   0.556698   \n",
              "3      DecisionTreeClassifier  0.615333  1.048667  1.024044   0.156814   \n",
              "4          LogisticRegression  0.404667  0.658000  0.811172   0.470932   \n",
              "5               SGDClassifier  0.400667  0.644667  0.802911   0.481653   \n",
              "6  GradientBoostingClassifier  0.413333  0.676000  0.822192   0.456459   \n",
              "7              LGBMClassifier  0.370667  0.585333  0.765071   0.529360   \n",
              "8               XGBClassifier  0.406667  0.673333  0.820569   0.458603   \n",
              "9      RandomForestClassifier  0.406667  0.661333  0.813224   0.468252   \n",
              "\n",
              "   Accuracy_mymodel  \n",
              "0          0.654667  \n",
              "1          0.718667  \n",
              "2          0.754000  \n",
              "3          0.580667  \n",
              "4          0.717333  \n",
              "5          0.718000  \n",
              "6          0.714667  \n",
              "7          0.736000  \n",
              "8          0.721333  \n",
              "9          0.716667  "
            ],
            "text/html": [
              "\n",
              "  <div id=\"df-124c2c74-7763-4156-8c28-7850cde43107\">\n",
              "    <div class=\"colab-df-container\">\n",
              "      <div>\n",
              "<style scoped>\n",
              "    .dataframe tbody tr th:only-of-type {\n",
              "        vertical-align: middle;\n",
              "    }\n",
              "\n",
              "    .dataframe tbody tr th {\n",
              "        vertical-align: top;\n",
              "    }\n",
              "\n",
              "    .dataframe thead th {\n",
              "        text-align: right;\n",
              "    }\n",
              "</style>\n",
              "<table border=\"1\" class=\"dataframe\">\n",
              "  <thead>\n",
              "    <tr style=\"text-align: right;\">\n",
              "      <th></th>\n",
              "      <th>Model</th>\n",
              "      <th>MAE</th>\n",
              "      <th>MSE</th>\n",
              "      <th>RMSE</th>\n",
              "      <th>R2 Square</th>\n",
              "      <th>Accuracy_mymodel</th>\n",
              "    </tr>\n",
              "  </thead>\n",
              "  <tbody>\n",
              "    <tr>\n",
              "      <th>0</th>\n",
              "      <td>KNeighborsClassifier</td>\n",
              "      <td>0.481333</td>\n",
              "      <td>0.760000</td>\n",
              "      <td>0.871780</td>\n",
              "      <td>0.388918</td>\n",
              "      <td>0.654667</td>\n",
              "    </tr>\n",
              "    <tr>\n",
              "      <th>1</th>\n",
              "      <td>SVC</td>\n",
              "      <td>0.396667</td>\n",
              "      <td>0.631333</td>\n",
              "      <td>0.794565</td>\n",
              "      <td>0.492373</td>\n",
              "      <td>0.718667</td>\n",
              "    </tr>\n",
              "    <tr>\n",
              "      <th>2</th>\n",
              "      <td>RBF SVC</td>\n",
              "      <td>0.347333</td>\n",
              "      <td>0.551333</td>\n",
              "      <td>0.742518</td>\n",
              "      <td>0.556698</td>\n",
              "      <td>0.754000</td>\n",
              "    </tr>\n",
              "    <tr>\n",
              "      <th>3</th>\n",
              "      <td>DecisionTreeClassifier</td>\n",
              "      <td>0.615333</td>\n",
              "      <td>1.048667</td>\n",
              "      <td>1.024044</td>\n",
              "      <td>0.156814</td>\n",
              "      <td>0.580667</td>\n",
              "    </tr>\n",
              "    <tr>\n",
              "      <th>4</th>\n",
              "      <td>LogisticRegression</td>\n",
              "      <td>0.404667</td>\n",
              "      <td>0.658000</td>\n",
              "      <td>0.811172</td>\n",
              "      <td>0.470932</td>\n",
              "      <td>0.717333</td>\n",
              "    </tr>\n",
              "    <tr>\n",
              "      <th>5</th>\n",
              "      <td>SGDClassifier</td>\n",
              "      <td>0.400667</td>\n",
              "      <td>0.644667</td>\n",
              "      <td>0.802911</td>\n",
              "      <td>0.481653</td>\n",
              "      <td>0.718000</td>\n",
              "    </tr>\n",
              "    <tr>\n",
              "      <th>6</th>\n",
              "      <td>GradientBoostingClassifier</td>\n",
              "      <td>0.413333</td>\n",
              "      <td>0.676000</td>\n",
              "      <td>0.822192</td>\n",
              "      <td>0.456459</td>\n",
              "      <td>0.714667</td>\n",
              "    </tr>\n",
              "    <tr>\n",
              "      <th>7</th>\n",
              "      <td>LGBMClassifier</td>\n",
              "      <td>0.370667</td>\n",
              "      <td>0.585333</td>\n",
              "      <td>0.765071</td>\n",
              "      <td>0.529360</td>\n",
              "      <td>0.736000</td>\n",
              "    </tr>\n",
              "    <tr>\n",
              "      <th>8</th>\n",
              "      <td>XGBClassifier</td>\n",
              "      <td>0.406667</td>\n",
              "      <td>0.673333</td>\n",
              "      <td>0.820569</td>\n",
              "      <td>0.458603</td>\n",
              "      <td>0.721333</td>\n",
              "    </tr>\n",
              "    <tr>\n",
              "      <th>9</th>\n",
              "      <td>RandomForestClassifier</td>\n",
              "      <td>0.406667</td>\n",
              "      <td>0.661333</td>\n",
              "      <td>0.813224</td>\n",
              "      <td>0.468252</td>\n",
              "      <td>0.716667</td>\n",
              "    </tr>\n",
              "  </tbody>\n",
              "</table>\n",
              "</div>\n",
              "      <button class=\"colab-df-convert\" onclick=\"convertToInteractive('df-124c2c74-7763-4156-8c28-7850cde43107')\"\n",
              "              title=\"Convert this dataframe to an interactive table.\"\n",
              "              style=\"display:none;\">\n",
              "        \n",
              "  <svg xmlns=\"http://www.w3.org/2000/svg\" height=\"24px\"viewBox=\"0 0 24 24\"\n",
              "       width=\"24px\">\n",
              "    <path d=\"M0 0h24v24H0V0z\" fill=\"none\"/>\n",
              "    <path d=\"M18.56 5.44l.94 2.06.94-2.06 2.06-.94-2.06-.94-.94-2.06-.94 2.06-2.06.94zm-11 1L8.5 8.5l.94-2.06 2.06-.94-2.06-.94L8.5 2.5l-.94 2.06-2.06.94zm10 10l.94 2.06.94-2.06 2.06-.94-2.06-.94-.94-2.06-.94 2.06-2.06.94z\"/><path d=\"M17.41 7.96l-1.37-1.37c-.4-.4-.92-.59-1.43-.59-.52 0-1.04.2-1.43.59L10.3 9.45l-7.72 7.72c-.78.78-.78 2.05 0 2.83L4 21.41c.39.39.9.59 1.41.59.51 0 1.02-.2 1.41-.59l7.78-7.78 2.81-2.81c.8-.78.8-2.07 0-2.86zM5.41 20L4 18.59l7.72-7.72 1.47 1.35L5.41 20z\"/>\n",
              "  </svg>\n",
              "      </button>\n",
              "      \n",
              "  <style>\n",
              "    .colab-df-container {\n",
              "      display:flex;\n",
              "      flex-wrap:wrap;\n",
              "      gap: 12px;\n",
              "    }\n",
              "\n",
              "    .colab-df-convert {\n",
              "      background-color: #E8F0FE;\n",
              "      border: none;\n",
              "      border-radius: 50%;\n",
              "      cursor: pointer;\n",
              "      display: none;\n",
              "      fill: #1967D2;\n",
              "      height: 32px;\n",
              "      padding: 0 0 0 0;\n",
              "      width: 32px;\n",
              "    }\n",
              "\n",
              "    .colab-df-convert:hover {\n",
              "      background-color: #E2EBFA;\n",
              "      box-shadow: 0px 1px 2px rgba(60, 64, 67, 0.3), 0px 1px 3px 1px rgba(60, 64, 67, 0.15);\n",
              "      fill: #174EA6;\n",
              "    }\n",
              "\n",
              "    [theme=dark] .colab-df-convert {\n",
              "      background-color: #3B4455;\n",
              "      fill: #D2E3FC;\n",
              "    }\n",
              "\n",
              "    [theme=dark] .colab-df-convert:hover {\n",
              "      background-color: #434B5C;\n",
              "      box-shadow: 0px 1px 3px 1px rgba(0, 0, 0, 0.15);\n",
              "      filter: drop-shadow(0px 1px 2px rgba(0, 0, 0, 0.3));\n",
              "      fill: #FFFFFF;\n",
              "    }\n",
              "  </style>\n",
              "\n",
              "      <script>\n",
              "        const buttonEl =\n",
              "          document.querySelector('#df-124c2c74-7763-4156-8c28-7850cde43107 button.colab-df-convert');\n",
              "        buttonEl.style.display =\n",
              "          google.colab.kernel.accessAllowed ? 'block' : 'none';\n",
              "\n",
              "        async function convertToInteractive(key) {\n",
              "          const element = document.querySelector('#df-124c2c74-7763-4156-8c28-7850cde43107');\n",
              "          const dataTable =\n",
              "            await google.colab.kernel.invokeFunction('convertToInteractive',\n",
              "                                                     [key], {});\n",
              "          if (!dataTable) return;\n",
              "\n",
              "          const docLinkHtml = 'Like what you see? Visit the ' +\n",
              "            '<a target=\"_blank\" href=https://colab.research.google.com/notebooks/data_table.ipynb>data table notebook</a>'\n",
              "            + ' to learn more about interactive tables.';\n",
              "          element.innerHTML = '';\n",
              "          dataTable['output_type'] = 'display_data';\n",
              "          await google.colab.output.renderOutput(dataTable, element);\n",
              "          const docLink = document.createElement('div');\n",
              "          docLink.innerHTML = docLinkHtml;\n",
              "          element.appendChild(docLink);\n",
              "        }\n",
              "      </script>\n",
              "    </div>\n",
              "  </div>\n",
              "  "
            ]
          },
          "metadata": {},
          "execution_count": 77
        }
      ]
    },
    {
      "cell_type": "code",
      "source": [
        "print(classification_report(y_test,predicted))"
      ],
      "metadata": {
        "colab": {
          "base_uri": "https://localhost:8080/"
        },
        "id": "gS7sqyUseOap",
        "outputId": "d47e5060-bce9-4aa6-e4c5-7eb4959073b3"
      },
      "execution_count": 78,
      "outputs": [
        {
          "output_type": "stream",
          "name": "stdout",
          "text": [
            "              precision    recall  f1-score   support\n",
            "\n",
            "           0       0.56      0.59      0.57       348\n",
            "           1       0.69      0.71      0.70       381\n",
            "           2       0.68      0.58      0.63       372\n",
            "           3       0.90      0.96      0.93       399\n",
            "\n",
            "    accuracy                           0.72      1500\n",
            "   macro avg       0.71      0.71      0.71      1500\n",
            "weighted avg       0.71      0.72      0.71      1500\n",
            "\n"
          ]
        }
      ]
    },
    {
      "cell_type": "code",
      "source": [
        "from sklearn.metrics import confusion_matrix\n",
        "from matplotlib.pyplot import figure\n",
        "figure(figsize=(9, 8), dpi=80)\n",
        "cm = confusion_matrix(y_test,predicted)\n",
        "\n",
        "sns.heatmap(cm, annot=True,fmt=\"d\",cmap=\"YlGnBu\")"
      ],
      "metadata": {
        "colab": {
          "base_uri": "https://localhost:8080/",
          "height": 550
        },
        "id": "eJV9xVoweRS_",
        "outputId": "10071ae5-6d92-4063-afe2-f095e9a72044"
      },
      "execution_count": 79,
      "outputs": [
        {
          "output_type": "execute_result",
          "data": {
            "text/plain": [
              "<matplotlib.axes._subplots.AxesSubplot at 0x7f77fce458d0>"
            ]
          },
          "metadata": {},
          "execution_count": 79
        },
        {
          "output_type": "display_data",
          "data": {
            "text/plain": [
              "<Figure size 720x640 with 2 Axes>"
            ],
            "image/png": "[encoded data removed]"
          },
          "metadata": {
            "needs_background": "light"
          }
        }
      ]
    },
    {
      "cell_type": "markdown",
      "source": [
        "# GaussianNB"
      ],
      "metadata": {
        "id": "2qserjJKibQU"
      }
    },
    {
      "cell_type": "code",
      "source": [
        "from sklearn.naive_bayes import GaussianNB\n",
        "\n",
        "\n",
        "GB_model = GaussianNB()\n",
        "GB_model = GB_model.fit(X_for_model, y_train)\n",
        "GB_model"
      ],
      "metadata": {
        "id": "lbXafTbxiDvs",
        "outputId": "606ea47f-e5d5-4dc2-9485-b067fcb589ae",
        "colab": {
          "base_uri": "https://localhost:8080/"
        }
      },
      "execution_count": 80,
      "outputs": [
        {
          "output_type": "execute_result",
          "data": {
            "text/plain": [
              "GaussianNB()"
            ]
          },
          "metadata": {},
          "execution_count": 80
        }
      ]
    },
    {
      "cell_type": "code",
      "source": [
        "X_test_feature = feature_extractor.predict(x_test)\n",
        "#Now predict using the trained RF model. \n",
        "predicted = GB_model.predict(X_test_feature)"
      ],
      "metadata": {
        "id": "cbM1vH3PiD0j"
      },
      "execution_count": 81,
      "outputs": []
    },
    {
      "cell_type": "code",
      "source": [
        "print('Test set evaluation:\\n_____________________________________')\n",
        "print_evaluate(y_test, predicted)"
      ],
      "metadata": {
        "id": "eRGS8NwsiD3a",
        "outputId": "820e4eb8-d76a-40a9-c156-0dfa80ffc8ff",
        "colab": {
          "base_uri": "https://localhost:8080/"
        }
      },
      "execution_count": 82,
      "outputs": [
        {
          "output_type": "stream",
          "name": "stdout",
          "text": [
            "Test set evaluation:\n",
            "_____________________________________\n",
            "MAE: 0.5226666666666666\n",
            "MSE: 0.9013333333333333\n",
            "RMSE: 0.9493857663422879\n",
            "R2 Square 0.27527841744820825\n",
            "Accuracy_mymodel 0.6493333333333333\n",
            "__________________________________\n"
          ]
        }
      ]
    },
    {
      "cell_type": "code",
      "source": [
        "results_df_2 = pd.DataFrame(data=[[\"GaussianNB\", *evaluate(y_test, predicted)]], \n",
        "                          columns=['Model', 'MAE', 'MSE', 'RMSE', 'R2 Square','Accuracy_mymodel' ])\n",
        "results_df = results_df.append(results_df_2, ignore_index=True)\n",
        "results_df"
      ],
      "metadata": {
        "id": "A3FslmvEiD6A",
        "outputId": "f97637da-cf65-4165-afe7-dbebc8489903",
        "colab": {
          "base_uri": "https://localhost:8080/",
          "height": 394
        }
      },
      "execution_count": 83,
      "outputs": [
        {
          "output_type": "execute_result",
          "data": {
            "text/plain": [
              "                         Model       MAE       MSE      RMSE  R2 Square  \\\n",
              "0         KNeighborsClassifier  0.481333  0.760000  0.871780   0.388918   \n",
              "1                          SVC  0.396667  0.631333  0.794565   0.492373   \n",
              "2                      RBF SVC  0.347333  0.551333  0.742518   0.556698   \n",
              "3       DecisionTreeClassifier  0.615333  1.048667  1.024044   0.156814   \n",
              "4           LogisticRegression  0.404667  0.658000  0.811172   0.470932   \n",
              "5                SGDClassifier  0.400667  0.644667  0.802911   0.481653   \n",
              "6   GradientBoostingClassifier  0.413333  0.676000  0.822192   0.456459   \n",
              "7               LGBMClassifier  0.370667  0.585333  0.765071   0.529360   \n",
              "8                XGBClassifier  0.406667  0.673333  0.820569   0.458603   \n",
              "9       RandomForestClassifier  0.406667  0.661333  0.813224   0.468252   \n",
              "10                  GaussianNB  0.522667  0.901333  0.949386   0.275278   \n",
              "\n",
              "    Accuracy_mymodel  \n",
              "0           0.654667  \n",
              "1           0.718667  \n",
              "2           0.754000  \n",
              "3           0.580667  \n",
              "4           0.717333  \n",
              "5           0.718000  \n",
              "6           0.714667  \n",
              "7           0.736000  \n",
              "8           0.721333  \n",
              "9           0.716667  \n",
              "10          0.649333  "
            ],
            "text/html": [
              "\n",
              "  <div id=\"df-31593dc8-f676-4e73-8dbf-95347edee10b\">\n",
              "    <div class=\"colab-df-container\">\n",
              "      <div>\n",
              "<style scoped>\n",
              "    .dataframe tbody tr th:only-of-type {\n",
              "        vertical-align: middle;\n",
              "    }\n",
              "\n",
              "    .dataframe tbody tr th {\n",
              "        vertical-align: top;\n",
              "    }\n",
              "\n",
              "    .dataframe thead th {\n",
              "        text-align: right;\n",
              "    }\n",
              "</style>\n",
              "<table border=\"1\" class=\"dataframe\">\n",
              "  <thead>\n",
              "    <tr style=\"text-align: right;\">\n",
              "      <th></th>\n",
              "      <th>Model</th>\n",
              "      <th>MAE</th>\n",
              "      <th>MSE</th>\n",
              "      <th>RMSE</th>\n",
              "      <th>R2 Square</th>\n",
              "      <th>Accuracy_mymodel</th>\n",
              "    </tr>\n",
              "  </thead>\n",
              "  <tbody>\n",
              "    <tr>\n",
              "      <th>0</th>\n",
              "      <td>KNeighborsClassifier</td>\n",
              "      <td>0.481333</td>\n",
              "      <td>0.760000</td>\n",
              "      <td>0.871780</td>\n",
              "      <td>0.388918</td>\n",
              "      <td>0.654667</td>\n",
              "    </tr>\n",
              "    <tr>\n",
              "      <th>1</th>\n",
              "      <td>SVC</td>\n",
              "      <td>0.396667</td>\n",
              "      <td>0.631333</td>\n",
              "      <td>0.794565</td>\n",
              "      <td>0.492373</td>\n",
              "      <td>0.718667</td>\n",
              "    </tr>\n",
              "    <tr>\n",
              "      <th>2</th>\n",
              "      <td>RBF SVC</td>\n",
              "      <td>0.347333</td>\n",
              "      <td>0.551333</td>\n",
              "      <td>0.742518</td>\n",
              "      <td>0.556698</td>\n",
              "      <td>0.754000</td>\n",
              "    </tr>\n",
              "    <tr>\n",
              "      <th>3</th>\n",
              "      <td>DecisionTreeClassifier</td>\n",
              "      <td>0.615333</td>\n",
              "      <td>1.048667</td>\n",
              "      <td>1.024044</td>\n",
              "      <td>0.156814</td>\n",
              "      <td>0.580667</td>\n",
              "    </tr>\n",
              "    <tr>\n",
              "      <th>4</th>\n",
              "      <td>LogisticRegression</td>\n",
              "      <td>0.404667</td>\n",
              "      <td>0.658000</td>\n",
              "      <td>0.811172</td>\n",
              "      <td>0.470932</td>\n",
              "      <td>0.717333</td>\n",
              "    </tr>\n",
              "    <tr>\n",
              "      <th>5</th>\n",
              "      <td>SGDClassifier</td>\n",
              "      <td>0.400667</td>\n",
              "      <td>0.644667</td>\n",
              "      <td>0.802911</td>\n",
              "      <td>0.481653</td>\n",
              "      <td>0.718000</td>\n",
              "    </tr>\n",
              "    <tr>\n",
              "      <th>6</th>\n",
              "      <td>GradientBoostingClassifier</td>\n",
              "      <td>0.413333</td>\n",
              "      <td>0.676000</td>\n",
              "      <td>0.822192</td>\n",
              "      <td>0.456459</td>\n",
              "      <td>0.714667</td>\n",
              "    </tr>\n",
              "    <tr>\n",
              "      <th>7</th>\n",
              "      <td>LGBMClassifier</td>\n",
              "      <td>0.370667</td>\n",
              "      <td>0.585333</td>\n",
              "      <td>0.765071</td>\n",
              "      <td>0.529360</td>\n",
              "      <td>0.736000</td>\n",
              "    </tr>\n",
              "    <tr>\n",
              "      <th>8</th>\n",
              "      <td>XGBClassifier</td>\n",
              "      <td>0.406667</td>\n",
              "      <td>0.673333</td>\n",
              "      <td>0.820569</td>\n",
              "      <td>0.458603</td>\n",
              "      <td>0.721333</td>\n",
              "    </tr>\n",
              "    <tr>\n",
              "      <th>9</th>\n",
              "      <td>RandomForestClassifier</td>\n",
              "      <td>0.406667</td>\n",
              "      <td>0.661333</td>\n",
              "      <td>0.813224</td>\n",
              "      <td>0.468252</td>\n",
              "      <td>0.716667</td>\n",
              "    </tr>\n",
              "    <tr>\n",
              "      <th>10</th>\n",
              "      <td>GaussianNB</td>\n",
              "      <td>0.522667</td>\n",
              "      <td>0.901333</td>\n",
              "      <td>0.949386</td>\n",
              "      <td>0.275278</td>\n",
              "      <td>0.649333</td>\n",
              "    </tr>\n",
              "  </tbody>\n",
              "</table>\n",
              "</div>\n",
              "      <button class=\"colab-df-convert\" onclick=\"convertToInteractive('df-31593dc8-f676-4e73-8dbf-95347edee10b')\"\n",
              "              title=\"Convert this dataframe to an interactive table.\"\n",
              "              style=\"display:none;\">\n",
              "        \n",
              "  <svg xmlns=\"http://www.w3.org/2000/svg\" height=\"24px\"viewBox=\"0 0 24 24\"\n",
              "       width=\"24px\">\n",
              "    <path d=\"M0 0h24v24H0V0z\" fill=\"none\"/>\n",
              "    <path d=\"M18.56 5.44l.94 2.06.94-2.06 2.06-.94-2.06-.94-.94-2.06-.94 2.06-2.06.94zm-11 1L8.5 8.5l.94-2.06 2.06-.94-2.06-.94L8.5 2.5l-.94 2.06-2.06.94zm10 10l.94 2.06.94-2.06 2.06-.94-2.06-.94-.94-2.06-.94 2.06-2.06.94z\"/><path d=\"M17.41 7.96l-1.37-1.37c-.4-.4-.92-.59-1.43-.59-.52 0-1.04.2-1.43.59L10.3 9.45l-7.72 7.72c-.78.78-.78 2.05 0 2.83L4 21.41c.39.39.9.59 1.41.59.51 0 1.02-.2 1.41-.59l7.78-7.78 2.81-2.81c.8-.78.8-2.07 0-2.86zM5.41 20L4 18.59l7.72-7.72 1.47 1.35L5.41 20z\"/>\n",
              "  </svg>\n",
              "      </button>\n",
              "      \n",
              "  <style>\n",
              "    .colab-df-container {\n",
              "      display:flex;\n",
              "      flex-wrap:wrap;\n",
              "      gap: 12px;\n",
              "    }\n",
              "\n",
              "    .colab-df-convert {\n",
              "      background-color: #E8F0FE;\n",
              "      border: none;\n",
              "      border-radius: 50%;\n",
              "      cursor: pointer;\n",
              "      display: none;\n",
              "      fill: #1967D2;\n",
              "      height: 32px;\n",
              "      padding: 0 0 0 0;\n",
              "      width: 32px;\n",
              "    }\n",
              "\n",
              "    .colab-df-convert:hover {\n",
              "      background-color: #E2EBFA;\n",
              "      box-shadow: 0px 1px 2px rgba(60, 64, 67, 0.3), 0px 1px 3px 1px rgba(60, 64, 67, 0.15);\n",
              "      fill: #174EA6;\n",
              "    }\n",
              "\n",
              "    [theme=dark] .colab-df-convert {\n",
              "      background-color: #3B4455;\n",
              "      fill: #D2E3FC;\n",
              "    }\n",
              "\n",
              "    [theme=dark] .colab-df-convert:hover {\n",
              "      background-color: #434B5C;\n",
              "      box-shadow: 0px 1px 3px 1px rgba(0, 0, 0, 0.15);\n",
              "      filter: drop-shadow(0px 1px 2px rgba(0, 0, 0, 0.3));\n",
              "      fill: #FFFFFF;\n",
              "    }\n",
              "  </style>\n",
              "\n",
              "      <script>\n",
              "        const buttonEl =\n",
              "          document.querySelector('#df-31593dc8-f676-4e73-8dbf-95347edee10b button.colab-df-convert');\n",
              "        buttonEl.style.display =\n",
              "          google.colab.kernel.accessAllowed ? 'block' : 'none';\n",
              "\n",
              "        async function convertToInteractive(key) {\n",
              "          const element = document.querySelector('#df-31593dc8-f676-4e73-8dbf-95347edee10b');\n",
              "          const dataTable =\n",
              "            await google.colab.kernel.invokeFunction('convertToInteractive',\n",
              "                                                     [key], {});\n",
              "          if (!dataTable) return;\n",
              "\n",
              "          const docLinkHtml = 'Like what you see? Visit the ' +\n",
              "            '<a target=\"_blank\" href=https://colab.research.google.com/notebooks/data_table.ipynb>data table notebook</a>'\n",
              "            + ' to learn more about interactive tables.';\n",
              "          element.innerHTML = '';\n",
              "          dataTable['output_type'] = 'display_data';\n",
              "          await google.colab.output.renderOutput(dataTable, element);\n",
              "          const docLink = document.createElement('div');\n",
              "          docLink.innerHTML = docLinkHtml;\n",
              "          element.appendChild(docLink);\n",
              "        }\n",
              "      </script>\n",
              "    </div>\n",
              "  </div>\n",
              "  "
            ]
          },
          "metadata": {},
          "execution_count": 83
        }
      ]
    },
    {
      "cell_type": "code",
      "source": [
        "print(classification_report(y_test,predicted))"
      ],
      "metadata": {
        "id": "1NWEzmPqiv4M",
        "outputId": "a6a775de-74d1-4985-e28a-3f18dfd24bc0",
        "colab": {
          "base_uri": "https://localhost:8080/"
        }
      },
      "execution_count": 84,
      "outputs": [
        {
          "output_type": "stream",
          "name": "stdout",
          "text": [
            "              precision    recall  f1-score   support\n",
            "\n",
            "           0       0.49      0.48      0.49       348\n",
            "           1       0.62      0.69      0.65       381\n",
            "           2       0.62      0.51      0.56       372\n",
            "           3       0.82      0.89      0.85       399\n",
            "\n",
            "    accuracy                           0.65      1500\n",
            "   macro avg       0.64      0.64      0.64      1500\n",
            "weighted avg       0.64      0.65      0.64      1500\n",
            "\n"
          ]
        }
      ]
    },
    {
      "cell_type": "code",
      "source": [
        "from sklearn.metrics import confusion_matrix\n",
        "from matplotlib.pyplot import figure\n",
        "figure(figsize=(9, 8), dpi=80)\n",
        "cm = confusion_matrix(y_test,predicted)\n",
        "\n",
        "sns.heatmap(cm, annot=True,fmt=\"d\",cmap=\"YlGnBu\")"
      ],
      "metadata": {
        "id": "PdJO2C7Iixj-",
        "outputId": "9797239c-15b4-4717-f85c-1de9b39a047b",
        "colab": {
          "base_uri": "https://localhost:8080/",
          "height": 550
        }
      },
      "execution_count": 85,
      "outputs": [
        {
          "output_type": "execute_result",
          "data": {
            "text/plain": [
              "<matplotlib.axes._subplots.AxesSubplot at 0x7f77fce49290>"
            ]
          },
          "metadata": {},
          "execution_count": 85
        },
        {
          "output_type": "display_data",
          "data": {
            "text/plain": [
              "<Figure size 720x640 with 2 Axes>"
            ],
            "image/png": "[encoded data removed]"
          },
          "metadata": {
            "needs_background": "light"
          }
        }
      ]
    },
    {
      "cell_type": "code",
      "source": [
        "modeller = [rf_model,GB_model,XGBC_model,LGBM_model,GBC_model,SGD_model,lr_model,cart_model,svc_model,svm_model,knn_model]"
      ],
      "metadata": {
        "id": "qnFXxp0MjZQU"
      },
      "execution_count": 87,
      "outputs": []
    },
    {
      "cell_type": "code",
      "source": [
        "sonuc = []\n",
        "\n",
        "sonuclar = pd.DataFrame(columns= [\"Modeller\",\"Accuracy\"])\n",
        "\n",
        "for model in modeller:\n",
        "    isimler = model.__class__.__name__\n",
        "    y_pred = model.predict(X_test_feature)\n",
        "    dogruluk = accuracy_score(y_test, y_pred)    \n",
        "    sonuc = pd.DataFrame([[isimler, dogruluk*100]], columns= [\"Modeller\",\"Accuracy\"])\n",
        "    sonuclar = sonuclar.append(sonuc)\n",
        "    \n",
        "sns.set(rc={'figure.figsize':(20,15)})\n",
        "sns.barplot(x= 'Accuracy', y = 'Modeller', data=sonuclar, color=\"r\")\n",
        "plt.xlabel('Modellerin Doğruluk Oranları ')\n",
        "plt.title('Accuracy ½');  "
      ],
      "metadata": {
        "id": "GQaBgsWV5U8J",
        "outputId": "49bc1bfc-8307-4b93-af0a-8a7390c67f4f",
        "colab": {
          "base_uri": "https://localhost:8080/",
          "height": 899
        }
      },
      "execution_count": 97,
      "outputs": [
        {
          "output_type": "display_data",
          "data": {
            "text/plain": [
              "<Figure size 1440x1080 with 1 Axes>"
            ],
            "image/png": "[encoded data removed]"
          },
          "metadata": {}
        }
      ]
    },
    {
      "cell_type": "code",
      "source": [
        "results_df"
      ],
      "metadata": {
        "id": "0ao1or8r5itB",
        "outputId": "963f0deb-74d6-4628-9b7f-a3b7eda933e7",
        "colab": {
          "base_uri": "https://localhost:8080/",
          "height": 394
        }
      },
      "execution_count": 95,
      "outputs": [
        {
          "output_type": "execute_result",
          "data": {
            "text/plain": [
              "                         Model       MAE       MSE      RMSE  R2 Square  \\\n",
              "0         KNeighborsClassifier  0.481333  0.760000  0.871780   0.388918   \n",
              "1                          SVC  0.396667  0.631333  0.794565   0.492373   \n",
              "2                      RBF SVC  0.347333  0.551333  0.742518   0.556698   \n",
              "3       DecisionTreeClassifier  0.615333  1.048667  1.024044   0.156814   \n",
              "4           LogisticRegression  0.404667  0.658000  0.811172   0.470932   \n",
              "5                SGDClassifier  0.400667  0.644667  0.802911   0.481653   \n",
              "6   GradientBoostingClassifier  0.413333  0.676000  0.822192   0.456459   \n",
              "7               LGBMClassifier  0.370667  0.585333  0.765071   0.529360   \n",
              "8                XGBClassifier  0.406667  0.673333  0.820569   0.458603   \n",
              "9       RandomForestClassifier  0.406667  0.661333  0.813224   0.468252   \n",
              "10                  GaussianNB  0.522667  0.901333  0.949386   0.275278   \n",
              "\n",
              "    Accuracy_mymodel  \n",
              "0           0.654667  \n",
              "1           0.718667  \n",
              "2           0.754000  \n",
              "3           0.580667  \n",
              "4           0.717333  \n",
              "5           0.718000  \n",
              "6           0.714667  \n",
              "7           0.736000  \n",
              "8           0.721333  \n",
              "9           0.716667  \n",
              "10          0.649333  "
            ],
            "text/html": [
              "\n",
              "  <div id=\"df-7dc92a28-e359-45c8-92ac-5d03eac607ca\">\n",
              "    <div class=\"colab-df-container\">\n",
              "      <div>\n",
              "<style scoped>\n",
              "    .dataframe tbody tr th:only-of-type {\n",
              "        vertical-align: middle;\n",
              "    }\n",
              "\n",
              "    .dataframe tbody tr th {\n",
              "        vertical-align: top;\n",
              "    }\n",
              "\n",
              "    .dataframe thead th {\n",
              "        text-align: right;\n",
              "    }\n",
              "</style>\n",
              "<table border=\"1\" class=\"dataframe\">\n",
              "  <thead>\n",
              "    <tr style=\"text-align: right;\">\n",
              "      <th></th>\n",
              "      <th>Model</th>\n",
              "      <th>MAE</th>\n",
              "      <th>MSE</th>\n",
              "      <th>RMSE</th>\n",
              "      <th>R2 Square</th>\n",
              "      <th>Accuracy_mymodel</th>\n",
              "    </tr>\n",
              "  </thead>\n",
              "  <tbody>\n",
              "    <tr>\n",
              "      <th>0</th>\n",
              "      <td>KNeighborsClassifier</td>\n",
              "      <td>0.481333</td>\n",
              "      <td>0.760000</td>\n",
              "      <td>0.871780</td>\n",
              "      <td>0.388918</td>\n",
              "      <td>0.654667</td>\n",
              "    </tr>\n",
              "    <tr>\n",
              "      <th>1</th>\n",
              "      <td>SVC</td>\n",
              "      <td>0.396667</td>\n",
              "      <td>0.631333</td>\n",
              "      <td>0.794565</td>\n",
              "      <td>0.492373</td>\n",
              "      <td>0.718667</td>\n",
              "    </tr>\n",
              "    <tr>\n",
              "      <th>2</th>\n",
              "      <td>RBF SVC</td>\n",
              "      <td>0.347333</td>\n",
              "      <td>0.551333</td>\n",
              "      <td>0.742518</td>\n",
              "      <td>0.556698</td>\n",
              "      <td>0.754000</td>\n",
              "    </tr>\n",
              "    <tr>\n",
              "      <th>3</th>\n",
              "      <td>DecisionTreeClassifier</td>\n",
              "      <td>0.615333</td>\n",
              "      <td>1.048667</td>\n",
              "      <td>1.024044</td>\n",
              "      <td>0.156814</td>\n",
              "      <td>0.580667</td>\n",
              "    </tr>\n",
              "    <tr>\n",
              "      <th>4</th>\n",
              "      <td>LogisticRegression</td>\n",
              "      <td>0.404667</td>\n",
              "      <td>0.658000</td>\n",
              "      <td>0.811172</td>\n",
              "      <td>0.470932</td>\n",
              "      <td>0.717333</td>\n",
              "    </tr>\n",
              "    <tr>\n",
              "      <th>5</th>\n",
              "      <td>SGDClassifier</td>\n",
              "      <td>0.400667</td>\n",
              "      <td>0.644667</td>\n",
              "      <td>0.802911</td>\n",
              "      <td>0.481653</td>\n",
              "      <td>0.718000</td>\n",
              "    </tr>\n",
              "    <tr>\n",
              "      <th>6</th>\n",
              "      <td>GradientBoostingClassifier</td>\n",
              "      <td>0.413333</td>\n",
              "      <td>0.676000</td>\n",
              "      <td>0.822192</td>\n",
              "      <td>0.456459</td>\n",
              "      <td>0.714667</td>\n",
              "    </tr>\n",
              "    <tr>\n",
              "      <th>7</th>\n",
              "      <td>LGBMClassifier</td>\n",
              "      <td>0.370667</td>\n",
              "      <td>0.585333</td>\n",
              "      <td>0.765071</td>\n",
              "      <td>0.529360</td>\n",
              "      <td>0.736000</td>\n",
              "    </tr>\n",
              "    <tr>\n",
              "      <th>8</th>\n",
              "      <td>XGBClassifier</td>\n",
              "      <td>0.406667</td>\n",
              "      <td>0.673333</td>\n",
              "      <td>0.820569</td>\n",
              "      <td>0.458603</td>\n",
              "      <td>0.721333</td>\n",
              "    </tr>\n",
              "    <tr>\n",
              "      <th>9</th>\n",
              "      <td>RandomForestClassifier</td>\n",
              "      <td>0.406667</td>\n",
              "      <td>0.661333</td>\n",
              "      <td>0.813224</td>\n",
              "      <td>0.468252</td>\n",
              "      <td>0.716667</td>\n",
              "    </tr>\n",
              "    <tr>\n",
              "      <th>10</th>\n",
              "      <td>GaussianNB</td>\n",
              "      <td>0.522667</td>\n",
              "      <td>0.901333</td>\n",
              "      <td>0.949386</td>\n",
              "      <td>0.275278</td>\n",
              "      <td>0.649333</td>\n",
              "    </tr>\n",
              "  </tbody>\n",
              "</table>\n",
              "</div>\n",
              "      <button class=\"colab-df-convert\" onclick=\"convertToInteractive('df-7dc92a28-e359-45c8-92ac-5d03eac607ca')\"\n",
              "              title=\"Convert this dataframe to an interactive table.\"\n",
              "              style=\"display:none;\">\n",
              "        \n",
              "  <svg xmlns=\"http://www.w3.org/2000/svg\" height=\"24px\"viewBox=\"0 0 24 24\"\n",
              "       width=\"24px\">\n",
              "    <path d=\"M0 0h24v24H0V0z\" fill=\"none\"/>\n",
              "    <path d=\"M18.56 5.44l.94 2.06.94-2.06 2.06-.94-2.06-.94-.94-2.06-.94 2.06-2.06.94zm-11 1L8.5 8.5l.94-2.06 2.06-.94-2.06-.94L8.5 2.5l-.94 2.06-2.06.94zm10 10l.94 2.06.94-2.06 2.06-.94-2.06-.94-.94-2.06-.94 2.06-2.06.94z\"/><path d=\"M17.41 7.96l-1.37-1.37c-.4-.4-.92-.59-1.43-.59-.52 0-1.04.2-1.43.59L10.3 9.45l-7.72 7.72c-.78.78-.78 2.05 0 2.83L4 21.41c.39.39.9.59 1.41.59.51 0 1.02-.2 1.41-.59l7.78-7.78 2.81-2.81c.8-.78.8-2.07 0-2.86zM5.41 20L4 18.59l7.72-7.72 1.47 1.35L5.41 20z\"/>\n",
              "  </svg>\n",
              "      </button>\n",
              "      \n",
              "  <style>\n",
              "    .colab-df-container {\n",
              "      display:flex;\n",
              "      flex-wrap:wrap;\n",
              "      gap: 12px;\n",
              "    }\n",
              "\n",
              "    .colab-df-convert {\n",
              "      background-color: #E8F0FE;\n",
              "      border: none;\n",
              "      border-radius: 50%;\n",
              "      cursor: pointer;\n",
              "      display: none;\n",
              "      fill: #1967D2;\n",
              "      height: 32px;\n",
              "      padding: 0 0 0 0;\n",
              "      width: 32px;\n",
              "    }\n",
              "\n",
              "    .colab-df-convert:hover {\n",
              "      background-color: #E2EBFA;\n",
              "      box-shadow: 0px 1px 2px rgba(60, 64, 67, 0.3), 0px 1px 3px 1px rgba(60, 64, 67, 0.15);\n",
              "      fill: #174EA6;\n",
              "    }\n",
              "\n",
              "    [theme=dark] .colab-df-convert {\n",
              "      background-color: #3B4455;\n",
              "      fill: #D2E3FC;\n",
              "    }\n",
              "\n",
              "    [theme=dark] .colab-df-convert:hover {\n",
              "      background-color: #434B5C;\n",
              "      box-shadow: 0px 1px 3px 1px rgba(0, 0, 0, 0.15);\n",
              "      filter: drop-shadow(0px 1px 2px rgba(0, 0, 0, 0.3));\n",
              "      fill: #FFFFFF;\n",
              "    }\n",
              "  </style>\n",
              "\n",
              "      <script>\n",
              "        const buttonEl =\n",
              "          document.querySelector('#df-7dc92a28-e359-45c8-92ac-5d03eac607ca button.colab-df-convert');\n",
              "        buttonEl.style.display =\n",
              "          google.colab.kernel.accessAllowed ? 'block' : 'none';\n",
              "\n",
              "        async function convertToInteractive(key) {\n",
              "          const element = document.querySelector('#df-7dc92a28-e359-45c8-92ac-5d03eac607ca');\n",
              "          const dataTable =\n",
              "            await google.colab.kernel.invokeFunction('convertToInteractive',\n",
              "                                                     [key], {});\n",
              "          if (!dataTable) return;\n",
              "\n",
              "          const docLinkHtml = 'Like what you see? Visit the ' +\n",
              "            '<a target=\"_blank\" href=https://colab.research.google.com/notebooks/data_table.ipynb>data table notebook</a>'\n",
              "            + ' to learn more about interactive tables.';\n",
              "          element.innerHTML = '';\n",
              "          dataTable['output_type'] = 'display_data';\n",
              "          await google.colab.output.renderOutput(dataTable, element);\n",
              "          const docLink = document.createElement('div');\n",
              "          docLink.innerHTML = docLinkHtml;\n",
              "          element.appendChild(docLink);\n",
              "        }\n",
              "      </script>\n",
              "    </div>\n",
              "  </div>\n",
              "  "
            ]
          },
          "metadata": {},
          "execution_count": 95
        }
      ]
    },
    {
      "cell_type": "code",
      "source": [
        ""
      ],
      "metadata": {
        "id": "VeT-akx_6zPZ"
      },
      "execution_count": null,
      "outputs": []
    }
  ]
}