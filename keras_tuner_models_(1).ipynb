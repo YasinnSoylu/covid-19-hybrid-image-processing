{
  "metadata": {
    "kernelspec": {
      "language": "python",
      "display_name": "Python 3",
      "name": "python3"
    },
    "language_info": {
      "name": "python",
      "version": "3.7.12",
      "mimetype": "text/x-python",
      "codemirror_mode": {
        "name": "ipython",
        "version": 3
      },
      "pygments_lexer": "ipython3",
      "nbconvert_exporter": "python",
      "file_extension": ".py"
    },
    "colab": {
      "name": "keras_tuner-models (1).ipynb",
      "provenance": [],
      "include_colab_link": true
    }
  },
  "nbformat_minor": 0,
  "nbformat": 4,
  "cells": [
    {
      "cell_type": "markdown",
      "metadata": {
        "id": "view-in-github",
        "colab_type": "text"
      },
      "source": [
        "<a href=\"https://colab.research.google.com/github/yasinsoylu1997/TEZZ2/blob/main/keras_tuner_models_(1).ipynb\" target=\"_parent\"><img src=\"https://colab.research.google.com/assets/colab-badge.svg\" alt=\"Open In Colab\"/></a>"
      ]
    },
    {
      "cell_type": "code",
      "source": [
        "from google.colab import drive\n",
        "drive.mount('/content/drive')"
      ],
      "metadata": {
        "colab": {
          "base_uri": "https://localhost:8080/"
        },
        "id": "lZU8IQ-UfiKU",
        "outputId": "08dcf728-9b10-41e6-c10c-7abc5cf15da2"
      },
      "execution_count": 1,
      "outputs": [
        {
          "output_type": "stream",
          "name": "stdout",
          "text": [
            "Mounted at /content/drive\n"
          ]
        }
      ]
    },
    {
      "cell_type": "code",
      "source": [
        "import seaborn as sns\n",
        "import cv2\n",
        "import numpy as np\n",
        "import matplotlib.pyplot as plt\n",
        "from sklearn.utils import shuffle\n",
        "from sklearn.model_selection import train_test_split\n",
        "import tensorflow as tf\n",
        "from tensorflow.keras import layers\n",
        "import pandas as pd\n",
        "from tensorflow.keras.applications import EfficientNetB0\n",
        "from tensorflow.keras.callbacks import EarlyStopping, ReduceLROnPlateau, TensorBoard, ModelCheckpoint\n",
        "from tensorflow.keras.models import Model, Sequential\n",
        "from tensorflow.keras.layers import Conv2D, MaxPooling2D, AveragePooling2D\n",
        "from tensorflow.keras.layers import Input, Dense, Dropout, Flatten, Activation,Concatenate\n",
        "from tensorflow.keras.layers import BatchNormalization\n",
        "from keras.preprocessing.image import load_img,img_to_array,ImageDataGenerator\n",
        "from tensorflow.keras.applications import VGG16\n",
        "from tqdm import tqdm\n",
        "import os\n",
        "from sklearn.utils import shuffle\n",
        "from sklearn.metrics import classification_report,confusion_matrix\n",
        "import keras\n",
        "import keras.utils\n",
        "from keras import utils as np_utils\n",
        "import ipywidgets as widgets\n",
        "import io\n",
        "from PIL import Image\n",
        "from IPython.display import display,clear_output\n",
        "from warnings import filterwarnings\n",
        "#!pip install visualkeras\n",
        "import numpy as np \n",
        "import matplotlib.pyplot as plt\n",
        "import glob\n",
        "from keras.models import Model, Sequential\n",
        "from keras.layers import Dense, Flatten, Conv2D, MaxPooling2D\n",
        "import os\n",
        "!pip install visualkeras\n"
      ],
      "metadata": {
        "_uuid": "8f2839f25d086af736a60e9eeb907d3b93b6e0e5",
        "_cell_guid": "b1076dfc-b9ad-4769-8c92-a6c4dae69d19",
        "execution": {
          "iopub.status.busy": "2022-05-16T10:29:56.247120Z",
          "iopub.execute_input": "2022-05-16T10:29:56.248056Z",
          "iopub.status.idle": "2022-05-16T10:30:10.981777Z",
          "shell.execute_reply.started": "2022-05-16T10:29:56.247940Z",
          "shell.execute_reply": "2022-05-16T10:30:10.980339Z"
        },
        "trusted": true,
        "colab": {
          "base_uri": "https://localhost:8080/"
        },
        "id": "V2gtSoSTfV64",
        "outputId": "b07b50f5-0a39-475d-d6eb-f41140569d1c"
      },
      "execution_count": 3,
      "outputs": [
        {
          "output_type": "stream",
          "name": "stdout",
          "text": [
            "Collecting visualkeras\n",
            "  Downloading visualkeras-0.0.2-py3-none-any.whl (12 kB)\n",
            "Collecting aggdraw>=1.3.11\n",
            "  Downloading aggdraw-1.3.14-cp37-cp37m-manylinux_2_17_x86_64.manylinux2014_x86_64.whl (992 kB)\n",
            "\u001b[K     |████████████████████████████████| 992 kB 7.2 MB/s \n",
            "\u001b[?25hRequirement already satisfied: pillow>=6.2.0 in /usr/local/lib/python3.7/dist-packages (from visualkeras) (7.1.2)\n",
            "Requirement already satisfied: numpy>=1.18.1 in /usr/local/lib/python3.7/dist-packages (from visualkeras) (1.21.6)\n",
            "Installing collected packages: aggdraw, visualkeras\n",
            "Successfully installed aggdraw-1.3.14 visualkeras-0.0.2\n"
          ]
        }
      ]
    },
    {
      "cell_type": "code",
      "source": [
        "labels = ['Lung_Opacity','COVID','Normal','Viral Pneumonia']"
      ],
      "metadata": {
        "execution": {
          "iopub.status.busy": "2022-05-16T10:30:10.988236Z",
          "iopub.execute_input": "2022-05-16T10:30:10.988518Z",
          "iopub.status.idle": "2022-05-16T10:30:10.994693Z",
          "shell.execute_reply.started": "2022-05-16T10:30:10.988485Z",
          "shell.execute_reply": "2022-05-16T10:30:10.993668Z"
        },
        "trusted": true,
        "id": "Sa218H4qfV67"
      },
      "execution_count": 4,
      "outputs": []
    },
    {
      "cell_type": "code",
      "source": [
        "X = []\n",
        "y = []\n",
        "image_size = 28\n",
        "for i in labels:\n",
        "    folderPath = os.path.join('/content/drive/MyDrive/tezz3/COVID-19_Radiography_Dataset_masked',i)\n",
        "    for j in tqdm(os.listdir(folderPath)):\n",
        "        img = cv2.imread(os.path.join(folderPath,j))\n",
        "        img = cv2.resize(img,(image_size, image_size))\n",
        "        X.append(img)\n",
        "        y.append(i)\n",
        "\n",
        "        \n",
        "X = np.array(X)\n",
        "y = np.array(y)"
      ],
      "metadata": {
        "execution": {
          "iopub.status.busy": "2022-05-16T10:30:10.996430Z",
          "iopub.execute_input": "2022-05-16T10:30:10.996790Z",
          "iopub.status.idle": "2022-05-16T10:31:01.973887Z",
          "shell.execute_reply.started": "2022-05-16T10:30:10.996753Z",
          "shell.execute_reply": "2022-05-16T10:31:01.972633Z"
        },
        "trusted": true,
        "colab": {
          "base_uri": "https://localhost:8080/"
        },
        "id": "63V3SmjRfV68",
        "outputId": "e17e6bc4-b153-496c-b7f5-8ba2508a3dd4"
      },
      "execution_count": 5,
      "outputs": [
        {
          "output_type": "stream",
          "name": "stderr",
          "text": [
            "100%|██████████| 6012/6012 [02:44<00:00, 36.57it/s] \n",
            "100%|██████████| 3616/3616 [01:31<00:00, 39.37it/s] \n",
            "100%|██████████| 10192/10192 [04:31<00:00, 37.50it/s] \n",
            "100%|██████████| 1345/1345 [00:29<00:00, 46.12it/s] \n"
          ]
        }
      ]
    },
    {
      "cell_type": "code",
      "source": [
        "from imblearn.over_sampling import RandomOverSampler\n",
        "reshaped_X = X.reshape(X.shape[0],-1)\n",
        "\n",
        "#oversampling\n",
        "oversample = RandomOverSampler()\n",
        "oversampled_X, oversampled_y  = oversample.fit_resample(reshaped_X , y)\n",
        "\n",
        "# reshaping X back to the first dims\n",
        "new_X = oversampled_X.reshape(-1,28,28,3)\n",
        "oversampled_y"
      ],
      "metadata": {
        "execution": {
          "iopub.status.busy": "2022-05-16T10:31:01.977289Z",
          "iopub.execute_input": "2022-05-16T10:31:01.977720Z",
          "iopub.status.idle": "2022-05-16T10:31:02.192595Z",
          "shell.execute_reply.started": "2022-05-16T10:31:01.977669Z",
          "shell.execute_reply": "2022-05-16T10:31:02.191617Z"
        },
        "trusted": true,
        "colab": {
          "base_uri": "https://localhost:8080/"
        },
        "id": "NaBb3I8BfV69",
        "outputId": "70a999f5-0afd-4f8f-92a8-9b89e4e877cb"
      },
      "execution_count": 6,
      "outputs": [
        {
          "output_type": "execute_result",
          "data": {
            "text/plain": [
              "array(['Lung_Opacity', 'Lung_Opacity', 'Lung_Opacity', ...,\n",
              "       'Viral Pneumonia', 'Viral Pneumonia', 'Viral Pneumonia'],\n",
              "      dtype='<U15')"
            ]
          },
          "metadata": {},
          "execution_count": 6
        }
      ]
    },
    {
      "cell_type": "code",
      "source": [
        "train_images, test_images,train_labels, test_labels = train_test_split(new_X , oversampled_y , test_size=0.25, random_state=42,shuffle=True)"
      ],
      "metadata": {
        "execution": {
          "iopub.status.busy": "2022-05-16T10:31:02.193973Z",
          "iopub.execute_input": "2022-05-16T10:31:02.194324Z",
          "iopub.status.idle": "2022-05-16T10:31:02.240031Z",
          "shell.execute_reply.started": "2022-05-16T10:31:02.194289Z",
          "shell.execute_reply": "2022-05-16T10:31:02.238681Z"
        },
        "trusted": true,
        "id": "ySRirvOefV69"
      },
      "execution_count": 7,
      "outputs": []
    },
    {
      "cell_type": "code",
      "source": [
        "train_images=train_images[:5000]\n",
        "test_images=test_images[:5000]\n",
        "train_labels=train_labels[:5000]\n",
        "test_labels=test_labels[:5000]"
      ],
      "metadata": {
        "execution": {
          "iopub.status.busy": "2022-05-16T10:31:02.241384Z",
          "iopub.execute_input": "2022-05-16T10:31:02.241648Z",
          "iopub.status.idle": "2022-05-16T10:31:02.247351Z",
          "shell.execute_reply.started": "2022-05-16T10:31:02.241616Z",
          "shell.execute_reply": "2022-05-16T10:31:02.246166Z"
        },
        "trusted": true,
        "id": "jOcIcc2EfV6-"
      },
      "execution_count": 8,
      "outputs": []
    },
    {
      "cell_type": "code",
      "source": [
        "plt.figure(figsize = (17,8));\n",
        "lis = ['Train', 'Test']\n",
        "for i,j in enumerate([train_labels, test_labels]):\n",
        "    plt.subplot(1,2, i+1);\n",
        "    sns.countplot(x = j);\n",
        "    plt.xlabel(lis[i])"
      ],
      "metadata": {
        "execution": {
          "iopub.status.busy": "2022-05-16T10:31:02.248802Z",
          "iopub.execute_input": "2022-05-16T10:31:02.249063Z",
          "iopub.status.idle": "2022-05-16T10:31:02.607141Z",
          "shell.execute_reply.started": "2022-05-16T10:31:02.249034Z",
          "shell.execute_reply": "2022-05-16T10:31:02.606407Z"
        },
        "trusted": true,
        "colab": {
          "base_uri": "https://localhost:8080/",
          "height": 498
        },
        "id": "UXM86DmifV6-",
        "outputId": "070b1799-68c2-4de2-d181-39d9f22f5a59"
      },
      "execution_count": 9,
      "outputs": [
        {
          "output_type": "display_data",
          "data": {
            "text/plain": [
              "<Figure size 1224x576 with 2 Axes>"
            ],
            "image/png": "[encoded data removed]"
          },
          "metadata": {
            "needs_background": "light"
          }
        }
      ]
    },
    {
      "cell_type": "code",
      "source": [
        "train_images = train_images / 255.0\n",
        "test_images = test_images / 255.0"
      ],
      "metadata": {
        "execution": {
          "iopub.status.busy": "2022-05-16T10:31:02.608203Z",
          "iopub.execute_input": "2022-05-16T10:31:02.609199Z",
          "iopub.status.idle": "2022-05-16T10:31:02.685652Z",
          "shell.execute_reply.started": "2022-05-16T10:31:02.609155Z",
          "shell.execute_reply": "2022-05-16T10:31:02.684631Z"
        },
        "trusted": true,
        "id": "be4E2kcPfV7A"
      },
      "execution_count": 10,
      "outputs": []
    },
    {
      "cell_type": "code",
      "source": [
        "from sklearn import preprocessing\n",
        "le = preprocessing.LabelEncoder()\n",
        "le.fit(test_labels)\n",
        "test_labels_encoded = le.transform(test_labels)\n",
        "le.fit(train_labels)\n",
        "train_labels_encoded = le.transform(train_labels)"
      ],
      "metadata": {
        "execution": {
          "iopub.status.busy": "2022-05-16T10:31:02.687276Z",
          "iopub.execute_input": "2022-05-16T10:31:02.687596Z",
          "iopub.status.idle": "2022-05-16T10:31:02.705912Z",
          "shell.execute_reply.started": "2022-05-16T10:31:02.687537Z",
          "shell.execute_reply": "2022-05-16T10:31:02.704667Z"
        },
        "trusted": true,
        "id": "r3s-NHdQfV7B"
      },
      "execution_count": 11,
      "outputs": []
    },
    {
      "cell_type": "code",
      "source": [
        "#Split data into test and train datasets (already split but assigning to meaningful convention)\n",
        "x_train, y_train, x_test, y_test = train_images, train_labels_encoded, test_images, test_labels_encoded"
      ],
      "metadata": {
        "execution": {
          "iopub.status.busy": "2022-05-16T10:31:02.707823Z",
          "iopub.execute_input": "2022-05-16T10:31:02.708111Z",
          "iopub.status.idle": "2022-05-16T10:31:02.713183Z",
          "shell.execute_reply.started": "2022-05-16T10:31:02.708079Z",
          "shell.execute_reply": "2022-05-16T10:31:02.711881Z"
        },
        "trusted": true,
        "id": "Dplw8ucSfV7C"
      },
      "execution_count": 12,
      "outputs": []
    },
    {
      "cell_type": "code",
      "source": [
        "#One hot encode y values for neural network. \n",
        "from tensorflow.keras.utils import to_categorical\n",
        "y_train_one_hot = to_categorical(y_train)\n",
        "y_test_one_hot = to_categorical(y_test)"
      ],
      "metadata": {
        "execution": {
          "iopub.status.busy": "2022-05-16T10:31:02.715201Z",
          "iopub.execute_input": "2022-05-16T10:31:02.715625Z",
          "iopub.status.idle": "2022-05-16T10:31:02.732073Z",
          "shell.execute_reply.started": "2022-05-16T10:31:02.715577Z",
          "shell.execute_reply": "2022-05-16T10:31:02.731003Z"
        },
        "trusted": true,
        "id": "TX0kpF-zfV7C"
      },
      "execution_count": 13,
      "outputs": []
    },
    {
      "cell_type": "code",
      "source": [
        "def build_model(hp):\n",
        "    # create model object\n",
        "    model = keras.Sequential([\n",
        "   \n",
        "    keras.layers.Conv2D(filters=hp.Int('conv_1_filter', min_value=32, max_value=128, step=16),kernel_size=hp.Choice('conv_1_kernel', values = [3,5]),activation='relu',input_shape=(28,28,3)),\n",
        "    keras.layers.Conv2D(filters=hp.Int('conv_2_filter', min_value=32, max_value=64, step=16),kernel_size=hp.Choice('conv_2_kernel', values = [3,5]),activation='relu'),\n",
        "    keras.layers.Conv2D(filters=hp.Int('conv_2_filter', min_value=16, max_value=128, step=16),kernel_size=hp.Choice('conv_2_kernel', values = [3,5]),activation='relu'),\n",
        "    keras.layers.Conv2D(filters=hp.Int('conv_2_filter', min_value=8, max_value=128, step=16),kernel_size=hp.Choice('conv_2_kernel', values = [3,5]),activation='relu'),\n",
        "    keras.layers.Conv2D(filters=hp.Int('conv_2_filter', min_value=16, max_value=128, step=16),kernel_size=hp.Choice('conv_2_kernel', values = [3,5]),activation='relu'),\n",
        "        \n",
        "    \n",
        "    keras.layers.Flatten(),\n",
        "    keras.layers.Dense(units=hp.Int('dense_1_units', min_value=32, max_value=128, step=16),activation='relu'),\n",
        "    keras.layers.Dense(4, activation='softmax')])\n",
        "    \n",
        "\n",
        "    #compilation of model\n",
        "    model.compile(optimizer=\"adam\",\n",
        "              loss='sparse_categorical_crossentropy',\n",
        "              metrics=['accuracy'])\n",
        "    return model"
      ],
      "metadata": {
        "execution": {
          "iopub.status.busy": "2022-05-16T10:44:56.827585Z",
          "iopub.execute_input": "2022-05-16T10:44:56.827994Z",
          "iopub.status.idle": "2022-05-16T10:44:56.845148Z",
          "shell.execute_reply.started": "2022-05-16T10:44:56.827952Z",
          "shell.execute_reply": "2022-05-16T10:44:56.844099Z"
        },
        "trusted": true,
        "id": "OoDf1clVfV7D"
      },
      "execution_count": 14,
      "outputs": []
    },
    {
      "cell_type": "code",
      "source": [
        "!pip install keras-tuner"
      ],
      "metadata": {
        "colab": {
          "base_uri": "https://localhost:8080/"
        },
        "id": "mhKnqstbiki0",
        "outputId": "fae85a0c-5de6-418c-8626-d23eb5ecddd4"
      },
      "execution_count": 17,
      "outputs": [
        {
          "output_type": "stream",
          "name": "stdout",
          "text": [
            "Collecting keras-tuner\n",
            "  Downloading keras_tuner-1.1.2-py3-none-any.whl (133 kB)\n",
            "\u001b[?25l\r\u001b[K     |██▌                             | 10 kB 16.5 MB/s eta 0:00:01\r\u001b[K     |█████                           | 20 kB 4.8 MB/s eta 0:00:01\r\u001b[K     |███████▍                        | 30 kB 6.6 MB/s eta 0:00:01\r\u001b[K     |█████████▉                      | 40 kB 8.2 MB/s eta 0:00:01\r\u001b[K     |████████████▎                   | 51 kB 9.7 MB/s eta 0:00:01\r\u001b[K     |██████████████▊                 | 61 kB 11.2 MB/s eta 0:00:01\r\u001b[K     |█████████████████▏              | 71 kB 12.3 MB/s eta 0:00:01\r\u001b[K     |███████████████████▋            | 81 kB 6.2 MB/s eta 0:00:01\r\u001b[K     |██████████████████████          | 92 kB 6.8 MB/s eta 0:00:01\r\u001b[K     |████████████████████████▌       | 102 kB 7.4 MB/s eta 0:00:01\r\u001b[K     |███████████████████████████     | 112 kB 7.4 MB/s eta 0:00:01\r\u001b[K     |█████████████████████████████▍  | 122 kB 7.4 MB/s eta 0:00:01\r\u001b[K     |███████████████████████████████▉| 133 kB 7.4 MB/s eta 0:00:01\r\u001b[K     |████████████████████████████████| 133 kB 7.4 MB/s \n",
            "\u001b[?25hRequirement already satisfied: tensorboard in /usr/local/lib/python3.7/dist-packages (from keras-tuner) (2.8.0)\n",
            "Requirement already satisfied: ipython in /usr/local/lib/python3.7/dist-packages (from keras-tuner) (5.5.0)\n",
            "Requirement already satisfied: requests in /usr/local/lib/python3.7/dist-packages (from keras-tuner) (2.23.0)\n",
            "Requirement already satisfied: packaging in /usr/local/lib/python3.7/dist-packages (from keras-tuner) (21.3)\n",
            "Collecting kt-legacy\n",
            "  Downloading kt_legacy-1.0.4-py3-none-any.whl (9.6 kB)\n",
            "Requirement already satisfied: numpy in /usr/local/lib/python3.7/dist-packages (from keras-tuner) (1.21.6)\n",
            "Requirement already satisfied: prompt-toolkit<2.0.0,>=1.0.4 in /usr/local/lib/python3.7/dist-packages (from ipython->keras-tuner) (1.0.18)\n",
            "Requirement already satisfied: simplegeneric>0.8 in /usr/local/lib/python3.7/dist-packages (from ipython->keras-tuner) (0.8.1)\n",
            "Requirement already satisfied: pexpect in /usr/local/lib/python3.7/dist-packages (from ipython->keras-tuner) (4.8.0)\n",
            "Requirement already satisfied: traitlets>=4.2 in /usr/local/lib/python3.7/dist-packages (from ipython->keras-tuner) (5.1.1)\n",
            "Requirement already satisfied: pygments in /usr/local/lib/python3.7/dist-packages (from ipython->keras-tuner) (2.6.1)\n",
            "Requirement already satisfied: decorator in /usr/local/lib/python3.7/dist-packages (from ipython->keras-tuner) (4.4.2)\n",
            "Requirement already satisfied: setuptools>=18.5 in /usr/local/lib/python3.7/dist-packages (from ipython->keras-tuner) (57.4.0)\n",
            "Requirement already satisfied: pickleshare in /usr/local/lib/python3.7/dist-packages (from ipython->keras-tuner) (0.7.5)\n",
            "Requirement already satisfied: wcwidth in /usr/local/lib/python3.7/dist-packages (from prompt-toolkit<2.0.0,>=1.0.4->ipython->keras-tuner) (0.2.5)\n",
            "Requirement already satisfied: six>=1.9.0 in /usr/local/lib/python3.7/dist-packages (from prompt-toolkit<2.0.0,>=1.0.4->ipython->keras-tuner) (1.15.0)\n",
            "Requirement already satisfied: pyparsing!=3.0.5,>=2.0.2 in /usr/local/lib/python3.7/dist-packages (from packaging->keras-tuner) (3.0.8)\n",
            "Requirement already satisfied: ptyprocess>=0.5 in /usr/local/lib/python3.7/dist-packages (from pexpect->ipython->keras-tuner) (0.7.0)\n",
            "Requirement already satisfied: urllib3!=1.25.0,!=1.25.1,<1.26,>=1.21.1 in /usr/local/lib/python3.7/dist-packages (from requests->keras-tuner) (1.24.3)\n",
            "Requirement already satisfied: idna<3,>=2.5 in /usr/local/lib/python3.7/dist-packages (from requests->keras-tuner) (2.10)\n",
            "Requirement already satisfied: certifi>=2017.4.17 in /usr/local/lib/python3.7/dist-packages (from requests->keras-tuner) (2021.10.8)\n",
            "Requirement already satisfied: chardet<4,>=3.0.2 in /usr/local/lib/python3.7/dist-packages (from requests->keras-tuner) (3.0.4)\n",
            "Requirement already satisfied: absl-py>=0.4 in /usr/local/lib/python3.7/dist-packages (from tensorboard->keras-tuner) (1.0.0)\n",
            "Requirement already satisfied: grpcio>=1.24.3 in /usr/local/lib/python3.7/dist-packages (from tensorboard->keras-tuner) (1.44.0)\n",
            "Requirement already satisfied: google-auth<3,>=1.6.3 in /usr/local/lib/python3.7/dist-packages (from tensorboard->keras-tuner) (1.35.0)\n",
            "Requirement already satisfied: google-auth-oauthlib<0.5,>=0.4.1 in /usr/local/lib/python3.7/dist-packages (from tensorboard->keras-tuner) (0.4.6)\n",
            "Requirement already satisfied: tensorboard-data-server<0.7.0,>=0.6.0 in /usr/local/lib/python3.7/dist-packages (from tensorboard->keras-tuner) (0.6.1)\n",
            "Requirement already satisfied: protobuf>=3.6.0 in /usr/local/lib/python3.7/dist-packages (from tensorboard->keras-tuner) (3.17.3)\n",
            "Requirement already satisfied: tensorboard-plugin-wit>=1.6.0 in /usr/local/lib/python3.7/dist-packages (from tensorboard->keras-tuner) (1.8.1)\n",
            "Requirement already satisfied: werkzeug>=0.11.15 in /usr/local/lib/python3.7/dist-packages (from tensorboard->keras-tuner) (1.0.1)\n",
            "Requirement already satisfied: wheel>=0.26 in /usr/local/lib/python3.7/dist-packages (from tensorboard->keras-tuner) (0.37.1)\n",
            "Requirement already satisfied: markdown>=2.6.8 in /usr/local/lib/python3.7/dist-packages (from tensorboard->keras-tuner) (3.3.6)\n",
            "Requirement already satisfied: cachetools<5.0,>=2.0.0 in /usr/local/lib/python3.7/dist-packages (from google-auth<3,>=1.6.3->tensorboard->keras-tuner) (4.2.4)\n",
            "Requirement already satisfied: pyasn1-modules>=0.2.1 in /usr/local/lib/python3.7/dist-packages (from google-auth<3,>=1.6.3->tensorboard->keras-tuner) (0.2.8)\n",
            "Requirement already satisfied: rsa<5,>=3.1.4 in /usr/local/lib/python3.7/dist-packages (from google-auth<3,>=1.6.3->tensorboard->keras-tuner) (4.8)\n",
            "Requirement already satisfied: requests-oauthlib>=0.7.0 in /usr/local/lib/python3.7/dist-packages (from google-auth-oauthlib<0.5,>=0.4.1->tensorboard->keras-tuner) (1.3.1)\n",
            "Requirement already satisfied: importlib-metadata>=4.4 in /usr/local/lib/python3.7/dist-packages (from markdown>=2.6.8->tensorboard->keras-tuner) (4.11.3)\n",
            "Requirement already satisfied: zipp>=0.5 in /usr/local/lib/python3.7/dist-packages (from importlib-metadata>=4.4->markdown>=2.6.8->tensorboard->keras-tuner) (3.8.0)\n",
            "Requirement already satisfied: typing-extensions>=3.6.4 in /usr/local/lib/python3.7/dist-packages (from importlib-metadata>=4.4->markdown>=2.6.8->tensorboard->keras-tuner) (4.2.0)\n",
            "Requirement already satisfied: pyasn1<0.5.0,>=0.4.6 in /usr/local/lib/python3.7/dist-packages (from pyasn1-modules>=0.2.1->google-auth<3,>=1.6.3->tensorboard->keras-tuner) (0.4.8)\n",
            "Requirement already satisfied: oauthlib>=3.0.0 in /usr/local/lib/python3.7/dist-packages (from requests-oauthlib>=0.7.0->google-auth-oauthlib<0.5,>=0.4.1->tensorboard->keras-tuner) (3.2.0)\n",
            "Installing collected packages: kt-legacy, keras-tuner\n",
            "Successfully installed keras-tuner-1.1.2 kt-legacy-1.0.4\n"
          ]
        }
      ]
    },
    {
      "cell_type": "code",
      "source": [
        "#importing random search\n",
        "from kerastuner import RandomSearch\n",
        "#creating randomsearch object\n",
        "tuner = RandomSearch(build_model,\n",
        "                    objective='val_accuracy',\n",
        "                    max_trials = 5)\n",
        "tuner.search(x_train,y_train,epochs=2,validation_data=(x_test,y_test))"
      ],
      "metadata": {
        "execution": {
          "iopub.status.busy": "2022-05-16T10:45:17.730745Z",
          "iopub.execute_input": "2022-05-16T10:45:17.731368Z",
          "iopub.status.idle": "2022-05-16T10:47:56.202502Z",
          "shell.execute_reply.started": "2022-05-16T10:45:17.731322Z",
          "shell.execute_reply": "2022-05-16T10:47:56.201533Z"
        },
        "trusted": true,
        "colab": {
          "base_uri": "https://localhost:8080/"
        },
        "id": "mXkkrm8wfV7E",
        "outputId": "c62260b3-5618-45a5-ae16-598859ecd784"
      },
      "execution_count": 19,
      "outputs": [
        {
          "output_type": "stream",
          "name": "stdout",
          "text": [
            "Trial 5 Complete [00h 03m 22s]\n",
            "val_accuracy: 0.6646000146865845\n",
            "\n",
            "Best val_accuracy So Far: 0.6952000260353088\n",
            "Total elapsed time: 00h 14m 28s\n",
            "INFO:tensorflow:Oracle triggered exit\n"
          ]
        }
      ]
    },
    {
      "cell_type": "code",
      "source": [
        "tuner.search_space_summary()"
      ],
      "metadata": {
        "execution": {
          "iopub.status.busy": "2022-05-16T10:47:56.204395Z",
          "iopub.execute_input": "2022-05-16T10:47:56.204670Z",
          "iopub.status.idle": "2022-05-16T10:47:56.212134Z",
          "shell.execute_reply.started": "2022-05-16T10:47:56.204636Z",
          "shell.execute_reply": "2022-05-16T10:47:56.211446Z"
        },
        "trusted": true,
        "colab": {
          "base_uri": "https://localhost:8080/"
        },
        "id": "1nGxaKFCfV7F",
        "outputId": "dc10e05a-245c-4ec0-c6f7-0ee2fdd33c68"
      },
      "execution_count": 20,
      "outputs": [
        {
          "output_type": "stream",
          "name": "stdout",
          "text": [
            "Search space summary\n",
            "Default search space size: 5\n",
            "conv_1_filter (Int)\n",
            "{'default': None, 'conditions': [], 'min_value': 32, 'max_value': 128, 'step': 16, 'sampling': None}\n",
            "conv_1_kernel (Choice)\n",
            "{'default': 3, 'conditions': [], 'values': [3, 5], 'ordered': True}\n",
            "conv_2_filter (Int)\n",
            "{'default': None, 'conditions': [], 'min_value': 32, 'max_value': 64, 'step': 16, 'sampling': None}\n",
            "conv_2_kernel (Choice)\n",
            "{'default': 3, 'conditions': [], 'values': [3, 5], 'ordered': True}\n",
            "dense_1_units (Int)\n",
            "{'default': None, 'conditions': [], 'min_value': 32, 'max_value': 128, 'step': 16, 'sampling': None}\n"
          ]
        }
      ]
    },
    {
      "cell_type": "code",
      "source": [
        "model=tuner.get_best_models(num_models=1)[0]\n",
        "#summary of best model\n",
        "model.summary()"
      ],
      "metadata": {
        "execution": {
          "iopub.status.busy": "2022-05-16T10:47:56.621751Z",
          "iopub.execute_input": "2022-05-16T10:47:56.622111Z",
          "iopub.status.idle": "2022-05-16T10:47:57.000751Z",
          "shell.execute_reply.started": "2022-05-16T10:47:56.622065Z",
          "shell.execute_reply": "2022-05-16T10:47:56.999743Z"
        },
        "trusted": true,
        "colab": {
          "base_uri": "https://localhost:8080/"
        },
        "id": "zBg4CdfSfV7F",
        "outputId": "fd32a39f-e427-427f-98f9-2f7e336d08d4"
      },
      "execution_count": 21,
      "outputs": [
        {
          "output_type": "stream",
          "name": "stdout",
          "text": [
            "Model: \"sequential\"\n",
            "_________________________________________________________________\n",
            " Layer (type)                Output Shape              Param #   \n",
            "=================================================================\n",
            " conv2d (Conv2D)             (None, 26, 26, 112)       3136      \n",
            "                                                                 \n",
            " conv2d_1 (Conv2D)           (None, 24, 24, 48)        48432     \n",
            "                                                                 \n",
            " conv2d_2 (Conv2D)           (None, 22, 22, 48)        20784     \n",
            "                                                                 \n",
            " conv2d_3 (Conv2D)           (None, 20, 20, 48)        20784     \n",
            "                                                                 \n",
            " conv2d_4 (Conv2D)           (None, 18, 18, 48)        20784     \n",
            "                                                                 \n",
            " flatten (Flatten)           (None, 15552)             0         \n",
            "                                                                 \n",
            " dense (Dense)               (None, 64)                995392    \n",
            "                                                                 \n",
            " dense_1 (Dense)             (None, 4)                 260       \n",
            "                                                                 \n",
            "=================================================================\n",
            "Total params: 1,109,572\n",
            "Trainable params: 1,109,572\n",
            "Non-trainable params: 0\n",
            "_________________________________________________________________\n"
          ]
        }
      ]
    },
    {
      "cell_type": "code",
      "source": [
        "#history=model.fit(x_train,y_train,epochs=5,validation_split=0.1,initial_epoch=3)"
      ],
      "metadata": {
        "execution": {
          "iopub.status.busy": "2022-05-16T10:48:31.429146Z",
          "iopub.execute_input": "2022-05-16T10:48:31.430715Z",
          "iopub.status.idle": "2022-05-16T10:48:31.437513Z",
          "shell.execute_reply.started": "2022-05-16T10:48:31.430634Z",
          "shell.execute_reply": "2022-05-16T10:48:31.436338Z"
        },
        "trusted": true,
        "id": "lEZXZwibfV7G"
      },
      "execution_count": null,
      "outputs": []
    },
    {
      "cell_type": "code",
      "source": [
        "new_model = tf.keras.models.Sequential(model.layers[:-2])"
      ],
      "metadata": {
        "execution": {
          "iopub.status.busy": "2022-05-16T10:49:06.226055Z",
          "iopub.execute_input": "2022-05-16T10:49:06.226454Z",
          "iopub.status.idle": "2022-05-16T10:49:06.275274Z",
          "shell.execute_reply.started": "2022-05-16T10:49:06.226410Z",
          "shell.execute_reply": "2022-05-16T10:49:06.274012Z"
        },
        "trusted": true,
        "id": "KsVTbFcufV7G"
      },
      "execution_count": 22,
      "outputs": []
    },
    {
      "cell_type": "code",
      "source": [
        "new_model.summary()"
      ],
      "metadata": {
        "execution": {
          "iopub.status.busy": "2022-05-16T10:49:16.016736Z",
          "iopub.execute_input": "2022-05-16T10:49:16.017133Z",
          "iopub.status.idle": "2022-05-16T10:49:16.027060Z",
          "shell.execute_reply.started": "2022-05-16T10:49:16.017090Z",
          "shell.execute_reply": "2022-05-16T10:49:16.026198Z"
        },
        "trusted": true,
        "colab": {
          "base_uri": "https://localhost:8080/"
        },
        "id": "Oq8HPghxfV7H",
        "outputId": "dd6ec22d-4b3c-4c79-9c8a-dce5daad5a23"
      },
      "execution_count": 23,
      "outputs": [
        {
          "output_type": "stream",
          "name": "stdout",
          "text": [
            "Model: \"sequential_1\"\n",
            "_________________________________________________________________\n",
            " Layer (type)                Output Shape              Param #   \n",
            "=================================================================\n",
            " conv2d (Conv2D)             (None, 26, 26, 112)       3136      \n",
            "                                                                 \n",
            " conv2d_1 (Conv2D)           (None, 24, 24, 48)        48432     \n",
            "                                                                 \n",
            " conv2d_2 (Conv2D)           (None, 22, 22, 48)        20784     \n",
            "                                                                 \n",
            " conv2d_3 (Conv2D)           (None, 20, 20, 48)        20784     \n",
            "                                                                 \n",
            " conv2d_4 (Conv2D)           (None, 18, 18, 48)        20784     \n",
            "                                                                 \n",
            " flatten (Flatten)           (None, 15552)             0         \n",
            "                                                                 \n",
            "=================================================================\n",
            "Total params: 113,920\n",
            "Trainable params: 113,920\n",
            "Non-trainable params: 0\n",
            "_________________________________________________________________\n"
          ]
        }
      ]
    },
    {
      "cell_type": "code",
      "source": [
        ""
      ],
      "metadata": {
        "id": "ekAQLhVpfV7H"
      },
      "execution_count": null,
      "outputs": []
    },
    {
      "cell_type": "code",
      "source": [
        ""
      ],
      "metadata": {
        "id": "dT1RM26FfV7H"
      },
      "execution_count": null,
      "outputs": []
    },
    {
      "cell_type": "code",
      "source": [
        ""
      ],
      "metadata": {
        "id": "wtyCETfrfV7I"
      },
      "execution_count": null,
      "outputs": []
    },
    {
      "cell_type": "code",
      "source": [
        ""
      ],
      "metadata": {
        "id": "yz3DzvAWfV7I"
      },
      "execution_count": null,
      "outputs": []
    },
    {
      "cell_type": "code",
      "source": [
        ""
      ],
      "metadata": {
        "id": "sXfuGLrofV7I"
      },
      "execution_count": null,
      "outputs": []
    },
    {
      "cell_type": "code",
      "source": [
        ""
      ],
      "metadata": {
        "id": "OS0L2iA8fV7I"
      },
      "execution_count": null,
      "outputs": []
    },
    {
      "cell_type": "code",
      "source": [
        "# plot the loss\n",
        "import matplotlib.pyplot as plt\n",
        "plt.plot(history.history['loss'], label='train loss')\n",
        "plt.plot(history.history['val_loss'], label='val loss')\n",
        "plt.legend()\n",
        "plt.show()\n",
        "plt.savefig('LossVal_loss')\n",
        "\n",
        "# plot the accuracy\n",
        "plt.plot(history.history['accuracy'], label='train acc')\n",
        "plt.plot(history.history['val_accuracy'], label='val acc')\n",
        "plt.legend()\n",
        "plt.show()"
      ],
      "metadata": {
        "execution": {
          "iopub.status.busy": "2022-05-16T10:31:03.790914Z",
          "iopub.status.idle": "2022-05-16T10:31:03.791470Z",
          "shell.execute_reply.started": "2022-05-16T10:31:03.791157Z",
          "shell.execute_reply": "2022-05-16T10:31:03.791207Z"
        },
        "trusted": true,
        "id": "u6UWc_y8fV7J"
      },
      "execution_count": null,
      "outputs": []
    },
    {
      "cell_type": "code",
      "source": [
        "pred = model.predict(x_test)\n",
        "pred = np.argmax(pred,axis=1)"
      ],
      "metadata": {
        "execution": {
          "iopub.status.busy": "2022-05-16T10:31:03.792920Z",
          "iopub.status.idle": "2022-05-16T10:31:03.793448Z",
          "shell.execute_reply.started": "2022-05-16T10:31:03.793159Z",
          "shell.execute_reply": "2022-05-16T10:31:03.793197Z"
        },
        "trusted": true,
        "id": "OMOGSvJjfV7J"
      },
      "execution_count": null,
      "outputs": []
    },
    {
      "cell_type": "code",
      "source": [
        "from sklearn.metrics import classification_report\n",
        "\n",
        "print(classification_report(y_test,pred))"
      ],
      "metadata": {
        "execution": {
          "iopub.status.busy": "2022-05-16T10:31:03.795168Z",
          "iopub.status.idle": "2022-05-16T10:31:03.795732Z",
          "shell.execute_reply.started": "2022-05-16T10:31:03.795423Z",
          "shell.execute_reply": "2022-05-16T10:31:03.795453Z"
        },
        "trusted": true,
        "id": "QirpghSQfV7J"
      },
      "execution_count": null,
      "outputs": []
    },
    {
      "cell_type": "code",
      "source": [
        "#new_model = tf.keras.models.Sequential(model.layers[:-1])"
      ],
      "metadata": {
        "execution": {
          "iopub.status.busy": "2022-05-16T10:31:03.800905Z",
          "iopub.status.idle": "2022-05-16T10:31:03.801333Z",
          "shell.execute_reply.started": "2022-05-16T10:31:03.801117Z",
          "shell.execute_reply": "2022-05-16T10:31:03.801136Z"
        },
        "trusted": true,
        "id": "CQtlKvjRfV7K"
      },
      "execution_count": null,
      "outputs": []
    },
    {
      "cell_type": "code",
      "source": [
        "#new_model.summary()"
      ],
      "metadata": {
        "execution": {
          "iopub.status.busy": "2022-05-16T10:31:03.802556Z",
          "iopub.status.idle": "2022-05-16T10:31:03.803964Z",
          "shell.execute_reply.started": "2022-05-16T10:31:03.803669Z",
          "shell.execute_reply": "2022-05-16T10:31:03.803707Z"
        },
        "trusted": true,
        "id": "5AZSNq1afV7K"
      },
      "execution_count": null,
      "outputs": []
    },
    {
      "cell_type": "code",
      "source": [
        ""
      ],
      "metadata": {
        "id": "p2zw3e0JfV7K"
      },
      "execution_count": null,
      "outputs": []
    },
    {
      "cell_type": "code",
      "source": [
        ""
      ],
      "metadata": {
        "id": "TZiM3GwQfV7L"
      },
      "execution_count": null,
      "outputs": []
    },
    {
      "cell_type": "code",
      "source": [
        ""
      ],
      "metadata": {
        "id": "KmyA2R80fV7L"
      },
      "execution_count": null,
      "outputs": []
    }
  ]
}